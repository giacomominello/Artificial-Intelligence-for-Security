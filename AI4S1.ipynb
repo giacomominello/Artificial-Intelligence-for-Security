{
  "nbformat": 4,
  "nbformat_minor": 0,
  "metadata": {
    "kernelspec": {
      "display_name": "Python 3",
      "language": "python",
      "name": "python3"
    },
    "language_info": {
      "codemirror_mode": {
        "name": "ipython",
        "version": 3
      },
      "file_extension": ".py",
      "mimetype": "text/x-python",
      "name": "python",
      "nbconvert_exporter": "python",
      "pygments_lexer": "ipython3",
      "version": "3.7.4"
    },
    "colab": {
      "name": "AI4S1.ipynb",
      "provenance": [],
      "collapsed_sections": [
        "PGITLdtJ_wq0"
      ],
      "machine_shape": "hm",
      "include_colab_link": true
    },
    "widgets": {
      "application/vnd.jupyter.widget-state+json": {
        "a4f252a925b241a29bbf732167743b98": {
          "model_module": "@jupyter-widgets/controls",
          "model_name": "VBoxModel",
          "state": {
            "_view_name": "VBoxView",
            "_dom_classes": [
              "widget-interact"
            ],
            "_model_name": "VBoxModel",
            "_view_module": "@jupyter-widgets/controls",
            "_model_module_version": "1.5.0",
            "_view_count": null,
            "_view_module_version": "1.5.0",
            "box_style": "",
            "layout": "IPY_MODEL_6d185a9a416f4341bacb2dc7801a571d",
            "_model_module": "@jupyter-widgets/controls",
            "children": [
              "IPY_MODEL_293cc1240e7644b9bbe7af3d7d6a07ce",
              "IPY_MODEL_6871e93eb3324d7ab4168447631c47c9"
            ]
          }
        },
        "6d185a9a416f4341bacb2dc7801a571d": {
          "model_module": "@jupyter-widgets/base",
          "model_name": "LayoutModel",
          "state": {
            "_view_name": "LayoutView",
            "grid_template_rows": null,
            "right": null,
            "justify_content": null,
            "_view_module": "@jupyter-widgets/base",
            "overflow": null,
            "_model_module_version": "1.2.0",
            "_view_count": null,
            "flex_flow": null,
            "width": null,
            "min_width": null,
            "border": null,
            "align_items": null,
            "bottom": null,
            "_model_module": "@jupyter-widgets/base",
            "top": null,
            "grid_column": null,
            "overflow_y": null,
            "overflow_x": null,
            "grid_auto_flow": null,
            "grid_area": null,
            "grid_template_columns": null,
            "flex": null,
            "_model_name": "LayoutModel",
            "justify_items": null,
            "grid_row": null,
            "max_height": null,
            "align_content": null,
            "visibility": null,
            "align_self": null,
            "height": null,
            "min_height": null,
            "padding": null,
            "grid_auto_rows": null,
            "grid_gap": null,
            "max_width": null,
            "order": null,
            "_view_module_version": "1.2.0",
            "grid_template_areas": null,
            "object_position": null,
            "object_fit": null,
            "grid_auto_columns": null,
            "margin": null,
            "display": null,
            "left": null
          }
        },
        "293cc1240e7644b9bbe7af3d7d6a07ce": {
          "model_module": "@jupyter-widgets/controls",
          "model_name": "DropdownModel",
          "state": {
            "_options_labels": [
              "Duration",
              "Packets",
              "Day of week",
              "Time of day"
            ],
            "_view_name": "DropdownView",
            "style": "IPY_MODEL_3452f8e313c840ac8c08fe40ba6baf09",
            "_dom_classes": [],
            "description": "column",
            "_model_name": "DropdownModel",
            "index": 0,
            "_view_module": "@jupyter-widgets/controls",
            "_model_module_version": "1.5.0",
            "_view_count": null,
            "disabled": false,
            "_view_module_version": "1.5.0",
            "description_tooltip": null,
            "_model_module": "@jupyter-widgets/controls",
            "layout": "IPY_MODEL_69191a14200f4febbae39a8856815213"
          }
        },
        "6871e93eb3324d7ab4168447631c47c9": {
          "model_module": "@jupyter-widgets/output",
          "model_name": "OutputModel",
          "state": {
            "_view_name": "OutputView",
            "msg_id": "",
            "_dom_classes": [],
            "_model_name": "OutputModel",
            "outputs": [
              {
                "output_type": "display_data",
                "metadata": {
                  "tags": []
                },
                "image/png": "iVBORw0KGgoAAAANSUhEUgAAAYUAAAEHCAYAAABBW1qbAAAABHNCSVQICAgIfAhkiAAAAAlwSFlz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\n",
                "text/plain": "<Figure size 432x288 with 1 Axes>"
              }
            ],
            "_view_module": "@jupyter-widgets/output",
            "_model_module_version": "1.0.0",
            "_view_count": null,
            "_view_module_version": "1.0.0",
            "layout": "IPY_MODEL_220f1664c90644dfb6123af9c98e4249",
            "_model_module": "@jupyter-widgets/output"
          }
        },
        "3452f8e313c840ac8c08fe40ba6baf09": {
          "model_module": "@jupyter-widgets/controls",
          "model_name": "DescriptionStyleModel",
          "state": {
            "_view_name": "StyleView",
            "_model_name": "DescriptionStyleModel",
            "description_width": "",
            "_view_module": "@jupyter-widgets/base",
            "_model_module_version": "1.5.0",
            "_view_count": null,
            "_view_module_version": "1.2.0",
            "_model_module": "@jupyter-widgets/controls"
          }
        },
        "69191a14200f4febbae39a8856815213": {
          "model_module": "@jupyter-widgets/base",
          "model_name": "LayoutModel",
          "state": {
            "_view_name": "LayoutView",
            "grid_template_rows": null,
            "right": null,
            "justify_content": null,
            "_view_module": "@jupyter-widgets/base",
            "overflow": null,
            "_model_module_version": "1.2.0",
            "_view_count": null,
            "flex_flow": null,
            "width": null,
            "min_width": null,
            "border": null,
            "align_items": null,
            "bottom": null,
            "_model_module": "@jupyter-widgets/base",
            "top": null,
            "grid_column": null,
            "overflow_y": null,
            "overflow_x": null,
            "grid_auto_flow": null,
            "grid_area": null,
            "grid_template_columns": null,
            "flex": null,
            "_model_name": "LayoutModel",
            "justify_items": null,
            "grid_row": null,
            "max_height": null,
            "align_content": null,
            "visibility": null,
            "align_self": null,
            "height": null,
            "min_height": null,
            "padding": null,
            "grid_auto_rows": null,
            "grid_gap": null,
            "max_width": null,
            "order": null,
            "_view_module_version": "1.2.0",
            "grid_template_areas": null,
            "object_position": null,
            "object_fit": null,
            "grid_auto_columns": null,
            "margin": null,
            "display": null,
            "left": null
          }
        },
        "03308cc784fa4428bde4c74934ebc75f": {
          "model_module": "@jupyter-widgets/controls",
          "model_name": "VBoxModel",
          "state": {
            "_view_name": "VBoxView",
            "_dom_classes": [
              "widget-interact"
            ],
            "_model_name": "VBoxModel",
            "_view_module": "@jupyter-widgets/controls",
            "_model_module_version": "1.5.0",
            "_view_count": null,
            "_view_module_version": "1.5.0",
            "box_style": "",
            "layout": "IPY_MODEL_b14fd509d9b84db0ae84c5630bd379b6",
            "_model_module": "@jupyter-widgets/controls",
            "children": [
              "IPY_MODEL_da599883140946e8904683bf3c594e4c",
              "IPY_MODEL_8768d083d2f34fc49878452850496d94"
            ]
          }
        },
        "b14fd509d9b84db0ae84c5630bd379b6": {
          "model_module": "@jupyter-widgets/base",
          "model_name": "LayoutModel",
          "state": {
            "_view_name": "LayoutView",
            "grid_template_rows": null,
            "right": null,
            "justify_content": null,
            "_view_module": "@jupyter-widgets/base",
            "overflow": null,
            "_model_module_version": "1.2.0",
            "_view_count": null,
            "flex_flow": null,
            "width": null,
            "min_width": null,
            "border": null,
            "align_items": null,
            "bottom": null,
            "_model_module": "@jupyter-widgets/base",
            "top": null,
            "grid_column": null,
            "overflow_y": null,
            "overflow_x": null,
            "grid_auto_flow": null,
            "grid_area": null,
            "grid_template_columns": null,
            "flex": null,
            "_model_name": "LayoutModel",
            "justify_items": null,
            "grid_row": null,
            "max_height": null,
            "align_content": null,
            "visibility": null,
            "align_self": null,
            "height": null,
            "min_height": null,
            "padding": null,
            "grid_auto_rows": null,
            "grid_gap": null,
            "max_width": null,
            "order": null,
            "_view_module_version": "1.2.0",
            "grid_template_areas": null,
            "object_position": null,
            "object_fit": null,
            "grid_auto_columns": null,
            "margin": null,
            "display": null,
            "left": null
          }
        },
        "da599883140946e8904683bf3c594e4c": {
          "model_module": "@jupyter-widgets/controls",
          "model_name": "FloatSliderModel",
          "state": {
            "_view_name": "FloatSliderView",
            "style": "IPY_MODEL_c5d5ccdc5d084520aef78012255185c3",
            "_dom_classes": [],
            "description": "fraction",
            "step": 0.01,
            "_model_name": "FloatSliderModel",
            "orientation": "horizontal",
            "max": 0.5,
            "_view_module": "@jupyter-widgets/controls",
            "_model_module_version": "1.5.0",
            "value": 0.1,
            "_view_count": null,
            "disabled": false,
            "_view_module_version": "1.5.0",
            "min": 0.01,
            "continuous_update": true,
            "readout_format": ".2f",
            "description_tooltip": null,
            "readout": true,
            "_model_module": "@jupyter-widgets/controls",
            "layout": "IPY_MODEL_81b287e23f054cd3acc1c0d8e4888ced"
          }
        },
        "8768d083d2f34fc49878452850496d94": {
          "model_module": "@jupyter-widgets/output",
          "model_name": "OutputModel",
          "state": {
            "_view_name": "OutputView",
            "msg_id": "",
            "_dom_classes": [],
            "_model_name": "OutputModel",
            "outputs": [
              {
                "output_type": "display_data",
                "metadata": {
                  "tags": []
                },
                "image/png": "iVBORw0KGgoAAAANSUhEUgAAA8wAAAJ8CAYAAAArlSivAAAABHNCSVQICAgIfAhkiAAAAAlwSFlz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\nCB5ugii6E98AAAAASUVORK5CYII=\n",
                "text/plain": "<Figure size 1152x720 with 2 Axes>"
              }
            ],
            "_view_module": "@jupyter-widgets/output",
            "_model_module_version": "1.0.0",
            "_view_count": null,
            "_view_module_version": "1.0.0",
            "layout": "IPY_MODEL_9ee0f701471848d68b0f85b41a361c71",
            "_model_module": "@jupyter-widgets/output"
          }
        },
        "c5d5ccdc5d084520aef78012255185c3": {
          "model_module": "@jupyter-widgets/controls",
          "model_name": "SliderStyleModel",
          "state": {
            "_view_name": "StyleView",
            "handle_color": null,
            "_model_name": "SliderStyleModel",
            "description_width": "",
            "_view_module": "@jupyter-widgets/base",
            "_model_module_version": "1.5.0",
            "_view_count": null,
            "_view_module_version": "1.2.0",
            "_model_module": "@jupyter-widgets/controls"
          }
        },
        "81b287e23f054cd3acc1c0d8e4888ced": {
          "model_module": "@jupyter-widgets/base",
          "model_name": "LayoutModel",
          "state": {
            "_view_name": "LayoutView",
            "grid_template_rows": null,
            "right": null,
            "justify_content": null,
            "_view_module": "@jupyter-widgets/base",
            "overflow": null,
            "_model_module_version": "1.2.0",
            "_view_count": null,
            "flex_flow": null,
            "width": null,
            "min_width": null,
            "border": null,
            "align_items": null,
            "bottom": null,
            "_model_module": "@jupyter-widgets/base",
            "top": null,
            "grid_column": null,
            "overflow_y": null,
            "overflow_x": null,
            "grid_auto_flow": null,
            "grid_area": null,
            "grid_template_columns": null,
            "flex": null,
            "_model_name": "LayoutModel",
            "justify_items": null,
            "grid_row": null,
            "max_height": null,
            "align_content": null,
            "visibility": null,
            "align_self": null,
            "height": null,
            "min_height": null,
            "padding": null,
            "grid_auto_rows": null,
            "grid_gap": null,
            "max_width": null,
            "order": null,
            "_view_module_version": "1.2.0",
            "grid_template_areas": null,
            "object_position": null,
            "object_fit": null,
            "grid_auto_columns": null,
            "margin": null,
            "display": null,
            "left": null
          }
        }
      }
    }
  },
  "cells": [
    {
      "cell_type": "markdown",
      "metadata": {
        "id": "view-in-github",
        "colab_type": "text"
      },
      "source": [
        "<a href=\"https://colab.research.google.com/github/giacomominello/AI4S/blob/master/AI4S1.ipynb\" target=\"_parent\"><img src=\"https://colab.research.google.com/assets/colab-badge.svg\" alt=\"Open In Colab\"/></a>"
      ]
    },
    {
      "cell_type": "markdown",
      "metadata": {
        "id": "gOgBPNf__wmI",
        "colab_type": "text"
      },
      "source": [
        "# ARTIFICIAL INTELLIGENCE FOR SECURITY - Assignment: Analysing Network Traffic"
      ]
    },
    {
      "cell_type": "markdown",
      "metadata": {
        "id": "M2fmJpWRcxpo",
        "colab_type": "text"
      },
      "source": [
        "Let's start by importing some libraries and loading some extensions. "
      ]
    },
    {
      "cell_type": "code",
      "metadata": {
        "id": "4B3izXse_wns",
        "colab_type": "code",
        "colab": {}
      },
      "source": [
        "import pandas as pd #https://pandas.pydata.org/pandas-docs/stable/index.html\n",
        "import numpy as np #https://numpy.org/devdocs/ \n",
        "import time \n",
        "import seaborn as sns\n",
        "import matplotlib.pyplot as plt #https://matplotlib.org/api/pyplot_api.html\n",
        "from ipywidgets import widgets #https://ipywidgets.readthedocs.io/en/latest/\n",
        "from ipywidgets import interact #\"It's a surprise tool that will help us later\" \n",
        "%load_ext google.colab.data_table\n",
        "from sklearn.model_selection import train_test_split\n",
        "from sklearn import metrics\n",
        "from sklearn.utils import check_random_state\n",
        "random_state = np.random.RandomState(42) #should allow us to have deterministic results (up to roundoff error)(kind of)(at least it's more consistent)"
      ],
      "execution_count": 0,
      "outputs": []
    },
    {
      "cell_type": "markdown",
      "metadata": {
        "id": "yIohdUxk_wns",
        "colab_type": "text"
      },
      "source": [
        "### First load the dataset for week 1 into a python notebook.\n",
        "- We will use data from week 1 for training a system and keep the week 2 data for testing purposes only."
      ]
    },
    {
      "cell_type": "code",
      "metadata": {
        "id": "q_FJ9PJiztQQ",
        "colab_type": "code",
        "colab": {}
      },
      "source": [
        "# Import PyDrive and associated libraries.\n",
        "# This only needs to be done once per notebook.\n",
        "from pydrive.auth import GoogleAuth\n",
        "from pydrive.drive import GoogleDrive\n",
        "from google.colab import auth\n",
        "from oauth2client.client import GoogleCredentials\n",
        "\n",
        "# Authenticate and create the PyDrive client.\n",
        "# This only needs to be done once per notebook.\n",
        "auth.authenticate_user()\n",
        "gauth = GoogleAuth()\n",
        "gauth.credentials = GoogleCredentials.get_application_default()\n",
        "drive = GoogleDrive(gauth)\n",
        "\n",
        "# Download a file based on its file ID.\n",
        "file_id = '1Gjcq50EpQOH-t-dwQVRP6MmO7JRiRDUf'\n",
        "downloaded = drive.CreateFile({'id': file_id})\n",
        "downloaded.GetContentFile('CIDDS-001-internal-week1_10pcSample.csv')  \n",
        "df = pd.read_csv('CIDDS-001-internal-week1_10pcSample.csv',index_col=[0],dtype={'Bytes': object})\n",
        "\n"
      ],
      "execution_count": 0,
      "outputs": []
    },
    {
      "cell_type": "code",
      "metadata": {
        "id": "M1Er5Kcy_wpQ",
        "colab_type": "code",
        "outputId": "0b7a1f58-330b-4be8-e7ab-d10332db596c",
        "colab": {
          "base_uri": "https://localhost:8080/",
          "height": 632
        }
      },
      "source": [
        "df.head(100)"
      ],
      "execution_count": 0,
      "outputs": [
        {
          "output_type": "execute_result",
          "data": {
            "application/vnd.google.colaboratory.module+javascript": "\n      import \"https://ssl.gstatic.com/colaboratory/data_table/9e554b27bdd509f3/data_table.js\";\n\n      window.createDataTable({\n        data: [[{\n            'v': 23,\n            'f': \"23\",\n        },\n\"2017-03-15 00:01:17.728\",\n{\n            'v': 0.047,\n            'f': \"0.047\",\n        },\n\"TCP  \",\n\"192.168.220.16\",\n{\n            'v': 45586,\n            'f': \"45586\",\n        },\n\"10000_35\",\n{\n            'v': 443.0,\n            'f': \"443.0\",\n        },\n{\n            'v': 5,\n            'f': \"5\",\n        },\n\"     906\",\n{\n            'v': 1,\n            'f': \"1\",\n        },\n\".AP.S.\",\n{\n            'v': 0,\n            'f': \"0\",\n        },\n\"normal\",\n\"---\",\n\"---\",\n\"---\"],\n [{\n            'v': 36,\n            'f': \"36\",\n        },\n\"2017-03-15 00:01:18.457\",\n{\n            'v': 0.17,\n            'f': \"0.17\",\n        },\n\"TCP  \",\n\"10003_195\",\n{\n            'v': 80,\n            'f': \"80\",\n        },\n\"192.168.220.16\",\n{\n            'v': 48286.0,\n            'f': \"48286.0\",\n        },\n{\n            'v': 3,\n            'f': \"3\",\n        },\n\"     908\",\n{\n            'v': 1,\n            'f': \"1\",\n        },\n\".AP.S.\",\n{\n            'v': 32,\n            'f': \"32\",\n        },\n\"normal\",\n\"---\",\n\"---\",\n\"---\"],\n [{\n            'v': 30,\n            'f': \"30\",\n        },\n\"2017-03-15 00:01:18.511\",\n{\n            'v': 0.003,\n            'f': \"0.003\",\n        },\n\"TCP  \",\n\"10002_113\",\n{\n            'v': 443,\n            'f': \"443\",\n        },\n\"192.168.220.16\",\n{\n            'v': 49062.0,\n            'f': \"49062.0\",\n        },\n{\n            'v': 2,\n            'f': \"2\",\n        },\n\"    1089\",\n{\n            'v': 1,\n            'f': \"1\",\n        },\n\".AP...\",\n{\n            'v': 32,\n            'f': \"32\",\n        },\n\"normal\",\n\"---\",\n\"---\",\n\"---\"],\n [{\n            'v': 46,\n            'f': \"46\",\n        },\n\"2017-03-15 00:01:22.400\",\n{\n            'v': 0.0,\n            'f': \"0.0\",\n        },\n\"TCP  \",\n\"EXT_SERVER\",\n{\n            'v': 8082,\n            'f': \"8082\",\n        },\n\"192.168.220.15\",\n{\n            'v': 37039.0,\n            'f': \"37039.0\",\n        },\n{\n            'v': 1,\n            'f': \"1\",\n        },\n\"     212\",\n{\n            'v': 1,\n            'f': \"1\",\n        },\n\".AP...\",\n{\n            'v': 32,\n            'f': \"32\",\n        },\n\"normal\",\n\"---\",\n\"---\",\n\"---\"],\n [{\n            'v': 51,\n            'f': \"51\",\n        },\n\"2017-03-15 00:01:24.152\",\n{\n            'v': 0.266,\n            'f': \"0.266\",\n        },\n\"TCP  \",\n\"192.168.200.9\",\n{\n            'v': 52290,\n            'f': \"52290\",\n        },\n\"EXT_SERVER\",\n{\n            'v': 8082.0,\n            'f': \"8082.0\",\n        },\n{\n            'v': 2,\n            'f': \"2\",\n        },\n\"     319\",\n{\n            'v': 1,\n            'f': \"1\",\n        },\n\".AP...\",\n{\n            'v': 0,\n            'f': \"0\",\n        },\n\"normal\",\n\"---\",\n\"---\",\n\"---\"],\n [{\n            'v': 61,\n            'f': \"61\",\n        },\n\"2017-03-15 00:01:26.075\",\n{\n            'v': 0.052000000000000005,\n            'f': \"0.052000000000000005\",\n        },\n\"TCP  \",\n\"192.168.220.16\",\n{\n            'v': 51161,\n            'f': \"51161\",\n        },\n\"10001_232\",\n{\n            'v': 443.0,\n            'f': \"443.0\",\n        },\n{\n            'v': 6,\n            'f': \"6\",\n        },\n\"     972\",\n{\n            'v': 1,\n            'f': \"1\",\n        },\n\".AP.S.\",\n{\n            'v': 0,\n            'f': \"0\",\n        },\n\"normal\",\n\"---\",\n\"---\",\n\"---\"],\n [{\n            'v': 115,\n            'f': \"115\",\n        },\n\"2017-03-15 00:01:40.619\",\n{\n            'v': 0.0,\n            'f': \"0.0\",\n        },\n\"TCP  \",\n\"10001_232\",\n{\n            'v': 443,\n            'f': \"443\",\n        },\n\"192.168.220.16\",\n{\n            'v': 51113.0,\n            'f': \"51113.0\",\n        },\n{\n            'v': 1,\n            'f': \"1\",\n        },\n\"      66\",\n{\n            'v': 1,\n            'f': \"1\",\n        },\n\".A....\",\n{\n            'v': 0,\n            'f': \"0\",\n        },\n\"normal\",\n\"---\",\n\"---\",\n\"---\"],\n [{\n            'v': 121,\n            'f': \"121\",\n        },\n\"2017-03-15 00:01:42.380\",\n{\n            'v': 0.0,\n            'f': \"0.0\",\n        },\n\"TCP  \",\n\"EXT_SERVER\",\n{\n            'v': 8082,\n            'f': \"8082\",\n        },\n\"192.168.200.4\",\n{\n            'v': 56978.0,\n            'f': \"56978.0\",\n        },\n{\n            'v': 1,\n            'f': \"1\",\n        },\n\"     212\",\n{\n            'v': 1,\n            'f': \"1\",\n        },\n\".AP...\",\n{\n            'v': 32,\n            'f': \"32\",\n        },\n\"normal\",\n\"---\",\n\"---\",\n\"---\"],\n [{\n            'v': 126,\n            'f': \"126\",\n        },\n\"2017-03-15 00:01:46.361\",\n{\n            'v': 0.0,\n            'f': \"0.0\",\n        },\n\"TCP  \",\n\"192.168.100.5\",\n{\n            'v': 445,\n            'f': \"445\",\n        },\n\"192.168.220.10\",\n{\n            'v': 40239.0,\n            'f': \"40239.0\",\n        },\n{\n            'v': 1,\n            'f': \"1\",\n        },\n\"     108\",\n{\n            'v': 1,\n            'f': \"1\",\n        },\n\".AP...\",\n{\n            'v': 0,\n            'f': \"0\",\n        },\n\"normal\",\n\"---\",\n\"---\",\n\"---\"],\n [{\n            'v': 160,\n            'f': \"160\",\n        },\n\"2017-03-15 00:02:03.175\",\n{\n            'v': 0.085,\n            'f': \"0.085\",\n        },\n\"TCP  \",\n\"10000_35\",\n{\n            'v': 443,\n            'f': \"443\",\n        },\n\"192.168.220.16\",\n{\n            'v': 45633.0,\n            'f': \"45633.0\",\n        },\n{\n            'v': 4,\n            'f': \"4\",\n        },\n\"     419\",\n{\n            'v': 1,\n            'f': \"1\",\n        },\n\".AP.S.\",\n{\n            'v': 0,\n            'f': \"0\",\n        },\n\"normal\",\n\"---\",\n\"---\",\n\"---\"],\n [{\n            'v': 159,\n            'f': \"159\",\n        },\n\"2017-03-15 00:02:03.179\",\n{\n            'v': 0.209,\n            'f': \"0.209\",\n        },\n\"TCP  \",\n\"10001_232\",\n{\n            'v': 80,\n            'f': \"80\",\n        },\n\"192.168.220.16\",\n{\n            'v': 49812.0,\n            'f': \"49812.0\",\n        },\n{\n            'v': 4,\n            'f': \"4\",\n        },\n\"     697\",\n{\n            'v': 1,\n            'f': \"1\",\n        },\n\".AP.S.\",\n{\n            'v': 0,\n            'f': \"0\",\n        },\n\"normal\",\n\"---\",\n\"---\",\n\"---\"],\n [{\n            'v': 182,\n            'f': \"182\",\n        },\n\"2017-03-15 00:02:03.968\",\n{\n            'v': 0.32299999999999995,\n            'f': \"0.32299999999999995\",\n        },\n\"TCP  \",\n\"192.168.220.16\",\n{\n            'v': 48332,\n            'f': \"48332\",\n        },\n\"10003_195\",\n{\n            'v': 80.0,\n            'f': \"80.0\",\n        },\n{\n            'v': 5,\n            'f': \"5\",\n        },\n\"    2406\",\n{\n            'v': 1,\n            'f': \"1\",\n        },\n\".AP.S.\",\n{\n            'v': 0,\n            'f': \"0\",\n        },\n\"normal\",\n\"---\",\n\"---\",\n\"---\"],\n [{\n            'v': 175,\n            'f': \"175\",\n        },\n\"2017-03-15 00:02:04.070\",\n{\n            'v': 0.0,\n            'f': \"0.0\",\n        },\n\"UDP  \",\n\"192.168.220.16\",\n{\n            'v': 45970,\n            'f': \"45970\",\n        },\n\"DNS\",\n{\n            'v': 53.0,\n            'f': \"53.0\",\n        },\n{\n            'v': 2,\n            'f': \"2\",\n        },\n\"     144\",\n{\n            'v': 1,\n            'f': \"1\",\n        },\n\"......\",\n{\n            'v': 0,\n            'f': \"0\",\n        },\n\"normal\",\n\"---\",\n\"---\",\n\"---\"],\n [{\n            'v': 200,\n            'f': \"200\",\n        },\n\"2017-03-15 00:02:07.257\",\n{\n            'v': 0.0,\n            'f': \"0.0\",\n        },\n\"UDP  \",\n\"192.168.200.8\",\n{\n            'v': 63352,\n            'f': \"63352\",\n        },\n\"DNS\",\n{\n            'v': 53.0,\n            'f': \"53.0\",\n        },\n{\n            'v': 1,\n            'f': \"1\",\n        },\n\"      76\",\n{\n            'v': 1,\n            'f': \"1\",\n        },\n\"......\",\n{\n            'v': 0,\n            'f': \"0\",\n        },\n\"normal\",\n\"---\",\n\"---\",\n\"---\"],\n [{\n            'v': 199,\n            'f': \"199\",\n        },\n\"2017-03-15 00:02:07.346\",\n{\n            'v': 0.0,\n            'f': \"0.0\",\n        },\n\"UDP  \",\n\"192.168.200.8\",\n{\n            'v': 59311,\n            'f': \"59311\",\n        },\n\"DNS\",\n{\n            'v': 53.0,\n            'f': \"53.0\",\n        },\n{\n            'v': 1,\n            'f': \"1\",\n        },\n\"      81\",\n{\n            'v': 1,\n            'f': \"1\",\n        },\n\"......\",\n{\n            'v': 0,\n            'f': \"0\",\n        },\n\"normal\",\n\"---\",\n\"---\",\n\"---\"],\n [{\n            'v': 196,\n            'f': \"196\",\n        },\n\"2017-03-15 00:02:07.394\",\n{\n            'v': 0.002,\n            'f': \"0.002\",\n        },\n\"TCP  \",\n\"192.168.220.6\",\n{\n            'v': 46709,\n            'f': \"46709\",\n        },\n\"192.168.100.5\",\n{\n            'v': 445.0,\n            'f': \"445.0\",\n        },\n{\n            'v': 2,\n            'f': \"2\",\n        },\n\"     174\",\n{\n            'v': 1,\n            'f': \"1\",\n        },\n\".AP...\",\n{\n            'v': 0,\n            'f': \"0\",\n        },\n\"normal\",\n\"---\",\n\"---\",\n\"---\"],\n [{\n            'v': 205,\n            'f': \"205\",\n        },\n\"2017-03-15 00:02:07.992\",\n{\n            'v': 0.0,\n            'f': \"0.0\",\n        },\n\"TCP  \",\n\"192.168.220.16\",\n{\n            'v': 45487,\n            'f': \"45487\",\n        },\n\"10000_35\",\n{\n            'v': 443.0,\n            'f': \"443.0\",\n        },\n{\n            'v': 1,\n            'f': \"1\",\n        },\n\"      66\",\n{\n            'v': 1,\n            'f': \"1\",\n        },\n\".A....\",\n{\n            'v': 0,\n            'f': \"0\",\n        },\n\"normal\",\n\"---\",\n\"---\",\n\"---\"],\n [{\n            'v': 204,\n            'f': \"204\",\n        },\n\"2017-03-15 00:02:08.012\",\n{\n            'v': 0.0,\n            'f': \"0.0\",\n        },\n\"TCP  \",\n\"10000_35\",\n{\n            'v': 443,\n            'f': \"443\",\n        },\n\"192.168.220.16\",\n{\n            'v': 45487.0,\n            'f': \"45487.0\",\n        },\n{\n            'v': 1,\n            'f': \"1\",\n        },\n\"      66\",\n{\n            'v': 1,\n            'f': \"1\",\n        },\n\".A....\",\n{\n            'v': 0,\n            'f': \"0\",\n        },\n\"normal\",\n\"---\",\n\"---\",\n\"---\"],\n [{\n            'v': 213,\n            'f': \"213\",\n        },\n\"2017-03-15 00:02:08.630\",\n{\n            'v': 0.0,\n            'f': \"0.0\",\n        },\n\"TCP  \",\n\"192.168.100.5\",\n{\n            'v': 445,\n            'f': \"445\",\n        },\n\"192.168.220.4\",\n{\n            'v': 43145.0,\n            'f': \"43145.0\",\n        },\n{\n            'v': 1,\n            'f': \"1\",\n        },\n\"     108\",\n{\n            'v': 1,\n            'f': \"1\",\n        },\n\".AP...\",\n{\n            'v': 0,\n            'f': \"0\",\n        },\n\"normal\",\n\"---\",\n\"---\",\n\"---\"],\n [{\n            'v': 218,\n            'f': \"218\",\n        },\n\"2017-03-15 00:02:09.761\",\n{\n            'v': 0.0,\n            'f': \"0.0\",\n        },\n\"UDP  \",\n\"192.168.100.4\",\n{\n            'v': 138,\n            'f': \"138\",\n        },\n\"192.168.100.255\",\n{\n            'v': 138.0,\n            'f': \"138.0\",\n        },\n{\n            'v': 1,\n            'f': \"1\",\n        },\n\"     262\",\n{\n            'v': 1,\n            'f': \"1\",\n        },\n\"......\",\n{\n            'v': 0,\n            'f': \"0\",\n        },\n\"normal\",\n\"---\",\n\"---\",\n\"---\"],\n [{\n            'v': 233,\n            'f': \"233\",\n        },\n\"2017-03-15 00:02:20.462\",\n{\n            'v': 0.0,\n            'f': \"0.0\",\n        },\n\"TCP  \",\n\"192.168.220.16\",\n{\n            'v': 51357,\n            'f': \"51357\",\n        },\n\"192.168.200.1\",\n{\n            'v': 15660.0,\n            'f': \"15660.0\",\n        },\n{\n            'v': 1,\n            'f': \"1\",\n        },\n\"      58\",\n{\n            'v': 1,\n            'f': \"1\",\n        },\n\"....S.\",\n{\n            'v': 0,\n            'f': \"0\",\n        },\n\"attacker\",\n\"portScan\",\n\"1\",\n\"nmap args: -sS -T 1\"],\n [{\n            'v': 252,\n            'f': \"252\",\n        },\n\"2017-03-15 00:02:27.070\",\n{\n            'v': 0.0,\n            'f': \"0.0\",\n        },\n\"UDP  \",\n\"192.168.220.9\",\n{\n            'v': 137,\n            'f': \"137\",\n        },\n\"192.168.220.255\",\n{\n            'v': 137.0,\n            'f': \"137.0\",\n        },\n{\n            'v': 1,\n            'f': \"1\",\n        },\n\"      92\",\n{\n            'v': 1,\n            'f': \"1\",\n        },\n\"......\",\n{\n            'v': 0,\n            'f': \"0\",\n        },\n\"normal\",\n\"---\",\n\"---\",\n\"---\"],\n [{\n            'v': 253,\n            'f': \"253\",\n        },\n\"2017-03-15 00:02:28.413\",\n{\n            'v': 0.0,\n            'f': \"0.0\",\n        },\n\"TCP  \",\n\"192.168.100.5\",\n{\n            'v': 445,\n            'f': \"445\",\n        },\n\"192.168.220.7\",\n{\n            'v': 37191.0,\n            'f': \"37191.0\",\n        },\n{\n            'v': 1,\n            'f': \"1\",\n        },\n\"     108\",\n{\n            'v': 1,\n            'f': \"1\",\n        },\n\".AP...\",\n{\n            'v': 0,\n            'f': \"0\",\n        },\n\"normal\",\n\"---\",\n\"---\",\n\"---\"],\n [{\n            'v': 259,\n            'f': \"259\",\n        },\n\"2017-03-15 00:02:30.901\",\n{\n            'v': 0.003,\n            'f': \"0.003\",\n        },\n\"TCP  \",\n\"192.168.220.13\",\n{\n            'v': 60689,\n            'f': \"60689\",\n        },\n\"192.168.100.5\",\n{\n            'v': 445.0,\n            'f': \"445.0\",\n        },\n{\n            'v': 2,\n            'f': \"2\",\n        },\n\"     174\",\n{\n            'v': 1,\n            'f': \"1\",\n        },\n\".AP...\",\n{\n            'v': 0,\n            'f': \"0\",\n        },\n\"normal\",\n\"---\",\n\"---\",\n\"---\"],\n [{\n            'v': 302,\n            'f': \"302\",\n        },\n\"2017-03-15 00:02:44.536\",\n{\n            'v': 0.0,\n            'f': \"0.0\",\n        },\n\"TCP  \",\n\"192.168.220.16\",\n{\n            'v': 49062,\n            'f': \"49062\",\n        },\n\"10002_113\",\n{\n            'v': 443.0,\n            'f': \"443.0\",\n        },\n{\n            'v': 1,\n            'f': \"1\",\n        },\n\"      54\",\n{\n            'v': 1,\n            'f': \"1\",\n        },\n\".A....\",\n{\n            'v': 0,\n            'f': \"0\",\n        },\n\"normal\",\n\"---\",\n\"---\",\n\"---\"],\n [{\n            'v': 317,\n            'f': \"317\",\n        },\n\"2017-03-15 00:02:45.760\",\n{\n            'v': 0.048,\n            'f': \"0.048\",\n        },\n\"TCP  \",\n\"192.168.220.16\",\n{\n            'v': 45654,\n            'f': \"45654\",\n        },\n\"10000_35\",\n{\n            'v': 443.0,\n            'f': \"443.0\",\n        },\n{\n            'v': 5,\n            'f': \"5\",\n        },\n\"     906\",\n{\n            'v': 1,\n            'f': \"1\",\n        },\n\".AP.S.\",\n{\n            'v': 0,\n            'f': \"0\",\n        },\n\"normal\",\n\"---\",\n\"---\",\n\"---\"],\n [{\n            'v': 308,\n            'f': \"308\",\n        },\n\"2017-03-15 00:02:45.783\",\n{\n            'v': 0.085,\n            'f': \"0.085\",\n        },\n\"TCP  \",\n\"10001_232\",\n{\n            'v': 443,\n            'f': \"443\",\n        },\n\"192.168.220.16\",\n{\n            'v': 51207.0,\n            'f': \"51207.0\",\n        },\n{\n            'v': 5,\n            'f': \"5\",\n        },\n\"     498\",\n{\n            'v': 1,\n            'f': \"1\",\n        },\n\".AP.S.\",\n{\n            'v': 0,\n            'f': \"0\",\n        },\n\"normal\",\n\"---\",\n\"---\",\n\"---\"],\n [{\n            'v': 355,\n            'f': \"355\",\n        },\n\"2017-03-15 00:02:55.470\",\n{\n            'v': 0.0,\n            'f': \"0.0\",\n        },\n\"TCP  \",\n\"192.168.220.16\",\n{\n            'v': 51357,\n            'f': \"51357\",\n        },\n\"192.168.200.9\",\n{\n            'v': 9500.0,\n            'f': \"9500.0\",\n        },\n{\n            'v': 1,\n            'f': \"1\",\n        },\n\"      58\",\n{\n            'v': 1,\n            'f': \"1\",\n        },\n\"....S.\",\n{\n            'v': 0,\n            'f': \"0\",\n        },\n\"attacker\",\n\"portScan\",\n\"1\",\n\"nmap args: -sS -T 1\"],\n [{\n            'v': 356,\n            'f': \"356\",\n        },\n\"2017-03-15 00:02:55.506\",\n{\n            'v': 0.0,\n            'f': \"0.0\",\n        },\n\"TCP  \",\n\"EXT_SERVER\",\n{\n            'v': 8082,\n            'f': \"8082\",\n        },\n\"192.168.220.15\",\n{\n            'v': 37039.0,\n            'f': \"37039.0\",\n        },\n{\n            'v': 1,\n            'f': \"1\",\n        },\n\"     212\",\n{\n            'v': 1,\n            'f': \"1\",\n        },\n\".AP...\",\n{\n            'v': 32,\n            'f': \"32\",\n        },\n\"normal\",\n\"---\",\n\"---\",\n\"---\"],\n [{\n            'v': 370,\n            'f': \"370\",\n        },\n\"2017-03-15 00:02:57.541\",\n{\n            'v': 0.019,\n            'f': \"0.019\",\n        },\n\"TCP  \",\n\"192.168.220.14\",\n{\n            'v': 48380,\n            'f': \"48380\",\n        },\n\"EXT_SERVER\",\n{\n            'v': 8082.0,\n            'f': \"8082.0\",\n        },\n{\n            'v': 2,\n            'f': \"2\",\n        },\n\"     338\",\n{\n            'v': 1,\n            'f': \"1\",\n        },\n\".AP...\",\n{\n            'v': 0,\n            'f': \"0\",\n        },\n\"normal\",\n\"---\",\n\"---\",\n\"---\"],\n [{\n            'v': 375,\n            'f': \"375\",\n        },\n\"2017-03-15 00:03:05.076\",\n{\n            'v': 0.0,\n            'f': \"0.0\",\n        },\n\"TCP  \",\n\"EXT_SERVER\",\n{\n            'v': 8082,\n            'f': \"8082\",\n        },\n\"192.168.220.9\",\n{\n            'v': 50807.0,\n            'f': \"50807.0\",\n        },\n{\n            'v': 1,\n            'f': \"1\",\n        },\n\"     212\",\n{\n            'v': 1,\n            'f': \"1\",\n        },\n\".AP...\",\n{\n            'v': 32,\n            'f': \"32\",\n        },\n\"normal\",\n\"---\",\n\"---\",\n\"---\"],\n [{\n            'v': 390,\n            'f': \"390\",\n        },\n\"2017-03-15 00:03:05.880\",\n{\n            'v': 0.0,\n            'f': \"0.0\",\n        },\n\"TCP  \",\n\"192.168.220.16\",\n{\n            'v': 45061,\n            'f': \"45061\",\n        },\n\"10000_35\",\n{\n            'v': 443.0,\n            'f': \"443.0\",\n        },\n{\n            'v': 1,\n            'f': \"1\",\n        },\n\"      66\",\n{\n            'v': 1,\n            'f': \"1\",\n        },\n\".A....\",\n{\n            'v': 0,\n            'f': \"0\",\n        },\n\"normal\",\n\"---\",\n\"---\",\n\"---\"],\n [{\n            'v': 388,\n            'f': \"388\",\n        },\n\"2017-03-15 00:03:06.349\",\n{\n            'v': 0.075,\n            'f': \"0.075\",\n        },\n\"TCP  \",\n\"192.168.200.8\",\n{\n            'v': 62887,\n            'f': \"62887\",\n        },\n\"10005_14\",\n{\n            'v': 443.0,\n            'f': \"443.0\",\n        },\n{\n            'v': 2,\n            'f': \"2\",\n        },\n\"     166\",\n{\n            'v': 1,\n            'f': \"1\",\n        },\n\".AP...\",\n{\n            'v': 0,\n            'f': \"0\",\n        },\n\"normal\",\n\"---\",\n\"---\",\n\"---\"],\n [{\n            'v': 389,\n            'f': \"389\",\n        },\n\"2017-03-15 00:03:07.144\",\n{\n            'v': 0.02,\n            'f': \"0.02\",\n        },\n\"TCP  \",\n\"192.168.220.16\",\n{\n            'v': 45675,\n            'f': \"45675\",\n        },\n\"10000_35\",\n{\n            'v': 443.0,\n            'f': \"443.0\",\n        },\n{\n            'v': 3,\n            'f': \"3\",\n        },\n\"     723\",\n{\n            'v': 1,\n            'f': \"1\",\n        },\n\".AP.S.\",\n{\n            'v': 0,\n            'f': \"0\",\n        },\n\"normal\",\n\"---\",\n\"---\",\n\"---\"],\n [{\n            'v': 384,\n            'f': \"384\",\n        },\n\"2017-03-15 00:03:07.145\",\n{\n            'v': 0.019,\n            'f': \"0.019\",\n        },\n\"TCP  \",\n\"192.168.220.16\",\n{\n            'v': 45676,\n            'f': \"45676\",\n        },\n\"10000_35\",\n{\n            'v': 443.0,\n            'f': \"443.0\",\n        },\n{\n            'v': 3,\n            'f': \"3\",\n        },\n\"     723\",\n{\n            'v': 1,\n            'f': \"1\",\n        },\n\".AP.S.\",\n{\n            'v': 0,\n            'f': \"0\",\n        },\n\"normal\",\n\"---\",\n\"---\",\n\"---\"],\n [{\n            'v': 411,\n            'f': \"411\",\n        },\n\"2017-03-15 00:03:08.090\",\n{\n            'v': 0.0,\n            'f': \"0.0\",\n        },\n\"UDP  \",\n\"DNS\",\n{\n            'v': 53,\n            'f': \"53\",\n        },\n\"192.168.220.16\",\n{\n            'v': 58446.0,\n            'f': \"58446.0\",\n        },\n{\n            'v': 2,\n            'f': \"2\",\n        },\n\"     533\",\n{\n            'v': 1,\n            'f': \"1\",\n        },\n\"......\",\n{\n            'v': 0,\n            'f': \"0\",\n        },\n\"normal\",\n\"---\",\n\"---\",\n\"---\"],\n [{\n            'v': 419,\n            'f': \"419\",\n        },\n\"2017-03-15 00:03:09.240\",\n{\n            'v': 0.004,\n            'f': \"0.004\",\n        },\n\"TCP  \",\n\"192.168.220.8\",\n{\n            'v': 49094,\n            'f': \"49094\",\n        },\n\"192.168.100.5\",\n{\n            'v': 445.0,\n            'f': \"445.0\",\n        },\n{\n            'v': 2,\n            'f': \"2\",\n        },\n\"     174\",\n{\n            'v': 1,\n            'f': \"1\",\n        },\n\".AP...\",\n{\n            'v': 0,\n            'f': \"0\",\n        },\n\"normal\",\n\"---\",\n\"---\",\n\"---\"],\n [{\n            'v': 423,\n            'f': \"423\",\n        },\n\"2017-03-15 00:03:11.473\",\n{\n            'v': 0.0,\n            'f': \"0.0\",\n        },\n\"TCP  \",\n\"192.168.220.16\",\n{\n            'v': 51358,\n            'f': \"51358\",\n        },\n\"192.168.200.9\",\n{\n            'v': 9500.0,\n            'f': \"9500.0\",\n        },\n{\n            'v': 1,\n            'f': \"1\",\n        },\n\"      58\",\n{\n            'v': 1,\n            'f': \"1\",\n        },\n\"....S.\",\n{\n            'v': 0,\n            'f': \"0\",\n        },\n\"attacker\",\n\"portScan\",\n\"1\",\n\"nmap args: -sS -T 1\"],\n [{\n            'v': 436,\n            'f': \"436\",\n        },\n\"2017-03-15 00:03:16.954\",\n{\n            'v': 0.0,\n            'f': \"0.0\",\n        },\n\"TCP  \",\n\"192.168.100.5\",\n{\n            'v': 445,\n            'f': \"445\",\n        },\n\"192.168.220.16\",\n{\n            'v': 58844.0,\n            'f': \"58844.0\",\n        },\n{\n            'v': 1,\n            'f': \"1\",\n        },\n\"     108\",\n{\n            'v': 1,\n            'f': \"1\",\n        },\n\".AP...\",\n{\n            'v': 0,\n            'f': \"0\",\n        },\n\"normal\",\n\"---\",\n\"---\",\n\"---\"],\n [{\n            'v': 472,\n            'f': \"472\",\n        },\n\"2017-03-15 00:03:28.536\",\n{\n            'v': 0.048,\n            'f': \"0.048\",\n        },\n\"TCP  \",\n\"192.168.220.16\",\n{\n            'v': 45702,\n            'f': \"45702\",\n        },\n\"10000_35\",\n{\n            'v': 443.0,\n            'f': \"443.0\",\n        },\n{\n            'v': 5,\n            'f': \"5\",\n        },\n\"     906\",\n{\n            'v': 1,\n            'f': \"1\",\n        },\n\".AP.S.\",\n{\n            'v': 0,\n            'f': \"0\",\n        },\n\"normal\",\n\"---\",\n\"---\",\n\"---\"],\n [{\n            'v': 473,\n            'f': \"473\",\n        },\n\"2017-03-15 00:03:28.537\",\n{\n            'v': 0.047,\n            'f': \"0.047\",\n        },\n\"TCP  \",\n\"192.168.220.16\",\n{\n            'v': 51254,\n            'f': \"51254\",\n        },\n\"10001_232\",\n{\n            'v': 443.0,\n            'f': \"443.0\",\n        },\n{\n            'v': 6,\n            'f': \"6\",\n        },\n\"     972\",\n{\n            'v': 1,\n            'f': \"1\",\n        },\n\".AP.S.\",\n{\n            'v': 0,\n            'f': \"0\",\n        },\n\"normal\",\n\"---\",\n\"---\",\n\"---\"],\n [{\n            'v': 459,\n            'f': \"459\",\n        },\n\"2017-03-15 00:03:28.558\",\n{\n            'v': 0.086,\n            'f': \"0.086\",\n        },\n\"TCP  \",\n\"10000_35\",\n{\n            'v': 443,\n            'f': \"443\",\n        },\n\"192.168.220.16\",\n{\n            'v': 45700.0,\n            'f': \"45700.0\",\n        },\n{\n            'v': 4,\n            'f': \"4\",\n        },\n\"     419\",\n{\n            'v': 1,\n            'f': \"1\",\n        },\n\".AP.S.\",\n{\n            'v': 0,\n            'f': \"0\",\n        },\n\"normal\",\n\"---\",\n\"---\",\n\"---\"],\n [{\n            'v': 467,\n            'f': \"467\",\n        },\n\"2017-03-15 00:03:28.583\",\n{\n            'v': 0.021,\n            'f': \"0.021\",\n        },\n\"TCP  \",\n\"192.168.220.14\",\n{\n            'v': 48380,\n            'f': \"48380\",\n        },\n\"EXT_SERVER\",\n{\n            'v': 8082.0,\n            'f': \"8082.0\",\n        },\n{\n            'v': 2,\n            'f': \"2\",\n        },\n\"     338\",\n{\n            'v': 1,\n            'f': \"1\",\n        },\n\".AP...\",\n{\n            'v': 0,\n            'f': \"0\",\n        },\n\"normal\",\n\"---\",\n\"---\",\n\"---\"],\n [{\n            'v': 457,\n            'f': \"457\",\n        },\n\"2017-03-15 00:03:28.601\",\n{\n            'v': 0.0,\n            'f': \"0.0\",\n        },\n\"TCP  \",\n\"EXT_SERVER\",\n{\n            'v': 8082,\n            'f': \"8082\",\n        },\n\"192.168.220.14\",\n{\n            'v': 48380.0,\n            'f': \"48380.0\",\n        },\n{\n            'v': 1,\n            'f': \"1\",\n        },\n\"     212\",\n{\n            'v': 1,\n            'f': \"1\",\n        },\n\".AP...\",\n{\n            'v': 32,\n            'f': \"32\",\n        },\n\"normal\",\n\"---\",\n\"---\",\n\"---\"],\n [{\n            'v': 479,\n            'f': \"479\",\n        },\n\"2017-03-15 00:03:29.100\",\n{\n            'v': 0.32299999999999995,\n            'f': \"0.32299999999999995\",\n        },\n\"TCP  \",\n\"192.168.220.16\",\n{\n            'v': 54848,\n            'f': \"54848\",\n        },\n\"10007_19\",\n{\n            'v': 80.0,\n            'f': \"80.0\",\n        },\n{\n            'v': 5,\n            'f': \"5\",\n        },\n\"    2407\",\n{\n            'v': 1,\n            'f': \"1\",\n        },\n\".AP.S.\",\n{\n            'v': 0,\n            'f': \"0\",\n        },\n\"normal\",\n\"---\",\n\"---\",\n\"---\"],\n [{\n            'v': 477,\n            'f': \"477\",\n        },\n\"2017-03-15 00:03:29.200\",\n{\n            'v': 0.0,\n            'f': \"0.0\",\n        },\n\"UDP  \",\n\"192.168.220.16\",\n{\n            'v': 56845,\n            'f': \"56845\",\n        },\n\"DNS\",\n{\n            'v': 53.0,\n            'f': \"53.0\",\n        },\n{\n            'v': 2,\n            'f': \"2\",\n        },\n\"     144\",\n{\n            'v': 1,\n            'f': \"1\",\n        },\n\"......\",\n{\n            'v': 0,\n            'f': \"0\",\n        },\n\"normal\",\n\"---\",\n\"---\",\n\"---\"],\n [{\n            'v': 483,\n            'f': \"483\",\n        },\n\"2017-03-15 00:03:31.063\",\n{\n            'v': 0.0,\n            'f': \"0.0\",\n        },\n\"TCP  \",\n\"192.168.100.5\",\n{\n            'v': 445,\n            'f': \"445\",\n        },\n\"192.168.220.13\",\n{\n            'v': 60689.0,\n            'f': \"60689.0\",\n        },\n{\n            'v': 1,\n            'f': \"1\",\n        },\n\"     108\",\n{\n            'v': 1,\n            'f': \"1\",\n        },\n\".AP...\",\n{\n            'v': 0,\n            'f': \"0\",\n        },\n\"normal\",\n\"---\",\n\"---\",\n\"---\"],\n [{\n            'v': 492,\n            'f': \"492\",\n        },\n\"2017-03-15 00:03:36.045\",\n{\n            'v': 0.0,\n            'f': \"0.0\",\n        },\n\"TCP  \",\n\"10000_35\",\n{\n            'v': 443,\n            'f': \"443\",\n        },\n\"192.168.220.16\",\n{\n            'v': 45487.0,\n            'f': \"45487.0\",\n        },\n{\n            'v': 1,\n            'f': \"1\",\n        },\n\"      66\",\n{\n            'v': 1,\n            'f': \"1\",\n        },\n\".A....\",\n{\n            'v': 0,\n            'f': \"0\",\n        },\n\"normal\",\n\"---\",\n\"---\",\n\"---\"],\n [{\n            'v': 503,\n            'f': \"503\",\n        },\n\"2017-03-15 00:03:40.961\",\n{\n            'v': 0.08,\n            'f': \"0.08\",\n        },\n\"TCP  \",\n\"10001_232\",\n{\n            'v': 443,\n            'f': \"443\",\n        },\n\"192.168.220.16\",\n{\n            'v': 51280.0,\n            'f': \"51280.0\",\n        },\n{\n            'v': 5,\n            'f': \"5\",\n        },\n\"     498\",\n{\n            'v': 1,\n            'f': \"1\",\n        },\n\".AP.S.\",\n{\n            'v': 0,\n            'f': \"0\",\n        },\n\"normal\",\n\"---\",\n\"---\",\n\"---\"],\n [{\n            'v': 520,\n            'f': \"520\",\n        },\n\"2017-03-15 00:03:41.765\",\n{\n            'v': 0.0,\n            'f': \"0.0\",\n        },\n\"UDP  \",\n\"192.168.220.16\",\n{\n            'v': 42530,\n            'f': \"42530\",\n        },\n\"DNS\",\n{\n            'v': 53.0,\n            'f': \"53.0\",\n        },\n{\n            'v': 2,\n            'f': \"2\",\n        },\n\"     144\",\n{\n            'v': 1,\n            'f': \"1\",\n        },\n\"......\",\n{\n            'v': 0,\n            'f': \"0\",\n        },\n\"normal\",\n\"---\",\n\"---\",\n\"---\"],\n [{\n            'v': 523,\n            'f': \"523\",\n        },\n\"2017-03-15 00:03:42.084\",\n{\n            'v': 0.0,\n            'f': \"0.0\",\n        },\n\"TCP  \",\n\"EXT_SERVER\",\n{\n            'v': 8082,\n            'f': \"8082\",\n        },\n\"192.168.200.8\",\n{\n            'v': 51089.0,\n            'f': \"51089.0\",\n        },\n{\n            'v': 1,\n            'f': \"1\",\n        },\n\"     200\",\n{\n            'v': 1,\n            'f': \"1\",\n        },\n\".AP...\",\n{\n            'v': 32,\n            'f': \"32\",\n        },\n\"normal\",\n\"---\",\n\"---\",\n\"---\"],\n [{\n            'v': 561,\n            'f': \"561\",\n        },\n\"2017-03-15 00:04:03.481\",\n{\n            'v': 0.047,\n            'f': \"0.047\",\n        },\n\"TCP  \",\n\"192.168.220.16\",\n{\n            'v': 51302,\n            'f': \"51302\",\n        },\n\"10001_232\",\n{\n            'v': 443.0,\n            'f': \"443.0\",\n        },\n{\n            'v': 6,\n            'f': \"6\",\n        },\n\"     972\",\n{\n            'v': 1,\n            'f': \"1\",\n        },\n\".AP.S.\",\n{\n            'v': 0,\n            'f': \"0\",\n        },\n\"normal\",\n\"---\",\n\"---\",\n\"---\"],\n [{\n            'v': 567,\n            'f': \"567\",\n        },\n\"2017-03-15 00:04:03.501\",\n{\n            'v': 0.087,\n            'f': \"0.087\",\n        },\n\"TCP  \",\n\"10000_35\",\n{\n            'v': 443,\n            'f': \"443\",\n        },\n\"192.168.220.16\",\n{\n            'v': 45748.0,\n            'f': \"45748.0\",\n        },\n{\n            'v': 4,\n            'f': \"4\",\n        },\n\"     419\",\n{\n            'v': 1,\n            'f': \"1\",\n        },\n\".AP.S.\",\n{\n            'v': 0,\n            'f': \"0\",\n        },\n\"normal\",\n\"---\",\n\"---\",\n\"---\"],\n [{\n            'v': 580,\n            'f': \"580\",\n        },\n\"2017-03-15 00:04:04.048\",\n{\n            'v': 0.324,\n            'f': \"0.324\",\n        },\n\"TCP  \",\n\"192.168.220.16\",\n{\n            'v': 54896,\n            'f': \"54896\",\n        },\n\"10007_19\",\n{\n            'v': 80.0,\n            'f': \"80.0\",\n        },\n{\n            'v': 5,\n            'f': \"5\",\n        },\n\"    2407\",\n{\n            'v': 1,\n            'f': \"1\",\n        },\n\".AP.S.\",\n{\n            'v': 0,\n            'f': \"0\",\n        },\n\"normal\",\n\"---\",\n\"---\",\n\"---\"],\n [{\n            'v': 575,\n            'f': \"575\",\n        },\n\"2017-03-15 00:04:04.149\",\n{\n            'v': 0.0,\n            'f': \"0.0\",\n        },\n\"UDP  \",\n\"DNS\",\n{\n            'v': 53,\n            'f': \"53\",\n        },\n\"192.168.220.16\",\n{\n            'v': 45611.0,\n            'f': \"45611.0\",\n        },\n{\n            'v': 2,\n            'f': \"2\",\n        },\n\"     565\",\n{\n            'v': 1,\n            'f': \"1\",\n        },\n\"......\",\n{\n            'v': 0,\n            'f': \"0\",\n        },\n\"normal\",\n\"---\",\n\"---\",\n\"---\"],\n [{\n            'v': 591,\n            'f': \"591\",\n        },\n\"2017-03-15 00:04:07.133\",\n{\n            'v': 0.0,\n            'f': \"0.0\",\n        },\n\"TCP  \",\n\"EXT_SERVER\",\n{\n            'v': 8082,\n            'f': \"8082\",\n        },\n\"192.168.220.9\",\n{\n            'v': 50807.0,\n            'f': \"50807.0\",\n        },\n{\n            'v': 1,\n            'f': \"1\",\n        },\n\"     212\",\n{\n            'v': 1,\n            'f': \"1\",\n        },\n\".AP...\",\n{\n            'v': 32,\n            'f': \"32\",\n        },\n\"normal\",\n\"---\",\n\"---\",\n\"---\"],\n [{\n            'v': 598,\n            'f': \"598\",\n        },\n\"2017-03-15 00:04:08.729\",\n{\n            'v': 0.0,\n            'f': \"0.0\",\n        },\n\"TCP  \",\n\"192.168.220.16\",\n{\n            'v': 45061,\n            'f': \"45061\",\n        },\n\"10000_35\",\n{\n            'v': 443.0,\n            'f': \"443.0\",\n        },\n{\n            'v': 1,\n            'f': \"1\",\n        },\n\"      66\",\n{\n            'v': 1,\n            'f': \"1\",\n        },\n\".A....\",\n{\n            'v': 0,\n            'f': \"0\",\n        },\n\"normal\",\n\"---\",\n\"---\",\n\"---\"],\n [{\n            'v': 596,\n            'f': \"596\",\n        },\n\"2017-03-15 00:04:08.951\",\n{\n            'v': 0.0,\n            'f': \"0.0\",\n        },\n\"TCP  \",\n\"192.168.100.5\",\n{\n            'v': 445,\n            'f': \"445\",\n        },\n\"192.168.220.4\",\n{\n            'v': 43145.0,\n            'f': \"43145.0\",\n        },\n{\n            'v': 1,\n            'f': \"1\",\n        },\n\"     108\",\n{\n            'v': 1,\n            'f': \"1\",\n        },\n\".AP...\",\n{\n            'v': 0,\n            'f': \"0\",\n        },\n\"normal\",\n\"---\",\n\"---\",\n\"---\"],\n [{\n            'v': 610,\n            'f': \"610\",\n        },\n\"2017-03-15 00:04:17.035\",\n{\n            'v': 0.0,\n            'f': \"0.0\",\n        },\n\"TCP  \",\n\"192.168.100.5\",\n{\n            'v': 445,\n            'f': \"445\",\n        },\n\"192.168.220.15\",\n{\n            'v': 48888.0,\n            'f': \"48888.0\",\n        },\n{\n            'v': 1,\n            'f': \"1\",\n        },\n\"     108\",\n{\n            'v': 1,\n            'f': \"1\",\n        },\n\".AP...\",\n{\n            'v': 0,\n            'f': \"0\",\n        },\n\"normal\",\n\"---\",\n\"---\",\n\"---\"],\n [{\n            'v': 620,\n            'f': \"620\",\n        },\n\"2017-03-15 00:04:28.588\",\n{\n            'v': 0.018000000000000002,\n            'f': \"0.018000000000000002\",\n        },\n\"TCP  \",\n\"192.168.220.15\",\n{\n            'v': 37039,\n            'f': \"37039\",\n        },\n\"EXT_SERVER\",\n{\n            'v': 8082.0,\n            'f': \"8082.0\",\n        },\n{\n            'v': 2,\n            'f': \"2\",\n        },\n\"     338\",\n{\n            'v': 1,\n            'f': \"1\",\n        },\n\".AP...\",\n{\n            'v': 0,\n            'f': \"0\",\n        },\n\"normal\",\n\"---\",\n\"---\",\n\"---\"],\n [{\n            'v': 624,\n            'f': \"624\",\n        },\n\"2017-03-15 00:04:29.483\",\n{\n            'v': 0.0,\n            'f': \"0.0\",\n        },\n\"TCP  \",\n\"192.168.200.5\",\n{\n            'v': 2910,\n            'f': \"2910\",\n        },\n\"192.168.220.16\",\n{\n            'v': 51357.0,\n            'f': \"51357.0\",\n        },\n{\n            'v': 1,\n            'f': \"1\",\n        },\n\"      54\",\n{\n            'v': 1,\n            'f': \"1\",\n        },\n\".A.R..\",\n{\n            'v': 0,\n            'f': \"0\",\n        },\n\"victim\",\n\"portScan\",\n\"1\",\n\"nmap args: -sS -T 1\"],\n [{\n            'v': 632,\n            'f': \"632\",\n        },\n\"2017-03-15 00:04:29.679\",\n{\n            'v': 0.0,\n            'f': \"0.0\",\n        },\n\"TCP  \",\n\"EXT_SERVER\",\n{\n            'v': 8082,\n            'f': \"8082\",\n        },\n\"192.168.220.14\",\n{\n            'v': 48380.0,\n            'f': \"48380.0\",\n        },\n{\n            'v': 1,\n            'f': \"1\",\n        },\n\"     212\",\n{\n            'v': 1,\n            'f': \"1\",\n        },\n\".AP...\",\n{\n            'v': 32,\n            'f': \"32\",\n        },\n\"normal\",\n\"---\",\n\"---\",\n\"---\"],\n [{\n            'v': 629,\n            'f': \"629\",\n        },\n\"2017-03-15 00:04:29.752\",\n{\n            'v': 0.0,\n            'f': \"0.0\",\n        },\n\"TCP  \",\n\"EXT_SERVER\",\n{\n            'v': 8082,\n            'f': \"8082\",\n        },\n\"192.168.200.9\",\n{\n            'v': 50110.0,\n            'f': \"50110.0\",\n        },\n{\n            'v': 1,\n            'f': \"1\",\n        },\n\"     200\",\n{\n            'v': 1,\n            'f': \"1\",\n        },\n\".AP...\",\n{\n            'v': 32,\n            'f': \"32\",\n        },\n\"normal\",\n\"---\",\n\"---\",\n\"---\"],\n [{\n            'v': 630,\n            'f': \"630\",\n        },\n\"2017-03-15 00:04:29.914\",\n{\n            'v': 0.0,\n            'f': \"0.0\",\n        },\n\"TCP  \",\n\"192.168.100.5\",\n{\n            'v': 445,\n            'f': \"445\",\n        },\n\"192.168.220.14\",\n{\n            'v': 52321.0,\n            'f': \"52321.0\",\n        },\n{\n            'v': 1,\n            'f': \"1\",\n        },\n\"     108\",\n{\n            'v': 1,\n            'f': \"1\",\n        },\n\".AP...\",\n{\n            'v': 0,\n            'f': \"0\",\n        },\n\"normal\",\n\"---\",\n\"---\",\n\"---\"],\n [{\n            'v': 633,\n            'f': \"633\",\n        },\n\"2017-03-15 00:04:30.482\",\n{\n            'v': 0.0,\n            'f': \"0.0\",\n        },\n\"TCP  \",\n\"192.168.220.16\",\n{\n            'v': 51357,\n            'f': \"51357\",\n        },\n\"192.168.200.1\",\n{\n            'v': 55056.0,\n            'f': \"55056.0\",\n        },\n{\n            'v': 1,\n            'f': \"1\",\n        },\n\"      58\",\n{\n            'v': 1,\n            'f': \"1\",\n        },\n\"....S.\",\n{\n            'v': 0,\n            'f': \"0\",\n        },\n\"attacker\",\n\"portScan\",\n\"1\",\n\"nmap args: -sS -T 1\"],\n [{\n            'v': 638,\n            'f': \"638\",\n        },\n\"2017-03-15 00:04:31.223\",\n{\n            'v': 0.005,\n            'f': \"0.005\",\n        },\n\"TCP  \",\n\"192.168.220.13\",\n{\n            'v': 60689,\n            'f': \"60689\",\n        },\n\"192.168.100.5\",\n{\n            'v': 445.0,\n            'f': \"445.0\",\n        },\n{\n            'v': 2,\n            'f': \"2\",\n        },\n\"     174\",\n{\n            'v': 1,\n            'f': \"1\",\n        },\n\".AP...\",\n{\n            'v': 0,\n            'f': \"0\",\n        },\n\"normal\",\n\"---\",\n\"---\",\n\"---\"],\n [{\n            'v': 644,\n            'f': \"644\",\n        },\n\"2017-03-15 00:04:36.314\",\n{\n            'v': 0.0,\n            'f': \"0.0\",\n        },\n\"TCP  \",\n\"192.168.220.16\",\n{\n            'v': 45558,\n            'f': \"45558\",\n        },\n\"10000_35\",\n{\n            'v': 443.0,\n            'f': \"443.0\",\n        },\n{\n            'v': 1,\n            'f': \"1\",\n        },\n\"      66\",\n{\n            'v': 1,\n            'f': \"1\",\n        },\n\".A....\",\n{\n            'v': 0,\n            'f': \"0\",\n        },\n\"normal\",\n\"---\",\n\"---\",\n\"---\"],\n [{\n            'v': 643,\n            'f': \"643\",\n        },\n\"2017-03-15 00:04:36.314\",\n{\n            'v': 0.0,\n            'f': \"0.0\",\n        },\n\"TCP  \",\n\"192.168.220.16\",\n{\n            'v': 45487,\n            'f': \"45487\",\n        },\n\"10000_35\",\n{\n            'v': 443.0,\n            'f': \"443.0\",\n        },\n{\n            'v': 1,\n            'f': \"1\",\n        },\n\"      66\",\n{\n            'v': 1,\n            'f': \"1\",\n        },\n\".A....\",\n{\n            'v': 0,\n            'f': \"0\",\n        },\n\"normal\",\n\"---\",\n\"---\",\n\"---\"],\n [{\n            'v': 642,\n            'f': \"642\",\n        },\n\"2017-03-15 00:04:36.334\",\n{\n            'v': 0.0,\n            'f': \"0.0\",\n        },\n\"TCP  \",\n\"10000_35\",\n{\n            'v': 443,\n            'f': \"443\",\n        },\n\"192.168.220.16\",\n{\n            'v': 45487.0,\n            'f': \"45487.0\",\n        },\n{\n            'v': 1,\n            'f': \"1\",\n        },\n\"      66\",\n{\n            'v': 1,\n            'f': \"1\",\n        },\n\".A....\",\n{\n            'v': 0,\n            'f': \"0\",\n        },\n\"normal\",\n\"---\",\n\"---\",\n\"---\"],\n [{\n            'v': 646,\n            'f': \"646\",\n        },\n\"2017-03-15 00:04:38.163\",\n{\n            'v': 0.0,\n            'f': \"0.0\",\n        },\n\"TCP  \",\n\"EXT_SERVER\",\n{\n            'v': 8082,\n            'f': \"8082\",\n        },\n\"192.168.220.9\",\n{\n            'v': 50807.0,\n            'f': \"50807.0\",\n        },\n{\n            'v': 1,\n            'f': \"1\",\n        },\n\"     212\",\n{\n            'v': 1,\n            'f': \"1\",\n        },\n\".AP...\",\n{\n            'v': 32,\n            'f': \"32\",\n        },\n\"normal\",\n\"---\",\n\"---\",\n\"---\"],\n [{\n            'v': 652,\n            'f': \"652\",\n        },\n\"2017-03-15 00:04:39.473\",\n{\n            'v': 0.047,\n            'f': \"0.047\",\n        },\n\"TCP  \",\n\"EXT_SERVER\",\n{\n            'v': 8000,\n            'f': \"8000\",\n        },\n\"192.168.200.9\",\n{\n            'v': 49887.0,\n            'f': \"49887.0\",\n        },\n{\n            'v': 7,\n            'f': \"7\",\n        },\n\"     654\",\n{\n            'v': 1,\n            'f': \"1\",\n        },\n\".AP.SF\",\n{\n            'v': 32,\n            'f': \"32\",\n        },\n\"normal\",\n\"---\",\n\"---\",\n\"---\"],\n [{\n            'v': 691,\n            'f': \"691\",\n        },\n\"2017-03-15 00:04:44.998\",\n{\n            'v': 2.116,\n            'f': \"2.116\",\n        },\n\"TCP  \",\n\"10002_114\",\n{\n            'v': 443,\n            'f': \"443\",\n        },\n\"192.168.220.16\",\n{\n            'v': 55975.0,\n            'f': \"55975.0\",\n        },\n{\n            'v': 3,\n            'f': \"3\",\n        },\n\"    1143\",\n{\n            'v': 1,\n            'f': \"1\",\n        },\n\".AP...\",\n{\n            'v': 32,\n            'f': \"32\",\n        },\n\"normal\",\n\"---\",\n\"---\",\n\"---\"],\n [{\n            'v': 663,\n            'f': \"663\",\n        },\n\"2017-03-15 00:04:45.883\",\n{\n            'v': 0.204,\n            'f': \"0.204\",\n        },\n\"TCP  \",\n\"10001_232\",\n{\n            'v': 80,\n            'f': \"80\",\n        },\n\"192.168.220.16\",\n{\n            'v': 49955.0,\n            'f': \"49955.0\",\n        },\n{\n            'v': 5,\n            'f': \"5\",\n        },\n\"     771\",\n{\n            'v': 1,\n            'f': \"1\",\n        },\n\".AP.S.\",\n{\n            'v': 0,\n            'f': \"0\",\n        },\n\"normal\",\n\"---\",\n\"---\",\n\"---\"],\n [{\n            'v': 692,\n            'f': \"692\",\n        },\n\"2017-03-15 00:04:46.640\",\n{\n            'v': 0.0,\n            'f': \"0.0\",\n        },\n\"UDP  \",\n\"192.168.220.16\",\n{\n            'v': 59686,\n            'f': \"59686\",\n        },\n\"DNS\",\n{\n            'v': 53.0,\n            'f': \"53.0\",\n        },\n{\n            'v': 1,\n            'f': \"1\",\n        },\n\"      77\",\n{\n            'v': 1,\n            'f': \"1\",\n        },\n\"......\",\n{\n            'v': 0,\n            'f': \"0\",\n        },\n\"normal\",\n\"---\",\n\"---\",\n\"---\"],\n [{\n            'v': 697,\n            'f': \"697\",\n        },\n\"2017-03-15 00:04:46.740\",\n{\n            'v': 0.0,\n            'f': \"0.0\",\n        },\n\"UDP  \",\n\"DNS\",\n{\n            'v': 53,\n            'f': \"53\",\n        },\n\"192.168.220.16\",\n{\n            'v': 33520.0,\n            'f': \"33520.0\",\n        },\n{\n            'v': 2,\n            'f': \"2\",\n        },\n\"     565\",\n{\n            'v': 1,\n            'f': \"1\",\n        },\n\"......\",\n{\n            'v': 0,\n            'f': \"0\",\n        },\n\"normal\",\n\"---\",\n\"---\",\n\"---\"],\n [{\n            'v': 701,\n            'f': \"701\",\n        },\n\"2017-03-15 00:04:48.572\",\n{\n            'v': 0.0,\n            'f': \"0.0\",\n        },\n\"TCP  \",\n\"EXT_SERVER\",\n{\n            'v': 8082,\n            'f': \"8082\",\n        },\n\"192.168.200.4\",\n{\n            'v': 56978.0,\n            'f': \"56978.0\",\n        },\n{\n            'v': 1,\n            'f': \"1\",\n        },\n\"     212\",\n{\n            'v': 1,\n            'f': \"1\",\n        },\n\".AP...\",\n{\n            'v': 32,\n            'f': \"32\",\n        },\n\"normal\",\n\"---\",\n\"---\",\n\"---\"],\n [{\n            'v': 745,\n            'f': \"745\",\n        },\n\"2017-03-15 00:05:04.419\",\n{\n            'v': 0.045,\n            'f': \"0.045\",\n        },\n\"TCP  \",\n\"192.168.220.16\",\n{\n            'v': 45795,\n            'f': \"45795\",\n        },\n\"10000_35\",\n{\n            'v': 443.0,\n            'f': \"443.0\",\n        },\n{\n            'v': 5,\n            'f': \"5\",\n        },\n\"     906\",\n{\n            'v': 1,\n            'f': \"1\",\n        },\n\".AP.S.\",\n{\n            'v': 0,\n            'f': \"0\",\n        },\n\"normal\",\n\"---\",\n\"---\",\n\"---\"],\n [{\n            'v': 760,\n            'f': \"760\",\n        },\n\"2017-03-15 00:05:07.238\",\n{\n            'v': 0.0,\n            'f': \"0.0\",\n        },\n\"UDP  \",\n\"192.168.220.3\",\n{\n            'v': 137,\n            'f': \"137\",\n        },\n\"192.168.220.255\",\n{\n            'v': 137.0,\n            'f': \"137.0\",\n        },\n{\n            'v': 1,\n            'f': \"1\",\n        },\n\"      92\",\n{\n            'v': 1,\n            'f': \"1\",\n        },\n\"......\",\n{\n            'v': 0,\n            'f': \"0\",\n        },\n\"normal\",\n\"---\",\n\"---\",\n\"---\"],\n [{\n            'v': 769,\n            'f': \"769\",\n        },\n\"2017-03-15 00:05:09.172\",\n{\n            'v': 0.019,\n            'f': \"0.019\",\n        },\n\"TCP  \",\n\"192.168.220.9\",\n{\n            'v': 50807,\n            'f': \"50807\",\n        },\n\"EXT_SERVER\",\n{\n            'v': 8082.0,\n            'f': \"8082.0\",\n        },\n{\n            'v': 2,\n            'f': \"2\",\n        },\n\"     338\",\n{\n            'v': 1,\n            'f': \"1\",\n        },\n\".AP...\",\n{\n            'v': 0,\n            'f': \"0\",\n        },\n\"normal\",\n\"---\",\n\"---\",\n\"---\"],\n [{\n            'v': 784,\n            'f': \"784\",\n        },\n\"2017-03-15 00:05:17.196\",\n{\n            'v': 0.0,\n            'f': \"0.0\",\n        },\n\"TCP  \",\n\"192.168.100.5\",\n{\n            'v': 445,\n            'f': \"445\",\n        },\n\"192.168.220.15\",\n{\n            'v': 48888.0,\n            'f': \"48888.0\",\n        },\n{\n            'v': 1,\n            'f': \"1\",\n        },\n\"     108\",\n{\n            'v': 1,\n            'f': \"1\",\n        },\n\".AP...\",\n{\n            'v': 0,\n            'f': \"0\",\n        },\n\"normal\",\n\"---\",\n\"---\",\n\"---\"],\n [{\n            'v': 783,\n            'f': \"783\",\n        },\n\"2017-03-15 00:05:17.276\",\n{\n            'v': 0.0,\n            'f': \"0.0\",\n        },\n\"TCP  \",\n\"192.168.100.5\",\n{\n            'v': 445,\n            'f': \"445\",\n        },\n\"192.168.220.16\",\n{\n            'v': 58844.0,\n            'f': \"58844.0\",\n        },\n{\n            'v': 1,\n            'f': \"1\",\n        },\n\"     108\",\n{\n            'v': 1,\n            'f': \"1\",\n        },\n\".AP...\",\n{\n            'v': 0,\n            'f': \"0\",\n        },\n\"normal\",\n\"---\",\n\"---\",\n\"---\"],\n [{\n            'v': 804,\n            'f': \"804\",\n        },\n\"2017-03-15 00:05:31.762\",\n{\n            'v': 0.0,\n            'f': \"0.0\",\n        },\n\"TCP  \",\n\"EXT_SERVER\",\n{\n            'v': 8082,\n            'f': \"8082\",\n        },\n\"192.168.220.14\",\n{\n            'v': 48380.0,\n            'f': \"48380.0\",\n        },\n{\n            'v': 1,\n            'f': \"1\",\n        },\n\"     212\",\n{\n            'v': 1,\n            'f': \"1\",\n        },\n\".AP...\",\n{\n            'v': 32,\n            'f': \"32\",\n        },\n\"normal\",\n\"---\",\n\"---\",\n\"---\"],\n [{\n            'v': 819,\n            'f': \"819\",\n        },\n\"2017-03-15 00:05:34.815\",\n{\n            'v': 0.048,\n            'f': \"0.048\",\n        },\n\"TCP  \",\n\"192.168.220.16\",\n{\n            'v': 45819,\n            'f': \"45819\",\n        },\n\"10000_35\",\n{\n            'v': 443.0,\n            'f': \"443.0\",\n        },\n{\n            'v': 5,\n            'f': \"5\",\n        },\n\"     906\",\n{\n            'v': 1,\n            'f': \"1\",\n        },\n\".AP.S.\",\n{\n            'v': 0,\n            'f': \"0\",\n        },\n\"normal\",\n\"---\",\n\"---\",\n\"---\"],\n [{\n            'v': 811,\n            'f': \"811\",\n        },\n\"2017-03-15 00:05:34.868\",\n{\n            'v': 0.087,\n            'f': \"0.087\",\n        },\n\"TCP  \",\n\"10001_232\",\n{\n            'v': 443,\n            'f': \"443\",\n        },\n\"192.168.220.16\",\n{\n            'v': 51377.0,\n            'f': \"51377.0\",\n        },\n{\n            'v': 5,\n            'f': \"5\",\n        },\n\"     498\",\n{\n            'v': 1,\n            'f': \"1\",\n        },\n\".AP.S.\",\n{\n            'v': 0,\n            'f': \"0\",\n        },\n\"normal\",\n\"---\",\n\"---\",\n\"---\"],\n [{\n            'v': 810,\n            'f': \"810\",\n        },\n\"2017-03-15 00:05:34.895\",\n{\n            'v': 0.084,\n            'f': \"0.084\",\n        },\n\"TCP  \",\n\"10001_232\",\n{\n            'v': 443,\n            'f': \"443\",\n        },\n\"192.168.220.16\",\n{\n            'v': 51378.0,\n            'f': \"51378.0\",\n        },\n{\n            'v': 5,\n            'f': \"5\",\n        },\n\"     498\",\n{\n            'v': 1,\n            'f': \"1\",\n        },\n\".AP.S.\",\n{\n            'v': 0,\n            'f': \"0\",\n        },\n\"normal\",\n\"---\",\n\"---\",\n\"---\"],\n [{\n            'v': 825,\n            'f': \"825\",\n        },\n\"2017-03-15 00:05:35.497\",\n{\n            'v': 0.0,\n            'f': \"0.0\",\n        },\n\"UDP  \",\n\"DNS\",\n{\n            'v': 53,\n            'f': \"53\",\n        },\n\"192.168.220.16\",\n{\n            'v': 47797.0,\n            'f': \"47797.0\",\n        },\n{\n            'v': 2,\n            'f': \"2\",\n        },\n\"     565\",\n{\n            'v': 1,\n            'f': \"1\",\n        },\n\"......\",\n{\n            'v': 0,\n            'f': \"0\",\n        },\n\"normal\",\n\"---\",\n\"---\",\n\"---\"],\n [{\n            'v': 836,\n            'f': \"836\",\n        },\n\"2017-03-15 00:05:36.282\",\n{\n            'v': 0.0,\n            'f': \"0.0\",\n        },\n\"TCP  \",\n\"192.168.220.16\",\n{\n            'v': 49955,\n            'f': \"49955\",\n        },\n\"10001_232\",\n{\n            'v': 80.0,\n            'f': \"80.0\",\n        },\n{\n            'v': 1,\n            'f': \"1\",\n        },\n\"      66\",\n{\n            'v': 1,\n            'f': \"1\",\n        },\n\".A....\",\n{\n            'v': 0,\n            'f': \"0\",\n        },\n\"normal\",\n\"---\",\n\"---\",\n\"---\"],\n [{\n            'v': 835,\n            'f': \"835\",\n        },\n\"2017-03-15 00:05:36.303\",\n{\n            'v': 0.0,\n            'f': \"0.0\",\n        },\n\"TCP  \",\n\"10001_232\",\n{\n            'v': 80,\n            'f': \"80\",\n        },\n\"192.168.220.16\",\n{\n            'v': 49955.0,\n            'f': \"49955.0\",\n        },\n{\n            'v': 1,\n            'f': \"1\",\n        },\n\"      66\",\n{\n            'v': 1,\n            'f': \"1\",\n        },\n\".A....\",\n{\n            'v': 0,\n            'f': \"0\",\n        },\n\"normal\",\n\"---\",\n\"---\",\n\"---\"],\n [{\n            'v': 846,\n            'f': \"846\",\n        },\n\"2017-03-15 00:05:46.221\",\n{\n            'v': 0.018000000000000002,\n            'f': \"0.018000000000000002\",\n        },\n\"TCP  \",\n\"192.168.220.16\",\n{\n            'v': 60802,\n            'f': \"60802\",\n        },\n\"EXT_SERVER\",\n{\n            'v': 8082.0,\n            'f': \"8082.0\",\n        },\n{\n            'v': 2,\n            'f': \"2\",\n        },\n\"     338\",\n{\n            'v': 1,\n            'f': \"1\",\n        },\n\".AP...\",\n{\n            'v': 0,\n            'f': \"0\",\n        },\n\"normal\",\n\"---\",\n\"---\",\n\"---\"],\n [{\n            'v': 852,\n            'f': \"852\",\n        },\n\"2017-03-15 00:05:48.640\",\n{\n            'v': 0.055,\n            'f': \"0.055\",\n        },\n\"TCP  \",\n\"192.168.200.8\",\n{\n            'v': 62953,\n            'f': \"62953\",\n        },\n\"EXT_SERVER\",\n{\n            'v': 8000.0,\n            'f': \"8000.0\",\n        },\n{\n            'v': 6,\n            'f': \"6\",\n        },\n\"     575\",\n{\n            'v': 1,\n            'f': \"1\",\n        },\n\".AP.SF\",\n{\n            'v': 0,\n            'f': \"0\",\n        },\n\"normal\",\n\"---\",\n\"---\",\n\"---\"],\n [{\n            'v': 863,\n            'f': \"863\",\n        },\n\"2017-03-15 00:06:00.702\",\n{\n            'v': 0.0,\n            'f': \"0.0\",\n        },\n\"TCP  \",\n\"EXT_SERVER\",\n{\n            'v': 8082,\n            'f': \"8082\",\n        },\n\"192.168.220.15\",\n{\n            'v': 37039.0,\n            'f': \"37039.0\",\n        },\n{\n            'v': 1,\n            'f': \"1\",\n        },\n\"     212\",\n{\n            'v': 1,\n            'f': \"1\",\n        },\n\".AP...\",\n{\n            'v': 32,\n            'f': \"32\",\n        },\n\"normal\",\n\"---\",\n\"---\",\n\"---\"],\n [{\n            'v': 879,\n            'f': \"879\",\n        },\n\"2017-03-15 00:06:09.273\",\n{\n            'v': 0.0,\n            'f': \"0.0\",\n        },\n\"TCP  \",\n\"192.168.100.5\",\n{\n            'v': 445,\n            'f': \"445\",\n        },\n\"192.168.220.4\",\n{\n            'v': 43145.0,\n            'f': \"43145.0\",\n        },\n{\n            'v': 1,\n            'f': \"1\",\n        },\n\"     108\",\n{\n            'v': 1,\n            'f': \"1\",\n        },\n\".AP...\",\n{\n            'v': 0,\n            'f': \"0\",\n        },\n\"normal\",\n\"---\",\n\"---\",\n\"---\"],\n [{\n            'v': 904,\n            'f': \"904\",\n        },\n\"2017-03-15 00:06:10.200\",\n{\n            'v': 0.051,\n            'f': \"0.051\",\n        },\n\"TCP  \",\n\"192.168.220.16\",\n{\n            'v': 45850,\n            'f': \"45850\",\n        },\n\"10000_35\",\n{\n            'v': 443.0,\n            'f': \"443.0\",\n        },\n{\n            'v': 5,\n            'f': \"5\",\n        },\n\"     906\",\n{\n            'v': 1,\n            'f': \"1\",\n        },\n\".AP.S.\",\n{\n            'v': 0,\n            'f': \"0\",\n        },\n\"normal\",\n\"---\",\n\"---\",\n\"---\"],\n [{\n            'v': 893,\n            'f': \"893\",\n        },\n\"2017-03-15 00:06:10.205\",\n{\n            'v': 0.035,\n            'f': \"0.035\",\n        },\n\"UDP  \",\n\"DNS\",\n{\n            'v': 53,\n            'f': \"53\",\n        },\n\"192.168.220.16\",\n{\n            'v': 41567.0,\n            'f': \"41567.0\",\n        },\n{\n            'v': 2,\n            'f': \"2\",\n        },\n\"     388\",\n{\n            'v': 1,\n            'f': \"1\",\n        },\n\"......\",\n{\n            'v': 0,\n            'f': \"0\",\n        },\n\"normal\",\n\"---\",\n\"---\",\n\"---\"],\n [{\n            'v': 899,\n            'f': \"899\",\n        },\n\"2017-03-15 00:06:10.225\",\n{\n            'v': 0.05,\n            'f': \"0.05\",\n        },\n\"TCP  \",\n\"192.168.220.16\",\n{\n            'v': 45851,\n            'f': \"45851\",\n        },\n\"10000_35\",\n{\n            'v': 443.0,\n            'f': \"443.0\",\n        },\n{\n            'v': 5,\n            'f': \"5\",\n        },\n\"     906\",\n{\n            'v': 1,\n            'f': \"1\",\n        },\n\".AP.S.\",\n{\n            'v': 0,\n            'f': \"0\",\n        },\n\"normal\",\n\"---\",\n\"---\",\n\"---\"],\n [{\n            'v': 909,\n            'f': \"909\",\n        },\n\"2017-03-15 00:06:10.876\",\n{\n            'v': 0.0,\n            'f': \"0.0\",\n        },\n\"UDP  \",\n\"DNS\",\n{\n            'v': 53,\n            'f': \"53\",\n        },\n\"192.168.220.16\",\n{\n            'v': 36031.0,\n            'f': \"36031.0\",\n        },\n{\n            'v': 2,\n            'f': \"2\",\n        },\n\"     565\",\n{\n            'v': 1,\n            'f': \"1\",\n        },\n\"......\",\n{\n            'v': 0,\n            'f': \"0\",\n        },\n\"normal\",\n\"---\",\n\"---\",\n\"---\"],\n [{\n            'v': 954,\n            'f': \"954\",\n        },\n\"2017-03-15 00:06:21.221\",\n{\n            'v': 0.32299999999999995,\n            'f': \"0.32299999999999995\",\n        },\n\"TCP  \",\n\"192.168.220.16\",\n{\n            'v': 48573,\n            'f': \"48573\",\n        },\n\"10003_195\",\n{\n            'v': 80.0,\n            'f': \"80.0\",\n        },\n{\n            'v': 5,\n            'f': \"5\",\n        },\n\"    2408\",\n{\n            'v': 1,\n            'f': \"1\",\n        },\n\".AP.S.\",\n{\n            'v': 0,\n            'f': \"0\",\n        },\n\"normal\",\n\"---\",\n\"---\",\n\"---\"],\n [{\n            'v': 947,\n            'f': \"947\",\n        },\n\"2017-03-15 00:06:21.349\",\n{\n            'v': 0.0,\n            'f': \"0.0\",\n        },\n\"UDP  \",\n\"DNS\",\n{\n            'v': 53,\n            'f': \"53\",\n        },\n\"192.168.220.16\",\n{\n            'v': 42319.0,\n            'f': \"42319.0\",\n        },\n{\n            'v': 2,\n            'f': \"2\",\n        },\n\"     565\",\n{\n            'v': 1,\n            'f': \"1\",\n        },\n\"......\",\n{\n            'v': 0,\n            'f': \"0\",\n        },\n\"normal\",\n\"---\",\n\"---\",\n\"---\"],\n [{\n            'v': 949,\n            'f': \"949\",\n        },\n\"2017-03-15 00:06:21.575\",\n{\n            'v': 0.0,\n            'f': \"0.0\",\n        },\n\"UDP  \",\n\"DNS\",\n{\n            'v': 53,\n            'f': \"53\",\n        },\n\"192.168.220.16\",\n{\n            'v': 49715.0,\n            'f': \"49715.0\",\n        },\n{\n            'v': 2,\n            'f': \"2\",\n        },\n\"     565\",\n{\n            'v': 1,\n            'f': \"1\",\n        },\n\"......\",\n{\n            'v': 0,\n            'f': \"0\",\n        },\n\"normal\",\n\"---\",\n\"---\",\n\"---\"],\n [{\n            'v': 953,\n            'f': \"953\",\n        },\n\"2017-03-15 00:06:21.654\",\n{\n            'v': 0.018000000000000002,\n            'f': \"0.018000000000000002\",\n        },\n\"TCP  \",\n\"192.168.200.4\",\n{\n            'v': 56979,\n            'f': \"56979\",\n        },\n\"EXT_SERVER\",\n{\n            'v': 8082.0,\n            'f': \"8082.0\",\n        },\n{\n            'v': 2,\n            'f': \"2\",\n        },\n\"     338\",\n{\n            'v': 1,\n            'f': \"1\",\n        },\n\".AP...\",\n{\n            'v': 0,\n            'f': \"0\",\n        },\n\"normal\",\n\"---\",\n\"---\",\n\"---\"]],\n        columns: [[\"number\", \"index\"], [\"string\", \"Date first seen\"], [\"number\", \"Duration\"], [\"string\", \"Proto\"], [\"string\", \"Src IP Addr\"], [\"number\", \"Src Pt\"], [\"string\", \"Dst IP Addr\"], [\"number\", \"Dst Pt\"], [\"number\", \"Packets\"], [\"string\", \"Bytes\"], [\"number\", \"Flows\"], [\"string\", \"Flags\"], [\"number\", \"Tos\"], [\"string\", \"class\"], [\"string\", \"attackType\"], [\"string\", \"attackID\"], [\"string\", \"attackDescription\"]],\n        columnOptions: [{\"width\": \"1px\", \"className\": \"index_column\"}],\n        rowsPerPage: 25,\n        helpUrl: \"https://colab.research.google.com/notebooks/data_table.ipynb\",\n      });\n    ",
            "text/html": [
              "<div>\n",
              "<style scoped>\n",
              "    .dataframe tbody tr th:only-of-type {\n",
              "        vertical-align: middle;\n",
              "    }\n",
              "\n",
              "    .dataframe tbody tr th {\n",
              "        vertical-align: top;\n",
              "    }\n",
              "\n",
              "    .dataframe thead th {\n",
              "        text-align: right;\n",
              "    }\n",
              "</style>\n",
              "<table border=\"1\" class=\"dataframe\">\n",
              "  <thead>\n",
              "    <tr style=\"text-align: right;\">\n",
              "      <th></th>\n",
              "      <th>Date first seen</th>\n",
              "      <th>Duration</th>\n",
              "      <th>Proto</th>\n",
              "      <th>Src IP Addr</th>\n",
              "      <th>Src Pt</th>\n",
              "      <th>Dst IP Addr</th>\n",
              "      <th>Dst Pt</th>\n",
              "      <th>Packets</th>\n",
              "      <th>Bytes</th>\n",
              "      <th>Flows</th>\n",
              "      <th>Flags</th>\n",
              "      <th>Tos</th>\n",
              "      <th>class</th>\n",
              "      <th>attackType</th>\n",
              "      <th>attackID</th>\n",
              "      <th>attackDescription</th>\n",
              "    </tr>\n",
              "  </thead>\n",
              "  <tbody>\n",
              "    <tr>\n",
              "      <th>23</th>\n",
              "      <td>2017-03-15 00:01:17.728</td>\n",
              "      <td>0.047</td>\n",
              "      <td>TCP</td>\n",
              "      <td>192.168.220.16</td>\n",
              "      <td>45586</td>\n",
              "      <td>10000_35</td>\n",
              "      <td>443.0</td>\n",
              "      <td>5</td>\n",
              "      <td>906</td>\n",
              "      <td>1</td>\n",
              "      <td>.AP.S.</td>\n",
              "      <td>0</td>\n",
              "      <td>normal</td>\n",
              "      <td>---</td>\n",
              "      <td>---</td>\n",
              "      <td>---</td>\n",
              "    </tr>\n",
              "    <tr>\n",
              "      <th>36</th>\n",
              "      <td>2017-03-15 00:01:18.457</td>\n",
              "      <td>0.170</td>\n",
              "      <td>TCP</td>\n",
              "      <td>10003_195</td>\n",
              "      <td>80</td>\n",
              "      <td>192.168.220.16</td>\n",
              "      <td>48286.0</td>\n",
              "      <td>3</td>\n",
              "      <td>908</td>\n",
              "      <td>1</td>\n",
              "      <td>.AP.S.</td>\n",
              "      <td>32</td>\n",
              "      <td>normal</td>\n",
              "      <td>---</td>\n",
              "      <td>---</td>\n",
              "      <td>---</td>\n",
              "    </tr>\n",
              "    <tr>\n",
              "      <th>30</th>\n",
              "      <td>2017-03-15 00:01:18.511</td>\n",
              "      <td>0.003</td>\n",
              "      <td>TCP</td>\n",
              "      <td>10002_113</td>\n",
              "      <td>443</td>\n",
              "      <td>192.168.220.16</td>\n",
              "      <td>49062.0</td>\n",
              "      <td>2</td>\n",
              "      <td>1089</td>\n",
              "      <td>1</td>\n",
              "      <td>.AP...</td>\n",
              "      <td>32</td>\n",
              "      <td>normal</td>\n",
              "      <td>---</td>\n",
              "      <td>---</td>\n",
              "      <td>---</td>\n",
              "    </tr>\n",
              "    <tr>\n",
              "      <th>46</th>\n",
              "      <td>2017-03-15 00:01:22.400</td>\n",
              "      <td>0.000</td>\n",
              "      <td>TCP</td>\n",
              "      <td>EXT_SERVER</td>\n",
              "      <td>8082</td>\n",
              "      <td>192.168.220.15</td>\n",
              "      <td>37039.0</td>\n",
              "      <td>1</td>\n",
              "      <td>212</td>\n",
              "      <td>1</td>\n",
              "      <td>.AP...</td>\n",
              "      <td>32</td>\n",
              "      <td>normal</td>\n",
              "      <td>---</td>\n",
              "      <td>---</td>\n",
              "      <td>---</td>\n",
              "    </tr>\n",
              "    <tr>\n",
              "      <th>51</th>\n",
              "      <td>2017-03-15 00:01:24.152</td>\n",
              "      <td>0.266</td>\n",
              "      <td>TCP</td>\n",
              "      <td>192.168.200.9</td>\n",
              "      <td>52290</td>\n",
              "      <td>EXT_SERVER</td>\n",
              "      <td>8082.0</td>\n",
              "      <td>2</td>\n",
              "      <td>319</td>\n",
              "      <td>1</td>\n",
              "      <td>.AP...</td>\n",
              "      <td>0</td>\n",
              "      <td>normal</td>\n",
              "      <td>---</td>\n",
              "      <td>---</td>\n",
              "      <td>---</td>\n",
              "    </tr>\n",
              "    <tr>\n",
              "      <th>...</th>\n",
              "      <td>...</td>\n",
              "      <td>...</td>\n",
              "      <td>...</td>\n",
              "      <td>...</td>\n",
              "      <td>...</td>\n",
              "      <td>...</td>\n",
              "      <td>...</td>\n",
              "      <td>...</td>\n",
              "      <td>...</td>\n",
              "      <td>...</td>\n",
              "      <td>...</td>\n",
              "      <td>...</td>\n",
              "      <td>...</td>\n",
              "      <td>...</td>\n",
              "      <td>...</td>\n",
              "      <td>...</td>\n",
              "    </tr>\n",
              "    <tr>\n",
              "      <th>909</th>\n",
              "      <td>2017-03-15 00:06:10.876</td>\n",
              "      <td>0.000</td>\n",
              "      <td>UDP</td>\n",
              "      <td>DNS</td>\n",
              "      <td>53</td>\n",
              "      <td>192.168.220.16</td>\n",
              "      <td>36031.0</td>\n",
              "      <td>2</td>\n",
              "      <td>565</td>\n",
              "      <td>1</td>\n",
              "      <td>......</td>\n",
              "      <td>0</td>\n",
              "      <td>normal</td>\n",
              "      <td>---</td>\n",
              "      <td>---</td>\n",
              "      <td>---</td>\n",
              "    </tr>\n",
              "    <tr>\n",
              "      <th>954</th>\n",
              "      <td>2017-03-15 00:06:21.221</td>\n",
              "      <td>0.323</td>\n",
              "      <td>TCP</td>\n",
              "      <td>192.168.220.16</td>\n",
              "      <td>48573</td>\n",
              "      <td>10003_195</td>\n",
              "      <td>80.0</td>\n",
              "      <td>5</td>\n",
              "      <td>2408</td>\n",
              "      <td>1</td>\n",
              "      <td>.AP.S.</td>\n",
              "      <td>0</td>\n",
              "      <td>normal</td>\n",
              "      <td>---</td>\n",
              "      <td>---</td>\n",
              "      <td>---</td>\n",
              "    </tr>\n",
              "    <tr>\n",
              "      <th>947</th>\n",
              "      <td>2017-03-15 00:06:21.349</td>\n",
              "      <td>0.000</td>\n",
              "      <td>UDP</td>\n",
              "      <td>DNS</td>\n",
              "      <td>53</td>\n",
              "      <td>192.168.220.16</td>\n",
              "      <td>42319.0</td>\n",
              "      <td>2</td>\n",
              "      <td>565</td>\n",
              "      <td>1</td>\n",
              "      <td>......</td>\n",
              "      <td>0</td>\n",
              "      <td>normal</td>\n",
              "      <td>---</td>\n",
              "      <td>---</td>\n",
              "      <td>---</td>\n",
              "    </tr>\n",
              "    <tr>\n",
              "      <th>949</th>\n",
              "      <td>2017-03-15 00:06:21.575</td>\n",
              "      <td>0.000</td>\n",
              "      <td>UDP</td>\n",
              "      <td>DNS</td>\n",
              "      <td>53</td>\n",
              "      <td>192.168.220.16</td>\n",
              "      <td>49715.0</td>\n",
              "      <td>2</td>\n",
              "      <td>565</td>\n",
              "      <td>1</td>\n",
              "      <td>......</td>\n",
              "      <td>0</td>\n",
              "      <td>normal</td>\n",
              "      <td>---</td>\n",
              "      <td>---</td>\n",
              "      <td>---</td>\n",
              "    </tr>\n",
              "    <tr>\n",
              "      <th>953</th>\n",
              "      <td>2017-03-15 00:06:21.654</td>\n",
              "      <td>0.018</td>\n",
              "      <td>TCP</td>\n",
              "      <td>192.168.200.4</td>\n",
              "      <td>56979</td>\n",
              "      <td>EXT_SERVER</td>\n",
              "      <td>8082.0</td>\n",
              "      <td>2</td>\n",
              "      <td>338</td>\n",
              "      <td>1</td>\n",
              "      <td>.AP...</td>\n",
              "      <td>0</td>\n",
              "      <td>normal</td>\n",
              "      <td>---</td>\n",
              "      <td>---</td>\n",
              "      <td>---</td>\n",
              "    </tr>\n",
              "  </tbody>\n",
              "</table>\n",
              "<p>100 rows × 16 columns</p>\n",
              "</div>"
            ],
            "text/plain": [
              "             Date first seen  Duration  ... attackID attackDescription\n",
              "23   2017-03-15 00:01:17.728     0.047  ...      ---               ---\n",
              "36   2017-03-15 00:01:18.457     0.170  ...      ---               ---\n",
              "30   2017-03-15 00:01:18.511     0.003  ...      ---               ---\n",
              "46   2017-03-15 00:01:22.400     0.000  ...      ---               ---\n",
              "51   2017-03-15 00:01:24.152     0.266  ...      ---               ---\n",
              "..                       ...       ...  ...      ...               ...\n",
              "909  2017-03-15 00:06:10.876     0.000  ...      ---               ---\n",
              "954  2017-03-15 00:06:21.221     0.323  ...      ---               ---\n",
              "947  2017-03-15 00:06:21.349     0.000  ...      ---               ---\n",
              "949  2017-03-15 00:06:21.575     0.000  ...      ---               ---\n",
              "953  2017-03-15 00:06:21.654     0.018  ...      ---               ---\n",
              "\n",
              "[100 rows x 16 columns]"
            ]
          },
          "metadata": {
            "tags": []
          },
          "execution_count": 3
        }
      ]
    },
    {
      "cell_type": "markdown",
      "metadata": {
        "id": "PGITLdtJ_wq0",
        "colab_type": "text"
      },
      "source": [
        "### Describe the data:\n",
        "- How many columns and how many rows are there?"
      ]
    },
    {
      "cell_type": "code",
      "metadata": {
        "id": "gjcyX-at_wq0",
        "colab_type": "code",
        "outputId": "5884946c-c7a9-4f80-b096-b711c3fca9ff",
        "colab": {
          "base_uri": "https://localhost:8080/"
        }
      },
      "source": [
        "print(\"Number of rows =\", len(df.index)) ## or print(\"Number of rows =\", df.shape[0])"
      ],
      "execution_count": 0,
      "outputs": [
        {
          "output_type": "stream",
          "text": [
            "Number of rows = 845152\n"
          ],
          "name": "stdout"
        }
      ]
    },
    {
      "cell_type": "code",
      "metadata": {
        "id": "L3HqxmGY_wq0",
        "colab_type": "code",
        "outputId": "031c00c7-e060-45d3-e05e-eb5b56174f3a",
        "colab": {
          "base_uri": "https://localhost:8080/"
        }
      },
      "source": [
        "print(\"Number of columns =\", len(df.columns)) ## or df.shape[1]"
      ],
      "execution_count": 0,
      "outputs": [
        {
          "output_type": "stream",
          "text": [
            "Number of columns = 16\n"
          ],
          "name": "stdout"
        }
      ]
    },
    {
      "cell_type": "markdown",
      "metadata": {
        "id": "N5mCE6sJNCjA",
        "colab_type": "text"
      },
      "source": [
        "- How many unique values does the 'class' attribute take?\n"
      ]
    },
    {
      "cell_type": "code",
      "metadata": {
        "id": "iR70nPNLQOWw",
        "colab_type": "code",
        "outputId": "7747318d-98eb-4cb2-91d0-8ca3492269a7",
        "colab": {
          "base_uri": "https://localhost:8080/"
        }
      },
      "source": [
        "print(\"Number of unique values =\", len(df['class'].unique()))\n",
        "print(\"Unique values =\", df['class'].unique())"
      ],
      "execution_count": 0,
      "outputs": [
        {
          "output_type": "stream",
          "text": [
            "Number of unique values = 3\n",
            "Unique values = ['normal' 'attacker' 'victim']\n"
          ],
          "name": "stdout"
        }
      ]
    },
    {
      "cell_type": "markdown",
      "metadata": {
        "id": "08h85K97QPQk",
        "colab_type": "text"
      },
      "source": [
        "- How many rows are there for each unique value of the class attribute?\n"
      ]
    },
    {
      "cell_type": "code",
      "metadata": {
        "id": "tAX8VGWfRbxc",
        "colab_type": "code",
        "outputId": "b7c1796e-569d-4908-91c2-79cf7a6e65be",
        "colab": {
          "base_uri": "https://localhost:8080/"
        }
      },
      "source": [
        "print(df['class'].value_counts())"
      ],
      "execution_count": 0,
      "outputs": [
        {
          "output_type": "stream",
          "text": [
            "normal      700513\n",
            "attacker     75124\n",
            "victim       69515\n",
            "Name: class, dtype: int64\n"
          ],
          "name": "stdout"
        }
      ]
    },
    {
      "cell_type": "markdown",
      "metadata": {
        "id": "bIyc01kbRkg0",
        "colab_type": "text"
      },
      "source": [
        "- What unique values does the 'attackType' attribute take on?\n"
      ]
    },
    {
      "cell_type": "code",
      "metadata": {
        "id": "Ty8OUOPuSUGI",
        "colab_type": "code",
        "outputId": "9a2b3dc6-22e2-4055-b953-6757a209b7ad",
        "colab": {
          "base_uri": "https://localhost:8080/"
        }
      },
      "source": [
        "print(\"Number of unique values =\", len(df['attackType'].unique()))\n",
        "print(\"Unique values =\", df['attackType'].unique())"
      ],
      "execution_count": 0,
      "outputs": [
        {
          "output_type": "stream",
          "text": [
            "Number of unique values = 5\n",
            "Unique values = ['---' 'portScan' 'dos' 'pingScan' 'bruteForce']\n"
          ],
          "name": "stdout"
        }
      ]
    },
    {
      "cell_type": "markdown",
      "metadata": {
        "id": "Fortq7ieSfxA",
        "colab_type": "text"
      },
      "source": [
        "- List the count of each of the possible attack types."
      ]
    },
    {
      "cell_type": "code",
      "metadata": {
        "id": "XeXkyENKSiWo",
        "colab_type": "code",
        "outputId": "cf304127-090a-4dbc-a171-3617478420ec",
        "colab": {
          "base_uri": "https://localhost:8080/"
        }
      },
      "source": [
        "print(df['attackType'].value_counts())"
      ],
      "execution_count": 0,
      "outputs": [
        {
          "output_type": "stream",
          "text": [
            "---           700513\n",
            "dos           125430\n",
            "portScan       18686\n",
            "pingScan         355\n",
            "bruteForce       168\n",
            "Name: attackType, dtype: int64\n"
          ],
          "name": "stdout"
        }
      ]
    },
    {
      "cell_type": "markdown",
      "metadata": {
        "id": "5HdXVYi7_wq0",
        "colab_type": "text"
      },
      "source": [
        "### Have a look at the other columns:\n",
        "- Which columns contain numeric values?\n"
      ]
    },
    {
      "cell_type": "code",
      "metadata": {
        "id": "qS_KW2Rm_wq0",
        "colab_type": "code",
        "outputId": "cc096178-8043-498e-8655-dff1b164f96c",
        "colab": {
          "base_uri": "https://localhost:8080/",
          "height": 35
        }
      },
      "source": [
        "numerics = ['int16', 'int32', 'int64', 'float16', 'float32', 'float64']\n",
        "\n",
        "df.select_dtypes(include=numerics).columns"
      ],
      "execution_count": 0,
      "outputs": [
        {
          "output_type": "execute_result",
          "data": {
            "text/plain": [
              "Index(['Duration', 'Src Pt', 'Dst Pt', 'Packets', 'Flows', 'Tos'], dtype='object')"
            ]
          },
          "metadata": {
            "tags": []
          },
          "execution_count": 10
        }
      ]
    },
    {
      "cell_type": "markdown",
      "metadata": {
        "id": "UubDj1bbP334",
        "colab_type": "text"
      },
      "source": [
        "*N.b. The column \"Bytes\" is not considered as a numeric one because it contains mixed values (such as numeric and strings).*"
      ]
    },
    {
      "cell_type": "markdown",
      "metadata": {
        "id": "XUOuKl7MU0w8",
        "colab_type": "text"
      },
      "source": [
        "- Do they all correspond to \"numeric variables\" or are some of them categorical? Note that categorical values are often expressed as numbers! (For numeric types, comparisons with with “>” and “<” makes sense, for categorical variables they don’t.)\n"
      ]
    },
    {
      "cell_type": "markdown",
      "metadata": {
        "id": "D7UKMz93X4tk",
        "colab_type": "text"
      },
      "source": [
        "No, not all of them. Only 'Duration', ' and 'Packets'."
      ]
    },
    {
      "cell_type": "markdown",
      "metadata": {
        "id": "00L0weF7U4Fc",
        "colab_type": "text"
      },
      "source": [
        "- List all numeric types and compute simple statistics (minimum, maximum, average, etc.) for each.\n"
      ]
    },
    {
      "cell_type": "code",
      "metadata": {
        "id": "ZFyP-l0iYwjA",
        "colab_type": "code",
        "outputId": "c7e84a6d-40f6-4045-e3fb-5811895f9519",
        "colab": {
          "base_uri": "https://localhost:8080/",
          "height": 362
        }
      },
      "source": [
        "print(df.Duration.describe(), \"\\n\")\n",
        "print(df.Packets.describe())"
      ],
      "execution_count": 0,
      "outputs": [
        {
          "output_type": "stream",
          "text": [
            "count    845152.000000\n",
            "mean          0.113840\n",
            "std           0.760426\n",
            "min           0.000000\n",
            "25%           0.000000\n",
            "50%           0.000000\n",
            "75%           0.025000\n",
            "max         135.403000\n",
            "Name: Duration, dtype: float64 \n",
            "\n",
            "count    845152.000000\n",
            "mean         14.902497\n",
            "std         978.309853\n",
            "min           1.000000\n",
            "25%           1.000000\n",
            "50%           2.000000\n",
            "75%           4.000000\n",
            "max      195912.000000\n",
            "Name: Packets, dtype: float64\n"
          ],
          "name": "stdout"
        }
      ]
    },
    {
      "cell_type": "markdown",
      "metadata": {
        "id": "MtxYAdcYYxbQ",
        "colab_type": "text"
      },
      "source": [
        "- Plot the distribution of the numeric variables using a histogram. Do any of the values look too large or too small?"
      ]
    },
    {
      "cell_type": "code",
      "metadata": {
        "id": "KRBhVc_FbUY8",
        "colab_type": "code",
        "outputId": "7bacff1f-623a-47f4-ead8-f96da282158d",
        "colab": {
          "base_uri": "https://localhost:8080/",
          "height": 573
        }
      },
      "source": [
        "plt.title('Histogram of Duration')\n",
        "plt.xlabel('Duration')\n",
        "plt.hist(df['Duration'].values, color='xkcd:crimson', log=True)\n",
        "plt.show() \n",
        "\n",
        "plt.title('Histogram of Packets')\n",
        "plt.xlabel('Packets')\n",
        "plt.hist(df['Packets'].values, color='xkcd:leaf green', log=True)\n",
        "plt.show()"
      ],
      "execution_count": 0,
      "outputs": [
        {
          "output_type": "display_data",
          "data": {
            "image/png": "[encoded data removed]",
            "text/plain": [
              "<Figure size 432x288 with 1 Axes>"
            ]
          },
          "metadata": {
            "tags": []
          }
        },
        {
          "output_type": "display_data",
          "data": {
            "image/png": "[encoded data removed]",
            "text/plain": [
              "<Figure size 432x288 with 1 Axes>"
            ]
          },
          "metadata": {
            "tags": []
          }
        }
      ]
    },
    {
      "cell_type": "markdown",
      "metadata": {
        "id": "YKTJsyHo_wq0",
        "colab_type": "text"
      },
      "source": [
        "### Have a look at the times and dates that the system has come under attack:\n",
        "- Convert the 'Date first seen' column to a datetime object (see code in Appendix).\n"
      ]
    },
    {
      "cell_type": "code",
      "metadata": {
        "id": "pgpaqBfB_wq0",
        "colab_type": "code",
        "colab": {}
      },
      "source": [
        "df['Date first seen'] = pd.to_datetime(df['Date first seen'])"
      ],
      "execution_count": 0,
      "outputs": []
    },
    {
      "cell_type": "markdown",
      "metadata": {
        "id": "lUjBcWVuw7Dk",
        "colab_type": "text"
      },
      "source": [
        "- Create new columns for the day-of-week or time-of-day.\n"
      ]
    },
    {
      "cell_type": "code",
      "metadata": {
        "id": "9gjKrOBX_wq0",
        "colab_type": "code",
        "outputId": "ae0a15e1-f030-4d1a-c80a-506c07ac6a0f",
        "colab": {
          "base_uri": "https://localhost:8080/",
          "height": 53
        }
      },
      "source": [
        "df['Day of week'] = df['Date first seen'].dt.dayofweek\n",
        "df['Time of day'] = df['Date first seen'].dt.hour\n",
        "print(\"Day of the week =\", df['Day of week'].unique())\n",
        "print(\"Time of day =\", df['Time of day'].unique())"
      ],
      "execution_count": 0,
      "outputs": [
        {
          "output_type": "stream",
          "text": [
            "Day of the week = [2 3 4 5 6 0 1]\n",
            "Time of day = [ 0  1  2  3  4  5  6  7  8  9 10 11 12 13 14 15 16 17 18 19 20 21 22 23]\n"
          ],
          "name": "stdout"
        }
      ]
    },
    {
      "cell_type": "markdown",
      "metadata": {
        "id": "FBe9mlQNw-Dw",
        "colab_type": "text"
      },
      "source": [
        "- Plot histograms of the day-of-week and of the time-of-day to see their distribution in the data.\n"
      ]
    },
    {
      "cell_type": "code",
      "metadata": {
        "id": "2hIplhY3xAQY",
        "colab_type": "code",
        "outputId": "3142f391-a711-4725-b0f0-4bfd078b5804",
        "colab": {
          "base_uri": "https://localhost:8080/",
          "height": 295
        }
      },
      "source": [
        "plt.title('Histogram of Day distribution')\n",
        "plt.xlabel('Day of week')\n",
        "plt.hist(df['Day of week'].values, color='xkcd:sky blue', bins=25)\n",
        "plt.show()"
      ],
      "execution_count": 0,
      "outputs": [
        {
          "output_type": "display_data",
          "data": {
            "image/png": "[encoded data removed]",
            "text/plain": [
              "<Figure size 432x288 with 1 Axes>"
            ]
          },
          "metadata": {
            "tags": []
          }
        }
      ]
    },
    {
      "cell_type": "code",
      "metadata": {
        "id": "NLN8tD8s4l7M",
        "colab_type": "code",
        "outputId": "4e0e7a33-1e80-4ade-f50a-59fdfdeb1699",
        "colab": {
          "base_uri": "https://localhost:8080/",
          "height": 295
        }
      },
      "source": [
        "plt.title('Histogram of Time distribution')\n",
        "plt.xlabel('Time of day')\n",
        "plt.hist(df['Time of day'].values, color='xkcd:greenish yellow')\n",
        "plt.show()"
      ],
      "execution_count": 0,
      "outputs": [
        {
          "output_type": "display_data",
          "data": {
            "image/png": "[encoded data removed]",
            "text/plain": [
              "<Figure size 432x288 with 1 Axes>"
            ]
          },
          "metadata": {
            "tags": []
          }
        }
      ]
    },
    {
      "cell_type": "markdown",
      "metadata": {
        "id": "s-AGzHeXxAxM",
        "colab_type": "text"
      },
      "source": [
        "- Select only the rows corresponding to attacks and replot the histograms.\n"
      ]
    },
    {
      "cell_type": "code",
      "metadata": {
        "id": "c8tJilwTxBc8",
        "colab_type": "code",
        "outputId": "21c0adf2-2dd0-4f13-ac84-dce3e59105d5",
        "colab": {
          "base_uri": "https://localhost:8080/",
          "height": 295
        }
      },
      "source": [
        "plt.title('Histogram of Day distribution of attacks')\n",
        "plt.xlabel('Day of week')\n",
        "plt.hist(df[(df['class']==\"attacker\")| (df['class']==\"victim\")]['Day of week'].values, color='xkcd:dusty rose', bins=25)\n",
        "plt.show()"
      ],
      "execution_count": 0,
      "outputs": [
        {
          "output_type": "display_data",
          "data": {
            "image/png": "[encoded data removed]",
            "text/plain": [
              "<Figure size 432x288 with 1 Axes>"
            ]
          },
          "metadata": {
            "tags": []
          }
        }
      ]
    },
    {
      "cell_type": "code",
      "metadata": {
        "id": "m2eaWxgeGPR0",
        "colab_type": "code",
        "outputId": "08961ba3-d048-4e48-f4e1-a30a596e1be3",
        "colab": {
          "base_uri": "https://localhost:8080/",
          "height": 295
        }
      },
      "source": [
        "plt.title('Histogram of Time distribution of attacks')\n",
        "plt.xlabel('Time of day')\n",
        "plt.hist(df[(df['class']==\"attacker\")| (df['class']==\"victim\")]['Time of day'].values, color='xkcd:macaroni and cheese', log=True)\n",
        "plt.show()"
      ],
      "execution_count": 0,
      "outputs": [
        {
          "output_type": "display_data",
          "data": {
            "image/png": "[encoded data removed]",
            "text/plain": [
              "<Figure size 432x288 with 1 Axes>"
            ]
          },
          "metadata": {
            "tags": []
          }
        }
      ]
    },
    {
      "cell_type": "markdown",
      "metadata": {
        "id": "4zzcGNJdxESM",
        "colab_type": "text"
      },
      "source": [
        "- Does the day-of-week or time-of-day affect the probability of seeing an attack?"
      ]
    },
    {
      "cell_type": "markdown",
      "metadata": {
        "id": "uaT-T3ofdIYU",
        "colab_type": "text"
      },
      "source": [
        "Yes! "
      ]
    },
    {
      "cell_type": "markdown",
      "metadata": {
        "id": "SacBS1l2dNaM",
        "colab_type": "text"
      },
      "source": [
        "Some other visualization:"
      ]
    },
    {
      "cell_type": "markdown",
      "metadata": {
        "id": "3AcIh__SUha4",
        "colab_type": "text"
      },
      "source": [
        "Sometimes our features may be closely related to other features. We can easily calculate the correlation coefficient between pairs of features."
      ]
    },
    {
      "cell_type": "code",
      "metadata": {
        "id": "HuK16Bwt-Eap",
        "colab_type": "code",
        "outputId": "6c45e85a-fcca-4c1a-844a-6942f8c48bd4",
        "colab": {
          "base_uri": "https://localhost:8080/",
          "height": 317
        }
      },
      "source": [
        "corr = df.corr()\n",
        "mask = np.zeros_like(corr, dtype=np.bool)\n",
        "mask[np.triu_indices_from(mask)] = True\n",
        "\n",
        "cmap = sns.diverging_palette(220, 10, as_cmap=True)\n",
        "\n",
        "sns.heatmap(corr, mask=mask, cmap=cmap, square=True, linewidths=.5, center=0, vmax=1);"
      ],
      "execution_count": 0,
      "outputs": [
        {
          "output_type": "display_data",
          "data": {
            "image/png": "[encoded data removed]",
            "text/plain": [
              "<Figure size 432x288 with 2 Axes>"
            ]
          },
          "metadata": {
            "tags": []
          }
        }
      ]
    },
    {
      "cell_type": "code",
      "metadata": {
        "id": "DgZGN6YUFG_8",
        "colab_type": "code",
        "outputId": "b30ab176-6748-4926-b224-cf4e5005a578",
        "colab": {
          "base_uri": "https://localhost:8080/",
          "height": 312,
          "referenced_widgets": [
            "a4f252a925b241a29bbf732167743b98",
            "6d185a9a416f4341bacb2dc7801a571d",
            "293cc1240e7644b9bbe7af3d7d6a07ce",
            "6871e93eb3324d7ab4168447631c47c9",
            "3452f8e313c840ac8c08fe40ba6baf09",
            "69191a14200f4febbae39a8856815213"
          ]
        }
      },
      "source": [
        "feature_desc = {'Duration': 'Duration', 'Packets': 'Packets','Day of week' : 'Day of week','Time of day':'Time of day'}\n",
        "def plot_feature(column):\n",
        "    plt.plot(df['class'], df[column], '.')\n",
        "    plt.xlabel(feature_desc[column])\n",
        "    plt.ylabel('Class')\n",
        "\n",
        "dropdown_menu = {v: k for k, v in feature_desc.items()}\n",
        "\n",
        "widgets.interact(plot_feature, column=dropdown_menu);\n",
        "#no attaks on weekends\n",
        "#unbalanced features"
      ],
      "execution_count": 0,
      "outputs": [
        {
          "output_type": "display_data",
          "data": {
            "application/vnd.jupyter.widget-view+json": {
              "model_id": "a4f252a925b241a29bbf732167743b98",
              "version_minor": 0,
              "version_major": 2
            },
            "text/plain": [
              "interactive(children=(Dropdown(description='column', options={'Duration': 'Duration', 'Packets': 'Packets', 'D…"
            ]
          },
          "metadata": {
            "tags": []
          }
        }
      ]
    },
    {
      "cell_type": "markdown",
      "metadata": {
        "id": "XiEHsMQz_wq0",
        "colab_type": "text"
      },
      "source": [
        "### Now create some classifiers using just the numeric attributes and try to predict the ‘class’:\n",
        "- Train a logistic regression classifier.\n"
      ]
    },
    {
      "cell_type": "markdown",
      "metadata": {
        "id": "B2p9MCsneWoI",
        "colab_type": "text"
      },
      "source": [
        "In classification, we predict categorical labels. In regression, we predict quantitative/numerical labels. The critical difference is that we can't take a difference between the predicted and actual category in classification, while we can take a difference between the predicted and actual numerical values in regression. Because of these differences between regression and classification, we use different metrics to evaluate machine learning models trained for classification.\n",
        "\n",
        "As with regression, we're trying to determine the model $f$ that can best describes the relationship\n",
        "\n",
        "$$ y_j = f(X_j). $$\n",
        "\n",
        "For classification, $y_j$ can only take a finite set of values. If there are only two such values, we are dealing with **binary** classification. Examples of binary classification are predicting whether it will rain or not and whether someone will default on their loan. If we have more than two classes, we have a **multiclass** problem. For example, image classification is usually multiclass as we are trying to identify an image among a set of values, e.g., a person, a road sign, a car, etc."
      ]
    },
    {
      "cell_type": "code",
      "metadata": {
        "id": "6pznoysaN55E",
        "colab_type": "code",
        "colab": {}
      },
      "source": [
        "X_train,  X_test, y_train, y_test = train_test_split(\n",
        "    df[['Duration', 'Packets']],  \n",
        "    df[['class']], \n",
        "    test_size=0.20\n",
        ")"
      ],
      "execution_count": 0,
      "outputs": []
    },
    {
      "cell_type": "markdown",
      "metadata": {
        "id": "hubWmPxZTNmE",
        "colab_type": "text"
      },
      "source": [
        "The logistic regression model is the classifier version of linear regression. It is a probabilistic model; it will predict probability values that can then be used to assign class labels. The model works by taking the output of a linear regression model and feeds it into a sigmoid or logistic function. Mathematically\n",
        "\n",
        "$$ p_j = S\\left( \\sum_{i} X_{ji}\\beta_i  + \\beta_0 \\right), $$\n",
        "where\n",
        "$$ S(x) = \\frac{1}{1 + e^{-x}} $$"
      ]
    },
    {
      "cell_type": "markdown",
      "metadata": {
        "id": "9pgi-iY8TUPE",
        "colab_type": "text"
      },
      "source": [
        "The reason for the sigmoid function is that it maps values that range from positive to negative infinity to values that only range from 0 to 1. Thus, the output of the sigmoid function can be interpreted as a probability.\n",
        "\n",
        "The $\\beta$ coefficients of the model are chosen to minimize the log loss. Unlike linear regression, there is no closed-form solution to the optimal coefficient. Instead, the coefficients are solved using gradient descent."
      ]
    },
    {
      "cell_type": "code",
      "metadata": {
        "id": "W-1XGffY_wsY",
        "colab_type": "code",
        "outputId": "d55d9be3-b6f9-4075-d68d-a3d36f6d6495",
        "colab": {
          "base_uri": "https://localhost:8080/",
          "height": 128
        }
      },
      "source": [
        "from sklearn.linear_model import LogisticRegression\n",
        "\n",
        "# define the classifier\n",
        "clf_lr = LogisticRegression(solver='lbfgs', max_iter=1500, verbose=1, n_jobs=-1,multi_class='multinomial')\n",
        "\n",
        "# train the classifier\n",
        "t0 = time.time()\n",
        "clf_lr.fit(X_train, y_train)\n",
        "print(\"elapsed time = %.2f\" % (time.time()-t0))\n",
        "y_pred_lr = clf_lr.predict(X_test)"
      ],
      "execution_count": 0,
      "outputs": [
        {
          "output_type": "stream",
          "text": [
            "/usr/local/lib/python3.6/dist-packages/sklearn/utils/validation.py:724: DataConversionWarning: A column-vector y was passed when a 1d array was expected. Please change the shape of y to (n_samples, ), for example using ravel().\n",
            "  y = column_or_1d(y, warn=True)\n",
            "[Parallel(n_jobs=-1)]: Using backend LokyBackend with 4 concurrent workers.\n"
          ],
          "name": "stderr"
        },
        {
          "output_type": "stream",
          "text": [
            "elapsed time = 54.95\n"
          ],
          "name": "stdout"
        },
        {
          "output_type": "stream",
          "text": [
            "[Parallel(n_jobs=-1)]: Done   1 out of   1 | elapsed:   53.7s finished\n"
          ],
          "name": "stderr"
        }
      ]
    },
    {
      "cell_type": "markdown",
      "metadata": {
        "id": "7-QGWf20yq2Q",
        "colab_type": "text"
      },
      "source": [
        "- How well does the classifier perform in terms of accuracy on the TRAINING data?\n"
      ]
    },
    {
      "cell_type": "markdown",
      "metadata": {
        "id": "GH4v8gpwelbA",
        "colab_type": "text"
      },
      "source": [
        "A natural choice for a metric for classification is accuracy. Accuracy is equal to the number of observations you correctly classified over all observations. For example, if your model properly identified 77 out of 100 images, you have an accuracy of 77%. Accuracy is an easy metric to both understand and calculate. Mathematically, it is simply\n",
        "\n",
        "$$ \\frac{\\text{number of correct observations}}{\\text{number of observations}}.$$\n",
        "\n",
        "However, accuracy may not always be a good metric. Consider the case of disease detection where only 10% of the observations have the disease. A naive classifier that always predicts the majority class will achieve 90% accuracy. \n",
        "While the naive model correctly identifies everyone without the disease, it fails to identify any person with the disease. We need a metric that will tell us how well our model performs for a particular class."
      ]
    },
    {
      "cell_type": "markdown",
      "metadata": {
        "id": "-zmGcsGtezwM",
        "colab_type": "text"
      },
      "source": [
        "For the example of disease detection, we are more interested in determining our model's performance with regards to the class representing having the disease. Let's call this class  **positive** and not having the disease as **negative**. Particularly, we want to know what fraction of all positive predictions were correct and what fraction of positive observations did we identify. The two metrics that describe these values are precision and recall. Precision is the fraction of true positives over all positive predictions. It is a measure of how \"precise\" our model was with regards to labeling observations as positive. Recall, on the other hand, is equal to the fraction of true positives over all positive observations. It is a measure of our model's ability to \"catch\" and properly label observations that are positive.\n",
        "\n",
        "A confusion matrix is a table summarizing the performance of the model by enumerating true and false positives and the true and false negatives.\n",
        "\n",
        "|                     | Positive Observation     | Negative Observation    |\n",
        "|---------------------|:------------------------:|:-----------------------:|\n",
        "| Positive Prediction |     True Positive (TP)   | False Positive (FP)     |\n",
        "| Negative Prediction | False Negative (FN)      |     True Negative (TN)  |\n",
        "\n",
        "Given the definitions used earlier, the equation for precision and recall are\n",
        "\n",
        "$$ \\text{precision} = \\frac{\\text{TP}}{TP + FP}$$\n",
        "and\n",
        "$$ \\text{recall} = \\frac{\\text{TP}}{TP + FN}. $$\n"
      ]
    },
    {
      "cell_type": "markdown",
      "metadata": {
        "id": "3M2djZZMe6IA",
        "colab_type": "text"
      },
      "source": [
        "What is more important, precision or recall? The answer depends on the specifics of the problem. Having a model that prioritizes less false positives will have a higher precision and a model that aims to reduce the number of false negatives will have a higher recall. You must decide whether your model should prioritize reducing false positives or false negatives. It is often helpful to consider the cost, whether financial, societal, etc., of your model making false positives and false negatives."
      ]
    },
    {
      "cell_type": "code",
      "metadata": {
        "id": "uI18PvSs_wsY",
        "colab_type": "code",
        "outputId": "a34d4342-f0f8-4722-e6bf-a6a9257034f0",
        "colab": {
          "base_uri": "https://localhost:8080/",
          "height": 346
        }
      },
      "source": [
        "print(\"accuracy: {}\".format(metrics.accuracy_score(y_test, y_pred_lr)))\n",
        "print(\"precision: {:g}\".format(metrics.precision_score(y_test, y_pred_lr,average='macro')))\n",
        "print(\"recall: {:g}\".format(metrics.recall_score(y_test, y_pred_lr, average='macro')))\n",
        "print(metrics.classification_report(y_test, y_pred_lr))"
      ],
      "execution_count": 0,
      "outputs": [
        {
          "output_type": "stream",
          "text": [
            "accuracy: 0.8280137962858883\n"
          ],
          "name": "stdout"
        },
        {
          "output_type": "stream",
          "text": [
            "/usr/local/lib/python3.6/dist-packages/sklearn/metrics/classification.py:1437: UndefinedMetricWarning: Precision is ill-defined and being set to 0.0 in labels with no predicted samples.\n",
            "  'precision', 'predicted', average, warn_for)\n"
          ],
          "name": "stderr"
        },
        {
          "output_type": "stream",
          "text": [
            "precision: 0.276006\n",
            "recall: 0.333331\n"
          ],
          "name": "stdout"
        },
        {
          "output_type": "stream",
          "text": [
            "/usr/local/lib/python3.6/dist-packages/sklearn/metrics/classification.py:1437: UndefinedMetricWarning: Precision and F-score are ill-defined and being set to 0.0 in labels with no predicted samples.\n",
            "  'precision', 'predicted', average, warn_for)\n"
          ],
          "name": "stderr"
        },
        {
          "output_type": "stream",
          "text": [
            "              precision    recall  f1-score   support\n",
            "\n",
            "    attacker       0.00      0.00      0.00     15075\n",
            "      normal       0.83      1.00      0.91    139961\n",
            "      victim       0.00      0.00      0.00     13995\n",
            "\n",
            "    accuracy                           0.83    169031\n",
            "   macro avg       0.28      0.33      0.30    169031\n",
            "weighted avg       0.69      0.83      0.75    169031\n",
            "\n"
          ],
          "name": "stdout"
        }
      ]
    },
    {
      "cell_type": "markdown",
      "metadata": {
        "id": "WbMGxODayrug",
        "colab_type": "text"
      },
      "source": [
        "- Load data from the second week and use it as TEST data.\n"
      ]
    },
    {
      "cell_type": "code",
      "metadata": {
        "id": "oG6Owh2mysMM",
        "colab_type": "code",
        "outputId": "2efeed4d-dfd4-4d17-baa8-5d2d1b7dfa79",
        "colab": {
          "base_uri": "https://localhost:8080/",
          "height": 253
        }
      },
      "source": [
        "# Download a file based on its file ID.\n",
        "#\n",
        "# A file ID looks like: laggVyWshwcyP6kEI-y_W3P8D26sz\n",
        "file_id = '1GlIcKxKYsSY9QfRINrGBSDtEhyOwWuMa'\n",
        "downloaded = drive.CreateFile({'id': file_id})\n",
        "downloaded.GetContentFile('CIDDS-001-internal-week2_10pcSample.csv')  \n",
        "df_test = pd.read_csv('CIDDS-001-internal-week2_10pcSample.csv',index_col=[0],dtype={'Bytes': object})\n",
        "df_test.head(5)"
      ],
      "execution_count": 0,
      "outputs": [
        {
          "output_type": "stream",
          "text": [
            "/usr/local/lib/python3.6/dist-packages/numpy/lib/arraysetops.py:568: FutureWarning: elementwise comparison failed; returning scalar instead, but in the future will perform elementwise comparison\n",
            "  mask |= (ar1 == a)\n"
          ],
          "name": "stderr"
        },
        {
          "output_type": "execute_result",
          "data": {
            "application/vnd.google.colaboratory.module+javascript": "\n      import \"https://ssl.gstatic.com/colaboratory/data_table/9e554b27bdd509f3/data_table.js\";\n\n      window.createDataTable({\n        data: [[{\n            'v': 12,\n            'f': \"12\",\n        },\n\"2017-03-22 00:00:11.767\",\n{\n            'v': 0.004,\n            'f': \"0.004\",\n        },\n\"TCP  \",\n\"192.168.220.5\",\n{\n            'v': 55126,\n            'f': \"55126\",\n        },\n\"192.168.100.5\",\n{\n            'v': 445.0,\n            'f': \"445.0\",\n        },\n{\n            'v': 2,\n            'f': \"2\",\n        },\n\"     174\",\n{\n            'v': 1,\n            'f': \"1\",\n        },\n\".AP...\",\n{\n            'v': 0,\n            'f': \"0\",\n        },\n\"normal\",\n\"---\",\n\"---\",\n\"---\"],\n [{\n            'v': 11,\n            'f': \"11\",\n        },\n\"2017-03-22 00:00:11.768\",\n{\n            'v': 0.0,\n            'f': \"0.0\",\n        },\n\"TCP  \",\n\"192.168.100.5\",\n{\n            'v': 445,\n            'f': \"445\",\n        },\n\"192.168.220.5\",\n{\n            'v': 55126.0,\n            'f': \"55126.0\",\n        },\n{\n            'v': 1,\n            'f': \"1\",\n        },\n\"     108\",\n{\n            'v': 1,\n            'f': \"1\",\n        },\n\".AP...\",\n{\n            'v': 0,\n            'f': \"0\",\n        },\n\"normal\",\n\"---\",\n\"---\",\n\"---\"],\n [{\n            'v': 29,\n            'f': \"29\",\n        },\n\"2017-03-22 00:00:27.207\",\n{\n            'v': 0.232,\n            'f': \"0.232\",\n        },\n\"TCP  \",\n\"192.168.200.8\",\n{\n            'v': 58749,\n            'f': \"58749\",\n        },\n\"EXT_SERVER\",\n{\n            'v': 8082.0,\n            'f': \"8082.0\",\n        },\n{\n            'v': 2,\n            'f': \"2\",\n        },\n\"     319\",\n{\n            'v': 1,\n            'f': \"1\",\n        },\n\".AP...\",\n{\n            'v': 0,\n            'f': \"0\",\n        },\n\"normal\",\n\"---\",\n\"---\",\n\"---\"],\n [{\n            'v': 36,\n            'f': \"36\",\n        },\n\"2017-03-22 00:00:32.830\",\n{\n            'v': 0.0,\n            'f': \"0.0\",\n        },\n\"UDP  \",\n\"192.168.210.5\",\n{\n            'v': 50947,\n            'f': \"50947\",\n        },\n\"DNS\",\n{\n            'v': 53.0,\n            'f': \"53.0\",\n        },\n{\n            'v': 1,\n            'f': \"1\",\n        },\n\"      81\",\n{\n            'v': 1,\n            'f': \"1\",\n        },\n\"......\",\n{\n            'v': 0,\n            'f': \"0\",\n        },\n\"normal\",\n\"---\",\n\"---\",\n\"---\"],\n [{\n            'v': 51,\n            'f': \"51\",\n        },\n\"2017-03-22 00:00:46.964\",\n{\n            'v': 0.0,\n            'f': \"0.0\",\n        },\n\"TCP  \",\n\"10179_174\",\n{\n            'v': 443,\n            'f': \"443\",\n        },\n\"192.168.210.5\",\n{\n            'v': 51433.0,\n            'f': \"51433.0\",\n        },\n{\n            'v': 1,\n            'f': \"1\",\n        },\n\"      54\",\n{\n            'v': 1,\n            'f': \"1\",\n        },\n\".A....\",\n{\n            'v': 32,\n            'f': \"32\",\n        },\n\"normal\",\n\"---\",\n\"---\",\n\"---\"]],\n        columns: [[\"number\", \"index\"], [\"string\", \"Date first seen\"], [\"number\", \"Duration\"], [\"string\", \"Proto\"], [\"string\", \"Src IP Addr\"], [\"number\", \"Src Pt\"], [\"string\", \"Dst IP Addr\"], [\"number\", \"Dst Pt\"], [\"number\", \"Packets\"], [\"string\", \"Bytes\"], [\"number\", \"Flows\"], [\"string\", \"Flags\"], [\"number\", \"Tos\"], [\"string\", \"class\"], [\"string\", \"attackType\"], [\"string\", \"attackID\"], [\"string\", \"attackDescription\"]],\n        columnOptions: [{\"width\": \"1px\", \"className\": \"index_column\"}],\n        rowsPerPage: 25,\n        helpUrl: \"https://colab.research.google.com/notebooks/data_table.ipynb\",\n      });\n    ",
            "text/html": [
              "<div>\n",
              "<style scoped>\n",
              "    .dataframe tbody tr th:only-of-type {\n",
              "        vertical-align: middle;\n",
              "    }\n",
              "\n",
              "    .dataframe tbody tr th {\n",
              "        vertical-align: top;\n",
              "    }\n",
              "\n",
              "    .dataframe thead th {\n",
              "        text-align: right;\n",
              "    }\n",
              "</style>\n",
              "<table border=\"1\" class=\"dataframe\">\n",
              "  <thead>\n",
              "    <tr style=\"text-align: right;\">\n",
              "      <th></th>\n",
              "      <th>Date first seen</th>\n",
              "      <th>Duration</th>\n",
              "      <th>Proto</th>\n",
              "      <th>Src IP Addr</th>\n",
              "      <th>Src Pt</th>\n",
              "      <th>Dst IP Addr</th>\n",
              "      <th>Dst Pt</th>\n",
              "      <th>Packets</th>\n",
              "      <th>Bytes</th>\n",
              "      <th>Flows</th>\n",
              "      <th>Flags</th>\n",
              "      <th>Tos</th>\n",
              "      <th>class</th>\n",
              "      <th>attackType</th>\n",
              "      <th>attackID</th>\n",
              "      <th>attackDescription</th>\n",
              "    </tr>\n",
              "  </thead>\n",
              "  <tbody>\n",
              "    <tr>\n",
              "      <th>12</th>\n",
              "      <td>2017-03-22 00:00:11.767</td>\n",
              "      <td>0.004</td>\n",
              "      <td>TCP</td>\n",
              "      <td>192.168.220.5</td>\n",
              "      <td>55126</td>\n",
              "      <td>192.168.100.5</td>\n",
              "      <td>445.0</td>\n",
              "      <td>2</td>\n",
              "      <td>174</td>\n",
              "      <td>1</td>\n",
              "      <td>.AP...</td>\n",
              "      <td>0</td>\n",
              "      <td>normal</td>\n",
              "      <td>---</td>\n",
              "      <td>---</td>\n",
              "      <td>---</td>\n",
              "    </tr>\n",
              "    <tr>\n",
              "      <th>11</th>\n",
              "      <td>2017-03-22 00:00:11.768</td>\n",
              "      <td>0.000</td>\n",
              "      <td>TCP</td>\n",
              "      <td>192.168.100.5</td>\n",
              "      <td>445</td>\n",
              "      <td>192.168.220.5</td>\n",
              "      <td>55126.0</td>\n",
              "      <td>1</td>\n",
              "      <td>108</td>\n",
              "      <td>1</td>\n",
              "      <td>.AP...</td>\n",
              "      <td>0</td>\n",
              "      <td>normal</td>\n",
              "      <td>---</td>\n",
              "      <td>---</td>\n",
              "      <td>---</td>\n",
              "    </tr>\n",
              "    <tr>\n",
              "      <th>29</th>\n",
              "      <td>2017-03-22 00:00:27.207</td>\n",
              "      <td>0.232</td>\n",
              "      <td>TCP</td>\n",
              "      <td>192.168.200.8</td>\n",
              "      <td>58749</td>\n",
              "      <td>EXT_SERVER</td>\n",
              "      <td>8082.0</td>\n",
              "      <td>2</td>\n",
              "      <td>319</td>\n",
              "      <td>1</td>\n",
              "      <td>.AP...</td>\n",
              "      <td>0</td>\n",
              "      <td>normal</td>\n",
              "      <td>---</td>\n",
              "      <td>---</td>\n",
              "      <td>---</td>\n",
              "    </tr>\n",
              "    <tr>\n",
              "      <th>36</th>\n",
              "      <td>2017-03-22 00:00:32.830</td>\n",
              "      <td>0.000</td>\n",
              "      <td>UDP</td>\n",
              "      <td>192.168.210.5</td>\n",
              "      <td>50947</td>\n",
              "      <td>DNS</td>\n",
              "      <td>53.0</td>\n",
              "      <td>1</td>\n",
              "      <td>81</td>\n",
              "      <td>1</td>\n",
              "      <td>......</td>\n",
              "      <td>0</td>\n",
              "      <td>normal</td>\n",
              "      <td>---</td>\n",
              "      <td>---</td>\n",
              "      <td>---</td>\n",
              "    </tr>\n",
              "    <tr>\n",
              "      <th>51</th>\n",
              "      <td>2017-03-22 00:00:46.964</td>\n",
              "      <td>0.000</td>\n",
              "      <td>TCP</td>\n",
              "      <td>10179_174</td>\n",
              "      <td>443</td>\n",
              "      <td>192.168.210.5</td>\n",
              "      <td>51433.0</td>\n",
              "      <td>1</td>\n",
              "      <td>54</td>\n",
              "      <td>1</td>\n",
              "      <td>.A....</td>\n",
              "      <td>32</td>\n",
              "      <td>normal</td>\n",
              "      <td>---</td>\n",
              "      <td>---</td>\n",
              "      <td>---</td>\n",
              "    </tr>\n",
              "  </tbody>\n",
              "</table>\n",
              "</div>"
            ],
            "text/plain": [
              "            Date first seen  Duration  ... attackID attackDescription\n",
              "12  2017-03-22 00:00:11.767     0.004  ...      ---               ---\n",
              "11  2017-03-22 00:00:11.768     0.000  ...      ---               ---\n",
              "29  2017-03-22 00:00:27.207     0.232  ...      ---               ---\n",
              "36  2017-03-22 00:00:32.830     0.000  ...      ---               ---\n",
              "51  2017-03-22 00:00:46.964     0.000  ...      ---               ---\n",
              "\n",
              "[5 rows x 16 columns]"
            ]
          },
          "metadata": {
            "tags": []
          },
          "execution_count": 24
        }
      ]
    },
    {
      "cell_type": "code",
      "metadata": {
        "id": "q2iiQec9GscI",
        "colab_type": "code",
        "colab": {}
      },
      "source": [
        "y_pred_lr_test = clf_lr.predict(df_test[['Duration', 'Packets']])"
      ],
      "execution_count": 0,
      "outputs": []
    },
    {
      "cell_type": "markdown",
      "metadata": {
        "id": "4iwFINuRysgg",
        "colab_type": "text"
      },
      "source": [
        "- How well does the classifier perform (in terms of accuracy) on the TEST data?\n"
      ]
    },
    {
      "cell_type": "code",
      "metadata": {
        "id": "KS9ythIdys38",
        "colab_type": "code",
        "outputId": "2c4970a9-881e-4338-b284-1f270694ec9d",
        "colab": {
          "base_uri": "https://localhost:8080/",
          "height": 346
        }
      },
      "source": [
        "print(\"accuracy: {}\".format(metrics.accuracy_score(df_test[['class']], y_pred_lr_test)))\n",
        "print(\"precision: {:g}\".format(metrics.precision_score(df_test[['class']], y_pred_lr_test,average='macro')))\n",
        "print(\"recall: {:g}\".format(metrics.recall_score(df_test[['class']], y_pred_lr_test, average='macro')))\n",
        "print(metrics.classification_report(df_test[['class']], y_pred_lr_test))"
      ],
      "execution_count": 0,
      "outputs": [
        {
          "output_type": "stream",
          "text": [
            "accuracy: 0.8261219137733216\n"
          ],
          "name": "stdout"
        },
        {
          "output_type": "stream",
          "text": [
            "/usr/local/lib/python3.6/dist-packages/sklearn/metrics/classification.py:1437: UndefinedMetricWarning: Precision is ill-defined and being set to 0.0 in labels with no predicted samples.\n",
            "  'precision', 'predicted', average, warn_for)\n"
          ],
          "name": "stderr"
        },
        {
          "output_type": "stream",
          "text": [
            "precision: 0.275377\n",
            "recall: 0.333329\n"
          ],
          "name": "stdout"
        },
        {
          "output_type": "stream",
          "text": [
            "/usr/local/lib/python3.6/dist-packages/sklearn/metrics/classification.py:1437: UndefinedMetricWarning: Precision and F-score are ill-defined and being set to 0.0 in labels with no predicted samples.\n",
            "  'precision', 'predicted', average, warn_for)\n"
          ],
          "name": "stderr"
        },
        {
          "output_type": "stream",
          "text": [
            "              precision    recall  f1-score   support\n",
            "\n",
            "    attacker       0.00      0.00      0.00     91009\n",
            "      normal       0.83      1.00      0.90    851802\n",
            "      victim       0.00      0.00      0.00     88262\n",
            "\n",
            "    accuracy                           0.83   1031073\n",
            "   macro avg       0.28      0.33      0.30   1031073\n",
            "weighted avg       0.68      0.83      0.75   1031073\n",
            "\n"
          ],
          "name": "stdout"
        }
      ]
    },
    {
      "cell_type": "markdown",
      "metadata": {
        "id": "dlKDOnzGy1o4",
        "colab_type": "text"
      },
      "source": [
        "- Is that performance good? Print out confusion matrices to better understand the results."
      ]
    },
    {
      "cell_type": "code",
      "metadata": {
        "id": "3fub5Goby1-w",
        "colab_type": "code",
        "outputId": "81a42a75-808c-4057-e8cf-e0f3bbfeffa8",
        "colab": {
          "base_uri": "https://localhost:8080/",
          "height": 313
        }
      },
      "source": [
        "import matplotlib.pyplot as plt\n",
        "import seaborn as sns\n",
        "%matplotlib inline\n",
        "from sklearn.metrics import confusion_matrix\n",
        "matrix = metrics.confusion_matrix(df_test[['class']], y_pred_lr_test)\n",
        "sns.heatmap(matrix,annot=True,cbar=True, cmap='plasma')\n",
        "plt.ylabel('True Label')\n",
        "plt.xlabel('Predicted Label')\n",
        "plt.title('Confusion Matrix')"
      ],
      "execution_count": 0,
      "outputs": [
        {
          "output_type": "execute_result",
          "data": {
            "text/plain": [
              "Text(0.5, 1, 'Confusion Matrix')"
            ]
          },
          "metadata": {
            "tags": []
          },
          "execution_count": 27
        },
        {
          "output_type": "display_data",
          "data": {
            "image/png": "[encoded data removed]",
            "text/plain": [
              "<Figure size 432x288 with 2 Axes>"
            ]
          },
          "metadata": {
            "tags": []
          }
        }
      ]
    },
    {
      "cell_type": "markdown",
      "metadata": {
        "id": "A_XfZtMg-W9M",
        "colab_type": "text"
      },
      "source": [
        "Now let's optimize a bit this model. "
      ]
    },
    {
      "cell_type": "code",
      "metadata": {
        "id": "gxCExNPhuIwA",
        "colab_type": "code",
        "colab": {}
      },
      "source": [
        "df['Bytes']= df['Bytes'].apply(lambda r: float(r) if 'M' not in r else float(r.replace('M',''))*1000000)"
      ],
      "execution_count": 0,
      "outputs": []
    },
    {
      "cell_type": "code",
      "metadata": {
        "id": "xV2KL3IGs6tU",
        "colab_type": "code",
        "colab": {}
      },
      "source": [
        "df_test['Bytes']= df_test['Bytes'].apply(lambda r: float(r) if 'M' not in r else float(r.replace('M',''))*1000000)"
      ],
      "execution_count": 0,
      "outputs": []
    },
    {
      "cell_type": "code",
      "metadata": {
        "id": "B3RF5PZ0-QSo",
        "colab_type": "code",
        "outputId": "752b4e9c-3468-46aa-8da7-4b9db89bef29",
        "colab": {
          "base_uri": "https://localhost:8080/",
          "height": 509
        }
      },
      "source": [
        "from sklearn.model_selection import GridSearchCV\n",
        "from sklearn.pipeline import Pipeline\n",
        "from sklearn.linear_model import LogisticRegression\n",
        "\n",
        "# define the classifier\n",
        "clf_lr_op = LogisticRegression(solver='lbfgs', verbose=1, n_jobs=-1, multi_class='multinomial')\n",
        "\n",
        "X_train,  X_test, y_train, y_test = train_test_split(\n",
        "    df[['Duration', 'Packets', 'Bytes']],  \n",
        "    df[['class']], \n",
        "    test_size=0.20\n",
        ")\n",
        "\n",
        "pipe = Pipeline(steps=[('clf_lr_op', clf_lr_op)])\n",
        "param_grid = {\n",
        "    'clf_lr_op__max_iter': [50, 100, 1000]\n",
        "}\n",
        "t0 = time.time()\n",
        "searchLR = GridSearchCV(pipe, param_grid, iid=False, cv=3, verbose=True, n_jobs=-1)\n",
        "searchLR.fit(X_train, y_train)\n",
        "print(\"elapsed time = %.2f\" % (time.time()-t0))\n",
        "print(searchLR.best_params_)\n",
        "trainedLR = searchLR.best_estimator_.get_params()['clf_lr_op']\n",
        "y_pred_LR = trainedLR.predict(X_test)\n",
        "\n",
        "print(\"accuracy: {}\".format(metrics.accuracy_score(y_test, y_pred_LR)))\n",
        "print(\"precision: {:g}\".format(metrics.precision_score(y_test, y_pred_LR,average='macro')))\n",
        "print(\"recall: {:g}\".format(metrics.recall_score(y_test, y_pred_LR, average='macro')))\n",
        "print(metrics.classification_report(y_test, y_pred_LR))"
      ],
      "execution_count": 0,
      "outputs": [
        {
          "output_type": "stream",
          "text": [
            "Fitting 3 folds for each of 3 candidates, totalling 9 fits\n"
          ],
          "name": "stdout"
        },
        {
          "output_type": "stream",
          "text": [
            "[Parallel(n_jobs=-1)]: Using backend LokyBackend with 4 concurrent workers.\n",
            "[Parallel(n_jobs=-1)]: Done   9 out of   9 | elapsed:  1.8min finished\n",
            "/usr/local/lib/python3.6/dist-packages/sklearn/utils/validation.py:724: DataConversionWarning: A column-vector y was passed when a 1d array was expected. Please change the shape of y to (n_samples, ), for example using ravel().\n",
            "  y = column_or_1d(y, warn=True)\n",
            "[Parallel(n_jobs=-1)]: Using backend LokyBackend with 4 concurrent workers.\n",
            "[Parallel(n_jobs=-1)]: Done   1 out of   1 | elapsed:   31.6s finished\n"
          ],
          "name": "stderr"
        },
        {
          "output_type": "stream",
          "text": [
            "elapsed time = 145.29\n",
            "{'clf_lr_op__max_iter': 50}\n",
            "accuracy: 0.8272802030396791\n"
          ],
          "name": "stdout"
        },
        {
          "output_type": "stream",
          "text": [
            "/usr/local/lib/python3.6/dist-packages/sklearn/metrics/classification.py:1437: UndefinedMetricWarning: Precision is ill-defined and being set to 0.0 in labels with no predicted samples.\n",
            "  'precision', 'predicted', average, warn_for)\n"
          ],
          "name": "stderr"
        },
        {
          "output_type": "stream",
          "text": [
            "precision: 0.275776\n",
            "recall: 0.333309\n"
          ],
          "name": "stdout"
        },
        {
          "output_type": "stream",
          "text": [
            "/usr/local/lib/python3.6/dist-packages/sklearn/metrics/classification.py:1437: UndefinedMetricWarning: Precision and F-score are ill-defined and being set to 0.0 in labels with no predicted samples.\n",
            "  'precision', 'predicted', average, warn_for)\n"
          ],
          "name": "stderr"
        },
        {
          "output_type": "stream",
          "text": [
            "              precision    recall  f1-score   support\n",
            "\n",
            "    attacker       0.00      0.00      0.00     15297\n",
            "      normal       0.83      1.00      0.91    139846\n",
            "      victim       0.00      0.00      0.00     13888\n",
            "\n",
            "    accuracy                           0.83    169031\n",
            "   macro avg       0.28      0.33      0.30    169031\n",
            "weighted avg       0.68      0.83      0.75    169031\n",
            "\n"
          ],
          "name": "stdout"
        }
      ]
    },
    {
      "cell_type": "markdown",
      "metadata": {
        "id": "R_3GsKjv_wsY",
        "colab_type": "text"
      },
      "source": [
        "### Compare performance across different classifiers:\n",
        "- Try a Decision Tree and a Random Forest. Does the performance improve? Why?\n"
      ]
    },
    {
      "cell_type": "code",
      "metadata": {
        "id": "YsA6x157_wsY",
        "colab_type": "code",
        "outputId": "ebb5bbc0-0d5d-40b3-917b-c1e5bedb86ef",
        "colab": {
          "base_uri": "https://localhost:8080/",
          "height": 1000
        }
      },
      "source": [
        "!pip install graphviz\n",
        "import graphviz\n",
        "from sklearn.tree import DecisionTreeClassifier, export_graphviz\n",
        "\n",
        "X_train,  X_test, y_train, y_test = train_test_split( \n",
        "    df[['Duration', 'Packets', 'Bytes']],  \n",
        "    df[['class']], \n",
        "    test_size=0.20\n",
        ")\n",
        "\n",
        "# define the classifier\n",
        "clf_dt = DecisionTreeClassifier(max_depth=3)\n",
        "\n",
        "# train the classifier\n",
        "t0 = time.time()\n",
        "clf_dt.fit(X_train, y_train)\n",
        "print(\"elapsed time = %.2f\" % (time.time()-t0))\n",
        "\n",
        "# perform the prediction\n",
        "y_pred_dt = clf_dt.predict(X_test)\n",
        "\n",
        "\n",
        "print(\"accuracy: {}\".format(metrics.accuracy_score(y_test, y_pred_dt)))\n",
        "print(\"precision: {:g}\".format(metrics.precision_score(y_test, y_pred_dt,average='macro')))\n",
        "print(\"recall: {:g}\".format(metrics.recall_score(y_test, y_pred_dt, average='macro')))\n",
        "print(metrics.classification_report(y_test, y_pred_dt))\n",
        "\n",
        "y_pred_dt = clf_dt.predict(df_test[['Duration', 'Packets', 'Bytes']])\n",
        "print(\"accuracy: {}\".format(metrics.accuracy_score(df_test[['class']], y_pred_dt)))\n",
        "print(\"precision: {:g}\".format(metrics.precision_score(df_test[['class']], y_pred_dt,average='macro')))\n",
        "print(\"recall: {:g}\".format(metrics.recall_score(df_test[['class']], y_pred_dt, average='macro')))\n",
        "print(metrics.classification_report(df_test[['class']], y_pred_dt))\n",
        "\n",
        "# visual tree\n",
        "from sklearn import tree\n",
        "graphviz.Source(export_graphviz(clf_dt, \n",
        "                                out_file=None,\n",
        "                                feature_names=list(X_train.columns.values)))"
      ],
      "execution_count": 0,
      "outputs": [
        {
          "output_type": "stream",
          "text": [
            "Requirement already satisfied: graphviz in /usr/local/lib/python3.6/dist-packages (0.10.1)\n",
            "elapsed time = 1.39\n",
            "accuracy: 0.9765900929415314\n",
            "precision: 0.945378\n",
            "recall: 0.952296\n",
            "              precision    recall  f1-score   support\n",
            "\n",
            "    attacker       0.97      0.97      0.97     14868\n",
            "      normal       0.99      0.98      0.99    140046\n",
            "      victim       0.87      0.90      0.89     14117\n",
            "\n",
            "    accuracy                           0.98    169031\n",
            "   macro avg       0.95      0.95      0.95    169031\n",
            "weighted avg       0.98      0.98      0.98    169031\n",
            "\n",
            "accuracy: 0.9812729069619707\n",
            "precision: 0.949505\n",
            "recall: 0.973936\n",
            "              precision    recall  f1-score   support\n",
            "\n",
            "    attacker       0.98      0.98      0.98     91009\n",
            "      normal       0.99      0.98      0.99    851802\n",
            "      victim       0.88      0.96      0.92     88262\n",
            "\n",
            "    accuracy                           0.98   1031073\n",
            "   macro avg       0.95      0.97      0.96   1031073\n",
            "weighted avg       0.98      0.98      0.98   1031073\n",
            "\n"
          ],
          "name": "stdout"
        },
        {
          "output_type": "execute_result",
          "data": {
            "text/plain": [
              "<graphviz.files.Source at 0x7ff88c59c240>"
            ],
            "image/svg+xml": "<?xml version=\"1.0\" encoding=\"UTF-8\" standalone=\"no\"?>\n<!DOCTYPE svg PUBLIC \"-//W3C//DTD SVG 1.1//EN\"\n \"http://www.w3.org/Graphics/SVG/1.1/DTD/svg11.dtd\">\n<!-- Generated by graphviz version 2.40.1 (20161225.0304)\n -->\n<!-- Title: Tree Pages: 1 -->\n<svg width=\"1439pt\" height=\"373pt\"\n viewBox=\"0.00 0.00 1439.00 373.00\" xmlns=\"http://www.w3.org/2000/svg\" xmlns:xlink=\"http://www.w3.org/1999/xlink\">\n<g id=\"graph0\" class=\"graph\" transform=\"scale(1 1) rotate(0) translate(4 369)\">\n<title>Tree</title>\n<polygon fill=\"#ffffff\" stroke=\"transparent\" points=\"-4,4 -4,-369 1435,-369 1435,4 -4,4\"/>\n<!-- 0 -->\n<g id=\"node1\" class=\"node\">\n<title>0</title>\n<polygon fill=\"none\" stroke=\"#000000\" points=\"810,-365 603,-365 603,-297 810,-297 810,-365\"/>\n<text text-anchor=\"middle\" x=\"706.5\" y=\"-349.8\" font-family=\"Times,serif\" font-size=\"14.00\" fill=\"#000000\">Packets &lt;= 2.5</text>\n<text text-anchor=\"middle\" x=\"706.5\" y=\"-334.8\" font-family=\"Times,serif\" font-size=\"14.00\" fill=\"#000000\">gini = 0.298</text>\n<text text-anchor=\"middle\" x=\"706.5\" y=\"-319.8\" font-family=\"Times,serif\" font-size=\"14.00\" fill=\"#000000\">samples = 676121</text>\n<text text-anchor=\"middle\" x=\"706.5\" y=\"-304.8\" font-family=\"Times,serif\" font-size=\"14.00\" fill=\"#000000\">value = [60256, 560467, 55398]</text>\n</g>\n<!-- 1 -->\n<g id=\"node2\" class=\"node\">\n<title>1</title>\n<polygon fill=\"none\" stroke=\"#000000\" points=\"632.5,-261 440.5,-261 440.5,-193 632.5,-193 632.5,-261\"/>\n<text text-anchor=\"middle\" x=\"536.5\" y=\"-245.8\" font-family=\"Times,serif\" font-size=\"14.00\" fill=\"#000000\">Bytes &lt;= 60.0</text>\n<text text-anchor=\"middle\" x=\"536.5\" y=\"-230.8\" font-family=\"Times,serif\" font-size=\"14.00\" fill=\"#000000\">gini = 0.069</text>\n<text text-anchor=\"middle\" x=\"536.5\" y=\"-215.8\" font-family=\"Times,serif\" font-size=\"14.00\" fill=\"#000000\">samples = 433353</text>\n<text text-anchor=\"middle\" x=\"536.5\" y=\"-200.8\" font-family=\"Times,serif\" font-size=\"14.00\" fill=\"#000000\">value = [9785, 418020, 5548]</text>\n</g>\n<!-- 0&#45;&gt;1 -->\n<g id=\"edge1\" class=\"edge\">\n<title>0&#45;&gt;1</title>\n<path fill=\"none\" stroke=\"#000000\" d=\"M650.8356,-296.9465C634.9851,-287.2497 617.5832,-276.6039 601.2421,-266.6069\"/>\n<polygon fill=\"#000000\" stroke=\"#000000\" points=\"602.6463,-263.363 592.2894,-261.13 598.9933,-269.3342 602.6463,-263.363\"/>\n<text text-anchor=\"middle\" x=\"598.1439\" y=\"-281.7348\" font-family=\"Times,serif\" font-size=\"14.00\" fill=\"#000000\">True</text>\n</g>\n<!-- 8 -->\n<g id=\"node9\" class=\"node\">\n<title>8</title>\n<polygon fill=\"none\" stroke=\"#000000\" points=\"993,-261 786,-261 786,-193 993,-193 993,-261\"/>\n<text text-anchor=\"middle\" x=\"889.5\" y=\"-245.8\" font-family=\"Times,serif\" font-size=\"14.00\" fill=\"#000000\">Duration &lt;= 0.013</text>\n<text text-anchor=\"middle\" x=\"889.5\" y=\"-230.8\" font-family=\"Times,serif\" font-size=\"14.00\" fill=\"#000000\">gini = 0.57</text>\n<text text-anchor=\"middle\" x=\"889.5\" y=\"-215.8\" font-family=\"Times,serif\" font-size=\"14.00\" fill=\"#000000\">samples = 242768</text>\n<text text-anchor=\"middle\" x=\"889.5\" y=\"-200.8\" font-family=\"Times,serif\" font-size=\"14.00\" fill=\"#000000\">value = [50471, 142447, 49850]</text>\n</g>\n<!-- 0&#45;&gt;8 -->\n<g id=\"edge8\" class=\"edge\">\n<title>0&#45;&gt;8</title>\n<path fill=\"none\" stroke=\"#000000\" d=\"M766.421,-296.9465C783.6417,-287.1599 802.5633,-276.4066 820.2954,-266.3294\"/>\n<polygon fill=\"#000000\" stroke=\"#000000\" points=\"822.4796,-269.1139 829.4443,-261.13 819.0209,-263.028 822.4796,-269.1139\"/>\n<text text-anchor=\"middle\" x=\"822.8096\" y=\"-281.5335\" font-family=\"Times,serif\" font-size=\"14.00\" fill=\"#000000\">False</text>\n</g>\n<!-- 2 -->\n<g id=\"node3\" class=\"node\">\n<title>2</title>\n<polygon fill=\"none\" stroke=\"#000000\" points=\"369,-157 184,-157 184,-89 369,-89 369,-157\"/>\n<text text-anchor=\"middle\" x=\"276.5\" y=\"-141.8\" font-family=\"Times,serif\" font-size=\"14.00\" fill=\"#000000\">Bytes &lt;= 57.5</text>\n<text text-anchor=\"middle\" x=\"276.5\" y=\"-126.8\" font-family=\"Times,serif\" font-size=\"14.00\" fill=\"#000000\">gini = 0.381</text>\n<text text-anchor=\"middle\" x=\"276.5\" y=\"-111.8\" font-family=\"Times,serif\" font-size=\"14.00\" fill=\"#000000\">samples = 62700</text>\n<text text-anchor=\"middle\" x=\"276.5\" y=\"-96.8\" font-family=\"Times,serif\" font-size=\"14.00\" fill=\"#000000\">value = [9200, 48172, 5328]</text>\n</g>\n<!-- 1&#45;&gt;2 -->\n<g id=\"edge2\" class=\"edge\">\n<title>1&#45;&gt;2</title>\n<path fill=\"none\" stroke=\"#000000\" d=\"M451.3663,-192.9465C425.7775,-182.711 397.5452,-171.4181 371.3677,-160.9471\"/>\n<polygon fill=\"#000000\" stroke=\"#000000\" points=\"372.4097,-157.5943 361.825,-157.13 369.8099,-164.0936 372.4097,-157.5943\"/>\n</g>\n<!-- 5 -->\n<g id=\"node6\" class=\"node\">\n<title>5</title>\n<polygon fill=\"none\" stroke=\"#000000\" points=\"625,-157 448,-157 448,-89 625,-89 625,-157\"/>\n<text text-anchor=\"middle\" x=\"536.5\" y=\"-141.8\" font-family=\"Times,serif\" font-size=\"14.00\" fill=\"#000000\">Duration &lt;= 0.398</text>\n<text text-anchor=\"middle\" x=\"536.5\" y=\"-126.8\" font-family=\"Times,serif\" font-size=\"14.00\" fill=\"#000000\">gini = 0.004</text>\n<text text-anchor=\"middle\" x=\"536.5\" y=\"-111.8\" font-family=\"Times,serif\" font-size=\"14.00\" fill=\"#000000\">samples = 370653</text>\n<text text-anchor=\"middle\" x=\"536.5\" y=\"-96.8\" font-family=\"Times,serif\" font-size=\"14.00\" fill=\"#000000\">value = [585, 369848, 220]</text>\n</g>\n<!-- 1&#45;&gt;5 -->\n<g id=\"edge5\" class=\"edge\">\n<title>1&#45;&gt;5</title>\n<path fill=\"none\" stroke=\"#000000\" d=\"M536.5,-192.9465C536.5,-184.776 536.5,-175.9318 536.5,-167.3697\"/>\n<polygon fill=\"#000000\" stroke=\"#000000\" points=\"540.0001,-167.13 536.5,-157.13 533.0001,-167.13 540.0001,-167.13\"/>\n</g>\n<!-- 3 -->\n<g id=\"node4\" class=\"node\">\n<title>3</title>\n<polygon fill=\"none\" stroke=\"#000000\" points=\"177,-53 0,-53 0,0 177,0 177,-53\"/>\n<text text-anchor=\"middle\" x=\"88.5\" y=\"-37.8\" font-family=\"Times,serif\" font-size=\"14.00\" fill=\"#000000\">gini = 0.19</text>\n<text text-anchor=\"middle\" x=\"88.5\" y=\"-22.8\" font-family=\"Times,serif\" font-size=\"14.00\" fill=\"#000000\">samples = 53359</text>\n<text text-anchor=\"middle\" x=\"88.5\" y=\"-7.8\" font-family=\"Times,serif\" font-size=\"14.00\" fill=\"#000000\">value = [529, 47758, 5072]</text>\n</g>\n<!-- 2&#45;&gt;3 -->\n<g id=\"edge3\" class=\"edge\">\n<title>2&#45;&gt;3</title>\n<path fill=\"none\" stroke=\"#000000\" d=\"M210.2182,-88.9777C190.4143,-78.8124 168.8078,-67.7218 149.3689,-57.7439\"/>\n<polygon fill=\"#000000\" stroke=\"#000000\" points=\"150.8068,-54.5478 140.3121,-53.095 147.6102,-60.7754 150.8068,-54.5478\"/>\n</g>\n<!-- 4 -->\n<g id=\"node5\" class=\"node\">\n<title>4</title>\n<polygon fill=\"none\" stroke=\"#000000\" points=\"357.5,-53 195.5,-53 195.5,0 357.5,0 357.5,-53\"/>\n<text text-anchor=\"middle\" x=\"276.5\" y=\"-37.8\" font-family=\"Times,serif\" font-size=\"14.00\" fill=\"#000000\">gini = 0.136</text>\n<text text-anchor=\"middle\" x=\"276.5\" y=\"-22.8\" font-family=\"Times,serif\" font-size=\"14.00\" fill=\"#000000\">samples = 9341</text>\n<text text-anchor=\"middle\" x=\"276.5\" y=\"-7.8\" font-family=\"Times,serif\" font-size=\"14.00\" fill=\"#000000\">value = [8671, 414, 256]</text>\n</g>\n<!-- 2&#45;&gt;4 -->\n<g id=\"edge4\" class=\"edge\">\n<title>2&#45;&gt;4</title>\n<path fill=\"none\" stroke=\"#000000\" d=\"M276.5,-88.9777C276.5,-80.7364 276.5,-71.887 276.5,-63.5153\"/>\n<polygon fill=\"#000000\" stroke=\"#000000\" points=\"280.0001,-63.2484 276.5,-53.2485 273.0001,-63.2485 280.0001,-63.2484\"/>\n</g>\n<!-- 6 -->\n<g id=\"node7\" class=\"node\">\n<title>6</title>\n<polygon fill=\"none\" stroke=\"#000000\" points=\"553,-53 376,-53 376,0 553,0 553,-53\"/>\n<text text-anchor=\"middle\" x=\"464.5\" y=\"-37.8\" font-family=\"Times,serif\" font-size=\"14.00\" fill=\"#000000\">gini = 0.004</text>\n<text text-anchor=\"middle\" x=\"464.5\" y=\"-22.8\" font-family=\"Times,serif\" font-size=\"14.00\" fill=\"#000000\">samples = 367691</text>\n<text text-anchor=\"middle\" x=\"464.5\" y=\"-7.8\" font-family=\"Times,serif\" font-size=\"14.00\" fill=\"#000000\">value = [472, 367001, 218]</text>\n</g>\n<!-- 5&#45;&gt;6 -->\n<g id=\"edge6\" class=\"edge\">\n<title>5&#45;&gt;6</title>\n<path fill=\"none\" stroke=\"#000000\" d=\"M511.1155,-88.9777C504.42,-80.0039 497.1865,-70.3089 490.461,-61.295\"/>\n<polygon fill=\"#000000\" stroke=\"#000000\" points=\"493.2427,-59.1704 484.4574,-53.2485 487.6323,-63.3565 493.2427,-59.1704\"/>\n</g>\n<!-- 7 -->\n<g id=\"node8\" class=\"node\">\n<title>7</title>\n<polygon fill=\"none\" stroke=\"#000000\" points=\"717.5,-53 571.5,-53 571.5,0 717.5,0 717.5,-53\"/>\n<text text-anchor=\"middle\" x=\"644.5\" y=\"-37.8\" font-family=\"Times,serif\" font-size=\"14.00\" fill=\"#000000\">gini = 0.075</text>\n<text text-anchor=\"middle\" x=\"644.5\" y=\"-22.8\" font-family=\"Times,serif\" font-size=\"14.00\" fill=\"#000000\">samples = 2962</text>\n<text text-anchor=\"middle\" x=\"644.5\" y=\"-7.8\" font-family=\"Times,serif\" font-size=\"14.00\" fill=\"#000000\">value = [113, 2847, 2]</text>\n</g>\n<!-- 5&#45;&gt;7 -->\n<g id=\"edge7\" class=\"edge\">\n<title>5&#45;&gt;7</title>\n<path fill=\"none\" stroke=\"#000000\" d=\"M574.5768,-88.9777C585.1324,-79.546 596.5796,-69.3178 607.0964,-59.9208\"/>\n<polygon fill=\"#000000\" stroke=\"#000000\" points=\"609.439,-62.5213 614.5639,-53.2485 604.7749,-57.3015 609.439,-62.5213\"/>\n</g>\n<!-- 9 -->\n<g id=\"node10\" class=\"node\">\n<title>9</title>\n<polygon fill=\"none\" stroke=\"#000000\" points=\"985.5,-157 793.5,-157 793.5,-89 985.5,-89 985.5,-157\"/>\n<text text-anchor=\"middle\" x=\"889.5\" y=\"-141.8\" font-family=\"Times,serif\" font-size=\"14.00\" fill=\"#000000\">Packets &lt;= 4.5</text>\n<text text-anchor=\"middle\" x=\"889.5\" y=\"-126.8\" font-family=\"Times,serif\" font-size=\"14.00\" fill=\"#000000\">gini = 0.567</text>\n<text text-anchor=\"middle\" x=\"889.5\" y=\"-111.8\" font-family=\"Times,serif\" font-size=\"14.00\" fill=\"#000000\">samples = 107817</text>\n<text text-anchor=\"middle\" x=\"889.5\" y=\"-96.8\" font-family=\"Times,serif\" font-size=\"14.00\" fill=\"#000000\">value = [50030, 8187, 49600]</text>\n</g>\n<!-- 8&#45;&gt;9 -->\n<g id=\"edge9\" class=\"edge\">\n<title>8&#45;&gt;9</title>\n<path fill=\"none\" stroke=\"#000000\" d=\"M889.5,-192.9465C889.5,-184.776 889.5,-175.9318 889.5,-167.3697\"/>\n<polygon fill=\"#000000\" stroke=\"#000000\" points=\"893.0001,-167.13 889.5,-157.13 886.0001,-167.13 893.0001,-167.13\"/>\n</g>\n<!-- 12 -->\n<g id=\"node13\" class=\"node\">\n<title>12</title>\n<polygon fill=\"none\" stroke=\"#000000\" points=\"1254,-157 1077,-157 1077,-89 1254,-89 1254,-157\"/>\n<text text-anchor=\"middle\" x=\"1165.5\" y=\"-141.8\" font-family=\"Times,serif\" font-size=\"14.00\" fill=\"#000000\">Duration &lt;= 0.015</text>\n<text text-anchor=\"middle\" x=\"1165.5\" y=\"-126.8\" font-family=\"Times,serif\" font-size=\"14.00\" fill=\"#000000\">gini = 0.01</text>\n<text text-anchor=\"middle\" x=\"1165.5\" y=\"-111.8\" font-family=\"Times,serif\" font-size=\"14.00\" fill=\"#000000\">samples = 134951</text>\n<text text-anchor=\"middle\" x=\"1165.5\" y=\"-96.8\" font-family=\"Times,serif\" font-size=\"14.00\" fill=\"#000000\">value = [441, 134260, 250]</text>\n</g>\n<!-- 8&#45;&gt;12 -->\n<g id=\"edge12\" class=\"edge\">\n<title>8&#45;&gt;12</title>\n<path fill=\"none\" stroke=\"#000000\" d=\"M979.8727,-192.9465C1007.8395,-182.4083 1038.7808,-170.7492 1067.2537,-160.0203\"/>\n<polygon fill=\"#000000\" stroke=\"#000000\" points=\"1068.6837,-163.2218 1076.8072,-156.4205 1066.2153,-156.6714 1068.6837,-163.2218\"/>\n</g>\n<!-- 10 -->\n<g id=\"node11\" class=\"node\">\n<title>10</title>\n<polygon fill=\"none\" stroke=\"#000000\" points=\"897.5,-53 735.5,-53 735.5,0 897.5,0 897.5,-53\"/>\n<text text-anchor=\"middle\" x=\"816.5\" y=\"-37.8\" font-family=\"Times,serif\" font-size=\"14.00\" fill=\"#000000\">gini = 0.224</text>\n<text text-anchor=\"middle\" x=\"816.5\" y=\"-22.8\" font-family=\"Times,serif\" font-size=\"14.00\" fill=\"#000000\">samples = 56903</text>\n<text text-anchor=\"middle\" x=\"816.5\" y=\"-7.8\" font-family=\"Times,serif\" font-size=\"14.00\" fill=\"#000000\">value = [9, 7315, 49579]</text>\n</g>\n<!-- 9&#45;&gt;10 -->\n<g id=\"edge10\" class=\"edge\">\n<title>9&#45;&gt;10</title>\n<path fill=\"none\" stroke=\"#000000\" d=\"M863.7629,-88.9777C856.9744,-80.0039 849.6404,-70.3089 842.8216,-61.295\"/>\n<polygon fill=\"#000000\" stroke=\"#000000\" points=\"845.559,-59.1121 836.7346,-53.2485 839.9763,-63.3352 845.559,-59.1121\"/>\n</g>\n<!-- 11 -->\n<g id=\"node12\" class=\"node\">\n<title>11</title>\n<polygon fill=\"none\" stroke=\"#000000\" points=\"1077.5,-53 915.5,-53 915.5,0 1077.5,0 1077.5,-53\"/>\n<text text-anchor=\"middle\" x=\"996.5\" y=\"-37.8\" font-family=\"Times,serif\" font-size=\"14.00\" fill=\"#000000\">gini = 0.034</text>\n<text text-anchor=\"middle\" x=\"996.5\" y=\"-22.8\" font-family=\"Times,serif\" font-size=\"14.00\" fill=\"#000000\">samples = 50914</text>\n<text text-anchor=\"middle\" x=\"996.5\" y=\"-7.8\" font-family=\"Times,serif\" font-size=\"14.00\" fill=\"#000000\">value = [50021, 872, 21]</text>\n</g>\n<!-- 9&#45;&gt;11 -->\n<g id=\"edge11\" class=\"edge\">\n<title>9&#45;&gt;11</title>\n<path fill=\"none\" stroke=\"#000000\" d=\"M927.2242,-88.9777C937.5806,-79.6376 948.8031,-69.5163 959.139,-60.1947\"/>\n<polygon fill=\"#000000\" stroke=\"#000000\" points=\"961.7591,-62.5449 966.8411,-53.2485 957.0709,-57.3467 961.7591,-62.5449\"/>\n</g>\n<!-- 13 -->\n<g id=\"node14\" class=\"node\">\n<title>13</title>\n<polygon fill=\"none\" stroke=\"#000000\" points=\"1235.5,-53 1095.5,-53 1095.5,0 1235.5,0 1235.5,-53\"/>\n<text text-anchor=\"middle\" x=\"1165.5\" y=\"-37.8\" font-family=\"Times,serif\" font-size=\"14.00\" fill=\"#000000\">gini = 0.366</text>\n<text text-anchor=\"middle\" x=\"1165.5\" y=\"-22.8\" font-family=\"Times,serif\" font-size=\"14.00\" fill=\"#000000\">samples = 714</text>\n<text text-anchor=\"middle\" x=\"1165.5\" y=\"-7.8\" font-family=\"Times,serif\" font-size=\"14.00\" fill=\"#000000\">value = [97, 557, 60]</text>\n</g>\n<!-- 12&#45;&gt;13 -->\n<g id=\"edge13\" class=\"edge\">\n<title>12&#45;&gt;13</title>\n<path fill=\"none\" stroke=\"#000000\" d=\"M1165.5,-88.9777C1165.5,-80.7364 1165.5,-71.887 1165.5,-63.5153\"/>\n<polygon fill=\"#000000\" stroke=\"#000000\" points=\"1169.0001,-63.2484 1165.5,-53.2485 1162.0001,-63.2485 1169.0001,-63.2484\"/>\n</g>\n<!-- 14 -->\n<g id=\"node15\" class=\"node\">\n<title>14</title>\n<polygon fill=\"none\" stroke=\"#000000\" points=\"1431,-53 1254,-53 1254,0 1431,0 1431,-53\"/>\n<text text-anchor=\"middle\" x=\"1342.5\" y=\"-37.8\" font-family=\"Times,serif\" font-size=\"14.00\" fill=\"#000000\">gini = 0.008</text>\n<text text-anchor=\"middle\" x=\"1342.5\" y=\"-22.8\" font-family=\"Times,serif\" font-size=\"14.00\" fill=\"#000000\">samples = 134237</text>\n<text text-anchor=\"middle\" x=\"1342.5\" y=\"-7.8\" font-family=\"Times,serif\" font-size=\"14.00\" fill=\"#000000\">value = [344, 133703, 190]</text>\n</g>\n<!-- 12&#45;&gt;14 -->\n<g id=\"edge14\" class=\"edge\">\n<title>12&#45;&gt;14</title>\n<path fill=\"none\" stroke=\"#000000\" d=\"M1227.9036,-88.9777C1246.2956,-78.9504 1266.3391,-68.0228 1284.4462,-58.1508\"/>\n<polygon fill=\"#000000\" stroke=\"#000000\" points=\"1286.615,-60.9548 1293.7195,-53.095 1283.2642,-54.8089 1286.615,-60.9548\"/>\n</g>\n</g>\n</svg>\n"
          },
          "metadata": {
            "tags": []
          },
          "execution_count": 31
        }
      ]
    },
    {
      "cell_type": "code",
      "metadata": {
        "id": "QZE2RAYk5qzA",
        "colab_type": "code",
        "outputId": "bd33a947-606f-4996-8da5-3ba4848a3489",
        "colab": {
          "base_uri": "https://localhost:8080/",
          "height": 509
        }
      },
      "source": [
        "\n",
        "X_train,  X_test, y_train, y_test = train_test_split(\n",
        "    df[['Duration', 'Packets','Bytes']],  \n",
        "    df[['class']], \n",
        "    test_size=0.20\n",
        ")\n",
        "from sklearn.ensemble import RandomForestClassifier\n",
        "# define the classifier\n",
        "clf_rf = RandomForestClassifier(n_estimators=700, n_jobs=-1, verbose=1)\n",
        "\n",
        "# train the classifier\n",
        "t0 = time.time()\n",
        "clf_rf.fit(X_train, y_train)\n",
        "print(\"elapsed time = %.2f\" % (time.time()-t0))\n",
        "\n",
        "# perform the prediction\n",
        "y_pred_rf = clf_rf.predict(X_test)\n",
        "\n",
        "print(\"accuracy: {}\".format(metrics.accuracy_score(y_test, y_pred_rf)))\n",
        "print(\"precision: {:g}\".format(metrics.precision_score(y_test, y_pred_rf,average='macro')))\n",
        "print(\"recall: {:g}\".format(metrics.recall_score(y_test, y_pred_rf, average='macro')))\n",
        "print(metrics.classification_report(y_test, y_pred_rf))"
      ],
      "execution_count": 0,
      "outputs": [
        {
          "output_type": "stream",
          "text": [
            "/usr/local/lib/python3.6/dist-packages/ipykernel_launcher.py:13: DataConversionWarning: A column-vector y was passed when a 1d array was expected. Please change the shape of y to (n_samples,), for example using ravel().\n",
            "  del sys.path[0]\n",
            "[Parallel(n_jobs=-1)]: Using backend ThreadingBackend with 4 concurrent workers.\n",
            "[Parallel(n_jobs=-1)]: Done  42 tasks      | elapsed:    6.9s\n",
            "[Parallel(n_jobs=-1)]: Done 192 tasks      | elapsed:   30.5s\n",
            "[Parallel(n_jobs=-1)]: Done 442 tasks      | elapsed:  1.2min\n",
            "[Parallel(n_jobs=-1)]: Done 700 out of 700 | elapsed:  1.8min finished\n",
            "[Parallel(n_jobs=4)]: Using backend ThreadingBackend with 4 concurrent workers.\n"
          ],
          "name": "stderr"
        },
        {
          "output_type": "stream",
          "text": [
            "elapsed time = 112.17\n"
          ],
          "name": "stdout"
        },
        {
          "output_type": "stream",
          "text": [
            "[Parallel(n_jobs=4)]: Done  42 tasks      | elapsed:    0.2s\n",
            "[Parallel(n_jobs=4)]: Done 192 tasks      | elapsed:    1.1s\n",
            "[Parallel(n_jobs=4)]: Done 442 tasks      | elapsed:    2.4s\n",
            "[Parallel(n_jobs=4)]: Done 700 out of 700 | elapsed:    3.8s finished\n"
          ],
          "name": "stderr"
        },
        {
          "output_type": "stream",
          "text": [
            "accuracy: 0.9903627145316539\n",
            "precision: 0.992583\n",
            "recall: 0.963118\n",
            "              precision    recall  f1-score   support\n",
            "\n",
            "    attacker       0.99      0.99      0.99     14874\n",
            "      normal       0.99      1.00      0.99    140368\n",
            "      victim       1.00      0.90      0.95     13789\n",
            "\n",
            "    accuracy                           0.99    169031\n",
            "   macro avg       0.99      0.96      0.98    169031\n",
            "weighted avg       0.99      0.99      0.99    169031\n",
            "\n"
          ],
          "name": "stdout"
        }
      ]
    },
    {
      "cell_type": "markdown",
      "metadata": {
        "id": "ku4yG9Dfy90U",
        "colab_type": "text"
      },
      "source": [
        "- How does GaussianNB perform on the numeric features?\n"
      ]
    },
    {
      "cell_type": "code",
      "metadata": {
        "id": "gSAX9ds__wsY",
        "colab_type": "code",
        "outputId": "a3b2ee77-be1c-4fd5-c377-7a6d91f84885",
        "colab": {
          "base_uri": "https://localhost:8080/",
          "height": 328
        }
      },
      "source": [
        "X_train,  X_test, y_train, y_test = train_test_split(\n",
        "    df[['Duration', 'Packets','Bytes']],  \n",
        "    df[['class']], \n",
        "    test_size=0.20\n",
        ")\n",
        "from sklearn.naive_bayes import GaussianNB\n",
        "# define the classifier\n",
        "clf_nb = GaussianNB()\n",
        "\n",
        "# train the classifier\n",
        "t0 = time.time()\n",
        "clf_nb.fit(X_train, y_train)\n",
        "print(\"elapsed time = %.2f\" % (time.time()-t0))\n",
        "\n",
        "# perform the prediction\n",
        "y_pred_nb = clf_nb.predict(X_test)\n",
        "\n",
        "print(\"accuracy: {}\".format(metrics.accuracy_score(y_test, y_pred_nb)))\n",
        "print(\"precision: {:g}\".format(metrics.precision_score(y_test, y_pred_nb,average='macro')))\n",
        "print(\"recall: {:g}\".format(metrics.recall_score(y_test, y_pred_nb, average='macro')))\n",
        "print(metrics.classification_report(y_test, y_pred_nb))"
      ],
      "execution_count": 0,
      "outputs": [
        {
          "output_type": "stream",
          "text": [
            "/usr/local/lib/python3.6/dist-packages/sklearn/utils/validation.py:724: DataConversionWarning: A column-vector y was passed when a 1d array was expected. Please change the shape of y to (n_samples, ), for example using ravel().\n",
            "  y = column_or_1d(y, warn=True)\n"
          ],
          "name": "stderr"
        },
        {
          "output_type": "stream",
          "text": [
            "elapsed time = 1.32\n",
            "accuracy: 0.2582544030384959\n",
            "precision: 0.504523\n",
            "recall: 0.652976\n",
            "              precision    recall  f1-score   support\n",
            "\n",
            "    attacker       0.40      0.83      0.54     14790\n",
            "      normal       1.00      0.13      0.22    140507\n",
            "      victim       0.11      1.00      0.20     13734\n",
            "\n",
            "    accuracy                           0.26    169031\n",
            "   macro avg       0.50      0.65      0.32    169031\n",
            "weighted avg       0.87      0.26      0.25    169031\n",
            "\n"
          ],
          "name": "stdout"
        }
      ]
    },
    {
      "cell_type": "markdown",
      "metadata": {
        "id": "ww5-Y6RwanyI",
        "colab_type": "text"
      },
      "source": [
        "It doesn't perform well on the numeric features because of feature imbalance. Also, Naive Bayes assumption don't hold up in our case. "
      ]
    },
    {
      "cell_type": "markdown",
      "metadata": {
        "id": "e2p2KQPsy-ho",
        "colab_type": "text"
      },
      "source": [
        "- Beware running the SVM classifier: There is a lot of data here, so you would need to use a linear SVM rather than an RBF one, (and even then it may run out of memory without adjustments).\n"
      ]
    },
    {
      "cell_type": "code",
      "metadata": {
        "id": "CLGui5rly-xQ",
        "colab_type": "code",
        "colab": {}
      },
      "source": [
        "#from sklearn.svm import LinearSVC\n",
        "#define the classifier\n",
        "#clf_svc = LinearSVC(verbose=True)\n",
        "\n",
        "# train the classifier\n",
        "#t0 = time.time()\n",
        "#clf_svc.fit(X_train, y_train)\n",
        "#print(\"elapsed time = %.2f\" % (time.time()-t0))\n",
        "\n",
        "# perform the prediction \n",
        "#y_pred_svc = clf_svc.predict(X_test)\n",
        "\n",
        "#print(\"accuracy: {}\".format(metrics.accuracy_score(y_test, y_pred_svc)))\n",
        "#print(\"precision: {:g}\".format(metrics.precision_score(y_test, y_pred_svc,average='macro')))\n",
        "#print(\"recall: {:g}\".format(metrics.recall_score(y_test, y_pred_svc, average='macro')))\n",
        "#print(metrics.classification_report(y_test, y_pred_svc))\n",
        "#takes a long time"
      ],
      "execution_count": 0,
      "outputs": []
    },
    {
      "cell_type": "markdown",
      "metadata": {
        "id": "3qIIN72Ay_Cc",
        "colab_type": "text"
      },
      "source": [
        "- Convert the class to a binary attribute (malicious vs benign) and compute precision and recall values.\n",
        "Anything of note?"
      ]
    },
    {
      "cell_type": "code",
      "metadata": {
        "id": "bNIco0m10-v4",
        "colab_type": "code",
        "colab": {}
      },
      "source": [
        "df['classBin']= df['class'].apply(lambda x: 'benign' if x == 'normal' else 'malicious')"
      ],
      "execution_count": 0,
      "outputs": []
    },
    {
      "cell_type": "code",
      "metadata": {
        "id": "Zsvm5AcqBOKM",
        "colab_type": "code",
        "outputId": "5da5ccb2-8a3e-44b5-fbf3-9c08fc977f49",
        "colab": {
          "base_uri": "https://localhost:8080/",
          "height": 346
        }
      },
      "source": [
        "from sklearn.model_selection import train_test_split\n",
        "\n",
        "X_train,  X_test, y_train, y_test = train_test_split( \n",
        "    df[['Duration', 'Packets', 'Bytes']],  \n",
        "    df[['classBin']], \n",
        "    test_size=0.20\n",
        ")\n",
        "\n",
        "from sklearn.linear_model import LogisticRegression\n",
        "\n",
        "# define the classifier\n",
        "clf_lr_bin = LogisticRegression(solver='lbfgs', max_iter=50, verbose=1, n_jobs=-1)\n",
        "\n",
        "# train the classifier\n",
        "t0 = time.time()\n",
        "clf_lr_bin.fit(X_train, y_train)\n",
        "print(\"elapsed time = %.2f\" % (time.time()-t0))\n",
        "y_pred_lr_bin = clf_lr_bin.predict(X_test)\n",
        "\n",
        "print(\"accuracy: {}\".format(metrics.accuracy_score(y_test, y_pred_lr_bin)))\n",
        "print(\"precision: {:g}\".format(metrics.precision_score(y_test, y_pred_lr_bin, average='macro')))\n",
        "print(\"recall: {:g}\".format(metrics.recall_score(y_test, y_pred_lr_bin, average='macro')))\n",
        "print(metrics.classification_report(y_test, y_pred_lr_bin))\n",
        "df=df.drop(['classBin'], axis=1)"
      ],
      "execution_count": 0,
      "outputs": [
        {
          "output_type": "stream",
          "text": [
            "/usr/local/lib/python3.6/dist-packages/sklearn/utils/validation.py:724: DataConversionWarning: A column-vector y was passed when a 1d array was expected. Please change the shape of y to (n_samples, ), for example using ravel().\n",
            "  y = column_or_1d(y, warn=True)\n",
            "[Parallel(n_jobs=-1)]: Using backend LokyBackend with 4 concurrent workers.\n",
            "[Parallel(n_jobs=-1)]: Done   1 out of   1 | elapsed:    6.9s finished\n"
          ],
          "name": "stderr"
        },
        {
          "output_type": "stream",
          "text": [
            "elapsed time = 7.82\n",
            "accuracy: 0.8279546355402263\n",
            "precision: 0.413994\n",
            "recall: 0.499975\n",
            "              precision    recall  f1-score   support\n",
            "\n",
            "      benign       0.83      1.00      0.91    139957\n",
            "   malicious       0.00      0.00      0.00     29074\n",
            "\n",
            "    accuracy                           0.83    169031\n",
            "   macro avg       0.41      0.50      0.45    169031\n",
            "weighted avg       0.69      0.83      0.75    169031\n",
            "\n"
          ],
          "name": "stdout"
        }
      ]
    },
    {
      "cell_type": "markdown",
      "metadata": {
        "id": "hPRDfzkXbnsF",
        "colab_type": "text"
      },
      "source": [
        "It gets better metrics, logistic regression works better with binary problems. However, there is no real progess in how the model perform. "
      ]
    },
    {
      "cell_type": "markdown",
      "metadata": {
        "id": "bYBBY2Fj_wsY",
        "colab_type": "text"
      },
      "source": [
        "### Predicting another target:\n",
        "- Rather than predicting the class variable, try to predict the “attackType” variable.\n"
      ]
    },
    {
      "cell_type": "code",
      "metadata": {
        "id": "BXg9ort1_wsY",
        "colab_type": "code",
        "outputId": "33183767-b820-42a2-f226-a7b6cafe9953",
        "colab": {
          "base_uri": "https://localhost:8080/",
          "height": 400
        }
      },
      "source": [
        "from sklearn.model_selection import train_test_split\n",
        "X_train,  X_test, y_train, y_test = train_test_split(\n",
        "    df[['Duration', 'Packets','Bytes']],  \n",
        "    df[['attackType']], \n",
        "    test_size=0.20\n",
        ")\n",
        "from sklearn.tree import DecisionTreeClassifier\n",
        "# define the classifier\n",
        "clf_dt = DecisionTreeClassifier(max_depth=5)\n",
        "\n",
        "# train the classifier\n",
        "t0 = time.time()\n",
        "clf_dt.fit(X_train, y_train)\n",
        "print(\"elapsed time = %.2f\" % (time.time()-t0))\n",
        "\n",
        "# perform the prediction\n",
        "y_pred_dt_at = clf_dt.predict(X_test)\n",
        "\n",
        "\n",
        "print(\"accuracy: {}\".format(metrics.accuracy_score(y_test, y_pred_dt_at)))\n",
        "print(\"precision: {:g}\".format(metrics.precision_score(y_test, y_pred_dt_at, average='macro')))\n",
        "print(\"recall: {:g}\".format(metrics.recall_score(y_test, y_pred_dt_at, average='macro')))\n",
        "print(metrics.classification_report(y_test, y_pred_dt_at))\n"
      ],
      "execution_count": 0,
      "outputs": [
        {
          "output_type": "stream",
          "text": [
            "elapsed time = 1.51\n",
            "accuracy: 0.9842750738030303\n"
          ],
          "name": "stdout"
        },
        {
          "output_type": "stream",
          "text": [
            "/usr/local/lib/python3.6/dist-packages/sklearn/metrics/classification.py:1437: UndefinedMetricWarning: Precision is ill-defined and being set to 0.0 in labels with no predicted samples.\n",
            "  'precision', 'predicted', average, warn_for)\n"
          ],
          "name": "stderr"
        },
        {
          "output_type": "stream",
          "text": [
            "precision: 0.781904\n",
            "recall: 0.560959\n"
          ],
          "name": "stdout"
        },
        {
          "output_type": "stream",
          "text": [
            "/usr/local/lib/python3.6/dist-packages/sklearn/metrics/classification.py:1437: UndefinedMetricWarning: Precision and F-score are ill-defined and being set to 0.0 in labels with no predicted samples.\n",
            "  'precision', 'predicted', average, warn_for)\n"
          ],
          "name": "stderr"
        },
        {
          "output_type": "stream",
          "text": [
            "              precision    recall  f1-score   support\n",
            "\n",
            "         ---       0.99      1.00      0.99    140259\n",
            "  bruteForce       0.00      0.00      0.00        33\n",
            "         dos       0.98      0.97      0.98     24979\n",
            "    pingScan       1.00      0.21      0.35        66\n",
            "    portScan       0.94      0.62      0.75      3694\n",
            "\n",
            "    accuracy                           0.98    169031\n",
            "   macro avg       0.78      0.56      0.61    169031\n",
            "weighted avg       0.98      0.98      0.98    169031\n",
            "\n"
          ],
          "name": "stdout"
        }
      ]
    },
    {
      "cell_type": "markdown",
      "metadata": {
        "id": "2tIevtUZ6yKM",
        "colab_type": "text"
      },
      "source": [
        "- Is that variable easier/harder to predict?\n"
      ]
    },
    {
      "cell_type": "markdown",
      "metadata": {
        "id": "VSf2ZOdRPUb8",
        "colab_type": "text"
      },
      "source": [
        "It's harder, any model tested have worse performances. That's because we hare increasing the number of possible values of the feature the models have to predict. \n",
        "\n",
        "\n",
        "---\n",
        "\n"
      ]
    },
    {
      "cell_type": "markdown",
      "metadata": {
        "id": "jW29ZeS06y0Y",
        "colab_type": "text"
      },
      "source": [
        "- The data is quite unbalanced. You could try to rebalance it by randomly down-sampling the majority class. Does it improve accuracy on the (not-down sampled) test data?"
      ]
    },
    {
      "cell_type": "code",
      "metadata": {
        "id": "Bii77fQm6zFk",
        "colab_type": "code",
        "outputId": "bdb00a13-b85b-4f7f-f54b-692bb1a4ad08",
        "colab": {
          "base_uri": "https://localhost:8080/",
          "height": 271
        }
      },
      "source": [
        "from sklearn.linear_model import LogisticRegression\n",
        "from sklearn.utils import resample\n",
        "\n",
        "df_maj= df[df['class']==\"normal\"]\n",
        "df_min= df[df['class'] != \"normal\"]\n",
        "df_maj_sample= resample(df_maj, replace=False, n_samples=75124)\n",
        "dfbl = pd.concat([df_maj_sample,df_min])\n",
        "\n",
        "X_train,  X_test, y_train, y_test = train_test_split(\n",
        "    dfbl[['Duration', 'Packets', 'Bytes']],  \n",
        "    dfbl[['class']], \n",
        "    test_size=0.20\n",
        ")\n",
        "\n",
        "# define the classifier\n",
        "clf_dt = DecisionTreeClassifier(max_depth=3)\n",
        "\n",
        "# train the classifier\n",
        "t0 = time.time()\n",
        "clf_dt.fit(X_train, y_train)\n",
        "print(\"elapsed time = %.2f\" % (time.time()-t0))\n",
        "\n",
        "# perform the prediction\n",
        "y_pred_dt = clf_dt.predict(X_test)\n",
        "\n",
        "\n",
        "print(\"accuracy: {}\".format(metrics.accuracy_score(y_test, y_pred_dt)))\n",
        "print(\"precision: {:g}\".format(metrics.precision_score(y_test, y_pred_dt,average='macro')))\n",
        "print(\"recall: {:g}\".format(metrics.recall_score(y_test, y_pred_dt, average='macro')))\n",
        "print(metrics.classification_report(y_test, y_pred_dt))"
      ],
      "execution_count": 0,
      "outputs": [
        {
          "output_type": "stream",
          "text": [
            "elapsed time = 0.31\n",
            "accuracy: 0.9287875685391214\n",
            "precision: 0.937255\n",
            "recall: 0.927955\n",
            "              precision    recall  f1-score   support\n",
            "\n",
            "    attacker       0.85      0.99      0.91     15045\n",
            "      normal       0.98      0.90      0.94     14970\n",
            "      victim       0.98      0.90      0.94     13938\n",
            "\n",
            "    accuracy                           0.93     43953\n",
            "   macro avg       0.94      0.93      0.93     43953\n",
            "weighted avg       0.94      0.93      0.93     43953\n",
            "\n"
          ],
          "name": "stdout"
        }
      ]
    },
    {
      "cell_type": "markdown",
      "metadata": {
        "id": "1fUPOd3n_wsY",
        "colab_type": "text"
      },
      "source": [
        "### Introducing more features:\n",
        "- Introduce other features to the classifiers to see if you can further improve performance …\n"
      ]
    },
    {
      "cell_type": "code",
      "metadata": {
        "id": "Zm103-kb_wsY",
        "colab_type": "code",
        "outputId": "f678a312-3b06-4917-d475-ed6763d91684",
        "colab": {
          "base_uri": "https://localhost:8080/",
          "height": 271
        }
      },
      "source": [
        "from sklearn.model_selection import GridSearchCV\n",
        "from sklearn.pipeline import Pipeline\n",
        "from sklearn.preprocessing import StandardScaler\n",
        "from sklearn.linear_model import LogisticRegression\n",
        "\n",
        "df_one_hot = pd.get_dummies(df, columns=['Proto','Tos'])  \n",
        "X_train,  X_test, y_train, y_test = train_test_split(\n",
        "    df_one_hot.drop(['Date first seen','Src IP Addr','Src Pt','Dst IP Addr','Dst Pt','Flags','class','attackType','attackID','attackDescription','Day of week','Time of day'],axis=1),\n",
        "    df_one_hot[['class']], \n",
        "    test_size=0.20\n",
        ")\n",
        "    \n",
        "from sklearn.tree import DecisionTreeClassifier, export_graphviz\n",
        "# define the classifier\n",
        "clf_dt = DecisionTreeClassifier(max_depth=5)\n",
        "\n",
        "# train the classifier\n",
        "t0 = time.time()\n",
        "clf_dt.fit(X_train, y_train)\n",
        "print(\"elapsed time = %.2f\" % (time.time()-t0))\n",
        "\n",
        "# perform the prediction\n",
        "y_pred_dt_at = clf_dt.predict(X_test)\n",
        "\n",
        "\n",
        "print(\"accuracy: {}\".format(metrics.accuracy_score(y_test, y_pred_dt_at)))\n",
        "print(\"precision: {:g}\".format(metrics.precision_score(y_test, y_pred_dt_at, average='macro')))\n",
        "print(\"recall: {:g}\".format(metrics.recall_score(y_test, y_pred_dt_at, average='macro')))\n",
        "print(metrics.classification_report(y_test, y_pred_dt_at))\n",
        "\n"
      ],
      "execution_count": 0,
      "outputs": [
        {
          "output_type": "stream",
          "text": [
            "elapsed time = 1.77\n",
            "accuracy: 0.9863811963485988\n",
            "precision: 0.98034\n",
            "recall: 0.957988\n",
            "              precision    recall  f1-score   support\n",
            "\n",
            "    attacker       0.99      0.98      0.99     14935\n",
            "      normal       0.99      1.00      0.99    140022\n",
            "      victim       0.96      0.90      0.93     14074\n",
            "\n",
            "    accuracy                           0.99    169031\n",
            "   macro avg       0.98      0.96      0.97    169031\n",
            "weighted avg       0.99      0.99      0.99    169031\n",
            "\n"
          ],
          "name": "stdout"
        }
      ]
    },
    {
      "cell_type": "markdown",
      "metadata": {
        "id": "JFsvxAk2675o",
        "colab_type": "text"
      },
      "source": [
        "- Try adding day-of-week and time-of-day features into the classifier. Do they improve the performance?\n"
      ]
    },
    {
      "cell_type": "code",
      "metadata": {
        "id": "UEmt8Dqi68MY",
        "colab_type": "code",
        "outputId": "86366ced-13d6-4be5-a86c-256230f0d4dc",
        "colab": {
          "base_uri": "https://localhost:8080/",
          "height": 271
        }
      },
      "source": [
        "from sklearn.model_selection import train_test_split\n",
        "\n",
        "X_train,  X_test, y_train, y_test = train_test_split(\n",
        "    df_one_hot.drop(['Date first seen','Src IP Addr','Src Pt','Dst IP Addr','Dst Pt','Flags','class','attackType','attackID','attackDescription'],axis=1),\n",
        "    df_one_hot[['class']], \n",
        "    test_size=0.20\n",
        ")\n",
        "\n",
        "import graphviz\n",
        "from sklearn.tree import DecisionTreeClassifier, export_graphviz\n",
        "# define the classifier\n",
        "clf_dt = DecisionTreeClassifier(max_depth=7)\n",
        "\n",
        "# train the classifier\n",
        "t0 = time.time()\n",
        "clf_dt.fit(X_train, y_train)\n",
        "print(\"elapsed time = %.2f\" % (time.time()-t0))\n",
        "\n",
        "# perform the prediction\n",
        "y_pred_dt_at = clf_dt.predict(X_test)\n",
        "\n",
        "\n",
        "print(\"accuracy: {}\".format(metrics.accuracy_score(y_test, y_pred_dt_at)))\n",
        "print(\"precision: {:g}\".format(metrics.precision_score(y_test, y_pred_dt_at, average='macro')))\n",
        "print(\"recall: {:g}\".format(metrics.recall_score(y_test, y_pred_dt_at, average='macro')))\n",
        "print(metrics.classification_report(y_test, y_pred_dt_at))\n",
        "\n"
      ],
      "execution_count": 0,
      "outputs": [
        {
          "output_type": "stream",
          "text": [
            "elapsed time = 2.26\n",
            "accuracy: 0.9890315977542581\n",
            "precision: 0.987716\n",
            "recall: 0.961871\n",
            "              precision    recall  f1-score   support\n",
            "\n",
            "    attacker       0.99      0.99      0.99     14944\n",
            "      normal       0.99      1.00      0.99    140145\n",
            "      victim       0.98      0.90      0.94     13942\n",
            "\n",
            "    accuracy                           0.99    169031\n",
            "   macro avg       0.99      0.96      0.97    169031\n",
            "weighted avg       0.99      0.99      0.99    169031\n",
            "\n"
          ],
          "name": "stdout"
        }
      ]
    },
    {
      "cell_type": "markdown",
      "metadata": {
        "id": "ec3rzb_D68fI",
        "colab_type": "text"
      },
      "source": [
        "- Split the “Flags” column up into separate columns for each of the flags (see code below for how to do that) and then make use of the flags as features. Do they improve the performance?\n"
      ]
    },
    {
      "cell_type": "code",
      "metadata": {
        "id": "xGx-c0qxSG9Q",
        "colab_type": "code",
        "outputId": "5fe3b575-9efa-4309-bbaa-e22c455efc63",
        "colab": {
          "base_uri": "https://localhost:8080/",
          "height": 348
        }
      },
      "source": [
        "df_one_hot['Flag_1'] = [x[0] for x in df_one_hot['Flags']]\n",
        "df_one_hot['Flag_2'] = [x[1] for x in df_one_hot['Flags']]\n",
        "df_one_hot['Flag_3'] = [x[2] for x in df_one_hot['Flags']]\n",
        "df_one_hot['Flag_4'] = [x[3] for x in df_one_hot['Flags']]\n",
        "df_one_hot['Flag_5'] = [x[4] for x in df_one_hot['Flags']]\n",
        "df_one_hot['Flag_6'] = [x[5] for x in df_one_hot['Flags']]\n",
        "df_one_hot = pd.get_dummies(df_one_hot, columns=['Flag_1','Flag_2','Flag_3','Flag_4','Flag_5','Flag_6'])\n",
        "df_one_hot.head(5)"
      ],
      "execution_count": 0,
      "outputs": [
        {
          "output_type": "execute_result",
          "data": {
            "text/html": [
              "<div>\n",
              "<style scoped>\n",
              "    .dataframe tbody tr th:only-of-type {\n",
              "        vertical-align: middle;\n",
              "    }\n",
              "\n",
              "    .dataframe tbody tr th {\n",
              "        vertical-align: top;\n",
              "    }\n",
              "\n",
              "    .dataframe thead th {\n",
              "        text-align: right;\n",
              "    }\n",
              "</style>\n",
              "<table border=\"1\" class=\"dataframe\">\n",
              "  <thead>\n",
              "    <tr style=\"text-align: right;\">\n",
              "      <th></th>\n",
              "      <th>Date first seen</th>\n",
              "      <th>Duration</th>\n",
              "      <th>Src IP Addr</th>\n",
              "      <th>Src Pt</th>\n",
              "      <th>Dst IP Addr</th>\n",
              "      <th>Dst Pt</th>\n",
              "      <th>Packets</th>\n",
              "      <th>Bytes</th>\n",
              "      <th>Flows</th>\n",
              "      <th>Flags</th>\n",
              "      <th>class</th>\n",
              "      <th>attackType</th>\n",
              "      <th>attackID</th>\n",
              "      <th>attackDescription</th>\n",
              "      <th>Day of week</th>\n",
              "      <th>Time of day</th>\n",
              "      <th>Proto_ICMP</th>\n",
              "      <th>Proto_IGMP</th>\n",
              "      <th>Proto_TCP</th>\n",
              "      <th>Proto_UDP</th>\n",
              "      <th>Tos_0</th>\n",
              "      <th>Tos_12</th>\n",
              "      <th>Tos_16</th>\n",
              "      <th>Tos_32</th>\n",
              "      <th>Tos_192</th>\n",
              "      <th>Flag_1_.</th>\n",
              "      <th>Flag_2_.</th>\n",
              "      <th>Flag_2_A</th>\n",
              "      <th>Flag_3_.</th>\n",
              "      <th>Flag_3_P</th>\n",
              "      <th>Flag_4_.</th>\n",
              "      <th>Flag_4_R</th>\n",
              "      <th>Flag_5_.</th>\n",
              "      <th>Flag_5_S</th>\n",
              "      <th>Flag_6_.</th>\n",
              "      <th>Flag_6_F</th>\n",
              "    </tr>\n",
              "  </thead>\n",
              "  <tbody>\n",
              "    <tr>\n",
              "      <th>23</th>\n",
              "      <td>2017-03-15 00:01:17.728</td>\n",
              "      <td>0.047</td>\n",
              "      <td>192.168.220.16</td>\n",
              "      <td>45586</td>\n",
              "      <td>10000_35</td>\n",
              "      <td>443.0</td>\n",
              "      <td>5</td>\n",
              "      <td>906.0</td>\n",
              "      <td>1</td>\n",
              "      <td>.AP.S.</td>\n",
              "      <td>normal</td>\n",
              "      <td>---</td>\n",
              "      <td>---</td>\n",
              "      <td>---</td>\n",
              "      <td>2</td>\n",
              "      <td>0</td>\n",
              "      <td>0</td>\n",
              "      <td>0</td>\n",
              "      <td>1</td>\n",
              "      <td>0</td>\n",
              "      <td>1</td>\n",
              "      <td>0</td>\n",
              "      <td>0</td>\n",
              "      <td>0</td>\n",
              "      <td>0</td>\n",
              "      <td>1</td>\n",
              "      <td>0</td>\n",
              "      <td>1</td>\n",
              "      <td>0</td>\n",
              "      <td>1</td>\n",
              "      <td>1</td>\n",
              "      <td>0</td>\n",
              "      <td>0</td>\n",
              "      <td>1</td>\n",
              "      <td>1</td>\n",
              "      <td>0</td>\n",
              "    </tr>\n",
              "    <tr>\n",
              "      <th>36</th>\n",
              "      <td>2017-03-15 00:01:18.457</td>\n",
              "      <td>0.170</td>\n",
              "      <td>10003_195</td>\n",
              "      <td>80</td>\n",
              "      <td>192.168.220.16</td>\n",
              "      <td>48286.0</td>\n",
              "      <td>3</td>\n",
              "      <td>908.0</td>\n",
              "      <td>1</td>\n",
              "      <td>.AP.S.</td>\n",
              "      <td>normal</td>\n",
              "      <td>---</td>\n",
              "      <td>---</td>\n",
              "      <td>---</td>\n",
              "      <td>2</td>\n",
              "      <td>0</td>\n",
              "      <td>0</td>\n",
              "      <td>0</td>\n",
              "      <td>1</td>\n",
              "      <td>0</td>\n",
              "      <td>0</td>\n",
              "      <td>0</td>\n",
              "      <td>0</td>\n",
              "      <td>1</td>\n",
              "      <td>0</td>\n",
              "      <td>1</td>\n",
              "      <td>0</td>\n",
              "      <td>1</td>\n",
              "      <td>0</td>\n",
              "      <td>1</td>\n",
              "      <td>1</td>\n",
              "      <td>0</td>\n",
              "      <td>0</td>\n",
              "      <td>1</td>\n",
              "      <td>1</td>\n",
              "      <td>0</td>\n",
              "    </tr>\n",
              "    <tr>\n",
              "      <th>30</th>\n",
              "      <td>2017-03-15 00:01:18.511</td>\n",
              "      <td>0.003</td>\n",
              "      <td>10002_113</td>\n",
              "      <td>443</td>\n",
              "      <td>192.168.220.16</td>\n",
              "      <td>49062.0</td>\n",
              "      <td>2</td>\n",
              "      <td>1089.0</td>\n",
              "      <td>1</td>\n",
              "      <td>.AP...</td>\n",
              "      <td>normal</td>\n",
              "      <td>---</td>\n",
              "      <td>---</td>\n",
              "      <td>---</td>\n",
              "      <td>2</td>\n",
              "      <td>0</td>\n",
              "      <td>0</td>\n",
              "      <td>0</td>\n",
              "      <td>1</td>\n",
              "      <td>0</td>\n",
              "      <td>0</td>\n",
              "      <td>0</td>\n",
              "      <td>0</td>\n",
              "      <td>1</td>\n",
              "      <td>0</td>\n",
              "      <td>1</td>\n",
              "      <td>0</td>\n",
              "      <td>1</td>\n",
              "      <td>0</td>\n",
              "      <td>1</td>\n",
              "      <td>1</td>\n",
              "      <td>0</td>\n",
              "      <td>1</td>\n",
              "      <td>0</td>\n",
              "      <td>1</td>\n",
              "      <td>0</td>\n",
              "    </tr>\n",
              "    <tr>\n",
              "      <th>46</th>\n",
              "      <td>2017-03-15 00:01:22.400</td>\n",
              "      <td>0.000</td>\n",
              "      <td>EXT_SERVER</td>\n",
              "      <td>8082</td>\n",
              "      <td>192.168.220.15</td>\n",
              "      <td>37039.0</td>\n",
              "      <td>1</td>\n",
              "      <td>212.0</td>\n",
              "      <td>1</td>\n",
              "      <td>.AP...</td>\n",
              "      <td>normal</td>\n",
              "      <td>---</td>\n",
              "      <td>---</td>\n",
              "      <td>---</td>\n",
              "      <td>2</td>\n",
              "      <td>0</td>\n",
              "      <td>0</td>\n",
              "      <td>0</td>\n",
              "      <td>1</td>\n",
              "      <td>0</td>\n",
              "      <td>0</td>\n",
              "      <td>0</td>\n",
              "      <td>0</td>\n",
              "      <td>1</td>\n",
              "      <td>0</td>\n",
              "      <td>1</td>\n",
              "      <td>0</td>\n",
              "      <td>1</td>\n",
              "      <td>0</td>\n",
              "      <td>1</td>\n",
              "      <td>1</td>\n",
              "      <td>0</td>\n",
              "      <td>1</td>\n",
              "      <td>0</td>\n",
              "      <td>1</td>\n",
              "      <td>0</td>\n",
              "    </tr>\n",
              "    <tr>\n",
              "      <th>51</th>\n",
              "      <td>2017-03-15 00:01:24.152</td>\n",
              "      <td>0.266</td>\n",
              "      <td>192.168.200.9</td>\n",
              "      <td>52290</td>\n",
              "      <td>EXT_SERVER</td>\n",
              "      <td>8082.0</td>\n",
              "      <td>2</td>\n",
              "      <td>319.0</td>\n",
              "      <td>1</td>\n",
              "      <td>.AP...</td>\n",
              "      <td>normal</td>\n",
              "      <td>---</td>\n",
              "      <td>---</td>\n",
              "      <td>---</td>\n",
              "      <td>2</td>\n",
              "      <td>0</td>\n",
              "      <td>0</td>\n",
              "      <td>0</td>\n",
              "      <td>1</td>\n",
              "      <td>0</td>\n",
              "      <td>1</td>\n",
              "      <td>0</td>\n",
              "      <td>0</td>\n",
              "      <td>0</td>\n",
              "      <td>0</td>\n",
              "      <td>1</td>\n",
              "      <td>0</td>\n",
              "      <td>1</td>\n",
              "      <td>0</td>\n",
              "      <td>1</td>\n",
              "      <td>1</td>\n",
              "      <td>0</td>\n",
              "      <td>1</td>\n",
              "      <td>0</td>\n",
              "      <td>1</td>\n",
              "      <td>0</td>\n",
              "    </tr>\n",
              "  </tbody>\n",
              "</table>\n",
              "</div>"
            ],
            "text/plain": [
              "           Date first seen  Duration  ... Flag_6_.  Flag_6_F\n",
              "23 2017-03-15 00:01:17.728     0.047  ...        1         0\n",
              "36 2017-03-15 00:01:18.457     0.170  ...        1         0\n",
              "30 2017-03-15 00:01:18.511     0.003  ...        1         0\n",
              "46 2017-03-15 00:01:22.400     0.000  ...        1         0\n",
              "51 2017-03-15 00:01:24.152     0.266  ...        1         0\n",
              "\n",
              "[5 rows x 36 columns]"
            ]
          },
          "metadata": {
            "tags": []
          },
          "execution_count": 41
        }
      ]
    },
    {
      "cell_type": "code",
      "metadata": {
        "id": "rQAYLOWq68uw",
        "colab_type": "code",
        "outputId": "37791647-4ccd-4351-f2bb-a51e1e19c839",
        "colab": {
          "base_uri": "https://localhost:8080/",
          "height": 271
        }
      },
      "source": [
        "\n",
        "X_train,  X_test, y_train, y_test = train_test_split(\n",
        "    df_one_hot.drop(['Date first seen','Src IP Addr','Src Pt','Dst IP Addr','Dst Pt','Flags','class','attackType','attackID','attackDescription'],axis=1),\n",
        "    df_one_hot[['class']], \n",
        "    test_size=0.20\n",
        ")\n",
        "\n",
        "import graphviz\n",
        "from sklearn.tree import DecisionTreeClassifier, export_graphviz\n",
        "# define the classifier\n",
        "clf_dt = DecisionTreeClassifier(max_depth=7)\n",
        "\n",
        "# train the classifier\n",
        "t0 = time.time()\n",
        "clf_dt.fit(X_train, y_train)\n",
        "print(\"elapsed time = %.2f\" % (time.time()-t0))\n",
        "\n",
        "# perform the prediction\n",
        "y_pred_dt_at = clf_dt.predict(X_test)\n",
        "\n",
        "\n",
        "print(\"accuracy: {}\".format(metrics.accuracy_score(y_test, y_pred_dt_at)))\n",
        "print(\"precision: {:g}\".format(metrics.precision_score(y_test, y_pred_dt_at, average='macro')))\n",
        "print(\"recall: {:g}\".format(metrics.recall_score(y_test, y_pred_dt_at, average='macro')))\n",
        "print(metrics.classification_report(y_test, y_pred_dt_at))"
      ],
      "execution_count": 0,
      "outputs": [
        {
          "output_type": "stream",
          "text": [
            "elapsed time = 2.70\n",
            "accuracy: 0.9975507451295916\n",
            "precision: 0.992926\n",
            "recall: 0.995973\n",
            "              precision    recall  f1-score   support\n",
            "\n",
            "    attacker       1.00      0.99      1.00     15027\n",
            "      normal       1.00      1.00      1.00    140043\n",
            "      victim       0.98      1.00      0.99     13961\n",
            "\n",
            "    accuracy                           1.00    169031\n",
            "   macro avg       0.99      1.00      0.99    169031\n",
            "weighted avg       1.00      1.00      1.00    169031\n",
            "\n"
          ],
          "name": "stdout"
        }
      ]
    },
    {
      "cell_type": "markdown",
      "metadata": {
        "id": "DwanBmXa69DE",
        "colab_type": "text"
      },
      "source": [
        "- Source IP addresses can be one of four categories (code in the appendix can be used to map IP addresses to the categories). Are the categories useful features?"
      ]
    },
    {
      "cell_type": "code",
      "metadata": {
        "id": "mxzvYKE869ag",
        "colab_type": "code",
        "outputId": "b3e040f7-f5e7-487b-eb0c-66e348499829",
        "colab": {
          "base_uri": "https://localhost:8080/",
          "height": 271
        }
      },
      "source": [
        "def get_IP_category(ip_addr):\n",
        "  if ip_addr == 'DNS':\n",
        "    return 'DNS'\n",
        "  elif ip_addr == 'EXT_SERVER':\n",
        "    return 'EXT_SERVER'\n",
        "  elif len(ip_addr.split('.')) == 4:\n",
        "    return 'private'\n",
        "  elif len(ip_addr.split('_')) == 2:\n",
        "    return 'public'\n",
        "  else:\n",
        "    return '-'\n",
        "\n",
        "df_one_hot['Src IP Addr Cat']= df_one_hot['Src IP Addr'].apply(lambda x: get_IP_category(x))\n",
        "df_one_hot = pd.get_dummies(df_one_hot, columns=['Src IP Addr Cat'])\n",
        "\n",
        "from sklearn.model_selection import train_test_split\n",
        "\n",
        "X_train,  X_test, y_train, y_test = train_test_split(\n",
        "    df_one_hot.drop(['Date first seen','Src Pt','Src IP Addr','Dst IP Addr','Dst Pt','Flags','class','attackType','attackID','attackDescription'],axis=1),\n",
        "    df_one_hot[['class']], \n",
        "    test_size=0.20\n",
        ")\n",
        "import graphviz\n",
        "from sklearn.tree import DecisionTreeClassifier, export_graphviz\n",
        "# define the classifier\n",
        "clf_dt = DecisionTreeClassifier(max_depth=7)\n",
        "\n",
        "# train the classifier\n",
        "t0 = time.time()\n",
        "clf_dt.fit(X_train, y_train)\n",
        "print(\"elapsed time = %.2f\" % (time.time()-t0))\n",
        "\n",
        "# perform the prediction\n",
        "y_pred_dt_at = clf_dt.predict(X_test)\n",
        "\n",
        "print(\"accuracy: {}\".format(metrics.accuracy_score(y_test, y_pred_dt_at)))\n",
        "print(\"precision: {:g}\".format(metrics.precision_score(y_test, y_pred_dt_at, average='macro')))\n",
        "print(\"recall: {:g}\".format(metrics.recall_score(y_test, y_pred_dt_at, average='macro')))\n",
        "print(metrics.classification_report(y_test, y_pred_dt_at))"
      ],
      "execution_count": 0,
      "outputs": [
        {
          "output_type": "stream",
          "text": [
            "elapsed time = 2.86\n",
            "accuracy: 0.9977045630683129\n",
            "precision: 0.993439\n",
            "recall: 0.996013\n",
            "              precision    recall  f1-score   support\n",
            "\n",
            "    attacker       1.00      0.99      1.00     14909\n",
            "      normal       1.00      1.00      1.00    140094\n",
            "      victim       0.98      1.00      0.99     14028\n",
            "\n",
            "    accuracy                           1.00    169031\n",
            "   macro avg       0.99      1.00      0.99    169031\n",
            "weighted avg       1.00      1.00      1.00    169031\n",
            "\n"
          ],
          "name": "stdout"
        }
      ]
    },
    {
      "cell_type": "markdown",
      "metadata": {
        "id": "57gFTqscTTyc",
        "colab_type": "text"
      },
      "source": [
        "Yes,not so much, but still.. \n",
        "\n",
        "---\n",
        "\n"
      ]
    },
    {
      "cell_type": "markdown",
      "metadata": {
        "id": "0VcGzFYf_wt8",
        "colab_type": "text"
      },
      "source": [
        "### Creating counts\n",
        "- When detecting a Denial of Service (DoS) or portScan attack, counts of the number of requests from the same Source IP Address within a given time window could be an important feature. (For a DDoS attack, the same may be true of Destination IP Addresses.)\n"
      ]
    },
    {
      "cell_type": "markdown",
      "metadata": {
        "id": "-2R0c7x56qLQ",
        "colab_type": "text"
      },
      "source": [
        "- Try adding one or more count fields to the dataset using the code from the Appendix.\n"
      ]
    },
    {
      "cell_type": "code",
      "metadata": {
        "id": "-kejylby6qfk",
        "colab_type": "code",
        "outputId": "8790e48e-3cfe-406a-bc68-b509979766a9",
        "colab": {
          "base_uri": "https://localhost:8080/",
          "height": 271
        }
      },
      "source": [
        "df_one_hot['Cum Count Src IP Addr (10seconds)'] = df_one_hot.groupby(['Src IP Addr', pd.Grouper(freq='10S',\n",
        "key='Date first seen')]).cumcount()\n",
        "df_one_hot['Cum Count Src IP Addr (20seconds)'] = df_one_hot.groupby(['Src IP Addr', pd.Grouper(freq='20S',\n",
        "key='Date first seen')]).cumcount()\n",
        "df_one_hot['Cum Count Src IP Addr (60seconds)'] = df_one_hot.groupby(['Src IP Addr', pd.Grouper(freq='60S',\n",
        "key='Date first seen')]).cumcount()\n",
        "\n",
        "\n",
        "X_train,  X_test, y_train, y_test = train_test_split(\n",
        "    df_one_hot.drop(['Date first seen','Src Pt','Src IP Addr','Dst IP Addr','Dst Pt','Flags','class','attackType','attackID','attackDescription'],axis=1),\n",
        "    df_one_hot[['class']], \n",
        "    test_size=0.20\n",
        ")\n",
        "\n",
        "from sklearn.tree import DecisionTreeClassifier\n",
        "# define the classifier\n",
        "clf_dt = DecisionTreeClassifier(max_depth=7)\n",
        "\n",
        "# train the classifier\n",
        "t0 = time.time()\n",
        "clf_dt.fit(X_train, y_train)\n",
        "print(\"elapsed time = %.2f\" % (time.time()-t0))\n",
        "\n",
        "# perform the prediction\n",
        "y_pred_dt_at = clf_dt.predict(X_test)\n",
        "\n",
        "print(\"accuracy: {}\".format(metrics.accuracy_score(y_test, y_pred_dt_at)))\n",
        "print(\"precision: {:g}\".format(metrics.precision_score(y_test, y_pred_dt_at, average='macro')))\n",
        "print(\"recall: {:g}\".format(metrics.recall_score(y_test, y_pred_dt_at, average='macro')))\n",
        "print(metrics.classification_report(y_test, y_pred_dt_at))"
      ],
      "execution_count": 0,
      "outputs": [
        {
          "output_type": "stream",
          "text": [
            "elapsed time = 3.59\n",
            "accuracy: 0.9955570280007809\n",
            "precision: 0.994048\n",
            "recall: 0.986443\n",
            "              precision    recall  f1-score   support\n",
            "\n",
            "    attacker       1.00      0.98      0.99     14935\n",
            "      normal       1.00      1.00      1.00    140259\n",
            "      victim       0.99      0.98      0.98     13837\n",
            "\n",
            "    accuracy                           1.00    169031\n",
            "   macro avg       0.99      0.99      0.99    169031\n",
            "weighted avg       1.00      1.00      1.00    169031\n",
            "\n"
          ],
          "name": "stdout"
        }
      ]
    },
    {
      "cell_type": "markdown",
      "metadata": {
        "id": "foX7dwDj6qz4",
        "colab_type": "text"
      },
      "source": [
        "- Does the count field improve performance of the classifiers? What window or windows make sense?"
      ]
    },
    {
      "cell_type": "code",
      "metadata": {
        "id": "lPGjMaTX6rB8",
        "colab_type": "code",
        "outputId": "5e52834c-6b2f-4ff4-f6d2-9e466c83e2b6",
        "colab": {
          "base_uri": "https://localhost:8080/",
          "height": 780
        }
      },
      "source": [
        "# Not all of them\n",
        "#let's see for each one of them\n",
        "X_train,  X_test, y_train, y_test = train_test_split(\n",
        "    df_one_hot.drop(['Cum Count Src IP Addr (20seconds)','Cum Count Src IP Addr (60seconds)','Date first seen','Src Pt','Src IP Addr','Dst IP Addr','Dst Pt','Flags','class','attackType','attackID','attackDescription'],axis=1),\n",
        "    df_one_hot[['class']], \n",
        "    test_size=0.20\n",
        ")\n",
        "from sklearn.tree import DecisionTreeClassifier\n",
        "# define the classifier\n",
        "clf_dt = DecisionTreeClassifier(max_depth=7)\n",
        "# train the classifier\n",
        "t0 = time.time()\n",
        "clf_dt.fit(X_train, y_train)\n",
        "print(\"elapsed time = %.2f\" % (time.time()-t0))\n",
        "# perform the prediction\n",
        "y_pred_dt_at = clf_dt.predict(X_test)\n",
        "print(\"accuracy: {}\".format(metrics.accuracy_score(y_test, y_pred_dt_at)))\n",
        "print(\"precision: {:g}\".format(metrics.precision_score(y_test, y_pred_dt_at, average='macro')))\n",
        "print(\"recall: {:g}\".format(metrics.recall_score(y_test, y_pred_dt_at, average='macro')))\n",
        "print(metrics.classification_report(y_test, y_pred_dt_at))\n",
        "\n",
        "X_train,  X_test, y_train, y_test = train_test_split(\n",
        "    df_one_hot.drop(['Cum Count Src IP Addr (10seconds)','Cum Count Src IP Addr (60seconds)','Date first seen','Src Pt','Src IP Addr','Dst IP Addr','Dst Pt','Flags','class','attackType','attackID','attackDescription'],axis=1),\n",
        "    df_one_hot[['class']], \n",
        "    test_size=0.20\n",
        ")\n",
        "from sklearn.tree import DecisionTreeClassifier\n",
        "# define the classifier\n",
        "clf_dt = DecisionTreeClassifier(max_depth=7)\n",
        "# train the classifier\n",
        "t0 = time.time()\n",
        "clf_dt.fit(X_train, y_train)\n",
        "print(\"elapsed time = %.2f\" % (time.time()-t0))\n",
        "# perform the prediction\n",
        "y_pred_dt_at = clf_dt.predict(X_test)\n",
        "print(\"accuracy: {}\".format(metrics.accuracy_score(y_test, y_pred_dt_at)))\n",
        "print(\"precision: {:g}\".format(metrics.precision_score(y_test, y_pred_dt_at, average='macro')))\n",
        "print(\"recall: {:g}\".format(metrics.recall_score(y_test, y_pred_dt_at, average='macro')))\n",
        "print(metrics.classification_report(y_test, y_pred_dt_at))\n",
        "\n",
        "X_train,  X_test, y_train, y_test = train_test_split(\n",
        "    df_one_hot.drop(['Cum Count Src IP Addr (10seconds)','Cum Count Src IP Addr (20seconds)','Date first seen','Src Pt','Src IP Addr','Dst IP Addr','Dst Pt','Flags','class','attackType','attackID','attackDescription'],axis=1),\n",
        "    df_one_hot[['class']], \n",
        "    test_size=0.20\n",
        ")\n",
        "from sklearn.tree import DecisionTreeClassifier\n",
        "# define the classifier\n",
        "clf_dt = DecisionTreeClassifier(max_depth=7)\n",
        "# train the classifier\n",
        "t0 = time.time()\n",
        "clf_dt.fit(X_train, y_train)\n",
        "print(\"elapsed time = %.2f\" % (time.time()-t0))\n",
        "# perform the prediction\n",
        "y_pred_dt_at = clf_dt.predict(X_test)\n",
        "print(\"accuracy: {}\".format(metrics.accuracy_score(y_test, y_pred_dt_at)))\n",
        "print(\"precision: {:g}\".format(metrics.precision_score(y_test, y_pred_dt_at, average='macro')))\n",
        "print(\"recall: {:g}\".format(metrics.recall_score(y_test, y_pred_dt_at, average='macro')))\n",
        "print(metrics.classification_report(y_test, y_pred_dt_at))"
      ],
      "execution_count": 0,
      "outputs": [
        {
          "output_type": "stream",
          "text": [
            "elapsed time = 3.12\n",
            "accuracy: 0.9945927078464897\n",
            "precision: 0.983859\n",
            "recall: 0.982716\n",
            "              precision    recall  f1-score   support\n",
            "\n",
            "    attacker       1.00      0.95      0.98     15055\n",
            "      normal       1.00      1.00      1.00    140081\n",
            "      victim       0.95      0.99      0.97     13895\n",
            "\n",
            "    accuracy                           0.99    169031\n",
            "   macro avg       0.98      0.98      0.98    169031\n",
            "weighted avg       0.99      0.99      0.99    169031\n",
            "\n",
            "elapsed time = 3.20\n",
            "accuracy: 0.9949476723204619\n",
            "precision: 0.984843\n",
            "recall: 0.984128\n",
            "              precision    recall  f1-score   support\n",
            "\n",
            "    attacker       1.00      0.96      0.98     15111\n",
            "      normal       1.00      1.00      1.00    140011\n",
            "      victim       0.96      1.00      0.98     13909\n",
            "\n",
            "    accuracy                           0.99    169031\n",
            "   macro avg       0.98      0.98      0.98    169031\n",
            "weighted avg       1.00      0.99      0.99    169031\n",
            "\n",
            "elapsed time = 3.27\n",
            "accuracy: 0.9949713366187267\n",
            "precision: 0.984633\n",
            "recall: 0.984438\n",
            "              precision    recall  f1-score   support\n",
            "\n",
            "    attacker       1.00      0.96      0.98     14934\n",
            "      normal       1.00      1.00      1.00    140024\n",
            "      victim       0.96      1.00      0.98     14073\n",
            "\n",
            "    accuracy                           0.99    169031\n",
            "   macro avg       0.98      0.98      0.98    169031\n",
            "weighted avg       1.00      0.99      0.99    169031\n",
            "\n"
          ],
          "name": "stdout"
        }
      ]
    },
    {
      "cell_type": "markdown",
      "metadata": {
        "id": "8NKkhW8i_wt8",
        "colab_type": "text"
      },
      "source": [
        "### Think about other analysis you could perform on the data:\n",
        "- What other features might be interesting? Try to compute them by modifying the code in the Appendix.\n"
      ]
    },
    {
      "cell_type": "code",
      "metadata": {
        "id": "uGETlvEf_wt8",
        "colab_type": "code",
        "outputId": "ac1d99bd-c9e3-4f75-d5c7-1e97b80fd32d",
        "colab": {
          "base_uri": "https://localhost:8080/",
          "height": 271
        }
      },
      "source": [
        "X_train,  X_test, y_train, y_test = train_test_split(\n",
        "    df_one_hot.drop(['Date first seen','Src IP Addr','Dst IP Addr','Flags','class','attackType','attackID','attackDescription'],axis=1),\n",
        "    df_one_hot[['class']], \n",
        "    test_size=0.20\n",
        ")\n",
        "\n",
        "# define the classifier\n",
        "clf_dt = DecisionTreeClassifier()\n",
        "\n",
        "# train the classifier\n",
        "t0 = time.time()\n",
        "clf_dt.fit(X_train, y_train)\n",
        "print(\"elapsed time = %.2f\" % (time.time()-t0))\n",
        "\n",
        "# perform the prediction\n",
        "y_pred_dt_at = clf_dt.predict(X_test)\n",
        "\n",
        "print(\"accuracy: {}\".format(metrics.accuracy_score(y_test, y_pred_dt_at)))\n",
        "print(\"precision: {:g}\".format(metrics.precision_score(y_test, y_pred_dt_at, average='macro')))\n",
        "print(\"recall: {:g}\".format(metrics.recall_score(y_test, y_pred_dt_at, average='macro')))\n",
        "print(metrics.classification_report(y_test, y_pred_dt_at))"
      ],
      "execution_count": 0,
      "outputs": [
        {
          "output_type": "stream",
          "text": [
            "elapsed time = 6.13\n",
            "accuracy: 0.9994912175873065\n",
            "precision: 0.99902\n",
            "recall: 0.998828\n",
            "              precision    recall  f1-score   support\n",
            "\n",
            "    attacker       1.00      1.00      1.00     14925\n",
            "      normal       1.00      1.00      1.00    140062\n",
            "      victim       1.00      1.00      1.00     14044\n",
            "\n",
            "    accuracy                           1.00    169031\n",
            "   macro avg       1.00      1.00      1.00    169031\n",
            "weighted avg       1.00      1.00      1.00    169031\n",
            "\n"
          ],
          "name": "stdout"
        }
      ]
    },
    {
      "cell_type": "markdown",
      "metadata": {
        "id": "mn6fA_0LpYFo",
        "colab_type": "text"
      },
      "source": [
        "Now that we have all this features we could see the feature importance to see what are the mst relevant and see if our assertions are true"
      ]
    },
    {
      "cell_type": "code",
      "metadata": {
        "id": "JQ65rx9fLYe4",
        "colab_type": "code",
        "outputId": "eb8269ae-b266-4baa-a4a0-f5ac3442a6e5",
        "colab": {
          "base_uri": "https://localhost:8080/",
          "height": 617
        }
      },
      "source": [
        "sorted(zip(clf_dt.feature_importances_,df_one_hot.drop(['Date first seen','Src Pt','Src IP Addr','Dst IP Addr','Dst Pt','Flags','class','attackType','attackID','attackDescription'],axis=1).columns ),reverse=True)"
      ],
      "execution_count": 0,
      "outputs": [
        {
          "output_type": "execute_result",
          "data": {
            "text/plain": [
              "[(0.24503925507770385, 'Packets'),\n",
              " (0.05869776337111159, 'Flag_3_P'),\n",
              " (0.030763936609162913, 'Day of week'),\n",
              " (0.016737761906212605, 'Bytes'),\n",
              " (0.01590292978198225, 'Flag_5_S'),\n",
              " (0.01164787270562703, 'Flag_6_F'),\n",
              " (0.00996098746661452, 'Duration'),\n",
              " (0.0063332111378630795, 'Cum Count Src IP Addr (10seconds)'),\n",
              " (0.004608061547913568, 'Cum Count Src IP Addr (60seconds)'),\n",
              " (0.002623421416972823, 'Flag_4_.'),\n",
              " (0.0023650703245706715, 'Flag_6_.'),\n",
              " (0.002072036776031038, 'Flows'),\n",
              " (0.0016078472952877388, 'Cum Count Src IP Addr (20seconds)'),\n",
              " (0.0009531022245592731, 'Tos_16'),\n",
              " (0.0006143309215144892, 'Proto_IGMP '),\n",
              " (0.00033001403681708855, 'Proto_ICMP '),\n",
              " (0.00024792490286907774, 'Flag_3_.'),\n",
              " (0.00017658707958699777, 'Src IP Addr Cat_private'),\n",
              " (0.0001764706671310677, 'Src IP Addr Cat_DNS'),\n",
              " (0.00010840680287634136, 'Src IP Addr Cat_EXT_SERVER'),\n",
              " (1.98334070403264e-05, 'Tos_12'),\n",
              " (1.9757151619527616e-05, 'Proto_TCP  '),\n",
              " (0.0, 'Tos_32'),\n",
              " (0.0, 'Tos_192'),\n",
              " (0.0, 'Tos_0'),\n",
              " (0.0, 'Time of day'),\n",
              " (0.0, 'Src IP Addr Cat_public'),\n",
              " (0.0, 'Proto_UDP  '),\n",
              " (0.0, 'Flag_5_.'),\n",
              " (0.0, 'Flag_4_R'),\n",
              " (0.0, 'Flag_2_A'),\n",
              " (0.0, 'Flag_2_.'),\n",
              " (0.0, 'Flag_1_.')]"
            ]
          },
          "metadata": {
            "tags": []
          },
          "execution_count": 47
        }
      ]
    },
    {
      "cell_type": "markdown",
      "metadata": {
        "id": "E0FgoJPy6ggg",
        "colab_type": "text"
      },
      "source": [
        "- Try running some other analysis like clustering on the data."
      ]
    },
    {
      "cell_type": "code",
      "metadata": {
        "id": "Iq818laVefRE",
        "colab_type": "code",
        "outputId": "a1c8a1eb-fb80-45f2-d4be-c89f9cf72100",
        "colab": {
          "base_uri": "https://localhost:8080/",
          "height": 671
        }
      },
      "source": [
        "from sklearn.cluster import (\n",
        "    KMeans\n",
        ")\n",
        "from sklearn.metrics import (\n",
        "    homogeneity_score,\n",
        "    completeness_score,\n",
        "    v_measure_score\n",
        ")\n",
        "\n",
        "kmeans = KMeans(n_clusters=3).fit(\n",
        "    df_one_hot.drop(['Date first seen','Src IP Addr','Dst IP Addr','Flags','class','attackType','attackID','attackDescription'],axis=1),\n",
        ")\n",
        "print(kmeans.cluster_centers_)\n",
        "df_one_hot['cluster'] = kmeans.labels_\n",
        "print(df_one_hot.groupby(['cluster', 'class']).size().reset_index().sort_values(['cluster', 'class']))\n",
        "\n",
        "predicted_clusters = df_one_hot['cluster'].values\n",
        "true_labels = df_one_hot['class'].values\n",
        "print(homogeneity_score(true_labels, predicted_clusters))\n",
        "print(completeness_score(true_labels, predicted_clusters))\n",
        "print(v_measure_score(true_labels, predicted_clusters))\n",
        "\n",
        "#agg = AgglomerativeClustering(n_clusters=3).fit(\n",
        "#    df_one_hot.drop(['Date first seen','Src IP Addr','Dst IP Addr','Flags','class','attackType','attackID','attackDescription'],axis=1),\n",
        "#)\n",
        "\n",
        "#df_one_hot['cluster'] = agg.labels_\n",
        "#df_one_hot['cluster'] = agg.labels_print(df_one_hot.groupby(['cluster', 'class']).size().reset_index().sort_values(['cluster', 'class']))\n",
        "\n",
        "#predicted_clusters = df_one_hot['cluster'].values\n",
        "#true_labels = df_one_hot['class'].values\n",
        "#print(homogeneity_score(true_labels, predicted_clusters))\n",
        "#print(completeness_score(true_labels, predicted_clusters))\n",
        "#print(v_measure_score(true_labels, predicted_clusters))"
      ],
      "execution_count": 0,
      "outputs": [
        {
          "output_type": "stream",
          "text": [
            "[[ 1.11683420e-01  2.46043220e+04  2.42288873e+04  1.05068767e+01\n",
            "   4.84508020e+03  1.00000000e+00  2.19666834e+00  1.23738396e+01\n",
            "   1.27203430e-03  3.43153438e-05  8.74747812e-01  1.23945839e-01\n",
            "   7.18842555e-01  1.18328772e-06  1.05312607e-04  2.80594200e-01\n",
            "   4.56749059e-04  1.00000000e+00  1.44826134e-01  8.55173866e-01\n",
            "   6.40326682e-01  3.59673318e-01  9.77820455e-01  2.21795450e-02\n",
            "   6.86269011e-01  3.13730989e-01  7.17620219e-01  2.82379781e-01\n",
            "   5.79704486e-02  9.81418833e-03  6.09058304e-01  3.23157059e-01\n",
            "   4.87038621e+01  9.17598849e+01  2.27062724e+02]\n",
            " [ 4.39598519e+01  1.92684815e+04  2.93135185e+04  1.01813593e+05\n",
            "   3.17840741e+08  1.00000000e+00  1.96296296e+00  1.23703704e+01\n",
            "   2.16840434e-19  6.77626358e-21  1.00000000e+00  4.16333634e-17\n",
            "   1.00000000e+00 -2.11758237e-22  4.06575815e-20 -1.11022302e-16\n",
            "   0.00000000e+00  1.00000000e+00 -8.32667268e-17  1.00000000e+00\n",
            "   1.11022302e-16  1.00000000e+00  1.00000000e+00  1.38777878e-17\n",
            "   1.00000000e+00  0.00000000e+00  1.00000000e+00  1.11022302e-16\n",
            "   2.08166817e-17  0.00000000e+00  1.00000000e+00  5.55111512e-17\n",
            "   2.96296296e-01  3.33333333e-01  2.00000000e+00]\n",
            " [ 2.91336364e+01  3.51067273e+04  1.28545909e+04  4.39325000e+04\n",
            "   1.31022727e+08  1.00000000e+00  1.90909091e+00  1.37272727e+01\n",
            "   6.50521303e-19  6.77626358e-21  1.00000000e+00  4.16333634e-17\n",
            "   1.00000000e+00 -2.11758237e-22  1.35525272e-20 -1.11022302e-16\n",
            "   0.00000000e+00  1.00000000e+00 -8.32667268e-17  1.00000000e+00\n",
            "   1.11022302e-16  1.00000000e+00  1.00000000e+00  1.38777878e-17\n",
            "   1.00000000e+00  5.55111512e-17  1.00000000e+00  1.11022302e-16\n",
            "   2.08166817e-17  0.00000000e+00  1.00000000e+00  5.55111512e-17\n",
            "   2.13162821e-14  4.54545455e-02  1.81818182e-01]]\n",
            "   cluster     class       0\n",
            "0        0  attacker   75124\n",
            "1        0    normal  700464\n",
            "2        0    victim   69515\n",
            "3        1    normal      27\n",
            "4        2    normal      22\n",
            "1.888799141529431e-05\n",
            "0.016403368086458134\n",
            "3.773253493670455e-05\n"
          ],
          "name": "stdout"
        }
      ]
    },
    {
      "cell_type": "code",
      "metadata": {
        "id": "v4krzg18JfNg",
        "colab_type": "code",
        "outputId": "33afc2b2-ab5f-4aa5-d7eb-441f6d050f28",
        "colab": {
          "base_uri": "https://localhost:8080/",
          "height": 1000
        }
      },
      "source": [
        "from mpl_toolkits.mplot3d import Axes3D  \n",
        "from sklearn.pipeline import Pipeline\n",
        "from sklearn.decomposition import PCA\n",
        "from sklearn.preprocessing import StandardScaler\n",
        "\n",
        "pca = PCA(n_components=2)\n",
        "pipe = Pipeline([('scaler', StandardScaler()), ('dim-red', pca)])\n",
        "Xt = pipe.fit_transform(df_one_hot.drop(['Date first seen','Src IP Addr','Dst IP Addr','Flags','class','attackType','attackID','attackDescription'],axis=1))\n",
        "kmeans = KMeans(n_clusters=3).fit(\n",
        "    Xt\n",
        ")\n",
        "clusters = kmeans.predict(Xt)\n",
        "\n",
        "fig, ax = plt.subplots(figsize=(17, 17))\n",
        "ax.scatter(*Xt.T,c=clusters)\n",
        "ax.scatter(*kmeans.cluster_centers_.T,c='red')\n",
        "ax.set_xlabel('$\\\\xi_1$')\n",
        "ax.set_ylabel('$\\\\xi_2$')\n",
        "plt.show()\n",
        "\n",
        "pca = PCA(n_components=3)\n",
        "pipe = Pipeline([('scaler', StandardScaler()), ('dim-red', pca)])\n",
        "Xt = pipe.fit_transform(df_one_hot.drop(['Date first seen','Src IP Addr','Dst IP Addr','Flags','class','attackType','attackID','attackDescription'],axis=1))\n",
        "kmeans = KMeans(n_clusters=3).fit(\n",
        "    Xt\n",
        ")\n",
        "clusters = kmeans.predict(Xt)\n",
        "\n",
        "fig = plt.figure(figsize=(17, 17))\n",
        "ax = fig.add_subplot( projection='3d')\n",
        "ax.scatter(*Xt.T,c=clusters)\n",
        "ax.scatter(*kmeans.cluster_centers_.T,c='red',s=1000)\n",
        "ax.set_xlabel('$\\\\xi_1$')\n",
        "ax.set_ylabel('$\\\\xi_2$')\n",
        "ax.view_init(30,65)\n",
        "plt.show()"
      ],
      "execution_count": 0,
      "outputs": [
        {
          "output_type": "display_data",
          "data": {
            "image/png": "[encoded data removed]",
            "text/plain": [
              "<Figure size 1224x1224 with 1 Axes>"
            ]
          },
          "metadata": {
            "tags": []
          }
        },
        {
          "output_type": "display_data",
          "data": {
            "image/png": "[encoded data removed]",
            "text/plain": [
              "<Figure size 1224x1224 with 1 Axes>"
            ]
          },
          "metadata": {
            "tags": []
          }
        }
      ]
    },
    {
      "cell_type": "code",
      "metadata": {
        "id": "UVWYeKC9QNPY",
        "colab_type": "code",
        "colab": {}
      },
      "source": [
        "from sklearn.ensemble import IsolationForest\n",
        "from ipywidgets import interact, FloatSlider\n",
        "import matplotlib\n",
        "matplotlib.rcParams['figure.dpi'] = 144\n",
        "\n",
        "# truncate to two variables\n",
        "pipe = Pipeline([('scaler', StandardScaler()), ('dim_red', PCA(n_components=2))])\n",
        "\n",
        "Xt=df_one_hot[df_one_hot['class']==\"normal\"] #a bit ugly but it works\n",
        "X_test= df_one_hot[df_one_hot['class']!=\"normal\"]\n",
        "Xt = pipe.fit_transform(Xt.drop(['Date first seen','Src IP Addr','Dst IP Addr','Flags','class','attackType','attackID','attackDescription'],axis=1))\n",
        "X_test = pipe.fit_transform(X_test.drop(['Date first seen','Src IP Addr','Dst IP Addr','Flags','class','attackType','attackID','attackDescription'],axis=1))\n"
      ],
      "execution_count": 0,
      "outputs": []
    },
    {
      "cell_type": "code",
      "metadata": {
        "id": "PVwJw3t0ZtXs",
        "colab_type": "code",
        "outputId": "0ca5d5c8-40d1-451a-924a-861d1d292242",
        "colab": {
          "base_uri": "https://localhost:8080/",
          "height": 685,
          "referenced_widgets": [
            "03308cc784fa4428bde4c74934ebc75f",
            "b14fd509d9b84db0ae84c5630bd379b6",
            "da599883140946e8904683bf3c594e4c",
            "8768d083d2f34fc49878452850496d94",
            "c5d5ccdc5d084520aef78012255185c3",
            "81b287e23f054cd3acc1c0d8e4888ced"
          ]
        }
      },
      "source": [
        "def plot_isolation_forest(X, X_test):\n",
        "    def plotter(contamination=0.2):\n",
        "        clf = IsolationForest(n_estimators=100, contamination=contamination, behaviour='new')\n",
        "        clf.fit(X)\n",
        "    \n",
        "        y_pred = clf.predict(X)\n",
        "        outlier_rate = (y_pred == -1).sum()/len(X)\n",
        "        X1, X2 = np.meshgrid(np.linspace(-20, 50), np.linspace(-20, 50))\n",
        "        y_proba = clf.decision_function(np.hstack((X1.reshape(-1, 1), X2.reshape(-1, 1))))\n",
        "        Z = y_proba.reshape(50, 50)\n",
        "        fig = plt.figure(figsize=(8, 5), facecolor='w', edgecolor='k')\n",
        "        plt.contourf(X1, X2, Z, levels=np.linspace(Z.min(), 0, 7), cmap=plt.cm.Blues_r)\n",
        "        plt.colorbar()\n",
        "        a = plt.contour(X1, X2, Z, levels=[0], linewidths=2, colors='black')            \n",
        "        b1 = plt.scatter(*X.T, c='blue')\n",
        "        b2 = plt.scatter(*X_test.T, c='red')\n",
        "        plt.title(\"outlier fraction: {:g}\".format(outlier_rate))\n",
        "        plt.legend([a.collections[0], b1, b2], [\"boundary\", \"inliers\", \"outliers\"], frameon=True, \n",
        "                   loc=\"lower right\") \n",
        "    return plotter\n",
        "\n",
        "cont_slider = FloatSlider(min=0.01, max=0.5, value=0.1, step=0.01, description=\"fraction\")\n",
        "interact(plot_isolation_forest(Xt, X_test), contamination=cont_slider);"
      ],
      "execution_count": 0,
      "outputs": [
        {
          "output_type": "display_data",
          "data": {
            "application/vnd.jupyter.widget-view+json": {
              "model_id": "03308cc784fa4428bde4c74934ebc75f",
              "version_minor": 0,
              "version_major": 2
            },
            "text/plain": [
              "interactive(children=(FloatSlider(value=0.1, description='fraction', max=0.5, min=0.01, step=0.01), Output()),…"
            ]
          },
          "metadata": {
            "tags": []
          }
        }
      ]
    },
    {
      "cell_type": "markdown",
      "metadata": {
        "id": "0pvuDr98eAO4",
        "colab_type": "text"
      },
      "source": [
        "Alternative link if the interactive plot doesn't load: https://drive.google.com/open?id=1h7d9MzNImphQ2lRFkNuOS6q9JfdYomMt\n"
      ]
    },
    {
      "cell_type": "markdown",
      "metadata": {
        "id": "SCPQ3esD_wt8",
        "colab_type": "text"
      },
      "source": [
        "# APPENDIX\n",
        "Some code to help with some of the tasks in part 1 of the assignment:\n",
        "- Converting column from string to datetime format:"
      ]
    },
    {
      "cell_type": "code",
      "metadata": {
        "id": "HC_Dof4U_wt8",
        "colab_type": "code",
        "colab": {}
      },
      "source": [
        "#df1['Date first seen'] = pd.to_datetime(df1['Date first seen'])"
      ],
      "execution_count": 0,
      "outputs": []
    },
    {
      "cell_type": "markdown",
      "metadata": {
        "id": "7_kNUWVb_wt8",
        "colab_type": "text"
      },
      "source": [
        "Getting time-of-day and day-of-week features from datetime object:"
      ]
    },
    {
      "cell_type": "code",
      "metadata": {
        "id": "kut1Soxr_wt8",
        "colab_type": "code",
        "colab": {}
      },
      "source": [
        "#df1['Date first seen'].dt.dayofweek\n",
        "#df1['Date first seen'].dt.hour"
      ],
      "execution_count": 0,
      "outputs": []
    },
    {
      "cell_type": "markdown",
      "metadata": {
        "id": "ak6mOrUm_wt8",
        "colab_type": "text"
      },
      "source": [
        "Splitting the Flags field into separate fields:"
      ]
    },
    {
      "cell_type": "code",
      "metadata": {
        "id": "XX9K-KDO_wt8",
        "colab_type": "code",
        "colab": {}
      },
      "source": [
        "#df1[\"Flag_1\"] = [x[0] for x in df1[\"Flags\"]]\n",
        "#df1[\"Flag_2\"] = [x[1] for x in df1[\"Flags\"]]\n",
        "#df1[\"Flag_3\"] = [x[2] for x in df1[\"Flags\"]]\n",
        "#df1[\"Flag_4\"] = [x[3] for x in df1[\"Flags\"]]\n",
        "#df1[\"Flag_5\"] = [x[4] for x in df1[\"Flags\"]]\n",
        "#df1[\"Flag_6\"] = [x[5] for x in df1[\"Flags\"]]"
      ],
      "execution_count": 0,
      "outputs": []
    },
    {
      "cell_type": "markdown",
      "metadata": {
        "id": "ssZ1BCcL_wt8",
        "colab_type": "text"
      },
      "source": [
        "Code for assigning Source IPs to 4 categories:"
      ]
    },
    {
      "cell_type": "code",
      "metadata": {
        "id": "tUZ2aFI-_wt8",
        "colab_type": "code",
        "colab": {}
      },
      "source": [
        "#def get_IP_category(ip_addr):\n",
        "#if ip_addr == 'DNS':\n",
        "#return 'DNS'\n",
        "#elif ip_addr == 'EXT_SERVER':\n",
        "#return 'EXT_SERVER'\n",
        "#elif len(ip_addr.split('.')) == 4:\n",
        "#return 'private'\n",
        "#elif len(ip_addr.split('_')) == 2:\n",
        "#return 'public'\n",
        "#else:\n",
        "#return '-'"
      ],
      "execution_count": 0,
      "outputs": []
    },
    {
      "cell_type": "markdown",
      "metadata": {
        "id": "zf-ueqZc_wt8",
        "colab_type": "text"
      },
      "source": [
        "Create new column with count of requests from same ‘Src IP Addr’ over the last 10 seconds:"
      ]
    },
    {
      "cell_type": "code",
      "metadata": {
        "id": "xkhreRiR_wvg",
        "colab_type": "code",
        "colab": {}
      },
      "source": [
        "#df1['Cum Count Src IP Addr (10seconds)'] = df1.groupby(['Src IP Addr', pd.Grouper(freq='10S',\n",
        "#key='Date first seen')]).cumcount()"
      ],
      "execution_count": 0,
      "outputs": []
    },
    {
      "cell_type": "markdown",
      "metadata": {
        "id": "5CcQPpNV_wvg",
        "colab_type": "text"
      },
      "source": [
        "#*Sara Imbeni*"
      ]
    },
    {
      "cell_type": "markdown",
      "metadata": {
        "id": "wez42W5e_wvg",
        "colab_type": "text"
      },
      "source": [
        "# *Giacomo Minello*"
      ]
    },
    {
      "cell_type": "markdown",
      "metadata": {
        "id": "o5A6jHiy_wvg",
        "colab_type": "text"
      },
      "source": [
        "#*Utkan Peker*"
      ]
    }
  ]
}