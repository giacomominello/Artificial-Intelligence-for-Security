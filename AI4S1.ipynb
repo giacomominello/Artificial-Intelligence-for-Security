{
  "nbformat": 4,
  "nbformat_minor": 0,
  "metadata": {
    "kernelspec": {
      "display_name": "Python 3",
      "language": "python",
      "name": "python3"
    },
    "language_info": {
      "codemirror_mode": {
        "name": "ipython",
        "version": 3
      },
      "file_extension": ".py",
      "mimetype": "text/x-python",
      "name": "python",
      "nbconvert_exporter": "python",
      "pygments_lexer": "ipython3",
      "version": "3.7.4"
    },
    "colab": {
      "name": "AI4S1.ipynb",
      "provenance": [],
      "collapsed_sections": [
        "PGITLdtJ_wq0",
        "5HdXVYi7_wq0"
      ],
      "machine_shape": "hm",
      "include_colab_link": true
    },
    "widgets": {
      "application/vnd.jupyter.widget-state+json": {
        "dae5af567c8e4195be244c913aa66a52": {
          "model_module": "@jupyter-widgets/controls",
          "model_name": "VBoxModel",
          "state": {
            "_view_name": "VBoxView",
            "_dom_classes": [
              "widget-interact"
            ],
            "_model_name": "VBoxModel",
            "_view_module": "@jupyter-widgets/controls",
            "_model_module_version": "1.5.0",
            "_view_count": null,
            "_view_module_version": "1.5.0",
            "box_style": "",
            "layout": "IPY_MODEL_595255b38315455daeeecf5a310b06a6",
            "_model_module": "@jupyter-widgets/controls",
            "children": [
              "IPY_MODEL_62376a7a40e64d63bb53964ebe78ffab",
              "IPY_MODEL_f94ff769f1f745158e12b584e790ba36"
            ]
          }
        },
        "595255b38315455daeeecf5a310b06a6": {
          "model_module": "@jupyter-widgets/base",
          "model_name": "LayoutModel",
          "state": {
            "_view_name": "LayoutView",
            "grid_template_rows": null,
            "right": null,
            "justify_content": null,
            "_view_module": "@jupyter-widgets/base",
            "overflow": null,
            "_model_module_version": "1.2.0",
            "_view_count": null,
            "flex_flow": null,
            "width": null,
            "min_width": null,
            "border": null,
            "align_items": null,
            "bottom": null,
            "_model_module": "@jupyter-widgets/base",
            "top": null,
            "grid_column": null,
            "overflow_y": null,
            "overflow_x": null,
            "grid_auto_flow": null,
            "grid_area": null,
            "grid_template_columns": null,
            "flex": null,
            "_model_name": "LayoutModel",
            "justify_items": null,
            "grid_row": null,
            "max_height": null,
            "align_content": null,
            "visibility": null,
            "align_self": null,
            "height": null,
            "min_height": null,
            "padding": null,
            "grid_auto_rows": null,
            "grid_gap": null,
            "max_width": null,
            "order": null,
            "_view_module_version": "1.2.0",
            "grid_template_areas": null,
            "object_position": null,
            "object_fit": null,
            "grid_auto_columns": null,
            "margin": null,
            "display": null,
            "left": null
          }
        },
        "62376a7a40e64d63bb53964ebe78ffab": {
          "model_module": "@jupyter-widgets/controls",
          "model_name": "DropdownModel",
          "state": {
            "_options_labels": [
              "Duration",
              "Packets",
              "Day of week",
              "Time of day"
            ],
            "_view_name": "DropdownView",
            "style": "IPY_MODEL_88a421e0eab24a07bb3e70fe8d7e7695",
            "_dom_classes": [],
            "description": "column",
            "_model_name": "DropdownModel",
            "index": 3,
            "_view_module": "@jupyter-widgets/controls",
            "_model_module_version": "1.5.0",
            "_view_count": null,
            "disabled": false,
            "_view_module_version": "1.5.0",
            "description_tooltip": null,
            "_model_module": "@jupyter-widgets/controls",
            "layout": "IPY_MODEL_8c7d7b13868d4241a1ef91a250847a3a"
          }
        },
        "f94ff769f1f745158e12b584e790ba36": {
          "model_module": "@jupyter-widgets/output",
          "model_name": "OutputModel",
          "state": {
            "_view_name": "OutputView",
            "msg_id": "",
            "_dom_classes": [],
            "_model_name": "OutputModel",
            "outputs": [
              {
                "output_type": "display_data",
                "metadata": {
                  "tags": []
                },
                "image/png": "iVBORw0KGgoAAAANSUhEUgAAAZsAAAEGCAYAAACzYDhlAAAABHNCSVQICAgIfAhkiAAAAAlwSFlz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\nAElFTkSuQmCC\n",
                "text/plain": "<Figure size 432x288 with 1 Axes>"
              }
            ],
            "_view_module": "@jupyter-widgets/output",
            "_model_module_version": "1.0.0",
            "_view_count": null,
            "_view_module_version": "1.0.0",
            "layout": "IPY_MODEL_ea945f56aa37434d839f22634ab761c4",
            "_model_module": "@jupyter-widgets/output"
          }
        },
        "88a421e0eab24a07bb3e70fe8d7e7695": {
          "model_module": "@jupyter-widgets/controls",
          "model_name": "DescriptionStyleModel",
          "state": {
            "_view_name": "StyleView",
            "_model_name": "DescriptionStyleModel",
            "description_width": "",
            "_view_module": "@jupyter-widgets/base",
            "_model_module_version": "1.5.0",
            "_view_count": null,
            "_view_module_version": "1.2.0",
            "_model_module": "@jupyter-widgets/controls"
          }
        },
        "8c7d7b13868d4241a1ef91a250847a3a": {
          "model_module": "@jupyter-widgets/base",
          "model_name": "LayoutModel",
          "state": {
            "_view_name": "LayoutView",
            "grid_template_rows": null,
            "right": null,
            "justify_content": null,
            "_view_module": "@jupyter-widgets/base",
            "overflow": null,
            "_model_module_version": "1.2.0",
            "_view_count": null,
            "flex_flow": null,
            "width": null,
            "min_width": null,
            "border": null,
            "align_items": null,
            "bottom": null,
            "_model_module": "@jupyter-widgets/base",
            "top": null,
            "grid_column": null,
            "overflow_y": null,
            "overflow_x": null,
            "grid_auto_flow": null,
            "grid_area": null,
            "grid_template_columns": null,
            "flex": null,
            "_model_name": "LayoutModel",
            "justify_items": null,
            "grid_row": null,
            "max_height": null,
            "align_content": null,
            "visibility": null,
            "align_self": null,
            "height": null,
            "min_height": null,
            "padding": null,
            "grid_auto_rows": null,
            "grid_gap": null,
            "max_width": null,
            "order": null,
            "_view_module_version": "1.2.0",
            "grid_template_areas": null,
            "object_position": null,
            "object_fit": null,
            "grid_auto_columns": null,
            "margin": null,
            "display": null,
            "left": null
          }
        }
      }
    }
  },
  "cells": [
    {
      "cell_type": "markdown",
      "metadata": {
        "id": "view-in-github",
        "colab_type": "text"
      },
      "source": [
        "<a href=\"https://colab.research.google.com/github/giacomominello/AI4S/blob/master/AI4S1.ipynb\" target=\"_parent\"><img src=\"https://colab.research.google.com/assets/colab-badge.svg\" alt=\"Open In Colab\"/></a>"
      ]
    },
    {
      "cell_type": "markdown",
      "metadata": {
        "id": "gOgBPNf__wmI",
        "colab_type": "text"
      },
      "source": [
        "# ARTIFICIAL INTELLIGENCE FOR SECURITY - Assignment: Analysing Network Traffic"
      ]
    },
    {
      "cell_type": "markdown",
      "metadata": {
        "id": "xEx3wc3E_wns",
        "colab_type": "text"
      },
      "source": [
        "Group: "
      ]
    },
    {
      "cell_type": "markdown",
      "metadata": {
        "id": "M2fmJpWRcxpo",
        "colab_type": "text"
      },
      "source": [
        "Let's start by importing some libraries and loading some extensions. "
      ]
    },
    {
      "cell_type": "code",
      "metadata": {
        "id": "4B3izXse_wns",
        "colab_type": "code",
        "colab": {}
      },
      "source": [
        "import pandas as pd #https://pandas.pydata.org/pandas-docs/stable/index.html\n",
        "import numpy as np #https://numpy.org/devdocs/ \n",
        "import time \n",
        "import seaborn as sns\n",
        "import matplotlib.pyplot as plt #https://matplotlib.org/api/pyplot_api.html\n",
        "from ipywidgets import widgets #https://ipywidgets.readthedocs.io/en/latest/\n",
        "from ipywidgets import interact #\"It's a surprise tool that will help us later\" \n",
        "%load_ext google.colab.data_table\n",
        "from sklearn.model_selection import train_test_split\n",
        "from sklearn import metrics\n",
        "from sklearn.utils import check_random_state\n",
        "random_state = np.random.RandomState(42) #should allow us to have deterministic results (up to roundoff error), we may need to pass this random_state instance to the generator"
      ],
      "execution_count": 0,
      "outputs": []
    },
    {
      "cell_type": "markdown",
      "metadata": {
        "id": "yIohdUxk_wns",
        "colab_type": "text"
      },
      "source": [
        "### First load the dataset for week 1 into a python notebook.\n",
        "- We will use data from week 1 for training a system and keep the week 2 data for testing purposes only."
      ]
    },
    {
      "cell_type": "code",
      "metadata": {
        "id": "q_FJ9PJiztQQ",
        "colab_type": "code",
        "colab": {}
      },
      "source": [
        "# Import PyDrive and associated libraries.\n",
        "# This only needs to be done once per notebook.\n",
        "from pydrive.auth import GoogleAuth\n",
        "from pydrive.drive import GoogleDrive\n",
        "from google.colab import auth\n",
        "from oauth2client.client import GoogleCredentials\n",
        "\n",
        "# Authenticate and create the PyDrive client.\n",
        "# This only needs to be done once per notebook.\n",
        "auth.authenticate_user()\n",
        "gauth = GoogleAuth()\n",
        "gauth.credentials = GoogleCredentials.get_application_default()\n",
        "drive = GoogleDrive(gauth)\n",
        "\n",
        "# Download a file based on its file ID.\n",
        "file_id = '1Gjcq50EpQOH-t-dwQVRP6MmO7JRiRDUf'\n",
        "downloaded = drive.CreateFile({'id': file_id})\n",
        "downloaded.GetContentFile('CIDDS-001-internal-week1_10pcSample.csv')  \n",
        "df = pd.read_csv('CIDDS-001-internal-week1_10pcSample.csv',index_col=[0])\n",
        "\n"
      ],
      "execution_count": 0,
      "outputs": []
    },
    {
      "cell_type": "code",
      "metadata": {
        "id": "M1Er5Kcy_wpQ",
        "colab_type": "code",
        "outputId": "102bb7b7-b01c-4f90-f9ba-34da649543f7",
        "colab": {
          "base_uri": "https://localhost:8080/",
          "height": 1000
        }
      },
      "source": [
        "df.head(100)"
      ],
      "execution_count": 0,
      "outputs": [
        {
          "output_type": "execute_result",
          "data": {
            "application/vnd.google.colaboratory.module+javascript": "\n      import \"https://ssl.gstatic.com/colaboratory/data_table/9e554b27bdd509f3/data_table.js\";\n\n      window.createDataTable({\n        data: [[{\n            'v': 23,\n            'f': \"23\",\n        },\n\"2017-03-15 00:01:17.728\",\n{\n            'v': 0.047,\n            'f': \"0.047\",\n        },\n\"TCP  \",\n\"192.168.220.16\",\n{\n            'v': 45586,\n            'f': \"45586\",\n        },\n\"10000_35\",\n{\n            'v': 443.0,\n            'f': \"443.0\",\n        },\n{\n            'v': 5,\n            'f': \"5\",\n        },\n\"     906\",\n{\n            'v': 1,\n            'f': \"1\",\n        },\n\".AP.S.\",\n{\n            'v': 0,\n            'f': \"0\",\n        },\n\"normal\",\n\"---\",\n\"---\",\n\"---\"],\n [{\n            'v': 36,\n            'f': \"36\",\n        },\n\"2017-03-15 00:01:18.457\",\n{\n            'v': 0.17,\n            'f': \"0.17\",\n        },\n\"TCP  \",\n\"10003_195\",\n{\n            'v': 80,\n            'f': \"80\",\n        },\n\"192.168.220.16\",\n{\n            'v': 48286.0,\n            'f': \"48286.0\",\n        },\n{\n            'v': 3,\n            'f': \"3\",\n        },\n\"     908\",\n{\n            'v': 1,\n            'f': \"1\",\n        },\n\".AP.S.\",\n{\n            'v': 32,\n            'f': \"32\",\n        },\n\"normal\",\n\"---\",\n\"---\",\n\"---\"],\n [{\n            'v': 30,\n            'f': \"30\",\n        },\n\"2017-03-15 00:01:18.511\",\n{\n            'v': 0.003,\n            'f': \"0.003\",\n        },\n\"TCP  \",\n\"10002_113\",\n{\n            'v': 443,\n            'f': \"443\",\n        },\n\"192.168.220.16\",\n{\n            'v': 49062.0,\n            'f': \"49062.0\",\n        },\n{\n            'v': 2,\n            'f': \"2\",\n        },\n\"    1089\",\n{\n            'v': 1,\n            'f': \"1\",\n        },\n\".AP...\",\n{\n            'v': 32,\n            'f': \"32\",\n        },\n\"normal\",\n\"---\",\n\"---\",\n\"---\"],\n [{\n            'v': 46,\n            'f': \"46\",\n        },\n\"2017-03-15 00:01:22.400\",\n{\n            'v': 0.0,\n            'f': \"0.0\",\n        },\n\"TCP  \",\n\"EXT_SERVER\",\n{\n            'v': 8082,\n            'f': \"8082\",\n        },\n\"192.168.220.15\",\n{\n            'v': 37039.0,\n            'f': \"37039.0\",\n        },\n{\n            'v': 1,\n            'f': \"1\",\n        },\n\"     212\",\n{\n            'v': 1,\n            'f': \"1\",\n        },\n\".AP...\",\n{\n            'v': 32,\n            'f': \"32\",\n        },\n\"normal\",\n\"---\",\n\"---\",\n\"---\"],\n [{\n            'v': 51,\n            'f': \"51\",\n        },\n\"2017-03-15 00:01:24.152\",\n{\n            'v': 0.266,\n            'f': \"0.266\",\n        },\n\"TCP  \",\n\"192.168.200.9\",\n{\n            'v': 52290,\n            'f': \"52290\",\n        },\n\"EXT_SERVER\",\n{\n            'v': 8082.0,\n            'f': \"8082.0\",\n        },\n{\n            'v': 2,\n            'f': \"2\",\n        },\n\"     319\",\n{\n            'v': 1,\n            'f': \"1\",\n        },\n\".AP...\",\n{\n            'v': 0,\n            'f': \"0\",\n        },\n\"normal\",\n\"---\",\n\"---\",\n\"---\"],\n [{\n            'v': 61,\n            'f': \"61\",\n        },\n\"2017-03-15 00:01:26.075\",\n{\n            'v': 0.052000000000000005,\n            'f': \"0.052000000000000005\",\n        },\n\"TCP  \",\n\"192.168.220.16\",\n{\n            'v': 51161,\n            'f': \"51161\",\n        },\n\"10001_232\",\n{\n            'v': 443.0,\n            'f': \"443.0\",\n        },\n{\n            'v': 6,\n            'f': \"6\",\n        },\n\"     972\",\n{\n            'v': 1,\n            'f': \"1\",\n        },\n\".AP.S.\",\n{\n            'v': 0,\n            'f': \"0\",\n        },\n\"normal\",\n\"---\",\n\"---\",\n\"---\"],\n [{\n            'v': 115,\n            'f': \"115\",\n        },\n\"2017-03-15 00:01:40.619\",\n{\n            'v': 0.0,\n            'f': \"0.0\",\n        },\n\"TCP  \",\n\"10001_232\",\n{\n            'v': 443,\n            'f': \"443\",\n        },\n\"192.168.220.16\",\n{\n            'v': 51113.0,\n            'f': \"51113.0\",\n        },\n{\n            'v': 1,\n            'f': \"1\",\n        },\n\"      66\",\n{\n            'v': 1,\n            'f': \"1\",\n        },\n\".A....\",\n{\n            'v': 0,\n            'f': \"0\",\n        },\n\"normal\",\n\"---\",\n\"---\",\n\"---\"],\n [{\n            'v': 121,\n            'f': \"121\",\n        },\n\"2017-03-15 00:01:42.380\",\n{\n            'v': 0.0,\n            'f': \"0.0\",\n        },\n\"TCP  \",\n\"EXT_SERVER\",\n{\n            'v': 8082,\n            'f': \"8082\",\n        },\n\"192.168.200.4\",\n{\n            'v': 56978.0,\n            'f': \"56978.0\",\n        },\n{\n            'v': 1,\n            'f': \"1\",\n        },\n\"     212\",\n{\n            'v': 1,\n            'f': \"1\",\n        },\n\".AP...\",\n{\n            'v': 32,\n            'f': \"32\",\n        },\n\"normal\",\n\"---\",\n\"---\",\n\"---\"],\n [{\n            'v': 126,\n            'f': \"126\",\n        },\n\"2017-03-15 00:01:46.361\",\n{\n            'v': 0.0,\n            'f': \"0.0\",\n        },\n\"TCP  \",\n\"192.168.100.5\",\n{\n            'v': 445,\n            'f': \"445\",\n        },\n\"192.168.220.10\",\n{\n            'v': 40239.0,\n            'f': \"40239.0\",\n        },\n{\n            'v': 1,\n            'f': \"1\",\n        },\n\"     108\",\n{\n            'v': 1,\n            'f': \"1\",\n        },\n\".AP...\",\n{\n            'v': 0,\n            'f': \"0\",\n        },\n\"normal\",\n\"---\",\n\"---\",\n\"---\"],\n [{\n            'v': 160,\n            'f': \"160\",\n        },\n\"2017-03-15 00:02:03.175\",\n{\n            'v': 0.085,\n            'f': \"0.085\",\n        },\n\"TCP  \",\n\"10000_35\",\n{\n            'v': 443,\n            'f': \"443\",\n        },\n\"192.168.220.16\",\n{\n            'v': 45633.0,\n            'f': \"45633.0\",\n        },\n{\n            'v': 4,\n            'f': \"4\",\n        },\n\"     419\",\n{\n            'v': 1,\n            'f': \"1\",\n        },\n\".AP.S.\",\n{\n            'v': 0,\n            'f': \"0\",\n        },\n\"normal\",\n\"---\",\n\"---\",\n\"---\"],\n [{\n            'v': 159,\n            'f': \"159\",\n        },\n\"2017-03-15 00:02:03.179\",\n{\n            'v': 0.209,\n            'f': \"0.209\",\n        },\n\"TCP  \",\n\"10001_232\",\n{\n            'v': 80,\n            'f': \"80\",\n        },\n\"192.168.220.16\",\n{\n            'v': 49812.0,\n            'f': \"49812.0\",\n        },\n{\n            'v': 4,\n            'f': \"4\",\n        },\n\"     697\",\n{\n            'v': 1,\n            'f': \"1\",\n        },\n\".AP.S.\",\n{\n            'v': 0,\n            'f': \"0\",\n        },\n\"normal\",\n\"---\",\n\"---\",\n\"---\"],\n [{\n            'v': 182,\n            'f': \"182\",\n        },\n\"2017-03-15 00:02:03.968\",\n{\n            'v': 0.32299999999999995,\n            'f': \"0.32299999999999995\",\n        },\n\"TCP  \",\n\"192.168.220.16\",\n{\n            'v': 48332,\n            'f': \"48332\",\n        },\n\"10003_195\",\n{\n            'v': 80.0,\n            'f': \"80.0\",\n        },\n{\n            'v': 5,\n            'f': \"5\",\n        },\n\"    2406\",\n{\n            'v': 1,\n            'f': \"1\",\n        },\n\".AP.S.\",\n{\n            'v': 0,\n            'f': \"0\",\n        },\n\"normal\",\n\"---\",\n\"---\",\n\"---\"],\n [{\n            'v': 175,\n            'f': \"175\",\n        },\n\"2017-03-15 00:02:04.070\",\n{\n            'v': 0.0,\n            'f': \"0.0\",\n        },\n\"UDP  \",\n\"192.168.220.16\",\n{\n            'v': 45970,\n            'f': \"45970\",\n        },\n\"DNS\",\n{\n            'v': 53.0,\n            'f': \"53.0\",\n        },\n{\n            'v': 2,\n            'f': \"2\",\n        },\n\"     144\",\n{\n            'v': 1,\n            'f': \"1\",\n        },\n\"......\",\n{\n            'v': 0,\n            'f': \"0\",\n        },\n\"normal\",\n\"---\",\n\"---\",\n\"---\"],\n [{\n            'v': 200,\n            'f': \"200\",\n        },\n\"2017-03-15 00:02:07.257\",\n{\n            'v': 0.0,\n            'f': \"0.0\",\n        },\n\"UDP  \",\n\"192.168.200.8\",\n{\n            'v': 63352,\n            'f': \"63352\",\n        },\n\"DNS\",\n{\n            'v': 53.0,\n            'f': \"53.0\",\n        },\n{\n            'v': 1,\n            'f': \"1\",\n        },\n\"      76\",\n{\n            'v': 1,\n            'f': \"1\",\n        },\n\"......\",\n{\n            'v': 0,\n            'f': \"0\",\n        },\n\"normal\",\n\"---\",\n\"---\",\n\"---\"],\n [{\n            'v': 199,\n            'f': \"199\",\n        },\n\"2017-03-15 00:02:07.346\",\n{\n            'v': 0.0,\n            'f': \"0.0\",\n        },\n\"UDP  \",\n\"192.168.200.8\",\n{\n            'v': 59311,\n            'f': \"59311\",\n        },\n\"DNS\",\n{\n            'v': 53.0,\n            'f': \"53.0\",\n        },\n{\n            'v': 1,\n            'f': \"1\",\n        },\n\"      81\",\n{\n            'v': 1,\n            'f': \"1\",\n        },\n\"......\",\n{\n            'v': 0,\n            'f': \"0\",\n        },\n\"normal\",\n\"---\",\n\"---\",\n\"---\"],\n [{\n            'v': 196,\n            'f': \"196\",\n        },\n\"2017-03-15 00:02:07.394\",\n{\n            'v': 0.002,\n            'f': \"0.002\",\n        },\n\"TCP  \",\n\"192.168.220.6\",\n{\n            'v': 46709,\n            'f': \"46709\",\n        },\n\"192.168.100.5\",\n{\n            'v': 445.0,\n            'f': \"445.0\",\n        },\n{\n            'v': 2,\n            'f': \"2\",\n        },\n\"     174\",\n{\n            'v': 1,\n            'f': \"1\",\n        },\n\".AP...\",\n{\n            'v': 0,\n            'f': \"0\",\n        },\n\"normal\",\n\"---\",\n\"---\",\n\"---\"],\n [{\n            'v': 205,\n            'f': \"205\",\n        },\n\"2017-03-15 00:02:07.992\",\n{\n            'v': 0.0,\n            'f': \"0.0\",\n        },\n\"TCP  \",\n\"192.168.220.16\",\n{\n            'v': 45487,\n            'f': \"45487\",\n        },\n\"10000_35\",\n{\n            'v': 443.0,\n            'f': \"443.0\",\n        },\n{\n            'v': 1,\n            'f': \"1\",\n        },\n\"      66\",\n{\n            'v': 1,\n            'f': \"1\",\n        },\n\".A....\",\n{\n            'v': 0,\n            'f': \"0\",\n        },\n\"normal\",\n\"---\",\n\"---\",\n\"---\"],\n [{\n            'v': 204,\n            'f': \"204\",\n        },\n\"2017-03-15 00:02:08.012\",\n{\n            'v': 0.0,\n            'f': \"0.0\",\n        },\n\"TCP  \",\n\"10000_35\",\n{\n            'v': 443,\n            'f': \"443\",\n        },\n\"192.168.220.16\",\n{\n            'v': 45487.0,\n            'f': \"45487.0\",\n        },\n{\n            'v': 1,\n            'f': \"1\",\n        },\n\"      66\",\n{\n            'v': 1,\n            'f': \"1\",\n        },\n\".A....\",\n{\n            'v': 0,\n            'f': \"0\",\n        },\n\"normal\",\n\"---\",\n\"---\",\n\"---\"],\n [{\n            'v': 213,\n            'f': \"213\",\n        },\n\"2017-03-15 00:02:08.630\",\n{\n            'v': 0.0,\n            'f': \"0.0\",\n        },\n\"TCP  \",\n\"192.168.100.5\",\n{\n            'v': 445,\n            'f': \"445\",\n        },\n\"192.168.220.4\",\n{\n            'v': 43145.0,\n            'f': \"43145.0\",\n        },\n{\n            'v': 1,\n            'f': \"1\",\n        },\n\"     108\",\n{\n            'v': 1,\n            'f': \"1\",\n        },\n\".AP...\",\n{\n            'v': 0,\n            'f': \"0\",\n        },\n\"normal\",\n\"---\",\n\"---\",\n\"---\"],\n [{\n            'v': 218,\n            'f': \"218\",\n        },\n\"2017-03-15 00:02:09.761\",\n{\n            'v': 0.0,\n            'f': \"0.0\",\n        },\n\"UDP  \",\n\"192.168.100.4\",\n{\n            'v': 138,\n            'f': \"138\",\n        },\n\"192.168.100.255\",\n{\n            'v': 138.0,\n            'f': \"138.0\",\n        },\n{\n            'v': 1,\n            'f': \"1\",\n        },\n\"     262\",\n{\n            'v': 1,\n            'f': \"1\",\n        },\n\"......\",\n{\n            'v': 0,\n            'f': \"0\",\n        },\n\"normal\",\n\"---\",\n\"---\",\n\"---\"],\n [{\n            'v': 233,\n            'f': \"233\",\n        },\n\"2017-03-15 00:02:20.462\",\n{\n            'v': 0.0,\n            'f': \"0.0\",\n        },\n\"TCP  \",\n\"192.168.220.16\",\n{\n            'v': 51357,\n            'f': \"51357\",\n        },\n\"192.168.200.1\",\n{\n            'v': 15660.0,\n            'f': \"15660.0\",\n        },\n{\n            'v': 1,\n            'f': \"1\",\n        },\n\"      58\",\n{\n            'v': 1,\n            'f': \"1\",\n        },\n\"....S.\",\n{\n            'v': 0,\n            'f': \"0\",\n        },\n\"attacker\",\n\"portScan\",\n\"1\",\n\"nmap args: -sS -T 1\"],\n [{\n            'v': 252,\n            'f': \"252\",\n        },\n\"2017-03-15 00:02:27.070\",\n{\n            'v': 0.0,\n            'f': \"0.0\",\n        },\n\"UDP  \",\n\"192.168.220.9\",\n{\n            'v': 137,\n            'f': \"137\",\n        },\n\"192.168.220.255\",\n{\n            'v': 137.0,\n            'f': \"137.0\",\n        },\n{\n            'v': 1,\n            'f': \"1\",\n        },\n\"      92\",\n{\n            'v': 1,\n            'f': \"1\",\n        },\n\"......\",\n{\n            'v': 0,\n            'f': \"0\",\n        },\n\"normal\",\n\"---\",\n\"---\",\n\"---\"],\n [{\n            'v': 253,\n            'f': \"253\",\n        },\n\"2017-03-15 00:02:28.413\",\n{\n            'v': 0.0,\n            'f': \"0.0\",\n        },\n\"TCP  \",\n\"192.168.100.5\",\n{\n            'v': 445,\n            'f': \"445\",\n        },\n\"192.168.220.7\",\n{\n            'v': 37191.0,\n            'f': \"37191.0\",\n        },\n{\n            'v': 1,\n            'f': \"1\",\n        },\n\"     108\",\n{\n            'v': 1,\n            'f': \"1\",\n        },\n\".AP...\",\n{\n            'v': 0,\n            'f': \"0\",\n        },\n\"normal\",\n\"---\",\n\"---\",\n\"---\"],\n [{\n            'v': 259,\n            'f': \"259\",\n        },\n\"2017-03-15 00:02:30.901\",\n{\n            'v': 0.003,\n            'f': \"0.003\",\n        },\n\"TCP  \",\n\"192.168.220.13\",\n{\n            'v': 60689,\n            'f': \"60689\",\n        },\n\"192.168.100.5\",\n{\n            'v': 445.0,\n            'f': \"445.0\",\n        },\n{\n            'v': 2,\n            'f': \"2\",\n        },\n\"     174\",\n{\n            'v': 1,\n            'f': \"1\",\n        },\n\".AP...\",\n{\n            'v': 0,\n            'f': \"0\",\n        },\n\"normal\",\n\"---\",\n\"---\",\n\"---\"],\n [{\n            'v': 302,\n            'f': \"302\",\n        },\n\"2017-03-15 00:02:44.536\",\n{\n            'v': 0.0,\n            'f': \"0.0\",\n        },\n\"TCP  \",\n\"192.168.220.16\",\n{\n            'v': 49062,\n            'f': \"49062\",\n        },\n\"10002_113\",\n{\n            'v': 443.0,\n            'f': \"443.0\",\n        },\n{\n            'v': 1,\n            'f': \"1\",\n        },\n\"      54\",\n{\n            'v': 1,\n            'f': \"1\",\n        },\n\".A....\",\n{\n            'v': 0,\n            'f': \"0\",\n        },\n\"normal\",\n\"---\",\n\"---\",\n\"---\"],\n [{\n            'v': 317,\n            'f': \"317\",\n        },\n\"2017-03-15 00:02:45.760\",\n{\n            'v': 0.048,\n            'f': \"0.048\",\n        },\n\"TCP  \",\n\"192.168.220.16\",\n{\n            'v': 45654,\n            'f': \"45654\",\n        },\n\"10000_35\",\n{\n            'v': 443.0,\n            'f': \"443.0\",\n        },\n{\n            'v': 5,\n            'f': \"5\",\n        },\n\"     906\",\n{\n            'v': 1,\n            'f': \"1\",\n        },\n\".AP.S.\",\n{\n            'v': 0,\n            'f': \"0\",\n        },\n\"normal\",\n\"---\",\n\"---\",\n\"---\"],\n [{\n            'v': 308,\n            'f': \"308\",\n        },\n\"2017-03-15 00:02:45.783\",\n{\n            'v': 0.085,\n            'f': \"0.085\",\n        },\n\"TCP  \",\n\"10001_232\",\n{\n            'v': 443,\n            'f': \"443\",\n        },\n\"192.168.220.16\",\n{\n            'v': 51207.0,\n            'f': \"51207.0\",\n        },\n{\n            'v': 5,\n            'f': \"5\",\n        },\n\"     498\",\n{\n            'v': 1,\n            'f': \"1\",\n        },\n\".AP.S.\",\n{\n            'v': 0,\n            'f': \"0\",\n        },\n\"normal\",\n\"---\",\n\"---\",\n\"---\"],\n [{\n            'v': 355,\n            'f': \"355\",\n        },\n\"2017-03-15 00:02:55.470\",\n{\n            'v': 0.0,\n            'f': \"0.0\",\n        },\n\"TCP  \",\n\"192.168.220.16\",\n{\n            'v': 51357,\n            'f': \"51357\",\n        },\n\"192.168.200.9\",\n{\n            'v': 9500.0,\n            'f': \"9500.0\",\n        },\n{\n            'v': 1,\n            'f': \"1\",\n        },\n\"      58\",\n{\n            'v': 1,\n            'f': \"1\",\n        },\n\"....S.\",\n{\n            'v': 0,\n            'f': \"0\",\n        },\n\"attacker\",\n\"portScan\",\n\"1\",\n\"nmap args: -sS -T 1\"],\n [{\n            'v': 356,\n            'f': \"356\",\n        },\n\"2017-03-15 00:02:55.506\",\n{\n            'v': 0.0,\n            'f': \"0.0\",\n        },\n\"TCP  \",\n\"EXT_SERVER\",\n{\n            'v': 8082,\n            'f': \"8082\",\n        },\n\"192.168.220.15\",\n{\n            'v': 37039.0,\n            'f': \"37039.0\",\n        },\n{\n            'v': 1,\n            'f': \"1\",\n        },\n\"     212\",\n{\n            'v': 1,\n            'f': \"1\",\n        },\n\".AP...\",\n{\n            'v': 32,\n            'f': \"32\",\n        },\n\"normal\",\n\"---\",\n\"---\",\n\"---\"],\n [{\n            'v': 370,\n            'f': \"370\",\n        },\n\"2017-03-15 00:02:57.541\",\n{\n            'v': 0.019,\n            'f': \"0.019\",\n        },\n\"TCP  \",\n\"192.168.220.14\",\n{\n            'v': 48380,\n            'f': \"48380\",\n        },\n\"EXT_SERVER\",\n{\n            'v': 8082.0,\n            'f': \"8082.0\",\n        },\n{\n            'v': 2,\n            'f': \"2\",\n        },\n\"     338\",\n{\n            'v': 1,\n            'f': \"1\",\n        },\n\".AP...\",\n{\n            'v': 0,\n            'f': \"0\",\n        },\n\"normal\",\n\"---\",\n\"---\",\n\"---\"],\n [{\n            'v': 375,\n            'f': \"375\",\n        },\n\"2017-03-15 00:03:05.076\",\n{\n            'v': 0.0,\n            'f': \"0.0\",\n        },\n\"TCP  \",\n\"EXT_SERVER\",\n{\n            'v': 8082,\n            'f': \"8082\",\n        },\n\"192.168.220.9\",\n{\n            'v': 50807.0,\n            'f': \"50807.0\",\n        },\n{\n            'v': 1,\n            'f': \"1\",\n        },\n\"     212\",\n{\n            'v': 1,\n            'f': \"1\",\n        },\n\".AP...\",\n{\n            'v': 32,\n            'f': \"32\",\n        },\n\"normal\",\n\"---\",\n\"---\",\n\"---\"],\n [{\n            'v': 390,\n            'f': \"390\",\n        },\n\"2017-03-15 00:03:05.880\",\n{\n            'v': 0.0,\n            'f': \"0.0\",\n        },\n\"TCP  \",\n\"192.168.220.16\",\n{\n            'v': 45061,\n            'f': \"45061\",\n        },\n\"10000_35\",\n{\n            'v': 443.0,\n            'f': \"443.0\",\n        },\n{\n            'v': 1,\n            'f': \"1\",\n        },\n\"      66\",\n{\n            'v': 1,\n            'f': \"1\",\n        },\n\".A....\",\n{\n            'v': 0,\n            'f': \"0\",\n        },\n\"normal\",\n\"---\",\n\"---\",\n\"---\"],\n [{\n            'v': 388,\n            'f': \"388\",\n        },\n\"2017-03-15 00:03:06.349\",\n{\n            'v': 0.075,\n            'f': \"0.075\",\n        },\n\"TCP  \",\n\"192.168.200.8\",\n{\n            'v': 62887,\n            'f': \"62887\",\n        },\n\"10005_14\",\n{\n            'v': 443.0,\n            'f': \"443.0\",\n        },\n{\n            'v': 2,\n            'f': \"2\",\n        },\n\"     166\",\n{\n            'v': 1,\n            'f': \"1\",\n        },\n\".AP...\",\n{\n            'v': 0,\n            'f': \"0\",\n        },\n\"normal\",\n\"---\",\n\"---\",\n\"---\"],\n [{\n            'v': 389,\n            'f': \"389\",\n        },\n\"2017-03-15 00:03:07.144\",\n{\n            'v': 0.02,\n            'f': \"0.02\",\n        },\n\"TCP  \",\n\"192.168.220.16\",\n{\n            'v': 45675,\n            'f': \"45675\",\n        },\n\"10000_35\",\n{\n            'v': 443.0,\n            'f': \"443.0\",\n        },\n{\n            'v': 3,\n            'f': \"3\",\n        },\n\"     723\",\n{\n            'v': 1,\n            'f': \"1\",\n        },\n\".AP.S.\",\n{\n            'v': 0,\n            'f': \"0\",\n        },\n\"normal\",\n\"---\",\n\"---\",\n\"---\"],\n [{\n            'v': 384,\n            'f': \"384\",\n        },\n\"2017-03-15 00:03:07.145\",\n{\n            'v': 0.019,\n            'f': \"0.019\",\n        },\n\"TCP  \",\n\"192.168.220.16\",\n{\n            'v': 45676,\n            'f': \"45676\",\n        },\n\"10000_35\",\n{\n            'v': 443.0,\n            'f': \"443.0\",\n        },\n{\n            'v': 3,\n            'f': \"3\",\n        },\n\"     723\",\n{\n            'v': 1,\n            'f': \"1\",\n        },\n\".AP.S.\",\n{\n            'v': 0,\n            'f': \"0\",\n        },\n\"normal\",\n\"---\",\n\"---\",\n\"---\"],\n [{\n            'v': 411,\n            'f': \"411\",\n        },\n\"2017-03-15 00:03:08.090\",\n{\n            'v': 0.0,\n            'f': \"0.0\",\n        },\n\"UDP  \",\n\"DNS\",\n{\n            'v': 53,\n            'f': \"53\",\n        },\n\"192.168.220.16\",\n{\n            'v': 58446.0,\n            'f': \"58446.0\",\n        },\n{\n            'v': 2,\n            'f': \"2\",\n        },\n\"     533\",\n{\n            'v': 1,\n            'f': \"1\",\n        },\n\"......\",\n{\n            'v': 0,\n            'f': \"0\",\n        },\n\"normal\",\n\"---\",\n\"---\",\n\"---\"],\n [{\n            'v': 419,\n            'f': \"419\",\n        },\n\"2017-03-15 00:03:09.240\",\n{\n            'v': 0.004,\n            'f': \"0.004\",\n        },\n\"TCP  \",\n\"192.168.220.8\",\n{\n            'v': 49094,\n            'f': \"49094\",\n        },\n\"192.168.100.5\",\n{\n            'v': 445.0,\n            'f': \"445.0\",\n        },\n{\n            'v': 2,\n            'f': \"2\",\n        },\n\"     174\",\n{\n            'v': 1,\n            'f': \"1\",\n        },\n\".AP...\",\n{\n            'v': 0,\n            'f': \"0\",\n        },\n\"normal\",\n\"---\",\n\"---\",\n\"---\"],\n [{\n            'v': 423,\n            'f': \"423\",\n        },\n\"2017-03-15 00:03:11.473\",\n{\n            'v': 0.0,\n            'f': \"0.0\",\n        },\n\"TCP  \",\n\"192.168.220.16\",\n{\n            'v': 51358,\n            'f': \"51358\",\n        },\n\"192.168.200.9\",\n{\n            'v': 9500.0,\n            'f': \"9500.0\",\n        },\n{\n            'v': 1,\n            'f': \"1\",\n        },\n\"      58\",\n{\n            'v': 1,\n            'f': \"1\",\n        },\n\"....S.\",\n{\n            'v': 0,\n            'f': \"0\",\n        },\n\"attacker\",\n\"portScan\",\n\"1\",\n\"nmap args: -sS -T 1\"],\n [{\n            'v': 436,\n            'f': \"436\",\n        },\n\"2017-03-15 00:03:16.954\",\n{\n            'v': 0.0,\n            'f': \"0.0\",\n        },\n\"TCP  \",\n\"192.168.100.5\",\n{\n            'v': 445,\n            'f': \"445\",\n        },\n\"192.168.220.16\",\n{\n            'v': 58844.0,\n            'f': \"58844.0\",\n        },\n{\n            'v': 1,\n            'f': \"1\",\n        },\n\"     108\",\n{\n            'v': 1,\n            'f': \"1\",\n        },\n\".AP...\",\n{\n            'v': 0,\n            'f': \"0\",\n        },\n\"normal\",\n\"---\",\n\"---\",\n\"---\"],\n [{\n            'v': 472,\n            'f': \"472\",\n        },\n\"2017-03-15 00:03:28.536\",\n{\n            'v': 0.048,\n            'f': \"0.048\",\n        },\n\"TCP  \",\n\"192.168.220.16\",\n{\n            'v': 45702,\n            'f': \"45702\",\n        },\n\"10000_35\",\n{\n            'v': 443.0,\n            'f': \"443.0\",\n        },\n{\n            'v': 5,\n            'f': \"5\",\n        },\n\"     906\",\n{\n            'v': 1,\n            'f': \"1\",\n        },\n\".AP.S.\",\n{\n            'v': 0,\n            'f': \"0\",\n        },\n\"normal\",\n\"---\",\n\"---\",\n\"---\"],\n [{\n            'v': 473,\n            'f': \"473\",\n        },\n\"2017-03-15 00:03:28.537\",\n{\n            'v': 0.047,\n            'f': \"0.047\",\n        },\n\"TCP  \",\n\"192.168.220.16\",\n{\n            'v': 51254,\n            'f': \"51254\",\n        },\n\"10001_232\",\n{\n            'v': 443.0,\n            'f': \"443.0\",\n        },\n{\n            'v': 6,\n            'f': \"6\",\n        },\n\"     972\",\n{\n            'v': 1,\n            'f': \"1\",\n        },\n\".AP.S.\",\n{\n            'v': 0,\n            'f': \"0\",\n        },\n\"normal\",\n\"---\",\n\"---\",\n\"---\"],\n [{\n            'v': 459,\n            'f': \"459\",\n        },\n\"2017-03-15 00:03:28.558\",\n{\n            'v': 0.086,\n            'f': \"0.086\",\n        },\n\"TCP  \",\n\"10000_35\",\n{\n            'v': 443,\n            'f': \"443\",\n        },\n\"192.168.220.16\",\n{\n            'v': 45700.0,\n            'f': \"45700.0\",\n        },\n{\n            'v': 4,\n            'f': \"4\",\n        },\n\"     419\",\n{\n            'v': 1,\n            'f': \"1\",\n        },\n\".AP.S.\",\n{\n            'v': 0,\n            'f': \"0\",\n        },\n\"normal\",\n\"---\",\n\"---\",\n\"---\"],\n [{\n            'v': 467,\n            'f': \"467\",\n        },\n\"2017-03-15 00:03:28.583\",\n{\n            'v': 0.021,\n            'f': \"0.021\",\n        },\n\"TCP  \",\n\"192.168.220.14\",\n{\n            'v': 48380,\n            'f': \"48380\",\n        },\n\"EXT_SERVER\",\n{\n            'v': 8082.0,\n            'f': \"8082.0\",\n        },\n{\n            'v': 2,\n            'f': \"2\",\n        },\n\"     338\",\n{\n            'v': 1,\n            'f': \"1\",\n        },\n\".AP...\",\n{\n            'v': 0,\n            'f': \"0\",\n        },\n\"normal\",\n\"---\",\n\"---\",\n\"---\"],\n [{\n            'v': 457,\n            'f': \"457\",\n        },\n\"2017-03-15 00:03:28.601\",\n{\n            'v': 0.0,\n            'f': \"0.0\",\n        },\n\"TCP  \",\n\"EXT_SERVER\",\n{\n            'v': 8082,\n            'f': \"8082\",\n        },\n\"192.168.220.14\",\n{\n            'v': 48380.0,\n            'f': \"48380.0\",\n        },\n{\n            'v': 1,\n            'f': \"1\",\n        },\n\"     212\",\n{\n            'v': 1,\n            'f': \"1\",\n        },\n\".AP...\",\n{\n            'v': 32,\n            'f': \"32\",\n        },\n\"normal\",\n\"---\",\n\"---\",\n\"---\"],\n [{\n            'v': 479,\n            'f': \"479\",\n        },\n\"2017-03-15 00:03:29.100\",\n{\n            'v': 0.32299999999999995,\n            'f': \"0.32299999999999995\",\n        },\n\"TCP  \",\n\"192.168.220.16\",\n{\n            'v': 54848,\n            'f': \"54848\",\n        },\n\"10007_19\",\n{\n            'v': 80.0,\n            'f': \"80.0\",\n        },\n{\n            'v': 5,\n            'f': \"5\",\n        },\n\"    2407\",\n{\n            'v': 1,\n            'f': \"1\",\n        },\n\".AP.S.\",\n{\n            'v': 0,\n            'f': \"0\",\n        },\n\"normal\",\n\"---\",\n\"---\",\n\"---\"],\n [{\n            'v': 477,\n            'f': \"477\",\n        },\n\"2017-03-15 00:03:29.200\",\n{\n            'v': 0.0,\n            'f': \"0.0\",\n        },\n\"UDP  \",\n\"192.168.220.16\",\n{\n            'v': 56845,\n            'f': \"56845\",\n        },\n\"DNS\",\n{\n            'v': 53.0,\n            'f': \"53.0\",\n        },\n{\n            'v': 2,\n            'f': \"2\",\n        },\n\"     144\",\n{\n            'v': 1,\n            'f': \"1\",\n        },\n\"......\",\n{\n            'v': 0,\n            'f': \"0\",\n        },\n\"normal\",\n\"---\",\n\"---\",\n\"---\"],\n [{\n            'v': 483,\n            'f': \"483\",\n        },\n\"2017-03-15 00:03:31.063\",\n{\n            'v': 0.0,\n            'f': \"0.0\",\n        },\n\"TCP  \",\n\"192.168.100.5\",\n{\n            'v': 445,\n            'f': \"445\",\n        },\n\"192.168.220.13\",\n{\n            'v': 60689.0,\n            'f': \"60689.0\",\n        },\n{\n            'v': 1,\n            'f': \"1\",\n        },\n\"     108\",\n{\n            'v': 1,\n            'f': \"1\",\n        },\n\".AP...\",\n{\n            'v': 0,\n            'f': \"0\",\n        },\n\"normal\",\n\"---\",\n\"---\",\n\"---\"],\n [{\n            'v': 492,\n            'f': \"492\",\n        },\n\"2017-03-15 00:03:36.045\",\n{\n            'v': 0.0,\n            'f': \"0.0\",\n        },\n\"TCP  \",\n\"10000_35\",\n{\n            'v': 443,\n            'f': \"443\",\n        },\n\"192.168.220.16\",\n{\n            'v': 45487.0,\n            'f': \"45487.0\",\n        },\n{\n            'v': 1,\n            'f': \"1\",\n        },\n\"      66\",\n{\n            'v': 1,\n            'f': \"1\",\n        },\n\".A....\",\n{\n            'v': 0,\n            'f': \"0\",\n        },\n\"normal\",\n\"---\",\n\"---\",\n\"---\"],\n [{\n            'v': 503,\n            'f': \"503\",\n        },\n\"2017-03-15 00:03:40.961\",\n{\n            'v': 0.08,\n            'f': \"0.08\",\n        },\n\"TCP  \",\n\"10001_232\",\n{\n            'v': 443,\n            'f': \"443\",\n        },\n\"192.168.220.16\",\n{\n            'v': 51280.0,\n            'f': \"51280.0\",\n        },\n{\n            'v': 5,\n            'f': \"5\",\n        },\n\"     498\",\n{\n            'v': 1,\n            'f': \"1\",\n        },\n\".AP.S.\",\n{\n            'v': 0,\n            'f': \"0\",\n        },\n\"normal\",\n\"---\",\n\"---\",\n\"---\"],\n [{\n            'v': 520,\n            'f': \"520\",\n        },\n\"2017-03-15 00:03:41.765\",\n{\n            'v': 0.0,\n            'f': \"0.0\",\n        },\n\"UDP  \",\n\"192.168.220.16\",\n{\n            'v': 42530,\n            'f': \"42530\",\n        },\n\"DNS\",\n{\n            'v': 53.0,\n            'f': \"53.0\",\n        },\n{\n            'v': 2,\n            'f': \"2\",\n        },\n\"     144\",\n{\n            'v': 1,\n            'f': \"1\",\n        },\n\"......\",\n{\n            'v': 0,\n            'f': \"0\",\n        },\n\"normal\",\n\"---\",\n\"---\",\n\"---\"],\n [{\n            'v': 523,\n            'f': \"523\",\n        },\n\"2017-03-15 00:03:42.084\",\n{\n            'v': 0.0,\n            'f': \"0.0\",\n        },\n\"TCP  \",\n\"EXT_SERVER\",\n{\n            'v': 8082,\n            'f': \"8082\",\n        },\n\"192.168.200.8\",\n{\n            'v': 51089.0,\n            'f': \"51089.0\",\n        },\n{\n            'v': 1,\n            'f': \"1\",\n        },\n\"     200\",\n{\n            'v': 1,\n            'f': \"1\",\n        },\n\".AP...\",\n{\n            'v': 32,\n            'f': \"32\",\n        },\n\"normal\",\n\"---\",\n\"---\",\n\"---\"],\n [{\n            'v': 561,\n            'f': \"561\",\n        },\n\"2017-03-15 00:04:03.481\",\n{\n            'v': 0.047,\n            'f': \"0.047\",\n        },\n\"TCP  \",\n\"192.168.220.16\",\n{\n            'v': 51302,\n            'f': \"51302\",\n        },\n\"10001_232\",\n{\n            'v': 443.0,\n            'f': \"443.0\",\n        },\n{\n            'v': 6,\n            'f': \"6\",\n        },\n\"     972\",\n{\n            'v': 1,\n            'f': \"1\",\n        },\n\".AP.S.\",\n{\n            'v': 0,\n            'f': \"0\",\n        },\n\"normal\",\n\"---\",\n\"---\",\n\"---\"],\n [{\n            'v': 567,\n            'f': \"567\",\n        },\n\"2017-03-15 00:04:03.501\",\n{\n            'v': 0.087,\n            'f': \"0.087\",\n        },\n\"TCP  \",\n\"10000_35\",\n{\n            'v': 443,\n            'f': \"443\",\n        },\n\"192.168.220.16\",\n{\n            'v': 45748.0,\n            'f': \"45748.0\",\n        },\n{\n            'v': 4,\n            'f': \"4\",\n        },\n\"     419\",\n{\n            'v': 1,\n            'f': \"1\",\n        },\n\".AP.S.\",\n{\n            'v': 0,\n            'f': \"0\",\n        },\n\"normal\",\n\"---\",\n\"---\",\n\"---\"],\n [{\n            'v': 580,\n            'f': \"580\",\n        },\n\"2017-03-15 00:04:04.048\",\n{\n            'v': 0.324,\n            'f': \"0.324\",\n        },\n\"TCP  \",\n\"192.168.220.16\",\n{\n            'v': 54896,\n            'f': \"54896\",\n        },\n\"10007_19\",\n{\n            'v': 80.0,\n            'f': \"80.0\",\n        },\n{\n            'v': 5,\n            'f': \"5\",\n        },\n\"    2407\",\n{\n            'v': 1,\n            'f': \"1\",\n        },\n\".AP.S.\",\n{\n            'v': 0,\n            'f': \"0\",\n        },\n\"normal\",\n\"---\",\n\"---\",\n\"---\"],\n [{\n            'v': 575,\n            'f': \"575\",\n        },\n\"2017-03-15 00:04:04.149\",\n{\n            'v': 0.0,\n            'f': \"0.0\",\n        },\n\"UDP  \",\n\"DNS\",\n{\n            'v': 53,\n            'f': \"53\",\n        },\n\"192.168.220.16\",\n{\n            'v': 45611.0,\n            'f': \"45611.0\",\n        },\n{\n            'v': 2,\n            'f': \"2\",\n        },\n\"     565\",\n{\n            'v': 1,\n            'f': \"1\",\n        },\n\"......\",\n{\n            'v': 0,\n            'f': \"0\",\n        },\n\"normal\",\n\"---\",\n\"---\",\n\"---\"],\n [{\n            'v': 591,\n            'f': \"591\",\n        },\n\"2017-03-15 00:04:07.133\",\n{\n            'v': 0.0,\n            'f': \"0.0\",\n        },\n\"TCP  \",\n\"EXT_SERVER\",\n{\n            'v': 8082,\n            'f': \"8082\",\n        },\n\"192.168.220.9\",\n{\n            'v': 50807.0,\n            'f': \"50807.0\",\n        },\n{\n            'v': 1,\n            'f': \"1\",\n        },\n\"     212\",\n{\n            'v': 1,\n            'f': \"1\",\n        },\n\".AP...\",\n{\n            'v': 32,\n            'f': \"32\",\n        },\n\"normal\",\n\"---\",\n\"---\",\n\"---\"],\n [{\n            'v': 598,\n            'f': \"598\",\n        },\n\"2017-03-15 00:04:08.729\",\n{\n            'v': 0.0,\n            'f': \"0.0\",\n        },\n\"TCP  \",\n\"192.168.220.16\",\n{\n            'v': 45061,\n            'f': \"45061\",\n        },\n\"10000_35\",\n{\n            'v': 443.0,\n            'f': \"443.0\",\n        },\n{\n            'v': 1,\n            'f': \"1\",\n        },\n\"      66\",\n{\n            'v': 1,\n            'f': \"1\",\n        },\n\".A....\",\n{\n            'v': 0,\n            'f': \"0\",\n        },\n\"normal\",\n\"---\",\n\"---\",\n\"---\"],\n [{\n            'v': 596,\n            'f': \"596\",\n        },\n\"2017-03-15 00:04:08.951\",\n{\n            'v': 0.0,\n            'f': \"0.0\",\n        },\n\"TCP  \",\n\"192.168.100.5\",\n{\n            'v': 445,\n            'f': \"445\",\n        },\n\"192.168.220.4\",\n{\n            'v': 43145.0,\n            'f': \"43145.0\",\n        },\n{\n            'v': 1,\n            'f': \"1\",\n        },\n\"     108\",\n{\n            'v': 1,\n            'f': \"1\",\n        },\n\".AP...\",\n{\n            'v': 0,\n            'f': \"0\",\n        },\n\"normal\",\n\"---\",\n\"---\",\n\"---\"],\n [{\n            'v': 610,\n            'f': \"610\",\n        },\n\"2017-03-15 00:04:17.035\",\n{\n            'v': 0.0,\n            'f': \"0.0\",\n        },\n\"TCP  \",\n\"192.168.100.5\",\n{\n            'v': 445,\n            'f': \"445\",\n        },\n\"192.168.220.15\",\n{\n            'v': 48888.0,\n            'f': \"48888.0\",\n        },\n{\n            'v': 1,\n            'f': \"1\",\n        },\n\"     108\",\n{\n            'v': 1,\n            'f': \"1\",\n        },\n\".AP...\",\n{\n            'v': 0,\n            'f': \"0\",\n        },\n\"normal\",\n\"---\",\n\"---\",\n\"---\"],\n [{\n            'v': 620,\n            'f': \"620\",\n        },\n\"2017-03-15 00:04:28.588\",\n{\n            'v': 0.018000000000000002,\n            'f': \"0.018000000000000002\",\n        },\n\"TCP  \",\n\"192.168.220.15\",\n{\n            'v': 37039,\n            'f': \"37039\",\n        },\n\"EXT_SERVER\",\n{\n            'v': 8082.0,\n            'f': \"8082.0\",\n        },\n{\n            'v': 2,\n            'f': \"2\",\n        },\n\"     338\",\n{\n            'v': 1,\n            'f': \"1\",\n        },\n\".AP...\",\n{\n            'v': 0,\n            'f': \"0\",\n        },\n\"normal\",\n\"---\",\n\"---\",\n\"---\"],\n [{\n            'v': 624,\n            'f': \"624\",\n        },\n\"2017-03-15 00:04:29.483\",\n{\n            'v': 0.0,\n            'f': \"0.0\",\n        },\n\"TCP  \",\n\"192.168.200.5\",\n{\n            'v': 2910,\n            'f': \"2910\",\n        },\n\"192.168.220.16\",\n{\n            'v': 51357.0,\n            'f': \"51357.0\",\n        },\n{\n            'v': 1,\n            'f': \"1\",\n        },\n\"      54\",\n{\n            'v': 1,\n            'f': \"1\",\n        },\n\".A.R..\",\n{\n            'v': 0,\n            'f': \"0\",\n        },\n\"victim\",\n\"portScan\",\n\"1\",\n\"nmap args: -sS -T 1\"],\n [{\n            'v': 632,\n            'f': \"632\",\n        },\n\"2017-03-15 00:04:29.679\",\n{\n            'v': 0.0,\n            'f': \"0.0\",\n        },\n\"TCP  \",\n\"EXT_SERVER\",\n{\n            'v': 8082,\n            'f': \"8082\",\n        },\n\"192.168.220.14\",\n{\n            'v': 48380.0,\n            'f': \"48380.0\",\n        },\n{\n            'v': 1,\n            'f': \"1\",\n        },\n\"     212\",\n{\n            'v': 1,\n            'f': \"1\",\n        },\n\".AP...\",\n{\n            'v': 32,\n            'f': \"32\",\n        },\n\"normal\",\n\"---\",\n\"---\",\n\"---\"],\n [{\n            'v': 629,\n            'f': \"629\",\n        },\n\"2017-03-15 00:04:29.752\",\n{\n            'v': 0.0,\n            'f': \"0.0\",\n        },\n\"TCP  \",\n\"EXT_SERVER\",\n{\n            'v': 8082,\n            'f': \"8082\",\n        },\n\"192.168.200.9\",\n{\n            'v': 50110.0,\n            'f': \"50110.0\",\n        },\n{\n            'v': 1,\n            'f': \"1\",\n        },\n\"     200\",\n{\n            'v': 1,\n            'f': \"1\",\n        },\n\".AP...\",\n{\n            'v': 32,\n            'f': \"32\",\n        },\n\"normal\",\n\"---\",\n\"---\",\n\"---\"],\n [{\n            'v': 630,\n            'f': \"630\",\n        },\n\"2017-03-15 00:04:29.914\",\n{\n            'v': 0.0,\n            'f': \"0.0\",\n        },\n\"TCP  \",\n\"192.168.100.5\",\n{\n            'v': 445,\n            'f': \"445\",\n        },\n\"192.168.220.14\",\n{\n            'v': 52321.0,\n            'f': \"52321.0\",\n        },\n{\n            'v': 1,\n            'f': \"1\",\n        },\n\"     108\",\n{\n            'v': 1,\n            'f': \"1\",\n        },\n\".AP...\",\n{\n            'v': 0,\n            'f': \"0\",\n        },\n\"normal\",\n\"---\",\n\"---\",\n\"---\"],\n [{\n            'v': 633,\n            'f': \"633\",\n        },\n\"2017-03-15 00:04:30.482\",\n{\n            'v': 0.0,\n            'f': \"0.0\",\n        },\n\"TCP  \",\n\"192.168.220.16\",\n{\n            'v': 51357,\n            'f': \"51357\",\n        },\n\"192.168.200.1\",\n{\n            'v': 55056.0,\n            'f': \"55056.0\",\n        },\n{\n            'v': 1,\n            'f': \"1\",\n        },\n\"      58\",\n{\n            'v': 1,\n            'f': \"1\",\n        },\n\"....S.\",\n{\n            'v': 0,\n            'f': \"0\",\n        },\n\"attacker\",\n\"portScan\",\n\"1\",\n\"nmap args: -sS -T 1\"],\n [{\n            'v': 638,\n            'f': \"638\",\n        },\n\"2017-03-15 00:04:31.223\",\n{\n            'v': 0.005,\n            'f': \"0.005\",\n        },\n\"TCP  \",\n\"192.168.220.13\",\n{\n            'v': 60689,\n            'f': \"60689\",\n        },\n\"192.168.100.5\",\n{\n            'v': 445.0,\n            'f': \"445.0\",\n        },\n{\n            'v': 2,\n            'f': \"2\",\n        },\n\"     174\",\n{\n            'v': 1,\n            'f': \"1\",\n        },\n\".AP...\",\n{\n            'v': 0,\n            'f': \"0\",\n        },\n\"normal\",\n\"---\",\n\"---\",\n\"---\"],\n [{\n            'v': 644,\n            'f': \"644\",\n        },\n\"2017-03-15 00:04:36.314\",\n{\n            'v': 0.0,\n            'f': \"0.0\",\n        },\n\"TCP  \",\n\"192.168.220.16\",\n{\n            'v': 45558,\n            'f': \"45558\",\n        },\n\"10000_35\",\n{\n            'v': 443.0,\n            'f': \"443.0\",\n        },\n{\n            'v': 1,\n            'f': \"1\",\n        },\n\"      66\",\n{\n            'v': 1,\n            'f': \"1\",\n        },\n\".A....\",\n{\n            'v': 0,\n            'f': \"0\",\n        },\n\"normal\",\n\"---\",\n\"---\",\n\"---\"],\n [{\n            'v': 643,\n            'f': \"643\",\n        },\n\"2017-03-15 00:04:36.314\",\n{\n            'v': 0.0,\n            'f': \"0.0\",\n        },\n\"TCP  \",\n\"192.168.220.16\",\n{\n            'v': 45487,\n            'f': \"45487\",\n        },\n\"10000_35\",\n{\n            'v': 443.0,\n            'f': \"443.0\",\n        },\n{\n            'v': 1,\n            'f': \"1\",\n        },\n\"      66\",\n{\n            'v': 1,\n            'f': \"1\",\n        },\n\".A....\",\n{\n            'v': 0,\n            'f': \"0\",\n        },\n\"normal\",\n\"---\",\n\"---\",\n\"---\"],\n [{\n            'v': 642,\n            'f': \"642\",\n        },\n\"2017-03-15 00:04:36.334\",\n{\n            'v': 0.0,\n            'f': \"0.0\",\n        },\n\"TCP  \",\n\"10000_35\",\n{\n            'v': 443,\n            'f': \"443\",\n        },\n\"192.168.220.16\",\n{\n            'v': 45487.0,\n            'f': \"45487.0\",\n        },\n{\n            'v': 1,\n            'f': \"1\",\n        },\n\"      66\",\n{\n            'v': 1,\n            'f': \"1\",\n        },\n\".A....\",\n{\n            'v': 0,\n            'f': \"0\",\n        },\n\"normal\",\n\"---\",\n\"---\",\n\"---\"],\n [{\n            'v': 646,\n            'f': \"646\",\n        },\n\"2017-03-15 00:04:38.163\",\n{\n            'v': 0.0,\n            'f': \"0.0\",\n        },\n\"TCP  \",\n\"EXT_SERVER\",\n{\n            'v': 8082,\n            'f': \"8082\",\n        },\n\"192.168.220.9\",\n{\n            'v': 50807.0,\n            'f': \"50807.0\",\n        },\n{\n            'v': 1,\n            'f': \"1\",\n        },\n\"     212\",\n{\n            'v': 1,\n            'f': \"1\",\n        },\n\".AP...\",\n{\n            'v': 32,\n            'f': \"32\",\n        },\n\"normal\",\n\"---\",\n\"---\",\n\"---\"],\n [{\n            'v': 652,\n            'f': \"652\",\n        },\n\"2017-03-15 00:04:39.473\",\n{\n            'v': 0.047,\n            'f': \"0.047\",\n        },\n\"TCP  \",\n\"EXT_SERVER\",\n{\n            'v': 8000,\n            'f': \"8000\",\n        },\n\"192.168.200.9\",\n{\n            'v': 49887.0,\n            'f': \"49887.0\",\n        },\n{\n            'v': 7,\n            'f': \"7\",\n        },\n\"     654\",\n{\n            'v': 1,\n            'f': \"1\",\n        },\n\".AP.SF\",\n{\n            'v': 32,\n            'f': \"32\",\n        },\n\"normal\",\n\"---\",\n\"---\",\n\"---\"],\n [{\n            'v': 691,\n            'f': \"691\",\n        },\n\"2017-03-15 00:04:44.998\",\n{\n            'v': 2.116,\n            'f': \"2.116\",\n        },\n\"TCP  \",\n\"10002_114\",\n{\n            'v': 443,\n            'f': \"443\",\n        },\n\"192.168.220.16\",\n{\n            'v': 55975.0,\n            'f': \"55975.0\",\n        },\n{\n            'v': 3,\n            'f': \"3\",\n        },\n\"    1143\",\n{\n            'v': 1,\n            'f': \"1\",\n        },\n\".AP...\",\n{\n            'v': 32,\n            'f': \"32\",\n        },\n\"normal\",\n\"---\",\n\"---\",\n\"---\"],\n [{\n            'v': 663,\n            'f': \"663\",\n        },\n\"2017-03-15 00:04:45.883\",\n{\n            'v': 0.204,\n            'f': \"0.204\",\n        },\n\"TCP  \",\n\"10001_232\",\n{\n            'v': 80,\n            'f': \"80\",\n        },\n\"192.168.220.16\",\n{\n            'v': 49955.0,\n            'f': \"49955.0\",\n        },\n{\n            'v': 5,\n            'f': \"5\",\n        },\n\"     771\",\n{\n            'v': 1,\n            'f': \"1\",\n        },\n\".AP.S.\",\n{\n            'v': 0,\n            'f': \"0\",\n        },\n\"normal\",\n\"---\",\n\"---\",\n\"---\"],\n [{\n            'v': 692,\n            'f': \"692\",\n        },\n\"2017-03-15 00:04:46.640\",\n{\n            'v': 0.0,\n            'f': \"0.0\",\n        },\n\"UDP  \",\n\"192.168.220.16\",\n{\n            'v': 59686,\n            'f': \"59686\",\n        },\n\"DNS\",\n{\n            'v': 53.0,\n            'f': \"53.0\",\n        },\n{\n            'v': 1,\n            'f': \"1\",\n        },\n\"      77\",\n{\n            'v': 1,\n            'f': \"1\",\n        },\n\"......\",\n{\n            'v': 0,\n            'f': \"0\",\n        },\n\"normal\",\n\"---\",\n\"---\",\n\"---\"],\n [{\n            'v': 697,\n            'f': \"697\",\n        },\n\"2017-03-15 00:04:46.740\",\n{\n            'v': 0.0,\n            'f': \"0.0\",\n        },\n\"UDP  \",\n\"DNS\",\n{\n            'v': 53,\n            'f': \"53\",\n        },\n\"192.168.220.16\",\n{\n            'v': 33520.0,\n            'f': \"33520.0\",\n        },\n{\n            'v': 2,\n            'f': \"2\",\n        },\n\"     565\",\n{\n            'v': 1,\n            'f': \"1\",\n        },\n\"......\",\n{\n            'v': 0,\n            'f': \"0\",\n        },\n\"normal\",\n\"---\",\n\"---\",\n\"---\"],\n [{\n            'v': 701,\n            'f': \"701\",\n        },\n\"2017-03-15 00:04:48.572\",\n{\n            'v': 0.0,\n            'f': \"0.0\",\n        },\n\"TCP  \",\n\"EXT_SERVER\",\n{\n            'v': 8082,\n            'f': \"8082\",\n        },\n\"192.168.200.4\",\n{\n            'v': 56978.0,\n            'f': \"56978.0\",\n        },\n{\n            'v': 1,\n            'f': \"1\",\n        },\n\"     212\",\n{\n            'v': 1,\n            'f': \"1\",\n        },\n\".AP...\",\n{\n            'v': 32,\n            'f': \"32\",\n        },\n\"normal\",\n\"---\",\n\"---\",\n\"---\"],\n [{\n            'v': 745,\n            'f': \"745\",\n        },\n\"2017-03-15 00:05:04.419\",\n{\n            'v': 0.045,\n            'f': \"0.045\",\n        },\n\"TCP  \",\n\"192.168.220.16\",\n{\n            'v': 45795,\n            'f': \"45795\",\n        },\n\"10000_35\",\n{\n            'v': 443.0,\n            'f': \"443.0\",\n        },\n{\n            'v': 5,\n            'f': \"5\",\n        },\n\"     906\",\n{\n            'v': 1,\n            'f': \"1\",\n        },\n\".AP.S.\",\n{\n            'v': 0,\n            'f': \"0\",\n        },\n\"normal\",\n\"---\",\n\"---\",\n\"---\"],\n [{\n            'v': 760,\n            'f': \"760\",\n        },\n\"2017-03-15 00:05:07.238\",\n{\n            'v': 0.0,\n            'f': \"0.0\",\n        },\n\"UDP  \",\n\"192.168.220.3\",\n{\n            'v': 137,\n            'f': \"137\",\n        },\n\"192.168.220.255\",\n{\n            'v': 137.0,\n            'f': \"137.0\",\n        },\n{\n            'v': 1,\n            'f': \"1\",\n        },\n\"      92\",\n{\n            'v': 1,\n            'f': \"1\",\n        },\n\"......\",\n{\n            'v': 0,\n            'f': \"0\",\n        },\n\"normal\",\n\"---\",\n\"---\",\n\"---\"],\n [{\n            'v': 769,\n            'f': \"769\",\n        },\n\"2017-03-15 00:05:09.172\",\n{\n            'v': 0.019,\n            'f': \"0.019\",\n        },\n\"TCP  \",\n\"192.168.220.9\",\n{\n            'v': 50807,\n            'f': \"50807\",\n        },\n\"EXT_SERVER\",\n{\n            'v': 8082.0,\n            'f': \"8082.0\",\n        },\n{\n            'v': 2,\n            'f': \"2\",\n        },\n\"     338\",\n{\n            'v': 1,\n            'f': \"1\",\n        },\n\".AP...\",\n{\n            'v': 0,\n            'f': \"0\",\n        },\n\"normal\",\n\"---\",\n\"---\",\n\"---\"],\n [{\n            'v': 784,\n            'f': \"784\",\n        },\n\"2017-03-15 00:05:17.196\",\n{\n            'v': 0.0,\n            'f': \"0.0\",\n        },\n\"TCP  \",\n\"192.168.100.5\",\n{\n            'v': 445,\n            'f': \"445\",\n        },\n\"192.168.220.15\",\n{\n            'v': 48888.0,\n            'f': \"48888.0\",\n        },\n{\n            'v': 1,\n            'f': \"1\",\n        },\n\"     108\",\n{\n            'v': 1,\n            'f': \"1\",\n        },\n\".AP...\",\n{\n            'v': 0,\n            'f': \"0\",\n        },\n\"normal\",\n\"---\",\n\"---\",\n\"---\"],\n [{\n            'v': 783,\n            'f': \"783\",\n        },\n\"2017-03-15 00:05:17.276\",\n{\n            'v': 0.0,\n            'f': \"0.0\",\n        },\n\"TCP  \",\n\"192.168.100.5\",\n{\n            'v': 445,\n            'f': \"445\",\n        },\n\"192.168.220.16\",\n{\n            'v': 58844.0,\n            'f': \"58844.0\",\n        },\n{\n            'v': 1,\n            'f': \"1\",\n        },\n\"     108\",\n{\n            'v': 1,\n            'f': \"1\",\n        },\n\".AP...\",\n{\n            'v': 0,\n            'f': \"0\",\n        },\n\"normal\",\n\"---\",\n\"---\",\n\"---\"],\n [{\n            'v': 804,\n            'f': \"804\",\n        },\n\"2017-03-15 00:05:31.762\",\n{\n            'v': 0.0,\n            'f': \"0.0\",\n        },\n\"TCP  \",\n\"EXT_SERVER\",\n{\n            'v': 8082,\n            'f': \"8082\",\n        },\n\"192.168.220.14\",\n{\n            'v': 48380.0,\n            'f': \"48380.0\",\n        },\n{\n            'v': 1,\n            'f': \"1\",\n        },\n\"     212\",\n{\n            'v': 1,\n            'f': \"1\",\n        },\n\".AP...\",\n{\n            'v': 32,\n            'f': \"32\",\n        },\n\"normal\",\n\"---\",\n\"---\",\n\"---\"],\n [{\n            'v': 819,\n            'f': \"819\",\n        },\n\"2017-03-15 00:05:34.815\",\n{\n            'v': 0.048,\n            'f': \"0.048\",\n        },\n\"TCP  \",\n\"192.168.220.16\",\n{\n            'v': 45819,\n            'f': \"45819\",\n        },\n\"10000_35\",\n{\n            'v': 443.0,\n            'f': \"443.0\",\n        },\n{\n            'v': 5,\n            'f': \"5\",\n        },\n\"     906\",\n{\n            'v': 1,\n            'f': \"1\",\n        },\n\".AP.S.\",\n{\n            'v': 0,\n            'f': \"0\",\n        },\n\"normal\",\n\"---\",\n\"---\",\n\"---\"],\n [{\n            'v': 811,\n            'f': \"811\",\n        },\n\"2017-03-15 00:05:34.868\",\n{\n            'v': 0.087,\n            'f': \"0.087\",\n        },\n\"TCP  \",\n\"10001_232\",\n{\n            'v': 443,\n            'f': \"443\",\n        },\n\"192.168.220.16\",\n{\n            'v': 51377.0,\n            'f': \"51377.0\",\n        },\n{\n            'v': 5,\n            'f': \"5\",\n        },\n\"     498\",\n{\n            'v': 1,\n            'f': \"1\",\n        },\n\".AP.S.\",\n{\n            'v': 0,\n            'f': \"0\",\n        },\n\"normal\",\n\"---\",\n\"---\",\n\"---\"],\n [{\n            'v': 810,\n            'f': \"810\",\n        },\n\"2017-03-15 00:05:34.895\",\n{\n            'v': 0.084,\n            'f': \"0.084\",\n        },\n\"TCP  \",\n\"10001_232\",\n{\n            'v': 443,\n            'f': \"443\",\n        },\n\"192.168.220.16\",\n{\n            'v': 51378.0,\n            'f': \"51378.0\",\n        },\n{\n            'v': 5,\n            'f': \"5\",\n        },\n\"     498\",\n{\n            'v': 1,\n            'f': \"1\",\n        },\n\".AP.S.\",\n{\n            'v': 0,\n            'f': \"0\",\n        },\n\"normal\",\n\"---\",\n\"---\",\n\"---\"],\n [{\n            'v': 825,\n            'f': \"825\",\n        },\n\"2017-03-15 00:05:35.497\",\n{\n            'v': 0.0,\n            'f': \"0.0\",\n        },\n\"UDP  \",\n\"DNS\",\n{\n            'v': 53,\n            'f': \"53\",\n        },\n\"192.168.220.16\",\n{\n            'v': 47797.0,\n            'f': \"47797.0\",\n        },\n{\n            'v': 2,\n            'f': \"2\",\n        },\n\"     565\",\n{\n            'v': 1,\n            'f': \"1\",\n        },\n\"......\",\n{\n            'v': 0,\n            'f': \"0\",\n        },\n\"normal\",\n\"---\",\n\"---\",\n\"---\"],\n [{\n            'v': 836,\n            'f': \"836\",\n        },\n\"2017-03-15 00:05:36.282\",\n{\n            'v': 0.0,\n            'f': \"0.0\",\n        },\n\"TCP  \",\n\"192.168.220.16\",\n{\n            'v': 49955,\n            'f': \"49955\",\n        },\n\"10001_232\",\n{\n            'v': 80.0,\n            'f': \"80.0\",\n        },\n{\n            'v': 1,\n            'f': \"1\",\n        },\n\"      66\",\n{\n            'v': 1,\n            'f': \"1\",\n        },\n\".A....\",\n{\n            'v': 0,\n            'f': \"0\",\n        },\n\"normal\",\n\"---\",\n\"---\",\n\"---\"],\n [{\n            'v': 835,\n            'f': \"835\",\n        },\n\"2017-03-15 00:05:36.303\",\n{\n            'v': 0.0,\n            'f': \"0.0\",\n        },\n\"TCP  \",\n\"10001_232\",\n{\n            'v': 80,\n            'f': \"80\",\n        },\n\"192.168.220.16\",\n{\n            'v': 49955.0,\n            'f': \"49955.0\",\n        },\n{\n            'v': 1,\n            'f': \"1\",\n        },\n\"      66\",\n{\n            'v': 1,\n            'f': \"1\",\n        },\n\".A....\",\n{\n            'v': 0,\n            'f': \"0\",\n        },\n\"normal\",\n\"---\",\n\"---\",\n\"---\"],\n [{\n            'v': 846,\n            'f': \"846\",\n        },\n\"2017-03-15 00:05:46.221\",\n{\n            'v': 0.018000000000000002,\n            'f': \"0.018000000000000002\",\n        },\n\"TCP  \",\n\"192.168.220.16\",\n{\n            'v': 60802,\n            'f': \"60802\",\n        },\n\"EXT_SERVER\",\n{\n            'v': 8082.0,\n            'f': \"8082.0\",\n        },\n{\n            'v': 2,\n            'f': \"2\",\n        },\n\"     338\",\n{\n            'v': 1,\n            'f': \"1\",\n        },\n\".AP...\",\n{\n            'v': 0,\n            'f': \"0\",\n        },\n\"normal\",\n\"---\",\n\"---\",\n\"---\"],\n [{\n            'v': 852,\n            'f': \"852\",\n        },\n\"2017-03-15 00:05:48.640\",\n{\n            'v': 0.055,\n            'f': \"0.055\",\n        },\n\"TCP  \",\n\"192.168.200.8\",\n{\n            'v': 62953,\n            'f': \"62953\",\n        },\n\"EXT_SERVER\",\n{\n            'v': 8000.0,\n            'f': \"8000.0\",\n        },\n{\n            'v': 6,\n            'f': \"6\",\n        },\n\"     575\",\n{\n            'v': 1,\n            'f': \"1\",\n        },\n\".AP.SF\",\n{\n            'v': 0,\n            'f': \"0\",\n        },\n\"normal\",\n\"---\",\n\"---\",\n\"---\"],\n [{\n            'v': 863,\n            'f': \"863\",\n        },\n\"2017-03-15 00:06:00.702\",\n{\n            'v': 0.0,\n            'f': \"0.0\",\n        },\n\"TCP  \",\n\"EXT_SERVER\",\n{\n            'v': 8082,\n            'f': \"8082\",\n        },\n\"192.168.220.15\",\n{\n            'v': 37039.0,\n            'f': \"37039.0\",\n        },\n{\n            'v': 1,\n            'f': \"1\",\n        },\n\"     212\",\n{\n            'v': 1,\n            'f': \"1\",\n        },\n\".AP...\",\n{\n            'v': 32,\n            'f': \"32\",\n        },\n\"normal\",\n\"---\",\n\"---\",\n\"---\"],\n [{\n            'v': 879,\n            'f': \"879\",\n        },\n\"2017-03-15 00:06:09.273\",\n{\n            'v': 0.0,\n            'f': \"0.0\",\n        },\n\"TCP  \",\n\"192.168.100.5\",\n{\n            'v': 445,\n            'f': \"445\",\n        },\n\"192.168.220.4\",\n{\n            'v': 43145.0,\n            'f': \"43145.0\",\n        },\n{\n            'v': 1,\n            'f': \"1\",\n        },\n\"     108\",\n{\n            'v': 1,\n            'f': \"1\",\n        },\n\".AP...\",\n{\n            'v': 0,\n            'f': \"0\",\n        },\n\"normal\",\n\"---\",\n\"---\",\n\"---\"],\n [{\n            'v': 904,\n            'f': \"904\",\n        },\n\"2017-03-15 00:06:10.200\",\n{\n            'v': 0.051,\n            'f': \"0.051\",\n        },\n\"TCP  \",\n\"192.168.220.16\",\n{\n            'v': 45850,\n            'f': \"45850\",\n        },\n\"10000_35\",\n{\n            'v': 443.0,\n            'f': \"443.0\",\n        },\n{\n            'v': 5,\n            'f': \"5\",\n        },\n\"     906\",\n{\n            'v': 1,\n            'f': \"1\",\n        },\n\".AP.S.\",\n{\n            'v': 0,\n            'f': \"0\",\n        },\n\"normal\",\n\"---\",\n\"---\",\n\"---\"],\n [{\n            'v': 893,\n            'f': \"893\",\n        },\n\"2017-03-15 00:06:10.205\",\n{\n            'v': 0.035,\n            'f': \"0.035\",\n        },\n\"UDP  \",\n\"DNS\",\n{\n            'v': 53,\n            'f': \"53\",\n        },\n\"192.168.220.16\",\n{\n            'v': 41567.0,\n            'f': \"41567.0\",\n        },\n{\n            'v': 2,\n            'f': \"2\",\n        },\n\"     388\",\n{\n            'v': 1,\n            'f': \"1\",\n        },\n\"......\",\n{\n            'v': 0,\n            'f': \"0\",\n        },\n\"normal\",\n\"---\",\n\"---\",\n\"---\"],\n [{\n            'v': 899,\n            'f': \"899\",\n        },\n\"2017-03-15 00:06:10.225\",\n{\n            'v': 0.05,\n            'f': \"0.05\",\n        },\n\"TCP  \",\n\"192.168.220.16\",\n{\n            'v': 45851,\n            'f': \"45851\",\n        },\n\"10000_35\",\n{\n            'v': 443.0,\n            'f': \"443.0\",\n        },\n{\n            'v': 5,\n            'f': \"5\",\n        },\n\"     906\",\n{\n            'v': 1,\n            'f': \"1\",\n        },\n\".AP.S.\",\n{\n            'v': 0,\n            'f': \"0\",\n        },\n\"normal\",\n\"---\",\n\"---\",\n\"---\"],\n [{\n            'v': 909,\n            'f': \"909\",\n        },\n\"2017-03-15 00:06:10.876\",\n{\n            'v': 0.0,\n            'f': \"0.0\",\n        },\n\"UDP  \",\n\"DNS\",\n{\n            'v': 53,\n            'f': \"53\",\n        },\n\"192.168.220.16\",\n{\n            'v': 36031.0,\n            'f': \"36031.0\",\n        },\n{\n            'v': 2,\n            'f': \"2\",\n        },\n\"     565\",\n{\n            'v': 1,\n            'f': \"1\",\n        },\n\"......\",\n{\n            'v': 0,\n            'f': \"0\",\n        },\n\"normal\",\n\"---\",\n\"---\",\n\"---\"],\n [{\n            'v': 954,\n            'f': \"954\",\n        },\n\"2017-03-15 00:06:21.221\",\n{\n            'v': 0.32299999999999995,\n            'f': \"0.32299999999999995\",\n        },\n\"TCP  \",\n\"192.168.220.16\",\n{\n            'v': 48573,\n            'f': \"48573\",\n        },\n\"10003_195\",\n{\n            'v': 80.0,\n            'f': \"80.0\",\n        },\n{\n            'v': 5,\n            'f': \"5\",\n        },\n\"    2408\",\n{\n            'v': 1,\n            'f': \"1\",\n        },\n\".AP.S.\",\n{\n            'v': 0,\n            'f': \"0\",\n        },\n\"normal\",\n\"---\",\n\"---\",\n\"---\"],\n [{\n            'v': 947,\n            'f': \"947\",\n        },\n\"2017-03-15 00:06:21.349\",\n{\n            'v': 0.0,\n            'f': \"0.0\",\n        },\n\"UDP  \",\n\"DNS\",\n{\n            'v': 53,\n            'f': \"53\",\n        },\n\"192.168.220.16\",\n{\n            'v': 42319.0,\n            'f': \"42319.0\",\n        },\n{\n            'v': 2,\n            'f': \"2\",\n        },\n\"     565\",\n{\n            'v': 1,\n            'f': \"1\",\n        },\n\"......\",\n{\n            'v': 0,\n            'f': \"0\",\n        },\n\"normal\",\n\"---\",\n\"---\",\n\"---\"],\n [{\n            'v': 949,\n            'f': \"949\",\n        },\n\"2017-03-15 00:06:21.575\",\n{\n            'v': 0.0,\n            'f': \"0.0\",\n        },\n\"UDP  \",\n\"DNS\",\n{\n            'v': 53,\n            'f': \"53\",\n        },\n\"192.168.220.16\",\n{\n            'v': 49715.0,\n            'f': \"49715.0\",\n        },\n{\n            'v': 2,\n            'f': \"2\",\n        },\n\"     565\",\n{\n            'v': 1,\n            'f': \"1\",\n        },\n\"......\",\n{\n            'v': 0,\n            'f': \"0\",\n        },\n\"normal\",\n\"---\",\n\"---\",\n\"---\"],\n [{\n            'v': 953,\n            'f': \"953\",\n        },\n\"2017-03-15 00:06:21.654\",\n{\n            'v': 0.018000000000000002,\n            'f': \"0.018000000000000002\",\n        },\n\"TCP  \",\n\"192.168.200.4\",\n{\n            'v': 56979,\n            'f': \"56979\",\n        },\n\"EXT_SERVER\",\n{\n            'v': 8082.0,\n            'f': \"8082.0\",\n        },\n{\n            'v': 2,\n            'f': \"2\",\n        },\n\"     338\",\n{\n            'v': 1,\n            'f': \"1\",\n        },\n\".AP...\",\n{\n            'v': 0,\n            'f': \"0\",\n        },\n\"normal\",\n\"---\",\n\"---\",\n\"---\"]],\n        columns: [[\"number\", \"index\"], [\"string\", \"Date first seen\"], [\"number\", \"Duration\"], [\"string\", \"Proto\"], [\"string\", \"Src IP Addr\"], [\"number\", \"Src Pt\"], [\"string\", \"Dst IP Addr\"], [\"number\", \"Dst Pt\"], [\"number\", \"Packets\"], [\"string\", \"Bytes\"], [\"number\", \"Flows\"], [\"string\", \"Flags\"], [\"number\", \"Tos\"], [\"string\", \"class\"], [\"string\", \"attackType\"], [\"string\", \"attackID\"], [\"string\", \"attackDescription\"]],\n        columnOptions: [{\"width\": \"1px\", \"className\": \"index_column\"}],\n        rowsPerPage: 25,\n        helpUrl: \"https://colab.research.google.com/notebooks/data_table.ipynb\",\n      });\n    ",
            "text/html": [
              "<div>\n",
              "<style scoped>\n",
              "    .dataframe tbody tr th:only-of-type {\n",
              "        vertical-align: middle;\n",
              "    }\n",
              "\n",
              "    .dataframe tbody tr th {\n",
              "        vertical-align: top;\n",
              "    }\n",
              "\n",
              "    .dataframe thead th {\n",
              "        text-align: right;\n",
              "    }\n",
              "</style>\n",
              "<table border=\"1\" class=\"dataframe\">\n",
              "  <thead>\n",
              "    <tr style=\"text-align: right;\">\n",
              "      <th></th>\n",
              "      <th>Date first seen</th>\n",
              "      <th>Duration</th>\n",
              "      <th>Proto</th>\n",
              "      <th>Src IP Addr</th>\n",
              "      <th>Src Pt</th>\n",
              "      <th>Dst IP Addr</th>\n",
              "      <th>Dst Pt</th>\n",
              "      <th>Packets</th>\n",
              "      <th>Bytes</th>\n",
              "      <th>Flows</th>\n",
              "      <th>Flags</th>\n",
              "      <th>Tos</th>\n",
              "      <th>class</th>\n",
              "      <th>attackType</th>\n",
              "      <th>attackID</th>\n",
              "      <th>attackDescription</th>\n",
              "    </tr>\n",
              "  </thead>\n",
              "  <tbody>\n",
              "    <tr>\n",
              "      <th>23</th>\n",
              "      <td>2017-03-15 00:01:17.728</td>\n",
              "      <td>0.047</td>\n",
              "      <td>TCP</td>\n",
              "      <td>192.168.220.16</td>\n",
              "      <td>45586</td>\n",
              "      <td>10000_35</td>\n",
              "      <td>443.0</td>\n",
              "      <td>5</td>\n",
              "      <td>906</td>\n",
              "      <td>1</td>\n",
              "      <td>.AP.S.</td>\n",
              "      <td>0</td>\n",
              "      <td>normal</td>\n",
              "      <td>---</td>\n",
              "      <td>---</td>\n",
              "      <td>---</td>\n",
              "    </tr>\n",
              "    <tr>\n",
              "      <th>36</th>\n",
              "      <td>2017-03-15 00:01:18.457</td>\n",
              "      <td>0.170</td>\n",
              "      <td>TCP</td>\n",
              "      <td>10003_195</td>\n",
              "      <td>80</td>\n",
              "      <td>192.168.220.16</td>\n",
              "      <td>48286.0</td>\n",
              "      <td>3</td>\n",
              "      <td>908</td>\n",
              "      <td>1</td>\n",
              "      <td>.AP.S.</td>\n",
              "      <td>32</td>\n",
              "      <td>normal</td>\n",
              "      <td>---</td>\n",
              "      <td>---</td>\n",
              "      <td>---</td>\n",
              "    </tr>\n",
              "    <tr>\n",
              "      <th>30</th>\n",
              "      <td>2017-03-15 00:01:18.511</td>\n",
              "      <td>0.003</td>\n",
              "      <td>TCP</td>\n",
              "      <td>10002_113</td>\n",
              "      <td>443</td>\n",
              "      <td>192.168.220.16</td>\n",
              "      <td>49062.0</td>\n",
              "      <td>2</td>\n",
              "      <td>1089</td>\n",
              "      <td>1</td>\n",
              "      <td>.AP...</td>\n",
              "      <td>32</td>\n",
              "      <td>normal</td>\n",
              "      <td>---</td>\n",
              "      <td>---</td>\n",
              "      <td>---</td>\n",
              "    </tr>\n",
              "    <tr>\n",
              "      <th>46</th>\n",
              "      <td>2017-03-15 00:01:22.400</td>\n",
              "      <td>0.000</td>\n",
              "      <td>TCP</td>\n",
              "      <td>EXT_SERVER</td>\n",
              "      <td>8082</td>\n",
              "      <td>192.168.220.15</td>\n",
              "      <td>37039.0</td>\n",
              "      <td>1</td>\n",
              "      <td>212</td>\n",
              "      <td>1</td>\n",
              "      <td>.AP...</td>\n",
              "      <td>32</td>\n",
              "      <td>normal</td>\n",
              "      <td>---</td>\n",
              "      <td>---</td>\n",
              "      <td>---</td>\n",
              "    </tr>\n",
              "    <tr>\n",
              "      <th>51</th>\n",
              "      <td>2017-03-15 00:01:24.152</td>\n",
              "      <td>0.266</td>\n",
              "      <td>TCP</td>\n",
              "      <td>192.168.200.9</td>\n",
              "      <td>52290</td>\n",
              "      <td>EXT_SERVER</td>\n",
              "      <td>8082.0</td>\n",
              "      <td>2</td>\n",
              "      <td>319</td>\n",
              "      <td>1</td>\n",
              "      <td>.AP...</td>\n",
              "      <td>0</td>\n",
              "      <td>normal</td>\n",
              "      <td>---</td>\n",
              "      <td>---</td>\n",
              "      <td>---</td>\n",
              "    </tr>\n",
              "    <tr>\n",
              "      <th>...</th>\n",
              "      <td>...</td>\n",
              "      <td>...</td>\n",
              "      <td>...</td>\n",
              "      <td>...</td>\n",
              "      <td>...</td>\n",
              "      <td>...</td>\n",
              "      <td>...</td>\n",
              "      <td>...</td>\n",
              "      <td>...</td>\n",
              "      <td>...</td>\n",
              "      <td>...</td>\n",
              "      <td>...</td>\n",
              "      <td>...</td>\n",
              "      <td>...</td>\n",
              "      <td>...</td>\n",
              "      <td>...</td>\n",
              "    </tr>\n",
              "    <tr>\n",
              "      <th>909</th>\n",
              "      <td>2017-03-15 00:06:10.876</td>\n",
              "      <td>0.000</td>\n",
              "      <td>UDP</td>\n",
              "      <td>DNS</td>\n",
              "      <td>53</td>\n",
              "      <td>192.168.220.16</td>\n",
              "      <td>36031.0</td>\n",
              "      <td>2</td>\n",
              "      <td>565</td>\n",
              "      <td>1</td>\n",
              "      <td>......</td>\n",
              "      <td>0</td>\n",
              "      <td>normal</td>\n",
              "      <td>---</td>\n",
              "      <td>---</td>\n",
              "      <td>---</td>\n",
              "    </tr>\n",
              "    <tr>\n",
              "      <th>954</th>\n",
              "      <td>2017-03-15 00:06:21.221</td>\n",
              "      <td>0.323</td>\n",
              "      <td>TCP</td>\n",
              "      <td>192.168.220.16</td>\n",
              "      <td>48573</td>\n",
              "      <td>10003_195</td>\n",
              "      <td>80.0</td>\n",
              "      <td>5</td>\n",
              "      <td>2408</td>\n",
              "      <td>1</td>\n",
              "      <td>.AP.S.</td>\n",
              "      <td>0</td>\n",
              "      <td>normal</td>\n",
              "      <td>---</td>\n",
              "      <td>---</td>\n",
              "      <td>---</td>\n",
              "    </tr>\n",
              "    <tr>\n",
              "      <th>947</th>\n",
              "      <td>2017-03-15 00:06:21.349</td>\n",
              "      <td>0.000</td>\n",
              "      <td>UDP</td>\n",
              "      <td>DNS</td>\n",
              "      <td>53</td>\n",
              "      <td>192.168.220.16</td>\n",
              "      <td>42319.0</td>\n",
              "      <td>2</td>\n",
              "      <td>565</td>\n",
              "      <td>1</td>\n",
              "      <td>......</td>\n",
              "      <td>0</td>\n",
              "      <td>normal</td>\n",
              "      <td>---</td>\n",
              "      <td>---</td>\n",
              "      <td>---</td>\n",
              "    </tr>\n",
              "    <tr>\n",
              "      <th>949</th>\n",
              "      <td>2017-03-15 00:06:21.575</td>\n",
              "      <td>0.000</td>\n",
              "      <td>UDP</td>\n",
              "      <td>DNS</td>\n",
              "      <td>53</td>\n",
              "      <td>192.168.220.16</td>\n",
              "      <td>49715.0</td>\n",
              "      <td>2</td>\n",
              "      <td>565</td>\n",
              "      <td>1</td>\n",
              "      <td>......</td>\n",
              "      <td>0</td>\n",
              "      <td>normal</td>\n",
              "      <td>---</td>\n",
              "      <td>---</td>\n",
              "      <td>---</td>\n",
              "    </tr>\n",
              "    <tr>\n",
              "      <th>953</th>\n",
              "      <td>2017-03-15 00:06:21.654</td>\n",
              "      <td>0.018</td>\n",
              "      <td>TCP</td>\n",
              "      <td>192.168.200.4</td>\n",
              "      <td>56979</td>\n",
              "      <td>EXT_SERVER</td>\n",
              "      <td>8082.0</td>\n",
              "      <td>2</td>\n",
              "      <td>338</td>\n",
              "      <td>1</td>\n",
              "      <td>.AP...</td>\n",
              "      <td>0</td>\n",
              "      <td>normal</td>\n",
              "      <td>---</td>\n",
              "      <td>---</td>\n",
              "      <td>---</td>\n",
              "    </tr>\n",
              "  </tbody>\n",
              "</table>\n",
              "<p>100 rows × 16 columns</p>\n",
              "</div>"
            ],
            "text/plain": [
              "             Date first seen  Duration  ... attackID attackDescription\n",
              "23   2017-03-15 00:01:17.728     0.047  ...      ---               ---\n",
              "36   2017-03-15 00:01:18.457     0.170  ...      ---               ---\n",
              "30   2017-03-15 00:01:18.511     0.003  ...      ---               ---\n",
              "46   2017-03-15 00:01:22.400     0.000  ...      ---               ---\n",
              "51   2017-03-15 00:01:24.152     0.266  ...      ---               ---\n",
              "..                       ...       ...  ...      ...               ...\n",
              "909  2017-03-15 00:06:10.876     0.000  ...      ---               ---\n",
              "954  2017-03-15 00:06:21.221     0.323  ...      ---               ---\n",
              "947  2017-03-15 00:06:21.349     0.000  ...      ---               ---\n",
              "949  2017-03-15 00:06:21.575     0.000  ...      ---               ---\n",
              "953  2017-03-15 00:06:21.654     0.018  ...      ---               ---\n",
              "\n",
              "[100 rows x 16 columns]"
            ]
          },
          "metadata": {
            "tags": []
          },
          "execution_count": 3
        }
      ]
    },
    {
      "cell_type": "markdown",
      "metadata": {
        "id": "PGITLdtJ_wq0",
        "colab_type": "text"
      },
      "source": [
        "### Describe the data:\n",
        "- How many columns and how many rows are there?"
      ]
    },
    {
      "cell_type": "code",
      "metadata": {
        "id": "gjcyX-at_wq0",
        "colab_type": "code",
        "outputId": "e27d0f2f-4def-4086-9ee7-1459862c38b3",
        "colab": {
          "base_uri": "https://localhost:8080/",
          "height": 35
        }
      },
      "source": [
        "print(len(df.index)) ## or print(\"Number of rows =\", df.shape[0])"
      ],
      "execution_count": 0,
      "outputs": [
        {
          "output_type": "stream",
          "text": [
            "845152\n"
          ],
          "name": "stdout"
        }
      ]
    },
    {
      "cell_type": "code",
      "metadata": {
        "id": "L3HqxmGY_wq0",
        "colab_type": "code",
        "outputId": "4f8c0fb0-70d6-4f0c-da73-07e9c65d6481",
        "colab": {
          "base_uri": "https://localhost:8080/",
          "height": 35
        }
      },
      "source": [
        "print(len(df.columns)) ## or df.shape[1]"
      ],
      "execution_count": 0,
      "outputs": [
        {
          "output_type": "stream",
          "text": [
            "16\n"
          ],
          "name": "stdout"
        }
      ]
    },
    {
      "cell_type": "markdown",
      "metadata": {
        "id": "N5mCE6sJNCjA",
        "colab_type": "text"
      },
      "source": [
        "- How many unique values does the 'class' attribute take?\n"
      ]
    },
    {
      "cell_type": "code",
      "metadata": {
        "id": "iR70nPNLQOWw",
        "colab_type": "code",
        "outputId": "f9dba02e-42e3-466e-936b-91e5bc1b1b6f",
        "colab": {
          "base_uri": "https://localhost:8080/",
          "height": 53
        }
      },
      "source": [
        "print(len(df['class'].unique()))\n",
        "print(df['class'].unique())"
      ],
      "execution_count": 0,
      "outputs": [
        {
          "output_type": "stream",
          "text": [
            "3\n",
            "['normal' 'attacker' 'victim']\n"
          ],
          "name": "stdout"
        }
      ]
    },
    {
      "cell_type": "markdown",
      "metadata": {
        "id": "08h85K97QPQk",
        "colab_type": "text"
      },
      "source": [
        "- How many rows are there for each unique value of the class attribute?\n"
      ]
    },
    {
      "cell_type": "code",
      "metadata": {
        "id": "tAX8VGWfRbxc",
        "colab_type": "code",
        "outputId": "5fa5f2fb-b420-49fc-8a1c-125d60f4b73b",
        "colab": {
          "base_uri": "https://localhost:8080/",
          "height": 90
        }
      },
      "source": [
        "print(df['class'].value_counts())"
      ],
      "execution_count": 0,
      "outputs": [
        {
          "output_type": "stream",
          "text": [
            "normal      700513\n",
            "attacker     75124\n",
            "victim       69515\n",
            "Name: class, dtype: int64\n"
          ],
          "name": "stdout"
        }
      ]
    },
    {
      "cell_type": "markdown",
      "metadata": {
        "id": "bIyc01kbRkg0",
        "colab_type": "text"
      },
      "source": [
        "- What unique values does the 'attackType' attribute take on?\n"
      ]
    },
    {
      "cell_type": "code",
      "metadata": {
        "id": "Ty8OUOPuSUGI",
        "colab_type": "code",
        "outputId": "cab46755-cd47-4de8-e7d8-89ddf82efb3e",
        "colab": {
          "base_uri": "https://localhost:8080/",
          "height": 53
        }
      },
      "source": [
        "print(len(df['attackType'].unique()))\n",
        "print(df['attackType'].unique())"
      ],
      "execution_count": 0,
      "outputs": [
        {
          "output_type": "stream",
          "text": [
            "5\n",
            "['---' 'portScan' 'dos' 'pingScan' 'bruteForce']\n"
          ],
          "name": "stdout"
        }
      ]
    },
    {
      "cell_type": "markdown",
      "metadata": {
        "id": "Fortq7ieSfxA",
        "colab_type": "text"
      },
      "source": [
        "- List the count of each of the possible attack types."
      ]
    },
    {
      "cell_type": "code",
      "metadata": {
        "id": "XeXkyENKSiWo",
        "colab_type": "code",
        "outputId": "78730c23-4f47-41cf-afe1-c7b103babb40",
        "colab": {
          "base_uri": "https://localhost:8080/",
          "height": 126
        }
      },
      "source": [
        "print(df['attackType'].value_counts())"
      ],
      "execution_count": 0,
      "outputs": [
        {
          "output_type": "execute_result",
          "data": {
            "text/plain": [
              "---           700513\n",
              "dos           125430\n",
              "portScan       18686\n",
              "pingScan         355\n",
              "bruteForce       168\n",
              "Name: attackType, dtype: int64"
            ]
          },
          "metadata": {
            "tags": []
          },
          "execution_count": 10
        }
      ]
    },
    {
      "cell_type": "markdown",
      "metadata": {
        "id": "5HdXVYi7_wq0",
        "colab_type": "text"
      },
      "source": [
        "### Have a look at the other columns:\n",
        "- Which columns contain numeric values?\n"
      ]
    },
    {
      "cell_type": "code",
      "metadata": {
        "id": "qS_KW2Rm_wq0",
        "colab_type": "code",
        "outputId": "73ae6dac-5179-4ec5-8242-1c0e0791eceb",
        "colab": {
          "base_uri": "https://localhost:8080/",
          "height": 72
        }
      },
      "source": [
        "numerics = ['int16', 'int32', 'int64', 'float16', 'float32', 'float64']\n",
        "\n",
        "df.select_dtypes(include=numerics).columns"
      ],
      "execution_count": 0,
      "outputs": [
        {
          "output_type": "execute_result",
          "data": {
            "text/plain": [
              "Index(['Unnamed: 0', 'Duration', 'Src Pt', 'Dst Pt', 'Packets', 'Flows',\n",
              "       'Tos'],\n",
              "      dtype='object')"
            ]
          },
          "metadata": {
            "tags": []
          },
          "execution_count": 11
        }
      ]
    },
    {
      "cell_type": "markdown",
      "metadata": {
        "id": "XUOuKl7MU0w8",
        "colab_type": "text"
      },
      "source": [
        "- Do they all correspond to \"numeric variables\" or are some of them categorical? Note that categorical values are often expressed as numbers! (For numeric types, comparisons with with “>” and “<” makes sense, for categorical variables they don’t.)\n"
      ]
    },
    {
      "cell_type": "markdown",
      "metadata": {
        "id": "D7UKMz93X4tk",
        "colab_type": "text"
      },
      "source": [
        "No, not all of them. Only 'Duration', ' and 'Packets'."
      ]
    },
    {
      "cell_type": "code",
      "metadata": {
        "id": "wRRihyieU3R4",
        "colab_type": "code",
        "outputId": "e40ed3d4-1d4c-4b4b-a3f0-01261b29389a",
        "colab": {
          "base_uri": "https://localhost:8080/",
          "height": 53
        }
      },
      "source": [
        "print(df['Tos'].unique()) \n",
        "print(df['Flows'].unique())"
      ],
      "execution_count": 0,
      "outputs": [
        {
          "output_type": "stream",
          "text": [
            "[  0  32 192  16  12]\n",
            "[1]\n"
          ],
          "name": "stdout"
        }
      ]
    },
    {
      "cell_type": "markdown",
      "metadata": {
        "id": "00L0weF7U4Fc",
        "colab_type": "text"
      },
      "source": [
        "- List all numeric types and compute simple statistics (minimum, maximum, average, etc.) for each.\n"
      ]
    },
    {
      "cell_type": "code",
      "metadata": {
        "id": "ZFyP-l0iYwjA",
        "colab_type": "code",
        "outputId": "94c6855a-adef-474c-b481-f2125843ecb5",
        "colab": {
          "base_uri": "https://localhost:8080/",
          "height": 344
        }
      },
      "source": [
        "print(df.Duration.describe())\n",
        "print(df.Packets.describe())"
      ],
      "execution_count": 0,
      "outputs": [
        {
          "output_type": "stream",
          "text": [
            "count    845152.000000\n",
            "mean          0.113840\n",
            "std           0.760426\n",
            "min           0.000000\n",
            "25%           0.000000\n",
            "50%           0.000000\n",
            "75%           0.025000\n",
            "max         135.403000\n",
            "Name: Duration, dtype: float64\n",
            "count    845152.000000\n",
            "mean         14.902497\n",
            "std         978.309853\n",
            "min           1.000000\n",
            "25%           1.000000\n",
            "50%           2.000000\n",
            "75%           4.000000\n",
            "max      195912.000000\n",
            "Name: Packets, dtype: float64\n"
          ],
          "name": "stdout"
        }
      ]
    },
    {
      "cell_type": "markdown",
      "metadata": {
        "id": "MtxYAdcYYxbQ",
        "colab_type": "text"
      },
      "source": [
        "- Plot the distribution of the numeric variables using a histogram. Do any of the values look too large or too small?"
      ]
    },
    {
      "cell_type": "code",
      "metadata": {
        "id": "KRBhVc_FbUY8",
        "colab_type": "code",
        "outputId": "15d70848-4391-40bb-f773-8544277186d4",
        "colab": {
          "base_uri": "https://localhost:8080/",
          "height": 513
        }
      },
      "source": [
        "#TO DO: add labels\n",
        "plt.hist(df['Duration'].values, bins=75)\n",
        "plt.show() \n",
        "plt.hist(df[df['Duration'] > 5 ]['Duration'].values, bins=75)\n",
        "plt.show() \n"
      ],
      "execution_count": 0,
      "outputs": [
        {
          "output_type": "display_data",
          "data": {
            "image/png": "[encoded data removed]",
            "text/plain": [
              "<Figure size 432x288 with 1 Axes>"
            ]
          },
          "metadata": {
            "tags": []
          }
        },
        {
          "output_type": "display_data",
          "data": {
            "image/png": "[encoded data removed]",
            "text/plain": [
              "<Figure size 432x288 with 1 Axes>"
            ]
          },
          "metadata": {
            "tags": []
          }
        }
      ]
    },
    {
      "cell_type": "markdown",
      "metadata": {
        "id": "YKTJsyHo_wq0",
        "colab_type": "text"
      },
      "source": [
        "### Have a look at the times and dates that the system has come under attack:\n",
        "- Convert the 'Date first seen' column to a datetime object (see code in Appendix).\n"
      ]
    },
    {
      "cell_type": "code",
      "metadata": {
        "id": "pgpaqBfB_wq0",
        "colab_type": "code",
        "outputId": "f7068a39-c38e-4ef3-c63e-9a1a06c61502",
        "colab": {
          "base_uri": "https://localhost:8080/",
          "height": 399
        }
      },
      "source": [
        "df['Date first seen'] = pd.to_datetime(df['Date first seen'])\n",
        "df.info()"
      ],
      "execution_count": 0,
      "outputs": [
        {
          "output_type": "stream",
          "text": [
            "<class 'pandas.core.frame.DataFrame'>\n",
            "Int64Index: 845152 entries, 23 to 8451510\n",
            "Data columns (total 16 columns):\n",
            "Date first seen      845152 non-null datetime64[ns]\n",
            "Duration             845152 non-null float64\n",
            "Proto                845152 non-null object\n",
            "Src IP Addr          845152 non-null object\n",
            "Src Pt               845152 non-null int64\n",
            "Dst IP Addr          845152 non-null object\n",
            "Dst Pt               845152 non-null float64\n",
            "Packets              845152 non-null int64\n",
            "Bytes                845152 non-null object\n",
            "Flows                845152 non-null int64\n",
            "Flags                845152 non-null object\n",
            "Tos                  845152 non-null int64\n",
            "class                845152 non-null object\n",
            "attackType           845152 non-null object\n",
            "attackID             845152 non-null object\n",
            "attackDescription    845152 non-null object\n",
            "dtypes: datetime64[ns](1), float64(2), int64(4), object(9)\n",
            "memory usage: 109.6+ MB\n"
          ],
          "name": "stdout"
        }
      ]
    },
    {
      "cell_type": "markdown",
      "metadata": {
        "id": "lUjBcWVuw7Dk",
        "colab_type": "text"
      },
      "source": [
        "- Create new columns for the day-of-week or time-of-day.\n"
      ]
    },
    {
      "cell_type": "code",
      "metadata": {
        "id": "9gjKrOBX_wq0",
        "colab_type": "code",
        "outputId": "31676309-a6eb-4234-ac79-1ec1e5e5adde",
        "colab": {
          "base_uri": "https://localhost:8080/",
          "height": 53
        }
      },
      "source": [
        "df['Day of week'] = df['Date first seen'].dt.dayofweek\n",
        "df['Time of day'] = df['Date first seen'].dt.hour\n",
        "print(df['Day of week'].unique())\n",
        "print(df['Time of day'].unique())"
      ],
      "execution_count": 0,
      "outputs": [
        {
          "output_type": "stream",
          "text": [
            "[2 3 4 5 6 0 1]\n",
            "[ 0  1  2  3  4  5  6  7  8  9 10 11 12 13 14 15 16 17 18 19 20 21 22 23]\n"
          ],
          "name": "stdout"
        }
      ]
    },
    {
      "cell_type": "markdown",
      "metadata": {
        "id": "FBe9mlQNw-Dw",
        "colab_type": "text"
      },
      "source": [
        "- Plot histograms of the day-of-week and of the time-of-day to see their distribution in the data.\n"
      ]
    },
    {
      "cell_type": "code",
      "metadata": {
        "id": "2hIplhY3xAQY",
        "colab_type": "code",
        "outputId": "4d137cb3-0232-4288-fd29-864be471c239",
        "colab": {
          "base_uri": "https://localhost:8080/",
          "height": 338
        }
      },
      "source": [
        "#TO DO: add labels\n",
        "plt.hist(df['Day of week'].values)\n",
        "\n",
        "#fig, ax = plt.subplots()\n",
        "#ax.hist(df['accountAgeDays'].values, bins=20)\n",
        "#ax.set_xlabel('accountAgeDays')\n",
        "#plt.show()"
      ],
      "execution_count": 0,
      "outputs": [
        {
          "output_type": "execute_result",
          "data": {
            "text/plain": [
              "(array([167174., 155030.,      0., 150140.,      0., 143468., 188417.,\n",
              "             0.,  28414.,  12509.]),\n",
              " array([0. , 0.6, 1.2, 1.8, 2.4, 3. , 3.6, 4.2, 4.8, 5.4, 6. ]),\n",
              " <a list of 10 Patch objects>)"
            ]
          },
          "metadata": {
            "tags": []
          },
          "execution_count": 17
        },
        {
          "output_type": "display_data",
          "data": {
            "image/png": "[encoded data removed]",
            "text/plain": [
              "<Figure size 432x288 with 1 Axes>"
            ]
          },
          "metadata": {
            "tags": []
          }
        }
      ]
    },
    {
      "cell_type": "code",
      "metadata": {
        "id": "NLN8tD8s4l7M",
        "colab_type": "code",
        "outputId": "8bb01fc1-e27b-467a-b0c5-b24b9b4ef71f",
        "colab": {
          "base_uri": "https://localhost:8080/",
          "height": 338
        }
      },
      "source": [
        "#TO DO: add labels\n",
        "plt.hist(df['Time of day'].values)"
      ],
      "execution_count": 0,
      "outputs": [
        {
          "output_type": "execute_result",
          "data": {
            "text/plain": [
              "(array([  9195.,   5729.,  35311., 130421., 137114., 191961., 235513.,\n",
              "         79557.,  12900.,   7451.]),\n",
              " array([ 0. ,  2.3,  4.6,  6.9,  9.2, 11.5, 13.8, 16.1, 18.4, 20.7, 23. ]),\n",
              " <a list of 10 Patch objects>)"
            ]
          },
          "metadata": {
            "tags": []
          },
          "execution_count": 7
        },
        {
          "output_type": "display_data",
          "data": {
            "image/png": "[encoded data removed]",
            "text/plain": [
              "<Figure size 432x288 with 1 Axes>"
            ]
          },
          "metadata": {
            "tags": []
          }
        }
      ]
    },
    {
      "cell_type": "markdown",
      "metadata": {
        "id": "s-AGzHeXxAxM",
        "colab_type": "text"
      },
      "source": [
        "- Select only the rows corresponding to attacks and replot the histograms.\n"
      ]
    },
    {
      "cell_type": "code",
      "metadata": {
        "id": "c8tJilwTxBc8",
        "colab_type": "code",
        "outputId": "17fd0d2a-542e-45d0-e8be-76e4833cc55a",
        "colab": {
          "base_uri": "https://localhost:8080/",
          "height": 338
        }
      },
      "source": [
        "#TO DO: add labels\n",
        "plt.hist(df[(df['class']==\"attacker\")| (df['class']==\"victim\")]['Day of week'].values)"
      ],
      "execution_count": 0,
      "outputs": [
        {
          "output_type": "execute_result",
          "data": {
            "text/plain": [
              "(array([36270.,     0., 23288.,     0.,     0., 16585.,     0.,  8981.,\n",
              "            0., 59515.]),\n",
              " array([0. , 0.4, 0.8, 1.2, 1.6, 2. , 2.4, 2.8, 3.2, 3.6, 4. ]),\n",
              " <a list of 10 Patch objects>)"
            ]
          },
          "metadata": {
            "tags": []
          },
          "execution_count": 19
        },
        {
          "output_type": "display_data",
          "data": {
            "image/png": "[encoded data removed]",
            "text/plain": [
              "<Figure size 432x288 with 1 Axes>"
            ]
          },
          "metadata": {
            "tags": []
          }
        }
      ]
    },
    {
      "cell_type": "code",
      "metadata": {
        "id": "m2eaWxgeGPR0",
        "colab_type": "code",
        "outputId": "954142a9-3e91-4725-d0c2-07f59db6e695",
        "colab": {
          "base_uri": "https://localhost:8080/",
          "height": 338
        }
      },
      "source": [
        "#TO DO: add labels\n",
        "plt.hist(df[(df['class']==\"attacker\")| (df['class']==\"victim\")]['Time of day'].values)"
      ],
      "execution_count": 0,
      "outputs": [
        {
          "output_type": "execute_result",
          "data": {
            "text/plain": [
              "(array([  555.,   390.,   372.,  8565., 11946., 63391., 56617.,  1908.,\n",
              "          565.,   330.]),\n",
              " array([ 0. ,  2.3,  4.6,  6.9,  9.2, 11.5, 13.8, 16.1, 18.4, 20.7, 23. ]),\n",
              " <a list of 10 Patch objects>)"
            ]
          },
          "metadata": {
            "tags": []
          },
          "execution_count": 18
        },
        {
          "output_type": "display_data",
          "data": {
            "image/png": "[encoded data removed]",
            "text/plain": [
              "<Figure size 432x288 with 1 Axes>"
            ]
          },
          "metadata": {
            "tags": []
          }
        }
      ]
    },
    {
      "cell_type": "markdown",
      "metadata": {
        "id": "fccMPX3_dKKY",
        "colab_type": "text"
      },
      "source": [
        ""
      ]
    },
    {
      "cell_type": "markdown",
      "metadata": {
        "id": "4zzcGNJdxESM",
        "colab_type": "text"
      },
      "source": [
        "- Does the day-of-week or time-of-day affect the probability of seeing an attack?"
      ]
    },
    {
      "cell_type": "markdown",
      "metadata": {
        "id": "uaT-T3ofdIYU",
        "colab_type": "text"
      },
      "source": [
        "Yes! "
      ]
    },
    {
      "cell_type": "markdown",
      "metadata": {
        "id": "SacBS1l2dNaM",
        "colab_type": "text"
      },
      "source": [
        "Some other visualization:"
      ]
    },
    {
      "cell_type": "code",
      "metadata": {
        "id": "HuK16Bwt-Eap",
        "colab_type": "code",
        "outputId": "f761b5d3-81be-4d36-e69f-67d8ef6ff7cd",
        "colab": {
          "base_uri": "https://localhost:8080/",
          "height": 317
        }
      },
      "source": [
        "#Sometimes our features may be closely related to other features. We can easily calculate the correlation coefficient between pairs of features.\n",
        "\n",
        "corr = df.corr()\n",
        "mask = np.zeros_like(corr, dtype=np.bool)\n",
        "mask[np.triu_indices_from(mask)] = True\n",
        "\n",
        "cmap = sns.diverging_palette(220, 10, as_cmap=True)\n",
        "\n",
        "sns.heatmap(corr, mask=mask, cmap=cmap, square=True, linewidths=.5, center=0, vmax=1);"
      ],
      "execution_count": 0,
      "outputs": [
        {
          "output_type": "display_data",
          "data": {
            "image/png": "[encoded data removed]",
            "text/plain": [
              "<Figure size 432x288 with 2 Axes>"
            ]
          },
          "metadata": {
            "tags": []
          }
        }
      ]
    },
    {
      "cell_type": "code",
      "metadata": {
        "id": "DgZGN6YUFG_8",
        "colab_type": "code",
        "outputId": "bcc6f26c-1889-4120-b983-640ed7e3fe31",
        "colab": {
          "base_uri": "https://localhost:8080/",
          "height": 311,
          "referenced_widgets": [
            "dae5af567c8e4195be244c913aa66a52",
            "595255b38315455daeeecf5a310b06a6",
            "62376a7a40e64d63bb53964ebe78ffab",
            "f94ff769f1f745158e12b584e790ba36",
            "88a421e0eab24a07bb3e70fe8d7e7695",
            "8c7d7b13868d4241a1ef91a250847a3a"
          ]
        }
      },
      "source": [
        "feature_desc = {'Duration': 'Duration', 'Packets': 'Packets','Day of week' : 'Day of week','Time of day':'Time of day'}\n",
        "def plot_feature(column):\n",
        "    plt.plot(df[column], df['class'], '.')\n",
        "    plt.xlabel(feature_desc[column])\n",
        "    plt.ylabel('Class')\n",
        "\n",
        "dropdown_menu = {v: k for k, v in feature_desc.items()}\n",
        "\n",
        "widgets.interact(plot_feature, column=dropdown_menu);\n",
        "#no attaks on weekends\n",
        "#unbalanced features"
      ],
      "execution_count": 0,
      "outputs": [
        {
          "output_type": "display_data",
          "data": {
            "application/vnd.jupyter.widget-view+json": {
              "model_id": "dae5af567c8e4195be244c913aa66a52",
              "version_minor": 0,
              "version_major": 2
            },
            "text/plain": [
              "interactive(children=(Dropdown(description='column', options={'Duration': 'Duration', 'Packets': 'Packets', 'D…"
            ]
          },
          "metadata": {
            "tags": []
          }
        }
      ]
    },
    {
      "cell_type": "markdown",
      "metadata": {
        "id": "XiEHsMQz_wq0",
        "colab_type": "text"
      },
      "source": [
        "### Now create some classifiers using just the numeric attributes and try to predict the ‘class’:\n",
        "- Train a logistic regression classifier.\n"
      ]
    },
    {
      "cell_type": "markdown",
      "metadata": {
        "id": "B2p9MCsneWoI",
        "colab_type": "text"
      },
      "source": [
        "In classification, we predict categorical labels. In regression, we predict quantitative/numerical labels. The critical difference is that we can't take a difference between the predicted and actual category in classification, while we can take a difference between the predicted and actual numerical values in regression. Because of these differences between regression and classification, we use different metrics to evaluate machine learning models trained for classification.\n",
        "\n",
        "As with regression, we're trying to determine the model $f$ that can best describes the relationship\n",
        "\n",
        "$$ y_j = f(X_j). $$\n",
        "\n",
        "For classification, $y_j$ can only take a finite set of values. If there are only two such values, we are dealing with **binary** classification. Examples of binary classification are predicting whether it will rain or not and whether someone will default on their loan. If we have more than two classes, we have a **multiclass** problem. For example, image classification is usually multiclass as we are trying to identify an image among a set of values, e.g., a person, a road sign, a car, etc."
      ]
    },
    {
      "cell_type": "code",
      "metadata": {
        "id": "6pznoysaN55E",
        "colab_type": "code",
        "colab": {}
      },
      "source": [
        "X_train,  X_test, y_train, y_test = train_test_split(\n",
        "    df[['Duration', 'Packets']],  \n",
        "    df[['class']], \n",
        "    test_size=0.20\n",
        ")"
      ],
      "execution_count": 0,
      "outputs": []
    },
    {
      "cell_type": "markdown",
      "metadata": {
        "id": "hubWmPxZTNmE",
        "colab_type": "text"
      },
      "source": [
        "The logistic regression model is the classifier version of linear regression. It is a probabilistic model; it will predict probability values that can then be used to assign class labels. The model works by taking the output of a linear regression model and feeds it into a sigmoid or logistic function. Mathematically\n",
        "\n",
        "$$ p_j = S\\left( \\sum_{i} X_{ji}\\beta_i  + \\beta_0 \\right), $$\n",
        "where\n",
        "$$ S(x) = \\frac{1}{1 + e^{-x}} $$"
      ]
    },
    {
      "cell_type": "markdown",
      "metadata": {
        "id": "9pgi-iY8TUPE",
        "colab_type": "text"
      },
      "source": [
        "The reason for the sigmoid function is that it maps values that range from positive to negative infinity to values that only range from 0 to 1. Thus, the output of the sigmoid function can be interpreted as a probability.\n",
        "\n",
        "The $\\beta$ coefficients of the model are chosen to minimize the log loss. Unlike linear regression, there is no closed-form solution to the optimal coefficient. Instead, the coefficients are solved using gradient descent."
      ]
    },
    {
      "cell_type": "code",
      "metadata": {
        "id": "W-1XGffY_wsY",
        "colab_type": "code",
        "outputId": "117a6bc4-f8f9-4b31-b65b-2d771c3bb755",
        "colab": {
          "base_uri": "https://localhost:8080/",
          "height": 128
        }
      },
      "source": [
        "from sklearn.linear_model import LogisticRegression\n",
        "\n",
        "# define the classifier\n",
        "clf_lr = LogisticRegression(solver='lbfgs', max_iter=1500, verbose=1, n_jobs=-1,multi_class='multinomial')\n",
        "\n",
        "# train the classifier\n",
        "t0 = time.time()\n",
        "clf_lr.fit(X_train, y_train)\n",
        "print(\"elapsed time = %.2f\" % (time.time()-t0))\n",
        "y_pred_lr = clf_lr.predict(X_test)"
      ],
      "execution_count": 0,
      "outputs": [
        {
          "output_type": "stream",
          "text": [
            "/usr/local/lib/python3.6/dist-packages/sklearn/utils/validation.py:724: DataConversionWarning: A column-vector y was passed when a 1d array was expected. Please change the shape of y to (n_samples, ), for example using ravel().\n",
            "  y = column_or_1d(y, warn=True)\n",
            "[Parallel(n_jobs=-1)]: Using backend LokyBackend with 2 concurrent workers.\n"
          ],
          "name": "stderr"
        },
        {
          "output_type": "stream",
          "text": [
            "elapsed time = 34.60\n"
          ],
          "name": "stdout"
        },
        {
          "output_type": "stream",
          "text": [
            "[Parallel(n_jobs=-1)]: Done   1 out of   1 | elapsed:   33.2s finished\n"
          ],
          "name": "stderr"
        }
      ]
    },
    {
      "cell_type": "markdown",
      "metadata": {
        "id": "7-QGWf20yq2Q",
        "colab_type": "text"
      },
      "source": [
        "- How well does the classifier perform in terms of accuracy on the TRAINING data?\n"
      ]
    },
    {
      "cell_type": "markdown",
      "metadata": {
        "id": "GH4v8gpwelbA",
        "colab_type": "text"
      },
      "source": [
        "A natural choice for a metric for classification is accuracy. Accuracy is equal to the number of observations you correctly classified over all observations. For example, if your model properly identified 77 out of 100 images, you have an accuracy of 77%. Accuracy is an easy metric to both understand and calculate. Mathematically, it is simply\n",
        "\n",
        "$$ \\frac{\\text{number of correct observations}}{\\text{number of observations}}.$$\n",
        "\n",
        "However, accuracy may not always be a good metric. Consider the case of disease detection where only 10% of the observations have the disease. A naive classifier that always predicts the majority class will achieve 90% accuracy. \n",
        "While the naive model correctly identifies everyone without the disease, it fails to identify any person with the disease. We need a metric that will tell us how well our model performs for a particular class."
      ]
    },
    {
      "cell_type": "markdown",
      "metadata": {
        "id": "-zmGcsGtezwM",
        "colab_type": "text"
      },
      "source": [
        "For the example of disease detection, we are more interested in determining our model's performance with regards to the class representing having the disease. Let's call this class  **positive** and not having the disease as **negative**. Particularly, we want to know what fraction of all positive predictions were correct and what fraction of positive observations did we identify. The two metrics that describe these values are precision and recall. Precision is the fraction of true positives over all positive predictions. It is a measure of how \"precise\" our model was with regards to labeling observations as positive. Recall, on the other hand, is equal to the fraction of true positives over all positive observations. It is a measure of our model's ability to \"catch\" and properly label observations that are positive.\n",
        "\n",
        "A confusion matrix is a table summarizing the performance of the model by enumerating true and false positives and the true and false negatives.\n",
        "\n",
        "|                     | Positive Observation     | Negative Observation    |\n",
        "|---------------------|:------------------------:|:-----------------------:|\n",
        "| Positive Prediction |     True Positive (TP)   | False Positive (FP)     |\n",
        "| Negative Prediction | False Negative (FN)      |     True Negative (TN)  |\n",
        "\n",
        "Given the definitions used earlier, the equation for precision and recall are\n",
        "\n",
        "$$ \\text{precision} = \\frac{\\text{TP}}{TP + FP}$$\n",
        "and\n",
        "$$ \\text{recall} = \\frac{\\text{TP}}{TP + FN}. $$\n",
        "\n",
        "Note, the difference between the metrics is their denominator. In our disease detection example, if we labeled 12 observations as positive but only 8 were actually true positives, our precision is 0.667. If our data set had 10 positive observations, since we correctly identified or \"recalled\" 8 of them, our recall is 0.8. If we had used the naive model that predicts the majority class, the recall would be 0 and our precision would be undefined."
      ]
    },
    {
      "cell_type": "markdown",
      "metadata": {
        "id": "3M2djZZMe6IA",
        "colab_type": "text"
      },
      "source": [
        "What is more important, precision or recall? The answer depends on the specifics of the problem. Having a model that prioritizes less false positives will have a higher precision and a model that aims to reduce the number of false negatives will have a higher recall. You must decide whether your model should prioritize reducing false positives or false negatives. It is often helpful to consider the cost, whether financial, societal, etc., of your model making false positives and false negatives."
      ]
    },
    {
      "cell_type": "code",
      "metadata": {
        "id": "uI18PvSs_wsY",
        "colab_type": "code",
        "outputId": "23b2d0e4-d6ba-4050-d24c-6e7cabce1c52",
        "colab": {
          "base_uri": "https://localhost:8080/",
          "height": 225
        }
      },
      "source": [
        "print(\"accuracy: {}\".format(metrics.accuracy_score(y_test, y_pred_lr)))\n",
        "print(\"precision: {:g}\".format(metrics.precision_score(y_test, y_pred_lr,average='macro')))\n",
        "print(\"recall: {:g}\".format(metrics.recall_score(y_test, y_pred_lr, average='macro')))\n",
        "print(metrics.classification_report(y_test, y_pred_lr))"
      ],
      "execution_count": 0,
      "outputs": [
        {
          "output_type": "error",
          "ename": "NameError",
          "evalue": "ignored",
          "traceback": [
            "\u001b[0;31m---------------------------------------------------------------------------\u001b[0m",
            "\u001b[0;31mNameError\u001b[0m                                 Traceback (most recent call last)",
            "\u001b[0;32m<ipython-input-25-7884ba0376b6>\u001b[0m in \u001b[0;36m<module>\u001b[0;34m()\u001b[0m\n\u001b[0;32m----> 1\u001b[0;31m \u001b[0mprint\u001b[0m\u001b[0;34m(\u001b[0m\u001b[0;34m\"accuracy: {}\"\u001b[0m\u001b[0;34m.\u001b[0m\u001b[0mformat\u001b[0m\u001b[0;34m(\u001b[0m\u001b[0mmetrics\u001b[0m\u001b[0;34m.\u001b[0m\u001b[0maccuracy_score\u001b[0m\u001b[0;34m(\u001b[0m\u001b[0my_test\u001b[0m\u001b[0;34m,\u001b[0m \u001b[0my_pred_lr\u001b[0m\u001b[0;34m)\u001b[0m\u001b[0;34m)\u001b[0m\u001b[0;34m)\u001b[0m\u001b[0;34m\u001b[0m\u001b[0;34m\u001b[0m\u001b[0m\n\u001b[0m\u001b[1;32m      2\u001b[0m \u001b[0mprint\u001b[0m\u001b[0;34m(\u001b[0m\u001b[0;34m\"precision: {:g}\"\u001b[0m\u001b[0;34m.\u001b[0m\u001b[0mformat\u001b[0m\u001b[0;34m(\u001b[0m\u001b[0mmetrics\u001b[0m\u001b[0;34m.\u001b[0m\u001b[0mprecision_score\u001b[0m\u001b[0;34m(\u001b[0m\u001b[0my_test\u001b[0m\u001b[0;34m,\u001b[0m \u001b[0my_pred_lr\u001b[0m\u001b[0;34m,\u001b[0m\u001b[0maverage\u001b[0m\u001b[0;34m=\u001b[0m\u001b[0;34m'macro'\u001b[0m\u001b[0;34m)\u001b[0m\u001b[0;34m)\u001b[0m\u001b[0;34m)\u001b[0m\u001b[0;34m\u001b[0m\u001b[0;34m\u001b[0m\u001b[0m\n\u001b[1;32m      3\u001b[0m \u001b[0mprint\u001b[0m\u001b[0;34m(\u001b[0m\u001b[0;34m\"recall: {:g}\"\u001b[0m\u001b[0;34m.\u001b[0m\u001b[0mformat\u001b[0m\u001b[0;34m(\u001b[0m\u001b[0mmetrics\u001b[0m\u001b[0;34m.\u001b[0m\u001b[0mrecall_score\u001b[0m\u001b[0;34m(\u001b[0m\u001b[0my_test\u001b[0m\u001b[0;34m,\u001b[0m \u001b[0my_pred_lr\u001b[0m\u001b[0;34m,\u001b[0m \u001b[0maverage\u001b[0m\u001b[0;34m=\u001b[0m\u001b[0;34m'macro'\u001b[0m\u001b[0;34m)\u001b[0m\u001b[0;34m)\u001b[0m\u001b[0;34m)\u001b[0m\u001b[0;34m\u001b[0m\u001b[0;34m\u001b[0m\u001b[0m\n\u001b[1;32m      4\u001b[0m \u001b[0mprint\u001b[0m\u001b[0;34m(\u001b[0m\u001b[0mmetrics\u001b[0m\u001b[0;34m.\u001b[0m\u001b[0mclassification_report\u001b[0m\u001b[0;34m(\u001b[0m\u001b[0my_test\u001b[0m\u001b[0;34m,\u001b[0m \u001b[0my_pred_lr\u001b[0m\u001b[0;34m)\u001b[0m\u001b[0;34m)\u001b[0m\u001b[0;34m\u001b[0m\u001b[0;34m\u001b[0m\u001b[0m\n",
            "\u001b[0;31mNameError\u001b[0m: name 'y_pred_lr' is not defined"
          ]
        }
      ]
    },
    {
      "cell_type": "markdown",
      "metadata": {
        "id": "WbMGxODayrug",
        "colab_type": "text"
      },
      "source": [
        "- Load data from the second week and use it as TEST data.\n"
      ]
    },
    {
      "cell_type": "code",
      "metadata": {
        "id": "oG6Owh2mysMM",
        "colab_type": "code",
        "outputId": "b85d54e5-51e8-45f5-d263-f980d618363d",
        "colab": {
          "base_uri": "https://localhost:8080/",
          "height": 352
        }
      },
      "source": [
        "# Download a file based on its file ID.\n",
        "#\n",
        "# A file ID looks like: laggVyWshwcyP6kEI-y_W3P8D26sz\n",
        "file_id = '1GlIcKxKYsSY9QfRINrGBSDtEhyOwWuMa'\n",
        "downloaded = drive.CreateFile({'id': file_id})\n",
        "downloaded.GetContentFile('CIDDS-001-internal-week2_10pcSample.csv')  \n",
        "df_test = pd.read_csv('CIDDS-001-internal-week2_10pcSample.csv',index_col=[0],dtype={'Bytes': object})\n",
        "df_test.head(5)"
      ],
      "execution_count": 0,
      "outputs": [
        {
          "output_type": "stream",
          "text": [
            "/usr/local/lib/python3.6/dist-packages/numpy/lib/arraysetops.py:568: FutureWarning: elementwise comparison failed; returning scalar instead, but in the future will perform elementwise comparison\n",
            "  mask |= (ar1 == a)\n"
          ],
          "name": "stderr"
        },
        {
          "output_type": "execute_result",
          "data": {
            "application/vnd.google.colaboratory.module+javascript": "\n      import \"https://ssl.gstatic.com/colaboratory/data_table/9e554b27bdd509f3/data_table.js\";\n\n      window.createDataTable({\n        data: [[{\n            'v': 12,\n            'f': \"12\",\n        },\n\"2017-03-22 00:00:11.767\",\n{\n            'v': 0.004,\n            'f': \"0.004\",\n        },\n\"TCP  \",\n\"192.168.220.5\",\n{\n            'v': 55126,\n            'f': \"55126\",\n        },\n\"192.168.100.5\",\n{\n            'v': 445.0,\n            'f': \"445.0\",\n        },\n{\n            'v': 2,\n            'f': \"2\",\n        },\n\"     174\",\n{\n            'v': 1,\n            'f': \"1\",\n        },\n\".AP...\",\n{\n            'v': 0,\n            'f': \"0\",\n        },\n\"normal\",\n\"---\",\n\"---\",\n\"---\"],\n [{\n            'v': 11,\n            'f': \"11\",\n        },\n\"2017-03-22 00:00:11.768\",\n{\n            'v': 0.0,\n            'f': \"0.0\",\n        },\n\"TCP  \",\n\"192.168.100.5\",\n{\n            'v': 445,\n            'f': \"445\",\n        },\n\"192.168.220.5\",\n{\n            'v': 55126.0,\n            'f': \"55126.0\",\n        },\n{\n            'v': 1,\n            'f': \"1\",\n        },\n\"     108\",\n{\n            'v': 1,\n            'f': \"1\",\n        },\n\".AP...\",\n{\n            'v': 0,\n            'f': \"0\",\n        },\n\"normal\",\n\"---\",\n\"---\",\n\"---\"],\n [{\n            'v': 29,\n            'f': \"29\",\n        },\n\"2017-03-22 00:00:27.207\",\n{\n            'v': 0.232,\n            'f': \"0.232\",\n        },\n\"TCP  \",\n\"192.168.200.8\",\n{\n            'v': 58749,\n            'f': \"58749\",\n        },\n\"EXT_SERVER\",\n{\n            'v': 8082.0,\n            'f': \"8082.0\",\n        },\n{\n            'v': 2,\n            'f': \"2\",\n        },\n\"     319\",\n{\n            'v': 1,\n            'f': \"1\",\n        },\n\".AP...\",\n{\n            'v': 0,\n            'f': \"0\",\n        },\n\"normal\",\n\"---\",\n\"---\",\n\"---\"],\n [{\n            'v': 36,\n            'f': \"36\",\n        },\n\"2017-03-22 00:00:32.830\",\n{\n            'v': 0.0,\n            'f': \"0.0\",\n        },\n\"UDP  \",\n\"192.168.210.5\",\n{\n            'v': 50947,\n            'f': \"50947\",\n        },\n\"DNS\",\n{\n            'v': 53.0,\n            'f': \"53.0\",\n        },\n{\n            'v': 1,\n            'f': \"1\",\n        },\n\"      81\",\n{\n            'v': 1,\n            'f': \"1\",\n        },\n\"......\",\n{\n            'v': 0,\n            'f': \"0\",\n        },\n\"normal\",\n\"---\",\n\"---\",\n\"---\"],\n [{\n            'v': 51,\n            'f': \"51\",\n        },\n\"2017-03-22 00:00:46.964\",\n{\n            'v': 0.0,\n            'f': \"0.0\",\n        },\n\"TCP  \",\n\"10179_174\",\n{\n            'v': 443,\n            'f': \"443\",\n        },\n\"192.168.210.5\",\n{\n            'v': 51433.0,\n            'f': \"51433.0\",\n        },\n{\n            'v': 1,\n            'f': \"1\",\n        },\n\"      54\",\n{\n            'v': 1,\n            'f': \"1\",\n        },\n\".A....\",\n{\n            'v': 32,\n            'f': \"32\",\n        },\n\"normal\",\n\"---\",\n\"---\",\n\"---\"]],\n        columns: [[\"number\", \"index\"], [\"string\", \"Date first seen\"], [\"number\", \"Duration\"], [\"string\", \"Proto\"], [\"string\", \"Src IP Addr\"], [\"number\", \"Src Pt\"], [\"string\", \"Dst IP Addr\"], [\"number\", \"Dst Pt\"], [\"number\", \"Packets\"], [\"string\", \"Bytes\"], [\"number\", \"Flows\"], [\"string\", \"Flags\"], [\"number\", \"Tos\"], [\"string\", \"class\"], [\"string\", \"attackType\"], [\"string\", \"attackID\"], [\"string\", \"attackDescription\"]],\n        columnOptions: [{\"width\": \"1px\", \"className\": \"index_column\"}],\n        rowsPerPage: 25,\n        helpUrl: \"https://colab.research.google.com/notebooks/data_table.ipynb\",\n      });\n    ",
            "text/html": [
              "<div>\n",
              "<style scoped>\n",
              "    .dataframe tbody tr th:only-of-type {\n",
              "        vertical-align: middle;\n",
              "    }\n",
              "\n",
              "    .dataframe tbody tr th {\n",
              "        vertical-align: top;\n",
              "    }\n",
              "\n",
              "    .dataframe thead th {\n",
              "        text-align: right;\n",
              "    }\n",
              "</style>\n",
              "<table border=\"1\" class=\"dataframe\">\n",
              "  <thead>\n",
              "    <tr style=\"text-align: right;\">\n",
              "      <th></th>\n",
              "      <th>Date first seen</th>\n",
              "      <th>Duration</th>\n",
              "      <th>Proto</th>\n",
              "      <th>Src IP Addr</th>\n",
              "      <th>Src Pt</th>\n",
              "      <th>Dst IP Addr</th>\n",
              "      <th>Dst Pt</th>\n",
              "      <th>Packets</th>\n",
              "      <th>Bytes</th>\n",
              "      <th>Flows</th>\n",
              "      <th>Flags</th>\n",
              "      <th>Tos</th>\n",
              "      <th>class</th>\n",
              "      <th>attackType</th>\n",
              "      <th>attackID</th>\n",
              "      <th>attackDescription</th>\n",
              "    </tr>\n",
              "  </thead>\n",
              "  <tbody>\n",
              "    <tr>\n",
              "      <th>12</th>\n",
              "      <td>2017-03-22 00:00:11.767</td>\n",
              "      <td>0.004</td>\n",
              "      <td>TCP</td>\n",
              "      <td>192.168.220.5</td>\n",
              "      <td>55126</td>\n",
              "      <td>192.168.100.5</td>\n",
              "      <td>445.0</td>\n",
              "      <td>2</td>\n",
              "      <td>174</td>\n",
              "      <td>1</td>\n",
              "      <td>.AP...</td>\n",
              "      <td>0</td>\n",
              "      <td>normal</td>\n",
              "      <td>---</td>\n",
              "      <td>---</td>\n",
              "      <td>---</td>\n",
              "    </tr>\n",
              "    <tr>\n",
              "      <th>11</th>\n",
              "      <td>2017-03-22 00:00:11.768</td>\n",
              "      <td>0.000</td>\n",
              "      <td>TCP</td>\n",
              "      <td>192.168.100.5</td>\n",
              "      <td>445</td>\n",
              "      <td>192.168.220.5</td>\n",
              "      <td>55126.0</td>\n",
              "      <td>1</td>\n",
              "      <td>108</td>\n",
              "      <td>1</td>\n",
              "      <td>.AP...</td>\n",
              "      <td>0</td>\n",
              "      <td>normal</td>\n",
              "      <td>---</td>\n",
              "      <td>---</td>\n",
              "      <td>---</td>\n",
              "    </tr>\n",
              "    <tr>\n",
              "      <th>29</th>\n",
              "      <td>2017-03-22 00:00:27.207</td>\n",
              "      <td>0.232</td>\n",
              "      <td>TCP</td>\n",
              "      <td>192.168.200.8</td>\n",
              "      <td>58749</td>\n",
              "      <td>EXT_SERVER</td>\n",
              "      <td>8082.0</td>\n",
              "      <td>2</td>\n",
              "      <td>319</td>\n",
              "      <td>1</td>\n",
              "      <td>.AP...</td>\n",
              "      <td>0</td>\n",
              "      <td>normal</td>\n",
              "      <td>---</td>\n",
              "      <td>---</td>\n",
              "      <td>---</td>\n",
              "    </tr>\n",
              "    <tr>\n",
              "      <th>36</th>\n",
              "      <td>2017-03-22 00:00:32.830</td>\n",
              "      <td>0.000</td>\n",
              "      <td>UDP</td>\n",
              "      <td>192.168.210.5</td>\n",
              "      <td>50947</td>\n",
              "      <td>DNS</td>\n",
              "      <td>53.0</td>\n",
              "      <td>1</td>\n",
              "      <td>81</td>\n",
              "      <td>1</td>\n",
              "      <td>......</td>\n",
              "      <td>0</td>\n",
              "      <td>normal</td>\n",
              "      <td>---</td>\n",
              "      <td>---</td>\n",
              "      <td>---</td>\n",
              "    </tr>\n",
              "    <tr>\n",
              "      <th>51</th>\n",
              "      <td>2017-03-22 00:00:46.964</td>\n",
              "      <td>0.000</td>\n",
              "      <td>TCP</td>\n",
              "      <td>10179_174</td>\n",
              "      <td>443</td>\n",
              "      <td>192.168.210.5</td>\n",
              "      <td>51433.0</td>\n",
              "      <td>1</td>\n",
              "      <td>54</td>\n",
              "      <td>1</td>\n",
              "      <td>.A....</td>\n",
              "      <td>32</td>\n",
              "      <td>normal</td>\n",
              "      <td>---</td>\n",
              "      <td>---</td>\n",
              "      <td>---</td>\n",
              "    </tr>\n",
              "  </tbody>\n",
              "</table>\n",
              "</div>"
            ],
            "text/plain": [
              "            Date first seen  Duration  ... attackID attackDescription\n",
              "12  2017-03-22 00:00:11.767     0.004  ...      ---               ---\n",
              "11  2017-03-22 00:00:11.768     0.000  ...      ---               ---\n",
              "29  2017-03-22 00:00:27.207     0.232  ...      ---               ---\n",
              "36  2017-03-22 00:00:32.830     0.000  ...      ---               ---\n",
              "51  2017-03-22 00:00:46.964     0.000  ...      ---               ---\n",
              "\n",
              "[5 rows x 16 columns]"
            ]
          },
          "metadata": {
            "tags": []
          },
          "execution_count": 6
        }
      ]
    },
    {
      "cell_type": "code",
      "metadata": {
        "id": "q2iiQec9GscI",
        "colab_type": "code",
        "colab": {}
      },
      "source": [
        "y_pred_lr_test = clf_lr.predict(df_test[['Duration', 'Packets']])"
      ],
      "execution_count": 0,
      "outputs": []
    },
    {
      "cell_type": "markdown",
      "metadata": {
        "id": "4iwFINuRysgg",
        "colab_type": "text"
      },
      "source": [
        "- How well does the classifier perform (in terms of accuracy) on the TEST data?\n"
      ]
    },
    {
      "cell_type": "code",
      "metadata": {
        "id": "KS9ythIdys38",
        "colab_type": "code",
        "outputId": "0dddaf46-88bc-49a4-de01-92b457e8cbf0",
        "colab": {
          "base_uri": "https://localhost:8080/",
          "height": 346
        }
      },
      "source": [
        "print(\"accuracy: {}\".format(metrics.accuracy_score(df_test[['class']], y_pred_lr_test)))\n",
        "print(\"precision: {:g}\".format(metrics.precision_score(df_test[['class']], y_pred_lr_test,average='macro')))\n",
        "print(\"recall: {:g}\".format(metrics.recall_score(df_test[['class']], y_pred_lr_test, average='macro')))\n",
        "print(metrics.classification_report(df_test[['class']], y_pred_lr_test))"
      ],
      "execution_count": 0,
      "outputs": [
        {
          "output_type": "stream",
          "text": [
            "accuracy: 0.8261257932270557\n"
          ],
          "name": "stdout"
        },
        {
          "output_type": "stream",
          "text": [
            "/usr/local/lib/python3.6/dist-packages/sklearn/metrics/classification.py:1437: UndefinedMetricWarning: Precision is ill-defined and being set to 0.0 in labels with no predicted samples.\n",
            "  'precision', 'predicted', average, warn_for)\n"
          ],
          "name": "stderr"
        },
        {
          "output_type": "stream",
          "text": [
            "precision: 0.275377\n",
            "recall: 0.333331\n"
          ],
          "name": "stdout"
        },
        {
          "output_type": "stream",
          "text": [
            "/usr/local/lib/python3.6/dist-packages/sklearn/metrics/classification.py:1437: UndefinedMetricWarning: Precision and F-score are ill-defined and being set to 0.0 in labels with no predicted samples.\n",
            "  'precision', 'predicted', average, warn_for)\n"
          ],
          "name": "stderr"
        },
        {
          "output_type": "stream",
          "text": [
            "              precision    recall  f1-score   support\n",
            "\n",
            "    attacker       0.00      0.00      0.00     91009\n",
            "      normal       0.83      1.00      0.90    851802\n",
            "      victim       0.00      0.00      0.00     88262\n",
            "\n",
            "    accuracy                           0.83   1031073\n",
            "   macro avg       0.28      0.33      0.30   1031073\n",
            "weighted avg       0.68      0.83      0.75   1031073\n",
            "\n"
          ],
          "name": "stdout"
        }
      ]
    },
    {
      "cell_type": "markdown",
      "metadata": {
        "id": "dlKDOnzGy1o4",
        "colab_type": "text"
      },
      "source": [
        "- Is that performance good? Print out confusion matrices to better understand the results."
      ]
    },
    {
      "cell_type": "code",
      "metadata": {
        "id": "3fub5Goby1-w",
        "colab_type": "code",
        "outputId": "23b261a3-ea62-46ef-925d-be27eb4d44bf",
        "colab": {
          "base_uri": "https://localhost:8080/",
          "height": 72
        }
      },
      "source": [
        "metrics.confusion_matrix(df_test[['class']], y_pred_lr_test)\n"
      ],
      "execution_count": 0,
      "outputs": [
        {
          "output_type": "execute_result",
          "data": {
            "text/plain": [
              "array([[     0,  91009,      0],\n",
              "       [     6, 851796,      0],\n",
              "       [     0,  88262,      0]])"
            ]
          },
          "metadata": {
            "tags": []
          },
          "execution_count": 29
        }
      ]
    },
    {
      "cell_type": "markdown",
      "metadata": {
        "id": "A_XfZtMg-W9M",
        "colab_type": "text"
      },
      "source": [
        "Now let's optimize a bit this model. "
      ]
    },
    {
      "cell_type": "code",
      "metadata": {
        "id": "gxCExNPhuIwA",
        "colab_type": "code",
        "colab": {}
      },
      "source": [
        "df['Bytes']= df['Bytes'].apply(lambda r: float(r) if 'M' not in r else float(r.replace('M',''))*1000000)"
      ],
      "execution_count": 0,
      "outputs": []
    },
    {
      "cell_type": "code",
      "metadata": {
        "id": "xV2KL3IGs6tU",
        "colab_type": "code",
        "colab": {}
      },
      "source": [
        "df_test['Bytes']= df_test['Bytes'].apply(lambda r: float(r) if 'M' not in r else float(r.replace('M',''))*1000000)"
      ],
      "execution_count": 0,
      "outputs": []
    },
    {
      "cell_type": "code",
      "metadata": {
        "id": "B3RF5PZ0-QSo",
        "colab_type": "code",
        "outputId": "4213b472-51b8-4c54-fd8b-c244bcb0f794",
        "colab": {
          "base_uri": "https://localhost:8080/",
          "height": 509
        }
      },
      "source": [
        "from sklearn.model_selection import GridSearchCV\n",
        "from sklearn.pipeline import Pipeline\n",
        "from sklearn.linear_model import LogisticRegression\n",
        "\n",
        "# define the classifier\n",
        "clf_lr_op = LogisticRegression(solver='lbfgs', verbose=1, n_jobs=-1, multi_class='multinomial')\n",
        "\n",
        "X_train,  X_test, y_train, y_test = train_test_split(\n",
        "    df[['Duration', 'Packets', 'Bytes']],  \n",
        "    df[['class']], \n",
        "    test_size=0.20\n",
        ")\n",
        "\n",
        "pipe = Pipeline(steps=[('clf_lr_op', clf_lr_op)])\n",
        "param_grid = {\n",
        "    'clf_lr_op__max_iter': [50, 100, 1000]\n",
        "}\n",
        "t0 = time.time()\n",
        "searchLR = GridSearchCV(pipe, param_grid, iid=False, cv=3, verbose=True, n_jobs=-1)\n",
        "searchLR.fit(X_train, y_train)\n",
        "print(\"elapsed time = %.2f\" % (time.time()-t0))\n",
        "print(searchLR.best_params_)\n",
        "trainedLR = searchLR.best_estimator_.get_params()['clf_lr_op']\n",
        "y_pred_LR = trainedLR.predict(X_test)\n",
        "\n",
        "print(\"accuracy: {}\".format(metrics.accuracy_score(y_test, y_pred_LR)))\n",
        "print(\"precision: {:g}\".format(metrics.precision_score(y_test, y_pred_LR,average='macro')))\n",
        "print(\"recall: {:g}\".format(metrics.recall_score(y_test, y_pred_LR, average='macro')))\n",
        "print(metrics.classification_report(y_test, y_pred_LR))"
      ],
      "execution_count": 0,
      "outputs": [
        {
          "output_type": "stream",
          "text": [
            "Fitting 3 folds for each of 3 candidates, totalling 9 fits\n"
          ],
          "name": "stdout"
        },
        {
          "output_type": "stream",
          "text": [
            "[Parallel(n_jobs=-1)]: Using backend LokyBackend with 2 concurrent workers.\n",
            "[Parallel(n_jobs=-1)]: Done   9 out of   9 | elapsed:  3.1min finished\n",
            "/usr/local/lib/python3.6/dist-packages/sklearn/utils/validation.py:724: DataConversionWarning: A column-vector y was passed when a 1d array was expected. Please change the shape of y to (n_samples, ), for example using ravel().\n",
            "  y = column_or_1d(y, warn=True)\n",
            "[Parallel(n_jobs=-1)]: Using backend LokyBackend with 2 concurrent workers.\n",
            "[Parallel(n_jobs=-1)]: Done   1 out of   1 | elapsed:   28.7s finished\n"
          ],
          "name": "stderr"
        },
        {
          "output_type": "stream",
          "text": [
            "elapsed time = 215.87\n",
            "{'clf_lr_op__max_iter': 50}\n",
            "accuracy: 0.8283746768344268\n"
          ],
          "name": "stdout"
        },
        {
          "output_type": "stream",
          "text": [
            "/usr/local/lib/python3.6/dist-packages/sklearn/metrics/classification.py:1437: UndefinedMetricWarning: Precision is ill-defined and being set to 0.0 in labels with no predicted samples.\n",
            "  'precision', 'predicted', average, warn_for)\n"
          ],
          "name": "stderr"
        },
        {
          "output_type": "stream",
          "text": [
            "precision: 0.276151\n",
            "recall: 0.333295\n"
          ],
          "name": "stdout"
        },
        {
          "output_type": "stream",
          "text": [
            "/usr/local/lib/python3.6/dist-packages/sklearn/metrics/classification.py:1437: UndefinedMetricWarning: Precision and F-score are ill-defined and being set to 0.0 in labels with no predicted samples.\n",
            "  'precision', 'predicted', average, warn_for)\n"
          ],
          "name": "stderr"
        },
        {
          "output_type": "stream",
          "text": [
            "              precision    recall  f1-score   support\n",
            "\n",
            "    attacker       0.00      0.00      0.00     15068\n",
            "      normal       0.83      1.00      0.91    140037\n",
            "      victim       0.00      0.00      0.00     13926\n",
            "\n",
            "    accuracy                           0.83    169031\n",
            "   macro avg       0.28      0.33      0.30    169031\n",
            "weighted avg       0.69      0.83      0.75    169031\n",
            "\n"
          ],
          "name": "stdout"
        }
      ]
    },
    {
      "cell_type": "markdown",
      "metadata": {
        "id": "R_3GsKjv_wsY",
        "colab_type": "text"
      },
      "source": [
        "### Compare performance across different classifiers:\n",
        "- Try a Decision Tree and a Random Forest. Does the performance improve? Why?\n"
      ]
    },
    {
      "cell_type": "code",
      "metadata": {
        "id": "YsA6x157_wsY",
        "colab_type": "code",
        "outputId": "06cd704d-da03-48f9-c9a6-2034466bf2ad",
        "colab": {
          "base_uri": "https://localhost:8080/",
          "height": 1000
        }
      },
      "source": [
        "!pip install graphviz\n",
        "import graphviz\n",
        "from sklearn.tree import DecisionTreeClassifier, export_graphviz\n",
        "\n",
        "X_train,  X_test, y_train, y_test = train_test_split( \n",
        "    df[['Duration', 'Packets', 'Bytes']],  \n",
        "    df[['class']], \n",
        "    test_size=0.20\n",
        ")\n",
        "\n",
        "# define the classifier\n",
        "clf_dt = DecisionTreeClassifier(max_depth=3)\n",
        "\n",
        "# train the classifier\n",
        "t0 = time.time()\n",
        "clf_dt.fit(X_train, y_train)\n",
        "print(\"elapsed time = %.2f\" % (time.time()-t0))\n",
        "\n",
        "# perform the prediction\n",
        "y_pred_dt = clf_dt.predict(X_test)\n",
        "\n",
        "\n",
        "print(\"accuracy: {}\".format(metrics.accuracy_score(y_test, y_pred_dt)))\n",
        "print(\"precision: {:g}\".format(metrics.precision_score(y_test, y_pred_dt,average='macro')))\n",
        "print(\"recall: {:g}\".format(metrics.recall_score(y_test, y_pred_dt, average='macro')))\n",
        "print(metrics.classification_report(y_test, y_pred_dt))\n",
        "\n",
        "y_pred_dt = clf_dt.predict(df_test[['Duration', 'Packets', 'Bytes']])\n",
        "print(\"accuracy: {}\".format(metrics.accuracy_score(df_test[['class']], y_pred_dt)))\n",
        "print(\"precision: {:g}\".format(metrics.precision_score(df_test[['class']], y_pred_dt,average='macro')))\n",
        "print(\"recall: {:g}\".format(metrics.recall_score(df_test[['class']], y_pred_dt, average='macro')))\n",
        "print(metrics.classification_report(df_test[['class']], y_pred_dt))\n",
        "\n",
        "# visual tree\n",
        "from sklearn import tree\n",
        "graphviz.Source(export_graphviz(clf_dt, \n",
        "                                out_file=None,\n",
        "                                feature_names=list(X_train.columns.values)))"
      ],
      "execution_count": 0,
      "outputs": [
        {
          "output_type": "stream",
          "text": [
            "Requirement already satisfied: graphviz in /usr/local/lib/python3.6/dist-packages (0.10.1)\n",
            "elapsed time = 1.61\n",
            "accuracy: 0.9760458140814406\n",
            "precision: 0.943489\n",
            "recall: 0.950233\n",
            "              precision    recall  f1-score   support\n",
            "\n",
            "    attacker       0.97      0.97      0.97     14955\n",
            "      normal       0.99      0.98      0.99    140208\n",
            "      victim       0.87      0.89      0.88     13868\n",
            "\n",
            "    accuracy                           0.98    169031\n",
            "   macro avg       0.94      0.95      0.95    169031\n",
            "weighted avg       0.98      0.98      0.98    169031\n",
            "\n",
            "accuracy: 0.9812729069619707\n",
            "precision: 0.949505\n",
            "recall: 0.973936\n",
            "              precision    recall  f1-score   support\n",
            "\n",
            "    attacker       0.98      0.98      0.98     91009\n",
            "      normal       0.99      0.98      0.99    851802\n",
            "      victim       0.88      0.96      0.92     88262\n",
            "\n",
            "    accuracy                           0.98   1031073\n",
            "   macro avg       0.95      0.97      0.96   1031073\n",
            "weighted avg       0.98      0.98      0.98   1031073\n",
            "\n"
          ],
          "name": "stdout"
        },
        {
          "output_type": "execute_result",
          "data": {
            "text/plain": [
              "<graphviz.files.Source at 0x7f5ed151f908>"
            ],
            "image/svg+xml": "<?xml version=\"1.0\" encoding=\"UTF-8\" standalone=\"no\"?>\n<!DOCTYPE svg PUBLIC \"-//W3C//DTD SVG 1.1//EN\"\n \"http://www.w3.org/Graphics/SVG/1.1/DTD/svg11.dtd\">\n<!-- Generated by graphviz version 2.40.1 (20161225.0304)\n -->\n<!-- Title: Tree Pages: 1 -->\n<svg width=\"1438pt\" height=\"373pt\"\n viewBox=\"0.00 0.00 1438.00 373.00\" xmlns=\"http://www.w3.org/2000/svg\" xmlns:xlink=\"http://www.w3.org/1999/xlink\">\n<g id=\"graph0\" class=\"graph\" transform=\"scale(1 1) rotate(0) translate(4 369)\">\n<title>Tree</title>\n<polygon fill=\"#ffffff\" stroke=\"transparent\" points=\"-4,4 -4,-369 1434,-369 1434,4 -4,4\"/>\n<!-- 0 -->\n<g id=\"node1\" class=\"node\">\n<title>0</title>\n<polygon fill=\"none\" stroke=\"#000000\" points=\"809,-365 602,-365 602,-297 809,-297 809,-365\"/>\n<text text-anchor=\"middle\" x=\"705.5\" y=\"-349.8\" font-family=\"Times,serif\" font-size=\"14.00\" fill=\"#000000\">Packets &lt;= 2.5</text>\n<text text-anchor=\"middle\" x=\"705.5\" y=\"-334.8\" font-family=\"Times,serif\" font-size=\"14.00\" fill=\"#000000\">gini = 0.299</text>\n<text text-anchor=\"middle\" x=\"705.5\" y=\"-319.8\" font-family=\"Times,serif\" font-size=\"14.00\" fill=\"#000000\">samples = 676121</text>\n<text text-anchor=\"middle\" x=\"705.5\" y=\"-304.8\" font-family=\"Times,serif\" font-size=\"14.00\" fill=\"#000000\">value = [60169, 560305, 55647]</text>\n</g>\n<!-- 1 -->\n<g id=\"node2\" class=\"node\">\n<title>1</title>\n<polygon fill=\"none\" stroke=\"#000000\" points=\"631.5,-261 439.5,-261 439.5,-193 631.5,-193 631.5,-261\"/>\n<text text-anchor=\"middle\" x=\"535.5\" y=\"-245.8\" font-family=\"Times,serif\" font-size=\"14.00\" fill=\"#000000\">Bytes &lt;= 60.0</text>\n<text text-anchor=\"middle\" x=\"535.5\" y=\"-230.8\" font-family=\"Times,serif\" font-size=\"14.00\" fill=\"#000000\">gini = 0.068</text>\n<text text-anchor=\"middle\" x=\"535.5\" y=\"-215.8\" font-family=\"Times,serif\" font-size=\"14.00\" fill=\"#000000\">samples = 433310</text>\n<text text-anchor=\"middle\" x=\"535.5\" y=\"-200.8\" font-family=\"Times,serif\" font-size=\"14.00\" fill=\"#000000\">value = [9769, 418074, 5467]</text>\n</g>\n<!-- 0&#45;&gt;1 -->\n<g id=\"edge1\" class=\"edge\">\n<title>0&#45;&gt;1</title>\n<path fill=\"none\" stroke=\"#000000\" d=\"M649.8356,-296.9465C633.9851,-287.2497 616.5832,-276.6039 600.2421,-266.6069\"/>\n<polygon fill=\"#000000\" stroke=\"#000000\" points=\"601.6463,-263.363 591.2894,-261.13 597.9933,-269.3342 601.6463,-263.363\"/>\n<text text-anchor=\"middle\" x=\"597.1439\" y=\"-281.7348\" font-family=\"Times,serif\" font-size=\"14.00\" fill=\"#000000\">True</text>\n</g>\n<!-- 8 -->\n<g id=\"node9\" class=\"node\">\n<title>8</title>\n<polygon fill=\"none\" stroke=\"#000000\" points=\"992,-261 785,-261 785,-193 992,-193 992,-261\"/>\n<text text-anchor=\"middle\" x=\"888.5\" y=\"-245.8\" font-family=\"Times,serif\" font-size=\"14.00\" fill=\"#000000\">Duration &lt;= 0.013</text>\n<text text-anchor=\"middle\" x=\"888.5\" y=\"-230.8\" font-family=\"Times,serif\" font-size=\"14.00\" fill=\"#000000\">gini = 0.571</text>\n<text text-anchor=\"middle\" x=\"888.5\" y=\"-215.8\" font-family=\"Times,serif\" font-size=\"14.00\" fill=\"#000000\">samples = 242811</text>\n<text text-anchor=\"middle\" x=\"888.5\" y=\"-200.8\" font-family=\"Times,serif\" font-size=\"14.00\" fill=\"#000000\">value = [50400, 142231, 50180]</text>\n</g>\n<!-- 0&#45;&gt;8 -->\n<g id=\"edge8\" class=\"edge\">\n<title>0&#45;&gt;8</title>\n<path fill=\"none\" stroke=\"#000000\" d=\"M765.421,-296.9465C782.6417,-287.1599 801.5633,-276.4066 819.2954,-266.3294\"/>\n<polygon fill=\"#000000\" stroke=\"#000000\" points=\"821.4796,-269.1139 828.4443,-261.13 818.0209,-263.028 821.4796,-269.1139\"/>\n<text text-anchor=\"middle\" x=\"821.8096\" y=\"-281.5335\" font-family=\"Times,serif\" font-size=\"14.00\" fill=\"#000000\">False</text>\n</g>\n<!-- 2 -->\n<g id=\"node3\" class=\"node\">\n<title>2</title>\n<polygon fill=\"none\" stroke=\"#000000\" points=\"368,-157 183,-157 183,-89 368,-89 368,-157\"/>\n<text text-anchor=\"middle\" x=\"275.5\" y=\"-141.8\" font-family=\"Times,serif\" font-size=\"14.00\" fill=\"#000000\">Bytes &lt;= 57.5</text>\n<text text-anchor=\"middle\" x=\"275.5\" y=\"-126.8\" font-family=\"Times,serif\" font-size=\"14.00\" fill=\"#000000\">gini = 0.379</text>\n<text text-anchor=\"middle\" x=\"275.5\" y=\"-111.8\" font-family=\"Times,serif\" font-size=\"14.00\" fill=\"#000000\">samples = 62640</text>\n<text text-anchor=\"middle\" x=\"275.5\" y=\"-96.8\" font-family=\"Times,serif\" font-size=\"14.00\" fill=\"#000000\">value = [9156, 48233, 5251]</text>\n</g>\n<!-- 1&#45;&gt;2 -->\n<g id=\"edge2\" class=\"edge\">\n<title>1&#45;&gt;2</title>\n<path fill=\"none\" stroke=\"#000000\" d=\"M450.3663,-192.9465C424.7775,-182.711 396.5452,-171.4181 370.3677,-160.9471\"/>\n<polygon fill=\"#000000\" stroke=\"#000000\" points=\"371.4097,-157.5943 360.825,-157.13 368.8099,-164.0936 371.4097,-157.5943\"/>\n</g>\n<!-- 5 -->\n<g id=\"node6\" class=\"node\">\n<title>5</title>\n<polygon fill=\"none\" stroke=\"#000000\" points=\"624,-157 447,-157 447,-89 624,-89 624,-157\"/>\n<text text-anchor=\"middle\" x=\"535.5\" y=\"-141.8\" font-family=\"Times,serif\" font-size=\"14.00\" fill=\"#000000\">Duration &lt;= 0.398</text>\n<text text-anchor=\"middle\" x=\"535.5\" y=\"-126.8\" font-family=\"Times,serif\" font-size=\"14.00\" fill=\"#000000\">gini = 0.004</text>\n<text text-anchor=\"middle\" x=\"535.5\" y=\"-111.8\" font-family=\"Times,serif\" font-size=\"14.00\" fill=\"#000000\">samples = 370670</text>\n<text text-anchor=\"middle\" x=\"535.5\" y=\"-96.8\" font-family=\"Times,serif\" font-size=\"14.00\" fill=\"#000000\">value = [613, 369841, 216]</text>\n</g>\n<!-- 1&#45;&gt;5 -->\n<g id=\"edge5\" class=\"edge\">\n<title>1&#45;&gt;5</title>\n<path fill=\"none\" stroke=\"#000000\" d=\"M535.5,-192.9465C535.5,-184.776 535.5,-175.9318 535.5,-167.3697\"/>\n<polygon fill=\"#000000\" stroke=\"#000000\" points=\"539.0001,-167.13 535.5,-157.13 532.0001,-167.13 539.0001,-167.13\"/>\n</g>\n<!-- 3 -->\n<g id=\"node4\" class=\"node\">\n<title>3</title>\n<polygon fill=\"none\" stroke=\"#000000\" points=\"177,-53 0,-53 0,0 177,0 177,-53\"/>\n<text text-anchor=\"middle\" x=\"88.5\" y=\"-37.8\" font-family=\"Times,serif\" font-size=\"14.00\" fill=\"#000000\">gini = 0.188</text>\n<text text-anchor=\"middle\" x=\"88.5\" y=\"-22.8\" font-family=\"Times,serif\" font-size=\"14.00\" fill=\"#000000\">samples = 53347</text>\n<text text-anchor=\"middle\" x=\"88.5\" y=\"-7.8\" font-family=\"Times,serif\" font-size=\"14.00\" fill=\"#000000\">value = [545, 47802, 5000]</text>\n</g>\n<!-- 2&#45;&gt;3 -->\n<g id=\"edge3\" class=\"edge\">\n<title>2&#45;&gt;3</title>\n<path fill=\"none\" stroke=\"#000000\" d=\"M209.5708,-88.9777C189.8722,-78.8124 168.3806,-67.7218 149.0451,-57.7439\"/>\n<polygon fill=\"#000000\" stroke=\"#000000\" points=\"150.5281,-54.5706 140.0365,-53.095 147.318,-60.7912 150.5281,-54.5706\"/>\n</g>\n<!-- 4 -->\n<g id=\"node5\" class=\"node\">\n<title>4</title>\n<polygon fill=\"none\" stroke=\"#000000\" points=\"356,-53 195,-53 195,0 356,0 356,-53\"/>\n<text text-anchor=\"middle\" x=\"275.5\" y=\"-37.8\" font-family=\"Times,serif\" font-size=\"14.00\" fill=\"#000000\">gini = 0.139</text>\n<text text-anchor=\"middle\" x=\"275.5\" y=\"-22.8\" font-family=\"Times,serif\" font-size=\"14.00\" fill=\"#000000\">samples = 9293</text>\n<text text-anchor=\"middle\" x=\"275.5\" y=\"-7.8\" font-family=\"Times,serif\" font-size=\"14.00\" fill=\"#000000\">value = [8611, 431, 251]</text>\n</g>\n<!-- 2&#45;&gt;4 -->\n<g id=\"edge4\" class=\"edge\">\n<title>2&#45;&gt;4</title>\n<path fill=\"none\" stroke=\"#000000\" d=\"M275.5,-88.9777C275.5,-80.7364 275.5,-71.887 275.5,-63.5153\"/>\n<polygon fill=\"#000000\" stroke=\"#000000\" points=\"279.0001,-63.2484 275.5,-53.2485 272.0001,-63.2485 279.0001,-63.2484\"/>\n</g>\n<!-- 6 -->\n<g id=\"node7\" class=\"node\">\n<title>6</title>\n<polygon fill=\"none\" stroke=\"#000000\" points=\"551,-53 374,-53 374,0 551,0 551,-53\"/>\n<text text-anchor=\"middle\" x=\"462.5\" y=\"-37.8\" font-family=\"Times,serif\" font-size=\"14.00\" fill=\"#000000\">gini = 0.004</text>\n<text text-anchor=\"middle\" x=\"462.5\" y=\"-22.8\" font-family=\"Times,serif\" font-size=\"14.00\" fill=\"#000000\">samples = 367652</text>\n<text text-anchor=\"middle\" x=\"462.5\" y=\"-7.8\" font-family=\"Times,serif\" font-size=\"14.00\" fill=\"#000000\">value = [492, 366946, 214]</text>\n</g>\n<!-- 5&#45;&gt;6 -->\n<g id=\"edge6\" class=\"edge\">\n<title>5&#45;&gt;6</title>\n<path fill=\"none\" stroke=\"#000000\" d=\"M509.7629,-88.9777C502.9744,-80.0039 495.6404,-70.3089 488.8216,-61.295\"/>\n<polygon fill=\"#000000\" stroke=\"#000000\" points=\"491.559,-59.1121 482.7346,-53.2485 485.9763,-63.3352 491.559,-59.1121\"/>\n</g>\n<!-- 7 -->\n<g id=\"node8\" class=\"node\">\n<title>7</title>\n<polygon fill=\"none\" stroke=\"#000000\" points=\"716,-53 569,-53 569,0 716,0 716,-53\"/>\n<text text-anchor=\"middle\" x=\"642.5\" y=\"-37.8\" font-family=\"Times,serif\" font-size=\"14.00\" fill=\"#000000\">gini = 0.078</text>\n<text text-anchor=\"middle\" x=\"642.5\" y=\"-22.8\" font-family=\"Times,serif\" font-size=\"14.00\" fill=\"#000000\">samples = 3018</text>\n<text text-anchor=\"middle\" x=\"642.5\" y=\"-7.8\" font-family=\"Times,serif\" font-size=\"14.00\" fill=\"#000000\">value = [121, 2895, 2]</text>\n</g>\n<!-- 5&#45;&gt;7 -->\n<g id=\"edge7\" class=\"edge\">\n<title>5&#45;&gt;7</title>\n<path fill=\"none\" stroke=\"#000000\" d=\"M573.2242,-88.9777C583.5806,-79.6376 594.8031,-69.5163 605.139,-60.1947\"/>\n<polygon fill=\"#000000\" stroke=\"#000000\" points=\"607.7591,-62.5449 612.8411,-53.2485 603.0709,-57.3467 607.7591,-62.5449\"/>\n</g>\n<!-- 9 -->\n<g id=\"node10\" class=\"node\">\n<title>9</title>\n<polygon fill=\"none\" stroke=\"#000000\" points=\"984.5,-157 792.5,-157 792.5,-89 984.5,-89 984.5,-157\"/>\n<text text-anchor=\"middle\" x=\"888.5\" y=\"-141.8\" font-family=\"Times,serif\" font-size=\"14.00\" fill=\"#000000\">Packets &lt;= 4.5</text>\n<text text-anchor=\"middle\" x=\"888.5\" y=\"-126.8\" font-family=\"Times,serif\" font-size=\"14.00\" fill=\"#000000\">gini = 0.567</text>\n<text text-anchor=\"middle\" x=\"888.5\" y=\"-111.8\" font-family=\"Times,serif\" font-size=\"14.00\" fill=\"#000000\">samples = 108042</text>\n<text text-anchor=\"middle\" x=\"888.5\" y=\"-96.8\" font-family=\"Times,serif\" font-size=\"14.00\" fill=\"#000000\">value = [49977, 8136, 49929]</text>\n</g>\n<!-- 8&#45;&gt;9 -->\n<g id=\"edge9\" class=\"edge\">\n<title>8&#45;&gt;9</title>\n<path fill=\"none\" stroke=\"#000000\" d=\"M888.5,-192.9465C888.5,-184.776 888.5,-175.9318 888.5,-167.3697\"/>\n<polygon fill=\"#000000\" stroke=\"#000000\" points=\"892.0001,-167.13 888.5,-157.13 885.0001,-167.13 892.0001,-167.13\"/>\n</g>\n<!-- 12 -->\n<g id=\"node13\" class=\"node\">\n<title>12</title>\n<polygon fill=\"none\" stroke=\"#000000\" points=\"1253,-157 1076,-157 1076,-89 1253,-89 1253,-157\"/>\n<text text-anchor=\"middle\" x=\"1164.5\" y=\"-141.8\" font-family=\"Times,serif\" font-size=\"14.00\" fill=\"#000000\">Duration &lt;= 0.015</text>\n<text text-anchor=\"middle\" x=\"1164.5\" y=\"-126.8\" font-family=\"Times,serif\" font-size=\"14.00\" fill=\"#000000\">gini = 0.01</text>\n<text text-anchor=\"middle\" x=\"1164.5\" y=\"-111.8\" font-family=\"Times,serif\" font-size=\"14.00\" fill=\"#000000\">samples = 134769</text>\n<text text-anchor=\"middle\" x=\"1164.5\" y=\"-96.8\" font-family=\"Times,serif\" font-size=\"14.00\" fill=\"#000000\">value = [423, 134095, 251]</text>\n</g>\n<!-- 8&#45;&gt;12 -->\n<g id=\"edge12\" class=\"edge\">\n<title>8&#45;&gt;12</title>\n<path fill=\"none\" stroke=\"#000000\" d=\"M978.8727,-192.9465C1006.8395,-182.4083 1037.7808,-170.7492 1066.2537,-160.0203\"/>\n<polygon fill=\"#000000\" stroke=\"#000000\" points=\"1067.6837,-163.2218 1075.8072,-156.4205 1065.2153,-156.6714 1067.6837,-163.2218\"/>\n</g>\n<!-- 10 -->\n<g id=\"node11\" class=\"node\">\n<title>10</title>\n<polygon fill=\"none\" stroke=\"#000000\" points=\"896.5,-53 734.5,-53 734.5,0 896.5,0 896.5,-53\"/>\n<text text-anchor=\"middle\" x=\"815.5\" y=\"-37.8\" font-family=\"Times,serif\" font-size=\"14.00\" fill=\"#000000\">gini = 0.222</text>\n<text text-anchor=\"middle\" x=\"815.5\" y=\"-22.8\" font-family=\"Times,serif\" font-size=\"14.00\" fill=\"#000000\">samples = 57182</text>\n<text text-anchor=\"middle\" x=\"815.5\" y=\"-7.8\" font-family=\"Times,serif\" font-size=\"14.00\" fill=\"#000000\">value = [9, 7261, 49912]</text>\n</g>\n<!-- 9&#45;&gt;10 -->\n<g id=\"edge10\" class=\"edge\">\n<title>9&#45;&gt;10</title>\n<path fill=\"none\" stroke=\"#000000\" d=\"M862.7629,-88.9777C855.9744,-80.0039 848.6404,-70.3089 841.8216,-61.295\"/>\n<polygon fill=\"#000000\" stroke=\"#000000\" points=\"844.559,-59.1121 835.7346,-53.2485 838.9763,-63.3352 844.559,-59.1121\"/>\n</g>\n<!-- 11 -->\n<g id=\"node12\" class=\"node\">\n<title>11</title>\n<polygon fill=\"none\" stroke=\"#000000\" points=\"1076.5,-53 914.5,-53 914.5,0 1076.5,0 1076.5,-53\"/>\n<text text-anchor=\"middle\" x=\"995.5\" y=\"-37.8\" font-family=\"Times,serif\" font-size=\"14.00\" fill=\"#000000\">gini = 0.034</text>\n<text text-anchor=\"middle\" x=\"995.5\" y=\"-22.8\" font-family=\"Times,serif\" font-size=\"14.00\" fill=\"#000000\">samples = 50860</text>\n<text text-anchor=\"middle\" x=\"995.5\" y=\"-7.8\" font-family=\"Times,serif\" font-size=\"14.00\" fill=\"#000000\">value = [49968, 875, 17]</text>\n</g>\n<!-- 9&#45;&gt;11 -->\n<g id=\"edge11\" class=\"edge\">\n<title>9&#45;&gt;11</title>\n<path fill=\"none\" stroke=\"#000000\" d=\"M926.2242,-88.9777C936.5806,-79.6376 947.8031,-69.5163 958.139,-60.1947\"/>\n<polygon fill=\"#000000\" stroke=\"#000000\" points=\"960.7591,-62.5449 965.8411,-53.2485 956.0709,-57.3467 960.7591,-62.5449\"/>\n</g>\n<!-- 13 -->\n<g id=\"node14\" class=\"node\">\n<title>13</title>\n<polygon fill=\"none\" stroke=\"#000000\" points=\"1234.5,-53 1094.5,-53 1094.5,0 1234.5,0 1234.5,-53\"/>\n<text text-anchor=\"middle\" x=\"1164.5\" y=\"-37.8\" font-family=\"Times,serif\" font-size=\"14.00\" fill=\"#000000\">gini = 0.358</text>\n<text text-anchor=\"middle\" x=\"1164.5\" y=\"-22.8\" font-family=\"Times,serif\" font-size=\"14.00\" fill=\"#000000\">samples = 721</text>\n<text text-anchor=\"middle\" x=\"1164.5\" y=\"-7.8\" font-family=\"Times,serif\" font-size=\"14.00\" fill=\"#000000\">value = [90, 567, 64]</text>\n</g>\n<!-- 12&#45;&gt;13 -->\n<g id=\"edge13\" class=\"edge\">\n<title>12&#45;&gt;13</title>\n<path fill=\"none\" stroke=\"#000000\" d=\"M1164.5,-88.9777C1164.5,-80.7364 1164.5,-71.887 1164.5,-63.5153\"/>\n<polygon fill=\"#000000\" stroke=\"#000000\" points=\"1168.0001,-63.2484 1164.5,-53.2485 1161.0001,-63.2485 1168.0001,-63.2484\"/>\n</g>\n<!-- 14 -->\n<g id=\"node15\" class=\"node\">\n<title>14</title>\n<polygon fill=\"none\" stroke=\"#000000\" points=\"1430,-53 1253,-53 1253,0 1430,0 1430,-53\"/>\n<text text-anchor=\"middle\" x=\"1341.5\" y=\"-37.8\" font-family=\"Times,serif\" font-size=\"14.00\" fill=\"#000000\">gini = 0.008</text>\n<text text-anchor=\"middle\" x=\"1341.5\" y=\"-22.8\" font-family=\"Times,serif\" font-size=\"14.00\" fill=\"#000000\">samples = 134048</text>\n<text text-anchor=\"middle\" x=\"1341.5\" y=\"-7.8\" font-family=\"Times,serif\" font-size=\"14.00\" fill=\"#000000\">value = [333, 133528, 187]</text>\n</g>\n<!-- 12&#45;&gt;14 -->\n<g id=\"edge14\" class=\"edge\">\n<title>12&#45;&gt;14</title>\n<path fill=\"none\" stroke=\"#000000\" d=\"M1226.9036,-88.9777C1245.2956,-78.9504 1265.3391,-68.0228 1283.4462,-58.1508\"/>\n<polygon fill=\"#000000\" stroke=\"#000000\" points=\"1285.615,-60.9548 1292.7195,-53.095 1282.2642,-54.8089 1285.615,-60.9548\"/>\n</g>\n</g>\n</svg>\n"
          },
          "metadata": {
            "tags": []
          },
          "execution_count": 9
        }
      ]
    },
    {
      "cell_type": "code",
      "metadata": {
        "id": "QZE2RAYk5qzA",
        "colab_type": "code",
        "outputId": "cb3cf5fa-d21e-4446-9cc2-69a908867fb7",
        "colab": {
          "base_uri": "https://localhost:8080/",
          "height": 509
        }
      },
      "source": [
        "\n",
        "X_train,  X_test, y_train, y_test = train_test_split(\n",
        "    df[['Duration', 'Packets','Bytes']],  \n",
        "    df[['class']], \n",
        "    test_size=0.20\n",
        ")\n",
        "from sklearn.ensemble import RandomForestClassifier\n",
        "# define the classifier\n",
        "clf_rf = RandomForestClassifier(n_estimators=700, n_jobs=-1, verbose=1)\n",
        "\n",
        "# train the classifier\n",
        "t0 = time.time()\n",
        "clf_rf.fit(X_train, y_train)\n",
        "print(\"elapsed time = %.2f\" % (time.time()-t0))\n",
        "\n",
        "# perform the prediction\n",
        "y_pred_rf = clf_rf.predict(X_test)\n",
        "\n",
        "print(\"accuracy: {}\".format(metrics.accuracy_score(y_test, y_pred_rf)))\n",
        "print(\"precision: {:g}\".format(metrics.precision_score(y_test, y_pred_rf,average='macro')))\n",
        "print(\"recall: {:g}\".format(metrics.recall_score(y_test, y_pred_rf, average='macro')))\n",
        "print(metrics.classification_report(y_test, y_pred_rf))"
      ],
      "execution_count": 0,
      "outputs": [
        {
          "output_type": "stream",
          "text": [
            "/usr/local/lib/python3.6/dist-packages/ipykernel_launcher.py:12: DataConversionWarning: A column-vector y was passed when a 1d array was expected. Please change the shape of y to (n_samples,), for example using ravel().\n",
            "  if sys.path[0] == '':\n",
            "[Parallel(n_jobs=-1)]: Using backend ThreadingBackend with 2 concurrent workers.\n",
            "[Parallel(n_jobs=-1)]: Done  46 tasks      | elapsed:   15.0s\n",
            "[Parallel(n_jobs=-1)]: Done 196 tasks      | elapsed:  1.1min\n",
            "[Parallel(n_jobs=-1)]: Done 446 tasks      | elapsed:  2.4min\n",
            "[Parallel(n_jobs=-1)]: Done 500 out of 500 | elapsed:  2.7min finished\n",
            "[Parallel(n_jobs=2)]: Using backend ThreadingBackend with 2 concurrent workers.\n"
          ],
          "name": "stderr"
        },
        {
          "output_type": "stream",
          "text": [
            "elapsed time = 163.51\n"
          ],
          "name": "stdout"
        },
        {
          "output_type": "stream",
          "text": [
            "[Parallel(n_jobs=2)]: Done  46 tasks      | elapsed:    0.5s\n",
            "[Parallel(n_jobs=2)]: Done 196 tasks      | elapsed:    2.3s\n",
            "[Parallel(n_jobs=2)]: Done 446 tasks      | elapsed:    5.1s\n",
            "[Parallel(n_jobs=2)]: Done 500 out of 500 | elapsed:    5.8s finished\n"
          ],
          "name": "stderr"
        },
        {
          "output_type": "stream",
          "text": [
            "accuracy: 0.9901379036981383\n",
            "precision: 0.991985\n",
            "recall: 0.963091\n",
            "              precision    recall  f1-score   support\n",
            "\n",
            "    attacker       0.99      0.99      0.99     14940\n",
            "      normal       0.99      1.00      0.99    140124\n",
            "      victim       1.00      0.90      0.95     13967\n",
            "\n",
            "    accuracy                           0.99    169031\n",
            "   macro avg       0.99      0.96      0.98    169031\n",
            "weighted avg       0.99      0.99      0.99    169031\n",
            "\n"
          ],
          "name": "stdout"
        }
      ]
    },
    {
      "cell_type": "markdown",
      "metadata": {
        "id": "ku4yG9Dfy90U",
        "colab_type": "text"
      },
      "source": [
        "- How does GaussianNB perform on the numeric features?\n"
      ]
    },
    {
      "cell_type": "code",
      "metadata": {
        "id": "gSAX9ds__wsY",
        "colab_type": "code",
        "outputId": "dd707140-94f1-4945-ffa9-07c0b726748d",
        "colab": {
          "base_uri": "https://localhost:8080/",
          "height": 328
        }
      },
      "source": [
        "\n",
        "#map class to numeric thing\n",
        "X_train,  X_test, y_train, y_test = train_test_split( #https://stackoverflow.com/questions/47321709/how-to-split-train-and-test-dataset-to-x-train-y-train-and-x-test-y-test\n",
        "    df[['Duration', 'Packets','Bytes']],  \n",
        "    df[['class']], \n",
        "    test_size=0.20\n",
        ")\n",
        "from sklearn.naive_bayes import GaussianNB\n",
        "# define the classifier\n",
        "clf_nb = GaussianNB()\n",
        "\n",
        "# train the classifier\n",
        "t0 = time.time()\n",
        "clf_nb.fit(X_train, y_train)\n",
        "print(\"elapsed time = %.2f\" % (time.time()-t0))\n",
        "\n",
        "# perform the prediction\n",
        "y_pred_nb = clf_nb.predict(X_test)\n",
        "\n",
        "print(\"accuracy: {}\".format(metrics.accuracy_score(y_test, y_pred_nb)))\n",
        "print(\"precision: {:g}\".format(metrics.precision_score(y_test, y_pred_nb,average='macro')))\n",
        "print(\"recall: {:g}\".format(metrics.recall_score(y_test, y_pred_nb, average='macro')))\n",
        "print(metrics.classification_report(y_test, y_pred_nb))"
      ],
      "execution_count": 0,
      "outputs": [
        {
          "output_type": "stream",
          "text": [
            "/usr/local/lib/python3.6/dist-packages/sklearn/utils/validation.py:724: DataConversionWarning: A column-vector y was passed when a 1d array was expected. Please change the shape of y to (n_samples, ), for example using ravel().\n",
            "  y = column_or_1d(y, warn=True)\n"
          ],
          "name": "stderr"
        },
        {
          "output_type": "stream",
          "text": [
            "elapsed time = 1.47\n",
            "accuracy: 0.2611946920978992\n",
            "precision: 0.500422\n",
            "recall: 0.653645\n",
            "              precision    recall  f1-score   support\n",
            "\n",
            "    attacker       0.39      0.84      0.53     15003\n",
            "      normal       1.00      0.13      0.23    140247\n",
            "      victim       0.12      1.00      0.21     13781\n",
            "\n",
            "    accuracy                           0.26    169031\n",
            "   macro avg       0.50      0.65      0.32    169031\n",
            "weighted avg       0.87      0.26      0.25    169031\n",
            "\n"
          ],
          "name": "stdout"
        }
      ]
    },
    {
      "cell_type": "markdown",
      "metadata": {
        "id": "e2p2KQPsy-ho",
        "colab_type": "text"
      },
      "source": [
        "- Beware running the SVM classifier: There is a lot of data here, so you would need to use a linear SVM rather than an RBF one, (and even then it may run out of memory without adjustments).\n"
      ]
    },
    {
      "cell_type": "code",
      "metadata": {
        "id": "CLGui5rly-xQ",
        "colab_type": "code",
        "outputId": "56b69bfd-43d1-4027-bb3c-699490ea2ee3",
        "colab": {
          "base_uri": "https://localhost:8080/",
          "height": 73
        }
      },
      "source": [
        "from sklearn.svm import LinearSVC\n",
        "# define the classifier\n",
        "clf_svc = LinearSVC(kernel='linear',verbose=True)\n",
        "\n",
        "# train the classifier\n",
        "t0 = time.time()\n",
        "clf_svc.fit(X_train, y_train)\n",
        "print(\"elapsed time = %.2f\" % (time.time()-t0))\n",
        "\n",
        "# perform the prediction \n",
        "y_pred_svc = clf_svc.predict(X_test)\n",
        "\n",
        "print(\"accuracy: {}\".format(metrics.accuracy_score(y_test, y_pred_svc)))\n",
        "print(\"precision: {:g}\".format(metrics.precision_score(y_test, y_pred_svc,average='macro')))\n",
        "print(\"recall: {:g}\".format(metrics.recall_score(y_test, y_pred_svc, average='macro')))\n",
        "print(metrics.classification_report(y_test, y_pred_svc))"
      ],
      "execution_count": 0,
      "outputs": [
        {
          "output_type": "stream",
          "text": [
            "/usr/local/lib/python3.6/dist-packages/sklearn/utils/validation.py:724: DataConversionWarning: A column-vector y was passed when a 1d array was expected. Please change the shape of y to (n_samples, ), for example using ravel().\n",
            "  y = column_or_1d(y, warn=True)\n"
          ],
          "name": "stderr"
        }
      ]
    },
    {
      "cell_type": "markdown",
      "metadata": {
        "id": "3qIIN72Ay_Cc",
        "colab_type": "text"
      },
      "source": [
        "- Convert the class to a binary attribute (malicious vs benign) and compute precision and recall values.\n",
        "Anything of note?"
      ]
    },
    {
      "cell_type": "code",
      "metadata": {
        "id": "bNIco0m10-v4",
        "colab_type": "code",
        "colab": {}
      },
      "source": [
        "df['classBin']= df['class'].apply(lambda x: 'benign' if x == 'normal' else 'malicious')"
      ],
      "execution_count": 0,
      "outputs": []
    },
    {
      "cell_type": "code",
      "metadata": {
        "id": "Zsvm5AcqBOKM",
        "colab_type": "code",
        "outputId": "2f5f6405-47c5-4b6e-c7dc-16495a451f56",
        "colab": {
          "base_uri": "https://localhost:8080/",
          "height": 346
        }
      },
      "source": [
        "from sklearn.model_selection import train_test_split\n",
        "\n",
        "X_train,  X_test, y_train, y_test = train_test_split( \n",
        "    df[['Duration', 'Packets', 'Bytes']],  \n",
        "    df[['classBin']], \n",
        "    test_size=0.20\n",
        ")\n",
        "\n",
        "from sklearn.linear_model import LogisticRegression\n",
        "\n",
        "# define the classifier\n",
        "clf_lr_bin = LogisticRegression(solver='lbfgs', max_iter=50, verbose=1, n_jobs=-1)\n",
        "\n",
        "# train the classifier\n",
        "t0 = time.time()\n",
        "clf_lr_bin.fit(X_train, y_train)\n",
        "print(\"elapsed time = %.2f\" % (time.time()-t0))\n",
        "y_pred_lr_bin = clf_lr_bin.predict(X_test)\n",
        "\n",
        "print(\"accuracy: {}\".format(metrics.accuracy_score(y_test, y_pred_lr_bin)))\n",
        "print(\"precision: {:g}\".format(metrics.precision_score(y_test, y_pred_lr_bin, average='macro')))\n",
        "print(\"recall: {:g}\".format(metrics.recall_score(y_test, y_pred_lr_bin, average='macro')))\n",
        "print(metrics.classification_report(y_test, y_pred_lr_bin))\n",
        "df=df.drop(['classBin'], axis=1)"
      ],
      "execution_count": 0,
      "outputs": [
        {
          "output_type": "stream",
          "text": [
            "/usr/local/lib/python3.6/dist-packages/sklearn/utils/validation.py:724: DataConversionWarning: A column-vector y was passed when a 1d array was expected. Please change the shape of y to (n_samples, ), for example using ravel().\n",
            "  y = column_or_1d(y, warn=True)\n",
            "[Parallel(n_jobs=-1)]: Using backend LokyBackend with 4 concurrent workers.\n",
            "[Parallel(n_jobs=-1)]: Done   1 out of   1 | elapsed:    5.1s finished\n"
          ],
          "name": "stderr"
        },
        {
          "output_type": "stream",
          "text": [
            "elapsed time = 6.01\n",
            "accuracy: 0.8281262017026463\n",
            "precision: 0.414085\n",
            "recall: 0.499968\n",
            "              precision    recall  f1-score   support\n",
            "\n",
            "      benign       0.83      1.00      0.91    139988\n",
            "   malicious       0.00      0.00      0.00     29043\n",
            "\n",
            "    accuracy                           0.83    169031\n",
            "   macro avg       0.41      0.50      0.45    169031\n",
            "weighted avg       0.69      0.83      0.75    169031\n",
            "\n"
          ],
          "name": "stdout"
        }
      ]
    },
    {
      "cell_type": "code",
      "metadata": {
        "id": "4jBleaqENM4M",
        "colab_type": "code",
        "colab": {}
      },
      "source": [
        "#it gets better, logistic regression works better with binary attributes"
      ],
      "execution_count": 0,
      "outputs": []
    },
    {
      "cell_type": "markdown",
      "metadata": {
        "id": "bYBBY2Fj_wsY",
        "colab_type": "text"
      },
      "source": [
        "### Predicting another target:\n",
        "- Rather than predicting the class variable, try to predict the “attackType” variable.\n"
      ]
    },
    {
      "cell_type": "code",
      "metadata": {
        "id": "BXg9ort1_wsY",
        "colab_type": "code",
        "outputId": "d7ff6ca9-68b4-4242-abdd-fe04d5611201",
        "colab": {
          "base_uri": "https://localhost:8080/",
          "height": 400
        }
      },
      "source": [
        "from sklearn.model_selection import train_test_split\n",
        "#map class to numeric thing\n",
        "X_train,  X_test, y_train, y_test = train_test_split( #https://stackoverflow.com/questions/47321709/how-to-split-train-and-test-dataset-to-x-train-y-train-and-x-test-y-test\n",
        "    df[['Duration', 'Packets','Bytes']],  \n",
        "    df[['attackType']], \n",
        "    test_size=0.20\n",
        ")\n",
        "\n",
        "from sklearn.tree import DecisionTreeClassifier\n",
        "# define the classifier\n",
        "clf_dt = DecisionTreeClassifier(max_depth=5)\n",
        "\n",
        "# train the classifier\n",
        "t0 = time.time()\n",
        "clf_dt.fit(X_train, y_train)\n",
        "print(\"elapsed time = %.2f\" % (time.time()-t0))\n",
        "\n",
        "# perform the prediction\n",
        "y_pred_dt_at = clf_dt.predict(X_test)\n",
        "\n",
        "\n",
        "print(\"accuracy: {}\".format(metrics.accuracy_score(y_test, y_pred_dt_at)))\n",
        "print(\"precision: {:g}\".format(metrics.precision_score(y_test, y_pred_dt_at, average='macro')))\n",
        "print(\"recall: {:g}\".format(metrics.recall_score(y_test, y_pred_dt_at, average='macro')))\n",
        "print(metrics.classification_report(y_test, y_pred_dt_at))\n"
      ],
      "execution_count": 0,
      "outputs": [
        {
          "output_type": "stream",
          "text": [
            "elapsed time = 1.65\n",
            "accuracy: 0.983949689701889\n"
          ],
          "name": "stdout"
        },
        {
          "output_type": "stream",
          "text": [
            "/usr/local/lib/python3.6/dist-packages/sklearn/metrics/classification.py:1437: UndefinedMetricWarning: Precision is ill-defined and being set to 0.0 in labels with no predicted samples.\n",
            "  'precision', 'predicted', average, warn_for)\n"
          ],
          "name": "stderr"
        },
        {
          "output_type": "stream",
          "text": [
            "precision: 0.782482\n",
            "recall: 0.538706\n"
          ],
          "name": "stdout"
        },
        {
          "output_type": "stream",
          "text": [
            "/usr/local/lib/python3.6/dist-packages/sklearn/metrics/classification.py:1437: UndefinedMetricWarning: Precision and F-score are ill-defined and being set to 0.0 in labels with no predicted samples.\n",
            "  'precision', 'predicted', average, warn_for)\n"
          ],
          "name": "stderr"
        },
        {
          "output_type": "stream",
          "text": [
            "              precision    recall  f1-score   support\n",
            "\n",
            "         ---       0.98      1.00      0.99    140196\n",
            "  bruteForce       0.00      0.00      0.00        42\n",
            "         dos       0.98      0.97      0.98     24973\n",
            "    pingScan       1.00      0.11      0.20        63\n",
            "    portScan       0.94      0.61      0.74      3757\n",
            "\n",
            "    accuracy                           0.98    169031\n",
            "   macro avg       0.78      0.54      0.58    169031\n",
            "weighted avg       0.98      0.98      0.98    169031\n",
            "\n"
          ],
          "name": "stdout"
        }
      ]
    },
    {
      "cell_type": "markdown",
      "metadata": {
        "id": "2tIevtUZ6yKM",
        "colab_type": "text"
      },
      "source": [
        "- Is that variable easier/harder to predict?\n"
      ]
    },
    {
      "cell_type": "code",
      "metadata": {
        "id": "xfsJpu6e6xO0",
        "colab_type": "code",
        "colab": {}
      },
      "source": [
        "#it's harder, any model tested have worse performances\n",
        "#TO DO: explain better"
      ],
      "execution_count": 0,
      "outputs": []
    },
    {
      "cell_type": "markdown",
      "metadata": {
        "id": "jW29ZeS06y0Y",
        "colab_type": "text"
      },
      "source": [
        "- The data is quite unbalanced. You could try to rebalance it by randomly down-sampling the majority class. Does it improve accuracy on the (not-down sampled) test data?"
      ]
    },
    {
      "cell_type": "code",
      "metadata": {
        "id": "Bii77fQm6zFk",
        "colab_type": "code",
        "outputId": "8aeed208-b5f5-415a-83e3-2243a5626b67",
        "colab": {
          "base_uri": "https://localhost:8080/",
          "height": 437
        }
      },
      "source": [
        "from sklearn.preprocessing import StandardScaler\n",
        "from sklearn.linear_model import LogisticRegression\n",
        "\n",
        "X_train,  X_test, y_train, y_test = train_test_split(\n",
        "    df[['Duration', 'Packets', 'Bytes']],  \n",
        "    df[['class']], \n",
        "    test_size=0.20\n",
        ")\n",
        "#TO DO: fix scaling!! Use resampling!\n",
        "standard_scaler = StandardScaler().fit(X_train[['Duration', 'Packets', 'Bytes']])\n",
        "\n",
        "X_train[['Duration', 'Packets', 'Bytes']] = standard_scaler.transform(X_train[['Duration', 'Packets', 'Bytes']])\n",
        "X_test[['Duration', 'Packets', 'Bytes']] = standard_scaler.transform(X_test[['Duration', 'Packets', 'Bytes']])\n",
        "# define the classifier\n",
        "clf_lr = LogisticRegression(solver='lbfgs', max_iter=1500, verbose=1, n_jobs=-1,multi_class='multinomial')\n",
        "\n",
        "# train the classifier\n",
        "t0 = time.time()\n",
        "clf_lr.fit(X_train, y_train)\n",
        "print(\"elapsed time = %.2f\" % (time.time()-t0))\n",
        "y_pred_lr = clf_lr.predict(X_test)\n",
        "\n",
        "print(\"accuracy: {}\".format(metrics.accuracy_score(y_test, y_pred_lr)))\n",
        "print(\"precision: {:g}\".format(metrics.precision_score(y_test, y_pred_lr,average='macro')))\n",
        "print(\"recall: {:g}\".format(metrics.recall_score(y_test, y_pred_lr, average='macro')))\n",
        "print(metrics.classification_report(y_test, y_pred_lr))\n"
      ],
      "execution_count": 0,
      "outputs": [
        {
          "output_type": "stream",
          "text": [
            "/usr/local/lib/python3.6/dist-packages/sklearn/utils/validation.py:724: DataConversionWarning: A column-vector y was passed when a 1d array was expected. Please change the shape of y to (n_samples, ), for example using ravel().\n",
            "  y = column_or_1d(y, warn=True)\n",
            "[Parallel(n_jobs=-1)]: Using backend LokyBackend with 4 concurrent workers.\n",
            "[Parallel(n_jobs=-1)]: Done   1 out of   1 | elapsed:   22.2s finished\n"
          ],
          "name": "stderr"
        },
        {
          "output_type": "stream",
          "text": [
            "elapsed time = 23.51\n",
            "accuracy: 0.8279013908691305\n"
          ],
          "name": "stdout"
        },
        {
          "output_type": "stream",
          "text": [
            "/usr/local/lib/python3.6/dist-packages/sklearn/metrics/classification.py:1437: UndefinedMetricWarning: Precision is ill-defined and being set to 0.0 in labels with no predicted samples.\n",
            "  'precision', 'predicted', average, warn_for)\n"
          ],
          "name": "stderr"
        },
        {
          "output_type": "stream",
          "text": [
            "precision: 0.275972\n",
            "recall: 0.333326\n"
          ],
          "name": "stdout"
        },
        {
          "output_type": "stream",
          "text": [
            "/usr/local/lib/python3.6/dist-packages/sklearn/metrics/classification.py:1437: UndefinedMetricWarning: Precision and F-score are ill-defined and being set to 0.0 in labels with no predicted samples.\n",
            "  'precision', 'predicted', average, warn_for)\n"
          ],
          "name": "stderr"
        },
        {
          "output_type": "stream",
          "text": [
            "              precision    recall  f1-score   support\n",
            "\n",
            "    attacker       0.00      0.00      0.00     14943\n",
            "      normal       0.83      1.00      0.91    139944\n",
            "      victim       0.00      0.00      0.00     14144\n",
            "\n",
            "    accuracy                           0.83    169031\n",
            "   macro avg       0.28      0.33      0.30    169031\n",
            "weighted avg       0.69      0.83      0.75    169031\n",
            "\n"
          ],
          "name": "stdout"
        }
      ]
    },
    {
      "cell_type": "markdown",
      "metadata": {
        "id": "1fUPOd3n_wsY",
        "colab_type": "text"
      },
      "source": [
        "### Introducing more features:\n",
        "- Introduce other features to the classifiers to see if you can further improve performance …\n"
      ]
    },
    {
      "cell_type": "code",
      "metadata": {
        "id": "Zm103-kb_wsY",
        "colab_type": "code",
        "outputId": "fb583f39-91e7-4922-dad5-e951c220a1bf",
        "colab": {
          "base_uri": "https://localhost:8080/",
          "height": 271
        }
      },
      "source": [
        "from sklearn.model_selection import GridSearchCV\n",
        "from sklearn.pipeline import Pipeline\n",
        "from sklearn.preprocessing import StandardScaler\n",
        "from sklearn.linear_model import LogisticRegression\n",
        "\n",
        "# define the classifier\n",
        "clf_lr_op = LogisticRegression(solver='lbfgs', verbose=1, n_jobs=-1)\n",
        "\n",
        "df_one_hot = pd.get_dummies(df, columns=['Proto','Tos'])  \n",
        "X_train,  X_test, y_train, y_test = train_test_split(\n",
        "    df_one_hot.drop(['Date first seen','Src IP Addr','Src Pt','Dst IP Addr','Dst Pt','Flags','class','attackType','attackID','attackDescription','Day of week','Time of day'],axis=1),\n",
        "    df_one_hot[['class']], \n",
        "    test_size=0.20\n",
        ")\n",
        "    \n",
        "from sklearn.tree import DecisionTreeClassifier, export_graphviz\n",
        "# define the classifier\n",
        "clf_dt = DecisionTreeClassifier(max_depth=5)\n",
        "\n",
        "# train the classifier\n",
        "t0 = time.time()\n",
        "clf_dt.fit(X_train, y_train)\n",
        "print(\"elapsed time = %.2f\" % (time.time()-t0))\n",
        "\n",
        "# perform the prediction\n",
        "y_pred_dt_at = clf_dt.predict(X_test)\n",
        "\n",
        "\n",
        "print(\"accuracy: {}\".format(metrics.accuracy_score(y_test, y_pred_dt_at)))\n",
        "print(\"precision: {:g}\".format(metrics.precision_score(y_test, y_pred_dt_at, average='macro')))\n",
        "print(\"recall: {:g}\".format(metrics.recall_score(y_test, y_pred_dt_at, average='macro')))\n",
        "print(metrics.classification_report(y_test, y_pred_dt_at))\n",
        "\n"
      ],
      "execution_count": 0,
      "outputs": [
        {
          "output_type": "stream",
          "text": [
            "elapsed time = 2.07\n",
            "accuracy: 0.986446273168827\n",
            "precision: 0.980213\n",
            "recall: 0.957741\n",
            "              precision    recall  f1-score   support\n",
            "\n",
            "    attacker       0.99      0.98      0.99     15083\n",
            "      normal       0.99      1.00      0.99    140073\n",
            "      victim       0.96      0.90      0.93     13875\n",
            "\n",
            "    accuracy                           0.99    169031\n",
            "   macro avg       0.98      0.96      0.97    169031\n",
            "weighted avg       0.99      0.99      0.99    169031\n",
            "\n"
          ],
          "name": "stdout"
        }
      ]
    },
    {
      "cell_type": "markdown",
      "metadata": {
        "id": "JFsvxAk2675o",
        "colab_type": "text"
      },
      "source": [
        "- Try adding day-of-week and time-of-day features into the classifier. Do they improve the performance?\n"
      ]
    },
    {
      "cell_type": "code",
      "metadata": {
        "id": "UEmt8Dqi68MY",
        "colab_type": "code",
        "outputId": "6613fae9-1006-411d-f210-e3fcaa6a2a67",
        "colab": {
          "base_uri": "https://localhost:8080/",
          "height": 271
        }
      },
      "source": [
        "from sklearn.model_selection import train_test_split\n",
        "#map class to numeric thing\n",
        "\n",
        "X_train,  X_test, y_train, y_test = train_test_split(\n",
        "    df_one_hot.drop(['Date first seen','Src IP Addr','Src Pt','Dst IP Addr','Dst Pt','Flags','class','attackType','attackID','attackDescription'],axis=1),\n",
        "    df_one_hot[['class']], \n",
        "    test_size=0.20\n",
        ")\n",
        "\n",
        "import graphviz\n",
        "from sklearn.tree import DecisionTreeClassifier, export_graphviz\n",
        "# define the classifier\n",
        "clf_dt = DecisionTreeClassifier(max_depth=7)\n",
        "\n",
        "# train the classifier\n",
        "t0 = time.time()\n",
        "clf_dt.fit(X_train, y_train)\n",
        "print(\"elapsed time = %.2f\" % (time.time()-t0))\n",
        "\n",
        "# perform the prediction\n",
        "y_pred_dt_at = clf_dt.predict(X_test)\n",
        "\n",
        "\n",
        "print(\"accuracy: {}\".format(metrics.accuracy_score(y_test, y_pred_dt_at)))\n",
        "print(\"precision: {:g}\".format(metrics.precision_score(y_test, y_pred_dt_at, average='macro')))\n",
        "print(\"recall: {:g}\".format(metrics.recall_score(y_test, y_pred_dt_at, average='macro')))\n",
        "print(metrics.classification_report(y_test, y_pred_dt_at))\n",
        "\n"
      ],
      "execution_count": 0,
      "outputs": [
        {
          "output_type": "stream",
          "text": [
            "elapsed time = 2.72\n",
            "accuracy: 0.9892978211097373\n",
            "precision: 0.988008\n",
            "recall: 0.963371\n",
            "              precision    recall  f1-score   support\n",
            "\n",
            "    attacker       0.99      0.99      0.99     15013\n",
            "      normal       0.99      1.00      0.99    139920\n",
            "      victim       0.98      0.90      0.94     14098\n",
            "\n",
            "    accuracy                           0.99    169031\n",
            "   macro avg       0.99      0.96      0.98    169031\n",
            "weighted avg       0.99      0.99      0.99    169031\n",
            "\n"
          ],
          "name": "stdout"
        }
      ]
    },
    {
      "cell_type": "markdown",
      "metadata": {
        "id": "ec3rzb_D68fI",
        "colab_type": "text"
      },
      "source": [
        "- Split the “Flags” column up into separate columns for each of the flags (see code below for how to do that) and then make use of the flags as features. Do they improve the performance?\n"
      ]
    },
    {
      "cell_type": "code",
      "metadata": {
        "id": "xGx-c0qxSG9Q",
        "colab_type": "code",
        "outputId": "54bb8391-7c18-494d-a1b8-17330213bf2c",
        "colab": {
          "base_uri": "https://localhost:8080/",
          "height": 348
        }
      },
      "source": [
        "df_one_hot['Flag_1'] = [x[0] for x in df_one_hot['Flags']]\n",
        "df_one_hot['Flag_2'] = [x[1] for x in df_one_hot['Flags']]\n",
        "df_one_hot['Flag_3'] = [x[2] for x in df_one_hot['Flags']]\n",
        "df_one_hot['Flag_4'] = [x[3] for x in df_one_hot['Flags']]\n",
        "df_one_hot['Flag_5'] = [x[4] for x in df_one_hot['Flags']]\n",
        "df_one_hot['Flag_6'] = [x[5] for x in df_one_hot['Flags']]\n",
        "df_one_hot = pd.get_dummies(df_one_hot, columns=['Flag_1','Flag_2','Flag_3','Flag_4','Flag_5','Flag_6'])\n",
        "df_one_hot.head(5)"
      ],
      "execution_count": 0,
      "outputs": [
        {
          "output_type": "execute_result",
          "data": {
            "text/html": [
              "<div>\n",
              "<style scoped>\n",
              "    .dataframe tbody tr th:only-of-type {\n",
              "        vertical-align: middle;\n",
              "    }\n",
              "\n",
              "    .dataframe tbody tr th {\n",
              "        vertical-align: top;\n",
              "    }\n",
              "\n",
              "    .dataframe thead th {\n",
              "        text-align: right;\n",
              "    }\n",
              "</style>\n",
              "<table border=\"1\" class=\"dataframe\">\n",
              "  <thead>\n",
              "    <tr style=\"text-align: right;\">\n",
              "      <th></th>\n",
              "      <th>Date first seen</th>\n",
              "      <th>Duration</th>\n",
              "      <th>Src IP Addr</th>\n",
              "      <th>Src Pt</th>\n",
              "      <th>Dst IP Addr</th>\n",
              "      <th>Dst Pt</th>\n",
              "      <th>Packets</th>\n",
              "      <th>Bytes</th>\n",
              "      <th>Flows</th>\n",
              "      <th>Flags</th>\n",
              "      <th>class</th>\n",
              "      <th>attackType</th>\n",
              "      <th>attackID</th>\n",
              "      <th>attackDescription</th>\n",
              "      <th>Day of week</th>\n",
              "      <th>Time of day</th>\n",
              "      <th>Proto_ICMP</th>\n",
              "      <th>Proto_IGMP</th>\n",
              "      <th>Proto_TCP</th>\n",
              "      <th>Proto_UDP</th>\n",
              "      <th>Tos_0</th>\n",
              "      <th>Tos_12</th>\n",
              "      <th>Tos_16</th>\n",
              "      <th>Tos_32</th>\n",
              "      <th>Tos_192</th>\n",
              "      <th>Flag_1_.</th>\n",
              "      <th>Flag_2_.</th>\n",
              "      <th>Flag_2_A</th>\n",
              "      <th>Flag_3_.</th>\n",
              "      <th>Flag_3_P</th>\n",
              "      <th>Flag_4_.</th>\n",
              "      <th>Flag_4_R</th>\n",
              "      <th>Flag_5_.</th>\n",
              "      <th>Flag_5_S</th>\n",
              "      <th>Flag_6_.</th>\n",
              "      <th>Flag_6_F</th>\n",
              "    </tr>\n",
              "  </thead>\n",
              "  <tbody>\n",
              "    <tr>\n",
              "      <th>23</th>\n",
              "      <td>2017-03-15 00:01:17.728</td>\n",
              "      <td>0.047</td>\n",
              "      <td>192.168.220.16</td>\n",
              "      <td>45586</td>\n",
              "      <td>10000_35</td>\n",
              "      <td>443.0</td>\n",
              "      <td>5</td>\n",
              "      <td>906.0</td>\n",
              "      <td>1</td>\n",
              "      <td>.AP.S.</td>\n",
              "      <td>normal</td>\n",
              "      <td>---</td>\n",
              "      <td>---</td>\n",
              "      <td>---</td>\n",
              "      <td>2</td>\n",
              "      <td>0</td>\n",
              "      <td>0</td>\n",
              "      <td>0</td>\n",
              "      <td>1</td>\n",
              "      <td>0</td>\n",
              "      <td>1</td>\n",
              "      <td>0</td>\n",
              "      <td>0</td>\n",
              "      <td>0</td>\n",
              "      <td>0</td>\n",
              "      <td>1</td>\n",
              "      <td>0</td>\n",
              "      <td>1</td>\n",
              "      <td>0</td>\n",
              "      <td>1</td>\n",
              "      <td>1</td>\n",
              "      <td>0</td>\n",
              "      <td>0</td>\n",
              "      <td>1</td>\n",
              "      <td>1</td>\n",
              "      <td>0</td>\n",
              "    </tr>\n",
              "    <tr>\n",
              "      <th>36</th>\n",
              "      <td>2017-03-15 00:01:18.457</td>\n",
              "      <td>0.170</td>\n",
              "      <td>10003_195</td>\n",
              "      <td>80</td>\n",
              "      <td>192.168.220.16</td>\n",
              "      <td>48286.0</td>\n",
              "      <td>3</td>\n",
              "      <td>908.0</td>\n",
              "      <td>1</td>\n",
              "      <td>.AP.S.</td>\n",
              "      <td>normal</td>\n",
              "      <td>---</td>\n",
              "      <td>---</td>\n",
              "      <td>---</td>\n",
              "      <td>2</td>\n",
              "      <td>0</td>\n",
              "      <td>0</td>\n",
              "      <td>0</td>\n",
              "      <td>1</td>\n",
              "      <td>0</td>\n",
              "      <td>0</td>\n",
              "      <td>0</td>\n",
              "      <td>0</td>\n",
              "      <td>1</td>\n",
              "      <td>0</td>\n",
              "      <td>1</td>\n",
              "      <td>0</td>\n",
              "      <td>1</td>\n",
              "      <td>0</td>\n",
              "      <td>1</td>\n",
              "      <td>1</td>\n",
              "      <td>0</td>\n",
              "      <td>0</td>\n",
              "      <td>1</td>\n",
              "      <td>1</td>\n",
              "      <td>0</td>\n",
              "    </tr>\n",
              "    <tr>\n",
              "      <th>30</th>\n",
              "      <td>2017-03-15 00:01:18.511</td>\n",
              "      <td>0.003</td>\n",
              "      <td>10002_113</td>\n",
              "      <td>443</td>\n",
              "      <td>192.168.220.16</td>\n",
              "      <td>49062.0</td>\n",
              "      <td>2</td>\n",
              "      <td>1089.0</td>\n",
              "      <td>1</td>\n",
              "      <td>.AP...</td>\n",
              "      <td>normal</td>\n",
              "      <td>---</td>\n",
              "      <td>---</td>\n",
              "      <td>---</td>\n",
              "      <td>2</td>\n",
              "      <td>0</td>\n",
              "      <td>0</td>\n",
              "      <td>0</td>\n",
              "      <td>1</td>\n",
              "      <td>0</td>\n",
              "      <td>0</td>\n",
              "      <td>0</td>\n",
              "      <td>0</td>\n",
              "      <td>1</td>\n",
              "      <td>0</td>\n",
              "      <td>1</td>\n",
              "      <td>0</td>\n",
              "      <td>1</td>\n",
              "      <td>0</td>\n",
              "      <td>1</td>\n",
              "      <td>1</td>\n",
              "      <td>0</td>\n",
              "      <td>1</td>\n",
              "      <td>0</td>\n",
              "      <td>1</td>\n",
              "      <td>0</td>\n",
              "    </tr>\n",
              "    <tr>\n",
              "      <th>46</th>\n",
              "      <td>2017-03-15 00:01:22.400</td>\n",
              "      <td>0.000</td>\n",
              "      <td>EXT_SERVER</td>\n",
              "      <td>8082</td>\n",
              "      <td>192.168.220.15</td>\n",
              "      <td>37039.0</td>\n",
              "      <td>1</td>\n",
              "      <td>212.0</td>\n",
              "      <td>1</td>\n",
              "      <td>.AP...</td>\n",
              "      <td>normal</td>\n",
              "      <td>---</td>\n",
              "      <td>---</td>\n",
              "      <td>---</td>\n",
              "      <td>2</td>\n",
              "      <td>0</td>\n",
              "      <td>0</td>\n",
              "      <td>0</td>\n",
              "      <td>1</td>\n",
              "      <td>0</td>\n",
              "      <td>0</td>\n",
              "      <td>0</td>\n",
              "      <td>0</td>\n",
              "      <td>1</td>\n",
              "      <td>0</td>\n",
              "      <td>1</td>\n",
              "      <td>0</td>\n",
              "      <td>1</td>\n",
              "      <td>0</td>\n",
              "      <td>1</td>\n",
              "      <td>1</td>\n",
              "      <td>0</td>\n",
              "      <td>1</td>\n",
              "      <td>0</td>\n",
              "      <td>1</td>\n",
              "      <td>0</td>\n",
              "    </tr>\n",
              "    <tr>\n",
              "      <th>51</th>\n",
              "      <td>2017-03-15 00:01:24.152</td>\n",
              "      <td>0.266</td>\n",
              "      <td>192.168.200.9</td>\n",
              "      <td>52290</td>\n",
              "      <td>EXT_SERVER</td>\n",
              "      <td>8082.0</td>\n",
              "      <td>2</td>\n",
              "      <td>319.0</td>\n",
              "      <td>1</td>\n",
              "      <td>.AP...</td>\n",
              "      <td>normal</td>\n",
              "      <td>---</td>\n",
              "      <td>---</td>\n",
              "      <td>---</td>\n",
              "      <td>2</td>\n",
              "      <td>0</td>\n",
              "      <td>0</td>\n",
              "      <td>0</td>\n",
              "      <td>1</td>\n",
              "      <td>0</td>\n",
              "      <td>1</td>\n",
              "      <td>0</td>\n",
              "      <td>0</td>\n",
              "      <td>0</td>\n",
              "      <td>0</td>\n",
              "      <td>1</td>\n",
              "      <td>0</td>\n",
              "      <td>1</td>\n",
              "      <td>0</td>\n",
              "      <td>1</td>\n",
              "      <td>1</td>\n",
              "      <td>0</td>\n",
              "      <td>1</td>\n",
              "      <td>0</td>\n",
              "      <td>1</td>\n",
              "      <td>0</td>\n",
              "    </tr>\n",
              "  </tbody>\n",
              "</table>\n",
              "</div>"
            ],
            "text/plain": [
              "           Date first seen  Duration  ... Flag_6_.  Flag_6_F\n",
              "23 2017-03-15 00:01:17.728     0.047  ...        1         0\n",
              "36 2017-03-15 00:01:18.457     0.170  ...        1         0\n",
              "30 2017-03-15 00:01:18.511     0.003  ...        1         0\n",
              "46 2017-03-15 00:01:22.400     0.000  ...        1         0\n",
              "51 2017-03-15 00:01:24.152     0.266  ...        1         0\n",
              "\n",
              "[5 rows x 36 columns]"
            ]
          },
          "metadata": {
            "tags": []
          },
          "execution_count": 11
        }
      ]
    },
    {
      "cell_type": "code",
      "metadata": {
        "id": "rQAYLOWq68uw",
        "colab_type": "code",
        "outputId": "1f4e5ce8-6a2f-408b-d2d3-73102ba732a5",
        "colab": {
          "base_uri": "https://localhost:8080/",
          "height": 271
        }
      },
      "source": [
        "\n",
        "X_train,  X_test, y_train, y_test = train_test_split(\n",
        "    df_one_hot.drop(['Date first seen','Src IP Addr','Src Pt','Dst IP Addr','Dst Pt','Flags','class','attackType','attackID','attackDescription'],axis=1),\n",
        "    df_one_hot[['class']], \n",
        "    test_size=0.20\n",
        ")\n",
        "\n",
        "import graphviz\n",
        "from sklearn.tree import DecisionTreeClassifier, export_graphviz\n",
        "# define the classifier\n",
        "clf_dt = DecisionTreeClassifier(max_depth=7)\n",
        "\n",
        "# train the classifier\n",
        "t0 = time.time()\n",
        "clf_dt.fit(X_train, y_train)\n",
        "print(\"elapsed time = %.2f\" % (time.time()-t0))\n",
        "\n",
        "# perform the prediction\n",
        "y_pred_dt_at = clf_dt.predict(X_test)\n",
        "\n",
        "\n",
        "print(\"accuracy: {}\".format(metrics.accuracy_score(y_test, y_pred_dt_at)))\n",
        "print(\"precision: {:g}\".format(metrics.precision_score(y_test, y_pred_dt_at, average='macro')))\n",
        "print(\"recall: {:g}\".format(metrics.recall_score(y_test, y_pred_dt_at, average='macro')))\n",
        "print(metrics.classification_report(y_test, y_pred_dt_at))"
      ],
      "execution_count": 0,
      "outputs": [
        {
          "output_type": "stream",
          "text": [
            "elapsed time = 3.10\n",
            "accuracy: 0.9975803255024226\n",
            "precision: 0.99305\n",
            "recall: 0.99599\n",
            "              precision    recall  f1-score   support\n",
            "\n",
            "    attacker       1.00      0.99      1.00     15018\n",
            "      normal       1.00      1.00      1.00    139927\n",
            "      victim       0.98      1.00      0.99     14086\n",
            "\n",
            "    accuracy                           1.00    169031\n",
            "   macro avg       0.99      1.00      0.99    169031\n",
            "weighted avg       1.00      1.00      1.00    169031\n",
            "\n"
          ],
          "name": "stdout"
        }
      ]
    },
    {
      "cell_type": "markdown",
      "metadata": {
        "id": "DwanBmXa69DE",
        "colab_type": "text"
      },
      "source": [
        "- Source IP addresses can be one of four categories (code in the appendix can be used to map IP addresses to the categories). Are the categories useful features?"
      ]
    },
    {
      "cell_type": "code",
      "metadata": {
        "id": "mxzvYKE869ag",
        "colab_type": "code",
        "outputId": "3201c38a-15fe-4534-fe6e-f9179323ac1e",
        "colab": {
          "base_uri": "https://localhost:8080/",
          "height": 271
        }
      },
      "source": [
        "def get_IP_category(ip_addr):\n",
        "  if ip_addr == 'DNS':\n",
        "    return 'DNS'\n",
        "  elif ip_addr == 'EXT_SERVER':\n",
        "    return 'EXT_SERVER'\n",
        "  elif len(ip_addr.split('.')) == 4:\n",
        "    return 'private'\n",
        "  elif len(ip_addr.split('_')) == 2:\n",
        "    return 'public'\n",
        "  else:\n",
        "    return '-'\n",
        "\n",
        "df_one_hot['Src IP Addr Cat']= df_one_hot['Src IP Addr'].apply(lambda x: get_IP_category(x))\n",
        "df_one_hot = pd.get_dummies(df_one_hot, columns=['Src IP Addr Cat'])\n",
        "\n",
        "from sklearn.model_selection import train_test_split\n",
        "\n",
        "X_train,  X_test, y_train, y_test = train_test_split(\n",
        "    df_one_hot.drop(['Date first seen','Src Pt','Src IP Addr','Dst IP Addr','Dst Pt','Flags','class','attackType','attackID','attackDescription'],axis=1),\n",
        "    df_one_hot[['class']], \n",
        "    test_size=0.20\n",
        ")\n",
        "import graphviz\n",
        "from sklearn.tree import DecisionTreeClassifier, export_graphviz\n",
        "# define the classifier\n",
        "clf_dt = DecisionTreeClassifier(max_depth=7)\n",
        "\n",
        "# train the classifier\n",
        "t0 = time.time()\n",
        "clf_dt.fit(X_train, y_train)\n",
        "print(\"elapsed time = %.2f\" % (time.time()-t0))\n",
        "\n",
        "# perform the prediction\n",
        "y_pred_dt_at = clf_dt.predict(X_test)\n",
        "\n",
        "print(\"accuracy: {}\".format(metrics.accuracy_score(y_test, y_pred_dt_at)))\n",
        "print(\"precision: {:g}\".format(metrics.precision_score(y_test, y_pred_dt_at, average='macro')))\n",
        "print(\"recall: {:g}\".format(metrics.recall_score(y_test, y_pred_dt_at, average='macro')))\n",
        "print(metrics.classification_report(y_test, y_pred_dt_at))"
      ],
      "execution_count": 0,
      "outputs": [
        {
          "output_type": "stream",
          "text": [
            "elapsed time = 3.31\n",
            "accuracy: 0.9978702131561666\n",
            "precision: 0.993911\n",
            "recall: 0.99629\n",
            "              precision    recall  f1-score   support\n",
            "\n",
            "    attacker       1.00      0.99      1.00     14969\n",
            "      normal       1.00      1.00      1.00    140147\n",
            "      victim       0.99      1.00      0.99     13915\n",
            "\n",
            "    accuracy                           1.00    169031\n",
            "   macro avg       0.99      1.00      1.00    169031\n",
            "weighted avg       1.00      1.00      1.00    169031\n",
            "\n"
          ],
          "name": "stdout"
        }
      ]
    },
    {
      "cell_type": "markdown",
      "metadata": {
        "id": "57gFTqscTTyc",
        "colab_type": "text"
      },
      "source": [
        "No. Or not so much at least. I mean we are still ok."
      ]
    },
    {
      "cell_type": "markdown",
      "metadata": {
        "id": "0VcGzFYf_wt8",
        "colab_type": "text"
      },
      "source": [
        "### Creating counts\n",
        "- When detecting a Denial of Service (DoS) or portScan attack, counts of the number of requests from the same Source IP Address within a given time window could be an important feature. (For a DDoS attack, the same may be true of Destination IP Addresses.)\n"
      ]
    },
    {
      "cell_type": "code",
      "metadata": {
        "id": "qmmHWMQn_wt8",
        "colab_type": "code",
        "colab": {}
      },
      "source": [
        "#def countingProcedure(param)\n",
        "#if dos or portScan then \n",
        "#df['Cum Count Src IP Addr (Number of seconds)'] = df.groupby(['Src IP Addr', pd.Grouper(freq='10S',\n",
        "#key='Date first seen')]).cumcount()\n"
      ],
      "execution_count": 0,
      "outputs": []
    },
    {
      "cell_type": "markdown",
      "metadata": {
        "id": "-2R0c7x56qLQ",
        "colab_type": "text"
      },
      "source": [
        "- Try adding one or more count fields to the dataset using the code from the Appendix.\n"
      ]
    },
    {
      "cell_type": "code",
      "metadata": {
        "id": "-kejylby6qfk",
        "colab_type": "code",
        "outputId": "e4647c8e-b44c-4259-8df6-c87e2faa0b1c",
        "colab": {
          "base_uri": "https://localhost:8080/",
          "height": 271
        }
      },
      "source": [
        "df_one_hot['Cum Count Src IP Addr (10seconds)'] = df_one_hot.groupby(['Src IP Addr', pd.Grouper(freq='10S',\n",
        "key='Date first seen')]).cumcount()\n",
        "df_one_hot['Cum Count Src IP Addr (20seconds)'] = df_one_hot.groupby(['Src IP Addr', pd.Grouper(freq='20S',\n",
        "key='Date first seen')]).cumcount()\n",
        "df_one_hot['Cum Count Src IP Addr (60seconds)'] = df_one_hot.groupby(['Src IP Addr', pd.Grouper(freq='60S',\n",
        "key='Date first seen')]).cumcount()\n",
        "\n",
        "\n",
        "X_train,  X_test, y_train, y_test = train_test_split(\n",
        "    df_one_hot.drop(['Date first seen','Src Pt','Src IP Addr','Dst IP Addr','Dst Pt','Flags','class','attackType','attackID','attackDescription'],axis=1),\n",
        "    df_one_hot[['class']], \n",
        "    test_size=0.20\n",
        ")\n",
        "\n",
        "from sklearn.tree import DecisionTreeClassifier\n",
        "# define the classifier\n",
        "clf_dt = DecisionTreeClassifier(max_depth=7)\n",
        "\n",
        "# train the classifier\n",
        "t0 = time.time()\n",
        "clf_dt.fit(X_train, y_train)\n",
        "print(\"elapsed time = %.2f\" % (time.time()-t0))\n",
        "\n",
        "# perform the prediction\n",
        "y_pred_dt_at = clf_dt.predict(X_test)\n",
        "\n",
        "print(\"accuracy: {}\".format(metrics.accuracy_score(y_test, y_pred_dt_at)))\n",
        "print(\"precision: {:g}\".format(metrics.precision_score(y_test, y_pred_dt_at, average='macro')))\n",
        "print(\"recall: {:g}\".format(metrics.recall_score(y_test, y_pred_dt_at, average='macro')))\n",
        "print(metrics.classification_report(y_test, y_pred_dt_at))"
      ],
      "execution_count": 0,
      "outputs": [
        {
          "output_type": "stream",
          "text": [
            "elapsed time = 4.07\n",
            "accuracy: 0.9953322171672652\n",
            "precision: 0.994096\n",
            "recall: 0.985463\n",
            "              precision    recall  f1-score   support\n",
            "\n",
            "    attacker       1.00      0.98      0.99     14950\n",
            "      normal       1.00      1.00      1.00    140265\n",
            "      victim       0.99      0.98      0.98     13816\n",
            "\n",
            "    accuracy                           1.00    169031\n",
            "   macro avg       0.99      0.99      0.99    169031\n",
            "weighted avg       1.00      1.00      1.00    169031\n",
            "\n"
          ],
          "name": "stdout"
        }
      ]
    },
    {
      "cell_type": "markdown",
      "metadata": {
        "id": "foX7dwDj6qz4",
        "colab_type": "text"
      },
      "source": [
        "- Does the count field improve performance of the classifiers? What window or windows make sense?"
      ]
    },
    {
      "cell_type": "code",
      "metadata": {
        "id": "lPGjMaTX6rB8",
        "colab_type": "code",
        "colab": {}
      },
      "source": [
        "# Not all of them\n",
        "# N second is the best time window (try to rain with separate count fields)"
      ],
      "execution_count": 0,
      "outputs": []
    },
    {
      "cell_type": "markdown",
      "metadata": {
        "id": "8NKkhW8i_wt8",
        "colab_type": "text"
      },
      "source": [
        "### Think about other analysis you could perform on the data:\n",
        "- What other features might be interesting? Try to compute them by modifying the code in the Appendix.\n"
      ]
    },
    {
      "cell_type": "code",
      "metadata": {
        "id": "uGETlvEf_wt8",
        "colab_type": "code",
        "outputId": "042f5565-8d39-4bd8-b793-8c8b8635469d",
        "colab": {
          "base_uri": "https://localhost:8080/",
          "height": 271
        }
      },
      "source": [
        "#add features \n",
        "#possible feature is weekday or weekend\n",
        "\n",
        "X_train,  X_test, y_train, y_test = train_test_split(\n",
        "    df_one_hot.drop(['Date first seen','Src IP Addr','Dst IP Addr','Flags','class','attackType','attackID','attackDescription'],axis=1),\n",
        "    df_one_hot[['class']], \n",
        "    test_size=0.20\n",
        ")\n",
        "\n",
        "# define the classifier\n",
        "clf_dt = DecisionTreeClassifier(max_depth=7)\n",
        "\n",
        "# train the classifier\n",
        "t0 = time.time()\n",
        "clf_dt.fit(X_train, y_train)\n",
        "print(\"elapsed time = %.2f\" % (time.time()-t0))\n",
        "\n",
        "# perform the prediction\n",
        "y_pred_dt_at = clf_dt.predict(X_test)\n",
        "\n",
        "print(\"accuracy: {}\".format(metrics.accuracy_score(y_test, y_pred_dt_at)))\n",
        "print(\"precision: {:g}\".format(metrics.precision_score(y_test, y_pred_dt_at, average='macro')))\n",
        "print(\"recall: {:g}\".format(metrics.recall_score(y_test, y_pred_dt_at, average='macro')))\n",
        "print(metrics.classification_report(y_test, y_pred_dt_at))"
      ],
      "execution_count": 0,
      "outputs": [
        {
          "output_type": "stream",
          "text": [
            "elapsed time = 5.06\n",
            "accuracy: 0.9966574178700949\n",
            "precision: 0.997572\n",
            "recall: 0.988137\n",
            "              precision    recall  f1-score   support\n",
            "\n",
            "    attacker       1.00      0.98      0.99     15081\n",
            "      normal       1.00      1.00      1.00    139943\n",
            "      victim       1.00      0.98      0.99     14007\n",
            "\n",
            "    accuracy                           1.00    169031\n",
            "   macro avg       1.00      0.99      0.99    169031\n",
            "weighted avg       1.00      1.00      1.00    169031\n",
            "\n"
          ],
          "name": "stdout"
        }
      ]
    },
    {
      "cell_type": "markdown",
      "metadata": {
        "id": "E0FgoJPy6ggg",
        "colab_type": "text"
      },
      "source": [
        "- Try running some other analysis like clustering on the data."
      ]
    },
    {
      "cell_type": "code",
      "metadata": {
        "id": "Iq818laVefRE",
        "colab_type": "code",
        "outputId": "297b29a5-771f-4f07-d451-1d1dfbbdbbc8",
        "colab": {
          "base_uri": "https://localhost:8080/",
          "height": 263
        }
      },
      "source": [
        "from sklearn.cluster import (\n",
        "    KMeans, \n",
        "    AgglomerativeClustering, \n",
        "    DBSCAN\n",
        ")\n",
        "from sklearn.metrics import (\n",
        "    homogeneity_score,\n",
        "    completeness_score,\n",
        "    v_measure_score\n",
        ")\n",
        "\n",
        "kmeans = KMeans(n_clusters=3).fit(\n",
        "    df_one_hot.drop(['Date first seen','Src IP Addr','Dst IP Addr','Flags','class','attackType','attackID','attackDescription'],axis=1),\n",
        ")\n",
        "print(kmeans.cluster_centers_)\n",
        "df_one_hot['cluster'] = kmeans.labels_\n",
        "print(df_one_hot.groupby(['cluster', 'class']).size().reset_index().sort_values(['cluster', 'class']))\n",
        "\n",
        "predicted_clusters = df_one_hot['cluster'].values\n",
        "true_labels = df_one_hot['class'].values\n",
        "print(homogeneity_score(true_labels, predicted_clusters))\n",
        "print(completeness_score(true_labels, predicted_clusters))\n",
        "print(v_measure_score(true_labels, predicted_clusters))"
      ],
      "execution_count": 0,
      "outputs": [
        {
          "output_type": "error",
          "ename": "NameError",
          "evalue": "ignored",
          "traceback": [
            "\u001b[0;31m---------------------------------------------------------------------------\u001b[0m",
            "\u001b[0;31mNameError\u001b[0m                                 Traceback (most recent call last)",
            "\u001b[0;32m<ipython-input-3-2cbd399c1d45>\u001b[0m in \u001b[0;36m<module>\u001b[0;34m()\u001b[0m\n\u001b[1;32m     13\u001b[0m \u001b[0;34m\u001b[0m\u001b[0m\n\u001b[1;32m     14\u001b[0m kmeans = KMeans(n_clusters=3).fit(\n\u001b[0;32m---> 15\u001b[0;31m     \u001b[0mdf_one_hot\u001b[0m\u001b[0;34m.\u001b[0m\u001b[0mdrop\u001b[0m\u001b[0;34m(\u001b[0m\u001b[0;34m[\u001b[0m\u001b[0;34m'Date first seen'\u001b[0m\u001b[0;34m,\u001b[0m\u001b[0;34m'Src IP Addr'\u001b[0m\u001b[0;34m,\u001b[0m\u001b[0;34m'Dst IP Addr'\u001b[0m\u001b[0;34m,\u001b[0m\u001b[0;34m'Flags'\u001b[0m\u001b[0;34m,\u001b[0m\u001b[0;34m'class'\u001b[0m\u001b[0;34m,\u001b[0m\u001b[0;34m'attackType'\u001b[0m\u001b[0;34m,\u001b[0m\u001b[0;34m'attackID'\u001b[0m\u001b[0;34m,\u001b[0m\u001b[0;34m'attackDescription'\u001b[0m\u001b[0;34m]\u001b[0m\u001b[0;34m,\u001b[0m\u001b[0maxis\u001b[0m\u001b[0;34m=\u001b[0m\u001b[0;36m1\u001b[0m\u001b[0;34m)\u001b[0m\u001b[0;34m,\u001b[0m\u001b[0;34m\u001b[0m\u001b[0;34m\u001b[0m\u001b[0m\n\u001b[0m\u001b[1;32m     16\u001b[0m )\n\u001b[1;32m     17\u001b[0m \u001b[0mprint\u001b[0m\u001b[0;34m(\u001b[0m\u001b[0mkmeans\u001b[0m\u001b[0;34m.\u001b[0m\u001b[0mcluster_centers_\u001b[0m\u001b[0;34m)\u001b[0m\u001b[0;34m\u001b[0m\u001b[0;34m\u001b[0m\u001b[0m\n",
            "\u001b[0;31mNameError\u001b[0m: name 'df_one_hot' is not defined"
          ]
        }
      ]
    },
    {
      "cell_type": "code",
      "metadata": {
        "id": "-Cwg_UfpdZ1U",
        "colab_type": "code",
        "outputId": "b24ee937-8b23-43fa-c9a5-ef259b219ed5",
        "colab": {
          "base_uri": "https://localhost:8080/",
          "height": 227
        }
      },
      "source": [
        "#AgglomerativeClustering\n",
        "agglomerative = AgglomerativeClustering(n_clusters=k).fit(df_one_hot.drop(['Date first seen','Src IP Addr','Dst IP Addr','Flags','class','attackType','attackID','attackDescription'],axis=1))\n",
        "print(v_measure_values.append(v_measure_score(df_one_hot['label'].values, agglomerative.labels_)))\n",
        "#DBSCAN\n"
      ],
      "execution_count": 0,
      "outputs": [
        {
          "output_type": "error",
          "ename": "NameError",
          "evalue": "ignored",
          "traceback": [
            "\u001b[0;31m---------------------------------------------------------------------------\u001b[0m",
            "\u001b[0;31mNameError\u001b[0m                                 Traceback (most recent call last)",
            "\u001b[0;32m<ipython-input-2-d8b1b86eb40d>\u001b[0m in \u001b[0;36m<module>\u001b[0;34m()\u001b[0m\n\u001b[0;32m----> 1\u001b[0;31m \u001b[0magglomerative\u001b[0m \u001b[0;34m=\u001b[0m \u001b[0mAgglomerativeClustering\u001b[0m\u001b[0;34m(\u001b[0m\u001b[0mn_clusters\u001b[0m\u001b[0;34m=\u001b[0m\u001b[0mk\u001b[0m\u001b[0;34m)\u001b[0m\u001b[0;34m.\u001b[0m\u001b[0mfit\u001b[0m\u001b[0;34m(\u001b[0m\u001b[0mdf_one_hot\u001b[0m\u001b[0;34m.\u001b[0m\u001b[0mdrop\u001b[0m\u001b[0;34m(\u001b[0m\u001b[0;34m[\u001b[0m\u001b[0;34m'Date first seen'\u001b[0m\u001b[0;34m,\u001b[0m\u001b[0;34m'Src IP Addr'\u001b[0m\u001b[0;34m,\u001b[0m\u001b[0;34m'Dst IP Addr'\u001b[0m\u001b[0;34m,\u001b[0m\u001b[0;34m'Flags'\u001b[0m\u001b[0;34m,\u001b[0m\u001b[0;34m'class'\u001b[0m\u001b[0;34m,\u001b[0m\u001b[0;34m'attackType'\u001b[0m\u001b[0;34m,\u001b[0m\u001b[0;34m'attackID'\u001b[0m\u001b[0;34m,\u001b[0m\u001b[0;34m'attackDescription'\u001b[0m\u001b[0;34m]\u001b[0m\u001b[0;34m,\u001b[0m\u001b[0maxis\u001b[0m\u001b[0;34m=\u001b[0m\u001b[0;36m1\u001b[0m\u001b[0;34m)\u001b[0m\u001b[0;34m)\u001b[0m\u001b[0;34m\u001b[0m\u001b[0;34m\u001b[0m\u001b[0m\n\u001b[0m\u001b[1;32m      2\u001b[0m \u001b[0mprint\u001b[0m\u001b[0;34m(\u001b[0m\u001b[0mv_measure_values\u001b[0m\u001b[0;34m.\u001b[0m\u001b[0mappend\u001b[0m\u001b[0;34m(\u001b[0m\u001b[0mv_measure_score\u001b[0m\u001b[0;34m(\u001b[0m\u001b[0mdf_one_hot\u001b[0m\u001b[0;34m[\u001b[0m\u001b[0;34m'label'\u001b[0m\u001b[0;34m]\u001b[0m\u001b[0;34m.\u001b[0m\u001b[0mvalues\u001b[0m\u001b[0;34m,\u001b[0m \u001b[0magglomerative\u001b[0m\u001b[0;34m.\u001b[0m\u001b[0mlabels_\u001b[0m\u001b[0;34m)\u001b[0m\u001b[0;34m)\u001b[0m\u001b[0;34m)\u001b[0m\u001b[0;34m\u001b[0m\u001b[0;34m\u001b[0m\u001b[0m\n\u001b[1;32m      3\u001b[0m \u001b[0;31m#DBSCAN\u001b[0m\u001b[0;34m\u001b[0m\u001b[0;34m\u001b[0m\u001b[0;34m\u001b[0m\u001b[0m\n",
            "\u001b[0;31mNameError\u001b[0m: name 'AgglomerativeClustering' is not defined"
          ]
        }
      ]
    },
    {
      "cell_type": "markdown",
      "metadata": {
        "id": "SCPQ3esD_wt8",
        "colab_type": "text"
      },
      "source": [
        "# APPENDIX\n",
        "Some code to help with some of the tasks in part 1 of the assignment:\n",
        "- Converting column from string to datetime format:"
      ]
    },
    {
      "cell_type": "code",
      "metadata": {
        "id": "HC_Dof4U_wt8",
        "colab_type": "code",
        "colab": {}
      },
      "source": [
        "#df1['Date first seen'] = pd.to_datetime(df1['Date first seen'])"
      ],
      "execution_count": 0,
      "outputs": []
    },
    {
      "cell_type": "markdown",
      "metadata": {
        "id": "7_kNUWVb_wt8",
        "colab_type": "text"
      },
      "source": [
        "Getting time-of-day and day-of-week features from datetime object:"
      ]
    },
    {
      "cell_type": "code",
      "metadata": {
        "id": "kut1Soxr_wt8",
        "colab_type": "code",
        "colab": {}
      },
      "source": [
        "#df1['Date first seen'].dt.dayofweek\n",
        "#df1['Date first seen'].dt.hour"
      ],
      "execution_count": 0,
      "outputs": []
    },
    {
      "cell_type": "markdown",
      "metadata": {
        "id": "ak6mOrUm_wt8",
        "colab_type": "text"
      },
      "source": [
        "Splitting the Flags field into separate fields:"
      ]
    },
    {
      "cell_type": "code",
      "metadata": {
        "id": "XX9K-KDO_wt8",
        "colab_type": "code",
        "colab": {}
      },
      "source": [
        "#df1[\"Flag_1\"] = [x[0] for x in df1[\"Flags\"]]\n",
        "#df1[\"Flag_2\"] = [x[1] for x in df1[\"Flags\"]]\n",
        "#df1[\"Flag_3\"] = [x[2] for x in df1[\"Flags\"]]\n",
        "#df1[\"Flag_4\"] = [x[3] for x in df1[\"Flags\"]]\n",
        "#df1[\"Flag_5\"] = [x[4] for x in df1[\"Flags\"]]\n",
        "#df1[\"Flag_6\"] = [x[5] for x in df1[\"Flags\"]]"
      ],
      "execution_count": 0,
      "outputs": []
    },
    {
      "cell_type": "markdown",
      "metadata": {
        "id": "ssZ1BCcL_wt8",
        "colab_type": "text"
      },
      "source": [
        "Code for assigning Source IPs to 4 categories:"
      ]
    },
    {
      "cell_type": "code",
      "metadata": {
        "id": "tUZ2aFI-_wt8",
        "colab_type": "code",
        "colab": {}
      },
      "source": [
        "#def get_IP_category(ip_addr):\n",
        "#if ip_addr == 'DNS':\n",
        "#return 'DNS'\n",
        "#elif ip_addr == 'EXT_SERVER':\n",
        "#return 'EXT_SERVER'\n",
        "#elif len(ip_addr.split('.')) == 4:\n",
        "#return 'private'\n",
        "#elif len(ip_addr.split('_')) == 2:\n",
        "#return 'public'\n",
        "#else:\n",
        "#return '-'"
      ],
      "execution_count": 0,
      "outputs": []
    },
    {
      "cell_type": "markdown",
      "metadata": {
        "id": "zf-ueqZc_wt8",
        "colab_type": "text"
      },
      "source": [
        "Create new column with count of requests from same ‘Src IP Addr’ over the last 10 seconds:"
      ]
    },
    {
      "cell_type": "code",
      "metadata": {
        "id": "xkhreRiR_wvg",
        "colab_type": "code",
        "colab": {}
      },
      "source": [
        "#df1['Cum Count Src IP Addr (10seconds)'] = df1.groupby(['Src IP Addr', pd.Grouper(freq='10S',\n",
        "#key='Date first seen')]).cumcount()"
      ],
      "execution_count": 0,
      "outputs": []
    },
    {
      "cell_type": "markdown",
      "metadata": {
        "id": "5CcQPpNV_wvg",
        "colab_type": "text"
      },
      "source": [
        "#*Sara Imbeni*"
      ]
    },
    {
      "cell_type": "markdown",
      "metadata": {
        "id": "wez42W5e_wvg",
        "colab_type": "text"
      },
      "source": [
        "# *Giacomo Minello*"
      ]
    },
    {
      "cell_type": "markdown",
      "metadata": {
        "id": "o5A6jHiy_wvg",
        "colab_type": "text"
      },
      "source": [
        "#*Utkan Peker*"
      ]
    }
  ]
}