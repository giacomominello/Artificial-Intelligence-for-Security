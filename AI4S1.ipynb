{
  "nbformat": 4,
  "nbformat_minor": 0,
  "metadata": {
    "kernelspec": {
      "display_name": "Python 3",
      "language": "python",
      "name": "python3"
    },
    "language_info": {
      "codemirror_mode": {
        "name": "ipython",
        "version": 3
      },
      "file_extension": ".py",
      "mimetype": "text/x-python",
      "name": "python",
      "nbconvert_exporter": "python",
      "pygments_lexer": "ipython3",
      "version": "3.7.4"
    },
    "colab": {
      "name": "AI4S1.ipynb",
      "provenance": [],
      "collapsed_sections": [
        "PGITLdtJ_wq0",
        "5HdXVYi7_wq0",
        "SCPQ3esD_wt8"
      ],
      "machine_shape": "hm",
      "include_colab_link": true
    },
    "widgets": {
      "application/vnd.jupyter.widget-state+json": {
        "5ae794976b0c4c7f9ec3d8681f7d751d": {
          "model_module": "@jupyter-widgets/controls",
          "model_name": "VBoxModel",
          "state": {
            "_view_name": "VBoxView",
            "_dom_classes": [
              "widget-interact"
            ],
            "_model_name": "VBoxModel",
            "_view_module": "@jupyter-widgets/controls",
            "_model_module_version": "1.5.0",
            "_view_count": null,
            "_view_module_version": "1.5.0",
            "box_style": "",
            "layout": "IPY_MODEL_b4183fe1b4e14f5998173eface735013",
            "_model_module": "@jupyter-widgets/controls",
            "children": [
              "IPY_MODEL_ccc731a0b5fd4eafb5b357d55ffb79fd",
              "IPY_MODEL_e712dd45f0de4c4da95dac0e664bd5dd"
            ]
          }
        },
        "b4183fe1b4e14f5998173eface735013": {
          "model_module": "@jupyter-widgets/base",
          "model_name": "LayoutModel",
          "state": {
            "_view_name": "LayoutView",
            "grid_template_rows": null,
            "right": null,
            "justify_content": null,
            "_view_module": "@jupyter-widgets/base",
            "overflow": null,
            "_model_module_version": "1.2.0",
            "_view_count": null,
            "flex_flow": null,
            "width": null,
            "min_width": null,
            "border": null,
            "align_items": null,
            "bottom": null,
            "_model_module": "@jupyter-widgets/base",
            "top": null,
            "grid_column": null,
            "overflow_y": null,
            "overflow_x": null,
            "grid_auto_flow": null,
            "grid_area": null,
            "grid_template_columns": null,
            "flex": null,
            "_model_name": "LayoutModel",
            "justify_items": null,
            "grid_row": null,
            "max_height": null,
            "align_content": null,
            "visibility": null,
            "align_self": null,
            "height": null,
            "min_height": null,
            "padding": null,
            "grid_auto_rows": null,
            "grid_gap": null,
            "max_width": null,
            "order": null,
            "_view_module_version": "1.2.0",
            "grid_template_areas": null,
            "object_position": null,
            "object_fit": null,
            "grid_auto_columns": null,
            "margin": null,
            "display": null,
            "left": null
          }
        },
        "ccc731a0b5fd4eafb5b357d55ffb79fd": {
          "model_module": "@jupyter-widgets/controls",
          "model_name": "DropdownModel",
          "state": {
            "_options_labels": [
              "Duration",
              "Packets",
              "Day of week",
              "Time of day"
            ],
            "_view_name": "DropdownView",
            "style": "IPY_MODEL_ec09938532144b219a3cc435abaa709f",
            "_dom_classes": [],
            "description": "column",
            "_model_name": "DropdownModel",
            "index": 0,
            "_view_module": "@jupyter-widgets/controls",
            "_model_module_version": "1.5.0",
            "_view_count": null,
            "disabled": false,
            "_view_module_version": "1.5.0",
            "description_tooltip": null,
            "_model_module": "@jupyter-widgets/controls",
            "layout": "IPY_MODEL_03b2ecb480164234927d1a1ccbec52f2"
          }
        },
        "e712dd45f0de4c4da95dac0e664bd5dd": {
          "model_module": "@jupyter-widgets/output",
          "model_name": "OutputModel",
          "state": {
            "_view_name": "OutputView",
            "msg_id": "",
            "_dom_classes": [],
            "_model_name": "OutputModel",
            "outputs": [
              {
                "output_type": "display_data",
                "metadata": {
                  "tags": []
                },
                "image/png": "iVBORw0KGgoAAAANSUhEUgAAAaAAAAEGCAYAAAAjc0GqAAAABHNCSVQICAgIfAhkiAAAAAlwSFlz\nAAALEgAACxIB0t1+/AAAADh0RVh0U29mdHdhcmUAbWF0cGxvdGxpYiB2ZXJzaW9uMy4xLjIsIGh0\ndHA6Ly9tYXRwbG90bGliLm9yZy8li6FKAAAXFklEQVR4nO3dfZBddZ3n8fe3n0IikYQQQJ4SwiCs\nICA0a+JYAq7lgrjDMFIqMquIiluz1qiltQu4O2ptacG6iuv6wGZwRF1QChxdBgYcBonuUCbS4Skw\nyAABAhhIgCDhMQ/93T/OuXjp3Nt903T376bzflV15d5zf+f8vud37+1PzkOfE5mJJElTrad0AZKk\nnZMBJEkqwgCSJBVhAEmSijCAJElF9JUuoFvtscceuXDhwtJlSNIOZeXKlU9k5vxO2hpAbSxcuJCh\noaHSZUjSDiUiHuq0rbvgJElFGECSpCIMIElSEQaQJKkIA0iSVERXBlBE7BMRV47R5lMRMavp+d9H\nxJzJr06SNBG68jTszPwdcNoYzT4F/B/g+Xqed012XZ1YeM41Lz/uDUhgOGGgNzjrjw/k/ieeY90z\nL/K+Yw/gA28+4OW2Kx/awPLVT7J40TyOWTB3Umpr9DF31gAbnt/Usq+pqGOqTcd1kqaD4gEUEecD\nD2fmt+rnXwCeBc7MzMMjohe4ADgRGAb+GghgH+DGiHgiM0+IiAeBQWBX4DpgOfAW4Gbge8AXgT2B\nMzLzN5OxLs3hA7C16U4Xm7YmF/1q9cvPb39kFQAfePMBrHxoA2dcvJxNW4YZ6Ovh0o8unvBflI0+\nXto8TAI9wTZ9TUUdU206rpM0XXTDLrjLgfc2PX8vsKLp+dnAQuCozDwCuDQzvwH8DjghM09oscw/\nAr4KHFr/fAB4K/BZ4Lx2hUTE2RExFBFD69evH/8adejaO9cCsHz1k2zaMsxwwuYtwyxf/eSE99Xo\no5GJrfqaijqm2nRcJ2m6KB5AmXkrsGd93OdIYAPwcFOTdwD/OzO31O2f6mCxD2TmqswcBu4Cbsjq\nznurqMKsXS1LM3MwMwfnz+/oShKvykmHvw6AxYvmMdDXQ29Af18PixfNm/C+Gn003vCeFn1NRR1T\nbTqukzRdFN8FV7uC6pjP3lRbRK/WS02Ph5ueDzOJ6/zg+SeP6xjQMQvmculHF0/qcYrmPtodA5qK\nOqbadFwnabrolgC6nOrYzh7AccCMpteuBz4eETdm5paI2L3eCtoIzAaemPJqR/Hg+SePa75jFsyd\n9F+OnfQxFXVMtem4TtJ0UHwXHEBm3kUVJo9m5toRL18MrAHuiIjbqY7nACwFrouIG6euUknSRInq\n0IhGGhwcTK+GLUnbJyJWZuZgJ227YgtIkrTzMYAkSUUYQJKkIgwgSVIRBpAkqQgDSJJUhAEkSSrC\nAJIkFWEASZKKMIAkSUUYQJKkIgwgSVIRBpAkqQgDSJJUhAEkSSrCAJIkFWEASZKKMIAkSUUYQJKk\nIgwgSVIRBpAkqQgDSJJUhAEkSSrCAJIkFWEASZKKMIAkSUUYQJKkIgwgSVIRBpAkqQgDSJJUhAEk\nSSrCAJIkFWEASZKKMIAkSUUYQJKkIgwgSVIRBpAkqQgDSJJUhAEkSSrCAJIkFWEASZKKMIAkSUUY\nQJKkIgwgSVIRBpAkqQgDSJJUhAEkSSrCAJIkFWEASZKKMIAkSUUYQJKkIgwgSVIRBpAkqQgDSJJU\nhAEkSSrCAJIkFWEASZKKMIAkSUUYQJKkIgwgSVIRBpAkqQgDSJJUhAEkSSrCAJIkFWEASZKKMIAk\nSUUYQJKkIgwgSVIRBpAkqQgDSJJUhAEkSSrCAJIkFWEASZKKMIAkSUUYQJKkIgwgSVIRBpAkqQgD\nSJJUhAEkSSrCAJIkFWEASZKKMIAkSUUYQJKkIjoKoIj4ZES8NirfjYhbIuKdk12cJGn66nQL6KzM\nfAZ4JzAX+PfA+ZNWlSRp2us0gKL+913ADzPzrqZpkiRtt04DaGVE/ANVAP08ImYDw5NXliRpuuvr\nsN1HgKOA1Zn5fETsDnx48sqSJE13nW4BLQHuycynI+LPgf8C/H7yypIkTXedBtB3gOcj4kjgM8D9\nwA8mrSpJ0rTXaQBtycwETgG+mZnfAmaPp8OIOK/p8ZyI+IvxLKee/5KIOG2880uSyun0GNDGiDgX\n+HPgbRHRA/SPs8/zgC/Xj+cAfwF8e5zLGreI6MvMLRO93IXnXNNy+uwZvfy7o/blPUfvxzEL5k50\nt5K0w+l0C+h9wEvARzLzMWA/4CtjzRQRP4uIlRFxV0ScHRHnAzMj4raIuJTqb4kOqp9/JSJ2jYgb\n6j90XRURpzQt64MRcUdE3B4RP2zR13+rt4h6I+KYiPhl3ffPI+J1dZtlEfH1iBgCPtnhunesXfgA\nbHxpK5etWMPpS3/Nyoc2THTXkrTD6WgLqA6drzU9X0Nnx4DOysynImImcDNwHPCJzDwKICIWAoc3\nPe8DTs3MZyJiD2B5RFwFvIHqxIe3ZOYT9Vl4L4uIr1DtEvxwvU7/CzglM9dHxPuALwFn1c0HMnOw\nVbERcTZwNsABBxzQweptv81bk+Wrn3QrSNJOr6MAiojFVL/U/xUwAPQCz2bmbmPM+pcRcWr9eH/g\n4LG6Ar4cEW+j+jujfYG9gLcDV2TmEwCZ+VTTPP8VWJGZZ9e1HgIcDlwfEdS1rm1qf3m7zjNzKbAU\nYHBwMMeodVz6e4PFi+ZNxqIlaYfS6TGgbwLvB64ABoEPAq8fbYaIOB54B7Ck/tuhZcAuY/RzBjAf\nOCYzN0fEgx3MczNwTETsXgdTAHdl5pI27Z8bY3nj9uD5J3sMSJI61GkAkZn3RURvZm4FvhcRtwLn\njjLLbsCGOnwOBRbX0zdHRH9mbgY28sqz6XYD1tXhcwKwoJ7+C+CnEfG1zHyyKWwArgN+DlxTXyD1\nHmB+RCzJzF9HRD/w+vryQZPuwfNPnopuJGmH12kAPR8RA8BtEfHfqXZpjXUCw3XAf4iIu6lCYXk9\nfSlwR0TckplnRMRNEXEncC1wAfB3EbEKGAJ+C5CZd0XEl4BfRsRW4FbgzEZHmXlFfXmgq6guF3Qa\n8I2I2K1ex68DUxJAkqTORPXnPWM0ilgArKM69frTVFsq387M+ya3vHIGBwdzaGiodBmStEOJiJXt\nTvQaqdOz4B6qH74AfHG8hUmS1DBqANW7wtpuImXmERNekSRppzDWFtCfUZ0G/fCI6fsDj01KRZKk\nncJYJxJcCPw+Mx9q/qG6EvaFk1+eJGm6GiuA9srMVSMn1tMWTkpFkqSdwlgBNGeU12ZOZCGSpJ3L\nWAE0FBEfGzkxIj4KrJyckiRJO4OxTkL4FNUVCM7gD4EzSHU9uFPbziVJ0hhGDaDMfBx4S31ZnMPr\nyddk5i8mvTJJ0rTW6R+i3gjcOMm1SJJ2Ip3ekE6SpAllAEmSijCAJElFGECSpCIMIElSEQaQJKkI\nA0iSVIQBJEkqwgCSJBVhAEmSijCAJElFGECSpCIMIElSEQaQJKkIA0iSVIQBJEkqwgCSJBVhAEmS\nijCAJElFGECSpCIMIElSEQaQJKkIA0iSVIQBJEkqwgCSJBVhAEmSijCAJElFGECSpCIMIElSEQaQ\nJKkIA0iSVIQBJEkqwgCSJBVhAEmSijCAJElFGECSpCIMIElSEQaQJKkIA0iSVIQBJEkqwgCSJBVh\nAEmSijCAJElFGECSpCIMIElSEQaQJKkIA0iSVIQBJEkqwgCSJBVhAEmSijCAJElFGECSpCIMIElS\nEQaQJKkIA0iSVIQBJEkqwgCSJBVhAEmSijCAJElFGECSpCIMIElSEQaQJKkIA0iSVIQBJEkqwgCS\nJBVhAEmSijCAJElFGECSpCIMIElSEQaQJKkIA0iSVIQBJEkqwgCSJBVhAEmSijCAJElFGECSpCIM\nIElSEQaQJKkIA0iSVIQBJEkqYqcLoIhYFhGDpeuQpJ1dX+kCtkdE9GXmltJ1jGbhOddMeZ8BDPQF\nAFu2JrvN7KenN3jhpa3MHOhl/q4z2PjiZhLo6+lh40ubmT2jnzmz+nnfsQdwyN6zueDau1nz1PMs\nXjSPg/eazeJF8zhmwVzO//u7+dltjzJ31gD77z6L+bNnMHtGH/949+MQwTsO3ZPZM/tZvGgeAD+5\n5RFuuvcJ1m18kZn9vQC8dmY/u82s+vrAmw8AYOVDG1i++knmzhrgxnvWse6ZF1/xekOjXaOedtMa\nLluxhstvXsNer92Fjx93EOdceTv3rn/uFW36euDth+7Fx487aJtlzp01wIbnN7Vc9mj9jtWm1fKB\nl9s2Pz5mwVwuW7GGa+9cy0mHv26bMblsxRr+5qYHeGHTFg7bZzeOP2TPljWPNXaN9yuAPzt6v7br\nNF6jjcVPbnmE+x7fyFPPbWLR/F3brsNE9NeqzWjvc6fL7qS/Hc1on7vJEJk56Z28osOIhcC1wD8B\nbwEeBU4BDgEuAmYB9wNnZeaGiFgG3Aa8FfgR8EbgBeBNwJ7AWcAHgSXAisw8s+7nO8CxwEzgysz8\nfD19GfDZzBwarc7BwcEcGhq1yTZKhM9E6AkYbvoYBDCjv4cTD9ubn932uzHnD6C/r4fh4WG2DI/e\n9sunvpFD9p7NGRcvZ9OW4Vf023i9OaQa7Qb6erj0o4sBtpnW+PJftmIN5/10VaerTX9v8OOzl7y8\nzJc2D5NU4zFy2a1qaRVQrdo0Tx/Oerx6AyLYsnWYvt4eyGTLcDLQ18OZSxZy0a9WtxyTduvYeM9a\n9dlq7Pp6X/l+DfT18KOPbbtO4zXaWJy+9Nds2rrt751W4/5q+2vVZrT3udNlQ/vP4Y5q5Ger+XO3\nPSJiZWZ2tJep1C64g4FvZeZhwNPAe4AfAP85M48AVgGfb2o/kJmDmfnV+vlcqsD5NHAVcCFwGPDG\niDiqbvO5ehCOAI6LiCPGKioizo6IoYgYWr9+/atfyx3EyBBIYPOWYZb9S2dj0Gg/VvgAXHvnWpav\nfrJl+DReb2hut3nLMMtXP9lyWqt5O7F5a75imY1yWi17tH7HajNyfbPue3NT281b8+XH1931WNsx\nabeOjfegVZ/txq75/Wq3TuM12lhsbhE+0HrcX21/rdqM9j53uuxO+tvRjPxsbe/3aTxKBdADmXlb\n/XglcBAwJzN/WU/7PvC2pvaXj5j/77LadFsFPJ6ZqzJzGLgLWFi3eW9E3ALcShVObxirqMxcWgfd\n4Pz588ezXjuknnjl88YWzfGv72wMGu37Ovg0nXT461i8aB4DfT3b9Nt4vaHRrjeq5S9eNK/ltFbz\ndqK/N16xzEb5PS2WPVq/Y7UZub49dd/9TW37e+PlxycetnfbMWm3jj207nO0sWt+v9qt03iNNhb9\nvS3eeFqP+6vtr1Wb0d7nTpfdSX87mpGfre39Po1HqV1wV2fm4fXzzwL7Au/JzAPqaQcBV2Tm0SN3\nmUXEJfX8V7ZY1iXA1VShdj1wbL0b7xJgWWZeMpm74MBjQB4D8hhQJ2PhMaDuNBHHgLZnF1y3BNCu\nwKnAJzLz/0XEF4DdMvPT4wyge6l26b0JmA/cQbV7b9IDSJJ2ZtsTQN10FtyHgIsiYhawGvjweBeU\nmbdHxK3Ab4GHgZsmpkRJ0kSZ8i2gHYVbQJK0/XaEs+AkSTs5A0iSVIQBJEkqwgCSJBXhSQhtRMR6\n4KFxzr4H8MQEljMVrHlqWPPUsOap0armBZnZ0V+xG0CTICKGOj0LpFtY89Sw5qlhzVPj1dbsLjhJ\nUhEGkCSpCANociwtXcA4WPPUsOapYc1T41XV7DEgSVIRbgFJkoowgCRJRRhAEygiToyIeyLivog4\np3Q9rUTE/hFxY0T8c0TcFRGfrKfvHhHXR8S99b9dd4OTiOiNiFsj4ur6+YERsaIe78sjYqB0jc0i\nYk5EXBkRv42IuyNiSbePc0R8uv5c3BkRP4qIXbptnCPibyJiXUTc2TSt5bhG5Rt17XdExNFdVPNX\n6s/GHRHx04iY0/TauXXN90TEv+2Wmpte+0xEZETsUT8f1zgbQBMkInqBbwEnUd199fSIGPMurAVs\nAT6TmW8AFgP/sa7zHOCGzDwYuKF+3m0+Cdzd9PwC4MLM/CNgA/CRIlW19z+B6zLzUOBIqtq7dpwj\nYl/gL4HB+h5bvcD76b5xvgQ4ccS0duN6EnBw/XM28J0pqnGkS9i25uuBwzPzCOBfgHMB6u/j+6nu\n5Hwi8O3698tUu4RtayYi9gfeCaxpmjyucTaAJs6/Bu7LzNWZuQn4MXBK4Zq2kZlrM/OW+vFGql+K\n+1LV+v262feBPy1TYWsRsR9wMnBx/TyAtwNX1k26quaI2I3qtvLfBcjMTZn5NF0+zlT3CJsZEX3A\nLGAtXTbOmfkr4KkRk9uN6ynAD7KyHJgTEZN/r+kRWtWcmf+QmVvqp8uB/erHpwA/zsyXMvMB4D6q\n3y9Tqs04A1wI/Ceg+Qy2cY2zATRx9qW6+V3DI/W0rlXfUfZNwApgr8xcW7/0GLBXobLa+TrVh364\nfj4PeLrpC9xt430gsB74Xr3b8OKIeA1dPM6Z+SjwP6j+Z7sW+D3V7e27eZwb2o3rjvK9PAu4tn7c\ntTVHxCnAo5l5+4iXxlWzAbSTiohdgZ8An8rMZ5pfy+rc/K45Pz8i3g2sy8yVpWvZDn3A0cB3MvNN\nwHOM2N3WheM8l+p/sgcC+wCvocUumG7XbeM6loj4HNWu8UtL1zKa+m7V5wF/NVHLNIAmzqPA/k3P\n96undZ2I6KcKn0sz82/ryY83Npnrf9eVqq+FPwb+JCIepNq1+Xaq4ytz6l1F0H3j/QjwSGauqJ9f\nSRVI3TzO7wAeyMz1mbkZ+Fuqse/mcW5oN65d/b2MiDOBdwNn5B/+KLNbaz6I6j8nt9ffxf2AWyJi\nb8ZZswE0cW4GDq7PGBqgOoh4VeGatlEfO/kucHdmfq3ppauAD9WPPwT836murZ3MPDcz98vMhVTj\n+ovMPAO4ETitbtZtNT8GPBwRh9ST/g3wz3TxOFPtelscEbPqz0mj5q4d5ybtxvUq4IP1WVqLgd83\n7aorKiJOpNqt/CeZ+XzTS1cB74+IGRFxINWB/d+UqLFZZq7KzD0zc2H9XXwEOLr+rI9vnDPTnwn6\nAd5FdTbL/cDnStfTpsa3Uu2euAO4rf55F9UxlRuAe4F/BHYvXWub+o8Hrq4fL6L6Yt4HXAHMKF3f\niFqPAobqsf4ZMLfbxxn4IvBb4E7gh8CMbhtn4EdUx6g2178EP9JuXIGgOjv1fmAV1Rl+3VLzfVTH\nTRrfw4ua2n+urvke4KRuqXnE6w8Ce7yacfZSPJKkItwFJ0kqwgCSJBVhAEmSijCAJElFGECSpCIM\nIGkSRcTWiLitvsL07fVVhCfsexcRZ0bEPk3PL+7Si+BK2/A0bGkSRcSzmblr/XhP4DLgpsz8/HYs\nozczt7Z5bRnw2cwcmoh6pankFpA0RTJzHdWl6j9R/8X4mRHxzcbrEXF1RBxfP342Ir4aEbcDSyLi\nryLi5qju07O0nv80YBC4tN7KmhkRyyJisF7G6RGxqp7ngqZ+no2IL9VbZMsjomsuiKqdiwEkTaHM\nXE11n509x2j6GmBFZh6Zmf8EfDMzj83qPj0zgXdn5pVUV1o4IzOPyswXGjPXu+UuoLpu3lHAsRHx\np03LXp6ZRwK/Aj42gasodcwAkrrTVqoLxjacENVdSVdRhcphY8x/LLAsqwuLNq60/Lb6tU3A1fXj\nlcDCCata2g59YzeRNFEiYhFVuKyjugR/838Cd2l6/GLjuE9E7AJ8m+r6Wg9HxBdGtN1em/MPB3+3\n4u8BFeIWkDRFImI+cBHV7rSkupjjURHRU9/muN1dLxth80R9H6fTml7bCMxuMc9vgOMiYo/6ds6n\nA7+cgNWQJoz/85Em18yIuA3op9ri+SHQuA3GTcADVLc8uBu4pdUCMvPpiPhrqitUP0Z164+GS4CL\nIuIFYEnTPGsj4hyqWykEcE1mduNtFLQT8zRsSVIR7oKTJBVhAEmSijCAJElFGECSpCIMIElSEQaQ\nJKkIA0iSVMT/B+WEkgI95inDAAAAAElFTkSuQmCC\n",
                "text/plain": "<Figure size 432x288 with 1 Axes>"
              }
            ],
            "_view_module": "@jupyter-widgets/output",
            "_model_module_version": "1.0.0",
            "_view_count": null,
            "_view_module_version": "1.0.0",
            "layout": "IPY_MODEL_3f192667c94c4457ace2e2bcbd2fe9d9",
            "_model_module": "@jupyter-widgets/output"
          }
        },
        "ec09938532144b219a3cc435abaa709f": {
          "model_module": "@jupyter-widgets/controls",
          "model_name": "DescriptionStyleModel",
          "state": {
            "_view_name": "StyleView",
            "_model_name": "DescriptionStyleModel",
            "description_width": "",
            "_view_module": "@jupyter-widgets/base",
            "_model_module_version": "1.5.0",
            "_view_count": null,
            "_view_module_version": "1.2.0",
            "_model_module": "@jupyter-widgets/controls"
          }
        },
        "03b2ecb480164234927d1a1ccbec52f2": {
          "model_module": "@jupyter-widgets/base",
          "model_name": "LayoutModel",
          "state": {
            "_view_name": "LayoutView",
            "grid_template_rows": null,
            "right": null,
            "justify_content": null,
            "_view_module": "@jupyter-widgets/base",
            "overflow": null,
            "_model_module_version": "1.2.0",
            "_view_count": null,
            "flex_flow": null,
            "width": null,
            "min_width": null,
            "border": null,
            "align_items": null,
            "bottom": null,
            "_model_module": "@jupyter-widgets/base",
            "top": null,
            "grid_column": null,
            "overflow_y": null,
            "overflow_x": null,
            "grid_auto_flow": null,
            "grid_area": null,
            "grid_template_columns": null,
            "flex": null,
            "_model_name": "LayoutModel",
            "justify_items": null,
            "grid_row": null,
            "max_height": null,
            "align_content": null,
            "visibility": null,
            "align_self": null,
            "height": null,
            "min_height": null,
            "padding": null,
            "grid_auto_rows": null,
            "grid_gap": null,
            "max_width": null,
            "order": null,
            "_view_module_version": "1.2.0",
            "grid_template_areas": null,
            "object_position": null,
            "object_fit": null,
            "grid_auto_columns": null,
            "margin": null,
            "display": null,
            "left": null
          }
        }
      }
    }
  },
  "cells": [
    {
      "cell_type": "markdown",
      "metadata": {
        "id": "view-in-github",
        "colab_type": "text"
      },
      "source": [
        "<a href=\"https://colab.research.google.com/github/giacomominello/AI4S/blob/master/AI4S1.ipynb\" target=\"_parent\"><img src=\"https://colab.research.google.com/assets/colab-badge.svg\" alt=\"Open In Colab\"/></a>"
      ]
    },
    {
      "cell_type": "markdown",
      "metadata": {
        "id": "gOgBPNf__wmI",
        "colab_type": "text"
      },
      "source": [
        "# ARTIFICIAL INTELLIGENCE FOR SECURITY - Assignment: Analysing Network Traffic"
      ]
    },
    {
      "cell_type": "markdown",
      "metadata": {
        "id": "xEx3wc3E_wns",
        "colab_type": "text"
      },
      "source": [
        "Group: "
      ]
    },
    {
      "cell_type": "markdown",
      "metadata": {
        "id": "M2fmJpWRcxpo",
        "colab_type": "text"
      },
      "source": [
        "Let's start by importing some libraries and loading some extensions. "
      ]
    },
    {
      "cell_type": "code",
      "metadata": {
        "id": "4B3izXse_wns",
        "colab_type": "code",
        "colab": {}
      },
      "source": [
        "import pandas as pd #https://pandas.pydata.org/pandas-docs/stable/index.html\n",
        "import numpy as np #https://numpy.org/devdocs/ \n",
        "import time \n",
        "import seaborn as sns\n",
        "import matplotlib.pyplot as plt #https://matplotlib.org/api/pyplot_api.html\n",
        "from ipywidgets import widgets #https://ipywidgets.readthedocs.io/en/latest/\n",
        "from ipywidgets import interact #\"It's a surprise tool that will help us later\" \n",
        "%load_ext google.colab.data_table\n",
        "from sklearn.model_selection import train_test_split\n",
        "from sklearn import metrics\n",
        "from sklearn.utils import check_random_state\n",
        "random_state = np.random.RandomState(42) #should allow us to have deterministic results (up to roundoff error), we may need to pass this random_state instance to the generator"
      ],
      "execution_count": 0,
      "outputs": []
    },
    {
      "cell_type": "markdown",
      "metadata": {
        "id": "yIohdUxk_wns",
        "colab_type": "text"
      },
      "source": [
        "### First load the dataset for week 1 into a python notebook.\n",
        "- We will use data from week 1 for training a system and keep the week 2 data for testing purposes only."
      ]
    },
    {
      "cell_type": "code",
      "metadata": {
        "id": "q_FJ9PJiztQQ",
        "colab_type": "code",
        "colab": {}
      },
      "source": [
        "# Import PyDrive and associated libraries.\n",
        "# This only needs to be done once per notebook.\n",
        "from pydrive.auth import GoogleAuth\n",
        "from pydrive.drive import GoogleDrive\n",
        "from google.colab import auth\n",
        "from oauth2client.client import GoogleCredentials\n",
        "\n",
        "# Authenticate and create the PyDrive client.\n",
        "# This only needs to be done once per notebook.\n",
        "auth.authenticate_user()\n",
        "gauth = GoogleAuth()\n",
        "gauth.credentials = GoogleCredentials.get_application_default()\n",
        "drive = GoogleDrive(gauth)\n",
        "\n",
        "# Download a file based on its file ID.\n",
        "file_id = '1Gjcq50EpQOH-t-dwQVRP6MmO7JRiRDUf'\n",
        "downloaded = drive.CreateFile({'id': file_id})\n",
        "downloaded.GetContentFile('CIDDS-001-internal-week1_10pcSample.csv')  \n",
        "df = pd.read_csv('CIDDS-001-internal-week1_10pcSample.csv',index_col=[0],dtype={'Bytes': object})\n",
        "\n"
      ],
      "execution_count": 0,
      "outputs": []
    },
    {
      "cell_type": "code",
      "metadata": {
        "id": "M1Er5Kcy_wpQ",
        "colab_type": "code",
        "outputId": "55fafd78-5ae0-4796-c719-70c3093f89df",
        "colab": {
          "base_uri": "https://localhost:8080/",
          "height": 1000
        }
      },
      "source": [
        "df.head(100)"
      ],
      "execution_count": 0,
      "outputs": [
        {
          "output_type": "execute_result",
          "data": {
            "application/vnd.google.colaboratory.module+javascript": "\n      import \"https://ssl.gstatic.com/colaboratory/data_table/9e554b27bdd509f3/data_table.js\";\n\n      window.createDataTable({\n        data: [[{\n            'v': 23,\n            'f': \"23\",\n        },\n\"2017-03-15 00:01:17.728\",\n{\n            'v': 0.047,\n            'f': \"0.047\",\n        },\n\"TCP  \",\n\"192.168.220.16\",\n{\n            'v': 45586,\n            'f': \"45586\",\n        },\n\"10000_35\",\n{\n            'v': 443.0,\n            'f': \"443.0\",\n        },\n{\n            'v': 5,\n            'f': \"5\",\n        },\n\"     906\",\n{\n            'v': 1,\n            'f': \"1\",\n        },\n\".AP.S.\",\n{\n            'v': 0,\n            'f': \"0\",\n        },\n\"normal\",\n\"---\",\n\"---\",\n\"---\"],\n [{\n            'v': 36,\n            'f': \"36\",\n        },\n\"2017-03-15 00:01:18.457\",\n{\n            'v': 0.17,\n            'f': \"0.17\",\n        },\n\"TCP  \",\n\"10003_195\",\n{\n            'v': 80,\n            'f': \"80\",\n        },\n\"192.168.220.16\",\n{\n            'v': 48286.0,\n            'f': \"48286.0\",\n        },\n{\n            'v': 3,\n            'f': \"3\",\n        },\n\"     908\",\n{\n            'v': 1,\n            'f': \"1\",\n        },\n\".AP.S.\",\n{\n            'v': 32,\n            'f': \"32\",\n        },\n\"normal\",\n\"---\",\n\"---\",\n\"---\"],\n [{\n            'v': 30,\n            'f': \"30\",\n        },\n\"2017-03-15 00:01:18.511\",\n{\n            'v': 0.003,\n            'f': \"0.003\",\n        },\n\"TCP  \",\n\"10002_113\",\n{\n            'v': 443,\n            'f': \"443\",\n        },\n\"192.168.220.16\",\n{\n            'v': 49062.0,\n            'f': \"49062.0\",\n        },\n{\n            'v': 2,\n            'f': \"2\",\n        },\n\"    1089\",\n{\n            'v': 1,\n            'f': \"1\",\n        },\n\".AP...\",\n{\n            'v': 32,\n            'f': \"32\",\n        },\n\"normal\",\n\"---\",\n\"---\",\n\"---\"],\n [{\n            'v': 46,\n            'f': \"46\",\n        },\n\"2017-03-15 00:01:22.400\",\n{\n            'v': 0.0,\n            'f': \"0.0\",\n        },\n\"TCP  \",\n\"EXT_SERVER\",\n{\n            'v': 8082,\n            'f': \"8082\",\n        },\n\"192.168.220.15\",\n{\n            'v': 37039.0,\n            'f': \"37039.0\",\n        },\n{\n            'v': 1,\n            'f': \"1\",\n        },\n\"     212\",\n{\n            'v': 1,\n            'f': \"1\",\n        },\n\".AP...\",\n{\n            'v': 32,\n            'f': \"32\",\n        },\n\"normal\",\n\"---\",\n\"---\",\n\"---\"],\n [{\n            'v': 51,\n            'f': \"51\",\n        },\n\"2017-03-15 00:01:24.152\",\n{\n            'v': 0.266,\n            'f': \"0.266\",\n        },\n\"TCP  \",\n\"192.168.200.9\",\n{\n            'v': 52290,\n            'f': \"52290\",\n        },\n\"EXT_SERVER\",\n{\n            'v': 8082.0,\n            'f': \"8082.0\",\n        },\n{\n            'v': 2,\n            'f': \"2\",\n        },\n\"     319\",\n{\n            'v': 1,\n            'f': \"1\",\n        },\n\".AP...\",\n{\n            'v': 0,\n            'f': \"0\",\n        },\n\"normal\",\n\"---\",\n\"---\",\n\"---\"],\n [{\n            'v': 61,\n            'f': \"61\",\n        },\n\"2017-03-15 00:01:26.075\",\n{\n            'v': 0.052000000000000005,\n            'f': \"0.052000000000000005\",\n        },\n\"TCP  \",\n\"192.168.220.16\",\n{\n            'v': 51161,\n            'f': \"51161\",\n        },\n\"10001_232\",\n{\n            'v': 443.0,\n            'f': \"443.0\",\n        },\n{\n            'v': 6,\n            'f': \"6\",\n        },\n\"     972\",\n{\n            'v': 1,\n            'f': \"1\",\n        },\n\".AP.S.\",\n{\n            'v': 0,\n            'f': \"0\",\n        },\n\"normal\",\n\"---\",\n\"---\",\n\"---\"],\n [{\n            'v': 115,\n            'f': \"115\",\n        },\n\"2017-03-15 00:01:40.619\",\n{\n            'v': 0.0,\n            'f': \"0.0\",\n        },\n\"TCP  \",\n\"10001_232\",\n{\n            'v': 443,\n            'f': \"443\",\n        },\n\"192.168.220.16\",\n{\n            'v': 51113.0,\n            'f': \"51113.0\",\n        },\n{\n            'v': 1,\n            'f': \"1\",\n        },\n\"      66\",\n{\n            'v': 1,\n            'f': \"1\",\n        },\n\".A....\",\n{\n            'v': 0,\n            'f': \"0\",\n        },\n\"normal\",\n\"---\",\n\"---\",\n\"---\"],\n [{\n            'v': 121,\n            'f': \"121\",\n        },\n\"2017-03-15 00:01:42.380\",\n{\n            'v': 0.0,\n            'f': \"0.0\",\n        },\n\"TCP  \",\n\"EXT_SERVER\",\n{\n            'v': 8082,\n            'f': \"8082\",\n        },\n\"192.168.200.4\",\n{\n            'v': 56978.0,\n            'f': \"56978.0\",\n        },\n{\n            'v': 1,\n            'f': \"1\",\n        },\n\"     212\",\n{\n            'v': 1,\n            'f': \"1\",\n        },\n\".AP...\",\n{\n            'v': 32,\n            'f': \"32\",\n        },\n\"normal\",\n\"---\",\n\"---\",\n\"---\"],\n [{\n            'v': 126,\n            'f': \"126\",\n        },\n\"2017-03-15 00:01:46.361\",\n{\n            'v': 0.0,\n            'f': \"0.0\",\n        },\n\"TCP  \",\n\"192.168.100.5\",\n{\n            'v': 445,\n            'f': \"445\",\n        },\n\"192.168.220.10\",\n{\n            'v': 40239.0,\n            'f': \"40239.0\",\n        },\n{\n            'v': 1,\n            'f': \"1\",\n        },\n\"     108\",\n{\n            'v': 1,\n            'f': \"1\",\n        },\n\".AP...\",\n{\n            'v': 0,\n            'f': \"0\",\n        },\n\"normal\",\n\"---\",\n\"---\",\n\"---\"],\n [{\n            'v': 160,\n            'f': \"160\",\n        },\n\"2017-03-15 00:02:03.175\",\n{\n            'v': 0.085,\n            'f': \"0.085\",\n        },\n\"TCP  \",\n\"10000_35\",\n{\n            'v': 443,\n            'f': \"443\",\n        },\n\"192.168.220.16\",\n{\n            'v': 45633.0,\n            'f': \"45633.0\",\n        },\n{\n            'v': 4,\n            'f': \"4\",\n        },\n\"     419\",\n{\n            'v': 1,\n            'f': \"1\",\n        },\n\".AP.S.\",\n{\n            'v': 0,\n            'f': \"0\",\n        },\n\"normal\",\n\"---\",\n\"---\",\n\"---\"],\n [{\n            'v': 159,\n            'f': \"159\",\n        },\n\"2017-03-15 00:02:03.179\",\n{\n            'v': 0.209,\n            'f': \"0.209\",\n        },\n\"TCP  \",\n\"10001_232\",\n{\n            'v': 80,\n            'f': \"80\",\n        },\n\"192.168.220.16\",\n{\n            'v': 49812.0,\n            'f': \"49812.0\",\n        },\n{\n            'v': 4,\n            'f': \"4\",\n        },\n\"     697\",\n{\n            'v': 1,\n            'f': \"1\",\n        },\n\".AP.S.\",\n{\n            'v': 0,\n            'f': \"0\",\n        },\n\"normal\",\n\"---\",\n\"---\",\n\"---\"],\n [{\n            'v': 182,\n            'f': \"182\",\n        },\n\"2017-03-15 00:02:03.968\",\n{\n            'v': 0.32299999999999995,\n            'f': \"0.32299999999999995\",\n        },\n\"TCP  \",\n\"192.168.220.16\",\n{\n            'v': 48332,\n            'f': \"48332\",\n        },\n\"10003_195\",\n{\n            'v': 80.0,\n            'f': \"80.0\",\n        },\n{\n            'v': 5,\n            'f': \"5\",\n        },\n\"    2406\",\n{\n            'v': 1,\n            'f': \"1\",\n        },\n\".AP.S.\",\n{\n            'v': 0,\n            'f': \"0\",\n        },\n\"normal\",\n\"---\",\n\"---\",\n\"---\"],\n [{\n            'v': 175,\n            'f': \"175\",\n        },\n\"2017-03-15 00:02:04.070\",\n{\n            'v': 0.0,\n            'f': \"0.0\",\n        },\n\"UDP  \",\n\"192.168.220.16\",\n{\n            'v': 45970,\n            'f': \"45970\",\n        },\n\"DNS\",\n{\n            'v': 53.0,\n            'f': \"53.0\",\n        },\n{\n            'v': 2,\n            'f': \"2\",\n        },\n\"     144\",\n{\n            'v': 1,\n            'f': \"1\",\n        },\n\"......\",\n{\n            'v': 0,\n            'f': \"0\",\n        },\n\"normal\",\n\"---\",\n\"---\",\n\"---\"],\n [{\n            'v': 200,\n            'f': \"200\",\n        },\n\"2017-03-15 00:02:07.257\",\n{\n            'v': 0.0,\n            'f': \"0.0\",\n        },\n\"UDP  \",\n\"192.168.200.8\",\n{\n            'v': 63352,\n            'f': \"63352\",\n        },\n\"DNS\",\n{\n            'v': 53.0,\n            'f': \"53.0\",\n        },\n{\n            'v': 1,\n            'f': \"1\",\n        },\n\"      76\",\n{\n            'v': 1,\n            'f': \"1\",\n        },\n\"......\",\n{\n            'v': 0,\n            'f': \"0\",\n        },\n\"normal\",\n\"---\",\n\"---\",\n\"---\"],\n [{\n            'v': 199,\n            'f': \"199\",\n        },\n\"2017-03-15 00:02:07.346\",\n{\n            'v': 0.0,\n            'f': \"0.0\",\n        },\n\"UDP  \",\n\"192.168.200.8\",\n{\n            'v': 59311,\n            'f': \"59311\",\n        },\n\"DNS\",\n{\n            'v': 53.0,\n            'f': \"53.0\",\n        },\n{\n            'v': 1,\n            'f': \"1\",\n        },\n\"      81\",\n{\n            'v': 1,\n            'f': \"1\",\n        },\n\"......\",\n{\n            'v': 0,\n            'f': \"0\",\n        },\n\"normal\",\n\"---\",\n\"---\",\n\"---\"],\n [{\n            'v': 196,\n            'f': \"196\",\n        },\n\"2017-03-15 00:02:07.394\",\n{\n            'v': 0.002,\n            'f': \"0.002\",\n        },\n\"TCP  \",\n\"192.168.220.6\",\n{\n            'v': 46709,\n            'f': \"46709\",\n        },\n\"192.168.100.5\",\n{\n            'v': 445.0,\n            'f': \"445.0\",\n        },\n{\n            'v': 2,\n            'f': \"2\",\n        },\n\"     174\",\n{\n            'v': 1,\n            'f': \"1\",\n        },\n\".AP...\",\n{\n            'v': 0,\n            'f': \"0\",\n        },\n\"normal\",\n\"---\",\n\"---\",\n\"---\"],\n [{\n            'v': 205,\n            'f': \"205\",\n        },\n\"2017-03-15 00:02:07.992\",\n{\n            'v': 0.0,\n            'f': \"0.0\",\n        },\n\"TCP  \",\n\"192.168.220.16\",\n{\n            'v': 45487,\n            'f': \"45487\",\n        },\n\"10000_35\",\n{\n            'v': 443.0,\n            'f': \"443.0\",\n        },\n{\n            'v': 1,\n            'f': \"1\",\n        },\n\"      66\",\n{\n            'v': 1,\n            'f': \"1\",\n        },\n\".A....\",\n{\n            'v': 0,\n            'f': \"0\",\n        },\n\"normal\",\n\"---\",\n\"---\",\n\"---\"],\n [{\n            'v': 204,\n            'f': \"204\",\n        },\n\"2017-03-15 00:02:08.012\",\n{\n            'v': 0.0,\n            'f': \"0.0\",\n        },\n\"TCP  \",\n\"10000_35\",\n{\n            'v': 443,\n            'f': \"443\",\n        },\n\"192.168.220.16\",\n{\n            'v': 45487.0,\n            'f': \"45487.0\",\n        },\n{\n            'v': 1,\n            'f': \"1\",\n        },\n\"      66\",\n{\n            'v': 1,\n            'f': \"1\",\n        },\n\".A....\",\n{\n            'v': 0,\n            'f': \"0\",\n        },\n\"normal\",\n\"---\",\n\"---\",\n\"---\"],\n [{\n            'v': 213,\n            'f': \"213\",\n        },\n\"2017-03-15 00:02:08.630\",\n{\n            'v': 0.0,\n            'f': \"0.0\",\n        },\n\"TCP  \",\n\"192.168.100.5\",\n{\n            'v': 445,\n            'f': \"445\",\n        },\n\"192.168.220.4\",\n{\n            'v': 43145.0,\n            'f': \"43145.0\",\n        },\n{\n            'v': 1,\n            'f': \"1\",\n        },\n\"     108\",\n{\n            'v': 1,\n            'f': \"1\",\n        },\n\".AP...\",\n{\n            'v': 0,\n            'f': \"0\",\n        },\n\"normal\",\n\"---\",\n\"---\",\n\"---\"],\n [{\n            'v': 218,\n            'f': \"218\",\n        },\n\"2017-03-15 00:02:09.761\",\n{\n            'v': 0.0,\n            'f': \"0.0\",\n        },\n\"UDP  \",\n\"192.168.100.4\",\n{\n            'v': 138,\n            'f': \"138\",\n        },\n\"192.168.100.255\",\n{\n            'v': 138.0,\n            'f': \"138.0\",\n        },\n{\n            'v': 1,\n            'f': \"1\",\n        },\n\"     262\",\n{\n            'v': 1,\n            'f': \"1\",\n        },\n\"......\",\n{\n            'v': 0,\n            'f': \"0\",\n        },\n\"normal\",\n\"---\",\n\"---\",\n\"---\"],\n [{\n            'v': 233,\n            'f': \"233\",\n        },\n\"2017-03-15 00:02:20.462\",\n{\n            'v': 0.0,\n            'f': \"0.0\",\n        },\n\"TCP  \",\n\"192.168.220.16\",\n{\n            'v': 51357,\n            'f': \"51357\",\n        },\n\"192.168.200.1\",\n{\n            'v': 15660.0,\n            'f': \"15660.0\",\n        },\n{\n            'v': 1,\n            'f': \"1\",\n        },\n\"      58\",\n{\n            'v': 1,\n            'f': \"1\",\n        },\n\"....S.\",\n{\n            'v': 0,\n            'f': \"0\",\n        },\n\"attacker\",\n\"portScan\",\n\"1\",\n\"nmap args: -sS -T 1\"],\n [{\n            'v': 252,\n            'f': \"252\",\n        },\n\"2017-03-15 00:02:27.070\",\n{\n            'v': 0.0,\n            'f': \"0.0\",\n        },\n\"UDP  \",\n\"192.168.220.9\",\n{\n            'v': 137,\n            'f': \"137\",\n        },\n\"192.168.220.255\",\n{\n            'v': 137.0,\n            'f': \"137.0\",\n        },\n{\n            'v': 1,\n            'f': \"1\",\n        },\n\"      92\",\n{\n            'v': 1,\n            'f': \"1\",\n        },\n\"......\",\n{\n            'v': 0,\n            'f': \"0\",\n        },\n\"normal\",\n\"---\",\n\"---\",\n\"---\"],\n [{\n            'v': 253,\n            'f': \"253\",\n        },\n\"2017-03-15 00:02:28.413\",\n{\n            'v': 0.0,\n            'f': \"0.0\",\n        },\n\"TCP  \",\n\"192.168.100.5\",\n{\n            'v': 445,\n            'f': \"445\",\n        },\n\"192.168.220.7\",\n{\n            'v': 37191.0,\n            'f': \"37191.0\",\n        },\n{\n            'v': 1,\n            'f': \"1\",\n        },\n\"     108\",\n{\n            'v': 1,\n            'f': \"1\",\n        },\n\".AP...\",\n{\n            'v': 0,\n            'f': \"0\",\n        },\n\"normal\",\n\"---\",\n\"---\",\n\"---\"],\n [{\n            'v': 259,\n            'f': \"259\",\n        },\n\"2017-03-15 00:02:30.901\",\n{\n            'v': 0.003,\n            'f': \"0.003\",\n        },\n\"TCP  \",\n\"192.168.220.13\",\n{\n            'v': 60689,\n            'f': \"60689\",\n        },\n\"192.168.100.5\",\n{\n            'v': 445.0,\n            'f': \"445.0\",\n        },\n{\n            'v': 2,\n            'f': \"2\",\n        },\n\"     174\",\n{\n            'v': 1,\n            'f': \"1\",\n        },\n\".AP...\",\n{\n            'v': 0,\n            'f': \"0\",\n        },\n\"normal\",\n\"---\",\n\"---\",\n\"---\"],\n [{\n            'v': 302,\n            'f': \"302\",\n        },\n\"2017-03-15 00:02:44.536\",\n{\n            'v': 0.0,\n            'f': \"0.0\",\n        },\n\"TCP  \",\n\"192.168.220.16\",\n{\n            'v': 49062,\n            'f': \"49062\",\n        },\n\"10002_113\",\n{\n            'v': 443.0,\n            'f': \"443.0\",\n        },\n{\n            'v': 1,\n            'f': \"1\",\n        },\n\"      54\",\n{\n            'v': 1,\n            'f': \"1\",\n        },\n\".A....\",\n{\n            'v': 0,\n            'f': \"0\",\n        },\n\"normal\",\n\"---\",\n\"---\",\n\"---\"],\n [{\n            'v': 317,\n            'f': \"317\",\n        },\n\"2017-03-15 00:02:45.760\",\n{\n            'v': 0.048,\n            'f': \"0.048\",\n        },\n\"TCP  \",\n\"192.168.220.16\",\n{\n            'v': 45654,\n            'f': \"45654\",\n        },\n\"10000_35\",\n{\n            'v': 443.0,\n            'f': \"443.0\",\n        },\n{\n            'v': 5,\n            'f': \"5\",\n        },\n\"     906\",\n{\n            'v': 1,\n            'f': \"1\",\n        },\n\".AP.S.\",\n{\n            'v': 0,\n            'f': \"0\",\n        },\n\"normal\",\n\"---\",\n\"---\",\n\"---\"],\n [{\n            'v': 308,\n            'f': \"308\",\n        },\n\"2017-03-15 00:02:45.783\",\n{\n            'v': 0.085,\n            'f': \"0.085\",\n        },\n\"TCP  \",\n\"10001_232\",\n{\n            'v': 443,\n            'f': \"443\",\n        },\n\"192.168.220.16\",\n{\n            'v': 51207.0,\n            'f': \"51207.0\",\n        },\n{\n            'v': 5,\n            'f': \"5\",\n        },\n\"     498\",\n{\n            'v': 1,\n            'f': \"1\",\n        },\n\".AP.S.\",\n{\n            'v': 0,\n            'f': \"0\",\n        },\n\"normal\",\n\"---\",\n\"---\",\n\"---\"],\n [{\n            'v': 355,\n            'f': \"355\",\n        },\n\"2017-03-15 00:02:55.470\",\n{\n            'v': 0.0,\n            'f': \"0.0\",\n        },\n\"TCP  \",\n\"192.168.220.16\",\n{\n            'v': 51357,\n            'f': \"51357\",\n        },\n\"192.168.200.9\",\n{\n            'v': 9500.0,\n            'f': \"9500.0\",\n        },\n{\n            'v': 1,\n            'f': \"1\",\n        },\n\"      58\",\n{\n            'v': 1,\n            'f': \"1\",\n        },\n\"....S.\",\n{\n            'v': 0,\n            'f': \"0\",\n        },\n\"attacker\",\n\"portScan\",\n\"1\",\n\"nmap args: -sS -T 1\"],\n [{\n            'v': 356,\n            'f': \"356\",\n        },\n\"2017-03-15 00:02:55.506\",\n{\n            'v': 0.0,\n            'f': \"0.0\",\n        },\n\"TCP  \",\n\"EXT_SERVER\",\n{\n            'v': 8082,\n            'f': \"8082\",\n        },\n\"192.168.220.15\",\n{\n            'v': 37039.0,\n            'f': \"37039.0\",\n        },\n{\n            'v': 1,\n            'f': \"1\",\n        },\n\"     212\",\n{\n            'v': 1,\n            'f': \"1\",\n        },\n\".AP...\",\n{\n            'v': 32,\n            'f': \"32\",\n        },\n\"normal\",\n\"---\",\n\"---\",\n\"---\"],\n [{\n            'v': 370,\n            'f': \"370\",\n        },\n\"2017-03-15 00:02:57.541\",\n{\n            'v': 0.019,\n            'f': \"0.019\",\n        },\n\"TCP  \",\n\"192.168.220.14\",\n{\n            'v': 48380,\n            'f': \"48380\",\n        },\n\"EXT_SERVER\",\n{\n            'v': 8082.0,\n            'f': \"8082.0\",\n        },\n{\n            'v': 2,\n            'f': \"2\",\n        },\n\"     338\",\n{\n            'v': 1,\n            'f': \"1\",\n        },\n\".AP...\",\n{\n            'v': 0,\n            'f': \"0\",\n        },\n\"normal\",\n\"---\",\n\"---\",\n\"---\"],\n [{\n            'v': 375,\n            'f': \"375\",\n        },\n\"2017-03-15 00:03:05.076\",\n{\n            'v': 0.0,\n            'f': \"0.0\",\n        },\n\"TCP  \",\n\"EXT_SERVER\",\n{\n            'v': 8082,\n            'f': \"8082\",\n        },\n\"192.168.220.9\",\n{\n            'v': 50807.0,\n            'f': \"50807.0\",\n        },\n{\n            'v': 1,\n            'f': \"1\",\n        },\n\"     212\",\n{\n            'v': 1,\n            'f': \"1\",\n        },\n\".AP...\",\n{\n            'v': 32,\n            'f': \"32\",\n        },\n\"normal\",\n\"---\",\n\"---\",\n\"---\"],\n [{\n            'v': 390,\n            'f': \"390\",\n        },\n\"2017-03-15 00:03:05.880\",\n{\n            'v': 0.0,\n            'f': \"0.0\",\n        },\n\"TCP  \",\n\"192.168.220.16\",\n{\n            'v': 45061,\n            'f': \"45061\",\n        },\n\"10000_35\",\n{\n            'v': 443.0,\n            'f': \"443.0\",\n        },\n{\n            'v': 1,\n            'f': \"1\",\n        },\n\"      66\",\n{\n            'v': 1,\n            'f': \"1\",\n        },\n\".A....\",\n{\n            'v': 0,\n            'f': \"0\",\n        },\n\"normal\",\n\"---\",\n\"---\",\n\"---\"],\n [{\n            'v': 388,\n            'f': \"388\",\n        },\n\"2017-03-15 00:03:06.349\",\n{\n            'v': 0.075,\n            'f': \"0.075\",\n        },\n\"TCP  \",\n\"192.168.200.8\",\n{\n            'v': 62887,\n            'f': \"62887\",\n        },\n\"10005_14\",\n{\n            'v': 443.0,\n            'f': \"443.0\",\n        },\n{\n            'v': 2,\n            'f': \"2\",\n        },\n\"     166\",\n{\n            'v': 1,\n            'f': \"1\",\n        },\n\".AP...\",\n{\n            'v': 0,\n            'f': \"0\",\n        },\n\"normal\",\n\"---\",\n\"---\",\n\"---\"],\n [{\n            'v': 389,\n            'f': \"389\",\n        },\n\"2017-03-15 00:03:07.144\",\n{\n            'v': 0.02,\n            'f': \"0.02\",\n        },\n\"TCP  \",\n\"192.168.220.16\",\n{\n            'v': 45675,\n            'f': \"45675\",\n        },\n\"10000_35\",\n{\n            'v': 443.0,\n            'f': \"443.0\",\n        },\n{\n            'v': 3,\n            'f': \"3\",\n        },\n\"     723\",\n{\n            'v': 1,\n            'f': \"1\",\n        },\n\".AP.S.\",\n{\n            'v': 0,\n            'f': \"0\",\n        },\n\"normal\",\n\"---\",\n\"---\",\n\"---\"],\n [{\n            'v': 384,\n            'f': \"384\",\n        },\n\"2017-03-15 00:03:07.145\",\n{\n            'v': 0.019,\n            'f': \"0.019\",\n        },\n\"TCP  \",\n\"192.168.220.16\",\n{\n            'v': 45676,\n            'f': \"45676\",\n        },\n\"10000_35\",\n{\n            'v': 443.0,\n            'f': \"443.0\",\n        },\n{\n            'v': 3,\n            'f': \"3\",\n        },\n\"     723\",\n{\n            'v': 1,\n            'f': \"1\",\n        },\n\".AP.S.\",\n{\n            'v': 0,\n            'f': \"0\",\n        },\n\"normal\",\n\"---\",\n\"---\",\n\"---\"],\n [{\n            'v': 411,\n            'f': \"411\",\n        },\n\"2017-03-15 00:03:08.090\",\n{\n            'v': 0.0,\n            'f': \"0.0\",\n        },\n\"UDP  \",\n\"DNS\",\n{\n            'v': 53,\n            'f': \"53\",\n        },\n\"192.168.220.16\",\n{\n            'v': 58446.0,\n            'f': \"58446.0\",\n        },\n{\n            'v': 2,\n            'f': \"2\",\n        },\n\"     533\",\n{\n            'v': 1,\n            'f': \"1\",\n        },\n\"......\",\n{\n            'v': 0,\n            'f': \"0\",\n        },\n\"normal\",\n\"---\",\n\"---\",\n\"---\"],\n [{\n            'v': 419,\n            'f': \"419\",\n        },\n\"2017-03-15 00:03:09.240\",\n{\n            'v': 0.004,\n            'f': \"0.004\",\n        },\n\"TCP  \",\n\"192.168.220.8\",\n{\n            'v': 49094,\n            'f': \"49094\",\n        },\n\"192.168.100.5\",\n{\n            'v': 445.0,\n            'f': \"445.0\",\n        },\n{\n            'v': 2,\n            'f': \"2\",\n        },\n\"     174\",\n{\n            'v': 1,\n            'f': \"1\",\n        },\n\".AP...\",\n{\n            'v': 0,\n            'f': \"0\",\n        },\n\"normal\",\n\"---\",\n\"---\",\n\"---\"],\n [{\n            'v': 423,\n            'f': \"423\",\n        },\n\"2017-03-15 00:03:11.473\",\n{\n            'v': 0.0,\n            'f': \"0.0\",\n        },\n\"TCP  \",\n\"192.168.220.16\",\n{\n            'v': 51358,\n            'f': \"51358\",\n        },\n\"192.168.200.9\",\n{\n            'v': 9500.0,\n            'f': \"9500.0\",\n        },\n{\n            'v': 1,\n            'f': \"1\",\n        },\n\"      58\",\n{\n            'v': 1,\n            'f': \"1\",\n        },\n\"....S.\",\n{\n            'v': 0,\n            'f': \"0\",\n        },\n\"attacker\",\n\"portScan\",\n\"1\",\n\"nmap args: -sS -T 1\"],\n [{\n            'v': 436,\n            'f': \"436\",\n        },\n\"2017-03-15 00:03:16.954\",\n{\n            'v': 0.0,\n            'f': \"0.0\",\n        },\n\"TCP  \",\n\"192.168.100.5\",\n{\n            'v': 445,\n            'f': \"445\",\n        },\n\"192.168.220.16\",\n{\n            'v': 58844.0,\n            'f': \"58844.0\",\n        },\n{\n            'v': 1,\n            'f': \"1\",\n        },\n\"     108\",\n{\n            'v': 1,\n            'f': \"1\",\n        },\n\".AP...\",\n{\n            'v': 0,\n            'f': \"0\",\n        },\n\"normal\",\n\"---\",\n\"---\",\n\"---\"],\n [{\n            'v': 472,\n            'f': \"472\",\n        },\n\"2017-03-15 00:03:28.536\",\n{\n            'v': 0.048,\n            'f': \"0.048\",\n        },\n\"TCP  \",\n\"192.168.220.16\",\n{\n            'v': 45702,\n            'f': \"45702\",\n        },\n\"10000_35\",\n{\n            'v': 443.0,\n            'f': \"443.0\",\n        },\n{\n            'v': 5,\n            'f': \"5\",\n        },\n\"     906\",\n{\n            'v': 1,\n            'f': \"1\",\n        },\n\".AP.S.\",\n{\n            'v': 0,\n            'f': \"0\",\n        },\n\"normal\",\n\"---\",\n\"---\",\n\"---\"],\n [{\n            'v': 473,\n            'f': \"473\",\n        },\n\"2017-03-15 00:03:28.537\",\n{\n            'v': 0.047,\n            'f': \"0.047\",\n        },\n\"TCP  \",\n\"192.168.220.16\",\n{\n            'v': 51254,\n            'f': \"51254\",\n        },\n\"10001_232\",\n{\n            'v': 443.0,\n            'f': \"443.0\",\n        },\n{\n            'v': 6,\n            'f': \"6\",\n        },\n\"     972\",\n{\n            'v': 1,\n            'f': \"1\",\n        },\n\".AP.S.\",\n{\n            'v': 0,\n            'f': \"0\",\n        },\n\"normal\",\n\"---\",\n\"---\",\n\"---\"],\n [{\n            'v': 459,\n            'f': \"459\",\n        },\n\"2017-03-15 00:03:28.558\",\n{\n            'v': 0.086,\n            'f': \"0.086\",\n        },\n\"TCP  \",\n\"10000_35\",\n{\n            'v': 443,\n            'f': \"443\",\n        },\n\"192.168.220.16\",\n{\n            'v': 45700.0,\n            'f': \"45700.0\",\n        },\n{\n            'v': 4,\n            'f': \"4\",\n        },\n\"     419\",\n{\n            'v': 1,\n            'f': \"1\",\n        },\n\".AP.S.\",\n{\n            'v': 0,\n            'f': \"0\",\n        },\n\"normal\",\n\"---\",\n\"---\",\n\"---\"],\n [{\n            'v': 467,\n            'f': \"467\",\n        },\n\"2017-03-15 00:03:28.583\",\n{\n            'v': 0.021,\n            'f': \"0.021\",\n        },\n\"TCP  \",\n\"192.168.220.14\",\n{\n            'v': 48380,\n            'f': \"48380\",\n        },\n\"EXT_SERVER\",\n{\n            'v': 8082.0,\n            'f': \"8082.0\",\n        },\n{\n            'v': 2,\n            'f': \"2\",\n        },\n\"     338\",\n{\n            'v': 1,\n            'f': \"1\",\n        },\n\".AP...\",\n{\n            'v': 0,\n            'f': \"0\",\n        },\n\"normal\",\n\"---\",\n\"---\",\n\"---\"],\n [{\n            'v': 457,\n            'f': \"457\",\n        },\n\"2017-03-15 00:03:28.601\",\n{\n            'v': 0.0,\n            'f': \"0.0\",\n        },\n\"TCP  \",\n\"EXT_SERVER\",\n{\n            'v': 8082,\n            'f': \"8082\",\n        },\n\"192.168.220.14\",\n{\n            'v': 48380.0,\n            'f': \"48380.0\",\n        },\n{\n            'v': 1,\n            'f': \"1\",\n        },\n\"     212\",\n{\n            'v': 1,\n            'f': \"1\",\n        },\n\".AP...\",\n{\n            'v': 32,\n            'f': \"32\",\n        },\n\"normal\",\n\"---\",\n\"---\",\n\"---\"],\n [{\n            'v': 479,\n            'f': \"479\",\n        },\n\"2017-03-15 00:03:29.100\",\n{\n            'v': 0.32299999999999995,\n            'f': \"0.32299999999999995\",\n        },\n\"TCP  \",\n\"192.168.220.16\",\n{\n            'v': 54848,\n            'f': \"54848\",\n        },\n\"10007_19\",\n{\n            'v': 80.0,\n            'f': \"80.0\",\n        },\n{\n            'v': 5,\n            'f': \"5\",\n        },\n\"    2407\",\n{\n            'v': 1,\n            'f': \"1\",\n        },\n\".AP.S.\",\n{\n            'v': 0,\n            'f': \"0\",\n        },\n\"normal\",\n\"---\",\n\"---\",\n\"---\"],\n [{\n            'v': 477,\n            'f': \"477\",\n        },\n\"2017-03-15 00:03:29.200\",\n{\n            'v': 0.0,\n            'f': \"0.0\",\n        },\n\"UDP  \",\n\"192.168.220.16\",\n{\n            'v': 56845,\n            'f': \"56845\",\n        },\n\"DNS\",\n{\n            'v': 53.0,\n            'f': \"53.0\",\n        },\n{\n            'v': 2,\n            'f': \"2\",\n        },\n\"     144\",\n{\n            'v': 1,\n            'f': \"1\",\n        },\n\"......\",\n{\n            'v': 0,\n            'f': \"0\",\n        },\n\"normal\",\n\"---\",\n\"---\",\n\"---\"],\n [{\n            'v': 483,\n            'f': \"483\",\n        },\n\"2017-03-15 00:03:31.063\",\n{\n            'v': 0.0,\n            'f': \"0.0\",\n        },\n\"TCP  \",\n\"192.168.100.5\",\n{\n            'v': 445,\n            'f': \"445\",\n        },\n\"192.168.220.13\",\n{\n            'v': 60689.0,\n            'f': \"60689.0\",\n        },\n{\n            'v': 1,\n            'f': \"1\",\n        },\n\"     108\",\n{\n            'v': 1,\n            'f': \"1\",\n        },\n\".AP...\",\n{\n            'v': 0,\n            'f': \"0\",\n        },\n\"normal\",\n\"---\",\n\"---\",\n\"---\"],\n [{\n            'v': 492,\n            'f': \"492\",\n        },\n\"2017-03-15 00:03:36.045\",\n{\n            'v': 0.0,\n            'f': \"0.0\",\n        },\n\"TCP  \",\n\"10000_35\",\n{\n            'v': 443,\n            'f': \"443\",\n        },\n\"192.168.220.16\",\n{\n            'v': 45487.0,\n            'f': \"45487.0\",\n        },\n{\n            'v': 1,\n            'f': \"1\",\n        },\n\"      66\",\n{\n            'v': 1,\n            'f': \"1\",\n        },\n\".A....\",\n{\n            'v': 0,\n            'f': \"0\",\n        },\n\"normal\",\n\"---\",\n\"---\",\n\"---\"],\n [{\n            'v': 503,\n            'f': \"503\",\n        },\n\"2017-03-15 00:03:40.961\",\n{\n            'v': 0.08,\n            'f': \"0.08\",\n        },\n\"TCP  \",\n\"10001_232\",\n{\n            'v': 443,\n            'f': \"443\",\n        },\n\"192.168.220.16\",\n{\n            'v': 51280.0,\n            'f': \"51280.0\",\n        },\n{\n            'v': 5,\n            'f': \"5\",\n        },\n\"     498\",\n{\n            'v': 1,\n            'f': \"1\",\n        },\n\".AP.S.\",\n{\n            'v': 0,\n            'f': \"0\",\n        },\n\"normal\",\n\"---\",\n\"---\",\n\"---\"],\n [{\n            'v': 520,\n            'f': \"520\",\n        },\n\"2017-03-15 00:03:41.765\",\n{\n            'v': 0.0,\n            'f': \"0.0\",\n        },\n\"UDP  \",\n\"192.168.220.16\",\n{\n            'v': 42530,\n            'f': \"42530\",\n        },\n\"DNS\",\n{\n            'v': 53.0,\n            'f': \"53.0\",\n        },\n{\n            'v': 2,\n            'f': \"2\",\n        },\n\"     144\",\n{\n            'v': 1,\n            'f': \"1\",\n        },\n\"......\",\n{\n            'v': 0,\n            'f': \"0\",\n        },\n\"normal\",\n\"---\",\n\"---\",\n\"---\"],\n [{\n            'v': 523,\n            'f': \"523\",\n        },\n\"2017-03-15 00:03:42.084\",\n{\n            'v': 0.0,\n            'f': \"0.0\",\n        },\n\"TCP  \",\n\"EXT_SERVER\",\n{\n            'v': 8082,\n            'f': \"8082\",\n        },\n\"192.168.200.8\",\n{\n            'v': 51089.0,\n            'f': \"51089.0\",\n        },\n{\n            'v': 1,\n            'f': \"1\",\n        },\n\"     200\",\n{\n            'v': 1,\n            'f': \"1\",\n        },\n\".AP...\",\n{\n            'v': 32,\n            'f': \"32\",\n        },\n\"normal\",\n\"---\",\n\"---\",\n\"---\"],\n [{\n            'v': 561,\n            'f': \"561\",\n        },\n\"2017-03-15 00:04:03.481\",\n{\n            'v': 0.047,\n            'f': \"0.047\",\n        },\n\"TCP  \",\n\"192.168.220.16\",\n{\n            'v': 51302,\n            'f': \"51302\",\n        },\n\"10001_232\",\n{\n            'v': 443.0,\n            'f': \"443.0\",\n        },\n{\n            'v': 6,\n            'f': \"6\",\n        },\n\"     972\",\n{\n            'v': 1,\n            'f': \"1\",\n        },\n\".AP.S.\",\n{\n            'v': 0,\n            'f': \"0\",\n        },\n\"normal\",\n\"---\",\n\"---\",\n\"---\"],\n [{\n            'v': 567,\n            'f': \"567\",\n        },\n\"2017-03-15 00:04:03.501\",\n{\n            'v': 0.087,\n            'f': \"0.087\",\n        },\n\"TCP  \",\n\"10000_35\",\n{\n            'v': 443,\n            'f': \"443\",\n        },\n\"192.168.220.16\",\n{\n            'v': 45748.0,\n            'f': \"45748.0\",\n        },\n{\n            'v': 4,\n            'f': \"4\",\n        },\n\"     419\",\n{\n            'v': 1,\n            'f': \"1\",\n        },\n\".AP.S.\",\n{\n            'v': 0,\n            'f': \"0\",\n        },\n\"normal\",\n\"---\",\n\"---\",\n\"---\"],\n [{\n            'v': 580,\n            'f': \"580\",\n        },\n\"2017-03-15 00:04:04.048\",\n{\n            'v': 0.324,\n            'f': \"0.324\",\n        },\n\"TCP  \",\n\"192.168.220.16\",\n{\n            'v': 54896,\n            'f': \"54896\",\n        },\n\"10007_19\",\n{\n            'v': 80.0,\n            'f': \"80.0\",\n        },\n{\n            'v': 5,\n            'f': \"5\",\n        },\n\"    2407\",\n{\n            'v': 1,\n            'f': \"1\",\n        },\n\".AP.S.\",\n{\n            'v': 0,\n            'f': \"0\",\n        },\n\"normal\",\n\"---\",\n\"---\",\n\"---\"],\n [{\n            'v': 575,\n            'f': \"575\",\n        },\n\"2017-03-15 00:04:04.149\",\n{\n            'v': 0.0,\n            'f': \"0.0\",\n        },\n\"UDP  \",\n\"DNS\",\n{\n            'v': 53,\n            'f': \"53\",\n        },\n\"192.168.220.16\",\n{\n            'v': 45611.0,\n            'f': \"45611.0\",\n        },\n{\n            'v': 2,\n            'f': \"2\",\n        },\n\"     565\",\n{\n            'v': 1,\n            'f': \"1\",\n        },\n\"......\",\n{\n            'v': 0,\n            'f': \"0\",\n        },\n\"normal\",\n\"---\",\n\"---\",\n\"---\"],\n [{\n            'v': 591,\n            'f': \"591\",\n        },\n\"2017-03-15 00:04:07.133\",\n{\n            'v': 0.0,\n            'f': \"0.0\",\n        },\n\"TCP  \",\n\"EXT_SERVER\",\n{\n            'v': 8082,\n            'f': \"8082\",\n        },\n\"192.168.220.9\",\n{\n            'v': 50807.0,\n            'f': \"50807.0\",\n        },\n{\n            'v': 1,\n            'f': \"1\",\n        },\n\"     212\",\n{\n            'v': 1,\n            'f': \"1\",\n        },\n\".AP...\",\n{\n            'v': 32,\n            'f': \"32\",\n        },\n\"normal\",\n\"---\",\n\"---\",\n\"---\"],\n [{\n            'v': 598,\n            'f': \"598\",\n        },\n\"2017-03-15 00:04:08.729\",\n{\n            'v': 0.0,\n            'f': \"0.0\",\n        },\n\"TCP  \",\n\"192.168.220.16\",\n{\n            'v': 45061,\n            'f': \"45061\",\n        },\n\"10000_35\",\n{\n            'v': 443.0,\n            'f': \"443.0\",\n        },\n{\n            'v': 1,\n            'f': \"1\",\n        },\n\"      66\",\n{\n            'v': 1,\n            'f': \"1\",\n        },\n\".A....\",\n{\n            'v': 0,\n            'f': \"0\",\n        },\n\"normal\",\n\"---\",\n\"---\",\n\"---\"],\n [{\n            'v': 596,\n            'f': \"596\",\n        },\n\"2017-03-15 00:04:08.951\",\n{\n            'v': 0.0,\n            'f': \"0.0\",\n        },\n\"TCP  \",\n\"192.168.100.5\",\n{\n            'v': 445,\n            'f': \"445\",\n        },\n\"192.168.220.4\",\n{\n            'v': 43145.0,\n            'f': \"43145.0\",\n        },\n{\n            'v': 1,\n            'f': \"1\",\n        },\n\"     108\",\n{\n            'v': 1,\n            'f': \"1\",\n        },\n\".AP...\",\n{\n            'v': 0,\n            'f': \"0\",\n        },\n\"normal\",\n\"---\",\n\"---\",\n\"---\"],\n [{\n            'v': 610,\n            'f': \"610\",\n        },\n\"2017-03-15 00:04:17.035\",\n{\n            'v': 0.0,\n            'f': \"0.0\",\n        },\n\"TCP  \",\n\"192.168.100.5\",\n{\n            'v': 445,\n            'f': \"445\",\n        },\n\"192.168.220.15\",\n{\n            'v': 48888.0,\n            'f': \"48888.0\",\n        },\n{\n            'v': 1,\n            'f': \"1\",\n        },\n\"     108\",\n{\n            'v': 1,\n            'f': \"1\",\n        },\n\".AP...\",\n{\n            'v': 0,\n            'f': \"0\",\n        },\n\"normal\",\n\"---\",\n\"---\",\n\"---\"],\n [{\n            'v': 620,\n            'f': \"620\",\n        },\n\"2017-03-15 00:04:28.588\",\n{\n            'v': 0.018000000000000002,\n            'f': \"0.018000000000000002\",\n        },\n\"TCP  \",\n\"192.168.220.15\",\n{\n            'v': 37039,\n            'f': \"37039\",\n        },\n\"EXT_SERVER\",\n{\n            'v': 8082.0,\n            'f': \"8082.0\",\n        },\n{\n            'v': 2,\n            'f': \"2\",\n        },\n\"     338\",\n{\n            'v': 1,\n            'f': \"1\",\n        },\n\".AP...\",\n{\n            'v': 0,\n            'f': \"0\",\n        },\n\"normal\",\n\"---\",\n\"---\",\n\"---\"],\n [{\n            'v': 624,\n            'f': \"624\",\n        },\n\"2017-03-15 00:04:29.483\",\n{\n            'v': 0.0,\n            'f': \"0.0\",\n        },\n\"TCP  \",\n\"192.168.200.5\",\n{\n            'v': 2910,\n            'f': \"2910\",\n        },\n\"192.168.220.16\",\n{\n            'v': 51357.0,\n            'f': \"51357.0\",\n        },\n{\n            'v': 1,\n            'f': \"1\",\n        },\n\"      54\",\n{\n            'v': 1,\n            'f': \"1\",\n        },\n\".A.R..\",\n{\n            'v': 0,\n            'f': \"0\",\n        },\n\"victim\",\n\"portScan\",\n\"1\",\n\"nmap args: -sS -T 1\"],\n [{\n            'v': 632,\n            'f': \"632\",\n        },\n\"2017-03-15 00:04:29.679\",\n{\n            'v': 0.0,\n            'f': \"0.0\",\n        },\n\"TCP  \",\n\"EXT_SERVER\",\n{\n            'v': 8082,\n            'f': \"8082\",\n        },\n\"192.168.220.14\",\n{\n            'v': 48380.0,\n            'f': \"48380.0\",\n        },\n{\n            'v': 1,\n            'f': \"1\",\n        },\n\"     212\",\n{\n            'v': 1,\n            'f': \"1\",\n        },\n\".AP...\",\n{\n            'v': 32,\n            'f': \"32\",\n        },\n\"normal\",\n\"---\",\n\"---\",\n\"---\"],\n [{\n            'v': 629,\n            'f': \"629\",\n        },\n\"2017-03-15 00:04:29.752\",\n{\n            'v': 0.0,\n            'f': \"0.0\",\n        },\n\"TCP  \",\n\"EXT_SERVER\",\n{\n            'v': 8082,\n            'f': \"8082\",\n        },\n\"192.168.200.9\",\n{\n            'v': 50110.0,\n            'f': \"50110.0\",\n        },\n{\n            'v': 1,\n            'f': \"1\",\n        },\n\"     200\",\n{\n            'v': 1,\n            'f': \"1\",\n        },\n\".AP...\",\n{\n            'v': 32,\n            'f': \"32\",\n        },\n\"normal\",\n\"---\",\n\"---\",\n\"---\"],\n [{\n            'v': 630,\n            'f': \"630\",\n        },\n\"2017-03-15 00:04:29.914\",\n{\n            'v': 0.0,\n            'f': \"0.0\",\n        },\n\"TCP  \",\n\"192.168.100.5\",\n{\n            'v': 445,\n            'f': \"445\",\n        },\n\"192.168.220.14\",\n{\n            'v': 52321.0,\n            'f': \"52321.0\",\n        },\n{\n            'v': 1,\n            'f': \"1\",\n        },\n\"     108\",\n{\n            'v': 1,\n            'f': \"1\",\n        },\n\".AP...\",\n{\n            'v': 0,\n            'f': \"0\",\n        },\n\"normal\",\n\"---\",\n\"---\",\n\"---\"],\n [{\n            'v': 633,\n            'f': \"633\",\n        },\n\"2017-03-15 00:04:30.482\",\n{\n            'v': 0.0,\n            'f': \"0.0\",\n        },\n\"TCP  \",\n\"192.168.220.16\",\n{\n            'v': 51357,\n            'f': \"51357\",\n        },\n\"192.168.200.1\",\n{\n            'v': 55056.0,\n            'f': \"55056.0\",\n        },\n{\n            'v': 1,\n            'f': \"1\",\n        },\n\"      58\",\n{\n            'v': 1,\n            'f': \"1\",\n        },\n\"....S.\",\n{\n            'v': 0,\n            'f': \"0\",\n        },\n\"attacker\",\n\"portScan\",\n\"1\",\n\"nmap args: -sS -T 1\"],\n [{\n            'v': 638,\n            'f': \"638\",\n        },\n\"2017-03-15 00:04:31.223\",\n{\n            'v': 0.005,\n            'f': \"0.005\",\n        },\n\"TCP  \",\n\"192.168.220.13\",\n{\n            'v': 60689,\n            'f': \"60689\",\n        },\n\"192.168.100.5\",\n{\n            'v': 445.0,\n            'f': \"445.0\",\n        },\n{\n            'v': 2,\n            'f': \"2\",\n        },\n\"     174\",\n{\n            'v': 1,\n            'f': \"1\",\n        },\n\".AP...\",\n{\n            'v': 0,\n            'f': \"0\",\n        },\n\"normal\",\n\"---\",\n\"---\",\n\"---\"],\n [{\n            'v': 644,\n            'f': \"644\",\n        },\n\"2017-03-15 00:04:36.314\",\n{\n            'v': 0.0,\n            'f': \"0.0\",\n        },\n\"TCP  \",\n\"192.168.220.16\",\n{\n            'v': 45558,\n            'f': \"45558\",\n        },\n\"10000_35\",\n{\n            'v': 443.0,\n            'f': \"443.0\",\n        },\n{\n            'v': 1,\n            'f': \"1\",\n        },\n\"      66\",\n{\n            'v': 1,\n            'f': \"1\",\n        },\n\".A....\",\n{\n            'v': 0,\n            'f': \"0\",\n        },\n\"normal\",\n\"---\",\n\"---\",\n\"---\"],\n [{\n            'v': 643,\n            'f': \"643\",\n        },\n\"2017-03-15 00:04:36.314\",\n{\n            'v': 0.0,\n            'f': \"0.0\",\n        },\n\"TCP  \",\n\"192.168.220.16\",\n{\n            'v': 45487,\n            'f': \"45487\",\n        },\n\"10000_35\",\n{\n            'v': 443.0,\n            'f': \"443.0\",\n        },\n{\n            'v': 1,\n            'f': \"1\",\n        },\n\"      66\",\n{\n            'v': 1,\n            'f': \"1\",\n        },\n\".A....\",\n{\n            'v': 0,\n            'f': \"0\",\n        },\n\"normal\",\n\"---\",\n\"---\",\n\"---\"],\n [{\n            'v': 642,\n            'f': \"642\",\n        },\n\"2017-03-15 00:04:36.334\",\n{\n            'v': 0.0,\n            'f': \"0.0\",\n        },\n\"TCP  \",\n\"10000_35\",\n{\n            'v': 443,\n            'f': \"443\",\n        },\n\"192.168.220.16\",\n{\n            'v': 45487.0,\n            'f': \"45487.0\",\n        },\n{\n            'v': 1,\n            'f': \"1\",\n        },\n\"      66\",\n{\n            'v': 1,\n            'f': \"1\",\n        },\n\".A....\",\n{\n            'v': 0,\n            'f': \"0\",\n        },\n\"normal\",\n\"---\",\n\"---\",\n\"---\"],\n [{\n            'v': 646,\n            'f': \"646\",\n        },\n\"2017-03-15 00:04:38.163\",\n{\n            'v': 0.0,\n            'f': \"0.0\",\n        },\n\"TCP  \",\n\"EXT_SERVER\",\n{\n            'v': 8082,\n            'f': \"8082\",\n        },\n\"192.168.220.9\",\n{\n            'v': 50807.0,\n            'f': \"50807.0\",\n        },\n{\n            'v': 1,\n            'f': \"1\",\n        },\n\"     212\",\n{\n            'v': 1,\n            'f': \"1\",\n        },\n\".AP...\",\n{\n            'v': 32,\n            'f': \"32\",\n        },\n\"normal\",\n\"---\",\n\"---\",\n\"---\"],\n [{\n            'v': 652,\n            'f': \"652\",\n        },\n\"2017-03-15 00:04:39.473\",\n{\n            'v': 0.047,\n            'f': \"0.047\",\n        },\n\"TCP  \",\n\"EXT_SERVER\",\n{\n            'v': 8000,\n            'f': \"8000\",\n        },\n\"192.168.200.9\",\n{\n            'v': 49887.0,\n            'f': \"49887.0\",\n        },\n{\n            'v': 7,\n            'f': \"7\",\n        },\n\"     654\",\n{\n            'v': 1,\n            'f': \"1\",\n        },\n\".AP.SF\",\n{\n            'v': 32,\n            'f': \"32\",\n        },\n\"normal\",\n\"---\",\n\"---\",\n\"---\"],\n [{\n            'v': 691,\n            'f': \"691\",\n        },\n\"2017-03-15 00:04:44.998\",\n{\n            'v': 2.116,\n            'f': \"2.116\",\n        },\n\"TCP  \",\n\"10002_114\",\n{\n            'v': 443,\n            'f': \"443\",\n        },\n\"192.168.220.16\",\n{\n            'v': 55975.0,\n            'f': \"55975.0\",\n        },\n{\n            'v': 3,\n            'f': \"3\",\n        },\n\"    1143\",\n{\n            'v': 1,\n            'f': \"1\",\n        },\n\".AP...\",\n{\n            'v': 32,\n            'f': \"32\",\n        },\n\"normal\",\n\"---\",\n\"---\",\n\"---\"],\n [{\n            'v': 663,\n            'f': \"663\",\n        },\n\"2017-03-15 00:04:45.883\",\n{\n            'v': 0.204,\n            'f': \"0.204\",\n        },\n\"TCP  \",\n\"10001_232\",\n{\n            'v': 80,\n            'f': \"80\",\n        },\n\"192.168.220.16\",\n{\n            'v': 49955.0,\n            'f': \"49955.0\",\n        },\n{\n            'v': 5,\n            'f': \"5\",\n        },\n\"     771\",\n{\n            'v': 1,\n            'f': \"1\",\n        },\n\".AP.S.\",\n{\n            'v': 0,\n            'f': \"0\",\n        },\n\"normal\",\n\"---\",\n\"---\",\n\"---\"],\n [{\n            'v': 692,\n            'f': \"692\",\n        },\n\"2017-03-15 00:04:46.640\",\n{\n            'v': 0.0,\n            'f': \"0.0\",\n        },\n\"UDP  \",\n\"192.168.220.16\",\n{\n            'v': 59686,\n            'f': \"59686\",\n        },\n\"DNS\",\n{\n            'v': 53.0,\n            'f': \"53.0\",\n        },\n{\n            'v': 1,\n            'f': \"1\",\n        },\n\"      77\",\n{\n            'v': 1,\n            'f': \"1\",\n        },\n\"......\",\n{\n            'v': 0,\n            'f': \"0\",\n        },\n\"normal\",\n\"---\",\n\"---\",\n\"---\"],\n [{\n            'v': 697,\n            'f': \"697\",\n        },\n\"2017-03-15 00:04:46.740\",\n{\n            'v': 0.0,\n            'f': \"0.0\",\n        },\n\"UDP  \",\n\"DNS\",\n{\n            'v': 53,\n            'f': \"53\",\n        },\n\"192.168.220.16\",\n{\n            'v': 33520.0,\n            'f': \"33520.0\",\n        },\n{\n            'v': 2,\n            'f': \"2\",\n        },\n\"     565\",\n{\n            'v': 1,\n            'f': \"1\",\n        },\n\"......\",\n{\n            'v': 0,\n            'f': \"0\",\n        },\n\"normal\",\n\"---\",\n\"---\",\n\"---\"],\n [{\n            'v': 701,\n            'f': \"701\",\n        },\n\"2017-03-15 00:04:48.572\",\n{\n            'v': 0.0,\n            'f': \"0.0\",\n        },\n\"TCP  \",\n\"EXT_SERVER\",\n{\n            'v': 8082,\n            'f': \"8082\",\n        },\n\"192.168.200.4\",\n{\n            'v': 56978.0,\n            'f': \"56978.0\",\n        },\n{\n            'v': 1,\n            'f': \"1\",\n        },\n\"     212\",\n{\n            'v': 1,\n            'f': \"1\",\n        },\n\".AP...\",\n{\n            'v': 32,\n            'f': \"32\",\n        },\n\"normal\",\n\"---\",\n\"---\",\n\"---\"],\n [{\n            'v': 745,\n            'f': \"745\",\n        },\n\"2017-03-15 00:05:04.419\",\n{\n            'v': 0.045,\n            'f': \"0.045\",\n        },\n\"TCP  \",\n\"192.168.220.16\",\n{\n            'v': 45795,\n            'f': \"45795\",\n        },\n\"10000_35\",\n{\n            'v': 443.0,\n            'f': \"443.0\",\n        },\n{\n            'v': 5,\n            'f': \"5\",\n        },\n\"     906\",\n{\n            'v': 1,\n            'f': \"1\",\n        },\n\".AP.S.\",\n{\n            'v': 0,\n            'f': \"0\",\n        },\n\"normal\",\n\"---\",\n\"---\",\n\"---\"],\n [{\n            'v': 760,\n            'f': \"760\",\n        },\n\"2017-03-15 00:05:07.238\",\n{\n            'v': 0.0,\n            'f': \"0.0\",\n        },\n\"UDP  \",\n\"192.168.220.3\",\n{\n            'v': 137,\n            'f': \"137\",\n        },\n\"192.168.220.255\",\n{\n            'v': 137.0,\n            'f': \"137.0\",\n        },\n{\n            'v': 1,\n            'f': \"1\",\n        },\n\"      92\",\n{\n            'v': 1,\n            'f': \"1\",\n        },\n\"......\",\n{\n            'v': 0,\n            'f': \"0\",\n        },\n\"normal\",\n\"---\",\n\"---\",\n\"---\"],\n [{\n            'v': 769,\n            'f': \"769\",\n        },\n\"2017-03-15 00:05:09.172\",\n{\n            'v': 0.019,\n            'f': \"0.019\",\n        },\n\"TCP  \",\n\"192.168.220.9\",\n{\n            'v': 50807,\n            'f': \"50807\",\n        },\n\"EXT_SERVER\",\n{\n            'v': 8082.0,\n            'f': \"8082.0\",\n        },\n{\n            'v': 2,\n            'f': \"2\",\n        },\n\"     338\",\n{\n            'v': 1,\n            'f': \"1\",\n        },\n\".AP...\",\n{\n            'v': 0,\n            'f': \"0\",\n        },\n\"normal\",\n\"---\",\n\"---\",\n\"---\"],\n [{\n            'v': 784,\n            'f': \"784\",\n        },\n\"2017-03-15 00:05:17.196\",\n{\n            'v': 0.0,\n            'f': \"0.0\",\n        },\n\"TCP  \",\n\"192.168.100.5\",\n{\n            'v': 445,\n            'f': \"445\",\n        },\n\"192.168.220.15\",\n{\n            'v': 48888.0,\n            'f': \"48888.0\",\n        },\n{\n            'v': 1,\n            'f': \"1\",\n        },\n\"     108\",\n{\n            'v': 1,\n            'f': \"1\",\n        },\n\".AP...\",\n{\n            'v': 0,\n            'f': \"0\",\n        },\n\"normal\",\n\"---\",\n\"---\",\n\"---\"],\n [{\n            'v': 783,\n            'f': \"783\",\n        },\n\"2017-03-15 00:05:17.276\",\n{\n            'v': 0.0,\n            'f': \"0.0\",\n        },\n\"TCP  \",\n\"192.168.100.5\",\n{\n            'v': 445,\n            'f': \"445\",\n        },\n\"192.168.220.16\",\n{\n            'v': 58844.0,\n            'f': \"58844.0\",\n        },\n{\n            'v': 1,\n            'f': \"1\",\n        },\n\"     108\",\n{\n            'v': 1,\n            'f': \"1\",\n        },\n\".AP...\",\n{\n            'v': 0,\n            'f': \"0\",\n        },\n\"normal\",\n\"---\",\n\"---\",\n\"---\"],\n [{\n            'v': 804,\n            'f': \"804\",\n        },\n\"2017-03-15 00:05:31.762\",\n{\n            'v': 0.0,\n            'f': \"0.0\",\n        },\n\"TCP  \",\n\"EXT_SERVER\",\n{\n            'v': 8082,\n            'f': \"8082\",\n        },\n\"192.168.220.14\",\n{\n            'v': 48380.0,\n            'f': \"48380.0\",\n        },\n{\n            'v': 1,\n            'f': \"1\",\n        },\n\"     212\",\n{\n            'v': 1,\n            'f': \"1\",\n        },\n\".AP...\",\n{\n            'v': 32,\n            'f': \"32\",\n        },\n\"normal\",\n\"---\",\n\"---\",\n\"---\"],\n [{\n            'v': 819,\n            'f': \"819\",\n        },\n\"2017-03-15 00:05:34.815\",\n{\n            'v': 0.048,\n            'f': \"0.048\",\n        },\n\"TCP  \",\n\"192.168.220.16\",\n{\n            'v': 45819,\n            'f': \"45819\",\n        },\n\"10000_35\",\n{\n            'v': 443.0,\n            'f': \"443.0\",\n        },\n{\n            'v': 5,\n            'f': \"5\",\n        },\n\"     906\",\n{\n            'v': 1,\n            'f': \"1\",\n        },\n\".AP.S.\",\n{\n            'v': 0,\n            'f': \"0\",\n        },\n\"normal\",\n\"---\",\n\"---\",\n\"---\"],\n [{\n            'v': 811,\n            'f': \"811\",\n        },\n\"2017-03-15 00:05:34.868\",\n{\n            'v': 0.087,\n            'f': \"0.087\",\n        },\n\"TCP  \",\n\"10001_232\",\n{\n            'v': 443,\n            'f': \"443\",\n        },\n\"192.168.220.16\",\n{\n            'v': 51377.0,\n            'f': \"51377.0\",\n        },\n{\n            'v': 5,\n            'f': \"5\",\n        },\n\"     498\",\n{\n            'v': 1,\n            'f': \"1\",\n        },\n\".AP.S.\",\n{\n            'v': 0,\n            'f': \"0\",\n        },\n\"normal\",\n\"---\",\n\"---\",\n\"---\"],\n [{\n            'v': 810,\n            'f': \"810\",\n        },\n\"2017-03-15 00:05:34.895\",\n{\n            'v': 0.084,\n            'f': \"0.084\",\n        },\n\"TCP  \",\n\"10001_232\",\n{\n            'v': 443,\n            'f': \"443\",\n        },\n\"192.168.220.16\",\n{\n            'v': 51378.0,\n            'f': \"51378.0\",\n        },\n{\n            'v': 5,\n            'f': \"5\",\n        },\n\"     498\",\n{\n            'v': 1,\n            'f': \"1\",\n        },\n\".AP.S.\",\n{\n            'v': 0,\n            'f': \"0\",\n        },\n\"normal\",\n\"---\",\n\"---\",\n\"---\"],\n [{\n            'v': 825,\n            'f': \"825\",\n        },\n\"2017-03-15 00:05:35.497\",\n{\n            'v': 0.0,\n            'f': \"0.0\",\n        },\n\"UDP  \",\n\"DNS\",\n{\n            'v': 53,\n            'f': \"53\",\n        },\n\"192.168.220.16\",\n{\n            'v': 47797.0,\n            'f': \"47797.0\",\n        },\n{\n            'v': 2,\n            'f': \"2\",\n        },\n\"     565\",\n{\n            'v': 1,\n            'f': \"1\",\n        },\n\"......\",\n{\n            'v': 0,\n            'f': \"0\",\n        },\n\"normal\",\n\"---\",\n\"---\",\n\"---\"],\n [{\n            'v': 836,\n            'f': \"836\",\n        },\n\"2017-03-15 00:05:36.282\",\n{\n            'v': 0.0,\n            'f': \"0.0\",\n        },\n\"TCP  \",\n\"192.168.220.16\",\n{\n            'v': 49955,\n            'f': \"49955\",\n        },\n\"10001_232\",\n{\n            'v': 80.0,\n            'f': \"80.0\",\n        },\n{\n            'v': 1,\n            'f': \"1\",\n        },\n\"      66\",\n{\n            'v': 1,\n            'f': \"1\",\n        },\n\".A....\",\n{\n            'v': 0,\n            'f': \"0\",\n        },\n\"normal\",\n\"---\",\n\"---\",\n\"---\"],\n [{\n            'v': 835,\n            'f': \"835\",\n        },\n\"2017-03-15 00:05:36.303\",\n{\n            'v': 0.0,\n            'f': \"0.0\",\n        },\n\"TCP  \",\n\"10001_232\",\n{\n            'v': 80,\n            'f': \"80\",\n        },\n\"192.168.220.16\",\n{\n            'v': 49955.0,\n            'f': \"49955.0\",\n        },\n{\n            'v': 1,\n            'f': \"1\",\n        },\n\"      66\",\n{\n            'v': 1,\n            'f': \"1\",\n        },\n\".A....\",\n{\n            'v': 0,\n            'f': \"0\",\n        },\n\"normal\",\n\"---\",\n\"---\",\n\"---\"],\n [{\n            'v': 846,\n            'f': \"846\",\n        },\n\"2017-03-15 00:05:46.221\",\n{\n            'v': 0.018000000000000002,\n            'f': \"0.018000000000000002\",\n        },\n\"TCP  \",\n\"192.168.220.16\",\n{\n            'v': 60802,\n            'f': \"60802\",\n        },\n\"EXT_SERVER\",\n{\n            'v': 8082.0,\n            'f': \"8082.0\",\n        },\n{\n            'v': 2,\n            'f': \"2\",\n        },\n\"     338\",\n{\n            'v': 1,\n            'f': \"1\",\n        },\n\".AP...\",\n{\n            'v': 0,\n            'f': \"0\",\n        },\n\"normal\",\n\"---\",\n\"---\",\n\"---\"],\n [{\n            'v': 852,\n            'f': \"852\",\n        },\n\"2017-03-15 00:05:48.640\",\n{\n            'v': 0.055,\n            'f': \"0.055\",\n        },\n\"TCP  \",\n\"192.168.200.8\",\n{\n            'v': 62953,\n            'f': \"62953\",\n        },\n\"EXT_SERVER\",\n{\n            'v': 8000.0,\n            'f': \"8000.0\",\n        },\n{\n            'v': 6,\n            'f': \"6\",\n        },\n\"     575\",\n{\n            'v': 1,\n            'f': \"1\",\n        },\n\".AP.SF\",\n{\n            'v': 0,\n            'f': \"0\",\n        },\n\"normal\",\n\"---\",\n\"---\",\n\"---\"],\n [{\n            'v': 863,\n            'f': \"863\",\n        },\n\"2017-03-15 00:06:00.702\",\n{\n            'v': 0.0,\n            'f': \"0.0\",\n        },\n\"TCP  \",\n\"EXT_SERVER\",\n{\n            'v': 8082,\n            'f': \"8082\",\n        },\n\"192.168.220.15\",\n{\n            'v': 37039.0,\n            'f': \"37039.0\",\n        },\n{\n            'v': 1,\n            'f': \"1\",\n        },\n\"     212\",\n{\n            'v': 1,\n            'f': \"1\",\n        },\n\".AP...\",\n{\n            'v': 32,\n            'f': \"32\",\n        },\n\"normal\",\n\"---\",\n\"---\",\n\"---\"],\n [{\n            'v': 879,\n            'f': \"879\",\n        },\n\"2017-03-15 00:06:09.273\",\n{\n            'v': 0.0,\n            'f': \"0.0\",\n        },\n\"TCP  \",\n\"192.168.100.5\",\n{\n            'v': 445,\n            'f': \"445\",\n        },\n\"192.168.220.4\",\n{\n            'v': 43145.0,\n            'f': \"43145.0\",\n        },\n{\n            'v': 1,\n            'f': \"1\",\n        },\n\"     108\",\n{\n            'v': 1,\n            'f': \"1\",\n        },\n\".AP...\",\n{\n            'v': 0,\n            'f': \"0\",\n        },\n\"normal\",\n\"---\",\n\"---\",\n\"---\"],\n [{\n            'v': 904,\n            'f': \"904\",\n        },\n\"2017-03-15 00:06:10.200\",\n{\n            'v': 0.051,\n            'f': \"0.051\",\n        },\n\"TCP  \",\n\"192.168.220.16\",\n{\n            'v': 45850,\n            'f': \"45850\",\n        },\n\"10000_35\",\n{\n            'v': 443.0,\n            'f': \"443.0\",\n        },\n{\n            'v': 5,\n            'f': \"5\",\n        },\n\"     906\",\n{\n            'v': 1,\n            'f': \"1\",\n        },\n\".AP.S.\",\n{\n            'v': 0,\n            'f': \"0\",\n        },\n\"normal\",\n\"---\",\n\"---\",\n\"---\"],\n [{\n            'v': 893,\n            'f': \"893\",\n        },\n\"2017-03-15 00:06:10.205\",\n{\n            'v': 0.035,\n            'f': \"0.035\",\n        },\n\"UDP  \",\n\"DNS\",\n{\n            'v': 53,\n            'f': \"53\",\n        },\n\"192.168.220.16\",\n{\n            'v': 41567.0,\n            'f': \"41567.0\",\n        },\n{\n            'v': 2,\n            'f': \"2\",\n        },\n\"     388\",\n{\n            'v': 1,\n            'f': \"1\",\n        },\n\"......\",\n{\n            'v': 0,\n            'f': \"0\",\n        },\n\"normal\",\n\"---\",\n\"---\",\n\"---\"],\n [{\n            'v': 899,\n            'f': \"899\",\n        },\n\"2017-03-15 00:06:10.225\",\n{\n            'v': 0.05,\n            'f': \"0.05\",\n        },\n\"TCP  \",\n\"192.168.220.16\",\n{\n            'v': 45851,\n            'f': \"45851\",\n        },\n\"10000_35\",\n{\n            'v': 443.0,\n            'f': \"443.0\",\n        },\n{\n            'v': 5,\n            'f': \"5\",\n        },\n\"     906\",\n{\n            'v': 1,\n            'f': \"1\",\n        },\n\".AP.S.\",\n{\n            'v': 0,\n            'f': \"0\",\n        },\n\"normal\",\n\"---\",\n\"---\",\n\"---\"],\n [{\n            'v': 909,\n            'f': \"909\",\n        },\n\"2017-03-15 00:06:10.876\",\n{\n            'v': 0.0,\n            'f': \"0.0\",\n        },\n\"UDP  \",\n\"DNS\",\n{\n            'v': 53,\n            'f': \"53\",\n        },\n\"192.168.220.16\",\n{\n            'v': 36031.0,\n            'f': \"36031.0\",\n        },\n{\n            'v': 2,\n            'f': \"2\",\n        },\n\"     565\",\n{\n            'v': 1,\n            'f': \"1\",\n        },\n\"......\",\n{\n            'v': 0,\n            'f': \"0\",\n        },\n\"normal\",\n\"---\",\n\"---\",\n\"---\"],\n [{\n            'v': 954,\n            'f': \"954\",\n        },\n\"2017-03-15 00:06:21.221\",\n{\n            'v': 0.32299999999999995,\n            'f': \"0.32299999999999995\",\n        },\n\"TCP  \",\n\"192.168.220.16\",\n{\n            'v': 48573,\n            'f': \"48573\",\n        },\n\"10003_195\",\n{\n            'v': 80.0,\n            'f': \"80.0\",\n        },\n{\n            'v': 5,\n            'f': \"5\",\n        },\n\"    2408\",\n{\n            'v': 1,\n            'f': \"1\",\n        },\n\".AP.S.\",\n{\n            'v': 0,\n            'f': \"0\",\n        },\n\"normal\",\n\"---\",\n\"---\",\n\"---\"],\n [{\n            'v': 947,\n            'f': \"947\",\n        },\n\"2017-03-15 00:06:21.349\",\n{\n            'v': 0.0,\n            'f': \"0.0\",\n        },\n\"UDP  \",\n\"DNS\",\n{\n            'v': 53,\n            'f': \"53\",\n        },\n\"192.168.220.16\",\n{\n            'v': 42319.0,\n            'f': \"42319.0\",\n        },\n{\n            'v': 2,\n            'f': \"2\",\n        },\n\"     565\",\n{\n            'v': 1,\n            'f': \"1\",\n        },\n\"......\",\n{\n            'v': 0,\n            'f': \"0\",\n        },\n\"normal\",\n\"---\",\n\"---\",\n\"---\"],\n [{\n            'v': 949,\n            'f': \"949\",\n        },\n\"2017-03-15 00:06:21.575\",\n{\n            'v': 0.0,\n            'f': \"0.0\",\n        },\n\"UDP  \",\n\"DNS\",\n{\n            'v': 53,\n            'f': \"53\",\n        },\n\"192.168.220.16\",\n{\n            'v': 49715.0,\n            'f': \"49715.0\",\n        },\n{\n            'v': 2,\n            'f': \"2\",\n        },\n\"     565\",\n{\n            'v': 1,\n            'f': \"1\",\n        },\n\"......\",\n{\n            'v': 0,\n            'f': \"0\",\n        },\n\"normal\",\n\"---\",\n\"---\",\n\"---\"],\n [{\n            'v': 953,\n            'f': \"953\",\n        },\n\"2017-03-15 00:06:21.654\",\n{\n            'v': 0.018000000000000002,\n            'f': \"0.018000000000000002\",\n        },\n\"TCP  \",\n\"192.168.200.4\",\n{\n            'v': 56979,\n            'f': \"56979\",\n        },\n\"EXT_SERVER\",\n{\n            'v': 8082.0,\n            'f': \"8082.0\",\n        },\n{\n            'v': 2,\n            'f': \"2\",\n        },\n\"     338\",\n{\n            'v': 1,\n            'f': \"1\",\n        },\n\".AP...\",\n{\n            'v': 0,\n            'f': \"0\",\n        },\n\"normal\",\n\"---\",\n\"---\",\n\"---\"]],\n        columns: [[\"number\", \"index\"], [\"string\", \"Date first seen\"], [\"number\", \"Duration\"], [\"string\", \"Proto\"], [\"string\", \"Src IP Addr\"], [\"number\", \"Src Pt\"], [\"string\", \"Dst IP Addr\"], [\"number\", \"Dst Pt\"], [\"number\", \"Packets\"], [\"string\", \"Bytes\"], [\"number\", \"Flows\"], [\"string\", \"Flags\"], [\"number\", \"Tos\"], [\"string\", \"class\"], [\"string\", \"attackType\"], [\"string\", \"attackID\"], [\"string\", \"attackDescription\"]],\n        columnOptions: [{\"width\": \"1px\", \"className\": \"index_column\"}],\n        rowsPerPage: 25,\n        helpUrl: \"https://colab.research.google.com/notebooks/data_table.ipynb\",\n      });\n    ",
            "text/html": [
              "<div>\n",
              "<style scoped>\n",
              "    .dataframe tbody tr th:only-of-type {\n",
              "        vertical-align: middle;\n",
              "    }\n",
              "\n",
              "    .dataframe tbody tr th {\n",
              "        vertical-align: top;\n",
              "    }\n",
              "\n",
              "    .dataframe thead th {\n",
              "        text-align: right;\n",
              "    }\n",
              "</style>\n",
              "<table border=\"1\" class=\"dataframe\">\n",
              "  <thead>\n",
              "    <tr style=\"text-align: right;\">\n",
              "      <th></th>\n",
              "      <th>Date first seen</th>\n",
              "      <th>Duration</th>\n",
              "      <th>Proto</th>\n",
              "      <th>Src IP Addr</th>\n",
              "      <th>Src Pt</th>\n",
              "      <th>Dst IP Addr</th>\n",
              "      <th>Dst Pt</th>\n",
              "      <th>Packets</th>\n",
              "      <th>Bytes</th>\n",
              "      <th>Flows</th>\n",
              "      <th>Flags</th>\n",
              "      <th>Tos</th>\n",
              "      <th>class</th>\n",
              "      <th>attackType</th>\n",
              "      <th>attackID</th>\n",
              "      <th>attackDescription</th>\n",
              "    </tr>\n",
              "  </thead>\n",
              "  <tbody>\n",
              "    <tr>\n",
              "      <th>23</th>\n",
              "      <td>2017-03-15 00:01:17.728</td>\n",
              "      <td>0.047</td>\n",
              "      <td>TCP</td>\n",
              "      <td>192.168.220.16</td>\n",
              "      <td>45586</td>\n",
              "      <td>10000_35</td>\n",
              "      <td>443.0</td>\n",
              "      <td>5</td>\n",
              "      <td>906</td>\n",
              "      <td>1</td>\n",
              "      <td>.AP.S.</td>\n",
              "      <td>0</td>\n",
              "      <td>normal</td>\n",
              "      <td>---</td>\n",
              "      <td>---</td>\n",
              "      <td>---</td>\n",
              "    </tr>\n",
              "    <tr>\n",
              "      <th>36</th>\n",
              "      <td>2017-03-15 00:01:18.457</td>\n",
              "      <td>0.170</td>\n",
              "      <td>TCP</td>\n",
              "      <td>10003_195</td>\n",
              "      <td>80</td>\n",
              "      <td>192.168.220.16</td>\n",
              "      <td>48286.0</td>\n",
              "      <td>3</td>\n",
              "      <td>908</td>\n",
              "      <td>1</td>\n",
              "      <td>.AP.S.</td>\n",
              "      <td>32</td>\n",
              "      <td>normal</td>\n",
              "      <td>---</td>\n",
              "      <td>---</td>\n",
              "      <td>---</td>\n",
              "    </tr>\n",
              "    <tr>\n",
              "      <th>30</th>\n",
              "      <td>2017-03-15 00:01:18.511</td>\n",
              "      <td>0.003</td>\n",
              "      <td>TCP</td>\n",
              "      <td>10002_113</td>\n",
              "      <td>443</td>\n",
              "      <td>192.168.220.16</td>\n",
              "      <td>49062.0</td>\n",
              "      <td>2</td>\n",
              "      <td>1089</td>\n",
              "      <td>1</td>\n",
              "      <td>.AP...</td>\n",
              "      <td>32</td>\n",
              "      <td>normal</td>\n",
              "      <td>---</td>\n",
              "      <td>---</td>\n",
              "      <td>---</td>\n",
              "    </tr>\n",
              "    <tr>\n",
              "      <th>46</th>\n",
              "      <td>2017-03-15 00:01:22.400</td>\n",
              "      <td>0.000</td>\n",
              "      <td>TCP</td>\n",
              "      <td>EXT_SERVER</td>\n",
              "      <td>8082</td>\n",
              "      <td>192.168.220.15</td>\n",
              "      <td>37039.0</td>\n",
              "      <td>1</td>\n",
              "      <td>212</td>\n",
              "      <td>1</td>\n",
              "      <td>.AP...</td>\n",
              "      <td>32</td>\n",
              "      <td>normal</td>\n",
              "      <td>---</td>\n",
              "      <td>---</td>\n",
              "      <td>---</td>\n",
              "    </tr>\n",
              "    <tr>\n",
              "      <th>51</th>\n",
              "      <td>2017-03-15 00:01:24.152</td>\n",
              "      <td>0.266</td>\n",
              "      <td>TCP</td>\n",
              "      <td>192.168.200.9</td>\n",
              "      <td>52290</td>\n",
              "      <td>EXT_SERVER</td>\n",
              "      <td>8082.0</td>\n",
              "      <td>2</td>\n",
              "      <td>319</td>\n",
              "      <td>1</td>\n",
              "      <td>.AP...</td>\n",
              "      <td>0</td>\n",
              "      <td>normal</td>\n",
              "      <td>---</td>\n",
              "      <td>---</td>\n",
              "      <td>---</td>\n",
              "    </tr>\n",
              "    <tr>\n",
              "      <th>...</th>\n",
              "      <td>...</td>\n",
              "      <td>...</td>\n",
              "      <td>...</td>\n",
              "      <td>...</td>\n",
              "      <td>...</td>\n",
              "      <td>...</td>\n",
              "      <td>...</td>\n",
              "      <td>...</td>\n",
              "      <td>...</td>\n",
              "      <td>...</td>\n",
              "      <td>...</td>\n",
              "      <td>...</td>\n",
              "      <td>...</td>\n",
              "      <td>...</td>\n",
              "      <td>...</td>\n",
              "      <td>...</td>\n",
              "    </tr>\n",
              "    <tr>\n",
              "      <th>909</th>\n",
              "      <td>2017-03-15 00:06:10.876</td>\n",
              "      <td>0.000</td>\n",
              "      <td>UDP</td>\n",
              "      <td>DNS</td>\n",
              "      <td>53</td>\n",
              "      <td>192.168.220.16</td>\n",
              "      <td>36031.0</td>\n",
              "      <td>2</td>\n",
              "      <td>565</td>\n",
              "      <td>1</td>\n",
              "      <td>......</td>\n",
              "      <td>0</td>\n",
              "      <td>normal</td>\n",
              "      <td>---</td>\n",
              "      <td>---</td>\n",
              "      <td>---</td>\n",
              "    </tr>\n",
              "    <tr>\n",
              "      <th>954</th>\n",
              "      <td>2017-03-15 00:06:21.221</td>\n",
              "      <td>0.323</td>\n",
              "      <td>TCP</td>\n",
              "      <td>192.168.220.16</td>\n",
              "      <td>48573</td>\n",
              "      <td>10003_195</td>\n",
              "      <td>80.0</td>\n",
              "      <td>5</td>\n",
              "      <td>2408</td>\n",
              "      <td>1</td>\n",
              "      <td>.AP.S.</td>\n",
              "      <td>0</td>\n",
              "      <td>normal</td>\n",
              "      <td>---</td>\n",
              "      <td>---</td>\n",
              "      <td>---</td>\n",
              "    </tr>\n",
              "    <tr>\n",
              "      <th>947</th>\n",
              "      <td>2017-03-15 00:06:21.349</td>\n",
              "      <td>0.000</td>\n",
              "      <td>UDP</td>\n",
              "      <td>DNS</td>\n",
              "      <td>53</td>\n",
              "      <td>192.168.220.16</td>\n",
              "      <td>42319.0</td>\n",
              "      <td>2</td>\n",
              "      <td>565</td>\n",
              "      <td>1</td>\n",
              "      <td>......</td>\n",
              "      <td>0</td>\n",
              "      <td>normal</td>\n",
              "      <td>---</td>\n",
              "      <td>---</td>\n",
              "      <td>---</td>\n",
              "    </tr>\n",
              "    <tr>\n",
              "      <th>949</th>\n",
              "      <td>2017-03-15 00:06:21.575</td>\n",
              "      <td>0.000</td>\n",
              "      <td>UDP</td>\n",
              "      <td>DNS</td>\n",
              "      <td>53</td>\n",
              "      <td>192.168.220.16</td>\n",
              "      <td>49715.0</td>\n",
              "      <td>2</td>\n",
              "      <td>565</td>\n",
              "      <td>1</td>\n",
              "      <td>......</td>\n",
              "      <td>0</td>\n",
              "      <td>normal</td>\n",
              "      <td>---</td>\n",
              "      <td>---</td>\n",
              "      <td>---</td>\n",
              "    </tr>\n",
              "    <tr>\n",
              "      <th>953</th>\n",
              "      <td>2017-03-15 00:06:21.654</td>\n",
              "      <td>0.018</td>\n",
              "      <td>TCP</td>\n",
              "      <td>192.168.200.4</td>\n",
              "      <td>56979</td>\n",
              "      <td>EXT_SERVER</td>\n",
              "      <td>8082.0</td>\n",
              "      <td>2</td>\n",
              "      <td>338</td>\n",
              "      <td>1</td>\n",
              "      <td>.AP...</td>\n",
              "      <td>0</td>\n",
              "      <td>normal</td>\n",
              "      <td>---</td>\n",
              "      <td>---</td>\n",
              "      <td>---</td>\n",
              "    </tr>\n",
              "  </tbody>\n",
              "</table>\n",
              "<p>100 rows × 16 columns</p>\n",
              "</div>"
            ],
            "text/plain": [
              "             Date first seen  Duration  ... attackID attackDescription\n",
              "23   2017-03-15 00:01:17.728     0.047  ...      ---               ---\n",
              "36   2017-03-15 00:01:18.457     0.170  ...      ---               ---\n",
              "30   2017-03-15 00:01:18.511     0.003  ...      ---               ---\n",
              "46   2017-03-15 00:01:22.400     0.000  ...      ---               ---\n",
              "51   2017-03-15 00:01:24.152     0.266  ...      ---               ---\n",
              "..                       ...       ...  ...      ...               ...\n",
              "909  2017-03-15 00:06:10.876     0.000  ...      ---               ---\n",
              "954  2017-03-15 00:06:21.221     0.323  ...      ---               ---\n",
              "947  2017-03-15 00:06:21.349     0.000  ...      ---               ---\n",
              "949  2017-03-15 00:06:21.575     0.000  ...      ---               ---\n",
              "953  2017-03-15 00:06:21.654     0.018  ...      ---               ---\n",
              "\n",
              "[100 rows x 16 columns]"
            ]
          },
          "metadata": {
            "tags": []
          },
          "execution_count": 3
        }
      ]
    },
    {
      "cell_type": "markdown",
      "metadata": {
        "id": "PGITLdtJ_wq0",
        "colab_type": "text"
      },
      "source": [
        "### Describe the data:\n",
        "- How many columns and how many rows are there?"
      ]
    },
    {
      "cell_type": "code",
      "metadata": {
        "id": "gjcyX-at_wq0",
        "colab_type": "code",
        "outputId": "bff4f554-b013-43ac-d4d8-704a066e5835",
        "colab": {
          "base_uri": "https://localhost:8080/",
          "height": 34
        }
      },
      "source": [
        "print(\"Number of rows =\", len(df.index)) ## or print(\"Number of rows =\", df.shape[0])"
      ],
      "execution_count": 0,
      "outputs": [
        {
          "output_type": "stream",
          "text": [
            "Number of rows = 845152\n"
          ],
          "name": "stdout"
        }
      ]
    },
    {
      "cell_type": "code",
      "metadata": {
        "id": "L3HqxmGY_wq0",
        "colab_type": "code",
        "outputId": "3c13278d-86a8-49c2-f3f3-2144448667c2",
        "colab": {
          "base_uri": "https://localhost:8080/",
          "height": 34
        }
      },
      "source": [
        "print(\"Number of columns =\", len(df.columns)) ## or df.shape[1]"
      ],
      "execution_count": 0,
      "outputs": [
        {
          "output_type": "stream",
          "text": [
            "Number of columns = 18\n"
          ],
          "name": "stdout"
        }
      ]
    },
    {
      "cell_type": "markdown",
      "metadata": {
        "id": "N5mCE6sJNCjA",
        "colab_type": "text"
      },
      "source": [
        "- How many unique values does the 'class' attribute take?\n"
      ]
    },
    {
      "cell_type": "code",
      "metadata": {
        "id": "iR70nPNLQOWw",
        "colab_type": "code",
        "outputId": "b915dbf3-c566-401e-eb64-073506a14c36",
        "colab": {
          "base_uri": "https://localhost:8080/",
          "height": 51
        }
      },
      "source": [
        "print(\"Number of unique values =\", len(df['class'].unique()))\n",
        "print(\"Unique values =\", df['class'].unique())"
      ],
      "execution_count": 0,
      "outputs": [
        {
          "output_type": "stream",
          "text": [
            "Number of unique values = 3\n",
            "Unique values = ['normal' 'attacker' 'victim']\n"
          ],
          "name": "stdout"
        }
      ]
    },
    {
      "cell_type": "markdown",
      "metadata": {
        "id": "08h85K97QPQk",
        "colab_type": "text"
      },
      "source": [
        "- How many rows are there for each unique value of the class attribute?\n"
      ]
    },
    {
      "cell_type": "code",
      "metadata": {
        "id": "tAX8VGWfRbxc",
        "colab_type": "code",
        "outputId": "8c1a6bd7-7b72-42c2-b5d4-cfdfbb7e51b8",
        "colab": {
          "base_uri": "https://localhost:8080/",
          "height": 85
        }
      },
      "source": [
        "print(df['class'].value_counts())"
      ],
      "execution_count": 0,
      "outputs": [
        {
          "output_type": "stream",
          "text": [
            "normal      700513\n",
            "attacker     75124\n",
            "victim       69515\n",
            "Name: class, dtype: int64\n"
          ],
          "name": "stdout"
        }
      ]
    },
    {
      "cell_type": "markdown",
      "metadata": {
        "id": "bIyc01kbRkg0",
        "colab_type": "text"
      },
      "source": [
        "- What unique values does the 'attackType' attribute take on?\n"
      ]
    },
    {
      "cell_type": "code",
      "metadata": {
        "id": "Ty8OUOPuSUGI",
        "colab_type": "code",
        "outputId": "65fa94eb-a6c1-419b-85c9-baef85b03c5a",
        "colab": {
          "base_uri": "https://localhost:8080/",
          "height": 51
        }
      },
      "source": [
        "print(\"Number of unique values =\", len(df['attackType'].unique()))\n",
        "print(\"Unique values =\", df['attackType'].unique())"
      ],
      "execution_count": 0,
      "outputs": [
        {
          "output_type": "stream",
          "text": [
            "Number of unique values = 5\n",
            "Unique values = ['---' 'portScan' 'dos' 'pingScan' 'bruteForce']\n"
          ],
          "name": "stdout"
        }
      ]
    },
    {
      "cell_type": "markdown",
      "metadata": {
        "id": "Fortq7ieSfxA",
        "colab_type": "text"
      },
      "source": [
        "- List the count of each of the possible attack types."
      ]
    },
    {
      "cell_type": "code",
      "metadata": {
        "id": "XeXkyENKSiWo",
        "colab_type": "code",
        "outputId": "91d8840a-9bcd-47db-d464-25c244da6a88",
        "colab": {
          "base_uri": "https://localhost:8080/",
          "height": 119
        }
      },
      "source": [
        "print(df['attackType'].value_counts())"
      ],
      "execution_count": 0,
      "outputs": [
        {
          "output_type": "stream",
          "text": [
            "---           700513\n",
            "dos           125430\n",
            "portScan       18686\n",
            "pingScan         355\n",
            "bruteForce       168\n",
            "Name: attackType, dtype: int64\n"
          ],
          "name": "stdout"
        }
      ]
    },
    {
      "cell_type": "markdown",
      "metadata": {
        "id": "5HdXVYi7_wq0",
        "colab_type": "text"
      },
      "source": [
        "### Have a look at the other columns:\n",
        "- Which columns contain numeric values?\n"
      ]
    },
    {
      "cell_type": "code",
      "metadata": {
        "id": "qS_KW2Rm_wq0",
        "colab_type": "code",
        "outputId": "553c2b5a-34de-44bc-fb90-2c343dc37564",
        "colab": {
          "base_uri": "https://localhost:8080/",
          "height": 34
        }
      },
      "source": [
        "numerics = ['int16', 'int32', 'int64', 'float16', 'float32', 'float64']\n",
        "\n",
        "df.select_dtypes(include=numerics).columns"
      ],
      "execution_count": 0,
      "outputs": [
        {
          "output_type": "execute_result",
          "data": {
            "text/plain": [
              "Index(['Duration', 'Src Pt', 'Dst Pt', 'Packets', 'Flows', 'Tos'], dtype='object')"
            ]
          },
          "metadata": {
            "tags": []
          },
          "execution_count": 10
        }
      ]
    },
    {
      "cell_type": "markdown",
      "metadata": {
        "id": "UubDj1bbP334",
        "colab_type": "text"
      },
      "source": [
        "*N.b. The column \"Bytes\" is not considered as a numeric one because it contains mixed values (such as numeric and strings).*"
      ]
    },
    {
      "cell_type": "markdown",
      "metadata": {
        "id": "XUOuKl7MU0w8",
        "colab_type": "text"
      },
      "source": [
        "- Do they all correspond to \"numeric variables\" or are some of them categorical? Note that categorical values are often expressed as numbers! (For numeric types, comparisons with with “>” and “<” makes sense, for categorical variables they don’t.)\n"
      ]
    },
    {
      "cell_type": "markdown",
      "metadata": {
        "id": "D7UKMz93X4tk",
        "colab_type": "text"
      },
      "source": [
        "No, not all of them. Only 'Duration', ' and 'Packets'."
      ]
    },
    {
      "cell_type": "markdown",
      "metadata": {
        "id": "00L0weF7U4Fc",
        "colab_type": "text"
      },
      "source": [
        "- List all numeric types and compute simple statistics (minimum, maximum, average, etc.) for each.\n"
      ]
    },
    {
      "cell_type": "code",
      "metadata": {
        "id": "ZFyP-l0iYwjA",
        "colab_type": "code",
        "outputId": "1780884a-f762-4cf6-c817-261fab7c07b2",
        "colab": {
          "base_uri": "https://localhost:8080/",
          "height": 340
        }
      },
      "source": [
        "print(df.Duration.describe(), \"\\n\")\n",
        "print(df.Packets.describe())"
      ],
      "execution_count": 0,
      "outputs": [
        {
          "output_type": "stream",
          "text": [
            "count    845152.000000\n",
            "mean          0.113840\n",
            "std           0.760426\n",
            "min           0.000000\n",
            "25%           0.000000\n",
            "50%           0.000000\n",
            "75%           0.025000\n",
            "max         135.403000\n",
            "Name: Duration, dtype: float64 \n",
            "\n",
            "count    845152.000000\n",
            "mean         14.902497\n",
            "std         978.309853\n",
            "min           1.000000\n",
            "25%           1.000000\n",
            "50%           2.000000\n",
            "75%           4.000000\n",
            "max      195912.000000\n",
            "Name: Packets, dtype: float64\n"
          ],
          "name": "stdout"
        }
      ]
    },
    {
      "cell_type": "markdown",
      "metadata": {
        "id": "MtxYAdcYYxbQ",
        "colab_type": "text"
      },
      "source": [
        "- Plot the distribution of the numeric variables using a histogram. Do any of the values look too large or too small?"
      ]
    },
    {
      "cell_type": "code",
      "metadata": {
        "id": "KRBhVc_FbUY8",
        "colab_type": "code",
        "outputId": "885c95af-8c16-4ec0-96f6-44ce2ee89d6e",
        "colab": {
          "base_uri": "https://localhost:8080/",
          "height": 573
        }
      },
      "source": [
        "plt.title('Histogram of Duration')\n",
        "plt.xlabel('Duration')\n",
        "plt.hist(df['Duration'].values, color='xkcd:crimson', log=True)\n",
        "plt.show() \n",
        "\n",
        "plt.title('Histogram of Packets')\n",
        "plt.xlabel('Packets')\n",
        "plt.hist(df['Packets'].values, color='xkcd:leaf green', log=True)\n",
        "plt.show()"
      ],
      "execution_count": 0,
      "outputs": [
        {
          "output_type": "display_data",
          "data": {
            "image/png": "[encoded data removed]",
            "text/plain": [
              "<Figure size 432x288 with 1 Axes>"
            ]
          },
          "metadata": {
            "tags": []
          }
        },
        {
          "output_type": "display_data",
          "data": {
            "image/png": "[encoded data removed]",
            "text/plain": [
              "<Figure size 432x288 with 1 Axes>"
            ]
          },
          "metadata": {
            "tags": []
          }
        }
      ]
    },
    {
      "cell_type": "markdown",
      "metadata": {
        "id": "YKTJsyHo_wq0",
        "colab_type": "text"
      },
      "source": [
        "### Have a look at the times and dates that the system has come under attack:\n",
        "- Convert the 'Date first seen' column to a datetime object (see code in Appendix).\n"
      ]
    },
    {
      "cell_type": "code",
      "metadata": {
        "id": "pgpaqBfB_wq0",
        "colab_type": "code",
        "colab": {}
      },
      "source": [
        "df['Date first seen'] = pd.to_datetime(df['Date first seen'])"
      ],
      "execution_count": 0,
      "outputs": []
    },
    {
      "cell_type": "markdown",
      "metadata": {
        "id": "lUjBcWVuw7Dk",
        "colab_type": "text"
      },
      "source": [
        "- Create new columns for the day-of-week or time-of-day.\n"
      ]
    },
    {
      "cell_type": "code",
      "metadata": {
        "id": "9gjKrOBX_wq0",
        "colab_type": "code",
        "outputId": "504dbf4e-a27b-47e2-a892-b58d79faa0a2",
        "colab": {
          "base_uri": "https://localhost:8080/",
          "height": 51
        }
      },
      "source": [
        "df['Day of week'] = df['Date first seen'].dt.dayofweek\n",
        "df['Time of day'] = df['Date first seen'].dt.hour\n",
        "print(\"Day of the week =\", df['Day of week'].unique())\n",
        "print(\"Time of day =\", df['Time of day'].unique())"
      ],
      "execution_count": 0,
      "outputs": [
        {
          "output_type": "stream",
          "text": [
            "Day of the week = [2 3 4 5 6 0 1]\n",
            "Time of day = [ 0  1  2  3  4  5  6  7  8  9 10 11 12 13 14 15 16 17 18 19 20 21 22 23]\n"
          ],
          "name": "stdout"
        }
      ]
    },
    {
      "cell_type": "markdown",
      "metadata": {
        "id": "FBe9mlQNw-Dw",
        "colab_type": "text"
      },
      "source": [
        "- Plot histograms of the day-of-week and of the time-of-day to see their distribution in the data.\n"
      ]
    },
    {
      "cell_type": "code",
      "metadata": {
        "id": "2hIplhY3xAQY",
        "colab_type": "code",
        "outputId": "41482dc1-3782-4735-8124-dd030ddf5abb",
        "colab": {
          "base_uri": "https://localhost:8080/",
          "height": 295
        }
      },
      "source": [
        "plt.title('Histogram of Day distribution')\n",
        "plt.xlabel('Day of week')\n",
        "plt.hist(df['Day of week'].values, color='xkcd:sky blue', bins=25)\n",
        "plt.show()"
      ],
      "execution_count": 0,
      "outputs": [
        {
          "output_type": "display_data",
          "data": {
            "image/png": "[encoded data removed]",
            "text/plain": [
              "<Figure size 432x288 with 1 Axes>"
            ]
          },
          "metadata": {
            "tags": []
          }
        }
      ]
    },
    {
      "cell_type": "code",
      "metadata": {
        "id": "NLN8tD8s4l7M",
        "colab_type": "code",
        "outputId": "f7c5cd14-3614-4770-c375-15e7fcf4417f",
        "colab": {
          "base_uri": "https://localhost:8080/",
          "height": 295
        }
      },
      "source": [
        "plt.title('Histogram of Time distribution')\n",
        "plt.xlabel('Time of day')\n",
        "plt.hist(df['Time of day'].values, color='xkcd:greenish yellow')\n",
        "plt.show()"
      ],
      "execution_count": 0,
      "outputs": [
        {
          "output_type": "display_data",
          "data": {
            "image/png": "[encoded data removed]",
            "text/plain": [
              "<Figure size 432x288 with 1 Axes>"
            ]
          },
          "metadata": {
            "tags": []
          }
        }
      ]
    },
    {
      "cell_type": "markdown",
      "metadata": {
        "id": "s-AGzHeXxAxM",
        "colab_type": "text"
      },
      "source": [
        "- Select only the rows corresponding to attacks and replot the histograms.\n"
      ]
    },
    {
      "cell_type": "code",
      "metadata": {
        "id": "c8tJilwTxBc8",
        "colab_type": "code",
        "outputId": "4d3fb381-83d9-4a7a-d4e1-ed8b750e23da",
        "colab": {
          "base_uri": "https://localhost:8080/",
          "height": 295
        }
      },
      "source": [
        "plt.title('Histogram of Day distribution of attacks')\n",
        "plt.xlabel('Day of week')\n",
        "plt.hist(df[(df['class']==\"attacker\")| (df['class']==\"victim\")]['Day of week'].values, color='xkcd:dusty rose', bins=25)\n",
        "plt.show()"
      ],
      "execution_count": 0,
      "outputs": [
        {
          "output_type": "display_data",
          "data": {
            "image/png": "[encoded data removed]",
            "text/plain": [
              "<Figure size 432x288 with 1 Axes>"
            ]
          },
          "metadata": {
            "tags": []
          }
        }
      ]
    },
    {
      "cell_type": "code",
      "metadata": {
        "id": "m2eaWxgeGPR0",
        "colab_type": "code",
        "outputId": "93b506be-742e-48cd-c926-832757348441",
        "colab": {
          "base_uri": "https://localhost:8080/",
          "height": 295
        }
      },
      "source": [
        "plt.title('Histogram of Time distribution of attacks')\n",
        "plt.xlabel('Time of day')\n",
        "plt.hist(df[(df['class']==\"attacker\")| (df['class']==\"victim\")]['Time of day'].values, color='xkcd:macaroni and cheese', log=True)\n",
        "plt.show()"
      ],
      "execution_count": 0,
      "outputs": [
        {
          "output_type": "display_data",
          "data": {
            "image/png": "[encoded data removed]",
            "text/plain": [
              "<Figure size 432x288 with 1 Axes>"
            ]
          },
          "metadata": {
            "tags": []
          }
        }
      ]
    },
    {
      "cell_type": "markdown",
      "metadata": {
        "id": "4zzcGNJdxESM",
        "colab_type": "text"
      },
      "source": [
        "- Does the day-of-week or time-of-day affect the probability of seeing an attack?"
      ]
    },
    {
      "cell_type": "markdown",
      "metadata": {
        "id": "uaT-T3ofdIYU",
        "colab_type": "text"
      },
      "source": [
        "Yes! "
      ]
    },
    {
      "cell_type": "markdown",
      "metadata": {
        "id": "SacBS1l2dNaM",
        "colab_type": "text"
      },
      "source": [
        "Some other visualization:"
      ]
    },
    {
      "cell_type": "code",
      "metadata": {
        "id": "HuK16Bwt-Eap",
        "colab_type": "code",
        "outputId": "a60a4f0b-52a8-43ff-a3d0-82beaea20379",
        "colab": {
          "base_uri": "https://localhost:8080/",
          "height": 317
        }
      },
      "source": [
        "#Sometimes our features may be closely related to other features. We can easily calculate the correlation coefficient between pairs of features.\n",
        "\n",
        "corr = df.corr()\n",
        "mask = np.zeros_like(corr, dtype=np.bool)\n",
        "mask[np.triu_indices_from(mask)] = True\n",
        "\n",
        "cmap = sns.diverging_palette(220, 10, as_cmap=True)\n",
        "\n",
        "sns.heatmap(corr, mask=mask, cmap=cmap, square=True, linewidths=.5, center=0, vmax=1);"
      ],
      "execution_count": 0,
      "outputs": [
        {
          "output_type": "display_data",
          "data": {
            "image/png": "[encoded data removed]",
            "text/plain": [
              "<Figure size 432x288 with 2 Axes>"
            ]
          },
          "metadata": {
            "tags": []
          }
        }
      ]
    },
    {
      "cell_type": "code",
      "metadata": {
        "id": "DgZGN6YUFG_8",
        "colab_type": "code",
        "outputId": "6b73b23c-5c12-4a0e-975d-7cabc59022e4",
        "colab": {
          "base_uri": "https://localhost:8080/",
          "height": 311,
          "referenced_widgets": [
            "5ae794976b0c4c7f9ec3d8681f7d751d",
            "b4183fe1b4e14f5998173eface735013",
            "ccc731a0b5fd4eafb5b357d55ffb79fd",
            "e712dd45f0de4c4da95dac0e664bd5dd",
            "ec09938532144b219a3cc435abaa709f",
            "03b2ecb480164234927d1a1ccbec52f2"
          ]
        }
      },
      "source": [
        "feature_desc = {'Duration': 'Duration', 'Packets': 'Packets','Day of week' : 'Day of week','Time of day':'Time of day'}\n",
        "def plot_feature(column):\n",
        "    plt.plot(df[column], df['class'], '.')\n",
        "    plt.xlabel(feature_desc[column])\n",
        "    plt.ylabel('Class')\n",
        "\n",
        "dropdown_menu = {v: k for k, v in feature_desc.items()}\n",
        "\n",
        "widgets.interact(plot_feature, column=dropdown_menu);\n",
        "#no attaks on weekends\n",
        "#unbalanced features"
      ],
      "execution_count": 0,
      "outputs": [
        {
          "output_type": "display_data",
          "data": {
            "application/vnd.jupyter.widget-view+json": {
              "model_id": "5ae794976b0c4c7f9ec3d8681f7d751d",
              "version_minor": 0,
              "version_major": 2
            },
            "text/plain": [
              "interactive(children=(Dropdown(description='column', options={'Duration': 'Duration', 'Packets': 'Packets', 'D…"
            ]
          },
          "metadata": {
            "tags": []
          }
        }
      ]
    },
    {
      "cell_type": "markdown",
      "metadata": {
        "id": "XiEHsMQz_wq0",
        "colab_type": "text"
      },
      "source": [
        "### Now create some classifiers using just the numeric attributes and try to predict the ‘class’:\n",
        "- Train a logistic regression classifier.\n"
      ]
    },
    {
      "cell_type": "markdown",
      "metadata": {
        "id": "B2p9MCsneWoI",
        "colab_type": "text"
      },
      "source": [
        "In classification, we predict categorical labels. In regression, we predict quantitative/numerical labels. The critical difference is that we can't take a difference between the predicted and actual category in classification, while we can take a difference between the predicted and actual numerical values in regression. Because of these differences between regression and classification, we use different metrics to evaluate machine learning models trained for classification.\n",
        "\n",
        "As with regression, we're trying to determine the model $f$ that can best describes the relationship\n",
        "\n",
        "$$ y_j = f(X_j). $$\n",
        "\n",
        "For classification, $y_j$ can only take a finite set of values. If there are only two such values, we are dealing with **binary** classification. Examples of binary classification are predicting whether it will rain or not and whether someone will default on their loan. If we have more than two classes, we have a **multiclass** problem. For example, image classification is usually multiclass as we are trying to identify an image among a set of values, e.g., a person, a road sign, a car, etc."
      ]
    },
    {
      "cell_type": "code",
      "metadata": {
        "id": "6pznoysaN55E",
        "colab_type": "code",
        "colab": {}
      },
      "source": [
        "X_train,  X_test, y_train, y_test = train_test_split(\n",
        "    df[['Duration', 'Packets']],  \n",
        "    df[['class']], \n",
        "    test_size=0.20\n",
        ")"
      ],
      "execution_count": 0,
      "outputs": []
    },
    {
      "cell_type": "markdown",
      "metadata": {
        "id": "hubWmPxZTNmE",
        "colab_type": "text"
      },
      "source": [
        "The logistic regression model is the classifier version of linear regression. It is a probabilistic model; it will predict probability values that can then be used to assign class labels. The model works by taking the output of a linear regression model and feeds it into a sigmoid or logistic function. Mathematically\n",
        "\n",
        "$$ p_j = S\\left( \\sum_{i} X_{ji}\\beta_i  + \\beta_0 \\right), $$\n",
        "where\n",
        "$$ S(x) = \\frac{1}{1 + e^{-x}} $$"
      ]
    },
    {
      "cell_type": "markdown",
      "metadata": {
        "id": "9pgi-iY8TUPE",
        "colab_type": "text"
      },
      "source": [
        "The reason for the sigmoid function is that it maps values that range from positive to negative infinity to values that only range from 0 to 1. Thus, the output of the sigmoid function can be interpreted as a probability.\n",
        "\n",
        "The $\\beta$ coefficients of the model are chosen to minimize the log loss. Unlike linear regression, there is no closed-form solution to the optimal coefficient. Instead, the coefficients are solved using gradient descent."
      ]
    },
    {
      "cell_type": "code",
      "metadata": {
        "id": "W-1XGffY_wsY",
        "colab_type": "code",
        "outputId": "af8e6ff4-3d90-49f1-fcc9-50912b32e20f",
        "colab": {
          "base_uri": "https://localhost:8080/",
          "height": 122
        }
      },
      "source": [
        "from sklearn.linear_model import LogisticRegression\n",
        "\n",
        "# define the classifier\n",
        "clf_lr = LogisticRegression(solver='lbfgs', max_iter=1500, verbose=1, n_jobs=-1,multi_class='multinomial')\n",
        "\n",
        "# train the classifier\n",
        "t0 = time.time()\n",
        "clf_lr.fit(X_train, y_train)\n",
        "print(\"elapsed time = %.2f\" % (time.time()-t0))\n",
        "y_pred_lr = clf_lr.predict(X_test)"
      ],
      "execution_count": 0,
      "outputs": [
        {
          "output_type": "stream",
          "text": [
            "/usr/local/lib/python3.6/dist-packages/sklearn/utils/validation.py:724: DataConversionWarning: A column-vector y was passed when a 1d array was expected. Please change the shape of y to (n_samples, ), for example using ravel().\n",
            "  y = column_or_1d(y, warn=True)\n",
            "[Parallel(n_jobs=-1)]: Using backend LokyBackend with 4 concurrent workers.\n"
          ],
          "name": "stderr"
        },
        {
          "output_type": "stream",
          "text": [
            "elapsed time = 53.08\n"
          ],
          "name": "stdout"
        },
        {
          "output_type": "stream",
          "text": [
            "[Parallel(n_jobs=-1)]: Done   1 out of   1 | elapsed:   51.8s finished\n"
          ],
          "name": "stderr"
        }
      ]
    },
    {
      "cell_type": "markdown",
      "metadata": {
        "id": "7-QGWf20yq2Q",
        "colab_type": "text"
      },
      "source": [
        "- How well does the classifier perform in terms of accuracy on the TRAINING data?\n"
      ]
    },
    {
      "cell_type": "markdown",
      "metadata": {
        "id": "GH4v8gpwelbA",
        "colab_type": "text"
      },
      "source": [
        "A natural choice for a metric for classification is accuracy. Accuracy is equal to the number of observations you correctly classified over all observations. For example, if your model properly identified 77 out of 100 images, you have an accuracy of 77%. Accuracy is an easy metric to both understand and calculate. Mathematically, it is simply\n",
        "\n",
        "$$ \\frac{\\text{number of correct observations}}{\\text{number of observations}}.$$\n",
        "\n",
        "However, accuracy may not always be a good metric. Consider the case of disease detection where only 10% of the observations have the disease. A naive classifier that always predicts the majority class will achieve 90% accuracy. \n",
        "While the naive model correctly identifies everyone without the disease, it fails to identify any person with the disease. We need a metric that will tell us how well our model performs for a particular class."
      ]
    },
    {
      "cell_type": "markdown",
      "metadata": {
        "id": "-zmGcsGtezwM",
        "colab_type": "text"
      },
      "source": [
        "For the example of disease detection, we are more interested in determining our model's performance with regards to the class representing having the disease. Let's call this class  **positive** and not having the disease as **negative**. Particularly, we want to know what fraction of all positive predictions were correct and what fraction of positive observations did we identify. The two metrics that describe these values are precision and recall. Precision is the fraction of true positives over all positive predictions. It is a measure of how \"precise\" our model was with regards to labeling observations as positive. Recall, on the other hand, is equal to the fraction of true positives over all positive observations. It is a measure of our model's ability to \"catch\" and properly label observations that are positive.\n",
        "\n",
        "A confusion matrix is a table summarizing the performance of the model by enumerating true and false positives and the true and false negatives.\n",
        "\n",
        "|                     | Positive Observation     | Negative Observation    |\n",
        "|---------------------|:------------------------:|:-----------------------:|\n",
        "| Positive Prediction |     True Positive (TP)   | False Positive (FP)     |\n",
        "| Negative Prediction | False Negative (FN)      |     True Negative (TN)  |\n",
        "\n",
        "Given the definitions used earlier, the equation for precision and recall are\n",
        "\n",
        "$$ \\text{precision} = \\frac{\\text{TP}}{TP + FP}$$\n",
        "and\n",
        "$$ \\text{recall} = \\frac{\\text{TP}}{TP + FN}. $$\n",
        "\n",
        "Note, the difference between the metrics is their denominator. In our disease detection example, if we labeled 12 observations as positive but only 8 were actually true positives, our precision is 0.667. If our data set had 10 positive observations, since we correctly identified or \"recalled\" 8 of them, our recall is 0.8. If we had used the naive model that predicts the majority class, the recall would be 0 and our precision would be undefined."
      ]
    },
    {
      "cell_type": "markdown",
      "metadata": {
        "id": "3M2djZZMe6IA",
        "colab_type": "text"
      },
      "source": [
        "What is more important, precision or recall? The answer depends on the specifics of the problem. Having a model that prioritizes less false positives will have a higher precision and a model that aims to reduce the number of false negatives will have a higher recall. You must decide whether your model should prioritize reducing false positives or false negatives. It is often helpful to consider the cost, whether financial, societal, etc., of your model making false positives and false negatives."
      ]
    },
    {
      "cell_type": "code",
      "metadata": {
        "id": "uI18PvSs_wsY",
        "colab_type": "code",
        "outputId": "471d8c9d-d2b1-4b30-cdc1-6ba0f0220640",
        "colab": {
          "base_uri": "https://localhost:8080/",
          "height": 326
        }
      },
      "source": [
        "print(\"accuracy: {}\".format(metrics.accuracy_score(y_test, y_pred_lr)))\n",
        "print(\"precision: {:g}\".format(metrics.precision_score(y_test, y_pred_lr,average='macro')))\n",
        "print(\"recall: {:g}\".format(metrics.recall_score(y_test, y_pred_lr, average='macro')))\n",
        "print(metrics.classification_report(y_test, y_pred_lr))"
      ],
      "execution_count": 0,
      "outputs": [
        {
          "output_type": "stream",
          "text": [
            "accuracy: 0.829338996988718\n"
          ],
          "name": "stdout"
        },
        {
          "output_type": "stream",
          "text": [
            "/usr/local/lib/python3.6/dist-packages/sklearn/metrics/classification.py:1437: UndefinedMetricWarning: Precision is ill-defined and being set to 0.0 in labels with no predicted samples.\n",
            "  'precision', 'predicted', average, warn_for)\n"
          ],
          "name": "stderr"
        },
        {
          "output_type": "stream",
          "text": [
            "precision: 0.276446\n",
            "recall: 0.333333\n"
          ],
          "name": "stdout"
        },
        {
          "output_type": "stream",
          "text": [
            "/usr/local/lib/python3.6/dist-packages/sklearn/metrics/classification.py:1437: UndefinedMetricWarning: Precision and F-score are ill-defined and being set to 0.0 in labels with no predicted samples.\n",
            "  'precision', 'predicted', average, warn_for)\n"
          ],
          "name": "stderr"
        },
        {
          "output_type": "stream",
          "text": [
            "              precision    recall  f1-score   support\n",
            "\n",
            "    attacker       0.00      0.00      0.00     15000\n",
            "      normal       0.83      1.00      0.91    140184\n",
            "      victim       0.00      0.00      0.00     13847\n",
            "\n",
            "    accuracy                           0.83    169031\n",
            "   macro avg       0.28      0.33      0.30    169031\n",
            "weighted avg       0.69      0.83      0.75    169031\n",
            "\n"
          ],
          "name": "stdout"
        }
      ]
    },
    {
      "cell_type": "markdown",
      "metadata": {
        "id": "WbMGxODayrug",
        "colab_type": "text"
      },
      "source": [
        "- Load data from the second week and use it as TEST data.\n"
      ]
    },
    {
      "cell_type": "code",
      "metadata": {
        "id": "oG6Owh2mysMM",
        "colab_type": "code",
        "outputId": "163760b6-e15c-43b0-8dc1-98f4d43e94aa",
        "colab": {
          "base_uri": "https://localhost:8080/",
          "height": 327
        }
      },
      "source": [
        "# Download a file based on its file ID.\n",
        "#\n",
        "# A file ID looks like: laggVyWshwcyP6kEI-y_W3P8D26sz\n",
        "file_id = '1GlIcKxKYsSY9QfRINrGBSDtEhyOwWuMa'\n",
        "downloaded = drive.CreateFile({'id': file_id})\n",
        "downloaded.GetContentFile('CIDDS-001-internal-week2_10pcSample.csv')  \n",
        "df_test = pd.read_csv('CIDDS-001-internal-week2_10pcSample.csv',index_col=[0],dtype={'Bytes': object})\n",
        "df_test.head(5)"
      ],
      "execution_count": 0,
      "outputs": [
        {
          "output_type": "stream",
          "text": [
            "/usr/local/lib/python3.6/dist-packages/numpy/lib/arraysetops.py:568: FutureWarning: elementwise comparison failed; returning scalar instead, but in the future will perform elementwise comparison\n",
            "  mask |= (ar1 == a)\n"
          ],
          "name": "stderr"
        },
        {
          "output_type": "execute_result",
          "data": {
            "application/vnd.google.colaboratory.module+javascript": "\n      import \"https://ssl.gstatic.com/colaboratory/data_table/9e554b27bdd509f3/data_table.js\";\n\n      window.createDataTable({\n        data: [[{\n            'v': 12,\n            'f': \"12\",\n        },\n\"2017-03-22 00:00:11.767\",\n{\n            'v': 0.004,\n            'f': \"0.004\",\n        },\n\"TCP  \",\n\"192.168.220.5\",\n{\n            'v': 55126,\n            'f': \"55126\",\n        },\n\"192.168.100.5\",\n{\n            'v': 445.0,\n            'f': \"445.0\",\n        },\n{\n            'v': 2,\n            'f': \"2\",\n        },\n\"     174\",\n{\n            'v': 1,\n            'f': \"1\",\n        },\n\".AP...\",\n{\n            'v': 0,\n            'f': \"0\",\n        },\n\"normal\",\n\"---\",\n\"---\",\n\"---\"],\n [{\n            'v': 11,\n            'f': \"11\",\n        },\n\"2017-03-22 00:00:11.768\",\n{\n            'v': 0.0,\n            'f': \"0.0\",\n        },\n\"TCP  \",\n\"192.168.100.5\",\n{\n            'v': 445,\n            'f': \"445\",\n        },\n\"192.168.220.5\",\n{\n            'v': 55126.0,\n            'f': \"55126.0\",\n        },\n{\n            'v': 1,\n            'f': \"1\",\n        },\n\"     108\",\n{\n            'v': 1,\n            'f': \"1\",\n        },\n\".AP...\",\n{\n            'v': 0,\n            'f': \"0\",\n        },\n\"normal\",\n\"---\",\n\"---\",\n\"---\"],\n [{\n            'v': 29,\n            'f': \"29\",\n        },\n\"2017-03-22 00:00:27.207\",\n{\n            'v': 0.232,\n            'f': \"0.232\",\n        },\n\"TCP  \",\n\"192.168.200.8\",\n{\n            'v': 58749,\n            'f': \"58749\",\n        },\n\"EXT_SERVER\",\n{\n            'v': 8082.0,\n            'f': \"8082.0\",\n        },\n{\n            'v': 2,\n            'f': \"2\",\n        },\n\"     319\",\n{\n            'v': 1,\n            'f': \"1\",\n        },\n\".AP...\",\n{\n            'v': 0,\n            'f': \"0\",\n        },\n\"normal\",\n\"---\",\n\"---\",\n\"---\"],\n [{\n            'v': 36,\n            'f': \"36\",\n        },\n\"2017-03-22 00:00:32.830\",\n{\n            'v': 0.0,\n            'f': \"0.0\",\n        },\n\"UDP  \",\n\"192.168.210.5\",\n{\n            'v': 50947,\n            'f': \"50947\",\n        },\n\"DNS\",\n{\n            'v': 53.0,\n            'f': \"53.0\",\n        },\n{\n            'v': 1,\n            'f': \"1\",\n        },\n\"      81\",\n{\n            'v': 1,\n            'f': \"1\",\n        },\n\"......\",\n{\n            'v': 0,\n            'f': \"0\",\n        },\n\"normal\",\n\"---\",\n\"---\",\n\"---\"],\n [{\n            'v': 51,\n            'f': \"51\",\n        },\n\"2017-03-22 00:00:46.964\",\n{\n            'v': 0.0,\n            'f': \"0.0\",\n        },\n\"TCP  \",\n\"10179_174\",\n{\n            'v': 443,\n            'f': \"443\",\n        },\n\"192.168.210.5\",\n{\n            'v': 51433.0,\n            'f': \"51433.0\",\n        },\n{\n            'v': 1,\n            'f': \"1\",\n        },\n\"      54\",\n{\n            'v': 1,\n            'f': \"1\",\n        },\n\".A....\",\n{\n            'v': 32,\n            'f': \"32\",\n        },\n\"normal\",\n\"---\",\n\"---\",\n\"---\"]],\n        columns: [[\"number\", \"index\"], [\"string\", \"Date first seen\"], [\"number\", \"Duration\"], [\"string\", \"Proto\"], [\"string\", \"Src IP Addr\"], [\"number\", \"Src Pt\"], [\"string\", \"Dst IP Addr\"], [\"number\", \"Dst Pt\"], [\"number\", \"Packets\"], [\"string\", \"Bytes\"], [\"number\", \"Flows\"], [\"string\", \"Flags\"], [\"number\", \"Tos\"], [\"string\", \"class\"], [\"string\", \"attackType\"], [\"string\", \"attackID\"], [\"string\", \"attackDescription\"]],\n        columnOptions: [{\"width\": \"1px\", \"className\": \"index_column\"}],\n        rowsPerPage: 25,\n        helpUrl: \"https://colab.research.google.com/notebooks/data_table.ipynb\",\n      });\n    ",
            "text/html": [
              "<div>\n",
              "<style scoped>\n",
              "    .dataframe tbody tr th:only-of-type {\n",
              "        vertical-align: middle;\n",
              "    }\n",
              "\n",
              "    .dataframe tbody tr th {\n",
              "        vertical-align: top;\n",
              "    }\n",
              "\n",
              "    .dataframe thead th {\n",
              "        text-align: right;\n",
              "    }\n",
              "</style>\n",
              "<table border=\"1\" class=\"dataframe\">\n",
              "  <thead>\n",
              "    <tr style=\"text-align: right;\">\n",
              "      <th></th>\n",
              "      <th>Date first seen</th>\n",
              "      <th>Duration</th>\n",
              "      <th>Proto</th>\n",
              "      <th>Src IP Addr</th>\n",
              "      <th>Src Pt</th>\n",
              "      <th>Dst IP Addr</th>\n",
              "      <th>Dst Pt</th>\n",
              "      <th>Packets</th>\n",
              "      <th>Bytes</th>\n",
              "      <th>Flows</th>\n",
              "      <th>Flags</th>\n",
              "      <th>Tos</th>\n",
              "      <th>class</th>\n",
              "      <th>attackType</th>\n",
              "      <th>attackID</th>\n",
              "      <th>attackDescription</th>\n",
              "    </tr>\n",
              "  </thead>\n",
              "  <tbody>\n",
              "    <tr>\n",
              "      <th>12</th>\n",
              "      <td>2017-03-22 00:00:11.767</td>\n",
              "      <td>0.004</td>\n",
              "      <td>TCP</td>\n",
              "      <td>192.168.220.5</td>\n",
              "      <td>55126</td>\n",
              "      <td>192.168.100.5</td>\n",
              "      <td>445.0</td>\n",
              "      <td>2</td>\n",
              "      <td>174</td>\n",
              "      <td>1</td>\n",
              "      <td>.AP...</td>\n",
              "      <td>0</td>\n",
              "      <td>normal</td>\n",
              "      <td>---</td>\n",
              "      <td>---</td>\n",
              "      <td>---</td>\n",
              "    </tr>\n",
              "    <tr>\n",
              "      <th>11</th>\n",
              "      <td>2017-03-22 00:00:11.768</td>\n",
              "      <td>0.000</td>\n",
              "      <td>TCP</td>\n",
              "      <td>192.168.100.5</td>\n",
              "      <td>445</td>\n",
              "      <td>192.168.220.5</td>\n",
              "      <td>55126.0</td>\n",
              "      <td>1</td>\n",
              "      <td>108</td>\n",
              "      <td>1</td>\n",
              "      <td>.AP...</td>\n",
              "      <td>0</td>\n",
              "      <td>normal</td>\n",
              "      <td>---</td>\n",
              "      <td>---</td>\n",
              "      <td>---</td>\n",
              "    </tr>\n",
              "    <tr>\n",
              "      <th>29</th>\n",
              "      <td>2017-03-22 00:00:27.207</td>\n",
              "      <td>0.232</td>\n",
              "      <td>TCP</td>\n",
              "      <td>192.168.200.8</td>\n",
              "      <td>58749</td>\n",
              "      <td>EXT_SERVER</td>\n",
              "      <td>8082.0</td>\n",
              "      <td>2</td>\n",
              "      <td>319</td>\n",
              "      <td>1</td>\n",
              "      <td>.AP...</td>\n",
              "      <td>0</td>\n",
              "      <td>normal</td>\n",
              "      <td>---</td>\n",
              "      <td>---</td>\n",
              "      <td>---</td>\n",
              "    </tr>\n",
              "    <tr>\n",
              "      <th>36</th>\n",
              "      <td>2017-03-22 00:00:32.830</td>\n",
              "      <td>0.000</td>\n",
              "      <td>UDP</td>\n",
              "      <td>192.168.210.5</td>\n",
              "      <td>50947</td>\n",
              "      <td>DNS</td>\n",
              "      <td>53.0</td>\n",
              "      <td>1</td>\n",
              "      <td>81</td>\n",
              "      <td>1</td>\n",
              "      <td>......</td>\n",
              "      <td>0</td>\n",
              "      <td>normal</td>\n",
              "      <td>---</td>\n",
              "      <td>---</td>\n",
              "      <td>---</td>\n",
              "    </tr>\n",
              "    <tr>\n",
              "      <th>51</th>\n",
              "      <td>2017-03-22 00:00:46.964</td>\n",
              "      <td>0.000</td>\n",
              "      <td>TCP</td>\n",
              "      <td>10179_174</td>\n",
              "      <td>443</td>\n",
              "      <td>192.168.210.5</td>\n",
              "      <td>51433.0</td>\n",
              "      <td>1</td>\n",
              "      <td>54</td>\n",
              "      <td>1</td>\n",
              "      <td>.A....</td>\n",
              "      <td>32</td>\n",
              "      <td>normal</td>\n",
              "      <td>---</td>\n",
              "      <td>---</td>\n",
              "      <td>---</td>\n",
              "    </tr>\n",
              "  </tbody>\n",
              "</table>\n",
              "</div>"
            ],
            "text/plain": [
              "            Date first seen  Duration  ... attackID attackDescription\n",
              "12  2017-03-22 00:00:11.767     0.004  ...      ---               ---\n",
              "11  2017-03-22 00:00:11.768     0.000  ...      ---               ---\n",
              "29  2017-03-22 00:00:27.207     0.232  ...      ---               ---\n",
              "36  2017-03-22 00:00:32.830     0.000  ...      ---               ---\n",
              "51  2017-03-22 00:00:46.964     0.000  ...      ---               ---\n",
              "\n",
              "[5 rows x 16 columns]"
            ]
          },
          "metadata": {
            "tags": []
          },
          "execution_count": 79
        }
      ]
    },
    {
      "cell_type": "code",
      "metadata": {
        "id": "q2iiQec9GscI",
        "colab_type": "code",
        "colab": {}
      },
      "source": [
        "y_pred_lr_test = clf_lr.predict(df_test[['Duration', 'Packets']])"
      ],
      "execution_count": 0,
      "outputs": []
    },
    {
      "cell_type": "markdown",
      "metadata": {
        "id": "4iwFINuRysgg",
        "colab_type": "text"
      },
      "source": [
        "- How well does the classifier perform (in terms of accuracy) on the TEST data?\n"
      ]
    },
    {
      "cell_type": "code",
      "metadata": {
        "id": "KS9ythIdys38",
        "colab_type": "code",
        "outputId": "4e9f169a-0a63-4b5a-de7f-8271422ce315",
        "colab": {
          "base_uri": "https://localhost:8080/",
          "height": 326
        }
      },
      "source": [
        "print(\"accuracy: {}\".format(metrics.accuracy_score(df_test[['class']], y_pred_lr_test)))\n",
        "print(\"precision: {:g}\".format(metrics.precision_score(df_test[['class']], y_pred_lr_test,average='macro')))\n",
        "print(\"recall: {:g}\".format(metrics.recall_score(df_test[['class']], y_pred_lr_test, average='macro')))\n",
        "print(metrics.classification_report(df_test[['class']], y_pred_lr_test))"
      ],
      "execution_count": 0,
      "outputs": [
        {
          "output_type": "stream",
          "text": [
            "accuracy: 0.8261257932270557\n"
          ],
          "name": "stdout"
        },
        {
          "output_type": "stream",
          "text": [
            "/usr/local/lib/python3.6/dist-packages/sklearn/metrics/classification.py:1437: UndefinedMetricWarning: Precision is ill-defined and being set to 0.0 in labels with no predicted samples.\n",
            "  'precision', 'predicted', average, warn_for)\n"
          ],
          "name": "stderr"
        },
        {
          "output_type": "stream",
          "text": [
            "precision: 0.275377\n",
            "recall: 0.333331\n"
          ],
          "name": "stdout"
        },
        {
          "output_type": "stream",
          "text": [
            "/usr/local/lib/python3.6/dist-packages/sklearn/metrics/classification.py:1437: UndefinedMetricWarning: Precision and F-score are ill-defined and being set to 0.0 in labels with no predicted samples.\n",
            "  'precision', 'predicted', average, warn_for)\n"
          ],
          "name": "stderr"
        },
        {
          "output_type": "stream",
          "text": [
            "              precision    recall  f1-score   support\n",
            "\n",
            "    attacker       0.00      0.00      0.00     91009\n",
            "      normal       0.83      1.00      0.90    851802\n",
            "      victim       0.00      0.00      0.00     88262\n",
            "\n",
            "    accuracy                           0.83   1031073\n",
            "   macro avg       0.28      0.33      0.30   1031073\n",
            "weighted avg       0.68      0.83      0.75   1031073\n",
            "\n"
          ],
          "name": "stdout"
        }
      ]
    },
    {
      "cell_type": "markdown",
      "metadata": {
        "id": "dlKDOnzGy1o4",
        "colab_type": "text"
      },
      "source": [
        "- Is that performance good? Print out confusion matrices to better understand the results."
      ]
    },
    {
      "cell_type": "code",
      "metadata": {
        "id": "3fub5Goby1-w",
        "colab_type": "code",
        "outputId": "5fade09c-f70c-407a-bceb-5cfee8235cc1",
        "colab": {
          "base_uri": "https://localhost:8080/",
          "height": 68
        }
      },
      "source": [
        "metrics.confusion_matrix(df_test[['class']], y_pred_lr_test)\n"
      ],
      "execution_count": 0,
      "outputs": [
        {
          "output_type": "execute_result",
          "data": {
            "text/plain": [
              "array([[     0,  91009,      0],\n",
              "       [     6, 851796,      0],\n",
              "       [     0,  88262,      0]])"
            ]
          },
          "metadata": {
            "tags": []
          },
          "execution_count": 82
        }
      ]
    },
    {
      "cell_type": "markdown",
      "metadata": {
        "id": "A_XfZtMg-W9M",
        "colab_type": "text"
      },
      "source": [
        "Now let's optimize a bit this model. "
      ]
    },
    {
      "cell_type": "code",
      "metadata": {
        "id": "gxCExNPhuIwA",
        "colab_type": "code",
        "colab": {}
      },
      "source": [
        "df['Bytes']= df['Bytes'].apply(lambda r: float(r) if 'M' not in r else float(r.replace('M',''))*1000000)"
      ],
      "execution_count": 0,
      "outputs": []
    },
    {
      "cell_type": "code",
      "metadata": {
        "id": "xV2KL3IGs6tU",
        "colab_type": "code",
        "colab": {}
      },
      "source": [
        "df_test['Bytes']= df_test['Bytes'].apply(lambda r: float(r) if 'M' not in r else float(r.replace('M',''))*1000000)"
      ],
      "execution_count": 0,
      "outputs": []
    },
    {
      "cell_type": "code",
      "metadata": {
        "id": "B3RF5PZ0-QSo",
        "colab_type": "code",
        "outputId": "bbe861fb-b30c-4e19-abac-d14eec54ce8c",
        "colab": {
          "base_uri": "https://localhost:8080/",
          "height": 479
        }
      },
      "source": [
        "from sklearn.model_selection import GridSearchCV\n",
        "from sklearn.pipeline import Pipeline\n",
        "from sklearn.linear_model import LogisticRegression\n",
        "\n",
        "# define the classifier\n",
        "clf_lr_op = LogisticRegression(solver='lbfgs', verbose=1, n_jobs=-1, multi_class='multinomial')\n",
        "\n",
        "X_train,  X_test, y_train, y_test = train_test_split(\n",
        "    df[['Duration', 'Packets', 'Bytes']],  \n",
        "    df[['class']], \n",
        "    test_size=0.20\n",
        ")\n",
        "\n",
        "pipe = Pipeline(steps=[('clf_lr_op', clf_lr_op)])\n",
        "param_grid = {\n",
        "    'clf_lr_op__max_iter': [50, 100, 1000]\n",
        "}\n",
        "t0 = time.time()\n",
        "searchLR = GridSearchCV(pipe, param_grid, iid=False, cv=3, verbose=True, n_jobs=-1)\n",
        "searchLR.fit(X_train, y_train)\n",
        "print(\"elapsed time = %.2f\" % (time.time()-t0))\n",
        "print(searchLR.best_params_)\n",
        "trainedLR = searchLR.best_estimator_.get_params()['clf_lr_op']\n",
        "y_pred_LR = trainedLR.predict(X_test)\n",
        "\n",
        "print(\"accuracy: {}\".format(metrics.accuracy_score(y_test, y_pred_LR)))\n",
        "print(\"precision: {:g}\".format(metrics.precision_score(y_test, y_pred_LR,average='macro')))\n",
        "print(\"recall: {:g}\".format(metrics.recall_score(y_test, y_pred_LR, average='macro')))\n",
        "print(metrics.classification_report(y_test, y_pred_LR))"
      ],
      "execution_count": 0,
      "outputs": [
        {
          "output_type": "stream",
          "text": [
            "Fitting 3 folds for each of 3 candidates, totalling 9 fits\n"
          ],
          "name": "stdout"
        },
        {
          "output_type": "stream",
          "text": [
            "[Parallel(n_jobs=-1)]: Using backend LokyBackend with 4 concurrent workers.\n",
            "[Parallel(n_jobs=-1)]: Done   9 out of   9 | elapsed:  1.6min finished\n",
            "/usr/local/lib/python3.6/dist-packages/sklearn/utils/validation.py:724: DataConversionWarning: A column-vector y was passed when a 1d array was expected. Please change the shape of y to (n_samples, ), for example using ravel().\n",
            "  y = column_or_1d(y, warn=True)\n",
            "[Parallel(n_jobs=-1)]: Using backend LokyBackend with 4 concurrent workers.\n",
            "[Parallel(n_jobs=-1)]: Done   1 out of   1 | elapsed:   46.3s finished\n"
          ],
          "name": "stderr"
        },
        {
          "output_type": "stream",
          "text": [
            "elapsed time = 142.85\n",
            "{'clf_lr_op__max_iter': 100}\n",
            "accuracy: 0.8288597949488555\n"
          ],
          "name": "stdout"
        },
        {
          "output_type": "stream",
          "text": [
            "/usr/local/lib/python3.6/dist-packages/sklearn/metrics/classification.py:1437: UndefinedMetricWarning: Precision is ill-defined and being set to 0.0 in labels with no predicted samples.\n",
            "  'precision', 'predicted', average, warn_for)\n"
          ],
          "name": "stderr"
        },
        {
          "output_type": "stream",
          "text": [
            "precision: 0.276319\n",
            "recall: 0.333286\n"
          ],
          "name": "stdout"
        },
        {
          "output_type": "stream",
          "text": [
            "/usr/local/lib/python3.6/dist-packages/sklearn/metrics/classification.py:1437: UndefinedMetricWarning: Precision and F-score are ill-defined and being set to 0.0 in labels with no predicted samples.\n",
            "  'precision', 'predicted', average, warn_for)\n"
          ],
          "name": "stderr"
        },
        {
          "output_type": "stream",
          "text": [
            "              precision    recall  f1-score   support\n",
            "\n",
            "    attacker       0.00      0.00      0.00     15048\n",
            "      normal       0.83      1.00      0.91    140123\n",
            "      victim       0.00      0.00      0.00     13860\n",
            "\n",
            "    accuracy                           0.83    169031\n",
            "   macro avg       0.28      0.33      0.30    169031\n",
            "weighted avg       0.69      0.83      0.75    169031\n",
            "\n"
          ],
          "name": "stdout"
        }
      ]
    },
    {
      "cell_type": "markdown",
      "metadata": {
        "id": "R_3GsKjv_wsY",
        "colab_type": "text"
      },
      "source": [
        "### Compare performance across different classifiers:\n",
        "- Try a Decision Tree and a Random Forest. Does the performance improve? Why?\n"
      ]
    },
    {
      "cell_type": "code",
      "metadata": {
        "id": "YsA6x157_wsY",
        "colab_type": "code",
        "outputId": "d1666bf3-f0bf-46a3-f7e7-ae9d4d105174",
        "colab": {
          "base_uri": "https://localhost:8080/",
          "height": 1000
        }
      },
      "source": [
        "!pip install graphviz\n",
        "import graphviz\n",
        "from sklearn.tree import DecisionTreeClassifier, export_graphviz\n",
        "\n",
        "X_train,  X_test, y_train, y_test = train_test_split( \n",
        "    df[['Duration', 'Packets', 'Bytes']],  \n",
        "    df[['class']], \n",
        "    test_size=0.20\n",
        ")\n",
        "\n",
        "# define the classifier\n",
        "clf_dt = DecisionTreeClassifier(max_depth=3)\n",
        "\n",
        "# train the classifier\n",
        "t0 = time.time()\n",
        "clf_dt.fit(X_train, y_train)\n",
        "print(\"elapsed time = %.2f\" % (time.time()-t0))\n",
        "\n",
        "# perform the prediction\n",
        "y_pred_dt = clf_dt.predict(X_test)\n",
        "\n",
        "\n",
        "print(\"accuracy: {}\".format(metrics.accuracy_score(y_test, y_pred_dt)))\n",
        "print(\"precision: {:g}\".format(metrics.precision_score(y_test, y_pred_dt,average='macro')))\n",
        "print(\"recall: {:g}\".format(metrics.recall_score(y_test, y_pred_dt, average='macro')))\n",
        "print(metrics.classification_report(y_test, y_pred_dt))\n",
        "\n",
        "y_pred_dt = clf_dt.predict(df_test[['Duration', 'Packets', 'Bytes']])\n",
        "print(\"accuracy: {}\".format(metrics.accuracy_score(df_test[['class']], y_pred_dt)))\n",
        "print(\"precision: {:g}\".format(metrics.precision_score(df_test[['class']], y_pred_dt,average='macro')))\n",
        "print(\"recall: {:g}\".format(metrics.recall_score(df_test[['class']], y_pred_dt, average='macro')))\n",
        "print(metrics.classification_report(df_test[['class']], y_pred_dt))\n",
        "\n",
        "# visual tree\n",
        "from sklearn import tree\n",
        "graphviz.Source(export_graphviz(clf_dt, \n",
        "                                out_file=None,\n",
        "                                feature_names=list(X_train.columns.values)))"
      ],
      "execution_count": 0,
      "outputs": [
        {
          "output_type": "stream",
          "text": [
            "Requirement already satisfied: graphviz in /usr/local/lib/python3.6/dist-packages (0.10.1)\n",
            "elapsed time = 1.48\n",
            "accuracy: 0.9762232963184267\n",
            "precision: 0.942885\n",
            "recall: 0.952058\n",
            "              precision    recall  f1-score   support\n",
            "\n",
            "    attacker       0.97      0.97      0.97     15059\n",
            "      normal       0.99      0.98      0.99    140164\n",
            "      victim       0.87      0.90      0.88     13808\n",
            "\n",
            "    accuracy                           0.98    169031\n",
            "   macro avg       0.94      0.95      0.95    169031\n",
            "weighted avg       0.98      0.98      0.98    169031\n",
            "\n",
            "accuracy: 0.9812729069619707\n",
            "precision: 0.949505\n",
            "recall: 0.973936\n",
            "              precision    recall  f1-score   support\n",
            "\n",
            "    attacker       0.98      0.98      0.98     91009\n",
            "      normal       0.99      0.98      0.99    851802\n",
            "      victim       0.88      0.96      0.92     88262\n",
            "\n",
            "    accuracy                           0.98   1031073\n",
            "   macro avg       0.95      0.97      0.96   1031073\n",
            "weighted avg       0.98      0.98      0.98   1031073\n",
            "\n"
          ],
          "name": "stdout"
        },
        {
          "output_type": "execute_result",
          "data": {
            "text/plain": [
              "<graphviz.files.Source at 0x7f8eff8e6f60>"
            ],
            "image/svg+xml": "<?xml version=\"1.0\" encoding=\"UTF-8\" standalone=\"no\"?>\n<!DOCTYPE svg PUBLIC \"-//W3C//DTD SVG 1.1//EN\"\n \"http://www.w3.org/Graphics/SVG/1.1/DTD/svg11.dtd\">\n<!-- Generated by graphviz version 2.40.1 (20161225.0304)\n -->\n<!-- Title: Tree Pages: 1 -->\n<svg width=\"1439pt\" height=\"373pt\"\n viewBox=\"0.00 0.00 1439.00 373.00\" xmlns=\"http://www.w3.org/2000/svg\" xmlns:xlink=\"http://www.w3.org/1999/xlink\">\n<g id=\"graph0\" class=\"graph\" transform=\"scale(1 1) rotate(0) translate(4 369)\">\n<title>Tree</title>\n<polygon fill=\"#ffffff\" stroke=\"transparent\" points=\"-4,4 -4,-369 1435,-369 1435,4 -4,4\"/>\n<!-- 0 -->\n<g id=\"node1\" class=\"node\">\n<title>0</title>\n<polygon fill=\"none\" stroke=\"#000000\" points=\"810,-365 603,-365 603,-297 810,-297 810,-365\"/>\n<text text-anchor=\"middle\" x=\"706.5\" y=\"-349.8\" font-family=\"Times,serif\" font-size=\"14.00\" fill=\"#000000\">Packets &lt;= 2.5</text>\n<text text-anchor=\"middle\" x=\"706.5\" y=\"-334.8\" font-family=\"Times,serif\" font-size=\"14.00\" fill=\"#000000\">gini = 0.298</text>\n<text text-anchor=\"middle\" x=\"706.5\" y=\"-319.8\" font-family=\"Times,serif\" font-size=\"14.00\" fill=\"#000000\">samples = 676121</text>\n<text text-anchor=\"middle\" x=\"706.5\" y=\"-304.8\" font-family=\"Times,serif\" font-size=\"14.00\" fill=\"#000000\">value = [60065, 560349, 55707]</text>\n</g>\n<!-- 1 -->\n<g id=\"node2\" class=\"node\">\n<title>1</title>\n<polygon fill=\"none\" stroke=\"#000000\" points=\"632.5,-261 440.5,-261 440.5,-193 632.5,-193 632.5,-261\"/>\n<text text-anchor=\"middle\" x=\"536.5\" y=\"-245.8\" font-family=\"Times,serif\" font-size=\"14.00\" fill=\"#000000\">Bytes &lt;= 60.0</text>\n<text text-anchor=\"middle\" x=\"536.5\" y=\"-230.8\" font-family=\"Times,serif\" font-size=\"14.00\" fill=\"#000000\">gini = 0.069</text>\n<text text-anchor=\"middle\" x=\"536.5\" y=\"-215.8\" font-family=\"Times,serif\" font-size=\"14.00\" fill=\"#000000\">samples = 433368</text>\n<text text-anchor=\"middle\" x=\"536.5\" y=\"-200.8\" font-family=\"Times,serif\" font-size=\"14.00\" fill=\"#000000\">value = [9742, 418079, 5547]</text>\n</g>\n<!-- 0&#45;&gt;1 -->\n<g id=\"edge1\" class=\"edge\">\n<title>0&#45;&gt;1</title>\n<path fill=\"none\" stroke=\"#000000\" d=\"M650.8356,-296.9465C634.9851,-287.2497 617.5832,-276.6039 601.2421,-266.6069\"/>\n<polygon fill=\"#000000\" stroke=\"#000000\" points=\"602.6463,-263.363 592.2894,-261.13 598.9933,-269.3342 602.6463,-263.363\"/>\n<text text-anchor=\"middle\" x=\"598.1439\" y=\"-281.7348\" font-family=\"Times,serif\" font-size=\"14.00\" fill=\"#000000\">True</text>\n</g>\n<!-- 8 -->\n<g id=\"node9\" class=\"node\">\n<title>8</title>\n<polygon fill=\"none\" stroke=\"#000000\" points=\"993,-261 786,-261 786,-193 993,-193 993,-261\"/>\n<text text-anchor=\"middle\" x=\"889.5\" y=\"-245.8\" font-family=\"Times,serif\" font-size=\"14.00\" fill=\"#000000\">Duration &lt;= 0.013</text>\n<text text-anchor=\"middle\" x=\"889.5\" y=\"-230.8\" font-family=\"Times,serif\" font-size=\"14.00\" fill=\"#000000\">gini = 0.571</text>\n<text text-anchor=\"middle\" x=\"889.5\" y=\"-215.8\" font-family=\"Times,serif\" font-size=\"14.00\" fill=\"#000000\">samples = 242753</text>\n<text text-anchor=\"middle\" x=\"889.5\" y=\"-200.8\" font-family=\"Times,serif\" font-size=\"14.00\" fill=\"#000000\">value = [50323, 142270, 50160]</text>\n</g>\n<!-- 0&#45;&gt;8 -->\n<g id=\"edge8\" class=\"edge\">\n<title>0&#45;&gt;8</title>\n<path fill=\"none\" stroke=\"#000000\" d=\"M766.421,-296.9465C783.6417,-287.1599 802.5633,-276.4066 820.2954,-266.3294\"/>\n<polygon fill=\"#000000\" stroke=\"#000000\" points=\"822.4796,-269.1139 829.4443,-261.13 819.0209,-263.028 822.4796,-269.1139\"/>\n<text text-anchor=\"middle\" x=\"822.8096\" y=\"-281.5335\" font-family=\"Times,serif\" font-size=\"14.00\" fill=\"#000000\">False</text>\n</g>\n<!-- 2 -->\n<g id=\"node3\" class=\"node\">\n<title>2</title>\n<polygon fill=\"none\" stroke=\"#000000\" points=\"369,-157 184,-157 184,-89 369,-89 369,-157\"/>\n<text text-anchor=\"middle\" x=\"276.5\" y=\"-141.8\" font-family=\"Times,serif\" font-size=\"14.00\" fill=\"#000000\">Bytes &lt;= 57.5</text>\n<text text-anchor=\"middle\" x=\"276.5\" y=\"-126.8\" font-family=\"Times,serif\" font-size=\"14.00\" fill=\"#000000\">gini = 0.381</text>\n<text text-anchor=\"middle\" x=\"276.5\" y=\"-111.8\" font-family=\"Times,serif\" font-size=\"14.00\" fill=\"#000000\">samples = 62617</text>\n<text text-anchor=\"middle\" x=\"276.5\" y=\"-96.8\" font-family=\"Times,serif\" font-size=\"14.00\" fill=\"#000000\">value = [9159, 48126, 5332]</text>\n</g>\n<!-- 1&#45;&gt;2 -->\n<g id=\"edge2\" class=\"edge\">\n<title>1&#45;&gt;2</title>\n<path fill=\"none\" stroke=\"#000000\" d=\"M451.3663,-192.9465C425.7775,-182.711 397.5452,-171.4181 371.3677,-160.9471\"/>\n<polygon fill=\"#000000\" stroke=\"#000000\" points=\"372.4097,-157.5943 361.825,-157.13 369.8099,-164.0936 372.4097,-157.5943\"/>\n</g>\n<!-- 5 -->\n<g id=\"node6\" class=\"node\">\n<title>5</title>\n<polygon fill=\"none\" stroke=\"#000000\" points=\"625,-157 448,-157 448,-89 625,-89 625,-157\"/>\n<text text-anchor=\"middle\" x=\"536.5\" y=\"-141.8\" font-family=\"Times,serif\" font-size=\"14.00\" fill=\"#000000\">Duration &lt;= 0.398</text>\n<text text-anchor=\"middle\" x=\"536.5\" y=\"-126.8\" font-family=\"Times,serif\" font-size=\"14.00\" fill=\"#000000\">gini = 0.004</text>\n<text text-anchor=\"middle\" x=\"536.5\" y=\"-111.8\" font-family=\"Times,serif\" font-size=\"14.00\" fill=\"#000000\">samples = 370751</text>\n<text text-anchor=\"middle\" x=\"536.5\" y=\"-96.8\" font-family=\"Times,serif\" font-size=\"14.00\" fill=\"#000000\">value = [583, 369953, 215]</text>\n</g>\n<!-- 1&#45;&gt;5 -->\n<g id=\"edge5\" class=\"edge\">\n<title>1&#45;&gt;5</title>\n<path fill=\"none\" stroke=\"#000000\" d=\"M536.5,-192.9465C536.5,-184.776 536.5,-175.9318 536.5,-167.3697\"/>\n<polygon fill=\"#000000\" stroke=\"#000000\" points=\"540.0001,-167.13 536.5,-157.13 533.0001,-167.13 540.0001,-167.13\"/>\n</g>\n<!-- 3 -->\n<g id=\"node4\" class=\"node\">\n<title>3</title>\n<polygon fill=\"none\" stroke=\"#000000\" points=\"177,-53 0,-53 0,0 177,0 177,-53\"/>\n<text text-anchor=\"middle\" x=\"88.5\" y=\"-37.8\" font-family=\"Times,serif\" font-size=\"14.00\" fill=\"#000000\">gini = 0.191</text>\n<text text-anchor=\"middle\" x=\"88.5\" y=\"-22.8\" font-family=\"Times,serif\" font-size=\"14.00\" fill=\"#000000\">samples = 53342</text>\n<text text-anchor=\"middle\" x=\"88.5\" y=\"-7.8\" font-family=\"Times,serif\" font-size=\"14.00\" fill=\"#000000\">value = [555, 47714, 5073]</text>\n</g>\n<!-- 2&#45;&gt;3 -->\n<g id=\"edge3\" class=\"edge\">\n<title>2&#45;&gt;3</title>\n<path fill=\"none\" stroke=\"#000000\" d=\"M210.2182,-88.9777C190.4143,-78.8124 168.8078,-67.7218 149.3689,-57.7439\"/>\n<polygon fill=\"#000000\" stroke=\"#000000\" points=\"150.8068,-54.5478 140.3121,-53.095 147.6102,-60.7754 150.8068,-54.5478\"/>\n</g>\n<!-- 4 -->\n<g id=\"node5\" class=\"node\">\n<title>4</title>\n<polygon fill=\"none\" stroke=\"#000000\" points=\"357.5,-53 195.5,-53 195.5,0 357.5,0 357.5,-53\"/>\n<text text-anchor=\"middle\" x=\"276.5\" y=\"-37.8\" font-family=\"Times,serif\" font-size=\"14.00\" fill=\"#000000\">gini = 0.137</text>\n<text text-anchor=\"middle\" x=\"276.5\" y=\"-22.8\" font-family=\"Times,serif\" font-size=\"14.00\" fill=\"#000000\">samples = 9275</text>\n<text text-anchor=\"middle\" x=\"276.5\" y=\"-7.8\" font-family=\"Times,serif\" font-size=\"14.00\" fill=\"#000000\">value = [8604, 412, 259]</text>\n</g>\n<!-- 2&#45;&gt;4 -->\n<g id=\"edge4\" class=\"edge\">\n<title>2&#45;&gt;4</title>\n<path fill=\"none\" stroke=\"#000000\" d=\"M276.5,-88.9777C276.5,-80.7364 276.5,-71.887 276.5,-63.5153\"/>\n<polygon fill=\"#000000\" stroke=\"#000000\" points=\"280.0001,-63.2484 276.5,-53.2485 273.0001,-63.2485 280.0001,-63.2484\"/>\n</g>\n<!-- 6 -->\n<g id=\"node7\" class=\"node\">\n<title>6</title>\n<polygon fill=\"none\" stroke=\"#000000\" points=\"553,-53 376,-53 376,0 553,0 553,-53\"/>\n<text text-anchor=\"middle\" x=\"464.5\" y=\"-37.8\" font-family=\"Times,serif\" font-size=\"14.00\" fill=\"#000000\">gini = 0.004</text>\n<text text-anchor=\"middle\" x=\"464.5\" y=\"-22.8\" font-family=\"Times,serif\" font-size=\"14.00\" fill=\"#000000\">samples = 367732</text>\n<text text-anchor=\"middle\" x=\"464.5\" y=\"-7.8\" font-family=\"Times,serif\" font-size=\"14.00\" fill=\"#000000\">value = [465, 367055, 212]</text>\n</g>\n<!-- 5&#45;&gt;6 -->\n<g id=\"edge6\" class=\"edge\">\n<title>5&#45;&gt;6</title>\n<path fill=\"none\" stroke=\"#000000\" d=\"M511.1155,-88.9777C504.42,-80.0039 497.1865,-70.3089 490.461,-61.295\"/>\n<polygon fill=\"#000000\" stroke=\"#000000\" points=\"493.2427,-59.1704 484.4574,-53.2485 487.6323,-63.3565 493.2427,-59.1704\"/>\n</g>\n<!-- 7 -->\n<g id=\"node8\" class=\"node\">\n<title>7</title>\n<polygon fill=\"none\" stroke=\"#000000\" points=\"717.5,-53 571.5,-53 571.5,0 717.5,0 717.5,-53\"/>\n<text text-anchor=\"middle\" x=\"644.5\" y=\"-37.8\" font-family=\"Times,serif\" font-size=\"14.00\" fill=\"#000000\">gini = 0.077</text>\n<text text-anchor=\"middle\" x=\"644.5\" y=\"-22.8\" font-family=\"Times,serif\" font-size=\"14.00\" fill=\"#000000\">samples = 3019</text>\n<text text-anchor=\"middle\" x=\"644.5\" y=\"-7.8\" font-family=\"Times,serif\" font-size=\"14.00\" fill=\"#000000\">value = [118, 2898, 3]</text>\n</g>\n<!-- 5&#45;&gt;7 -->\n<g id=\"edge7\" class=\"edge\">\n<title>5&#45;&gt;7</title>\n<path fill=\"none\" stroke=\"#000000\" d=\"M574.5768,-88.9777C585.1324,-79.546 596.5796,-69.3178 607.0964,-59.9208\"/>\n<polygon fill=\"#000000\" stroke=\"#000000\" points=\"609.439,-62.5213 614.5639,-53.2485 604.7749,-57.3015 609.439,-62.5213\"/>\n</g>\n<!-- 9 -->\n<g id=\"node10\" class=\"node\">\n<title>9</title>\n<polygon fill=\"none\" stroke=\"#000000\" points=\"985.5,-157 793.5,-157 793.5,-89 985.5,-89 985.5,-157\"/>\n<text text-anchor=\"middle\" x=\"889.5\" y=\"-141.8\" font-family=\"Times,serif\" font-size=\"14.00\" fill=\"#000000\">Packets &lt;= 4.5</text>\n<text text-anchor=\"middle\" x=\"889.5\" y=\"-126.8\" font-family=\"Times,serif\" font-size=\"14.00\" fill=\"#000000\">gini = 0.567</text>\n<text text-anchor=\"middle\" x=\"889.5\" y=\"-111.8\" font-family=\"Times,serif\" font-size=\"14.00\" fill=\"#000000\">samples = 107888</text>\n<text text-anchor=\"middle\" x=\"889.5\" y=\"-96.8\" font-family=\"Times,serif\" font-size=\"14.00\" fill=\"#000000\">value = [49882, 8100, 49906]</text>\n</g>\n<!-- 8&#45;&gt;9 -->\n<g id=\"edge9\" class=\"edge\">\n<title>8&#45;&gt;9</title>\n<path fill=\"none\" stroke=\"#000000\" d=\"M889.5,-192.9465C889.5,-184.776 889.5,-175.9318 889.5,-167.3697\"/>\n<polygon fill=\"#000000\" stroke=\"#000000\" points=\"893.0001,-167.13 889.5,-157.13 886.0001,-167.13 893.0001,-167.13\"/>\n</g>\n<!-- 12 -->\n<g id=\"node13\" class=\"node\">\n<title>12</title>\n<polygon fill=\"none\" stroke=\"#000000\" points=\"1254,-157 1077,-157 1077,-89 1254,-89 1254,-157\"/>\n<text text-anchor=\"middle\" x=\"1165.5\" y=\"-141.8\" font-family=\"Times,serif\" font-size=\"14.00\" fill=\"#000000\">Duration &lt;= 0.015</text>\n<text text-anchor=\"middle\" x=\"1165.5\" y=\"-126.8\" font-family=\"Times,serif\" font-size=\"14.00\" fill=\"#000000\">gini = 0.01</text>\n<text text-anchor=\"middle\" x=\"1165.5\" y=\"-111.8\" font-family=\"Times,serif\" font-size=\"14.00\" fill=\"#000000\">samples = 134865</text>\n<text text-anchor=\"middle\" x=\"1165.5\" y=\"-96.8\" font-family=\"Times,serif\" font-size=\"14.00\" fill=\"#000000\">value = [441, 134170, 254]</text>\n</g>\n<!-- 8&#45;&gt;12 -->\n<g id=\"edge12\" class=\"edge\">\n<title>8&#45;&gt;12</title>\n<path fill=\"none\" stroke=\"#000000\" d=\"M979.8727,-192.9465C1007.8395,-182.4083 1038.7808,-170.7492 1067.2537,-160.0203\"/>\n<polygon fill=\"#000000\" stroke=\"#000000\" points=\"1068.6837,-163.2218 1076.8072,-156.4205 1066.2153,-156.6714 1068.6837,-163.2218\"/>\n</g>\n<!-- 10 -->\n<g id=\"node11\" class=\"node\">\n<title>10</title>\n<polygon fill=\"none\" stroke=\"#000000\" points=\"897.5,-53 735.5,-53 735.5,0 897.5,0 897.5,-53\"/>\n<text text-anchor=\"middle\" x=\"816.5\" y=\"-37.8\" font-family=\"Times,serif\" font-size=\"14.00\" fill=\"#000000\">gini = 0.222</text>\n<text text-anchor=\"middle\" x=\"816.5\" y=\"-22.8\" font-family=\"Times,serif\" font-size=\"14.00\" fill=\"#000000\">samples = 57144</text>\n<text text-anchor=\"middle\" x=\"816.5\" y=\"-7.8\" font-family=\"Times,serif\" font-size=\"14.00\" fill=\"#000000\">value = [9, 7250, 49885]</text>\n</g>\n<!-- 9&#45;&gt;10 -->\n<g id=\"edge10\" class=\"edge\">\n<title>9&#45;&gt;10</title>\n<path fill=\"none\" stroke=\"#000000\" d=\"M863.7629,-88.9777C856.9744,-80.0039 849.6404,-70.3089 842.8216,-61.295\"/>\n<polygon fill=\"#000000\" stroke=\"#000000\" points=\"845.559,-59.1121 836.7346,-53.2485 839.9763,-63.3352 845.559,-59.1121\"/>\n</g>\n<!-- 11 -->\n<g id=\"node12\" class=\"node\">\n<title>11</title>\n<polygon fill=\"none\" stroke=\"#000000\" points=\"1077.5,-53 915.5,-53 915.5,0 1077.5,0 1077.5,-53\"/>\n<text text-anchor=\"middle\" x=\"996.5\" y=\"-37.8\" font-family=\"Times,serif\" font-size=\"14.00\" fill=\"#000000\">gini = 0.034</text>\n<text text-anchor=\"middle\" x=\"996.5\" y=\"-22.8\" font-family=\"Times,serif\" font-size=\"14.00\" fill=\"#000000\">samples = 50744</text>\n<text text-anchor=\"middle\" x=\"996.5\" y=\"-7.8\" font-family=\"Times,serif\" font-size=\"14.00\" fill=\"#000000\">value = [49873, 850, 21]</text>\n</g>\n<!-- 9&#45;&gt;11 -->\n<g id=\"edge11\" class=\"edge\">\n<title>9&#45;&gt;11</title>\n<path fill=\"none\" stroke=\"#000000\" d=\"M927.2242,-88.9777C937.5806,-79.6376 948.8031,-69.5163 959.139,-60.1947\"/>\n<polygon fill=\"#000000\" stroke=\"#000000\" points=\"961.7591,-62.5449 966.8411,-53.2485 957.0709,-57.3467 961.7591,-62.5449\"/>\n</g>\n<!-- 13 -->\n<g id=\"node14\" class=\"node\">\n<title>13</title>\n<polygon fill=\"none\" stroke=\"#000000\" points=\"1235.5,-53 1095.5,-53 1095.5,0 1235.5,0 1235.5,-53\"/>\n<text text-anchor=\"middle\" x=\"1165.5\" y=\"-37.8\" font-family=\"Times,serif\" font-size=\"14.00\" fill=\"#000000\">gini = 0.377</text>\n<text text-anchor=\"middle\" x=\"1165.5\" y=\"-22.8\" font-family=\"Times,serif\" font-size=\"14.00\" fill=\"#000000\">samples = 733</text>\n<text text-anchor=\"middle\" x=\"1165.5\" y=\"-7.8\" font-family=\"Times,serif\" font-size=\"14.00\" fill=\"#000000\">value = [96, 566, 71]</text>\n</g>\n<!-- 12&#45;&gt;13 -->\n<g id=\"edge13\" class=\"edge\">\n<title>12&#45;&gt;13</title>\n<path fill=\"none\" stroke=\"#000000\" d=\"M1165.5,-88.9777C1165.5,-80.7364 1165.5,-71.887 1165.5,-63.5153\"/>\n<polygon fill=\"#000000\" stroke=\"#000000\" points=\"1169.0001,-63.2484 1165.5,-53.2485 1162.0001,-63.2485 1169.0001,-63.2484\"/>\n</g>\n<!-- 14 -->\n<g id=\"node15\" class=\"node\">\n<title>14</title>\n<polygon fill=\"none\" stroke=\"#000000\" points=\"1431,-53 1254,-53 1254,0 1431,0 1431,-53\"/>\n<text text-anchor=\"middle\" x=\"1342.5\" y=\"-37.8\" font-family=\"Times,serif\" font-size=\"14.00\" fill=\"#000000\">gini = 0.008</text>\n<text text-anchor=\"middle\" x=\"1342.5\" y=\"-22.8\" font-family=\"Times,serif\" font-size=\"14.00\" fill=\"#000000\">samples = 134132</text>\n<text text-anchor=\"middle\" x=\"1342.5\" y=\"-7.8\" font-family=\"Times,serif\" font-size=\"14.00\" fill=\"#000000\">value = [345, 133604, 183]</text>\n</g>\n<!-- 12&#45;&gt;14 -->\n<g id=\"edge14\" class=\"edge\">\n<title>12&#45;&gt;14</title>\n<path fill=\"none\" stroke=\"#000000\" d=\"M1227.9036,-88.9777C1246.2956,-78.9504 1266.3391,-68.0228 1284.4462,-58.1508\"/>\n<polygon fill=\"#000000\" stroke=\"#000000\" points=\"1286.615,-60.9548 1293.7195,-53.095 1283.2642,-54.8089 1286.615,-60.9548\"/>\n</g>\n</g>\n</svg>\n"
          },
          "metadata": {
            "tags": []
          },
          "execution_count": 91
        }
      ]
    },
    {
      "cell_type": "code",
      "metadata": {
        "id": "QZE2RAYk5qzA",
        "colab_type": "code",
        "colab": {}
      },
      "source": [
        "\n",
        "X_train,  X_test, y_train, y_test = train_test_split(\n",
        "    df[['Duration', 'Packets','Bytes']],  \n",
        "    df[['class']], \n",
        "    test_size=0.20\n",
        ")\n",
        "from sklearn.ensemble import RandomForestClassifier\n",
        "# define the classifier\n",
        "clf_rf = RandomForestClassifier(n_estimators=700, n_jobs=-1, verbose=1)\n",
        "\n",
        "# train the classifier\n",
        "t0 = time.time()\n",
        "clf_rf.fit(X_train, y_train)\n",
        "print(\"elapsed time = %.2f\" % (time.time()-t0))\n",
        "\n",
        "# perform the prediction\n",
        "y_pred_rf = clf_rf.predict(X_test)\n",
        "\n",
        "print(\"accuracy: {}\".format(metrics.accuracy_score(y_test, y_pred_rf)))\n",
        "print(\"precision: {:g}\".format(metrics.precision_score(y_test, y_pred_rf,average='macro')))\n",
        "print(\"recall: {:g}\".format(metrics.recall_score(y_test, y_pred_rf, average='macro')))\n",
        "print(metrics.classification_report(y_test, y_pred_rf))"
      ],
      "execution_count": 0,
      "outputs": []
    },
    {
      "cell_type": "markdown",
      "metadata": {
        "id": "ku4yG9Dfy90U",
        "colab_type": "text"
      },
      "source": [
        "- How does GaussianNB perform on the numeric features?\n"
      ]
    },
    {
      "cell_type": "code",
      "metadata": {
        "id": "gSAX9ds__wsY",
        "colab_type": "code",
        "colab": {}
      },
      "source": [
        "\n",
        "#map class to numeric thing\n",
        "X_train,  X_test, y_train, y_test = train_test_split( #https://stackoverflow.com/questions/47321709/how-to-split-train-and-test-dataset-to-x-train-y-train-and-x-test-y-test\n",
        "    df[['Duration', 'Packets','Bytes']],  \n",
        "    df[['class']], \n",
        "    test_size=0.20\n",
        ")\n",
        "from sklearn.naive_bayes import GaussianNB\n",
        "# define the classifier\n",
        "clf_nb = GaussianNB()\n",
        "\n",
        "# train the classifier\n",
        "t0 = time.time()\n",
        "clf_nb.fit(X_train, y_train)\n",
        "print(\"elapsed time = %.2f\" % (time.time()-t0))\n",
        "\n",
        "# perform the prediction\n",
        "y_pred_nb = clf_nb.predict(X_test)\n",
        "\n",
        "print(\"accuracy: {}\".format(metrics.accuracy_score(y_test, y_pred_nb)))\n",
        "print(\"precision: {:g}\".format(metrics.precision_score(y_test, y_pred_nb,average='macro')))\n",
        "print(\"recall: {:g}\".format(metrics.recall_score(y_test, y_pred_nb, average='macro')))\n",
        "print(metrics.classification_report(y_test, y_pred_nb))"
      ],
      "execution_count": 0,
      "outputs": []
    },
    {
      "cell_type": "markdown",
      "metadata": {
        "id": "ww5-Y6RwanyI",
        "colab_type": "text"
      },
      "source": [
        "##hbfttvbg"
      ]
    },
    {
      "cell_type": "markdown",
      "metadata": {
        "id": "e2p2KQPsy-ho",
        "colab_type": "text"
      },
      "source": [
        "- Beware running the SVM classifier: There is a lot of data here, so you would need to use a linear SVM rather than an RBF one, (and even then it may run out of memory without adjustments).\n"
      ]
    },
    {
      "cell_type": "code",
      "metadata": {
        "id": "CLGui5rly-xQ",
        "colab_type": "code",
        "colab": {}
      },
      "source": [
        "#from sklearn.svm import LinearSVC\n",
        "# define the classifier\n",
        "#clf_svc = LinearSVC(verbose=True)\n",
        "\n",
        "# train the classifier\n",
        "#t0 = time.time()\n",
        "#clf_svc.fit(X_train, y_train)\n",
        "#print(\"elapsed time = %.2f\" % (time.time()-t0))\n",
        "\n",
        "# perform the prediction \n",
        "#y_pred_svc = clf_svc.predict(X_test)\n",
        "\n",
        "#print(\"accuracy: {}\".format(metrics.accuracy_score(y_test, y_pred_svc)))\n",
        "#print(\"precision: {:g}\".format(metrics.precision_score(y_test, y_pred_svc,average='macro')))\n",
        "#print(\"recall: {:g}\".format(metrics.recall_score(y_test, y_pred_svc, average='macro')))\n",
        "#print(metrics.classification_report(y_test, y_pred_svc))"
      ],
      "execution_count": 0,
      "outputs": []
    },
    {
      "cell_type": "markdown",
      "metadata": {
        "id": "3qIIN72Ay_Cc",
        "colab_type": "text"
      },
      "source": [
        "- Convert the class to a binary attribute (malicious vs benign) and compute precision and recall values.\n",
        "Anything of note?"
      ]
    },
    {
      "cell_type": "code",
      "metadata": {
        "id": "bNIco0m10-v4",
        "colab_type": "code",
        "colab": {}
      },
      "source": [
        "df['classBin']= df['class'].apply(lambda x: 'benign' if x == 'normal' else 'malicious')"
      ],
      "execution_count": 0,
      "outputs": []
    },
    {
      "cell_type": "code",
      "metadata": {
        "id": "Zsvm5AcqBOKM",
        "colab_type": "code",
        "colab": {}
      },
      "source": [
        "from sklearn.model_selection import train_test_split\n",
        "\n",
        "X_train,  X_test, y_train, y_test = train_test_split( \n",
        "    df[['Duration', 'Packets', 'Bytes']],  \n",
        "    df[['classBin']], \n",
        "    test_size=0.20\n",
        ")\n",
        "\n",
        "from sklearn.linear_model import LogisticRegression\n",
        "\n",
        "# define the classifier\n",
        "clf_lr_bin = LogisticRegression(solver='lbfgs', max_iter=50, verbose=1, n_jobs=-1)\n",
        "\n",
        "# train the classifier\n",
        "t0 = time.time()\n",
        "clf_lr_bin.fit(X_train, y_train)\n",
        "print(\"elapsed time = %.2f\" % (time.time()-t0))\n",
        "y_pred_lr_bin = clf_lr_bin.predict(X_test)\n",
        "\n",
        "print(\"accuracy: {}\".format(metrics.accuracy_score(y_test, y_pred_lr_bin)))\n",
        "print(\"precision: {:g}\".format(metrics.precision_score(y_test, y_pred_lr_bin, average='macro')))\n",
        "print(\"recall: {:g}\".format(metrics.recall_score(y_test, y_pred_lr_bin, average='macro')))\n",
        "print(metrics.classification_report(y_test, y_pred_lr_bin))\n",
        "df=df.drop(['classBin'], axis=1)"
      ],
      "execution_count": 0,
      "outputs": []
    },
    {
      "cell_type": "markdown",
      "metadata": {
        "id": "hPRDfzkXbnsF",
        "colab_type": "text"
      },
      "source": [
        "It gets better, logistic regression works better with binary attributes"
      ]
    },
    {
      "cell_type": "markdown",
      "metadata": {
        "id": "bYBBY2Fj_wsY",
        "colab_type": "text"
      },
      "source": [
        "### Predicting another target:\n",
        "- Rather than predicting the class variable, try to predict the “attackType” variable.\n"
      ]
    },
    {
      "cell_type": "code",
      "metadata": {
        "id": "BXg9ort1_wsY",
        "colab_type": "code",
        "colab": {}
      },
      "source": [
        "from sklearn.model_selection import train_test_split\n",
        "#map class to numeric thing\n",
        "X_train,  X_test, y_train, y_test = train_test_split( #https://stackoverflow.com/questions/47321709/how-to-split-train-and-test-dataset-to-x-train-y-train-and-x-test-y-test\n",
        "    df[['Duration', 'Packets','Bytes']],  \n",
        "    df[['attackType']], \n",
        "    test_size=0.20\n",
        ")\n",
        "\n",
        "from sklearn.tree import DecisionTreeClassifier\n",
        "# define the classifier\n",
        "clf_dt = DecisionTreeClassifier(max_depth=5)\n",
        "\n",
        "# train the classifier\n",
        "t0 = time.time()\n",
        "clf_dt.fit(X_train, y_train)\n",
        "print(\"elapsed time = %.2f\" % (time.time()-t0))\n",
        "\n",
        "# perform the prediction\n",
        "y_pred_dt_at = clf_dt.predict(X_test)\n",
        "\n",
        "\n",
        "print(\"accuracy: {}\".format(metrics.accuracy_score(y_test, y_pred_dt_at)))\n",
        "print(\"precision: {:g}\".format(metrics.precision_score(y_test, y_pred_dt_at, average='macro')))\n",
        "print(\"recall: {:g}\".format(metrics.recall_score(y_test, y_pred_dt_at, average='macro')))\n",
        "print(metrics.classification_report(y_test, y_pred_dt_at))\n"
      ],
      "execution_count": 0,
      "outputs": []
    },
    {
      "cell_type": "markdown",
      "metadata": {
        "id": "2tIevtUZ6yKM",
        "colab_type": "text"
      },
      "source": [
        "- Is that variable easier/harder to predict?\n"
      ]
    },
    {
      "cell_type": "code",
      "metadata": {
        "id": "xfsJpu6e6xO0",
        "colab_type": "code",
        "colab": {}
      },
      "source": [
        "#it's harder, any model tested have worse performances\n",
        "#TO DO: explain better"
      ],
      "execution_count": 0,
      "outputs": []
    },
    {
      "cell_type": "markdown",
      "metadata": {
        "id": "jW29ZeS06y0Y",
        "colab_type": "text"
      },
      "source": [
        "- The data is quite unbalanced. You could try to rebalance it by randomly down-sampling the majority class. Does it improve accuracy on the (not-down sampled) test data?"
      ]
    },
    {
      "cell_type": "code",
      "metadata": {
        "id": "Bii77fQm6zFk",
        "colab_type": "code",
        "colab": {}
      },
      "source": [
        "from sklearn.preprocessing import StandardScaler\n",
        "from sklearn.linear_model import LogisticRegression\n",
        "\n",
        "X_train,  X_test, y_train, y_test = train_test_split(\n",
        "    df[['Duration', 'Packets', 'Bytes']],  \n",
        "    df[['class']], \n",
        "    test_size=0.20\n",
        ")\n",
        "#TO DO: fix scaling!! Use downsampling!\n",
        "standard_scaler = StandardScaler().fit(X_train[['Duration', 'Packets', 'Bytes']])\n",
        "\n",
        "X_train[['Duration', 'Packets', 'Bytes']] = standard_scaler.transform(X_train[['Duration', 'Packets', 'Bytes']])\n",
        "X_test[['Duration', 'Packets', 'Bytes']] = standard_scaler.transform(X_test[['Duration', 'Packets', 'Bytes']])\n",
        "# define the classifier\n",
        "clf_lr = LogisticRegression(solver='lbfgs', max_iter=1500, verbose=1, n_jobs=-1,multi_class='multinomial')\n",
        "\n",
        "# train the classifier\n",
        "t0 = time.time()\n",
        "clf_lr.fit(X_train, y_train)\n",
        "print(\"elapsed time = %.2f\" % (time.time()-t0))\n",
        "y_pred_lr = clf_lr.predict(X_test)\n",
        "\n",
        "print(\"accuracy: {}\".format(metrics.accuracy_score(y_test, y_pred_lr)))\n",
        "print(\"precision: {:g}\".format(metrics.precision_score(y_test, y_pred_lr,average='macro')))\n",
        "print(\"recall: {:g}\".format(metrics.recall_score(y_test, y_pred_lr, average='macro')))\n",
        "print(metrics.classification_report(y_test, y_pred_lr))\n"
      ],
      "execution_count": 0,
      "outputs": []
    },
    {
      "cell_type": "markdown",
      "metadata": {
        "id": "1fUPOd3n_wsY",
        "colab_type": "text"
      },
      "source": [
        "### Introducing more features:\n",
        "- Introduce other features to the classifiers to see if you can further improve performance …\n"
      ]
    },
    {
      "cell_type": "code",
      "metadata": {
        "id": "Zm103-kb_wsY",
        "colab_type": "code",
        "colab": {}
      },
      "source": [
        "from sklearn.model_selection import GridSearchCV\n",
        "from sklearn.pipeline import Pipeline\n",
        "from sklearn.preprocessing import StandardScaler\n",
        "from sklearn.linear_model import LogisticRegression\n",
        "\n",
        "df_one_hot = pd.get_dummies(df, columns=['Proto','Tos'])  \n",
        "X_train,  X_test, y_train, y_test = train_test_split(\n",
        "    df_one_hot.drop(['Date first seen','Src IP Addr','Src Pt','Dst IP Addr','Dst Pt','Flags','class','attackType','attackID','attackDescription','Day of week','Time of day'],axis=1),\n",
        "    df_one_hot[['class']], \n",
        "    test_size=0.20\n",
        ")\n",
        "    \n",
        "from sklearn.tree import DecisionTreeClassifier, export_graphviz\n",
        "# define the classifier\n",
        "clf_dt = DecisionTreeClassifier(max_depth=5)\n",
        "\n",
        "# train the classifier\n",
        "t0 = time.time()\n",
        "clf_dt.fit(X_train, y_train)\n",
        "print(\"elapsed time = %.2f\" % (time.time()-t0))\n",
        "\n",
        "# perform the prediction\n",
        "y_pred_dt_at = clf_dt.predict(X_test)\n",
        "\n",
        "\n",
        "print(\"accuracy: {}\".format(metrics.accuracy_score(y_test, y_pred_dt_at)))\n",
        "print(\"precision: {:g}\".format(metrics.precision_score(y_test, y_pred_dt_at, average='macro')))\n",
        "print(\"recall: {:g}\".format(metrics.recall_score(y_test, y_pred_dt_at, average='macro')))\n",
        "print(metrics.classification_report(y_test, y_pred_dt_at))\n",
        "\n"
      ],
      "execution_count": 0,
      "outputs": []
    },
    {
      "cell_type": "markdown",
      "metadata": {
        "id": "JFsvxAk2675o",
        "colab_type": "text"
      },
      "source": [
        "- Try adding day-of-week and time-of-day features into the classifier. Do they improve the performance?\n"
      ]
    },
    {
      "cell_type": "code",
      "metadata": {
        "id": "UEmt8Dqi68MY",
        "colab_type": "code",
        "colab": {}
      },
      "source": [
        "from sklearn.model_selection import train_test_split\n",
        "#map class to numeric thing\n",
        "\n",
        "X_train,  X_test, y_train, y_test = train_test_split(\n",
        "    df_one_hot.drop(['Date first seen','Src IP Addr','Src Pt','Dst IP Addr','Dst Pt','Flags','class','attackType','attackID','attackDescription'],axis=1),\n",
        "    df_one_hot[['class']], \n",
        "    test_size=0.20\n",
        ")\n",
        "\n",
        "import graphviz\n",
        "from sklearn.tree import DecisionTreeClassifier, export_graphviz\n",
        "# define the classifier\n",
        "clf_dt = DecisionTreeClassifier(max_depth=7)\n",
        "\n",
        "# train the classifier\n",
        "t0 = time.time()\n",
        "clf_dt.fit(X_train, y_train)\n",
        "print(\"elapsed time = %.2f\" % (time.time()-t0))\n",
        "\n",
        "# perform the prediction\n",
        "y_pred_dt_at = clf_dt.predict(X_test)\n",
        "\n",
        "\n",
        "print(\"accuracy: {}\".format(metrics.accuracy_score(y_test, y_pred_dt_at)))\n",
        "print(\"precision: {:g}\".format(metrics.precision_score(y_test, y_pred_dt_at, average='macro')))\n",
        "print(\"recall: {:g}\".format(metrics.recall_score(y_test, y_pred_dt_at, average='macro')))\n",
        "print(metrics.classification_report(y_test, y_pred_dt_at))\n",
        "\n"
      ],
      "execution_count": 0,
      "outputs": []
    },
    {
      "cell_type": "markdown",
      "metadata": {
        "id": "ec3rzb_D68fI",
        "colab_type": "text"
      },
      "source": [
        "- Split the “Flags” column up into separate columns for each of the flags (see code below for how to do that) and then make use of the flags as features. Do they improve the performance?\n"
      ]
    },
    {
      "cell_type": "code",
      "metadata": {
        "id": "xGx-c0qxSG9Q",
        "colab_type": "code",
        "colab": {}
      },
      "source": [
        "df_one_hot['Flag_1'] = [x[0] for x in df_one_hot['Flags']]\n",
        "df_one_hot['Flag_2'] = [x[1] for x in df_one_hot['Flags']]\n",
        "df_one_hot['Flag_3'] = [x[2] for x in df_one_hot['Flags']]\n",
        "df_one_hot['Flag_4'] = [x[3] for x in df_one_hot['Flags']]\n",
        "df_one_hot['Flag_5'] = [x[4] for x in df_one_hot['Flags']]\n",
        "df_one_hot['Flag_6'] = [x[5] for x in df_one_hot['Flags']]\n",
        "df_one_hot = pd.get_dummies(df_one_hot, columns=['Flag_1','Flag_2','Flag_3','Flag_4','Flag_5','Flag_6'])\n",
        "df_one_hot.head(5)"
      ],
      "execution_count": 0,
      "outputs": []
    },
    {
      "cell_type": "code",
      "metadata": {
        "id": "rQAYLOWq68uw",
        "colab_type": "code",
        "colab": {}
      },
      "source": [
        "\n",
        "X_train,  X_test, y_train, y_test = train_test_split(\n",
        "    df_one_hot.drop(['Date first seen','Src IP Addr','Src Pt','Dst IP Addr','Dst Pt','Flags','class','attackType','attackID','attackDescription'],axis=1),\n",
        "    df_one_hot[['class']], \n",
        "    test_size=0.20\n",
        ")\n",
        "\n",
        "import graphviz\n",
        "from sklearn.tree import DecisionTreeClassifier, export_graphviz\n",
        "# define the classifier\n",
        "clf_dt = DecisionTreeClassifier(max_depth=7)\n",
        "\n",
        "# train the classifier\n",
        "t0 = time.time()\n",
        "clf_dt.fit(X_train, y_train)\n",
        "print(\"elapsed time = %.2f\" % (time.time()-t0))\n",
        "\n",
        "# perform the prediction\n",
        "y_pred_dt_at = clf_dt.predict(X_test)\n",
        "\n",
        "\n",
        "print(\"accuracy: {}\".format(metrics.accuracy_score(y_test, y_pred_dt_at)))\n",
        "print(\"precision: {:g}\".format(metrics.precision_score(y_test, y_pred_dt_at, average='macro')))\n",
        "print(\"recall: {:g}\".format(metrics.recall_score(y_test, y_pred_dt_at, average='macro')))\n",
        "print(metrics.classification_report(y_test, y_pred_dt_at))"
      ],
      "execution_count": 0,
      "outputs": []
    },
    {
      "cell_type": "markdown",
      "metadata": {
        "id": "DwanBmXa69DE",
        "colab_type": "text"
      },
      "source": [
        "- Source IP addresses can be one of four categories (code in the appendix can be used to map IP addresses to the categories). Are the categories useful features?"
      ]
    },
    {
      "cell_type": "code",
      "metadata": {
        "id": "mxzvYKE869ag",
        "colab_type": "code",
        "colab": {}
      },
      "source": [
        "def get_IP_category(ip_addr):\n",
        "  if ip_addr == 'DNS':\n",
        "    return 'DNS'\n",
        "  elif ip_addr == 'EXT_SERVER':\n",
        "    return 'EXT_SERVER'\n",
        "  elif len(ip_addr.split('.')) == 4:\n",
        "    return 'private'\n",
        "  elif len(ip_addr.split('_')) == 2:\n",
        "    return 'public'\n",
        "  else:\n",
        "    return '-'\n",
        "\n",
        "df_one_hot['Src IP Addr Cat']= df_one_hot['Src IP Addr'].apply(lambda x: get_IP_category(x))\n",
        "df_one_hot = pd.get_dummies(df_one_hot, columns=['Src IP Addr Cat'])\n",
        "\n",
        "from sklearn.model_selection import train_test_split\n",
        "\n",
        "X_train,  X_test, y_train, y_test = train_test_split(\n",
        "    df_one_hot.drop(['Date first seen','Src Pt','Src IP Addr','Dst IP Addr','Dst Pt','Flags','class','attackType','attackID','attackDescription'],axis=1),\n",
        "    df_one_hot[['class']], \n",
        "    test_size=0.20\n",
        ")\n",
        "import graphviz\n",
        "from sklearn.tree import DecisionTreeClassifier, export_graphviz\n",
        "# define the classifier\n",
        "clf_dt = DecisionTreeClassifier(max_depth=7)\n",
        "\n",
        "# train the classifier\n",
        "t0 = time.time()\n",
        "clf_dt.fit(X_train, y_train)\n",
        "print(\"elapsed time = %.2f\" % (time.time()-t0))\n",
        "\n",
        "# perform the prediction\n",
        "y_pred_dt_at = clf_dt.predict(X_test)\n",
        "\n",
        "print(\"accuracy: {}\".format(metrics.accuracy_score(y_test, y_pred_dt_at)))\n",
        "print(\"precision: {:g}\".format(metrics.precision_score(y_test, y_pred_dt_at, average='macro')))\n",
        "print(\"recall: {:g}\".format(metrics.recall_score(y_test, y_pred_dt_at, average='macro')))\n",
        "print(metrics.classification_report(y_test, y_pred_dt_at))"
      ],
      "execution_count": 0,
      "outputs": []
    },
    {
      "cell_type": "markdown",
      "metadata": {
        "id": "57gFTqscTTyc",
        "colab_type": "text"
      },
      "source": [
        "No. Or not so much at least. I mean we are still ok."
      ]
    },
    {
      "cell_type": "markdown",
      "metadata": {
        "id": "0VcGzFYf_wt8",
        "colab_type": "text"
      },
      "source": [
        "### Creating counts\n",
        "- When detecting a Denial of Service (DoS) or portScan attack, counts of the number of requests from the same Source IP Address within a given time window could be an important feature. (For a DDoS attack, the same may be true of Destination IP Addresses.)\n"
      ]
    },
    {
      "cell_type": "markdown",
      "metadata": {
        "id": "-2R0c7x56qLQ",
        "colab_type": "text"
      },
      "source": [
        "- Try adding one or more count fields to the dataset using the code from the Appendix.\n"
      ]
    },
    {
      "cell_type": "code",
      "metadata": {
        "id": "-kejylby6qfk",
        "colab_type": "code",
        "colab": {}
      },
      "source": [
        "df_one_hot['Cum Count Src IP Addr (10seconds)'] = df_one_hot.groupby(['Src IP Addr', pd.Grouper(freq='10S',\n",
        "key='Date first seen')]).cumcount()\n",
        "df_one_hot['Cum Count Src IP Addr (20seconds)'] = df_one_hot.groupby(['Src IP Addr', pd.Grouper(freq='20S',\n",
        "key='Date first seen')]).cumcount()\n",
        "df_one_hot['Cum Count Src IP Addr (60seconds)'] = df_one_hot.groupby(['Src IP Addr', pd.Grouper(freq='60S',\n",
        "key='Date first seen')]).cumcount()\n",
        "\n",
        "\n",
        "X_train,  X_test, y_train, y_test = train_test_split(\n",
        "    df_one_hot.drop(['Date first seen','Src Pt','Src IP Addr','Dst IP Addr','Dst Pt','Flags','class','attackType','attackID','attackDescription'],axis=1),\n",
        "    df_one_hot[['class']], \n",
        "    test_size=0.20\n",
        ")\n",
        "\n",
        "from sklearn.tree import DecisionTreeClassifier\n",
        "# define the classifier\n",
        "clf_dt = DecisionTreeClassifier(max_depth=7)\n",
        "\n",
        "# train the classifier\n",
        "t0 = time.time()\n",
        "clf_dt.fit(X_train, y_train)\n",
        "print(\"elapsed time = %.2f\" % (time.time()-t0))\n",
        "\n",
        "# perform the prediction\n",
        "y_pred_dt_at = clf_dt.predict(X_test)\n",
        "\n",
        "print(\"accuracy: {}\".format(metrics.accuracy_score(y_test, y_pred_dt_at)))\n",
        "print(\"precision: {:g}\".format(metrics.precision_score(y_test, y_pred_dt_at, average='macro')))\n",
        "print(\"recall: {:g}\".format(metrics.recall_score(y_test, y_pred_dt_at, average='macro')))\n",
        "print(metrics.classification_report(y_test, y_pred_dt_at))"
      ],
      "execution_count": 0,
      "outputs": []
    },
    {
      "cell_type": "markdown",
      "metadata": {
        "id": "foX7dwDj6qz4",
        "colab_type": "text"
      },
      "source": [
        "- Does the count field improve performance of the classifiers? What window or windows make sense?"
      ]
    },
    {
      "cell_type": "code",
      "metadata": {
        "id": "lPGjMaTX6rB8",
        "colab_type": "code",
        "colab": {}
      },
      "source": [
        "# Not all of them\n",
        "#let's see for each one of them\n",
        "X_train,  X_test, y_train, y_test = train_test_split(\n",
        "    df_one_hot.drop(['Cum Count Src IP Addr (20seconds)','Cum Count Src IP Addr (60seconds)','Date first seen','Src Pt','Src IP Addr','Dst IP Addr','Dst Pt','Flags','class','attackType','attackID','attackDescription'],axis=1),\n",
        "    df_one_hot[['class']], \n",
        "    test_size=0.20\n",
        ")\n",
        "from sklearn.tree import DecisionTreeClassifier\n",
        "# define the classifier\n",
        "clf_dt = DecisionTreeClassifier(max_depth=7)\n",
        "# train the classifier\n",
        "t0 = time.time()\n",
        "clf_dt.fit(X_train, y_train)\n",
        "print(\"elapsed time = %.2f\" % (time.time()-t0))\n",
        "# perform the prediction\n",
        "y_pred_dt_at = clf_dt.predict(X_test)\n",
        "print(\"accuracy: {}\".format(metrics.accuracy_score(y_test, y_pred_dt_at)))\n",
        "print(\"precision: {:g}\".format(metrics.precision_score(y_test, y_pred_dt_at, average='macro')))\n",
        "print(\"recall: {:g}\".format(metrics.recall_score(y_test, y_pred_dt_at, average='macro')))\n",
        "print(metrics.classification_report(y_test, y_pred_dt_at))\n",
        "\n",
        "X_train,  X_test, y_train, y_test = train_test_split(\n",
        "    df_one_hot.drop(['Cum Count Src IP Addr (10seconds)','Cum Count Src IP Addr (60seconds)','Date first seen','Src Pt','Src IP Addr','Dst IP Addr','Dst Pt','Flags','class','attackType','attackID','attackDescription'],axis=1),\n",
        "    df_one_hot[['class']], \n",
        "    test_size=0.20\n",
        ")\n",
        "from sklearn.tree import DecisionTreeClassifier\n",
        "# define the classifier\n",
        "clf_dt = DecisionTreeClassifier(max_depth=7)\n",
        "# train the classifier\n",
        "t0 = time.time()\n",
        "clf_dt.fit(X_train, y_train)\n",
        "print(\"elapsed time = %.2f\" % (time.time()-t0))\n",
        "# perform the prediction\n",
        "y_pred_dt_at = clf_dt.predict(X_test)\n",
        "print(\"accuracy: {}\".format(metrics.accuracy_score(y_test, y_pred_dt_at)))\n",
        "print(\"precision: {:g}\".format(metrics.precision_score(y_test, y_pred_dt_at, average='macro')))\n",
        "print(\"recall: {:g}\".format(metrics.recall_score(y_test, y_pred_dt_at, average='macro')))\n",
        "print(metrics.classification_report(y_test, y_pred_dt_at))\n",
        "\n",
        "X_train,  X_test, y_train, y_test = train_test_split(\n",
        "    df_one_hot.drop(['Cum Count Src IP Addr (10seconds)','Cum Count Src IP Addr (20seconds)','Date first seen','Src Pt','Src IP Addr','Dst IP Addr','Dst Pt','Flags','class','attackType','attackID','attackDescription'],axis=1),\n",
        "    df_one_hot[['class']], \n",
        "    test_size=0.20\n",
        ")\n",
        "from sklearn.tree import DecisionTreeClassifier\n",
        "# define the classifier\n",
        "clf_dt = DecisionTreeClassifier(max_depth=7)\n",
        "# train the classifier\n",
        "t0 = time.time()\n",
        "clf_dt.fit(X_train, y_train)\n",
        "print(\"elapsed time = %.2f\" % (time.time()-t0))\n",
        "# perform the prediction\n",
        "y_pred_dt_at = clf_dt.predict(X_test)\n",
        "print(\"accuracy: {}\".format(metrics.accuracy_score(y_test, y_pred_dt_at)))\n",
        "print(\"precision: {:g}\".format(metrics.precision_score(y_test, y_pred_dt_at, average='macro')))\n",
        "print(\"recall: {:g}\".format(metrics.recall_score(y_test, y_pred_dt_at, average='macro')))\n",
        "print(metrics.classification_report(y_test, y_pred_dt_at))"
      ],
      "execution_count": 0,
      "outputs": []
    },
    {
      "cell_type": "markdown",
      "metadata": {
        "id": "8NKkhW8i_wt8",
        "colab_type": "text"
      },
      "source": [
        "### Think about other analysis you could perform on the data:\n",
        "- What other features might be interesting? Try to compute them by modifying the code in the Appendix.\n"
      ]
    },
    {
      "cell_type": "code",
      "metadata": {
        "id": "uGETlvEf_wt8",
        "colab_type": "code",
        "colab": {}
      },
      "source": [
        "#add features \n",
        "#possible feature is weekday or weekend\n",
        "\n",
        "X_train,  X_test, y_train, y_test = train_test_split(\n",
        "    df_one_hot.drop(['Date first seen','Src IP Addr','Dst IP Addr','Flags','class','attackType','attackID','attackDescription'],axis=1),\n",
        "    df_one_hot[['class']], \n",
        "    test_size=0.20\n",
        ")\n",
        "\n",
        "# define the classifier\n",
        "clf_dt = DecisionTreeClassifier(max_depth=7)\n",
        "\n",
        "# train the classifier\n",
        "t0 = time.time()\n",
        "clf_dt.fit(X_train, y_train)\n",
        "print(\"elapsed time = %.2f\" % (time.time()-t0))\n",
        "\n",
        "# perform the prediction\n",
        "y_pred_dt_at = clf_dt.predict(X_test)\n",
        "\n",
        "print(\"accuracy: {}\".format(metrics.accuracy_score(y_test, y_pred_dt_at)))\n",
        "print(\"precision: {:g}\".format(metrics.precision_score(y_test, y_pred_dt_at, average='macro')))\n",
        "print(\"recall: {:g}\".format(metrics.recall_score(y_test, y_pred_dt_at, average='macro')))\n",
        "print(metrics.classification_report(y_test, y_pred_dt_at))"
      ],
      "execution_count": 0,
      "outputs": []
    },
    {
      "cell_type": "markdown",
      "metadata": {
        "id": "E0FgoJPy6ggg",
        "colab_type": "text"
      },
      "source": [
        "- Try running some other analysis like clustering on the data."
      ]
    },
    {
      "cell_type": "code",
      "metadata": {
        "id": "Iq818laVefRE",
        "colab_type": "code",
        "colab": {}
      },
      "source": [
        "from sklearn.cluster import (\n",
        "    KMeans, \n",
        "    AgglomerativeClustering, \n",
        "    DBSCAN\n",
        ")\n",
        "from sklearn.metrics import (\n",
        "    homogeneity_score,\n",
        "    completeness_score,\n",
        "    v_measure_score\n",
        ")\n",
        "\n",
        "kmeans = KMeans(n_clusters=3).fit(\n",
        "    df_one_hot.drop(['Date first seen','Src IP Addr','Dst IP Addr','Flags','class','attackType','attackID','attackDescription'],axis=1),\n",
        ")\n",
        "print(kmeans.cluster_centers_)\n",
        "df_one_hot['cluster'] = kmeans.labels_\n",
        "print(df_one_hot.groupby(['cluster', 'class']).size().reset_index().sort_values(['cluster', 'class']))\n",
        "\n",
        "predicted_clusters = df_one_hot['cluster'].values\n",
        "true_labels = df_one_hot['class'].values\n",
        "print(homogeneity_score(true_labels, predicted_clusters))\n",
        "print(completeness_score(true_labels, predicted_clusters))\n",
        "print(v_measure_score(true_labels, predicted_clusters))\n",
        "\n",
        "agg = AgglomerativeClustering(n_clusters=3).fit(\n",
        "    df_one_hot.drop(['Date first seen','Src IP Addr','Dst IP Addr','Flags','class','attackType','attackID','attackDescription'],axis=1),\n",
        ")\n",
        "\n",
        "df_one_hot['cluster'] = agg.labels_\n",
        "print(df_one_hot.groupby(['cluster', 'class']).size().reset_index().sort_values(['cluster', 'class']))\n",
        "\n",
        "predicted_clusters = df_one_hot['cluster'].values\n",
        "true_labels = df_one_hot['class'].values\n",
        "print(homogeneity_score(true_labels, predicted_clusters))\n",
        "print(completeness_score(true_labels, predicted_clusters))\n",
        "print(v_measure_score(true_labels, predicted_clusters))"
      ],
      "execution_count": 0,
      "outputs": []
    },
    {
      "cell_type": "code",
      "metadata": {
        "id": "JQ65rx9fLYe4",
        "colab_type": "code",
        "colab": {}
      },
      "source": [
        "#Now that we have all this feeature we could see the feature importance to see what are the mst relevant and see if our assertions are true\n",
        "sorted(zip(clf_dt.feature_importances_,df_one_hot.drop(['Date first seen','Src Pt','Src IP Addr','Dst IP Addr','Dst Pt','Flags','class','attackType','attackID','attackDescription'],axis=1).columns ),reverse=True)"
      ],
      "execution_count": 0,
      "outputs": []
    },
    {
      "cell_type": "markdown",
      "metadata": {
        "id": "SCPQ3esD_wt8",
        "colab_type": "text"
      },
      "source": [
        "# APPENDIX\n",
        "Some code to help with some of the tasks in part 1 of the assignment:\n",
        "- Converting column from string to datetime format:"
      ]
    },
    {
      "cell_type": "code",
      "metadata": {
        "id": "HC_Dof4U_wt8",
        "colab_type": "code",
        "colab": {}
      },
      "source": [
        "#df1['Date first seen'] = pd.to_datetime(df1['Date first seen'])"
      ],
      "execution_count": 0,
      "outputs": []
    },
    {
      "cell_type": "markdown",
      "metadata": {
        "id": "7_kNUWVb_wt8",
        "colab_type": "text"
      },
      "source": [
        "Getting time-of-day and day-of-week features from datetime object:"
      ]
    },
    {
      "cell_type": "code",
      "metadata": {
        "id": "kut1Soxr_wt8",
        "colab_type": "code",
        "colab": {}
      },
      "source": [
        "#df1['Date first seen'].dt.dayofweek\n",
        "#df1['Date first seen'].dt.hour"
      ],
      "execution_count": 0,
      "outputs": []
    },
    {
      "cell_type": "markdown",
      "metadata": {
        "id": "ak6mOrUm_wt8",
        "colab_type": "text"
      },
      "source": [
        "Splitting the Flags field into separate fields:"
      ]
    },
    {
      "cell_type": "code",
      "metadata": {
        "id": "XX9K-KDO_wt8",
        "colab_type": "code",
        "colab": {}
      },
      "source": [
        "#df1[\"Flag_1\"] = [x[0] for x in df1[\"Flags\"]]\n",
        "#df1[\"Flag_2\"] = [x[1] for x in df1[\"Flags\"]]\n",
        "#df1[\"Flag_3\"] = [x[2] for x in df1[\"Flags\"]]\n",
        "#df1[\"Flag_4\"] = [x[3] for x in df1[\"Flags\"]]\n",
        "#df1[\"Flag_5\"] = [x[4] for x in df1[\"Flags\"]]\n",
        "#df1[\"Flag_6\"] = [x[5] for x in df1[\"Flags\"]]"
      ],
      "execution_count": 0,
      "outputs": []
    },
    {
      "cell_type": "markdown",
      "metadata": {
        "id": "ssZ1BCcL_wt8",
        "colab_type": "text"
      },
      "source": [
        "Code for assigning Source IPs to 4 categories:"
      ]
    },
    {
      "cell_type": "code",
      "metadata": {
        "id": "tUZ2aFI-_wt8",
        "colab_type": "code",
        "colab": {}
      },
      "source": [
        "#def get_IP_category(ip_addr):\n",
        "#if ip_addr == 'DNS':\n",
        "#return 'DNS'\n",
        "#elif ip_addr == 'EXT_SERVER':\n",
        "#return 'EXT_SERVER'\n",
        "#elif len(ip_addr.split('.')) == 4:\n",
        "#return 'private'\n",
        "#elif len(ip_addr.split('_')) == 2:\n",
        "#return 'public'\n",
        "#else:\n",
        "#return '-'"
      ],
      "execution_count": 0,
      "outputs": []
    },
    {
      "cell_type": "markdown",
      "metadata": {
        "id": "zf-ueqZc_wt8",
        "colab_type": "text"
      },
      "source": [
        "Create new column with count of requests from same ‘Src IP Addr’ over the last 10 seconds:"
      ]
    },
    {
      "cell_type": "code",
      "metadata": {
        "id": "xkhreRiR_wvg",
        "colab_type": "code",
        "colab": {}
      },
      "source": [
        "#df1['Cum Count Src IP Addr (10seconds)'] = df1.groupby(['Src IP Addr', pd.Grouper(freq='10S',\n",
        "#key='Date first seen')]).cumcount()"
      ],
      "execution_count": 0,
      "outputs": []
    },
    {
      "cell_type": "markdown",
      "metadata": {
        "id": "5CcQPpNV_wvg",
        "colab_type": "text"
      },
      "source": [
        "#*Sara Imbeni*"
      ]
    },
    {
      "cell_type": "markdown",
      "metadata": {
        "id": "wez42W5e_wvg",
        "colab_type": "text"
      },
      "source": [
        "# *Giacomo Minello*"
      ]
    },
    {
      "cell_type": "markdown",
      "metadata": {
        "id": "o5A6jHiy_wvg",
        "colab_type": "text"
      },
      "source": [
        "#*Utkan Peker*"
      ]
    }
  ]
}