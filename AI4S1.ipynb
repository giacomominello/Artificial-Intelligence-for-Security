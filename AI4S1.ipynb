{
  "nbformat": 4,
  "nbformat_minor": 0,
  "metadata": {
    "kernelspec": {
      "display_name": "Python 3",
      "language": "python",
      "name": "python3"
    },
    "language_info": {
      "codemirror_mode": {
        "name": "ipython",
        "version": 3
      },
      "file_extension": ".py",
      "mimetype": "text/x-python",
      "name": "python",
      "nbconvert_exporter": "python",
      "pygments_lexer": "ipython3",
      "version": "3.7.4"
    },
    "colab": {
      "name": "AI4S1.ipynb",
      "provenance": [],
      "collapsed_sections": [
        "PGITLdtJ_wq0"
      ],
      "machine_shape": "hm",
      "include_colab_link": true
    },
    "widgets": {
      "application/vnd.jupyter.widget-state+json": {
        "74f44fac679f4a0096a6b683a27ba1f2": {
          "model_module": "@jupyter-widgets/controls",
          "model_name": "VBoxModel",
          "state": {
            "_view_name": "VBoxView",
            "_dom_classes": [
              "widget-interact"
            ],
            "_model_name": "VBoxModel",
            "_view_module": "@jupyter-widgets/controls",
            "_model_module_version": "1.5.0",
            "_view_count": null,
            "_view_module_version": "1.5.0",
            "box_style": "",
            "layout": "IPY_MODEL_3e25f67a0a774b9d9cd9dd83ea20ef0e",
            "_model_module": "@jupyter-widgets/controls",
            "children": [
              "IPY_MODEL_e7287e86ca49492ea76557f0ec5cf004",
              "IPY_MODEL_4ac5ab7fc6864bc39412a89f746e2214"
            ]
          }
        },
        "3e25f67a0a774b9d9cd9dd83ea20ef0e": {
          "model_module": "@jupyter-widgets/base",
          "model_name": "LayoutModel",
          "state": {
            "_view_name": "LayoutView",
            "grid_template_rows": null,
            "right": null,
            "justify_content": null,
            "_view_module": "@jupyter-widgets/base",
            "overflow": null,
            "_model_module_version": "1.2.0",
            "_view_count": null,
            "flex_flow": null,
            "width": null,
            "min_width": null,
            "border": null,
            "align_items": null,
            "bottom": null,
            "_model_module": "@jupyter-widgets/base",
            "top": null,
            "grid_column": null,
            "overflow_y": null,
            "overflow_x": null,
            "grid_auto_flow": null,
            "grid_area": null,
            "grid_template_columns": null,
            "flex": null,
            "_model_name": "LayoutModel",
            "justify_items": null,
            "grid_row": null,
            "max_height": null,
            "align_content": null,
            "visibility": null,
            "align_self": null,
            "height": null,
            "min_height": null,
            "padding": null,
            "grid_auto_rows": null,
            "grid_gap": null,
            "max_width": null,
            "order": null,
            "_view_module_version": "1.2.0",
            "grid_template_areas": null,
            "object_position": null,
            "object_fit": null,
            "grid_auto_columns": null,
            "margin": null,
            "display": null,
            "left": null
          }
        },
        "e7287e86ca49492ea76557f0ec5cf004": {
          "model_module": "@jupyter-widgets/controls",
          "model_name": "DropdownModel",
          "state": {
            "_options_labels": [
              "Duration",
              "Packets",
              "Day of week",
              "Time of day"
            ],
            "_view_name": "DropdownView",
            "style": "IPY_MODEL_411f85e208824382bdd50df825eabf2f",
            "_dom_classes": [],
            "description": "column",
            "_model_name": "DropdownModel",
            "index": 0,
            "_view_module": "@jupyter-widgets/controls",
            "_model_module_version": "1.5.0",
            "_view_count": null,
            "disabled": false,
            "_view_module_version": "1.5.0",
            "description_tooltip": null,
            "_model_module": "@jupyter-widgets/controls",
            "layout": "IPY_MODEL_ac16ff939e4a4e07802b35cc3bee2edd"
          }
        },
        "4ac5ab7fc6864bc39412a89f746e2214": {
          "model_module": "@jupyter-widgets/output",
          "model_name": "OutputModel",
          "state": {
            "_view_name": "OutputView",
            "msg_id": "",
            "_dom_classes": [],
            "_model_name": "OutputModel",
            "outputs": [
              {
                "output_type": "display_data",
                "metadata": {
                  "tags": []
                },
                "image/png": "iVBORw0KGgoAAAANSUhEUgAAAYUAAAEHCAYAAABBW1qbAAAABHNCSVQICAgIfAhkiAAAAAlwSFlz\nAAALEgAACxIB0t1+/AAAADh0RVh0U29mdHdhcmUAbWF0cGxvdGxpYiB2ZXJzaW9uMy4xLjIsIGh0\ndHA6Ly9tYXRwbG90bGliLm9yZy8li6FKAAAbLElEQVR4nO3dfXRddb3n8fcnSaOtVBvaAIWWlgrD\nFYogDRjUiyIuB7isCwKDICLIQ8e5OFfveJciM6NexjurDFe5rAXCKg8CdyrPCFwElIVFrg+pJKU8\nFOy1E5oSaGkI4bFAmuQ7f+ydw+GQnKTt2Tkn3Z/XWlk5v332wy/tzvnk99t7/36KCMzMzADqql0B\nMzOrHQ4FMzMrcCiYmVmBQ8HMzAocCmZmVuBQMDOzgoasdizpWuBYYFNELCx571vAPwHNEfGiJAGX\nAscAm4EzI2LlWMeYNWtWzJ8/v+J1NzPbkXV0dLwYEc0jvZdZKADXAZcBNxQvlDQX+Dywvmjx0cA+\n6dfHgSvS72XNnz+f9vb2ClXXzCwfJHWN9l5m3UcR8TDw0ghvXQJ8Gyh+au444IZItAEzJM3Oqm5m\nZjayCb2mIOk44LmIeKzkrT2AZ4vK3ekyMzObQFl2H72LpGnABSRdR9uzn8XAYoA999yzAjUzM7Nh\nE9lS+DCwF/CYpHXAHGClpN2A54C5RevOSZe9R0QsjYiWiGhpbh7xOomZmW2jCQuFiHgiInaJiPkR\nMZ+ki+jgiNgI3A18RYlW4JWI2DBRdTMzs0RmoSDpRuAPwL6SuiWdXWb1e4FOYC1wFfA3WdXLzMxG\nl9k1hYg4dYz35xe9DuC8rOpSqqOrj7bOXloXzGTRvKaJOqyZWc2bsAvNtaKjq49Tl/6BLYPBlHpx\n4+LDHAxmZqncDXNx+8pu+geDAPoHg9tXdle7SmZmNSN3oaAxymZmeZa7UDjh4Dk0NtQhoLGhjhMO\nnlPtKpmZ1YzcXVNYNK+JG89t9YVmM7MR5C4UIAkGh4GZ2XvlrvvIzMxG51AwM7MCh4KZmRU4FMzM\nrMChYGZmBQ4FMzMrcCiYmVmBQ8HMzAocCmZmVuBQMDOzAoeCmZkVOBTMzKzAoWBmZgUOBTMzK8gs\nFCRdK2mTpCeLll0s6U+SHpf0c0kzit77rqS1ktZI+o9Z1cvMzEaXZUvhOuCokmUPAAsj4qPAvwPf\nBZC0H3AKsH+6zU8k1WdYNzMzG0FmoRARDwMvlSz7VUQMpMU2YHguzOOAmyLi7Yh4BlgLHJpV3czM\nbGTVvKZwFnBf+noP4Nmi97rTZWZmNoGqEgqS/jswACzbhm0XS2qX1N7T01P5ypmZ5diEh4KkM4Fj\ngdMiItLFzwFzi1abky57j4hYGhEtEdHS3NycaV3NzPJmQkNB0lHAt4G/jojNRW/dDZwi6X2S9gL2\nAf44kXUzMzNoyGrHkm4EPgPMktQNfJ/kbqP3AQ9IAmiLiK9FxGpJtwBPkXQrnRcRg1nVzczMRqZ3\nenAmn5aWlmhvb692NczMJhVJHRHRMtJ7fqLZzMwKHApmZlbgUDAzswKHgpmZFTgUzMysIJeh0NHV\nx+XL19LR1VftqpiZ1ZTMnlOoVR1dfZx2dRv9A0M0NtSx7JxWFs1rqna1zMxqQu5aCm2dvfQPDDEU\nsGVgiLbO3mpXycysZuQuFFoXzKShTgiorxOtC2ZWu0pmZjUjd6EAQDLExjvfzcwMyGEotHX2MjA4\nRACDg+4+MjMrlrtQaF0wk8aGOuoFUxrq3H1kZlYkd3cfLZrXxLJzWmnr7KV1wUzfeWRmViR3oQBJ\nMDgMzMzeK3fdR2ZmNjqHgpmZFeQyFDzMhZnZyHJ3TaGjq49Tr2pjy8AQUxrquPFcD3NhZjYsdy2F\nO1Z20z+QPKfQPzDEHSu7q10lM7OakbtQKJ2RevLOUG1mVnm5C4UTD55DY30y9lFjvTjx4DnVrpKZ\nWc3I7JqCpGuBY4FNEbEwXbYzcDMwH1gHnBwRfZIEXAocA2wGzoyIlVnUa9G8Jm5cfJgfXjMzG0GW\nLYXrgKNKlp0PPBgR+wAPpmWAo4F90q/FwBUZ1otF85o474i9HQhmZiUyC4WIeBh4qWTxccD16evr\ngeOLlt8QiTZghqTZWdXNt6SamY1som9J3TUiNqSvNwK7pq/3AJ4tWq87XbaBEpIWk7Qm2HPPPbe6\nAp55zcxsdFW70BwRwTbc/BMRSyOiJSJampubt/q4nnnNzGx0Ex0KLwx3C6XfN6XLnwPmFq03J11W\ncR4628xsdBPdfXQ3cAawJP1+V9Hyr0u6Cfg48EpRN1NFeehsM7PRZXlL6o3AZ4BZkrqB75OEwS2S\nzga6gJPT1e8luR11LcktqV/Nql7gobPNzEaTWShExKmjvHXkCOsGcF5WdTEzs/HJ3RPNZmY2OoeC\nmZkVOBTMzKzAoWBmZgW5DAUPc2FmNrJczrzmYS7MzEaWu5ZCW2cvb21Jhrl4a4uHuTAzK5a7UFhR\nEgKlZTOzPMtdKKxc31e2bGaWZ7kLhblN08qWzczyLHeh8MMvHFD4oevSspmZJXJ399GieU388AsH\ncN+TGzh64WzfeWRmViR3odDR1ceF96ymf2CIR9a9xL67TXcwmJmlctd95JnXzMxGl7tQ8MxrZmaj\ny133kWdeMzMbXe5CATzzmpnZaHLXfWRmZqNzKJiZWYFDwczMCqoSCpL+TtJqSU9KulHS+yXtJWmF\npLWSbpbUWI26mZnl2YSHgqQ9gL8FWiJiIVAPnAJcBFwSEXsDfcDZE103M7O8q1b3UQMwVVIDMA3Y\nAHwWuC19/3rg+CrVzcwstyY8FCLiOeCfgPUkYfAK0AG8HBED6WrdwB4jbS9psaR2Se09PT0TUWUz\ns9yoRvdRE3AcsBewO/AB4Kjxbh8RSyOiJSJampubM6qlmVk+VaP76HPAMxHRExFbgDuATwIz0u4k\ngDnAc1Wom5lZrlUjFNYDrZKmSRJwJPAUsBw4KV3nDOCurCrQ0dXH5cvX0tHlWdfMzIpN+DAXEbFC\n0m3ASmAAeBRYCvwCuEnSD9Nl12Rx/I6uPk69qo0tA0NMaajjxnNbPeSFmVmqKmMfRcT3ge+XLO4E\nDs362Hes7KZ/YAiA/oEh7ljZ7VAwM0vl7onmGKNsZpZnuQuFhbt/qGzZzCzPxhUKkr4h6YNKXCNp\npaTPZ125LPRt7qdOyes6JWUzM0uMt6VwVkS8CnweaAJOB5ZkVqsMtS6YSUN9HQIa6j3zmplZsfGG\nQvq3NccA/xIRq4uWTT4R7/5uZmbA+EOhQ9KvSELhl5KmA0PZVSs7bZ29DAwFAQwOBW2dvdWukplZ\nzRjvLalnAwcBnRGxWdLOwFezq1Z2WhfMpLGhrvCcgruPzMzeMd5QOAxYFRFvSPoycDBwaXbVys6i\neU1879j9ue/JDRy9cLafUTAzKzLeULgCOFDSgcC3gKuBG4BPZ1WxrHR09fGDu59ky2CworOXfXeb\n7mAwM0uN95rCQEQEyeiml0XE5cD07KqVndtXdtM/mFxT6B8Mbl/ZXe0qmZnVjPG2FF6T9F3gy8Dh\nkuqAKdlVKzur1veVLZuZ5dl4WwpfBN4Gzo6IjSRDW1+cWa0ytPGVt8qWzczybFyhEBEbI+LHEfFv\naXl9RNyQbdWysfcuO5Utm5nl2XiHuWiV9Iik1yX1SxqU9ErWlcvCd47+CPXpOBf1deI7R3+kyjUy\nM6sd4+0+ugw4FfgzMBU4B/hJVpXK0qJ5TZz7qb2YP3Ma535qL995ZGZWZNyjpEbEWqA+IgYj4qds\nxbzKteRnK9Zz5cOdrOvdzJUPd/KzFeurXSUzs5ox3lDYLKkRWCXp/0j6u63Ytqbc9+SGsmUzszwb\n7wf76UA98HXgDWAucGJWlcrS/rM/WLZsZpZn43pOISK60pdvAv+QXXWyN33qlLJlM7M8KxsKkp6g\nzIyVEfHRitcoY03TGsuWzczybKyWwgnArsCzJcvnAhu39aCSZpCMn7SQJHTOAtYANwPzgXXAyRFR\n8ceN+zb3o/SgwjOvmZkVG+uawiXAKxHRVfwFvJK+t60uBe6PiL8ADgSeBs4HHoyIfYAH03LFNU1r\nLDR9ArcUzMyKjRUKu0bEE6UL02Xzt+WAkj4EHA5ck+6rPyJeJhls7/p0teuB47dl/2Mpbhm4pWBm\n9m5jhcKMMu9N3cZj7gX0AD+V9KikqyV9gCSAhu8P3UjSbfUekhZLapfU3tPTs9UHL24ZuKVgZvZu\nY4VCu6RzSxdKOgfo2MZjNpBM0nNFRHyM5BbXd3UVpcN0j3iBOyKWRkRLRLQ0Nzdv9cH7NveTjnJB\nndxSMDMrNtaF5m8CP5d0Gu+EQAvQCHxhG4/ZDXRHxIq0fBtJKLwgaXZEbJA0G9i0jfsvy9NxmpmN\nrmwoRMQLwCckHUFypxDALyLi19t6wIjYKOlZSftGxBrgSOCp9OsMYEn6/a5tPUY5no7TzGx04314\nbTmwvILH/a/AsnTojE7gqyRdWbdIOhvoAk6u4PEKOrr6uPCe1fQPDPHIupc8HaeZWZHxzrxWURGx\niqQbqtSRWR+7rbOX/oEhhgK2DAzR1tnrUDAzS03KQe22x/A1hXrhawpmZiWq0lKopkXzmlh2Titt\nnb20LpjpVoKZWZHchQIkweAwMDN7r9x1H0Fysfny5Wvp6Kr40EpmZpNa7loKHV19nHZ1G/0DQzQ2\n1LHsnFa3GszMUrlrKYx095GZmSVyFwq++8jMbHS56z7yE81mZqPLXSh0dPXxg39dzZaBIVY84yea\nzcyK5a776I6V3fQPDBFA/8AQd6zsrnaVzMxqRu5CoXQ87lEnoDYzy6HchcKJB8+hsV4IaKwXJx48\np9pVMjOrGbkLhUXzmjjmgNl8aNoUjjnAF5rNzIrlLhSW3Ps0d656npc3b+HOVc+z5N6nq10lM7Oa\nkbtQuPLhzrJlM7Nal+VQPbm7JdXMbDLLeqie3LUUzMwms6yH6nEomJlNIlkP1ZO77qPmnRrpeb3/\nXWUzs8ki64nCchcKH9uziV899cK7ymZmk0mWE4VVrftIUr2kRyXdk5b3krRC0lpJN0vK5E/4F159\nq2zZzCzPqnlN4RtA8UMCFwGXRMTeQB9wdhYH/eIhe5Ytm5nlWVVCQdIc4K+Aq9OygM8Ct6WrXA8c\nn8Wxv/TxPfna4QuYP3MaXzt8AV/6uEPBzGxYtVoK/wx8GxhKyzOBlyNiIC13A3tkceCOrj6u+8M6\n1r+0mev+sM7zNJuZFZnwUJB0LLApIjq2cfvFktoltff09Gz19p6O08xsdNVoKXwS+GtJ64CbSLqN\nLgVmSBq+G2oO8NxIG0fE0ohoiYiW5ubmrT5464KZNNQlo6TW18nTcZqZFZnwUIiI70bEnIiYD5wC\n/DoiTgOWAyelq50B3JVZJaR3fzczM6C2nmj+DvDfJK0lucZwTRYHaevsZWAwmXltcNDdR2Zmxar6\n8FpEPAQ8lL7uBA7N+pjDj4hvGRjK5BFxM7PJLHdPNGf9iLiZ2WRWS91HE2bNxtdo6+xlzcbXql0V\nM7OakruWws9WrOeCnz8BwL/9+UUAP8BmZpbKXUvh5kfWly2bmeVZ7kKhsaGubNnMLM9y94n4H3ad\nXrZsZpZnuQuFEw6eQ31d8tBafZ044eA5Va6RmVntyF0orNn4GoNDAcDgUPgOJDOzIrkLhUseWFO2\nbGaWZ7kLhZfe6C9bNjPLs9yFwvD1hNHKZmZ5lrtQmNZYX7ZsZpZnuQuFWTu9r2zZzCzPchcKn/vI\nrmXLZmZ5lrtQ6HzxjbJlM7M8y10oPPX8K2XLZmZ5lrtQiDHKZmZ5lrtQ2GPG1LJlM7M8y10ovPDq\n22XLZmZ5lrtQ6H3j7bJlM7M8m/BQkDRX0nJJT0laLekb6fKdJT0g6c/p90wmT/YtqWY22XV09XH5\n8rV0dPVVfN/VaCkMAN+KiP2AVuA8SfsB5wMPRsQ+wINpueJOP2x+2bKZWS3r6OrjtKvb+NGv1nDa\n1W0VD4YJD4WI2BARK9PXrwFPA3sAxwHXp6tdDxyfxfEvuu/psmUzs1rW1tlL/8AQQwFbBoZo6+yt\n6P6rek1B0nzgY8AKYNeI2JC+tRHIpF9n7abXy5bNzGpZ64KZNDbUUS+Y0lBH64KZFd1/1UJB0k7A\n7cA3I+LV4vciIhjlEQJJiyW1S2rv6enZ6uPuvctOZctmZrVs0bwmvnfs/nxi71l879j9WTSvspdf\nGyq6t3GSNIUkEJZFxB3p4hckzY6IDZJmA5tG2jYilgJLAVpaWrb62bPdZ0wF+krKZmaTQ0dXHxfe\ns5r+gSEeWfcS++42vaLBUI27jwRcAzwdET8ueutu4Iz09RnAXVkc/9d/2lS2bGZWy4qvKfRncE2h\nGi2FTwKnA09IWpUuuwBYAtwi6WygCzg5i4O/uWWwbNnMrJY1TWsknWaeoUjKlTThoRARvwVGm+7s\nyKyPX3pgz7tmZpNJ3+Z+RHLRtS4tV1Lunmg2M5vMWhfM5H1TkruPGqdU/u6jqlxorqbkxqbRy2Zm\ntWzRvCaWndNKW2cvrQtm7hh3H1VTcp07SspmZpPHonlNFQ+DYbnrPhoYjLJlM7M8y10oDI1RNjPL\ns9yFgpmZjc6hYGZmBQ4FMzMrcCiYmVmBQ8HMzAocCmZmVuBQMDOzAoeCmZkVOBTMzCaZjq4+Ll++\nlo6uvrFX3kq5G/vIzGwy6+jq47Sr2+gfGKKxoY5l57RO7pnXzMxs2xXPvLYlg5nXHApmZpNI64KZ\nNDYk8ylMaaj8fAoOBTOzSWTRvCaO2n83pk+dwlH771bxIbQdCmYZyPJCoOXbknuf5s5Vz/Py5i3c\nuep5ltz7dEX371Awq7COrj5OvOL3XPzLNZx4xe8dDFZRd656rmx5ezkUzCrsvP/bUbZstj16X3+7\nbHl71VwoSDpK0hpJayWdX+36mG2tja+9XbZstj22DJUvb6+aCgVJ9cDlwNHAfsCpkvarbq3MzPKj\npkIBOBRYGxGdEdEP3AQcV+U6mZnlRq2Fwh7As0Xl7nRZgaTFktoltff09Exo5czMdnS1Fgpjioil\nEdESES3Nzc3Vro6Z2Q6l1kLhOWBuUXlOuqxi1i35q7Jls+3lc8yylPX5pYio6A63h6QG4N+BI0nC\n4BHgSxGxeqT1W1paor29fQJraGY2+UnqiIiWkd6rqVFSI2JA0teBXwL1wLWjBYKZmVVeTYUCQETc\nC9xb7XqYmeVRrV1TMDOzKnIomJlZgUPBzMwKHApmZlZQU7ekbi1JPUDXNm4+C3ixgtUxK+VzzLK0\nPefXvIgY8enfSR0K20NS+2j36ZpVgs8xy1JW55e7j8zMrMChYGZmBXkOhaXVroDt8HyOWZYyOb9y\ne03BzMzeK88tBTMzK+FQ2EaSHpLkO0t2cJIuKHo9Q9LfbMe+rpN0UmVqZjsqSbtLum2Mdb4paVpR\n+V5JMypx/FyGQjpEt9l4XFD0egawzaGwPXzO5kdEPB8RY/3x8E2gEAoRcUxEvFyJ40/aE03SfOA+\n4LfAJ0jmXzgO2Be4kuQf7P8BZ0VEn6SHgFXAp4AbJR0AvAl8DNgFOAv4CnAYsCIizkyPcwVwCDAV\nuC0ivj8hP6BNOEl3kkzy9H7gUmABMFXSKmA1yXDuH07LDwD/ANwFNAFTgP8REXel+/oK8PdAAI9H\nxOklx/pf6bHOBg4CfgzsRPIw0pkRsaH0nAV+lNkPb1UhaQnwbERcnpZ/ALxOcg4slFQPXAQcBQwB\nVwECdgeWS3oxIo6QtA5oITmH7gfaSD4XHwF+SnKu7gKcFhF/LFupiJiUX8B8YAA4KC3fAnwZeBz4\ndLrsQuCf09cPAT8p2v464Kb0H/g44FXgAJLWU0fRfndOv9en+/ho0f5aqv3v4K+KnlPD/9dTgSeB\nmcDrJefck0XlBuCD6etZwNr0fNqfZLKoWSX7vQ44CbiY5A8XkYTJ74HmdJ0vkswj8p5z1l873hfJ\nH6W/KSo/Bfzl8HkG/BfgNqCh5FxaN3x+FZeLPheLP8uuLfqcu3OsOk3alkLqmYhYlb7uAD4MzIiI\n36TLrgduLVr/5pLt/zUiQtITwAsR8QSApNUk/7irgJMlLSb5AJgN7EcSPLbj+VtJX0hfzwX2GWN9\nAf9b0uEkf8XtAewKfBa4NSJeBIiIl4q2+Z8kLdHFAJL2BRYCD0iC5I+PDUXrl56ztgOJiEcl7SJp\nd6AZ6AOeLVrlc8CVETGQrv/SCLsp9UzJZ9mDRZ9z88faeLKHwttFrwdJ+nzLeWOU7YdK9jUENEja\ni6QL4JBIuqCuI+lasB2MpM+Q/AIeFhGb066bsf6vTyP5RV4UEVvSJvxY2zwCLJK0c/oLLmB1RBw2\nyvql56zteG4laUHuRmX+CCj9LCv+nBvzM39Hu9D8CtAn6S/T8unAb8qsP5YPkvxSviJpV+Do7ayf\n1a4PAX1pIPwF0Jou3yJpSvr6NWB6yTab0kA4ApiXLv818J8kzQSQtHPRNvcDS4BfSJoOrAGaJR2W\nrjtF0v4Z/HxWu24GTiEJhltL3nsA+M/DNxoUnUul52LF7GihAHAGcLGkx0ku4F24rTuKiMeAR4E/\nAT8DfleRGlotup+kdfg0yYd2W7p8KfC4pGUR0Qv8TtKTki4GlgEtabP8KyTnCZHMK/6PwG8kPUZy\nEbkgIm4luWB4N0l30UnARem6q0guEFpOpOfLdOC5iNhQ8vbVwHqSc/Ax4Evp8qXA/ZKWV7o+fqLZ\nzMwKdsSWgpmZbSOHgpmZFTgUzMyswKFgZmYFDgUzMytwKJgBkgYlrZK0WtJjkr4lqWK/H5LOTJ9a\nHS5fLWm/Su3frFJ8S6oZIOn1iNgpfb0L6XMpsRUDIEqqj4jBUd57CPj7iGivRH3NsuKWglmJiNgE\nLAa+rsSZki4bfl/SPemwGEh6XdKP0geLDpP0PUmPpA+4LU23P4lkBMtlaWtkavF8HJJOlfREus1F\nRcd5XdI/pi2XtvSperNMORTMRhARnSRPG+8yxqofIBng7sCI+C1wWUQcEhELSUZbPTYibgPaSYYt\nPigi3hzeOO1SuohkEL2DgEMkHV+077aIOBB4GDi3gj+i2YgcCmbbZxC4vah8hKQV6dAXnyUZRruc\nQ4CHIqInHQlzGXB4+l4/cE/6uoNxjHBptr0m+yipZpmQtIDkA38Tyfj0xX9AFY+E+tbwdQRJ7wd+\nQjLPxrPphCnbM6rulnjnot8g/n21CeCWglkJSc0kk+Bcln4orwMOklQnaS5w6CibDgfAi5J2Ihno\nbthoo1r+Efi0pFnpLFunsn0j+5ptF//lYZYYnnZzCknL4F94Z3TT3wHPkMyK9TSwcqQdRMTLkq4i\nmbVtI8ncCcOuA66U9CbJlK/D22yQdD6wnGRuhV9EOqWnWTX4llQzMytw95GZmRU4FMzMrMChYGZm\nBQ4FMzMrcCiYmVmBQ8HMzAocCmZmVuBQMDOzgv8PDch2uOdZqxwAAAAASUVORK5CYII=\n",
                "text/plain": "<Figure size 432x288 with 1 Axes>"
              }
            ],
            "_view_module": "@jupyter-widgets/output",
            "_model_module_version": "1.0.0",
            "_view_count": null,
            "_view_module_version": "1.0.0",
            "layout": "IPY_MODEL_58adeb80119c4eaaa7f1a482ff632bb1",
            "_model_module": "@jupyter-widgets/output"
          }
        },
        "411f85e208824382bdd50df825eabf2f": {
          "model_module": "@jupyter-widgets/controls",
          "model_name": "DescriptionStyleModel",
          "state": {
            "_view_name": "StyleView",
            "_model_name": "DescriptionStyleModel",
            "description_width": "",
            "_view_module": "@jupyter-widgets/base",
            "_model_module_version": "1.5.0",
            "_view_count": null,
            "_view_module_version": "1.2.0",
            "_model_module": "@jupyter-widgets/controls"
          }
        },
        "ac16ff939e4a4e07802b35cc3bee2edd": {
          "model_module": "@jupyter-widgets/base",
          "model_name": "LayoutModel",
          "state": {
            "_view_name": "LayoutView",
            "grid_template_rows": null,
            "right": null,
            "justify_content": null,
            "_view_module": "@jupyter-widgets/base",
            "overflow": null,
            "_model_module_version": "1.2.0",
            "_view_count": null,
            "flex_flow": null,
            "width": null,
            "min_width": null,
            "border": null,
            "align_items": null,
            "bottom": null,
            "_model_module": "@jupyter-widgets/base",
            "top": null,
            "grid_column": null,
            "overflow_y": null,
            "overflow_x": null,
            "grid_auto_flow": null,
            "grid_area": null,
            "grid_template_columns": null,
            "flex": null,
            "_model_name": "LayoutModel",
            "justify_items": null,
            "grid_row": null,
            "max_height": null,
            "align_content": null,
            "visibility": null,
            "align_self": null,
            "height": null,
            "min_height": null,
            "padding": null,
            "grid_auto_rows": null,
            "grid_gap": null,
            "max_width": null,
            "order": null,
            "_view_module_version": "1.2.0",
            "grid_template_areas": null,
            "object_position": null,
            "object_fit": null,
            "grid_auto_columns": null,
            "margin": null,
            "display": null,
            "left": null
          }
        }
      }
    }
  },
  "cells": [
    {
      "cell_type": "markdown",
      "metadata": {
        "id": "view-in-github",
        "colab_type": "text"
      },
      "source": [
        "<a href=\"https://colab.research.google.com/github/giacomominello/AI4S/blob/master/AI4S1.ipynb\" target=\"_parent\"><img src=\"https://colab.research.google.com/assets/colab-badge.svg\" alt=\"Open In Colab\"/></a>"
      ]
    },
    {
      "cell_type": "markdown",
      "metadata": {
        "id": "gOgBPNf__wmI",
        "colab_type": "text"
      },
      "source": [
        "# ARTIFICIAL INTELLIGENCE FOR SECURITY - Assignment: Analysing Network Traffic"
      ]
    },
    {
      "cell_type": "markdown",
      "metadata": {
        "id": "xEx3wc3E_wns",
        "colab_type": "text"
      },
      "source": [
        "Group: "
      ]
    },
    {
      "cell_type": "markdown",
      "metadata": {
        "id": "M2fmJpWRcxpo",
        "colab_type": "text"
      },
      "source": [
        "Let's start by importing some libraries and loading some extensions. "
      ]
    },
    {
      "cell_type": "code",
      "metadata": {
        "id": "4B3izXse_wns",
        "colab_type": "code",
        "colab": {}
      },
      "source": [
        "import pandas as pd #https://pandas.pydata.org/pandas-docs/stable/index.html\n",
        "import numpy as np #https://numpy.org/devdocs/ \n",
        "import time \n",
        "import seaborn as sns\n",
        "import matplotlib.pyplot as plt #https://matplotlib.org/api/pyplot_api.html\n",
        "from ipywidgets import widgets #https://ipywidgets.readthedocs.io/en/latest/\n",
        "from ipywidgets import interact #\"It's a surprise tool that will help us later\" \n",
        "%load_ext google.colab.data_table\n",
        "from sklearn.model_selection import train_test_split\n",
        "from sklearn import metrics\n",
        "from sklearn.utils import check_random_state\n",
        "random_state = np.random.RandomState(42) #should allow us to have deterministic results (up to roundoff error)(kind of)(at least it's more consistent)"
      ],
      "execution_count": 0,
      "outputs": []
    },
    {
      "cell_type": "markdown",
      "metadata": {
        "id": "yIohdUxk_wns",
        "colab_type": "text"
      },
      "source": [
        "### First load the dataset for week 1 into a python notebook.\n",
        "- We will use data from week 1 for training a system and keep the week 2 data for testing purposes only."
      ]
    },
    {
      "cell_type": "code",
      "metadata": {
        "id": "q_FJ9PJiztQQ",
        "colab_type": "code",
        "colab": {}
      },
      "source": [
        "# Import PyDrive and associated libraries.\n",
        "# This only needs to be done once per notebook.\n",
        "from pydrive.auth import GoogleAuth\n",
        "from pydrive.drive import GoogleDrive\n",
        "from google.colab import auth\n",
        "from oauth2client.client import GoogleCredentials\n",
        "\n",
        "# Authenticate and create the PyDrive client.\n",
        "# This only needs to be done once per notebook.\n",
        "auth.authenticate_user()\n",
        "gauth = GoogleAuth()\n",
        "gauth.credentials = GoogleCredentials.get_application_default()\n",
        "drive = GoogleDrive(gauth)\n",
        "\n",
        "# Download a file based on its file ID.\n",
        "file_id = '1Gjcq50EpQOH-t-dwQVRP6MmO7JRiRDUf'\n",
        "downloaded = drive.CreateFile({'id': file_id})\n",
        "downloaded.GetContentFile('CIDDS-001-internal-week1_10pcSample.csv')  \n",
        "df = pd.read_csv('CIDDS-001-internal-week1_10pcSample.csv',index_col=[0],dtype={'Bytes': object})\n",
        "\n"
      ],
      "execution_count": 0,
      "outputs": []
    },
    {
      "cell_type": "code",
      "metadata": {
        "id": "M1Er5Kcy_wpQ",
        "colab_type": "code",
        "outputId": "9498dc20-1865-4f0f-ef75-f70d794261a3",
        "colab": {
          "base_uri": "https://localhost:8080/",
          "height": 1000
        }
      },
      "source": [
        "df.head(100)"
      ],
      "execution_count": 3,
      "outputs": [
        {
          "output_type": "execute_result",
          "data": {
            "application/vnd.google.colaboratory.module+javascript": "\n      import \"https://ssl.gstatic.com/colaboratory/data_table/9e554b27bdd509f3/data_table.js\";\n\n      window.createDataTable({\n        data: [[{\n            'v': 23,\n            'f': \"23\",\n        },\n\"2017-03-15 00:01:17.728\",\n{\n            'v': 0.047,\n            'f': \"0.047\",\n        },\n\"TCP  \",\n\"192.168.220.16\",\n{\n            'v': 45586,\n            'f': \"45586\",\n        },\n\"10000_35\",\n{\n            'v': 443.0,\n            'f': \"443.0\",\n        },\n{\n            'v': 5,\n            'f': \"5\",\n        },\n\"     906\",\n{\n            'v': 1,\n            'f': \"1\",\n        },\n\".AP.S.\",\n{\n            'v': 0,\n            'f': \"0\",\n        },\n\"normal\",\n\"---\",\n\"---\",\n\"---\"],\n [{\n            'v': 36,\n            'f': \"36\",\n        },\n\"2017-03-15 00:01:18.457\",\n{\n            'v': 0.17,\n            'f': \"0.17\",\n        },\n\"TCP  \",\n\"10003_195\",\n{\n            'v': 80,\n            'f': \"80\",\n        },\n\"192.168.220.16\",\n{\n            'v': 48286.0,\n            'f': \"48286.0\",\n        },\n{\n            'v': 3,\n            'f': \"3\",\n        },\n\"     908\",\n{\n            'v': 1,\n            'f': \"1\",\n        },\n\".AP.S.\",\n{\n            'v': 32,\n            'f': \"32\",\n        },\n\"normal\",\n\"---\",\n\"---\",\n\"---\"],\n [{\n            'v': 30,\n            'f': \"30\",\n        },\n\"2017-03-15 00:01:18.511\",\n{\n            'v': 0.003,\n            'f': \"0.003\",\n        },\n\"TCP  \",\n\"10002_113\",\n{\n            'v': 443,\n            'f': \"443\",\n        },\n\"192.168.220.16\",\n{\n            'v': 49062.0,\n            'f': \"49062.0\",\n        },\n{\n            'v': 2,\n            'f': \"2\",\n        },\n\"    1089\",\n{\n            'v': 1,\n            'f': \"1\",\n        },\n\".AP...\",\n{\n            'v': 32,\n            'f': \"32\",\n        },\n\"normal\",\n\"---\",\n\"---\",\n\"---\"],\n [{\n            'v': 46,\n            'f': \"46\",\n        },\n\"2017-03-15 00:01:22.400\",\n{\n            'v': 0.0,\n            'f': \"0.0\",\n        },\n\"TCP  \",\n\"EXT_SERVER\",\n{\n            'v': 8082,\n            'f': \"8082\",\n        },\n\"192.168.220.15\",\n{\n            'v': 37039.0,\n            'f': \"37039.0\",\n        },\n{\n            'v': 1,\n            'f': \"1\",\n        },\n\"     212\",\n{\n            'v': 1,\n            'f': \"1\",\n        },\n\".AP...\",\n{\n            'v': 32,\n            'f': \"32\",\n        },\n\"normal\",\n\"---\",\n\"---\",\n\"---\"],\n [{\n            'v': 51,\n            'f': \"51\",\n        },\n\"2017-03-15 00:01:24.152\",\n{\n            'v': 0.266,\n            'f': \"0.266\",\n        },\n\"TCP  \",\n\"192.168.200.9\",\n{\n            'v': 52290,\n            'f': \"52290\",\n        },\n\"EXT_SERVER\",\n{\n            'v': 8082.0,\n            'f': \"8082.0\",\n        },\n{\n            'v': 2,\n            'f': \"2\",\n        },\n\"     319\",\n{\n            'v': 1,\n            'f': \"1\",\n        },\n\".AP...\",\n{\n            'v': 0,\n            'f': \"0\",\n        },\n\"normal\",\n\"---\",\n\"---\",\n\"---\"],\n [{\n            'v': 61,\n            'f': \"61\",\n        },\n\"2017-03-15 00:01:26.075\",\n{\n            'v': 0.052000000000000005,\n            'f': \"0.052000000000000005\",\n        },\n\"TCP  \",\n\"192.168.220.16\",\n{\n            'v': 51161,\n            'f': \"51161\",\n        },\n\"10001_232\",\n{\n            'v': 443.0,\n            'f': \"443.0\",\n        },\n{\n            'v': 6,\n            'f': \"6\",\n        },\n\"     972\",\n{\n            'v': 1,\n            'f': \"1\",\n        },\n\".AP.S.\",\n{\n            'v': 0,\n            'f': \"0\",\n        },\n\"normal\",\n\"---\",\n\"---\",\n\"---\"],\n [{\n            'v': 115,\n            'f': \"115\",\n        },\n\"2017-03-15 00:01:40.619\",\n{\n            'v': 0.0,\n            'f': \"0.0\",\n        },\n\"TCP  \",\n\"10001_232\",\n{\n            'v': 443,\n            'f': \"443\",\n        },\n\"192.168.220.16\",\n{\n            'v': 51113.0,\n            'f': \"51113.0\",\n        },\n{\n            'v': 1,\n            'f': \"1\",\n        },\n\"      66\",\n{\n            'v': 1,\n            'f': \"1\",\n        },\n\".A....\",\n{\n            'v': 0,\n            'f': \"0\",\n        },\n\"normal\",\n\"---\",\n\"---\",\n\"---\"],\n [{\n            'v': 121,\n            'f': \"121\",\n        },\n\"2017-03-15 00:01:42.380\",\n{\n            'v': 0.0,\n            'f': \"0.0\",\n        },\n\"TCP  \",\n\"EXT_SERVER\",\n{\n            'v': 8082,\n            'f': \"8082\",\n        },\n\"192.168.200.4\",\n{\n            'v': 56978.0,\n            'f': \"56978.0\",\n        },\n{\n            'v': 1,\n            'f': \"1\",\n        },\n\"     212\",\n{\n            'v': 1,\n            'f': \"1\",\n        },\n\".AP...\",\n{\n            'v': 32,\n            'f': \"32\",\n        },\n\"normal\",\n\"---\",\n\"---\",\n\"---\"],\n [{\n            'v': 126,\n            'f': \"126\",\n        },\n\"2017-03-15 00:01:46.361\",\n{\n            'v': 0.0,\n            'f': \"0.0\",\n        },\n\"TCP  \",\n\"192.168.100.5\",\n{\n            'v': 445,\n            'f': \"445\",\n        },\n\"192.168.220.10\",\n{\n            'v': 40239.0,\n            'f': \"40239.0\",\n        },\n{\n            'v': 1,\n            'f': \"1\",\n        },\n\"     108\",\n{\n            'v': 1,\n            'f': \"1\",\n        },\n\".AP...\",\n{\n            'v': 0,\n            'f': \"0\",\n        },\n\"normal\",\n\"---\",\n\"---\",\n\"---\"],\n [{\n            'v': 160,\n            'f': \"160\",\n        },\n\"2017-03-15 00:02:03.175\",\n{\n            'v': 0.085,\n            'f': \"0.085\",\n        },\n\"TCP  \",\n\"10000_35\",\n{\n            'v': 443,\n            'f': \"443\",\n        },\n\"192.168.220.16\",\n{\n            'v': 45633.0,\n            'f': \"45633.0\",\n        },\n{\n            'v': 4,\n            'f': \"4\",\n        },\n\"     419\",\n{\n            'v': 1,\n            'f': \"1\",\n        },\n\".AP.S.\",\n{\n            'v': 0,\n            'f': \"0\",\n        },\n\"normal\",\n\"---\",\n\"---\",\n\"---\"],\n [{\n            'v': 159,\n            'f': \"159\",\n        },\n\"2017-03-15 00:02:03.179\",\n{\n            'v': 0.209,\n            'f': \"0.209\",\n        },\n\"TCP  \",\n\"10001_232\",\n{\n            'v': 80,\n            'f': \"80\",\n        },\n\"192.168.220.16\",\n{\n            'v': 49812.0,\n            'f': \"49812.0\",\n        },\n{\n            'v': 4,\n            'f': \"4\",\n        },\n\"     697\",\n{\n            'v': 1,\n            'f': \"1\",\n        },\n\".AP.S.\",\n{\n            'v': 0,\n            'f': \"0\",\n        },\n\"normal\",\n\"---\",\n\"---\",\n\"---\"],\n [{\n            'v': 182,\n            'f': \"182\",\n        },\n\"2017-03-15 00:02:03.968\",\n{\n            'v': 0.32299999999999995,\n            'f': \"0.32299999999999995\",\n        },\n\"TCP  \",\n\"192.168.220.16\",\n{\n            'v': 48332,\n            'f': \"48332\",\n        },\n\"10003_195\",\n{\n            'v': 80.0,\n            'f': \"80.0\",\n        },\n{\n            'v': 5,\n            'f': \"5\",\n        },\n\"    2406\",\n{\n            'v': 1,\n            'f': \"1\",\n        },\n\".AP.S.\",\n{\n            'v': 0,\n            'f': \"0\",\n        },\n\"normal\",\n\"---\",\n\"---\",\n\"---\"],\n [{\n            'v': 175,\n            'f': \"175\",\n        },\n\"2017-03-15 00:02:04.070\",\n{\n            'v': 0.0,\n            'f': \"0.0\",\n        },\n\"UDP  \",\n\"192.168.220.16\",\n{\n            'v': 45970,\n            'f': \"45970\",\n        },\n\"DNS\",\n{\n            'v': 53.0,\n            'f': \"53.0\",\n        },\n{\n            'v': 2,\n            'f': \"2\",\n        },\n\"     144\",\n{\n            'v': 1,\n            'f': \"1\",\n        },\n\"......\",\n{\n            'v': 0,\n            'f': \"0\",\n        },\n\"normal\",\n\"---\",\n\"---\",\n\"---\"],\n [{\n            'v': 200,\n            'f': \"200\",\n        },\n\"2017-03-15 00:02:07.257\",\n{\n            'v': 0.0,\n            'f': \"0.0\",\n        },\n\"UDP  \",\n\"192.168.200.8\",\n{\n            'v': 63352,\n            'f': \"63352\",\n        },\n\"DNS\",\n{\n            'v': 53.0,\n            'f': \"53.0\",\n        },\n{\n            'v': 1,\n            'f': \"1\",\n        },\n\"      76\",\n{\n            'v': 1,\n            'f': \"1\",\n        },\n\"......\",\n{\n            'v': 0,\n            'f': \"0\",\n        },\n\"normal\",\n\"---\",\n\"---\",\n\"---\"],\n [{\n            'v': 199,\n            'f': \"199\",\n        },\n\"2017-03-15 00:02:07.346\",\n{\n            'v': 0.0,\n            'f': \"0.0\",\n        },\n\"UDP  \",\n\"192.168.200.8\",\n{\n            'v': 59311,\n            'f': \"59311\",\n        },\n\"DNS\",\n{\n            'v': 53.0,\n            'f': \"53.0\",\n        },\n{\n            'v': 1,\n            'f': \"1\",\n        },\n\"      81\",\n{\n            'v': 1,\n            'f': \"1\",\n        },\n\"......\",\n{\n            'v': 0,\n            'f': \"0\",\n        },\n\"normal\",\n\"---\",\n\"---\",\n\"---\"],\n [{\n            'v': 196,\n            'f': \"196\",\n        },\n\"2017-03-15 00:02:07.394\",\n{\n            'v': 0.002,\n            'f': \"0.002\",\n        },\n\"TCP  \",\n\"192.168.220.6\",\n{\n            'v': 46709,\n            'f': \"46709\",\n        },\n\"192.168.100.5\",\n{\n            'v': 445.0,\n            'f': \"445.0\",\n        },\n{\n            'v': 2,\n            'f': \"2\",\n        },\n\"     174\",\n{\n            'v': 1,\n            'f': \"1\",\n        },\n\".AP...\",\n{\n            'v': 0,\n            'f': \"0\",\n        },\n\"normal\",\n\"---\",\n\"---\",\n\"---\"],\n [{\n            'v': 205,\n            'f': \"205\",\n        },\n\"2017-03-15 00:02:07.992\",\n{\n            'v': 0.0,\n            'f': \"0.0\",\n        },\n\"TCP  \",\n\"192.168.220.16\",\n{\n            'v': 45487,\n            'f': \"45487\",\n        },\n\"10000_35\",\n{\n            'v': 443.0,\n            'f': \"443.0\",\n        },\n{\n            'v': 1,\n            'f': \"1\",\n        },\n\"      66\",\n{\n            'v': 1,\n            'f': \"1\",\n        },\n\".A....\",\n{\n            'v': 0,\n            'f': \"0\",\n        },\n\"normal\",\n\"---\",\n\"---\",\n\"---\"],\n [{\n            'v': 204,\n            'f': \"204\",\n        },\n\"2017-03-15 00:02:08.012\",\n{\n            'v': 0.0,\n            'f': \"0.0\",\n        },\n\"TCP  \",\n\"10000_35\",\n{\n            'v': 443,\n            'f': \"443\",\n        },\n\"192.168.220.16\",\n{\n            'v': 45487.0,\n            'f': \"45487.0\",\n        },\n{\n            'v': 1,\n            'f': \"1\",\n        },\n\"      66\",\n{\n            'v': 1,\n            'f': \"1\",\n        },\n\".A....\",\n{\n            'v': 0,\n            'f': \"0\",\n        },\n\"normal\",\n\"---\",\n\"---\",\n\"---\"],\n [{\n            'v': 213,\n            'f': \"213\",\n        },\n\"2017-03-15 00:02:08.630\",\n{\n            'v': 0.0,\n            'f': \"0.0\",\n        },\n\"TCP  \",\n\"192.168.100.5\",\n{\n            'v': 445,\n            'f': \"445\",\n        },\n\"192.168.220.4\",\n{\n            'v': 43145.0,\n            'f': \"43145.0\",\n        },\n{\n            'v': 1,\n            'f': \"1\",\n        },\n\"     108\",\n{\n            'v': 1,\n            'f': \"1\",\n        },\n\".AP...\",\n{\n            'v': 0,\n            'f': \"0\",\n        },\n\"normal\",\n\"---\",\n\"---\",\n\"---\"],\n [{\n            'v': 218,\n            'f': \"218\",\n        },\n\"2017-03-15 00:02:09.761\",\n{\n            'v': 0.0,\n            'f': \"0.0\",\n        },\n\"UDP  \",\n\"192.168.100.4\",\n{\n            'v': 138,\n            'f': \"138\",\n        },\n\"192.168.100.255\",\n{\n            'v': 138.0,\n            'f': \"138.0\",\n        },\n{\n            'v': 1,\n            'f': \"1\",\n        },\n\"     262\",\n{\n            'v': 1,\n            'f': \"1\",\n        },\n\"......\",\n{\n            'v': 0,\n            'f': \"0\",\n        },\n\"normal\",\n\"---\",\n\"---\",\n\"---\"],\n [{\n            'v': 233,\n            'f': \"233\",\n        },\n\"2017-03-15 00:02:20.462\",\n{\n            'v': 0.0,\n            'f': \"0.0\",\n        },\n\"TCP  \",\n\"192.168.220.16\",\n{\n            'v': 51357,\n            'f': \"51357\",\n        },\n\"192.168.200.1\",\n{\n            'v': 15660.0,\n            'f': \"15660.0\",\n        },\n{\n            'v': 1,\n            'f': \"1\",\n        },\n\"      58\",\n{\n            'v': 1,\n            'f': \"1\",\n        },\n\"....S.\",\n{\n            'v': 0,\n            'f': \"0\",\n        },\n\"attacker\",\n\"portScan\",\n\"1\",\n\"nmap args: -sS -T 1\"],\n [{\n            'v': 252,\n            'f': \"252\",\n        },\n\"2017-03-15 00:02:27.070\",\n{\n            'v': 0.0,\n            'f': \"0.0\",\n        },\n\"UDP  \",\n\"192.168.220.9\",\n{\n            'v': 137,\n            'f': \"137\",\n        },\n\"192.168.220.255\",\n{\n            'v': 137.0,\n            'f': \"137.0\",\n        },\n{\n            'v': 1,\n            'f': \"1\",\n        },\n\"      92\",\n{\n            'v': 1,\n            'f': \"1\",\n        },\n\"......\",\n{\n            'v': 0,\n            'f': \"0\",\n        },\n\"normal\",\n\"---\",\n\"---\",\n\"---\"],\n [{\n            'v': 253,\n            'f': \"253\",\n        },\n\"2017-03-15 00:02:28.413\",\n{\n            'v': 0.0,\n            'f': \"0.0\",\n        },\n\"TCP  \",\n\"192.168.100.5\",\n{\n            'v': 445,\n            'f': \"445\",\n        },\n\"192.168.220.7\",\n{\n            'v': 37191.0,\n            'f': \"37191.0\",\n        },\n{\n            'v': 1,\n            'f': \"1\",\n        },\n\"     108\",\n{\n            'v': 1,\n            'f': \"1\",\n        },\n\".AP...\",\n{\n            'v': 0,\n            'f': \"0\",\n        },\n\"normal\",\n\"---\",\n\"---\",\n\"---\"],\n [{\n            'v': 259,\n            'f': \"259\",\n        },\n\"2017-03-15 00:02:30.901\",\n{\n            'v': 0.003,\n            'f': \"0.003\",\n        },\n\"TCP  \",\n\"192.168.220.13\",\n{\n            'v': 60689,\n            'f': \"60689\",\n        },\n\"192.168.100.5\",\n{\n            'v': 445.0,\n            'f': \"445.0\",\n        },\n{\n            'v': 2,\n            'f': \"2\",\n        },\n\"     174\",\n{\n            'v': 1,\n            'f': \"1\",\n        },\n\".AP...\",\n{\n            'v': 0,\n            'f': \"0\",\n        },\n\"normal\",\n\"---\",\n\"---\",\n\"---\"],\n [{\n            'v': 302,\n            'f': \"302\",\n        },\n\"2017-03-15 00:02:44.536\",\n{\n            'v': 0.0,\n            'f': \"0.0\",\n        },\n\"TCP  \",\n\"192.168.220.16\",\n{\n            'v': 49062,\n            'f': \"49062\",\n        },\n\"10002_113\",\n{\n            'v': 443.0,\n            'f': \"443.0\",\n        },\n{\n            'v': 1,\n            'f': \"1\",\n        },\n\"      54\",\n{\n            'v': 1,\n            'f': \"1\",\n        },\n\".A....\",\n{\n            'v': 0,\n            'f': \"0\",\n        },\n\"normal\",\n\"---\",\n\"---\",\n\"---\"],\n [{\n            'v': 317,\n            'f': \"317\",\n        },\n\"2017-03-15 00:02:45.760\",\n{\n            'v': 0.048,\n            'f': \"0.048\",\n        },\n\"TCP  \",\n\"192.168.220.16\",\n{\n            'v': 45654,\n            'f': \"45654\",\n        },\n\"10000_35\",\n{\n            'v': 443.0,\n            'f': \"443.0\",\n        },\n{\n            'v': 5,\n            'f': \"5\",\n        },\n\"     906\",\n{\n            'v': 1,\n            'f': \"1\",\n        },\n\".AP.S.\",\n{\n            'v': 0,\n            'f': \"0\",\n        },\n\"normal\",\n\"---\",\n\"---\",\n\"---\"],\n [{\n            'v': 308,\n            'f': \"308\",\n        },\n\"2017-03-15 00:02:45.783\",\n{\n            'v': 0.085,\n            'f': \"0.085\",\n        },\n\"TCP  \",\n\"10001_232\",\n{\n            'v': 443,\n            'f': \"443\",\n        },\n\"192.168.220.16\",\n{\n            'v': 51207.0,\n            'f': \"51207.0\",\n        },\n{\n            'v': 5,\n            'f': \"5\",\n        },\n\"     498\",\n{\n            'v': 1,\n            'f': \"1\",\n        },\n\".AP.S.\",\n{\n            'v': 0,\n            'f': \"0\",\n        },\n\"normal\",\n\"---\",\n\"---\",\n\"---\"],\n [{\n            'v': 355,\n            'f': \"355\",\n        },\n\"2017-03-15 00:02:55.470\",\n{\n            'v': 0.0,\n            'f': \"0.0\",\n        },\n\"TCP  \",\n\"192.168.220.16\",\n{\n            'v': 51357,\n            'f': \"51357\",\n        },\n\"192.168.200.9\",\n{\n            'v': 9500.0,\n            'f': \"9500.0\",\n        },\n{\n            'v': 1,\n            'f': \"1\",\n        },\n\"      58\",\n{\n            'v': 1,\n            'f': \"1\",\n        },\n\"....S.\",\n{\n            'v': 0,\n            'f': \"0\",\n        },\n\"attacker\",\n\"portScan\",\n\"1\",\n\"nmap args: -sS -T 1\"],\n [{\n            'v': 356,\n            'f': \"356\",\n        },\n\"2017-03-15 00:02:55.506\",\n{\n            'v': 0.0,\n            'f': \"0.0\",\n        },\n\"TCP  \",\n\"EXT_SERVER\",\n{\n            'v': 8082,\n            'f': \"8082\",\n        },\n\"192.168.220.15\",\n{\n            'v': 37039.0,\n            'f': \"37039.0\",\n        },\n{\n            'v': 1,\n            'f': \"1\",\n        },\n\"     212\",\n{\n            'v': 1,\n            'f': \"1\",\n        },\n\".AP...\",\n{\n            'v': 32,\n            'f': \"32\",\n        },\n\"normal\",\n\"---\",\n\"---\",\n\"---\"],\n [{\n            'v': 370,\n            'f': \"370\",\n        },\n\"2017-03-15 00:02:57.541\",\n{\n            'v': 0.019,\n            'f': \"0.019\",\n        },\n\"TCP  \",\n\"192.168.220.14\",\n{\n            'v': 48380,\n            'f': \"48380\",\n        },\n\"EXT_SERVER\",\n{\n            'v': 8082.0,\n            'f': \"8082.0\",\n        },\n{\n            'v': 2,\n            'f': \"2\",\n        },\n\"     338\",\n{\n            'v': 1,\n            'f': \"1\",\n        },\n\".AP...\",\n{\n            'v': 0,\n            'f': \"0\",\n        },\n\"normal\",\n\"---\",\n\"---\",\n\"---\"],\n [{\n            'v': 375,\n            'f': \"375\",\n        },\n\"2017-03-15 00:03:05.076\",\n{\n            'v': 0.0,\n            'f': \"0.0\",\n        },\n\"TCP  \",\n\"EXT_SERVER\",\n{\n            'v': 8082,\n            'f': \"8082\",\n        },\n\"192.168.220.9\",\n{\n            'v': 50807.0,\n            'f': \"50807.0\",\n        },\n{\n            'v': 1,\n            'f': \"1\",\n        },\n\"     212\",\n{\n            'v': 1,\n            'f': \"1\",\n        },\n\".AP...\",\n{\n            'v': 32,\n            'f': \"32\",\n        },\n\"normal\",\n\"---\",\n\"---\",\n\"---\"],\n [{\n            'v': 390,\n            'f': \"390\",\n        },\n\"2017-03-15 00:03:05.880\",\n{\n            'v': 0.0,\n            'f': \"0.0\",\n        },\n\"TCP  \",\n\"192.168.220.16\",\n{\n            'v': 45061,\n            'f': \"45061\",\n        },\n\"10000_35\",\n{\n            'v': 443.0,\n            'f': \"443.0\",\n        },\n{\n            'v': 1,\n            'f': \"1\",\n        },\n\"      66\",\n{\n            'v': 1,\n            'f': \"1\",\n        },\n\".A....\",\n{\n            'v': 0,\n            'f': \"0\",\n        },\n\"normal\",\n\"---\",\n\"---\",\n\"---\"],\n [{\n            'v': 388,\n            'f': \"388\",\n        },\n\"2017-03-15 00:03:06.349\",\n{\n            'v': 0.075,\n            'f': \"0.075\",\n        },\n\"TCP  \",\n\"192.168.200.8\",\n{\n            'v': 62887,\n            'f': \"62887\",\n        },\n\"10005_14\",\n{\n            'v': 443.0,\n            'f': \"443.0\",\n        },\n{\n            'v': 2,\n            'f': \"2\",\n        },\n\"     166\",\n{\n            'v': 1,\n            'f': \"1\",\n        },\n\".AP...\",\n{\n            'v': 0,\n            'f': \"0\",\n        },\n\"normal\",\n\"---\",\n\"---\",\n\"---\"],\n [{\n            'v': 389,\n            'f': \"389\",\n        },\n\"2017-03-15 00:03:07.144\",\n{\n            'v': 0.02,\n            'f': \"0.02\",\n        },\n\"TCP  \",\n\"192.168.220.16\",\n{\n            'v': 45675,\n            'f': \"45675\",\n        },\n\"10000_35\",\n{\n            'v': 443.0,\n            'f': \"443.0\",\n        },\n{\n            'v': 3,\n            'f': \"3\",\n        },\n\"     723\",\n{\n            'v': 1,\n            'f': \"1\",\n        },\n\".AP.S.\",\n{\n            'v': 0,\n            'f': \"0\",\n        },\n\"normal\",\n\"---\",\n\"---\",\n\"---\"],\n [{\n            'v': 384,\n            'f': \"384\",\n        },\n\"2017-03-15 00:03:07.145\",\n{\n            'v': 0.019,\n            'f': \"0.019\",\n        },\n\"TCP  \",\n\"192.168.220.16\",\n{\n            'v': 45676,\n            'f': \"45676\",\n        },\n\"10000_35\",\n{\n            'v': 443.0,\n            'f': \"443.0\",\n        },\n{\n            'v': 3,\n            'f': \"3\",\n        },\n\"     723\",\n{\n            'v': 1,\n            'f': \"1\",\n        },\n\".AP.S.\",\n{\n            'v': 0,\n            'f': \"0\",\n        },\n\"normal\",\n\"---\",\n\"---\",\n\"---\"],\n [{\n            'v': 411,\n            'f': \"411\",\n        },\n\"2017-03-15 00:03:08.090\",\n{\n            'v': 0.0,\n            'f': \"0.0\",\n        },\n\"UDP  \",\n\"DNS\",\n{\n            'v': 53,\n            'f': \"53\",\n        },\n\"192.168.220.16\",\n{\n            'v': 58446.0,\n            'f': \"58446.0\",\n        },\n{\n            'v': 2,\n            'f': \"2\",\n        },\n\"     533\",\n{\n            'v': 1,\n            'f': \"1\",\n        },\n\"......\",\n{\n            'v': 0,\n            'f': \"0\",\n        },\n\"normal\",\n\"---\",\n\"---\",\n\"---\"],\n [{\n            'v': 419,\n            'f': \"419\",\n        },\n\"2017-03-15 00:03:09.240\",\n{\n            'v': 0.004,\n            'f': \"0.004\",\n        },\n\"TCP  \",\n\"192.168.220.8\",\n{\n            'v': 49094,\n            'f': \"49094\",\n        },\n\"192.168.100.5\",\n{\n            'v': 445.0,\n            'f': \"445.0\",\n        },\n{\n            'v': 2,\n            'f': \"2\",\n        },\n\"     174\",\n{\n            'v': 1,\n            'f': \"1\",\n        },\n\".AP...\",\n{\n            'v': 0,\n            'f': \"0\",\n        },\n\"normal\",\n\"---\",\n\"---\",\n\"---\"],\n [{\n            'v': 423,\n            'f': \"423\",\n        },\n\"2017-03-15 00:03:11.473\",\n{\n            'v': 0.0,\n            'f': \"0.0\",\n        },\n\"TCP  \",\n\"192.168.220.16\",\n{\n            'v': 51358,\n            'f': \"51358\",\n        },\n\"192.168.200.9\",\n{\n            'v': 9500.0,\n            'f': \"9500.0\",\n        },\n{\n            'v': 1,\n            'f': \"1\",\n        },\n\"      58\",\n{\n            'v': 1,\n            'f': \"1\",\n        },\n\"....S.\",\n{\n            'v': 0,\n            'f': \"0\",\n        },\n\"attacker\",\n\"portScan\",\n\"1\",\n\"nmap args: -sS -T 1\"],\n [{\n            'v': 436,\n            'f': \"436\",\n        },\n\"2017-03-15 00:03:16.954\",\n{\n            'v': 0.0,\n            'f': \"0.0\",\n        },\n\"TCP  \",\n\"192.168.100.5\",\n{\n            'v': 445,\n            'f': \"445\",\n        },\n\"192.168.220.16\",\n{\n            'v': 58844.0,\n            'f': \"58844.0\",\n        },\n{\n            'v': 1,\n            'f': \"1\",\n        },\n\"     108\",\n{\n            'v': 1,\n            'f': \"1\",\n        },\n\".AP...\",\n{\n            'v': 0,\n            'f': \"0\",\n        },\n\"normal\",\n\"---\",\n\"---\",\n\"---\"],\n [{\n            'v': 472,\n            'f': \"472\",\n        },\n\"2017-03-15 00:03:28.536\",\n{\n            'v': 0.048,\n            'f': \"0.048\",\n        },\n\"TCP  \",\n\"192.168.220.16\",\n{\n            'v': 45702,\n            'f': \"45702\",\n        },\n\"10000_35\",\n{\n            'v': 443.0,\n            'f': \"443.0\",\n        },\n{\n            'v': 5,\n            'f': \"5\",\n        },\n\"     906\",\n{\n            'v': 1,\n            'f': \"1\",\n        },\n\".AP.S.\",\n{\n            'v': 0,\n            'f': \"0\",\n        },\n\"normal\",\n\"---\",\n\"---\",\n\"---\"],\n [{\n            'v': 473,\n            'f': \"473\",\n        },\n\"2017-03-15 00:03:28.537\",\n{\n            'v': 0.047,\n            'f': \"0.047\",\n        },\n\"TCP  \",\n\"192.168.220.16\",\n{\n            'v': 51254,\n            'f': \"51254\",\n        },\n\"10001_232\",\n{\n            'v': 443.0,\n            'f': \"443.0\",\n        },\n{\n            'v': 6,\n            'f': \"6\",\n        },\n\"     972\",\n{\n            'v': 1,\n            'f': \"1\",\n        },\n\".AP.S.\",\n{\n            'v': 0,\n            'f': \"0\",\n        },\n\"normal\",\n\"---\",\n\"---\",\n\"---\"],\n [{\n            'v': 459,\n            'f': \"459\",\n        },\n\"2017-03-15 00:03:28.558\",\n{\n            'v': 0.086,\n            'f': \"0.086\",\n        },\n\"TCP  \",\n\"10000_35\",\n{\n            'v': 443,\n            'f': \"443\",\n        },\n\"192.168.220.16\",\n{\n            'v': 45700.0,\n            'f': \"45700.0\",\n        },\n{\n            'v': 4,\n            'f': \"4\",\n        },\n\"     419\",\n{\n            'v': 1,\n            'f': \"1\",\n        },\n\".AP.S.\",\n{\n            'v': 0,\n            'f': \"0\",\n        },\n\"normal\",\n\"---\",\n\"---\",\n\"---\"],\n [{\n            'v': 467,\n            'f': \"467\",\n        },\n\"2017-03-15 00:03:28.583\",\n{\n            'v': 0.021,\n            'f': \"0.021\",\n        },\n\"TCP  \",\n\"192.168.220.14\",\n{\n            'v': 48380,\n            'f': \"48380\",\n        },\n\"EXT_SERVER\",\n{\n            'v': 8082.0,\n            'f': \"8082.0\",\n        },\n{\n            'v': 2,\n            'f': \"2\",\n        },\n\"     338\",\n{\n            'v': 1,\n            'f': \"1\",\n        },\n\".AP...\",\n{\n            'v': 0,\n            'f': \"0\",\n        },\n\"normal\",\n\"---\",\n\"---\",\n\"---\"],\n [{\n            'v': 457,\n            'f': \"457\",\n        },\n\"2017-03-15 00:03:28.601\",\n{\n            'v': 0.0,\n            'f': \"0.0\",\n        },\n\"TCP  \",\n\"EXT_SERVER\",\n{\n            'v': 8082,\n            'f': \"8082\",\n        },\n\"192.168.220.14\",\n{\n            'v': 48380.0,\n            'f': \"48380.0\",\n        },\n{\n            'v': 1,\n            'f': \"1\",\n        },\n\"     212\",\n{\n            'v': 1,\n            'f': \"1\",\n        },\n\".AP...\",\n{\n            'v': 32,\n            'f': \"32\",\n        },\n\"normal\",\n\"---\",\n\"---\",\n\"---\"],\n [{\n            'v': 479,\n            'f': \"479\",\n        },\n\"2017-03-15 00:03:29.100\",\n{\n            'v': 0.32299999999999995,\n            'f': \"0.32299999999999995\",\n        },\n\"TCP  \",\n\"192.168.220.16\",\n{\n            'v': 54848,\n            'f': \"54848\",\n        },\n\"10007_19\",\n{\n            'v': 80.0,\n            'f': \"80.0\",\n        },\n{\n            'v': 5,\n            'f': \"5\",\n        },\n\"    2407\",\n{\n            'v': 1,\n            'f': \"1\",\n        },\n\".AP.S.\",\n{\n            'v': 0,\n            'f': \"0\",\n        },\n\"normal\",\n\"---\",\n\"---\",\n\"---\"],\n [{\n            'v': 477,\n            'f': \"477\",\n        },\n\"2017-03-15 00:03:29.200\",\n{\n            'v': 0.0,\n            'f': \"0.0\",\n        },\n\"UDP  \",\n\"192.168.220.16\",\n{\n            'v': 56845,\n            'f': \"56845\",\n        },\n\"DNS\",\n{\n            'v': 53.0,\n            'f': \"53.0\",\n        },\n{\n            'v': 2,\n            'f': \"2\",\n        },\n\"     144\",\n{\n            'v': 1,\n            'f': \"1\",\n        },\n\"......\",\n{\n            'v': 0,\n            'f': \"0\",\n        },\n\"normal\",\n\"---\",\n\"---\",\n\"---\"],\n [{\n            'v': 483,\n            'f': \"483\",\n        },\n\"2017-03-15 00:03:31.063\",\n{\n            'v': 0.0,\n            'f': \"0.0\",\n        },\n\"TCP  \",\n\"192.168.100.5\",\n{\n            'v': 445,\n            'f': \"445\",\n        },\n\"192.168.220.13\",\n{\n            'v': 60689.0,\n            'f': \"60689.0\",\n        },\n{\n            'v': 1,\n            'f': \"1\",\n        },\n\"     108\",\n{\n            'v': 1,\n            'f': \"1\",\n        },\n\".AP...\",\n{\n            'v': 0,\n            'f': \"0\",\n        },\n\"normal\",\n\"---\",\n\"---\",\n\"---\"],\n [{\n            'v': 492,\n            'f': \"492\",\n        },\n\"2017-03-15 00:03:36.045\",\n{\n            'v': 0.0,\n            'f': \"0.0\",\n        },\n\"TCP  \",\n\"10000_35\",\n{\n            'v': 443,\n            'f': \"443\",\n        },\n\"192.168.220.16\",\n{\n            'v': 45487.0,\n            'f': \"45487.0\",\n        },\n{\n            'v': 1,\n            'f': \"1\",\n        },\n\"      66\",\n{\n            'v': 1,\n            'f': \"1\",\n        },\n\".A....\",\n{\n            'v': 0,\n            'f': \"0\",\n        },\n\"normal\",\n\"---\",\n\"---\",\n\"---\"],\n [{\n            'v': 503,\n            'f': \"503\",\n        },\n\"2017-03-15 00:03:40.961\",\n{\n            'v': 0.08,\n            'f': \"0.08\",\n        },\n\"TCP  \",\n\"10001_232\",\n{\n            'v': 443,\n            'f': \"443\",\n        },\n\"192.168.220.16\",\n{\n            'v': 51280.0,\n            'f': \"51280.0\",\n        },\n{\n            'v': 5,\n            'f': \"5\",\n        },\n\"     498\",\n{\n            'v': 1,\n            'f': \"1\",\n        },\n\".AP.S.\",\n{\n            'v': 0,\n            'f': \"0\",\n        },\n\"normal\",\n\"---\",\n\"---\",\n\"---\"],\n [{\n            'v': 520,\n            'f': \"520\",\n        },\n\"2017-03-15 00:03:41.765\",\n{\n            'v': 0.0,\n            'f': \"0.0\",\n        },\n\"UDP  \",\n\"192.168.220.16\",\n{\n            'v': 42530,\n            'f': \"42530\",\n        },\n\"DNS\",\n{\n            'v': 53.0,\n            'f': \"53.0\",\n        },\n{\n            'v': 2,\n            'f': \"2\",\n        },\n\"     144\",\n{\n            'v': 1,\n            'f': \"1\",\n        },\n\"......\",\n{\n            'v': 0,\n            'f': \"0\",\n        },\n\"normal\",\n\"---\",\n\"---\",\n\"---\"],\n [{\n            'v': 523,\n            'f': \"523\",\n        },\n\"2017-03-15 00:03:42.084\",\n{\n            'v': 0.0,\n            'f': \"0.0\",\n        },\n\"TCP  \",\n\"EXT_SERVER\",\n{\n            'v': 8082,\n            'f': \"8082\",\n        },\n\"192.168.200.8\",\n{\n            'v': 51089.0,\n            'f': \"51089.0\",\n        },\n{\n            'v': 1,\n            'f': \"1\",\n        },\n\"     200\",\n{\n            'v': 1,\n            'f': \"1\",\n        },\n\".AP...\",\n{\n            'v': 32,\n            'f': \"32\",\n        },\n\"normal\",\n\"---\",\n\"---\",\n\"---\"],\n [{\n            'v': 561,\n            'f': \"561\",\n        },\n\"2017-03-15 00:04:03.481\",\n{\n            'v': 0.047,\n            'f': \"0.047\",\n        },\n\"TCP  \",\n\"192.168.220.16\",\n{\n            'v': 51302,\n            'f': \"51302\",\n        },\n\"10001_232\",\n{\n            'v': 443.0,\n            'f': \"443.0\",\n        },\n{\n            'v': 6,\n            'f': \"6\",\n        },\n\"     972\",\n{\n            'v': 1,\n            'f': \"1\",\n        },\n\".AP.S.\",\n{\n            'v': 0,\n            'f': \"0\",\n        },\n\"normal\",\n\"---\",\n\"---\",\n\"---\"],\n [{\n            'v': 567,\n            'f': \"567\",\n        },\n\"2017-03-15 00:04:03.501\",\n{\n            'v': 0.087,\n            'f': \"0.087\",\n        },\n\"TCP  \",\n\"10000_35\",\n{\n            'v': 443,\n            'f': \"443\",\n        },\n\"192.168.220.16\",\n{\n            'v': 45748.0,\n            'f': \"45748.0\",\n        },\n{\n            'v': 4,\n            'f': \"4\",\n        },\n\"     419\",\n{\n            'v': 1,\n            'f': \"1\",\n        },\n\".AP.S.\",\n{\n            'v': 0,\n            'f': \"0\",\n        },\n\"normal\",\n\"---\",\n\"---\",\n\"---\"],\n [{\n            'v': 580,\n            'f': \"580\",\n        },\n\"2017-03-15 00:04:04.048\",\n{\n            'v': 0.324,\n            'f': \"0.324\",\n        },\n\"TCP  \",\n\"192.168.220.16\",\n{\n            'v': 54896,\n            'f': \"54896\",\n        },\n\"10007_19\",\n{\n            'v': 80.0,\n            'f': \"80.0\",\n        },\n{\n            'v': 5,\n            'f': \"5\",\n        },\n\"    2407\",\n{\n            'v': 1,\n            'f': \"1\",\n        },\n\".AP.S.\",\n{\n            'v': 0,\n            'f': \"0\",\n        },\n\"normal\",\n\"---\",\n\"---\",\n\"---\"],\n [{\n            'v': 575,\n            'f': \"575\",\n        },\n\"2017-03-15 00:04:04.149\",\n{\n            'v': 0.0,\n            'f': \"0.0\",\n        },\n\"UDP  \",\n\"DNS\",\n{\n            'v': 53,\n            'f': \"53\",\n        },\n\"192.168.220.16\",\n{\n            'v': 45611.0,\n            'f': \"45611.0\",\n        },\n{\n            'v': 2,\n            'f': \"2\",\n        },\n\"     565\",\n{\n            'v': 1,\n            'f': \"1\",\n        },\n\"......\",\n{\n            'v': 0,\n            'f': \"0\",\n        },\n\"normal\",\n\"---\",\n\"---\",\n\"---\"],\n [{\n            'v': 591,\n            'f': \"591\",\n        },\n\"2017-03-15 00:04:07.133\",\n{\n            'v': 0.0,\n            'f': \"0.0\",\n        },\n\"TCP  \",\n\"EXT_SERVER\",\n{\n            'v': 8082,\n            'f': \"8082\",\n        },\n\"192.168.220.9\",\n{\n            'v': 50807.0,\n            'f': \"50807.0\",\n        },\n{\n            'v': 1,\n            'f': \"1\",\n        },\n\"     212\",\n{\n            'v': 1,\n            'f': \"1\",\n        },\n\".AP...\",\n{\n            'v': 32,\n            'f': \"32\",\n        },\n\"normal\",\n\"---\",\n\"---\",\n\"---\"],\n [{\n            'v': 598,\n            'f': \"598\",\n        },\n\"2017-03-15 00:04:08.729\",\n{\n            'v': 0.0,\n            'f': \"0.0\",\n        },\n\"TCP  \",\n\"192.168.220.16\",\n{\n            'v': 45061,\n            'f': \"45061\",\n        },\n\"10000_35\",\n{\n            'v': 443.0,\n            'f': \"443.0\",\n        },\n{\n            'v': 1,\n            'f': \"1\",\n        },\n\"      66\",\n{\n            'v': 1,\n            'f': \"1\",\n        },\n\".A....\",\n{\n            'v': 0,\n            'f': \"0\",\n        },\n\"normal\",\n\"---\",\n\"---\",\n\"---\"],\n [{\n            'v': 596,\n            'f': \"596\",\n        },\n\"2017-03-15 00:04:08.951\",\n{\n            'v': 0.0,\n            'f': \"0.0\",\n        },\n\"TCP  \",\n\"192.168.100.5\",\n{\n            'v': 445,\n            'f': \"445\",\n        },\n\"192.168.220.4\",\n{\n            'v': 43145.0,\n            'f': \"43145.0\",\n        },\n{\n            'v': 1,\n            'f': \"1\",\n        },\n\"     108\",\n{\n            'v': 1,\n            'f': \"1\",\n        },\n\".AP...\",\n{\n            'v': 0,\n            'f': \"0\",\n        },\n\"normal\",\n\"---\",\n\"---\",\n\"---\"],\n [{\n            'v': 610,\n            'f': \"610\",\n        },\n\"2017-03-15 00:04:17.035\",\n{\n            'v': 0.0,\n            'f': \"0.0\",\n        },\n\"TCP  \",\n\"192.168.100.5\",\n{\n            'v': 445,\n            'f': \"445\",\n        },\n\"192.168.220.15\",\n{\n            'v': 48888.0,\n            'f': \"48888.0\",\n        },\n{\n            'v': 1,\n            'f': \"1\",\n        },\n\"     108\",\n{\n            'v': 1,\n            'f': \"1\",\n        },\n\".AP...\",\n{\n            'v': 0,\n            'f': \"0\",\n        },\n\"normal\",\n\"---\",\n\"---\",\n\"---\"],\n [{\n            'v': 620,\n            'f': \"620\",\n        },\n\"2017-03-15 00:04:28.588\",\n{\n            'v': 0.018000000000000002,\n            'f': \"0.018000000000000002\",\n        },\n\"TCP  \",\n\"192.168.220.15\",\n{\n            'v': 37039,\n            'f': \"37039\",\n        },\n\"EXT_SERVER\",\n{\n            'v': 8082.0,\n            'f': \"8082.0\",\n        },\n{\n            'v': 2,\n            'f': \"2\",\n        },\n\"     338\",\n{\n            'v': 1,\n            'f': \"1\",\n        },\n\".AP...\",\n{\n            'v': 0,\n            'f': \"0\",\n        },\n\"normal\",\n\"---\",\n\"---\",\n\"---\"],\n [{\n            'v': 624,\n            'f': \"624\",\n        },\n\"2017-03-15 00:04:29.483\",\n{\n            'v': 0.0,\n            'f': \"0.0\",\n        },\n\"TCP  \",\n\"192.168.200.5\",\n{\n            'v': 2910,\n            'f': \"2910\",\n        },\n\"192.168.220.16\",\n{\n            'v': 51357.0,\n            'f': \"51357.0\",\n        },\n{\n            'v': 1,\n            'f': \"1\",\n        },\n\"      54\",\n{\n            'v': 1,\n            'f': \"1\",\n        },\n\".A.R..\",\n{\n            'v': 0,\n            'f': \"0\",\n        },\n\"victim\",\n\"portScan\",\n\"1\",\n\"nmap args: -sS -T 1\"],\n [{\n            'v': 632,\n            'f': \"632\",\n        },\n\"2017-03-15 00:04:29.679\",\n{\n            'v': 0.0,\n            'f': \"0.0\",\n        },\n\"TCP  \",\n\"EXT_SERVER\",\n{\n            'v': 8082,\n            'f': \"8082\",\n        },\n\"192.168.220.14\",\n{\n            'v': 48380.0,\n            'f': \"48380.0\",\n        },\n{\n            'v': 1,\n            'f': \"1\",\n        },\n\"     212\",\n{\n            'v': 1,\n            'f': \"1\",\n        },\n\".AP...\",\n{\n            'v': 32,\n            'f': \"32\",\n        },\n\"normal\",\n\"---\",\n\"---\",\n\"---\"],\n [{\n            'v': 629,\n            'f': \"629\",\n        },\n\"2017-03-15 00:04:29.752\",\n{\n            'v': 0.0,\n            'f': \"0.0\",\n        },\n\"TCP  \",\n\"EXT_SERVER\",\n{\n            'v': 8082,\n            'f': \"8082\",\n        },\n\"192.168.200.9\",\n{\n            'v': 50110.0,\n            'f': \"50110.0\",\n        },\n{\n            'v': 1,\n            'f': \"1\",\n        },\n\"     200\",\n{\n            'v': 1,\n            'f': \"1\",\n        },\n\".AP...\",\n{\n            'v': 32,\n            'f': \"32\",\n        },\n\"normal\",\n\"---\",\n\"---\",\n\"---\"],\n [{\n            'v': 630,\n            'f': \"630\",\n        },\n\"2017-03-15 00:04:29.914\",\n{\n            'v': 0.0,\n            'f': \"0.0\",\n        },\n\"TCP  \",\n\"192.168.100.5\",\n{\n            'v': 445,\n            'f': \"445\",\n        },\n\"192.168.220.14\",\n{\n            'v': 52321.0,\n            'f': \"52321.0\",\n        },\n{\n            'v': 1,\n            'f': \"1\",\n        },\n\"     108\",\n{\n            'v': 1,\n            'f': \"1\",\n        },\n\".AP...\",\n{\n            'v': 0,\n            'f': \"0\",\n        },\n\"normal\",\n\"---\",\n\"---\",\n\"---\"],\n [{\n            'v': 633,\n            'f': \"633\",\n        },\n\"2017-03-15 00:04:30.482\",\n{\n            'v': 0.0,\n            'f': \"0.0\",\n        },\n\"TCP  \",\n\"192.168.220.16\",\n{\n            'v': 51357,\n            'f': \"51357\",\n        },\n\"192.168.200.1\",\n{\n            'v': 55056.0,\n            'f': \"55056.0\",\n        },\n{\n            'v': 1,\n            'f': \"1\",\n        },\n\"      58\",\n{\n            'v': 1,\n            'f': \"1\",\n        },\n\"....S.\",\n{\n            'v': 0,\n            'f': \"0\",\n        },\n\"attacker\",\n\"portScan\",\n\"1\",\n\"nmap args: -sS -T 1\"],\n [{\n            'v': 638,\n            'f': \"638\",\n        },\n\"2017-03-15 00:04:31.223\",\n{\n            'v': 0.005,\n            'f': \"0.005\",\n        },\n\"TCP  \",\n\"192.168.220.13\",\n{\n            'v': 60689,\n            'f': \"60689\",\n        },\n\"192.168.100.5\",\n{\n            'v': 445.0,\n            'f': \"445.0\",\n        },\n{\n            'v': 2,\n            'f': \"2\",\n        },\n\"     174\",\n{\n            'v': 1,\n            'f': \"1\",\n        },\n\".AP...\",\n{\n            'v': 0,\n            'f': \"0\",\n        },\n\"normal\",\n\"---\",\n\"---\",\n\"---\"],\n [{\n            'v': 644,\n            'f': \"644\",\n        },\n\"2017-03-15 00:04:36.314\",\n{\n            'v': 0.0,\n            'f': \"0.0\",\n        },\n\"TCP  \",\n\"192.168.220.16\",\n{\n            'v': 45558,\n            'f': \"45558\",\n        },\n\"10000_35\",\n{\n            'v': 443.0,\n            'f': \"443.0\",\n        },\n{\n            'v': 1,\n            'f': \"1\",\n        },\n\"      66\",\n{\n            'v': 1,\n            'f': \"1\",\n        },\n\".A....\",\n{\n            'v': 0,\n            'f': \"0\",\n        },\n\"normal\",\n\"---\",\n\"---\",\n\"---\"],\n [{\n            'v': 643,\n            'f': \"643\",\n        },\n\"2017-03-15 00:04:36.314\",\n{\n            'v': 0.0,\n            'f': \"0.0\",\n        },\n\"TCP  \",\n\"192.168.220.16\",\n{\n            'v': 45487,\n            'f': \"45487\",\n        },\n\"10000_35\",\n{\n            'v': 443.0,\n            'f': \"443.0\",\n        },\n{\n            'v': 1,\n            'f': \"1\",\n        },\n\"      66\",\n{\n            'v': 1,\n            'f': \"1\",\n        },\n\".A....\",\n{\n            'v': 0,\n            'f': \"0\",\n        },\n\"normal\",\n\"---\",\n\"---\",\n\"---\"],\n [{\n            'v': 642,\n            'f': \"642\",\n        },\n\"2017-03-15 00:04:36.334\",\n{\n            'v': 0.0,\n            'f': \"0.0\",\n        },\n\"TCP  \",\n\"10000_35\",\n{\n            'v': 443,\n            'f': \"443\",\n        },\n\"192.168.220.16\",\n{\n            'v': 45487.0,\n            'f': \"45487.0\",\n        },\n{\n            'v': 1,\n            'f': \"1\",\n        },\n\"      66\",\n{\n            'v': 1,\n            'f': \"1\",\n        },\n\".A....\",\n{\n            'v': 0,\n            'f': \"0\",\n        },\n\"normal\",\n\"---\",\n\"---\",\n\"---\"],\n [{\n            'v': 646,\n            'f': \"646\",\n        },\n\"2017-03-15 00:04:38.163\",\n{\n            'v': 0.0,\n            'f': \"0.0\",\n        },\n\"TCP  \",\n\"EXT_SERVER\",\n{\n            'v': 8082,\n            'f': \"8082\",\n        },\n\"192.168.220.9\",\n{\n            'v': 50807.0,\n            'f': \"50807.0\",\n        },\n{\n            'v': 1,\n            'f': \"1\",\n        },\n\"     212\",\n{\n            'v': 1,\n            'f': \"1\",\n        },\n\".AP...\",\n{\n            'v': 32,\n            'f': \"32\",\n        },\n\"normal\",\n\"---\",\n\"---\",\n\"---\"],\n [{\n            'v': 652,\n            'f': \"652\",\n        },\n\"2017-03-15 00:04:39.473\",\n{\n            'v': 0.047,\n            'f': \"0.047\",\n        },\n\"TCP  \",\n\"EXT_SERVER\",\n{\n            'v': 8000,\n            'f': \"8000\",\n        },\n\"192.168.200.9\",\n{\n            'v': 49887.0,\n            'f': \"49887.0\",\n        },\n{\n            'v': 7,\n            'f': \"7\",\n        },\n\"     654\",\n{\n            'v': 1,\n            'f': \"1\",\n        },\n\".AP.SF\",\n{\n            'v': 32,\n            'f': \"32\",\n        },\n\"normal\",\n\"---\",\n\"---\",\n\"---\"],\n [{\n            'v': 691,\n            'f': \"691\",\n        },\n\"2017-03-15 00:04:44.998\",\n{\n            'v': 2.116,\n            'f': \"2.116\",\n        },\n\"TCP  \",\n\"10002_114\",\n{\n            'v': 443,\n            'f': \"443\",\n        },\n\"192.168.220.16\",\n{\n            'v': 55975.0,\n            'f': \"55975.0\",\n        },\n{\n            'v': 3,\n            'f': \"3\",\n        },\n\"    1143\",\n{\n            'v': 1,\n            'f': \"1\",\n        },\n\".AP...\",\n{\n            'v': 32,\n            'f': \"32\",\n        },\n\"normal\",\n\"---\",\n\"---\",\n\"---\"],\n [{\n            'v': 663,\n            'f': \"663\",\n        },\n\"2017-03-15 00:04:45.883\",\n{\n            'v': 0.204,\n            'f': \"0.204\",\n        },\n\"TCP  \",\n\"10001_232\",\n{\n            'v': 80,\n            'f': \"80\",\n        },\n\"192.168.220.16\",\n{\n            'v': 49955.0,\n            'f': \"49955.0\",\n        },\n{\n            'v': 5,\n            'f': \"5\",\n        },\n\"     771\",\n{\n            'v': 1,\n            'f': \"1\",\n        },\n\".AP.S.\",\n{\n            'v': 0,\n            'f': \"0\",\n        },\n\"normal\",\n\"---\",\n\"---\",\n\"---\"],\n [{\n            'v': 692,\n            'f': \"692\",\n        },\n\"2017-03-15 00:04:46.640\",\n{\n            'v': 0.0,\n            'f': \"0.0\",\n        },\n\"UDP  \",\n\"192.168.220.16\",\n{\n            'v': 59686,\n            'f': \"59686\",\n        },\n\"DNS\",\n{\n            'v': 53.0,\n            'f': \"53.0\",\n        },\n{\n            'v': 1,\n            'f': \"1\",\n        },\n\"      77\",\n{\n            'v': 1,\n            'f': \"1\",\n        },\n\"......\",\n{\n            'v': 0,\n            'f': \"0\",\n        },\n\"normal\",\n\"---\",\n\"---\",\n\"---\"],\n [{\n            'v': 697,\n            'f': \"697\",\n        },\n\"2017-03-15 00:04:46.740\",\n{\n            'v': 0.0,\n            'f': \"0.0\",\n        },\n\"UDP  \",\n\"DNS\",\n{\n            'v': 53,\n            'f': \"53\",\n        },\n\"192.168.220.16\",\n{\n            'v': 33520.0,\n            'f': \"33520.0\",\n        },\n{\n            'v': 2,\n            'f': \"2\",\n        },\n\"     565\",\n{\n            'v': 1,\n            'f': \"1\",\n        },\n\"......\",\n{\n            'v': 0,\n            'f': \"0\",\n        },\n\"normal\",\n\"---\",\n\"---\",\n\"---\"],\n [{\n            'v': 701,\n            'f': \"701\",\n        },\n\"2017-03-15 00:04:48.572\",\n{\n            'v': 0.0,\n            'f': \"0.0\",\n        },\n\"TCP  \",\n\"EXT_SERVER\",\n{\n            'v': 8082,\n            'f': \"8082\",\n        },\n\"192.168.200.4\",\n{\n            'v': 56978.0,\n            'f': \"56978.0\",\n        },\n{\n            'v': 1,\n            'f': \"1\",\n        },\n\"     212\",\n{\n            'v': 1,\n            'f': \"1\",\n        },\n\".AP...\",\n{\n            'v': 32,\n            'f': \"32\",\n        },\n\"normal\",\n\"---\",\n\"---\",\n\"---\"],\n [{\n            'v': 745,\n            'f': \"745\",\n        },\n\"2017-03-15 00:05:04.419\",\n{\n            'v': 0.045,\n            'f': \"0.045\",\n        },\n\"TCP  \",\n\"192.168.220.16\",\n{\n            'v': 45795,\n            'f': \"45795\",\n        },\n\"10000_35\",\n{\n            'v': 443.0,\n            'f': \"443.0\",\n        },\n{\n            'v': 5,\n            'f': \"5\",\n        },\n\"     906\",\n{\n            'v': 1,\n            'f': \"1\",\n        },\n\".AP.S.\",\n{\n            'v': 0,\n            'f': \"0\",\n        },\n\"normal\",\n\"---\",\n\"---\",\n\"---\"],\n [{\n            'v': 760,\n            'f': \"760\",\n        },\n\"2017-03-15 00:05:07.238\",\n{\n            'v': 0.0,\n            'f': \"0.0\",\n        },\n\"UDP  \",\n\"192.168.220.3\",\n{\n            'v': 137,\n            'f': \"137\",\n        },\n\"192.168.220.255\",\n{\n            'v': 137.0,\n            'f': \"137.0\",\n        },\n{\n            'v': 1,\n            'f': \"1\",\n        },\n\"      92\",\n{\n            'v': 1,\n            'f': \"1\",\n        },\n\"......\",\n{\n            'v': 0,\n            'f': \"0\",\n        },\n\"normal\",\n\"---\",\n\"---\",\n\"---\"],\n [{\n            'v': 769,\n            'f': \"769\",\n        },\n\"2017-03-15 00:05:09.172\",\n{\n            'v': 0.019,\n            'f': \"0.019\",\n        },\n\"TCP  \",\n\"192.168.220.9\",\n{\n            'v': 50807,\n            'f': \"50807\",\n        },\n\"EXT_SERVER\",\n{\n            'v': 8082.0,\n            'f': \"8082.0\",\n        },\n{\n            'v': 2,\n            'f': \"2\",\n        },\n\"     338\",\n{\n            'v': 1,\n            'f': \"1\",\n        },\n\".AP...\",\n{\n            'v': 0,\n            'f': \"0\",\n        },\n\"normal\",\n\"---\",\n\"---\",\n\"---\"],\n [{\n            'v': 784,\n            'f': \"784\",\n        },\n\"2017-03-15 00:05:17.196\",\n{\n            'v': 0.0,\n            'f': \"0.0\",\n        },\n\"TCP  \",\n\"192.168.100.5\",\n{\n            'v': 445,\n            'f': \"445\",\n        },\n\"192.168.220.15\",\n{\n            'v': 48888.0,\n            'f': \"48888.0\",\n        },\n{\n            'v': 1,\n            'f': \"1\",\n        },\n\"     108\",\n{\n            'v': 1,\n            'f': \"1\",\n        },\n\".AP...\",\n{\n            'v': 0,\n            'f': \"0\",\n        },\n\"normal\",\n\"---\",\n\"---\",\n\"---\"],\n [{\n            'v': 783,\n            'f': \"783\",\n        },\n\"2017-03-15 00:05:17.276\",\n{\n            'v': 0.0,\n            'f': \"0.0\",\n        },\n\"TCP  \",\n\"192.168.100.5\",\n{\n            'v': 445,\n            'f': \"445\",\n        },\n\"192.168.220.16\",\n{\n            'v': 58844.0,\n            'f': \"58844.0\",\n        },\n{\n            'v': 1,\n            'f': \"1\",\n        },\n\"     108\",\n{\n            'v': 1,\n            'f': \"1\",\n        },\n\".AP...\",\n{\n            'v': 0,\n            'f': \"0\",\n        },\n\"normal\",\n\"---\",\n\"---\",\n\"---\"],\n [{\n            'v': 804,\n            'f': \"804\",\n        },\n\"2017-03-15 00:05:31.762\",\n{\n            'v': 0.0,\n            'f': \"0.0\",\n        },\n\"TCP  \",\n\"EXT_SERVER\",\n{\n            'v': 8082,\n            'f': \"8082\",\n        },\n\"192.168.220.14\",\n{\n            'v': 48380.0,\n            'f': \"48380.0\",\n        },\n{\n            'v': 1,\n            'f': \"1\",\n        },\n\"     212\",\n{\n            'v': 1,\n            'f': \"1\",\n        },\n\".AP...\",\n{\n            'v': 32,\n            'f': \"32\",\n        },\n\"normal\",\n\"---\",\n\"---\",\n\"---\"],\n [{\n            'v': 819,\n            'f': \"819\",\n        },\n\"2017-03-15 00:05:34.815\",\n{\n            'v': 0.048,\n            'f': \"0.048\",\n        },\n\"TCP  \",\n\"192.168.220.16\",\n{\n            'v': 45819,\n            'f': \"45819\",\n        },\n\"10000_35\",\n{\n            'v': 443.0,\n            'f': \"443.0\",\n        },\n{\n            'v': 5,\n            'f': \"5\",\n        },\n\"     906\",\n{\n            'v': 1,\n            'f': \"1\",\n        },\n\".AP.S.\",\n{\n            'v': 0,\n            'f': \"0\",\n        },\n\"normal\",\n\"---\",\n\"---\",\n\"---\"],\n [{\n            'v': 811,\n            'f': \"811\",\n        },\n\"2017-03-15 00:05:34.868\",\n{\n            'v': 0.087,\n            'f': \"0.087\",\n        },\n\"TCP  \",\n\"10001_232\",\n{\n            'v': 443,\n            'f': \"443\",\n        },\n\"192.168.220.16\",\n{\n            'v': 51377.0,\n            'f': \"51377.0\",\n        },\n{\n            'v': 5,\n            'f': \"5\",\n        },\n\"     498\",\n{\n            'v': 1,\n            'f': \"1\",\n        },\n\".AP.S.\",\n{\n            'v': 0,\n            'f': \"0\",\n        },\n\"normal\",\n\"---\",\n\"---\",\n\"---\"],\n [{\n            'v': 810,\n            'f': \"810\",\n        },\n\"2017-03-15 00:05:34.895\",\n{\n            'v': 0.084,\n            'f': \"0.084\",\n        },\n\"TCP  \",\n\"10001_232\",\n{\n            'v': 443,\n            'f': \"443\",\n        },\n\"192.168.220.16\",\n{\n            'v': 51378.0,\n            'f': \"51378.0\",\n        },\n{\n            'v': 5,\n            'f': \"5\",\n        },\n\"     498\",\n{\n            'v': 1,\n            'f': \"1\",\n        },\n\".AP.S.\",\n{\n            'v': 0,\n            'f': \"0\",\n        },\n\"normal\",\n\"---\",\n\"---\",\n\"---\"],\n [{\n            'v': 825,\n            'f': \"825\",\n        },\n\"2017-03-15 00:05:35.497\",\n{\n            'v': 0.0,\n            'f': \"0.0\",\n        },\n\"UDP  \",\n\"DNS\",\n{\n            'v': 53,\n            'f': \"53\",\n        },\n\"192.168.220.16\",\n{\n            'v': 47797.0,\n            'f': \"47797.0\",\n        },\n{\n            'v': 2,\n            'f': \"2\",\n        },\n\"     565\",\n{\n            'v': 1,\n            'f': \"1\",\n        },\n\"......\",\n{\n            'v': 0,\n            'f': \"0\",\n        },\n\"normal\",\n\"---\",\n\"---\",\n\"---\"],\n [{\n            'v': 836,\n            'f': \"836\",\n        },\n\"2017-03-15 00:05:36.282\",\n{\n            'v': 0.0,\n            'f': \"0.0\",\n        },\n\"TCP  \",\n\"192.168.220.16\",\n{\n            'v': 49955,\n            'f': \"49955\",\n        },\n\"10001_232\",\n{\n            'v': 80.0,\n            'f': \"80.0\",\n        },\n{\n            'v': 1,\n            'f': \"1\",\n        },\n\"      66\",\n{\n            'v': 1,\n            'f': \"1\",\n        },\n\".A....\",\n{\n            'v': 0,\n            'f': \"0\",\n        },\n\"normal\",\n\"---\",\n\"---\",\n\"---\"],\n [{\n            'v': 835,\n            'f': \"835\",\n        },\n\"2017-03-15 00:05:36.303\",\n{\n            'v': 0.0,\n            'f': \"0.0\",\n        },\n\"TCP  \",\n\"10001_232\",\n{\n            'v': 80,\n            'f': \"80\",\n        },\n\"192.168.220.16\",\n{\n            'v': 49955.0,\n            'f': \"49955.0\",\n        },\n{\n            'v': 1,\n            'f': \"1\",\n        },\n\"      66\",\n{\n            'v': 1,\n            'f': \"1\",\n        },\n\".A....\",\n{\n            'v': 0,\n            'f': \"0\",\n        },\n\"normal\",\n\"---\",\n\"---\",\n\"---\"],\n [{\n            'v': 846,\n            'f': \"846\",\n        },\n\"2017-03-15 00:05:46.221\",\n{\n            'v': 0.018000000000000002,\n            'f': \"0.018000000000000002\",\n        },\n\"TCP  \",\n\"192.168.220.16\",\n{\n            'v': 60802,\n            'f': \"60802\",\n        },\n\"EXT_SERVER\",\n{\n            'v': 8082.0,\n            'f': \"8082.0\",\n        },\n{\n            'v': 2,\n            'f': \"2\",\n        },\n\"     338\",\n{\n            'v': 1,\n            'f': \"1\",\n        },\n\".AP...\",\n{\n            'v': 0,\n            'f': \"0\",\n        },\n\"normal\",\n\"---\",\n\"---\",\n\"---\"],\n [{\n            'v': 852,\n            'f': \"852\",\n        },\n\"2017-03-15 00:05:48.640\",\n{\n            'v': 0.055,\n            'f': \"0.055\",\n        },\n\"TCP  \",\n\"192.168.200.8\",\n{\n            'v': 62953,\n            'f': \"62953\",\n        },\n\"EXT_SERVER\",\n{\n            'v': 8000.0,\n            'f': \"8000.0\",\n        },\n{\n            'v': 6,\n            'f': \"6\",\n        },\n\"     575\",\n{\n            'v': 1,\n            'f': \"1\",\n        },\n\".AP.SF\",\n{\n            'v': 0,\n            'f': \"0\",\n        },\n\"normal\",\n\"---\",\n\"---\",\n\"---\"],\n [{\n            'v': 863,\n            'f': \"863\",\n        },\n\"2017-03-15 00:06:00.702\",\n{\n            'v': 0.0,\n            'f': \"0.0\",\n        },\n\"TCP  \",\n\"EXT_SERVER\",\n{\n            'v': 8082,\n            'f': \"8082\",\n        },\n\"192.168.220.15\",\n{\n            'v': 37039.0,\n            'f': \"37039.0\",\n        },\n{\n            'v': 1,\n            'f': \"1\",\n        },\n\"     212\",\n{\n            'v': 1,\n            'f': \"1\",\n        },\n\".AP...\",\n{\n            'v': 32,\n            'f': \"32\",\n        },\n\"normal\",\n\"---\",\n\"---\",\n\"---\"],\n [{\n            'v': 879,\n            'f': \"879\",\n        },\n\"2017-03-15 00:06:09.273\",\n{\n            'v': 0.0,\n            'f': \"0.0\",\n        },\n\"TCP  \",\n\"192.168.100.5\",\n{\n            'v': 445,\n            'f': \"445\",\n        },\n\"192.168.220.4\",\n{\n            'v': 43145.0,\n            'f': \"43145.0\",\n        },\n{\n            'v': 1,\n            'f': \"1\",\n        },\n\"     108\",\n{\n            'v': 1,\n            'f': \"1\",\n        },\n\".AP...\",\n{\n            'v': 0,\n            'f': \"0\",\n        },\n\"normal\",\n\"---\",\n\"---\",\n\"---\"],\n [{\n            'v': 904,\n            'f': \"904\",\n        },\n\"2017-03-15 00:06:10.200\",\n{\n            'v': 0.051,\n            'f': \"0.051\",\n        },\n\"TCP  \",\n\"192.168.220.16\",\n{\n            'v': 45850,\n            'f': \"45850\",\n        },\n\"10000_35\",\n{\n            'v': 443.0,\n            'f': \"443.0\",\n        },\n{\n            'v': 5,\n            'f': \"5\",\n        },\n\"     906\",\n{\n            'v': 1,\n            'f': \"1\",\n        },\n\".AP.S.\",\n{\n            'v': 0,\n            'f': \"0\",\n        },\n\"normal\",\n\"---\",\n\"---\",\n\"---\"],\n [{\n            'v': 893,\n            'f': \"893\",\n        },\n\"2017-03-15 00:06:10.205\",\n{\n            'v': 0.035,\n            'f': \"0.035\",\n        },\n\"UDP  \",\n\"DNS\",\n{\n            'v': 53,\n            'f': \"53\",\n        },\n\"192.168.220.16\",\n{\n            'v': 41567.0,\n            'f': \"41567.0\",\n        },\n{\n            'v': 2,\n            'f': \"2\",\n        },\n\"     388\",\n{\n            'v': 1,\n            'f': \"1\",\n        },\n\"......\",\n{\n            'v': 0,\n            'f': \"0\",\n        },\n\"normal\",\n\"---\",\n\"---\",\n\"---\"],\n [{\n            'v': 899,\n            'f': \"899\",\n        },\n\"2017-03-15 00:06:10.225\",\n{\n            'v': 0.05,\n            'f': \"0.05\",\n        },\n\"TCP  \",\n\"192.168.220.16\",\n{\n            'v': 45851,\n            'f': \"45851\",\n        },\n\"10000_35\",\n{\n            'v': 443.0,\n            'f': \"443.0\",\n        },\n{\n            'v': 5,\n            'f': \"5\",\n        },\n\"     906\",\n{\n            'v': 1,\n            'f': \"1\",\n        },\n\".AP.S.\",\n{\n            'v': 0,\n            'f': \"0\",\n        },\n\"normal\",\n\"---\",\n\"---\",\n\"---\"],\n [{\n            'v': 909,\n            'f': \"909\",\n        },\n\"2017-03-15 00:06:10.876\",\n{\n            'v': 0.0,\n            'f': \"0.0\",\n        },\n\"UDP  \",\n\"DNS\",\n{\n            'v': 53,\n            'f': \"53\",\n        },\n\"192.168.220.16\",\n{\n            'v': 36031.0,\n            'f': \"36031.0\",\n        },\n{\n            'v': 2,\n            'f': \"2\",\n        },\n\"     565\",\n{\n            'v': 1,\n            'f': \"1\",\n        },\n\"......\",\n{\n            'v': 0,\n            'f': \"0\",\n        },\n\"normal\",\n\"---\",\n\"---\",\n\"---\"],\n [{\n            'v': 954,\n            'f': \"954\",\n        },\n\"2017-03-15 00:06:21.221\",\n{\n            'v': 0.32299999999999995,\n            'f': \"0.32299999999999995\",\n        },\n\"TCP  \",\n\"192.168.220.16\",\n{\n            'v': 48573,\n            'f': \"48573\",\n        },\n\"10003_195\",\n{\n            'v': 80.0,\n            'f': \"80.0\",\n        },\n{\n            'v': 5,\n            'f': \"5\",\n        },\n\"    2408\",\n{\n            'v': 1,\n            'f': \"1\",\n        },\n\".AP.S.\",\n{\n            'v': 0,\n            'f': \"0\",\n        },\n\"normal\",\n\"---\",\n\"---\",\n\"---\"],\n [{\n            'v': 947,\n            'f': \"947\",\n        },\n\"2017-03-15 00:06:21.349\",\n{\n            'v': 0.0,\n            'f': \"0.0\",\n        },\n\"UDP  \",\n\"DNS\",\n{\n            'v': 53,\n            'f': \"53\",\n        },\n\"192.168.220.16\",\n{\n            'v': 42319.0,\n            'f': \"42319.0\",\n        },\n{\n            'v': 2,\n            'f': \"2\",\n        },\n\"     565\",\n{\n            'v': 1,\n            'f': \"1\",\n        },\n\"......\",\n{\n            'v': 0,\n            'f': \"0\",\n        },\n\"normal\",\n\"---\",\n\"---\",\n\"---\"],\n [{\n            'v': 949,\n            'f': \"949\",\n        },\n\"2017-03-15 00:06:21.575\",\n{\n            'v': 0.0,\n            'f': \"0.0\",\n        },\n\"UDP  \",\n\"DNS\",\n{\n            'v': 53,\n            'f': \"53\",\n        },\n\"192.168.220.16\",\n{\n            'v': 49715.0,\n            'f': \"49715.0\",\n        },\n{\n            'v': 2,\n            'f': \"2\",\n        },\n\"     565\",\n{\n            'v': 1,\n            'f': \"1\",\n        },\n\"......\",\n{\n            'v': 0,\n            'f': \"0\",\n        },\n\"normal\",\n\"---\",\n\"---\",\n\"---\"],\n [{\n            'v': 953,\n            'f': \"953\",\n        },\n\"2017-03-15 00:06:21.654\",\n{\n            'v': 0.018000000000000002,\n            'f': \"0.018000000000000002\",\n        },\n\"TCP  \",\n\"192.168.200.4\",\n{\n            'v': 56979,\n            'f': \"56979\",\n        },\n\"EXT_SERVER\",\n{\n            'v': 8082.0,\n            'f': \"8082.0\",\n        },\n{\n            'v': 2,\n            'f': \"2\",\n        },\n\"     338\",\n{\n            'v': 1,\n            'f': \"1\",\n        },\n\".AP...\",\n{\n            'v': 0,\n            'f': \"0\",\n        },\n\"normal\",\n\"---\",\n\"---\",\n\"---\"]],\n        columns: [[\"number\", \"index\"], [\"string\", \"Date first seen\"], [\"number\", \"Duration\"], [\"string\", \"Proto\"], [\"string\", \"Src IP Addr\"], [\"number\", \"Src Pt\"], [\"string\", \"Dst IP Addr\"], [\"number\", \"Dst Pt\"], [\"number\", \"Packets\"], [\"string\", \"Bytes\"], [\"number\", \"Flows\"], [\"string\", \"Flags\"], [\"number\", \"Tos\"], [\"string\", \"class\"], [\"string\", \"attackType\"], [\"string\", \"attackID\"], [\"string\", \"attackDescription\"]],\n        columnOptions: [{\"width\": \"1px\", \"className\": \"index_column\"}],\n        rowsPerPage: 25,\n        helpUrl: \"https://colab.research.google.com/notebooks/data_table.ipynb\",\n      });\n    ",
            "text/html": [
              "<div>\n",
              "<style scoped>\n",
              "    .dataframe tbody tr th:only-of-type {\n",
              "        vertical-align: middle;\n",
              "    }\n",
              "\n",
              "    .dataframe tbody tr th {\n",
              "        vertical-align: top;\n",
              "    }\n",
              "\n",
              "    .dataframe thead th {\n",
              "        text-align: right;\n",
              "    }\n",
              "</style>\n",
              "<table border=\"1\" class=\"dataframe\">\n",
              "  <thead>\n",
              "    <tr style=\"text-align: right;\">\n",
              "      <th></th>\n",
              "      <th>Date first seen</th>\n",
              "      <th>Duration</th>\n",
              "      <th>Proto</th>\n",
              "      <th>Src IP Addr</th>\n",
              "      <th>Src Pt</th>\n",
              "      <th>Dst IP Addr</th>\n",
              "      <th>Dst Pt</th>\n",
              "      <th>Packets</th>\n",
              "      <th>Bytes</th>\n",
              "      <th>Flows</th>\n",
              "      <th>Flags</th>\n",
              "      <th>Tos</th>\n",
              "      <th>class</th>\n",
              "      <th>attackType</th>\n",
              "      <th>attackID</th>\n",
              "      <th>attackDescription</th>\n",
              "    </tr>\n",
              "  </thead>\n",
              "  <tbody>\n",
              "    <tr>\n",
              "      <th>23</th>\n",
              "      <td>2017-03-15 00:01:17.728</td>\n",
              "      <td>0.047</td>\n",
              "      <td>TCP</td>\n",
              "      <td>192.168.220.16</td>\n",
              "      <td>45586</td>\n",
              "      <td>10000_35</td>\n",
              "      <td>443.0</td>\n",
              "      <td>5</td>\n",
              "      <td>906</td>\n",
              "      <td>1</td>\n",
              "      <td>.AP.S.</td>\n",
              "      <td>0</td>\n",
              "      <td>normal</td>\n",
              "      <td>---</td>\n",
              "      <td>---</td>\n",
              "      <td>---</td>\n",
              "    </tr>\n",
              "    <tr>\n",
              "      <th>36</th>\n",
              "      <td>2017-03-15 00:01:18.457</td>\n",
              "      <td>0.170</td>\n",
              "      <td>TCP</td>\n",
              "      <td>10003_195</td>\n",
              "      <td>80</td>\n",
              "      <td>192.168.220.16</td>\n",
              "      <td>48286.0</td>\n",
              "      <td>3</td>\n",
              "      <td>908</td>\n",
              "      <td>1</td>\n",
              "      <td>.AP.S.</td>\n",
              "      <td>32</td>\n",
              "      <td>normal</td>\n",
              "      <td>---</td>\n",
              "      <td>---</td>\n",
              "      <td>---</td>\n",
              "    </tr>\n",
              "    <tr>\n",
              "      <th>30</th>\n",
              "      <td>2017-03-15 00:01:18.511</td>\n",
              "      <td>0.003</td>\n",
              "      <td>TCP</td>\n",
              "      <td>10002_113</td>\n",
              "      <td>443</td>\n",
              "      <td>192.168.220.16</td>\n",
              "      <td>49062.0</td>\n",
              "      <td>2</td>\n",
              "      <td>1089</td>\n",
              "      <td>1</td>\n",
              "      <td>.AP...</td>\n",
              "      <td>32</td>\n",
              "      <td>normal</td>\n",
              "      <td>---</td>\n",
              "      <td>---</td>\n",
              "      <td>---</td>\n",
              "    </tr>\n",
              "    <tr>\n",
              "      <th>46</th>\n",
              "      <td>2017-03-15 00:01:22.400</td>\n",
              "      <td>0.000</td>\n",
              "      <td>TCP</td>\n",
              "      <td>EXT_SERVER</td>\n",
              "      <td>8082</td>\n",
              "      <td>192.168.220.15</td>\n",
              "      <td>37039.0</td>\n",
              "      <td>1</td>\n",
              "      <td>212</td>\n",
              "      <td>1</td>\n",
              "      <td>.AP...</td>\n",
              "      <td>32</td>\n",
              "      <td>normal</td>\n",
              "      <td>---</td>\n",
              "      <td>---</td>\n",
              "      <td>---</td>\n",
              "    </tr>\n",
              "    <tr>\n",
              "      <th>51</th>\n",
              "      <td>2017-03-15 00:01:24.152</td>\n",
              "      <td>0.266</td>\n",
              "      <td>TCP</td>\n",
              "      <td>192.168.200.9</td>\n",
              "      <td>52290</td>\n",
              "      <td>EXT_SERVER</td>\n",
              "      <td>8082.0</td>\n",
              "      <td>2</td>\n",
              "      <td>319</td>\n",
              "      <td>1</td>\n",
              "      <td>.AP...</td>\n",
              "      <td>0</td>\n",
              "      <td>normal</td>\n",
              "      <td>---</td>\n",
              "      <td>---</td>\n",
              "      <td>---</td>\n",
              "    </tr>\n",
              "    <tr>\n",
              "      <th>...</th>\n",
              "      <td>...</td>\n",
              "      <td>...</td>\n",
              "      <td>...</td>\n",
              "      <td>...</td>\n",
              "      <td>...</td>\n",
              "      <td>...</td>\n",
              "      <td>...</td>\n",
              "      <td>...</td>\n",
              "      <td>...</td>\n",
              "      <td>...</td>\n",
              "      <td>...</td>\n",
              "      <td>...</td>\n",
              "      <td>...</td>\n",
              "      <td>...</td>\n",
              "      <td>...</td>\n",
              "      <td>...</td>\n",
              "    </tr>\n",
              "    <tr>\n",
              "      <th>909</th>\n",
              "      <td>2017-03-15 00:06:10.876</td>\n",
              "      <td>0.000</td>\n",
              "      <td>UDP</td>\n",
              "      <td>DNS</td>\n",
              "      <td>53</td>\n",
              "      <td>192.168.220.16</td>\n",
              "      <td>36031.0</td>\n",
              "      <td>2</td>\n",
              "      <td>565</td>\n",
              "      <td>1</td>\n",
              "      <td>......</td>\n",
              "      <td>0</td>\n",
              "      <td>normal</td>\n",
              "      <td>---</td>\n",
              "      <td>---</td>\n",
              "      <td>---</td>\n",
              "    </tr>\n",
              "    <tr>\n",
              "      <th>954</th>\n",
              "      <td>2017-03-15 00:06:21.221</td>\n",
              "      <td>0.323</td>\n",
              "      <td>TCP</td>\n",
              "      <td>192.168.220.16</td>\n",
              "      <td>48573</td>\n",
              "      <td>10003_195</td>\n",
              "      <td>80.0</td>\n",
              "      <td>5</td>\n",
              "      <td>2408</td>\n",
              "      <td>1</td>\n",
              "      <td>.AP.S.</td>\n",
              "      <td>0</td>\n",
              "      <td>normal</td>\n",
              "      <td>---</td>\n",
              "      <td>---</td>\n",
              "      <td>---</td>\n",
              "    </tr>\n",
              "    <tr>\n",
              "      <th>947</th>\n",
              "      <td>2017-03-15 00:06:21.349</td>\n",
              "      <td>0.000</td>\n",
              "      <td>UDP</td>\n",
              "      <td>DNS</td>\n",
              "      <td>53</td>\n",
              "      <td>192.168.220.16</td>\n",
              "      <td>42319.0</td>\n",
              "      <td>2</td>\n",
              "      <td>565</td>\n",
              "      <td>1</td>\n",
              "      <td>......</td>\n",
              "      <td>0</td>\n",
              "      <td>normal</td>\n",
              "      <td>---</td>\n",
              "      <td>---</td>\n",
              "      <td>---</td>\n",
              "    </tr>\n",
              "    <tr>\n",
              "      <th>949</th>\n",
              "      <td>2017-03-15 00:06:21.575</td>\n",
              "      <td>0.000</td>\n",
              "      <td>UDP</td>\n",
              "      <td>DNS</td>\n",
              "      <td>53</td>\n",
              "      <td>192.168.220.16</td>\n",
              "      <td>49715.0</td>\n",
              "      <td>2</td>\n",
              "      <td>565</td>\n",
              "      <td>1</td>\n",
              "      <td>......</td>\n",
              "      <td>0</td>\n",
              "      <td>normal</td>\n",
              "      <td>---</td>\n",
              "      <td>---</td>\n",
              "      <td>---</td>\n",
              "    </tr>\n",
              "    <tr>\n",
              "      <th>953</th>\n",
              "      <td>2017-03-15 00:06:21.654</td>\n",
              "      <td>0.018</td>\n",
              "      <td>TCP</td>\n",
              "      <td>192.168.200.4</td>\n",
              "      <td>56979</td>\n",
              "      <td>EXT_SERVER</td>\n",
              "      <td>8082.0</td>\n",
              "      <td>2</td>\n",
              "      <td>338</td>\n",
              "      <td>1</td>\n",
              "      <td>.AP...</td>\n",
              "      <td>0</td>\n",
              "      <td>normal</td>\n",
              "      <td>---</td>\n",
              "      <td>---</td>\n",
              "      <td>---</td>\n",
              "    </tr>\n",
              "  </tbody>\n",
              "</table>\n",
              "<p>100 rows × 16 columns</p>\n",
              "</div>"
            ],
            "text/plain": [
              "             Date first seen  Duration  ... attackID attackDescription\n",
              "23   2017-03-15 00:01:17.728     0.047  ...      ---               ---\n",
              "36   2017-03-15 00:01:18.457     0.170  ...      ---               ---\n",
              "30   2017-03-15 00:01:18.511     0.003  ...      ---               ---\n",
              "46   2017-03-15 00:01:22.400     0.000  ...      ---               ---\n",
              "51   2017-03-15 00:01:24.152     0.266  ...      ---               ---\n",
              "..                       ...       ...  ...      ...               ...\n",
              "909  2017-03-15 00:06:10.876     0.000  ...      ---               ---\n",
              "954  2017-03-15 00:06:21.221     0.323  ...      ---               ---\n",
              "947  2017-03-15 00:06:21.349     0.000  ...      ---               ---\n",
              "949  2017-03-15 00:06:21.575     0.000  ...      ---               ---\n",
              "953  2017-03-15 00:06:21.654     0.018  ...      ---               ---\n",
              "\n",
              "[100 rows x 16 columns]"
            ]
          },
          "metadata": {
            "tags": []
          },
          "execution_count": 3
        }
      ]
    },
    {
      "cell_type": "markdown",
      "metadata": {
        "id": "PGITLdtJ_wq0",
        "colab_type": "text"
      },
      "source": [
        "### Describe the data:\n",
        "- How many columns and how many rows are there?"
      ]
    },
    {
      "cell_type": "code",
      "metadata": {
        "id": "gjcyX-at_wq0",
        "colab_type": "code",
        "outputId": "bc63fb64-4611-46c2-c036-5b696dffb5e4",
        "colab": {
          "base_uri": "https://localhost:8080/",
          "height": 35
        }
      },
      "source": [
        "print(\"Number of rows =\", len(df.index)) ## or print(\"Number of rows =\", df.shape[0])"
      ],
      "execution_count": 4,
      "outputs": [
        {
          "output_type": "stream",
          "text": [
            "Number of rows = 845152\n"
          ],
          "name": "stdout"
        }
      ]
    },
    {
      "cell_type": "code",
      "metadata": {
        "id": "L3HqxmGY_wq0",
        "colab_type": "code",
        "outputId": "68aac490-1c0e-4a32-e694-d5baced37515",
        "colab": {
          "base_uri": "https://localhost:8080/",
          "height": 35
        }
      },
      "source": [
        "print(\"Number of columns =\", len(df.columns)) ## or df.shape[1]"
      ],
      "execution_count": 5,
      "outputs": [
        {
          "output_type": "stream",
          "text": [
            "Number of columns = 16\n"
          ],
          "name": "stdout"
        }
      ]
    },
    {
      "cell_type": "markdown",
      "metadata": {
        "id": "N5mCE6sJNCjA",
        "colab_type": "text"
      },
      "source": [
        "- How many unique values does the 'class' attribute take?\n"
      ]
    },
    {
      "cell_type": "code",
      "metadata": {
        "id": "iR70nPNLQOWw",
        "colab_type": "code",
        "outputId": "f183fa5c-0ade-490e-fb97-97904380a40e",
        "colab": {
          "base_uri": "https://localhost:8080/",
          "height": 53
        }
      },
      "source": [
        "print(\"Number of unique values =\", len(df['class'].unique()))\n",
        "print(\"Unique values =\", df['class'].unique())"
      ],
      "execution_count": 6,
      "outputs": [
        {
          "output_type": "stream",
          "text": [
            "Number of unique values = 3\n",
            "Unique values = ['normal' 'attacker' 'victim']\n"
          ],
          "name": "stdout"
        }
      ]
    },
    {
      "cell_type": "markdown",
      "metadata": {
        "id": "08h85K97QPQk",
        "colab_type": "text"
      },
      "source": [
        "- How many rows are there for each unique value of the class attribute?\n"
      ]
    },
    {
      "cell_type": "code",
      "metadata": {
        "id": "tAX8VGWfRbxc",
        "colab_type": "code",
        "outputId": "3c06c316-15ab-496f-f939-0d2a70af5c80",
        "colab": {
          "base_uri": "https://localhost:8080/",
          "height": 90
        }
      },
      "source": [
        "print(df['class'].value_counts())"
      ],
      "execution_count": 7,
      "outputs": [
        {
          "output_type": "stream",
          "text": [
            "normal      700513\n",
            "attacker     75124\n",
            "victim       69515\n",
            "Name: class, dtype: int64\n"
          ],
          "name": "stdout"
        }
      ]
    },
    {
      "cell_type": "markdown",
      "metadata": {
        "id": "bIyc01kbRkg0",
        "colab_type": "text"
      },
      "source": [
        "- What unique values does the 'attackType' attribute take on?\n"
      ]
    },
    {
      "cell_type": "code",
      "metadata": {
        "id": "Ty8OUOPuSUGI",
        "colab_type": "code",
        "outputId": "cdd5b8a1-21dd-436a-edec-59b9c45a5389",
        "colab": {
          "base_uri": "https://localhost:8080/",
          "height": 53
        }
      },
      "source": [
        "print(\"Number of unique values =\", len(df['attackType'].unique()))\n",
        "print(\"Unique values =\", df['attackType'].unique())"
      ],
      "execution_count": 8,
      "outputs": [
        {
          "output_type": "stream",
          "text": [
            "Number of unique values = 5\n",
            "Unique values = ['---' 'portScan' 'dos' 'pingScan' 'bruteForce']\n"
          ],
          "name": "stdout"
        }
      ]
    },
    {
      "cell_type": "markdown",
      "metadata": {
        "id": "Fortq7ieSfxA",
        "colab_type": "text"
      },
      "source": [
        "- List the count of each of the possible attack types."
      ]
    },
    {
      "cell_type": "code",
      "metadata": {
        "id": "XeXkyENKSiWo",
        "colab_type": "code",
        "outputId": "b2eb3579-3b05-403a-8bda-1b7708a52184",
        "colab": {
          "base_uri": "https://localhost:8080/",
          "height": 126
        }
      },
      "source": [
        "print(df['attackType'].value_counts())"
      ],
      "execution_count": 9,
      "outputs": [
        {
          "output_type": "stream",
          "text": [
            "---           700513\n",
            "dos           125430\n",
            "portScan       18686\n",
            "pingScan         355\n",
            "bruteForce       168\n",
            "Name: attackType, dtype: int64\n"
          ],
          "name": "stdout"
        }
      ]
    },
    {
      "cell_type": "markdown",
      "metadata": {
        "id": "5HdXVYi7_wq0",
        "colab_type": "text"
      },
      "source": [
        "### Have a look at the other columns:\n",
        "- Which columns contain numeric values?\n"
      ]
    },
    {
      "cell_type": "code",
      "metadata": {
        "id": "qS_KW2Rm_wq0",
        "colab_type": "code",
        "outputId": "3017026f-7166-441d-8a1e-bd2c2348de80",
        "colab": {
          "base_uri": "https://localhost:8080/",
          "height": 35
        }
      },
      "source": [
        "numerics = ['int16', 'int32', 'int64', 'float16', 'float32', 'float64']\n",
        "\n",
        "df.select_dtypes(include=numerics).columns"
      ],
      "execution_count": 10,
      "outputs": [
        {
          "output_type": "execute_result",
          "data": {
            "text/plain": [
              "Index(['Duration', 'Src Pt', 'Dst Pt', 'Packets', 'Flows', 'Tos'], dtype='object')"
            ]
          },
          "metadata": {
            "tags": []
          },
          "execution_count": 10
        }
      ]
    },
    {
      "cell_type": "markdown",
      "metadata": {
        "id": "UubDj1bbP334",
        "colab_type": "text"
      },
      "source": [
        "*N.b. The column \"Bytes\" is not considered as a numeric one because it contains mixed values (such as numeric and strings).*"
      ]
    },
    {
      "cell_type": "markdown",
      "metadata": {
        "id": "XUOuKl7MU0w8",
        "colab_type": "text"
      },
      "source": [
        "- Do they all correspond to \"numeric variables\" or are some of them categorical? Note that categorical values are often expressed as numbers! (For numeric types, comparisons with with “>” and “<” makes sense, for categorical variables they don’t.)\n"
      ]
    },
    {
      "cell_type": "markdown",
      "metadata": {
        "id": "D7UKMz93X4tk",
        "colab_type": "text"
      },
      "source": [
        "No, not all of them. Only 'Duration', ' and 'Packets'."
      ]
    },
    {
      "cell_type": "markdown",
      "metadata": {
        "id": "00L0weF7U4Fc",
        "colab_type": "text"
      },
      "source": [
        "- List all numeric types and compute simple statistics (minimum, maximum, average, etc.) for each.\n"
      ]
    },
    {
      "cell_type": "code",
      "metadata": {
        "id": "ZFyP-l0iYwjA",
        "colab_type": "code",
        "outputId": "5d70b015-83d1-4cc5-92b6-7676e48576c3",
        "colab": {
          "base_uri": "https://localhost:8080/",
          "height": 362
        }
      },
      "source": [
        "print(df.Duration.describe(), \"\\n\")\n",
        "print(df.Packets.describe())"
      ],
      "execution_count": 11,
      "outputs": [
        {
          "output_type": "stream",
          "text": [
            "count    845152.000000\n",
            "mean          0.113840\n",
            "std           0.760426\n",
            "min           0.000000\n",
            "25%           0.000000\n",
            "50%           0.000000\n",
            "75%           0.025000\n",
            "max         135.403000\n",
            "Name: Duration, dtype: float64 \n",
            "\n",
            "count    845152.000000\n",
            "mean         14.902497\n",
            "std         978.309853\n",
            "min           1.000000\n",
            "25%           1.000000\n",
            "50%           2.000000\n",
            "75%           4.000000\n",
            "max      195912.000000\n",
            "Name: Packets, dtype: float64\n"
          ],
          "name": "stdout"
        }
      ]
    },
    {
      "cell_type": "markdown",
      "metadata": {
        "id": "MtxYAdcYYxbQ",
        "colab_type": "text"
      },
      "source": [
        "- Plot the distribution of the numeric variables using a histogram. Do any of the values look too large or too small?"
      ]
    },
    {
      "cell_type": "code",
      "metadata": {
        "id": "KRBhVc_FbUY8",
        "colab_type": "code",
        "outputId": "ec5a304e-e440-449f-f42c-f7bacd6d0669",
        "colab": {
          "base_uri": "https://localhost:8080/",
          "height": 573
        }
      },
      "source": [
        "plt.title('Histogram of Duration')\n",
        "plt.xlabel('Duration')\n",
        "plt.hist(df['Duration'].values, color='xkcd:crimson', log=True)\n",
        "plt.show() \n",
        "\n",
        "plt.title('Histogram of Packets')\n",
        "plt.xlabel('Packets')\n",
        "plt.hist(df['Packets'].values, color='xkcd:leaf green', log=True)\n",
        "plt.show()"
      ],
      "execution_count": 12,
      "outputs": [
        {
          "output_type": "display_data",
          "data": {
            "image/png": "[encoded data removed]",
            "text/plain": [
              "<Figure size 432x288 with 1 Axes>"
            ]
          },
          "metadata": {
            "tags": []
          }
        },
        {
          "output_type": "display_data",
          "data": {
            "image/png": "[encoded data removed]",
            "text/plain": [
              "<Figure size 432x288 with 1 Axes>"
            ]
          },
          "metadata": {
            "tags": []
          }
        }
      ]
    },
    {
      "cell_type": "markdown",
      "metadata": {
        "id": "YKTJsyHo_wq0",
        "colab_type": "text"
      },
      "source": [
        "### Have a look at the times and dates that the system has come under attack:\n",
        "- Convert the 'Date first seen' column to a datetime object (see code in Appendix).\n"
      ]
    },
    {
      "cell_type": "code",
      "metadata": {
        "id": "pgpaqBfB_wq0",
        "colab_type": "code",
        "colab": {}
      },
      "source": [
        "df['Date first seen'] = pd.to_datetime(df['Date first seen'])"
      ],
      "execution_count": 0,
      "outputs": []
    },
    {
      "cell_type": "markdown",
      "metadata": {
        "id": "lUjBcWVuw7Dk",
        "colab_type": "text"
      },
      "source": [
        "- Create new columns for the day-of-week or time-of-day.\n"
      ]
    },
    {
      "cell_type": "code",
      "metadata": {
        "id": "9gjKrOBX_wq0",
        "colab_type": "code",
        "outputId": "43f60879-1955-4831-d9fd-bae956cd3e19",
        "colab": {
          "base_uri": "https://localhost:8080/",
          "height": 53
        }
      },
      "source": [
        "df['Day of week'] = df['Date first seen'].dt.dayofweek\n",
        "df['Time of day'] = df['Date first seen'].dt.hour\n",
        "print(\"Day of the week =\", df['Day of week'].unique())\n",
        "print(\"Time of day =\", df['Time of day'].unique())"
      ],
      "execution_count": 14,
      "outputs": [
        {
          "output_type": "stream",
          "text": [
            "Day of the week = [2 3 4 5 6 0 1]\n",
            "Time of day = [ 0  1  2  3  4  5  6  7  8  9 10 11 12 13 14 15 16 17 18 19 20 21 22 23]\n"
          ],
          "name": "stdout"
        }
      ]
    },
    {
      "cell_type": "markdown",
      "metadata": {
        "id": "FBe9mlQNw-Dw",
        "colab_type": "text"
      },
      "source": [
        "- Plot histograms of the day-of-week and of the time-of-day to see their distribution in the data.\n"
      ]
    },
    {
      "cell_type": "code",
      "metadata": {
        "id": "2hIplhY3xAQY",
        "colab_type": "code",
        "outputId": "7f92ce6a-3410-4625-ac3d-fed180e49271",
        "colab": {
          "base_uri": "https://localhost:8080/",
          "height": 295
        }
      },
      "source": [
        "plt.title('Histogram of Day distribution')\n",
        "plt.xlabel('Day of week')\n",
        "plt.hist(df['Day of week'].values, color='xkcd:sky blue', bins=25)\n",
        "plt.show()"
      ],
      "execution_count": 15,
      "outputs": [
        {
          "output_type": "display_data",
          "data": {
            "image/png": "[encoded data removed]",
            "text/plain": [
              "<Figure size 432x288 with 1 Axes>"
            ]
          },
          "metadata": {
            "tags": []
          }
        }
      ]
    },
    {
      "cell_type": "code",
      "metadata": {
        "id": "NLN8tD8s4l7M",
        "colab_type": "code",
        "outputId": "84a8e1d7-011d-445b-df84-be4bd15d9505",
        "colab": {
          "base_uri": "https://localhost:8080/",
          "height": 295
        }
      },
      "source": [
        "plt.title('Histogram of Time distribution')\n",
        "plt.xlabel('Time of day')\n",
        "plt.hist(df['Time of day'].values, color='xkcd:greenish yellow')\n",
        "plt.show()"
      ],
      "execution_count": 16,
      "outputs": [
        {
          "output_type": "display_data",
          "data": {
            "image/png": "[encoded data removed]",
            "text/plain": [
              "<Figure size 432x288 with 1 Axes>"
            ]
          },
          "metadata": {
            "tags": []
          }
        }
      ]
    },
    {
      "cell_type": "markdown",
      "metadata": {
        "id": "s-AGzHeXxAxM",
        "colab_type": "text"
      },
      "source": [
        "- Select only the rows corresponding to attacks and replot the histograms.\n"
      ]
    },
    {
      "cell_type": "code",
      "metadata": {
        "id": "c8tJilwTxBc8",
        "colab_type": "code",
        "outputId": "bc7924fc-e08f-43d4-8b4f-ce052051eb72",
        "colab": {
          "base_uri": "https://localhost:8080/",
          "height": 295
        }
      },
      "source": [
        "plt.title('Histogram of Day distribution of attacks')\n",
        "plt.xlabel('Day of week')\n",
        "plt.hist(df[(df['class']==\"attacker\")| (df['class']==\"victim\")]['Day of week'].values, color='xkcd:dusty rose', bins=25)\n",
        "plt.show()"
      ],
      "execution_count": 17,
      "outputs": [
        {
          "output_type": "display_data",
          "data": {
            "image/png": "[encoded data removed]",
            "text/plain": [
              "<Figure size 432x288 with 1 Axes>"
            ]
          },
          "metadata": {
            "tags": []
          }
        }
      ]
    },
    {
      "cell_type": "code",
      "metadata": {
        "id": "m2eaWxgeGPR0",
        "colab_type": "code",
        "outputId": "395aa5ff-ec41-4e6e-be3f-af9bd8664bff",
        "colab": {
          "base_uri": "https://localhost:8080/",
          "height": 295
        }
      },
      "source": [
        "plt.title('Histogram of Time distribution of attacks')\n",
        "plt.xlabel('Time of day')\n",
        "plt.hist(df[(df['class']==\"attacker\")| (df['class']==\"victim\")]['Time of day'].values, color='xkcd:macaroni and cheese', log=True)\n",
        "plt.show()"
      ],
      "execution_count": 18,
      "outputs": [
        {
          "output_type": "display_data",
          "data": {
            "image/png": "[encoded data removed]",
            "text/plain": [
              "<Figure size 432x288 with 1 Axes>"
            ]
          },
          "metadata": {
            "tags": []
          }
        }
      ]
    },
    {
      "cell_type": "markdown",
      "metadata": {
        "id": "4zzcGNJdxESM",
        "colab_type": "text"
      },
      "source": [
        "- Does the day-of-week or time-of-day affect the probability of seeing an attack?"
      ]
    },
    {
      "cell_type": "markdown",
      "metadata": {
        "id": "uaT-T3ofdIYU",
        "colab_type": "text"
      },
      "source": [
        "Yes! "
      ]
    },
    {
      "cell_type": "markdown",
      "metadata": {
        "id": "SacBS1l2dNaM",
        "colab_type": "text"
      },
      "source": [
        "Some other visualization:"
      ]
    },
    {
      "cell_type": "markdown",
      "metadata": {
        "id": "3AcIh__SUha4",
        "colab_type": "text"
      },
      "source": [
        "Sometimes our features may be closely related to other features. We can easily calculate the correlation coefficient between pairs of features."
      ]
    },
    {
      "cell_type": "code",
      "metadata": {
        "id": "HuK16Bwt-Eap",
        "colab_type": "code",
        "outputId": "c1b2176a-86e7-4770-eb2a-b89652e57786",
        "colab": {
          "base_uri": "https://localhost:8080/",
          "height": 317
        }
      },
      "source": [
        "corr = df.corr()\n",
        "mask = np.zeros_like(corr, dtype=np.bool)\n",
        "mask[np.triu_indices_from(mask)] = True\n",
        "\n",
        "cmap = sns.diverging_palette(220, 10, as_cmap=True)\n",
        "\n",
        "sns.heatmap(corr, mask=mask, cmap=cmap, square=True, linewidths=.5, center=0, vmax=1);"
      ],
      "execution_count": 19,
      "outputs": [
        {
          "output_type": "display_data",
          "data": {
            "image/png": "[encoded data removed]",
            "text/plain": [
              "<Figure size 432x288 with 2 Axes>"
            ]
          },
          "metadata": {
            "tags": []
          }
        }
      ]
    },
    {
      "cell_type": "code",
      "metadata": {
        "id": "DgZGN6YUFG_8",
        "colab_type": "code",
        "outputId": "51dfb792-2b30-4b31-afd9-202e3c26be07",
        "colab": {
          "base_uri": "https://localhost:8080/",
          "height": 312,
          "referenced_widgets": [
            "74f44fac679f4a0096a6b683a27ba1f2",
            "3e25f67a0a774b9d9cd9dd83ea20ef0e",
            "e7287e86ca49492ea76557f0ec5cf004",
            "4ac5ab7fc6864bc39412a89f746e2214",
            "411f85e208824382bdd50df825eabf2f",
            "ac16ff939e4a4e07802b35cc3bee2edd"
          ]
        }
      },
      "source": [
        "feature_desc = {'Duration': 'Duration', 'Packets': 'Packets','Day of week' : 'Day of week','Time of day':'Time of day'}\n",
        "def plot_feature(column):\n",
        "    plt.plot(df['class'], df[column], '.')\n",
        "    plt.xlabel(feature_desc[column])\n",
        "    plt.ylabel('Class')\n",
        "\n",
        "dropdown_menu = {v: k for k, v in feature_desc.items()}\n",
        "\n",
        "widgets.interact(plot_feature, column=dropdown_menu);\n",
        "#no attaks on weekends\n",
        "#unbalanced features"
      ],
      "execution_count": 20,
      "outputs": [
        {
          "output_type": "display_data",
          "data": {
            "application/vnd.jupyter.widget-view+json": {
              "model_id": "74f44fac679f4a0096a6b683a27ba1f2",
              "version_minor": 0,
              "version_major": 2
            },
            "text/plain": [
              "interactive(children=(Dropdown(description='column', options={'Duration': 'Duration', 'Packets': 'Packets', 'D…"
            ]
          },
          "metadata": {
            "tags": []
          }
        }
      ]
    },
    {
      "cell_type": "markdown",
      "metadata": {
        "id": "XiEHsMQz_wq0",
        "colab_type": "text"
      },
      "source": [
        "### Now create some classifiers using just the numeric attributes and try to predict the ‘class’:\n",
        "- Train a logistic regression classifier.\n"
      ]
    },
    {
      "cell_type": "markdown",
      "metadata": {
        "id": "B2p9MCsneWoI",
        "colab_type": "text"
      },
      "source": [
        "In classification, we predict categorical labels. In regression, we predict quantitative/numerical labels. The critical difference is that we can't take a difference between the predicted and actual category in classification, while we can take a difference between the predicted and actual numerical values in regression. Because of these differences between regression and classification, we use different metrics to evaluate machine learning models trained for classification.\n",
        "\n",
        "As with regression, we're trying to determine the model $f$ that can best describes the relationship\n",
        "\n",
        "$$ y_j = f(X_j). $$\n",
        "\n",
        "For classification, $y_j$ can only take a finite set of values. If there are only two such values, we are dealing with **binary** classification. Examples of binary classification are predicting whether it will rain or not and whether someone will default on their loan. If we have more than two classes, we have a **multiclass** problem. For example, image classification is usually multiclass as we are trying to identify an image among a set of values, e.g., a person, a road sign, a car, etc."
      ]
    },
    {
      "cell_type": "code",
      "metadata": {
        "id": "6pznoysaN55E",
        "colab_type": "code",
        "colab": {}
      },
      "source": [
        "X_train,  X_test, y_train, y_test = train_test_split(\n",
        "    df[['Duration', 'Packets']],  \n",
        "    df[['class']], \n",
        "    test_size=0.20\n",
        ")"
      ],
      "execution_count": 0,
      "outputs": []
    },
    {
      "cell_type": "markdown",
      "metadata": {
        "id": "hubWmPxZTNmE",
        "colab_type": "text"
      },
      "source": [
        "The logistic regression model is the classifier version of linear regression. It is a probabilistic model; it will predict probability values that can then be used to assign class labels. The model works by taking the output of a linear regression model and feeds it into a sigmoid or logistic function. Mathematically\n",
        "\n",
        "$$ p_j = S\\left( \\sum_{i} X_{ji}\\beta_i  + \\beta_0 \\right), $$\n",
        "where\n",
        "$$ S(x) = \\frac{1}{1 + e^{-x}} $$"
      ]
    },
    {
      "cell_type": "markdown",
      "metadata": {
        "id": "9pgi-iY8TUPE",
        "colab_type": "text"
      },
      "source": [
        "The reason for the sigmoid function is that it maps values that range from positive to negative infinity to values that only range from 0 to 1. Thus, the output of the sigmoid function can be interpreted as a probability.\n",
        "\n",
        "The $\\beta$ coefficients of the model are chosen to minimize the log loss. Unlike linear regression, there is no closed-form solution to the optimal coefficient. Instead, the coefficients are solved using gradient descent."
      ]
    },
    {
      "cell_type": "code",
      "metadata": {
        "id": "W-1XGffY_wsY",
        "colab_type": "code",
        "outputId": "595693e7-70a7-4f2f-da6d-7a8b29517189",
        "colab": {
          "base_uri": "https://localhost:8080/",
          "height": 128
        }
      },
      "source": [
        "from sklearn.linear_model import LogisticRegression\n",
        "\n",
        "# define the classifier\n",
        "clf_lr = LogisticRegression(solver='lbfgs', max_iter=1500, verbose=1, n_jobs=-1,multi_class='multinomial')\n",
        "\n",
        "# train the classifier\n",
        "t0 = time.time()\n",
        "clf_lr.fit(X_train, y_train)\n",
        "print(\"elapsed time = %.2f\" % (time.time()-t0))\n",
        "y_pred_lr = clf_lr.predict(X_test)"
      ],
      "execution_count": 22,
      "outputs": [
        {
          "output_type": "stream",
          "text": [
            "/usr/local/lib/python3.6/dist-packages/sklearn/utils/validation.py:724: DataConversionWarning: A column-vector y was passed when a 1d array was expected. Please change the shape of y to (n_samples, ), for example using ravel().\n",
            "  y = column_or_1d(y, warn=True)\n",
            "[Parallel(n_jobs=-1)]: Using backend LokyBackend with 4 concurrent workers.\n"
          ],
          "name": "stderr"
        },
        {
          "output_type": "stream",
          "text": [
            "elapsed time = 45.46\n"
          ],
          "name": "stdout"
        },
        {
          "output_type": "stream",
          "text": [
            "[Parallel(n_jobs=-1)]: Done   1 out of   1 | elapsed:   44.2s finished\n"
          ],
          "name": "stderr"
        }
      ]
    },
    {
      "cell_type": "markdown",
      "metadata": {
        "id": "7-QGWf20yq2Q",
        "colab_type": "text"
      },
      "source": [
        "- How well does the classifier perform in terms of accuracy on the TRAINING data?\n"
      ]
    },
    {
      "cell_type": "markdown",
      "metadata": {
        "id": "GH4v8gpwelbA",
        "colab_type": "text"
      },
      "source": [
        "A natural choice for a metric for classification is accuracy. Accuracy is equal to the number of observations you correctly classified over all observations. For example, if your model properly identified 77 out of 100 images, you have an accuracy of 77%. Accuracy is an easy metric to both understand and calculate. Mathematically, it is simply\n",
        "\n",
        "$$ \\frac{\\text{number of correct observations}}{\\text{number of observations}}.$$\n",
        "\n",
        "However, accuracy may not always be a good metric. Consider the case of disease detection where only 10% of the observations have the disease. A naive classifier that always predicts the majority class will achieve 90% accuracy. \n",
        "While the naive model correctly identifies everyone without the disease, it fails to identify any person with the disease. We need a metric that will tell us how well our model performs for a particular class."
      ]
    },
    {
      "cell_type": "markdown",
      "metadata": {
        "id": "-zmGcsGtezwM",
        "colab_type": "text"
      },
      "source": [
        "For the example of disease detection, we are more interested in determining our model's performance with regards to the class representing having the disease. Let's call this class  **positive** and not having the disease as **negative**. Particularly, we want to know what fraction of all positive predictions were correct and what fraction of positive observations did we identify. The two metrics that describe these values are precision and recall. Precision is the fraction of true positives over all positive predictions. It is a measure of how \"precise\" our model was with regards to labeling observations as positive. Recall, on the other hand, is equal to the fraction of true positives over all positive observations. It is a measure of our model's ability to \"catch\" and properly label observations that are positive.\n",
        "\n",
        "A confusion matrix is a table summarizing the performance of the model by enumerating true and false positives and the true and false negatives.\n",
        "\n",
        "|                     | Positive Observation     | Negative Observation    |\n",
        "|---------------------|:------------------------:|:-----------------------:|\n",
        "| Positive Prediction |     True Positive (TP)   | False Positive (FP)     |\n",
        "| Negative Prediction | False Negative (FN)      |     True Negative (TN)  |\n",
        "\n",
        "Given the definitions used earlier, the equation for precision and recall are\n",
        "\n",
        "$$ \\text{precision} = \\frac{\\text{TP}}{TP + FP}$$\n",
        "and\n",
        "$$ \\text{recall} = \\frac{\\text{TP}}{TP + FN}. $$\n",
        "\n",
        "Note, the difference between the metrics is their denominator. In our disease detection example, if we labeled 12 observations as positive but only 8 were actually true positives, our precision is 0.667. If our data set had 10 positive observations, since we correctly identified or \"recalled\" 8 of them, our recall is 0.8. If we had used the naive model that predicts the majority class, the recall would be 0 and our precision would be undefined."
      ]
    },
    {
      "cell_type": "markdown",
      "metadata": {
        "id": "3M2djZZMe6IA",
        "colab_type": "text"
      },
      "source": [
        "What is more important, precision or recall? The answer depends on the specifics of the problem. Having a model that prioritizes less false positives will have a higher precision and a model that aims to reduce the number of false negatives will have a higher recall. You must decide whether your model should prioritize reducing false positives or false negatives. It is often helpful to consider the cost, whether financial, societal, etc., of your model making false positives and false negatives."
      ]
    },
    {
      "cell_type": "code",
      "metadata": {
        "id": "uI18PvSs_wsY",
        "colab_type": "code",
        "outputId": "39300e02-1c5d-4b6b-dcaf-c343c0c06970",
        "colab": {
          "base_uri": "https://localhost:8080/",
          "height": 346
        }
      },
      "source": [
        "print(\"accuracy: {}\".format(metrics.accuracy_score(y_test, y_pred_lr)))\n",
        "print(\"precision: {:g}\".format(metrics.precision_score(y_test, y_pred_lr,average='macro')))\n",
        "print(\"recall: {:g}\".format(metrics.recall_score(y_test, y_pred_lr, average='macro')))\n",
        "print(metrics.classification_report(y_test, y_pred_lr))"
      ],
      "execution_count": 23,
      "outputs": [
        {
          "output_type": "stream",
          "text": [
            "accuracy: 0.829628884642462\n"
          ],
          "name": "stdout"
        },
        {
          "output_type": "stream",
          "text": [
            "/usr/local/lib/python3.6/dist-packages/sklearn/metrics/classification.py:1437: UndefinedMetricWarning: Precision is ill-defined and being set to 0.0 in labels with no predicted samples.\n",
            "  'precision', 'predicted', average, warn_for)\n"
          ],
          "name": "stderr"
        },
        {
          "output_type": "stream",
          "text": [
            "precision: 0.276543\n",
            "recall: 0.333333\n"
          ],
          "name": "stdout"
        },
        {
          "output_type": "stream",
          "text": [
            "/usr/local/lib/python3.6/dist-packages/sklearn/metrics/classification.py:1437: UndefinedMetricWarning: Precision and F-score are ill-defined and being set to 0.0 in labels with no predicted samples.\n",
            "  'precision', 'predicted', average, warn_for)\n"
          ],
          "name": "stderr"
        },
        {
          "output_type": "stream",
          "text": [
            "              precision    recall  f1-score   support\n",
            "\n",
            "    attacker       0.00      0.00      0.00     14927\n",
            "      normal       0.83      1.00      0.91    140233\n",
            "      victim       0.00      0.00      0.00     13871\n",
            "\n",
            "    accuracy                           0.83    169031\n",
            "   macro avg       0.28      0.33      0.30    169031\n",
            "weighted avg       0.69      0.83      0.75    169031\n",
            "\n"
          ],
          "name": "stdout"
        }
      ]
    },
    {
      "cell_type": "markdown",
      "metadata": {
        "id": "WbMGxODayrug",
        "colab_type": "text"
      },
      "source": [
        "- Load data from the second week and use it as TEST data.\n"
      ]
    },
    {
      "cell_type": "code",
      "metadata": {
        "id": "oG6Owh2mysMM",
        "colab_type": "code",
        "outputId": "7a07aacb-2f16-4ae1-c7f2-b1eb14c601d3",
        "colab": {
          "base_uri": "https://localhost:8080/",
          "height": 352
        }
      },
      "source": [
        "# Download a file based on its file ID.\n",
        "#\n",
        "# A file ID looks like: laggVyWshwcyP6kEI-y_W3P8D26sz\n",
        "file_id = '1GlIcKxKYsSY9QfRINrGBSDtEhyOwWuMa'\n",
        "downloaded = drive.CreateFile({'id': file_id})\n",
        "downloaded.GetContentFile('CIDDS-001-internal-week2_10pcSample.csv')  \n",
        "df_test = pd.read_csv('CIDDS-001-internal-week2_10pcSample.csv',index_col=[0],dtype={'Bytes': object})\n",
        "df_test.head(5)"
      ],
      "execution_count": 24,
      "outputs": [
        {
          "output_type": "stream",
          "text": [
            "/usr/local/lib/python3.6/dist-packages/numpy/lib/arraysetops.py:568: FutureWarning: elementwise comparison failed; returning scalar instead, but in the future will perform elementwise comparison\n",
            "  mask |= (ar1 == a)\n"
          ],
          "name": "stderr"
        },
        {
          "output_type": "execute_result",
          "data": {
            "application/vnd.google.colaboratory.module+javascript": "\n      import \"https://ssl.gstatic.com/colaboratory/data_table/9e554b27bdd509f3/data_table.js\";\n\n      window.createDataTable({\n        data: [[{\n            'v': 12,\n            'f': \"12\",\n        },\n\"2017-03-22 00:00:11.767\",\n{\n            'v': 0.004,\n            'f': \"0.004\",\n        },\n\"TCP  \",\n\"192.168.220.5\",\n{\n            'v': 55126,\n            'f': \"55126\",\n        },\n\"192.168.100.5\",\n{\n            'v': 445.0,\n            'f': \"445.0\",\n        },\n{\n            'v': 2,\n            'f': \"2\",\n        },\n\"     174\",\n{\n            'v': 1,\n            'f': \"1\",\n        },\n\".AP...\",\n{\n            'v': 0,\n            'f': \"0\",\n        },\n\"normal\",\n\"---\",\n\"---\",\n\"---\"],\n [{\n            'v': 11,\n            'f': \"11\",\n        },\n\"2017-03-22 00:00:11.768\",\n{\n            'v': 0.0,\n            'f': \"0.0\",\n        },\n\"TCP  \",\n\"192.168.100.5\",\n{\n            'v': 445,\n            'f': \"445\",\n        },\n\"192.168.220.5\",\n{\n            'v': 55126.0,\n            'f': \"55126.0\",\n        },\n{\n            'v': 1,\n            'f': \"1\",\n        },\n\"     108\",\n{\n            'v': 1,\n            'f': \"1\",\n        },\n\".AP...\",\n{\n            'v': 0,\n            'f': \"0\",\n        },\n\"normal\",\n\"---\",\n\"---\",\n\"---\"],\n [{\n            'v': 29,\n            'f': \"29\",\n        },\n\"2017-03-22 00:00:27.207\",\n{\n            'v': 0.232,\n            'f': \"0.232\",\n        },\n\"TCP  \",\n\"192.168.200.8\",\n{\n            'v': 58749,\n            'f': \"58749\",\n        },\n\"EXT_SERVER\",\n{\n            'v': 8082.0,\n            'f': \"8082.0\",\n        },\n{\n            'v': 2,\n            'f': \"2\",\n        },\n\"     319\",\n{\n            'v': 1,\n            'f': \"1\",\n        },\n\".AP...\",\n{\n            'v': 0,\n            'f': \"0\",\n        },\n\"normal\",\n\"---\",\n\"---\",\n\"---\"],\n [{\n            'v': 36,\n            'f': \"36\",\n        },\n\"2017-03-22 00:00:32.830\",\n{\n            'v': 0.0,\n            'f': \"0.0\",\n        },\n\"UDP  \",\n\"192.168.210.5\",\n{\n            'v': 50947,\n            'f': \"50947\",\n        },\n\"DNS\",\n{\n            'v': 53.0,\n            'f': \"53.0\",\n        },\n{\n            'v': 1,\n            'f': \"1\",\n        },\n\"      81\",\n{\n            'v': 1,\n            'f': \"1\",\n        },\n\"......\",\n{\n            'v': 0,\n            'f': \"0\",\n        },\n\"normal\",\n\"---\",\n\"---\",\n\"---\"],\n [{\n            'v': 51,\n            'f': \"51\",\n        },\n\"2017-03-22 00:00:46.964\",\n{\n            'v': 0.0,\n            'f': \"0.0\",\n        },\n\"TCP  \",\n\"10179_174\",\n{\n            'v': 443,\n            'f': \"443\",\n        },\n\"192.168.210.5\",\n{\n            'v': 51433.0,\n            'f': \"51433.0\",\n        },\n{\n            'v': 1,\n            'f': \"1\",\n        },\n\"      54\",\n{\n            'v': 1,\n            'f': \"1\",\n        },\n\".A....\",\n{\n            'v': 32,\n            'f': \"32\",\n        },\n\"normal\",\n\"---\",\n\"---\",\n\"---\"]],\n        columns: [[\"number\", \"index\"], [\"string\", \"Date first seen\"], [\"number\", \"Duration\"], [\"string\", \"Proto\"], [\"string\", \"Src IP Addr\"], [\"number\", \"Src Pt\"], [\"string\", \"Dst IP Addr\"], [\"number\", \"Dst Pt\"], [\"number\", \"Packets\"], [\"string\", \"Bytes\"], [\"number\", \"Flows\"], [\"string\", \"Flags\"], [\"number\", \"Tos\"], [\"string\", \"class\"], [\"string\", \"attackType\"], [\"string\", \"attackID\"], [\"string\", \"attackDescription\"]],\n        columnOptions: [{\"width\": \"1px\", \"className\": \"index_column\"}],\n        rowsPerPage: 25,\n        helpUrl: \"https://colab.research.google.com/notebooks/data_table.ipynb\",\n      });\n    ",
            "text/html": [
              "<div>\n",
              "<style scoped>\n",
              "    .dataframe tbody tr th:only-of-type {\n",
              "        vertical-align: middle;\n",
              "    }\n",
              "\n",
              "    .dataframe tbody tr th {\n",
              "        vertical-align: top;\n",
              "    }\n",
              "\n",
              "    .dataframe thead th {\n",
              "        text-align: right;\n",
              "    }\n",
              "</style>\n",
              "<table border=\"1\" class=\"dataframe\">\n",
              "  <thead>\n",
              "    <tr style=\"text-align: right;\">\n",
              "      <th></th>\n",
              "      <th>Date first seen</th>\n",
              "      <th>Duration</th>\n",
              "      <th>Proto</th>\n",
              "      <th>Src IP Addr</th>\n",
              "      <th>Src Pt</th>\n",
              "      <th>Dst IP Addr</th>\n",
              "      <th>Dst Pt</th>\n",
              "      <th>Packets</th>\n",
              "      <th>Bytes</th>\n",
              "      <th>Flows</th>\n",
              "      <th>Flags</th>\n",
              "      <th>Tos</th>\n",
              "      <th>class</th>\n",
              "      <th>attackType</th>\n",
              "      <th>attackID</th>\n",
              "      <th>attackDescription</th>\n",
              "    </tr>\n",
              "  </thead>\n",
              "  <tbody>\n",
              "    <tr>\n",
              "      <th>12</th>\n",
              "      <td>2017-03-22 00:00:11.767</td>\n",
              "      <td>0.004</td>\n",
              "      <td>TCP</td>\n",
              "      <td>192.168.220.5</td>\n",
              "      <td>55126</td>\n",
              "      <td>192.168.100.5</td>\n",
              "      <td>445.0</td>\n",
              "      <td>2</td>\n",
              "      <td>174</td>\n",
              "      <td>1</td>\n",
              "      <td>.AP...</td>\n",
              "      <td>0</td>\n",
              "      <td>normal</td>\n",
              "      <td>---</td>\n",
              "      <td>---</td>\n",
              "      <td>---</td>\n",
              "    </tr>\n",
              "    <tr>\n",
              "      <th>11</th>\n",
              "      <td>2017-03-22 00:00:11.768</td>\n",
              "      <td>0.000</td>\n",
              "      <td>TCP</td>\n",
              "      <td>192.168.100.5</td>\n",
              "      <td>445</td>\n",
              "      <td>192.168.220.5</td>\n",
              "      <td>55126.0</td>\n",
              "      <td>1</td>\n",
              "      <td>108</td>\n",
              "      <td>1</td>\n",
              "      <td>.AP...</td>\n",
              "      <td>0</td>\n",
              "      <td>normal</td>\n",
              "      <td>---</td>\n",
              "      <td>---</td>\n",
              "      <td>---</td>\n",
              "    </tr>\n",
              "    <tr>\n",
              "      <th>29</th>\n",
              "      <td>2017-03-22 00:00:27.207</td>\n",
              "      <td>0.232</td>\n",
              "      <td>TCP</td>\n",
              "      <td>192.168.200.8</td>\n",
              "      <td>58749</td>\n",
              "      <td>EXT_SERVER</td>\n",
              "      <td>8082.0</td>\n",
              "      <td>2</td>\n",
              "      <td>319</td>\n",
              "      <td>1</td>\n",
              "      <td>.AP...</td>\n",
              "      <td>0</td>\n",
              "      <td>normal</td>\n",
              "      <td>---</td>\n",
              "      <td>---</td>\n",
              "      <td>---</td>\n",
              "    </tr>\n",
              "    <tr>\n",
              "      <th>36</th>\n",
              "      <td>2017-03-22 00:00:32.830</td>\n",
              "      <td>0.000</td>\n",
              "      <td>UDP</td>\n",
              "      <td>192.168.210.5</td>\n",
              "      <td>50947</td>\n",
              "      <td>DNS</td>\n",
              "      <td>53.0</td>\n",
              "      <td>1</td>\n",
              "      <td>81</td>\n",
              "      <td>1</td>\n",
              "      <td>......</td>\n",
              "      <td>0</td>\n",
              "      <td>normal</td>\n",
              "      <td>---</td>\n",
              "      <td>---</td>\n",
              "      <td>---</td>\n",
              "    </tr>\n",
              "    <tr>\n",
              "      <th>51</th>\n",
              "      <td>2017-03-22 00:00:46.964</td>\n",
              "      <td>0.000</td>\n",
              "      <td>TCP</td>\n",
              "      <td>10179_174</td>\n",
              "      <td>443</td>\n",
              "      <td>192.168.210.5</td>\n",
              "      <td>51433.0</td>\n",
              "      <td>1</td>\n",
              "      <td>54</td>\n",
              "      <td>1</td>\n",
              "      <td>.A....</td>\n",
              "      <td>32</td>\n",
              "      <td>normal</td>\n",
              "      <td>---</td>\n",
              "      <td>---</td>\n",
              "      <td>---</td>\n",
              "    </tr>\n",
              "  </tbody>\n",
              "</table>\n",
              "</div>"
            ],
            "text/plain": [
              "            Date first seen  Duration  ... attackID attackDescription\n",
              "12  2017-03-22 00:00:11.767     0.004  ...      ---               ---\n",
              "11  2017-03-22 00:00:11.768     0.000  ...      ---               ---\n",
              "29  2017-03-22 00:00:27.207     0.232  ...      ---               ---\n",
              "36  2017-03-22 00:00:32.830     0.000  ...      ---               ---\n",
              "51  2017-03-22 00:00:46.964     0.000  ...      ---               ---\n",
              "\n",
              "[5 rows x 16 columns]"
            ]
          },
          "metadata": {
            "tags": []
          },
          "execution_count": 24
        }
      ]
    },
    {
      "cell_type": "code",
      "metadata": {
        "id": "q2iiQec9GscI",
        "colab_type": "code",
        "colab": {}
      },
      "source": [
        "y_pred_lr_test = clf_lr.predict(df_test[['Duration', 'Packets']])"
      ],
      "execution_count": 0,
      "outputs": []
    },
    {
      "cell_type": "markdown",
      "metadata": {
        "id": "4iwFINuRysgg",
        "colab_type": "text"
      },
      "source": [
        "- How well does the classifier perform (in terms of accuracy) on the TEST data?\n"
      ]
    },
    {
      "cell_type": "code",
      "metadata": {
        "id": "KS9ythIdys38",
        "colab_type": "code",
        "outputId": "159e4ac7-1ad3-463f-da84-6f77a7436087",
        "colab": {
          "base_uri": "https://localhost:8080/",
          "height": 346
        }
      },
      "source": [
        "print(\"accuracy: {}\".format(metrics.accuracy_score(df_test[['class']], y_pred_lr_test)))\n",
        "print(\"precision: {:g}\".format(metrics.precision_score(df_test[['class']], y_pred_lr_test,average='macro')))\n",
        "print(\"recall: {:g}\".format(metrics.recall_score(df_test[['class']], y_pred_lr_test, average='macro')))\n",
        "print(metrics.classification_report(df_test[['class']], y_pred_lr_test))"
      ],
      "execution_count": 26,
      "outputs": [
        {
          "output_type": "stream",
          "text": [
            "accuracy: 0.8261257932270557\n"
          ],
          "name": "stdout"
        },
        {
          "output_type": "stream",
          "text": [
            "/usr/local/lib/python3.6/dist-packages/sklearn/metrics/classification.py:1437: UndefinedMetricWarning: Precision is ill-defined and being set to 0.0 in labels with no predicted samples.\n",
            "  'precision', 'predicted', average, warn_for)\n"
          ],
          "name": "stderr"
        },
        {
          "output_type": "stream",
          "text": [
            "precision: 0.275377\n",
            "recall: 0.333331\n"
          ],
          "name": "stdout"
        },
        {
          "output_type": "stream",
          "text": [
            "/usr/local/lib/python3.6/dist-packages/sklearn/metrics/classification.py:1437: UndefinedMetricWarning: Precision and F-score are ill-defined and being set to 0.0 in labels with no predicted samples.\n",
            "  'precision', 'predicted', average, warn_for)\n"
          ],
          "name": "stderr"
        },
        {
          "output_type": "stream",
          "text": [
            "              precision    recall  f1-score   support\n",
            "\n",
            "    attacker       0.00      0.00      0.00     91009\n",
            "      normal       0.83      1.00      0.90    851802\n",
            "      victim       0.00      0.00      0.00     88262\n",
            "\n",
            "    accuracy                           0.83   1031073\n",
            "   macro avg       0.28      0.33      0.30   1031073\n",
            "weighted avg       0.68      0.83      0.75   1031073\n",
            "\n"
          ],
          "name": "stdout"
        }
      ]
    },
    {
      "cell_type": "markdown",
      "metadata": {
        "id": "dlKDOnzGy1o4",
        "colab_type": "text"
      },
      "source": [
        "- Is that performance good? Print out confusion matrices to better understand the results."
      ]
    },
    {
      "cell_type": "code",
      "metadata": {
        "id": "3fub5Goby1-w",
        "colab_type": "code",
        "outputId": "c5cce677-cea4-430d-b0f8-0ee9de842826",
        "colab": {
          "base_uri": "https://localhost:8080/",
          "height": 313
        }
      },
      "source": [
        "import matplotlib.pyplot as plt\n",
        "import seaborn as sns\n",
        "%matplotlib inline\n",
        "from sklearn.metrics import confusion_matrix\n",
        "matrix = metrics.confusion_matrix(df_test[['class']], y_pred_lr_test)\n",
        "sns.heatmap(matrix,annot=True,cbar=True, cmap='plasma')\n",
        "plt.ylabel('True Label')\n",
        "plt.xlabel('Predicted Label')\n",
        "plt.title('Confusion Matrix')"
      ],
      "execution_count": 27,
      "outputs": [
        {
          "output_type": "execute_result",
          "data": {
            "text/plain": [
              "Text(0.5, 1, 'Confusion Matrix')"
            ]
          },
          "metadata": {
            "tags": []
          },
          "execution_count": 27
        },
        {
          "output_type": "display_data",
          "data": {
            "image/png": "[encoded data removed]",
            "text/plain": [
              "<Figure size 432x288 with 2 Axes>"
            ]
          },
          "metadata": {
            "tags": []
          }
        }
      ]
    },
    {
      "cell_type": "markdown",
      "metadata": {
        "id": "A_XfZtMg-W9M",
        "colab_type": "text"
      },
      "source": [
        "Now let's optimize a bit this model. "
      ]
    },
    {
      "cell_type": "code",
      "metadata": {
        "id": "gxCExNPhuIwA",
        "colab_type": "code",
        "colab": {}
      },
      "source": [
        "df['Bytes']= df['Bytes'].apply(lambda r: float(r) if 'M' not in r else float(r.replace('M',''))*1000000)"
      ],
      "execution_count": 0,
      "outputs": []
    },
    {
      "cell_type": "code",
      "metadata": {
        "id": "xV2KL3IGs6tU",
        "colab_type": "code",
        "colab": {}
      },
      "source": [
        "df_test['Bytes']= df_test['Bytes'].apply(lambda r: float(r) if 'M' not in r else float(r.replace('M',''))*1000000)"
      ],
      "execution_count": 0,
      "outputs": []
    },
    {
      "cell_type": "code",
      "metadata": {
        "id": "B3RF5PZ0-QSo",
        "colab_type": "code",
        "outputId": "6943d372-a5a4-4dbf-b44c-f0c174410458",
        "colab": {
          "base_uri": "https://localhost:8080/",
          "height": 437
        }
      },
      "source": [
        "from sklearn.model_selection import GridSearchCV\n",
        "from sklearn.pipeline import Pipeline\n",
        "from sklearn.linear_model import LogisticRegression\n",
        "\n",
        "# define the classifier\n",
        "clf_lr_op = LogisticRegression(solver='lbfgs', verbose=1, n_jobs=-1, multi_class='multinomial')\n",
        "\n",
        "X_train,  X_test, y_train, y_test = train_test_split(\n",
        "    df[['Duration', 'Packets', 'Bytes']],  \n",
        "    df[['class']], \n",
        "    test_size=0.20\n",
        ")\n",
        "\n",
        "pipe = Pipeline(steps=[('clf_lr_op', clf_lr_op)])\n",
        "param_grid = {\n",
        "    'clf_lr_op__max_iter': [50, 100, 1000]\n",
        "}\n",
        "t0 = time.time()\n",
        "searchLR = GridSearchCV(pipe, param_grid, iid=False, cv=3, verbose=True, n_jobs=-1)\n",
        "searchLR.fit(X_train, y_train)\n",
        "print(\"elapsed time = %.2f\" % (time.time()-t0))\n",
        "print(searchLR.best_params_)\n",
        "trainedLR = searchLR.best_estimator_.get_params()['clf_lr_op']\n",
        "y_pred_LR = trainedLR.predict(X_test)\n",
        "\n",
        "print(\"accuracy: {}\".format(metrics.accuracy_score(y_test, y_pred_LR)))\n",
        "print(\"precision: {:g}\".format(metrics.precision_score(y_test, y_pred_LR,average='macro')))\n",
        "print(\"recall: {:g}\".format(metrics.recall_score(y_test, y_pred_LR, average='macro')))\n",
        "print(metrics.classification_report(y_test, y_pred_LR))"
      ],
      "execution_count": 30,
      "outputs": [
        {
          "output_type": "stream",
          "text": [
            "Fitting 3 folds for each of 3 candidates, totalling 9 fits\n"
          ],
          "name": "stdout"
        },
        {
          "output_type": "stream",
          "text": [
            "[Parallel(n_jobs=-1)]: Using backend LokyBackend with 4 concurrent workers.\n",
            "[Parallel(n_jobs=-1)]: Done   9 out of   9 | elapsed:  2.0min finished\n",
            "/usr/local/lib/python3.6/dist-packages/sklearn/utils/validation.py:724: DataConversionWarning: A column-vector y was passed when a 1d array was expected. Please change the shape of y to (n_samples, ), for example using ravel().\n",
            "  y = column_or_1d(y, warn=True)\n",
            "[Parallel(n_jobs=-1)]: Using backend LokyBackend with 4 concurrent workers.\n",
            "[Parallel(n_jobs=-1)]: Done   1 out of   1 | elapsed:   33.7s finished\n"
          ],
          "name": "stderr"
        },
        {
          "output_type": "stream",
          "text": [
            "elapsed time = 158.37\n",
            "{'clf_lr_op__max_iter': 50}\n",
            "accuracy: 0.8280966213298152\n",
            "precision: 0.276063\n",
            "recall: 0.333288\n",
            "              precision    recall  f1-score   support\n",
            "\n",
            "    attacker       0.00      0.00      0.00     15139\n",
            "      normal       0.83      1.00      0.91    139993\n",
            "      victim       0.00      0.00      0.00     13899\n",
            "\n",
            "    accuracy                           0.83    169031\n",
            "   macro avg       0.28      0.33      0.30    169031\n",
            "weighted avg       0.69      0.83      0.75    169031\n",
            "\n"
          ],
          "name": "stdout"
        }
      ]
    },
    {
      "cell_type": "markdown",
      "metadata": {
        "id": "R_3GsKjv_wsY",
        "colab_type": "text"
      },
      "source": [
        "### Compare performance across different classifiers:\n",
        "- Try a Decision Tree and a Random Forest. Does the performance improve? Why?\n"
      ]
    },
    {
      "cell_type": "code",
      "metadata": {
        "id": "YsA6x157_wsY",
        "colab_type": "code",
        "outputId": "2f52fe6c-41e0-4992-e240-71aecc648d1a",
        "colab": {
          "base_uri": "https://localhost:8080/",
          "height": 1000
        }
      },
      "source": [
        "!pip install graphviz\n",
        "import graphviz\n",
        "from sklearn.tree import DecisionTreeClassifier, export_graphviz\n",
        "\n",
        "X_train,  X_test, y_train, y_test = train_test_split( \n",
        "    df[['Duration', 'Packets', 'Bytes']],  \n",
        "    df[['class']], \n",
        "    test_size=0.20\n",
        ")\n",
        "\n",
        "# define the classifier\n",
        "clf_dt = DecisionTreeClassifier(max_depth=3)\n",
        "\n",
        "# train the classifier\n",
        "t0 = time.time()\n",
        "clf_dt.fit(X_train, y_train)\n",
        "print(\"elapsed time = %.2f\" % (time.time()-t0))\n",
        "\n",
        "# perform the prediction\n",
        "y_pred_dt = clf_dt.predict(X_test)\n",
        "\n",
        "\n",
        "print(\"accuracy: {}\".format(metrics.accuracy_score(y_test, y_pred_dt)))\n",
        "print(\"precision: {:g}\".format(metrics.precision_score(y_test, y_pred_dt,average='macro')))\n",
        "print(\"recall: {:g}\".format(metrics.recall_score(y_test, y_pred_dt, average='macro')))\n",
        "print(metrics.classification_report(y_test, y_pred_dt))\n",
        "\n",
        "y_pred_dt = clf_dt.predict(df_test[['Duration', 'Packets', 'Bytes']])\n",
        "print(\"accuracy: {}\".format(metrics.accuracy_score(df_test[['class']], y_pred_dt)))\n",
        "print(\"precision: {:g}\".format(metrics.precision_score(df_test[['class']], y_pred_dt,average='macro')))\n",
        "print(\"recall: {:g}\".format(metrics.recall_score(df_test[['class']], y_pred_dt, average='macro')))\n",
        "print(metrics.classification_report(df_test[['class']], y_pred_dt))\n",
        "\n",
        "# visual tree\n",
        "from sklearn import tree\n",
        "graphviz.Source(export_graphviz(clf_dt, \n",
        "                                out_file=None,\n",
        "                                feature_names=list(X_train.columns.values)))"
      ],
      "execution_count": 31,
      "outputs": [
        {
          "output_type": "stream",
          "text": [
            "Requirement already satisfied: graphviz in /usr/local/lib/python3.6/dist-packages (0.10.1)\n",
            "elapsed time = 1.42\n",
            "accuracy: 0.9762114641692944\n",
            "precision: 0.944565\n",
            "recall: 0.950708\n",
            "              precision    recall  f1-score   support\n",
            "\n",
            "    attacker       0.97      0.97      0.97     15078\n",
            "      normal       0.99      0.98      0.99    140037\n",
            "      victim       0.87      0.90      0.88     13916\n",
            "\n",
            "    accuracy                           0.98    169031\n",
            "   macro avg       0.94      0.95      0.95    169031\n",
            "weighted avg       0.98      0.98      0.98    169031\n",
            "\n",
            "accuracy: 0.9812729069619707\n",
            "precision: 0.949505\n",
            "recall: 0.973936\n",
            "              precision    recall  f1-score   support\n",
            "\n",
            "    attacker       0.98      0.98      0.98     91009\n",
            "      normal       0.99      0.98      0.99    851802\n",
            "      victim       0.88      0.96      0.92     88262\n",
            "\n",
            "    accuracy                           0.98   1031073\n",
            "   macro avg       0.95      0.97      0.96   1031073\n",
            "weighted avg       0.98      0.98      0.98   1031073\n",
            "\n"
          ],
          "name": "stdout"
        },
        {
          "output_type": "execute_result",
          "data": {
            "text/plain": [
              "<graphviz.files.Source at 0x7fd44ed04240>"
            ],
            "image/svg+xml": "<?xml version=\"1.0\" encoding=\"UTF-8\" standalone=\"no\"?>\n<!DOCTYPE svg PUBLIC \"-//W3C//DTD SVG 1.1//EN\"\n \"http://www.w3.org/Graphics/SVG/1.1/DTD/svg11.dtd\">\n<!-- Generated by graphviz version 2.40.1 (20161225.0304)\n -->\n<!-- Title: Tree Pages: 1 -->\n<svg width=\"1440pt\" height=\"373pt\"\n viewBox=\"0.00 0.00 1440.00 373.00\" xmlns=\"http://www.w3.org/2000/svg\" xmlns:xlink=\"http://www.w3.org/1999/xlink\">\n<g id=\"graph0\" class=\"graph\" transform=\"scale(1 1) rotate(0) translate(4 369)\">\n<title>Tree</title>\n<polygon fill=\"#ffffff\" stroke=\"transparent\" points=\"-4,4 -4,-369 1436,-369 1436,4 -4,4\"/>\n<!-- 0 -->\n<g id=\"node1\" class=\"node\">\n<title>0</title>\n<polygon fill=\"none\" stroke=\"#000000\" points=\"812,-365 605,-365 605,-297 812,-297 812,-365\"/>\n<text text-anchor=\"middle\" x=\"708.5\" y=\"-349.8\" font-family=\"Times,serif\" font-size=\"14.00\" fill=\"#000000\">Packets &lt;= 2.5</text>\n<text text-anchor=\"middle\" x=\"708.5\" y=\"-334.8\" font-family=\"Times,serif\" font-size=\"14.00\" fill=\"#000000\">gini = 0.298</text>\n<text text-anchor=\"middle\" x=\"708.5\" y=\"-319.8\" font-family=\"Times,serif\" font-size=\"14.00\" fill=\"#000000\">samples = 676121</text>\n<text text-anchor=\"middle\" x=\"708.5\" y=\"-304.8\" font-family=\"Times,serif\" font-size=\"14.00\" fill=\"#000000\">value = [60046, 560476, 55599]</text>\n</g>\n<!-- 1 -->\n<g id=\"node2\" class=\"node\">\n<title>1</title>\n<polygon fill=\"none\" stroke=\"#000000\" points=\"633.5,-261 441.5,-261 441.5,-193 633.5,-193 633.5,-261\"/>\n<text text-anchor=\"middle\" x=\"537.5\" y=\"-245.8\" font-family=\"Times,serif\" font-size=\"14.00\" fill=\"#000000\">Bytes &lt;= 60.0</text>\n<text text-anchor=\"middle\" x=\"537.5\" y=\"-230.8\" font-family=\"Times,serif\" font-size=\"14.00\" fill=\"#000000\">gini = 0.068</text>\n<text text-anchor=\"middle\" x=\"537.5\" y=\"-215.8\" font-family=\"Times,serif\" font-size=\"14.00\" fill=\"#000000\">samples = 433167</text>\n<text text-anchor=\"middle\" x=\"537.5\" y=\"-200.8\" font-family=\"Times,serif\" font-size=\"14.00\" fill=\"#000000\">value = [9713, 417950, 5504]</text>\n</g>\n<!-- 0&#45;&gt;1 -->\n<g id=\"edge1\" class=\"edge\">\n<title>0&#45;&gt;1</title>\n<path fill=\"none\" stroke=\"#000000\" d=\"M652.5082,-296.9465C636.4168,-287.1599 618.7359,-276.4066 602.1666,-266.3294\"/>\n<polygon fill=\"#000000\" stroke=\"#000000\" points=\"603.9802,-263.336 593.6176,-261.13 600.3428,-269.3167 603.9802,-263.336\"/>\n<text text-anchor=\"middle\" x=\"599.5354\" y=\"-281.7195\" font-family=\"Times,serif\" font-size=\"14.00\" fill=\"#000000\">True</text>\n</g>\n<!-- 8 -->\n<g id=\"node9\" class=\"node\">\n<title>8</title>\n<polygon fill=\"none\" stroke=\"#000000\" points=\"994,-261 787,-261 787,-193 994,-193 994,-261\"/>\n<text text-anchor=\"middle\" x=\"890.5\" y=\"-245.8\" font-family=\"Times,serif\" font-size=\"14.00\" fill=\"#000000\">Duration &lt;= 0.013</text>\n<text text-anchor=\"middle\" x=\"890.5\" y=\"-230.8\" font-family=\"Times,serif\" font-size=\"14.00\" fill=\"#000000\">gini = 0.57</text>\n<text text-anchor=\"middle\" x=\"890.5\" y=\"-215.8\" font-family=\"Times,serif\" font-size=\"14.00\" fill=\"#000000\">samples = 242954</text>\n<text text-anchor=\"middle\" x=\"890.5\" y=\"-200.8\" font-family=\"Times,serif\" font-size=\"14.00\" fill=\"#000000\">value = [50333, 142526, 50095]</text>\n</g>\n<!-- 0&#45;&gt;8 -->\n<g id=\"edge8\" class=\"edge\">\n<title>0&#45;&gt;8</title>\n<path fill=\"none\" stroke=\"#000000\" d=\"M768.0936,-296.9465C785.2202,-287.1599 804.0384,-276.4066 821.6735,-266.3294\"/>\n<polygon fill=\"#000000\" stroke=\"#000000\" points=\"823.8266,-269.1303 830.7725,-261.13 820.3536,-263.0526 823.8266,-269.1303\"/>\n<text text-anchor=\"middle\" x=\"824.1946\" y=\"-281.5491\" font-family=\"Times,serif\" font-size=\"14.00\" fill=\"#000000\">False</text>\n</g>\n<!-- 2 -->\n<g id=\"node3\" class=\"node\">\n<title>2</title>\n<polygon fill=\"none\" stroke=\"#000000\" points=\"369,-157 184,-157 184,-89 369,-89 369,-157\"/>\n<text text-anchor=\"middle\" x=\"276.5\" y=\"-141.8\" font-family=\"Times,serif\" font-size=\"14.00\" fill=\"#000000\">Bytes &lt;= 57.5</text>\n<text text-anchor=\"middle\" x=\"276.5\" y=\"-126.8\" font-family=\"Times,serif\" font-size=\"14.00\" fill=\"#000000\">gini = 0.38</text>\n<text text-anchor=\"middle\" x=\"276.5\" y=\"-111.8\" font-family=\"Times,serif\" font-size=\"14.00\" fill=\"#000000\">samples = 62480</text>\n<text text-anchor=\"middle\" x=\"276.5\" y=\"-96.8\" font-family=\"Times,serif\" font-size=\"14.00\" fill=\"#000000\">value = [9147, 48042, 5291]</text>\n</g>\n<!-- 1&#45;&gt;2 -->\n<g id=\"edge2\" class=\"edge\">\n<title>1&#45;&gt;2</title>\n<path fill=\"none\" stroke=\"#000000\" d=\"M452.0388,-192.9465C426.3516,-182.711 398.0107,-171.4181 371.7325,-160.9471\"/>\n<polygon fill=\"#000000\" stroke=\"#000000\" points=\"372.7384,-157.5803 362.1532,-157.13 370.1472,-164.0831 372.7384,-157.5803\"/>\n</g>\n<!-- 5 -->\n<g id=\"node6\" class=\"node\">\n<title>5</title>\n<polygon fill=\"none\" stroke=\"#000000\" points=\"626,-157 449,-157 449,-89 626,-89 626,-157\"/>\n<text text-anchor=\"middle\" x=\"537.5\" y=\"-141.8\" font-family=\"Times,serif\" font-size=\"14.00\" fill=\"#000000\">Duration &lt;= 0.398</text>\n<text text-anchor=\"middle\" x=\"537.5\" y=\"-126.8\" font-family=\"Times,serif\" font-size=\"14.00\" fill=\"#000000\">gini = 0.004</text>\n<text text-anchor=\"middle\" x=\"537.5\" y=\"-111.8\" font-family=\"Times,serif\" font-size=\"14.00\" fill=\"#000000\">samples = 370687</text>\n<text text-anchor=\"middle\" x=\"537.5\" y=\"-96.8\" font-family=\"Times,serif\" font-size=\"14.00\" fill=\"#000000\">value = [566, 369908, 213]</text>\n</g>\n<!-- 1&#45;&gt;5 -->\n<g id=\"edge5\" class=\"edge\">\n<title>1&#45;&gt;5</title>\n<path fill=\"none\" stroke=\"#000000\" d=\"M537.5,-192.9465C537.5,-184.776 537.5,-175.9318 537.5,-167.3697\"/>\n<polygon fill=\"#000000\" stroke=\"#000000\" points=\"541.0001,-167.13 537.5,-157.13 534.0001,-167.13 541.0001,-167.13\"/>\n</g>\n<!-- 3 -->\n<g id=\"node4\" class=\"node\">\n<title>3</title>\n<polygon fill=\"none\" stroke=\"#000000\" points=\"177,-53 0,-53 0,0 177,0 177,-53\"/>\n<text text-anchor=\"middle\" x=\"88.5\" y=\"-37.8\" font-family=\"Times,serif\" font-size=\"14.00\" fill=\"#000000\">gini = 0.189</text>\n<text text-anchor=\"middle\" x=\"88.5\" y=\"-22.8\" font-family=\"Times,serif\" font-size=\"14.00\" fill=\"#000000\">samples = 53181</text>\n<text text-anchor=\"middle\" x=\"88.5\" y=\"-7.8\" font-family=\"Times,serif\" font-size=\"14.00\" fill=\"#000000\">value = [544, 47615, 5022]</text>\n</g>\n<!-- 2&#45;&gt;3 -->\n<g id=\"edge3\" class=\"edge\">\n<title>2&#45;&gt;3</title>\n<path fill=\"none\" stroke=\"#000000\" d=\"M210.2182,-88.9777C190.4143,-78.8124 168.8078,-67.7218 149.3689,-57.7439\"/>\n<polygon fill=\"#000000\" stroke=\"#000000\" points=\"150.8068,-54.5478 140.3121,-53.095 147.6102,-60.7754 150.8068,-54.5478\"/>\n</g>\n<!-- 4 -->\n<g id=\"node5\" class=\"node\">\n<title>4</title>\n<polygon fill=\"none\" stroke=\"#000000\" points=\"357.5,-53 195.5,-53 195.5,0 357.5,0 357.5,-53\"/>\n<text text-anchor=\"middle\" x=\"276.5\" y=\"-37.8\" font-family=\"Times,serif\" font-size=\"14.00\" fill=\"#000000\">gini = 0.141</text>\n<text text-anchor=\"middle\" x=\"276.5\" y=\"-22.8\" font-family=\"Times,serif\" font-size=\"14.00\" fill=\"#000000\">samples = 9299</text>\n<text text-anchor=\"middle\" x=\"276.5\" y=\"-7.8\" font-family=\"Times,serif\" font-size=\"14.00\" fill=\"#000000\">value = [8603, 427, 269]</text>\n</g>\n<!-- 2&#45;&gt;4 -->\n<g id=\"edge4\" class=\"edge\">\n<title>2&#45;&gt;4</title>\n<path fill=\"none\" stroke=\"#000000\" d=\"M276.5,-88.9777C276.5,-80.7364 276.5,-71.887 276.5,-63.5153\"/>\n<polygon fill=\"#000000\" stroke=\"#000000\" points=\"280.0001,-63.2484 276.5,-53.2485 273.0001,-63.2485 280.0001,-63.2484\"/>\n</g>\n<!-- 6 -->\n<g id=\"node7\" class=\"node\">\n<title>6</title>\n<polygon fill=\"none\" stroke=\"#000000\" points=\"553,-53 376,-53 376,0 553,0 553,-53\"/>\n<text text-anchor=\"middle\" x=\"464.5\" y=\"-37.8\" font-family=\"Times,serif\" font-size=\"14.00\" fill=\"#000000\">gini = 0.004</text>\n<text text-anchor=\"middle\" x=\"464.5\" y=\"-22.8\" font-family=\"Times,serif\" font-size=\"14.00\" fill=\"#000000\">samples = 367683</text>\n<text text-anchor=\"middle\" x=\"464.5\" y=\"-7.8\" font-family=\"Times,serif\" font-size=\"14.00\" fill=\"#000000\">value = [457, 367016, 210]</text>\n</g>\n<!-- 5&#45;&gt;6 -->\n<g id=\"edge6\" class=\"edge\">\n<title>5&#45;&gt;6</title>\n<path fill=\"none\" stroke=\"#000000\" d=\"M511.7629,-88.9777C504.9744,-80.0039 497.6404,-70.3089 490.8216,-61.295\"/>\n<polygon fill=\"#000000\" stroke=\"#000000\" points=\"493.559,-59.1121 484.7346,-53.2485 487.9763,-63.3352 493.559,-59.1121\"/>\n</g>\n<!-- 7 -->\n<g id=\"node8\" class=\"node\">\n<title>7</title>\n<polygon fill=\"none\" stroke=\"#000000\" points=\"718,-53 571,-53 571,0 718,0 718,-53\"/>\n<text text-anchor=\"middle\" x=\"644.5\" y=\"-37.8\" font-family=\"Times,serif\" font-size=\"14.00\" fill=\"#000000\">gini = 0.072</text>\n<text text-anchor=\"middle\" x=\"644.5\" y=\"-22.8\" font-family=\"Times,serif\" font-size=\"14.00\" fill=\"#000000\">samples = 3004</text>\n<text text-anchor=\"middle\" x=\"644.5\" y=\"-7.8\" font-family=\"Times,serif\" font-size=\"14.00\" fill=\"#000000\">value = [109, 2892, 3]</text>\n</g>\n<!-- 5&#45;&gt;7 -->\n<g id=\"edge7\" class=\"edge\">\n<title>5&#45;&gt;7</title>\n<path fill=\"none\" stroke=\"#000000\" d=\"M575.2242,-88.9777C585.5806,-79.6376 596.8031,-69.5163 607.139,-60.1947\"/>\n<polygon fill=\"#000000\" stroke=\"#000000\" points=\"609.7591,-62.5449 614.8411,-53.2485 605.0709,-57.3467 609.7591,-62.5449\"/>\n</g>\n<!-- 9 -->\n<g id=\"node10\" class=\"node\">\n<title>9</title>\n<polygon fill=\"none\" stroke=\"#000000\" points=\"986.5,-157 794.5,-157 794.5,-89 986.5,-89 986.5,-157\"/>\n<text text-anchor=\"middle\" x=\"890.5\" y=\"-141.8\" font-family=\"Times,serif\" font-size=\"14.00\" fill=\"#000000\">Packets &lt;= 4.5</text>\n<text text-anchor=\"middle\" x=\"890.5\" y=\"-126.8\" font-family=\"Times,serif\" font-size=\"14.00\" fill=\"#000000\">gini = 0.567</text>\n<text text-anchor=\"middle\" x=\"890.5\" y=\"-111.8\" font-family=\"Times,serif\" font-size=\"14.00\" fill=\"#000000\">samples = 107897</text>\n<text text-anchor=\"middle\" x=\"890.5\" y=\"-96.8\" font-family=\"Times,serif\" font-size=\"14.00\" fill=\"#000000\">value = [49899, 8161, 49837]</text>\n</g>\n<!-- 8&#45;&gt;9 -->\n<g id=\"edge9\" class=\"edge\">\n<title>8&#45;&gt;9</title>\n<path fill=\"none\" stroke=\"#000000\" d=\"M890.5,-192.9465C890.5,-184.776 890.5,-175.9318 890.5,-167.3697\"/>\n<polygon fill=\"#000000\" stroke=\"#000000\" points=\"894.0001,-167.13 890.5,-157.13 887.0001,-167.13 894.0001,-167.13\"/>\n</g>\n<!-- 12 -->\n<g id=\"node13\" class=\"node\">\n<title>12</title>\n<polygon fill=\"none\" stroke=\"#000000\" points=\"1255,-157 1078,-157 1078,-89 1255,-89 1255,-157\"/>\n<text text-anchor=\"middle\" x=\"1166.5\" y=\"-141.8\" font-family=\"Times,serif\" font-size=\"14.00\" fill=\"#000000\">Duration &lt;= 0.015</text>\n<text text-anchor=\"middle\" x=\"1166.5\" y=\"-126.8\" font-family=\"Times,serif\" font-size=\"14.00\" fill=\"#000000\">gini = 0.01</text>\n<text text-anchor=\"middle\" x=\"1166.5\" y=\"-111.8\" font-family=\"Times,serif\" font-size=\"14.00\" fill=\"#000000\">samples = 135057</text>\n<text text-anchor=\"middle\" x=\"1166.5\" y=\"-96.8\" font-family=\"Times,serif\" font-size=\"14.00\" fill=\"#000000\">value = [434, 134365, 258]</text>\n</g>\n<!-- 8&#45;&gt;12 -->\n<g id=\"edge12\" class=\"edge\">\n<title>8&#45;&gt;12</title>\n<path fill=\"none\" stroke=\"#000000\" d=\"M980.8727,-192.9465C1008.8395,-182.4083 1039.7808,-170.7492 1068.2537,-160.0203\"/>\n<polygon fill=\"#000000\" stroke=\"#000000\" points=\"1069.6837,-163.2218 1077.8072,-156.4205 1067.2153,-156.6714 1069.6837,-163.2218\"/>\n</g>\n<!-- 10 -->\n<g id=\"node11\" class=\"node\">\n<title>10</title>\n<polygon fill=\"none\" stroke=\"#000000\" points=\"898.5,-53 736.5,-53 736.5,0 898.5,0 898.5,-53\"/>\n<text text-anchor=\"middle\" x=\"817.5\" y=\"-37.8\" font-family=\"Times,serif\" font-size=\"14.00\" fill=\"#000000\">gini = 0.223</text>\n<text text-anchor=\"middle\" x=\"817.5\" y=\"-22.8\" font-family=\"Times,serif\" font-size=\"14.00\" fill=\"#000000\">samples = 57141</text>\n<text text-anchor=\"middle\" x=\"817.5\" y=\"-7.8\" font-family=\"Times,serif\" font-size=\"14.00\" fill=\"#000000\">value = [8, 7314, 49819]</text>\n</g>\n<!-- 9&#45;&gt;10 -->\n<g id=\"edge10\" class=\"edge\">\n<title>9&#45;&gt;10</title>\n<path fill=\"none\" stroke=\"#000000\" d=\"M864.7629,-88.9777C857.9744,-80.0039 850.6404,-70.3089 843.8216,-61.295\"/>\n<polygon fill=\"#000000\" stroke=\"#000000\" points=\"846.559,-59.1121 837.7346,-53.2485 840.9763,-63.3352 846.559,-59.1121\"/>\n</g>\n<!-- 11 -->\n<g id=\"node12\" class=\"node\">\n<title>11</title>\n<polygon fill=\"none\" stroke=\"#000000\" points=\"1078.5,-53 916.5,-53 916.5,0 1078.5,0 1078.5,-53\"/>\n<text text-anchor=\"middle\" x=\"997.5\" y=\"-37.8\" font-family=\"Times,serif\" font-size=\"14.00\" fill=\"#000000\">gini = 0.034</text>\n<text text-anchor=\"middle\" x=\"997.5\" y=\"-22.8\" font-family=\"Times,serif\" font-size=\"14.00\" fill=\"#000000\">samples = 50756</text>\n<text text-anchor=\"middle\" x=\"997.5\" y=\"-7.8\" font-family=\"Times,serif\" font-size=\"14.00\" fill=\"#000000\">value = [49891, 847, 18]</text>\n</g>\n<!-- 9&#45;&gt;11 -->\n<g id=\"edge11\" class=\"edge\">\n<title>9&#45;&gt;11</title>\n<path fill=\"none\" stroke=\"#000000\" d=\"M928.2242,-88.9777C938.5806,-79.6376 949.8031,-69.5163 960.139,-60.1947\"/>\n<polygon fill=\"#000000\" stroke=\"#000000\" points=\"962.7591,-62.5449 967.8411,-53.2485 958.0709,-57.3467 962.7591,-62.5449\"/>\n</g>\n<!-- 13 -->\n<g id=\"node14\" class=\"node\">\n<title>13</title>\n<polygon fill=\"none\" stroke=\"#000000\" points=\"1236.5,-53 1096.5,-53 1096.5,0 1236.5,0 1236.5,-53\"/>\n<text text-anchor=\"middle\" x=\"1166.5\" y=\"-37.8\" font-family=\"Times,serif\" font-size=\"14.00\" fill=\"#000000\">gini = 0.373</text>\n<text text-anchor=\"middle\" x=\"1166.5\" y=\"-22.8\" font-family=\"Times,serif\" font-size=\"14.00\" fill=\"#000000\">samples = 705</text>\n<text text-anchor=\"middle\" x=\"1166.5\" y=\"-7.8\" font-family=\"Times,serif\" font-size=\"14.00\" fill=\"#000000\">value = [88, 547, 70]</text>\n</g>\n<!-- 12&#45;&gt;13 -->\n<g id=\"edge13\" class=\"edge\">\n<title>12&#45;&gt;13</title>\n<path fill=\"none\" stroke=\"#000000\" d=\"M1166.5,-88.9777C1166.5,-80.7364 1166.5,-71.887 1166.5,-63.5153\"/>\n<polygon fill=\"#000000\" stroke=\"#000000\" points=\"1170.0001,-63.2484 1166.5,-53.2485 1163.0001,-63.2485 1170.0001,-63.2484\"/>\n</g>\n<!-- 14 -->\n<g id=\"node15\" class=\"node\">\n<title>14</title>\n<polygon fill=\"none\" stroke=\"#000000\" points=\"1432,-53 1255,-53 1255,0 1432,0 1432,-53\"/>\n<text text-anchor=\"middle\" x=\"1343.5\" y=\"-37.8\" font-family=\"Times,serif\" font-size=\"14.00\" fill=\"#000000\">gini = 0.008</text>\n<text text-anchor=\"middle\" x=\"1343.5\" y=\"-22.8\" font-family=\"Times,serif\" font-size=\"14.00\" fill=\"#000000\">samples = 134352</text>\n<text text-anchor=\"middle\" x=\"1343.5\" y=\"-7.8\" font-family=\"Times,serif\" font-size=\"14.00\" fill=\"#000000\">value = [346, 133818, 188]</text>\n</g>\n<!-- 12&#45;&gt;14 -->\n<g id=\"edge14\" class=\"edge\">\n<title>12&#45;&gt;14</title>\n<path fill=\"none\" stroke=\"#000000\" d=\"M1228.9036,-88.9777C1247.2956,-78.9504 1267.3391,-68.0228 1285.4462,-58.1508\"/>\n<polygon fill=\"#000000\" stroke=\"#000000\" points=\"1287.615,-60.9548 1294.7195,-53.095 1284.2642,-54.8089 1287.615,-60.9548\"/>\n</g>\n</g>\n</svg>\n"
          },
          "metadata": {
            "tags": []
          },
          "execution_count": 31
        }
      ]
    },
    {
      "cell_type": "code",
      "metadata": {
        "id": "QZE2RAYk5qzA",
        "colab_type": "code",
        "outputId": "87aba7d0-fbf1-44b5-a83d-8c01e1fa6b90",
        "colab": {
          "base_uri": "https://localhost:8080/",
          "height": 509
        }
      },
      "source": [
        "\n",
        "X_train,  X_test, y_train, y_test = train_test_split(\n",
        "    df[['Duration', 'Packets','Bytes']],  \n",
        "    df[['class']], \n",
        "    test_size=0.20\n",
        ")\n",
        "from sklearn.ensemble import RandomForestClassifier\n",
        "# define the classifier\n",
        "clf_rf = RandomForestClassifier(n_estimators=700, n_jobs=-1, verbose=1)\n",
        "\n",
        "# train the classifier\n",
        "t0 = time.time()\n",
        "clf_rf.fit(X_train, y_train)\n",
        "print(\"elapsed time = %.2f\" % (time.time()-t0))\n",
        "\n",
        "# perform the prediction\n",
        "y_pred_rf = clf_rf.predict(X_test)\n",
        "\n",
        "print(\"accuracy: {}\".format(metrics.accuracy_score(y_test, y_pred_rf)))\n",
        "print(\"precision: {:g}\".format(metrics.precision_score(y_test, y_pred_rf,average='macro')))\n",
        "print(\"recall: {:g}\".format(metrics.recall_score(y_test, y_pred_rf, average='macro')))\n",
        "print(metrics.classification_report(y_test, y_pred_rf))"
      ],
      "execution_count": 32,
      "outputs": [
        {
          "output_type": "stream",
          "text": [
            "/usr/local/lib/python3.6/dist-packages/ipykernel_launcher.py:13: DataConversionWarning: A column-vector y was passed when a 1d array was expected. Please change the shape of y to (n_samples,), for example using ravel().\n",
            "  del sys.path[0]\n",
            "[Parallel(n_jobs=-1)]: Using backend ThreadingBackend with 4 concurrent workers.\n",
            "[Parallel(n_jobs=-1)]: Done  42 tasks      | elapsed:    8.8s\n",
            "[Parallel(n_jobs=-1)]: Done 192 tasks      | elapsed:   37.6s\n",
            "[Parallel(n_jobs=-1)]: Done 442 tasks      | elapsed:  1.4min\n",
            "[Parallel(n_jobs=-1)]: Done 700 out of 700 | elapsed:  2.2min finished\n",
            "[Parallel(n_jobs=4)]: Using backend ThreadingBackend with 4 concurrent workers.\n"
          ],
          "name": "stderr"
        },
        {
          "output_type": "stream",
          "text": [
            "elapsed time = 132.74\n"
          ],
          "name": "stdout"
        },
        {
          "output_type": "stream",
          "text": [
            "[Parallel(n_jobs=4)]: Done  42 tasks      | elapsed:    0.3s\n",
            "[Parallel(n_jobs=4)]: Done 192 tasks      | elapsed:    1.1s\n",
            "[Parallel(n_jobs=4)]: Done 442 tasks      | elapsed:    2.4s\n",
            "[Parallel(n_jobs=4)]: Done 700 out of 700 | elapsed:    3.9s finished\n"
          ],
          "name": "stderr"
        },
        {
          "output_type": "stream",
          "text": [
            "accuracy: 0.9904928681721105\n",
            "precision: 0.992497\n",
            "recall: 0.963499\n",
            "              precision    recall  f1-score   support\n",
            "\n",
            "    attacker       0.99      0.99      0.99     14961\n",
            "      normal       0.99      1.00      0.99    140447\n",
            "      victim       1.00      0.90      0.95     13623\n",
            "\n",
            "    accuracy                           0.99    169031\n",
            "   macro avg       0.99      0.96      0.98    169031\n",
            "weighted avg       0.99      0.99      0.99    169031\n",
            "\n"
          ],
          "name": "stdout"
        }
      ]
    },
    {
      "cell_type": "markdown",
      "metadata": {
        "id": "ku4yG9Dfy90U",
        "colab_type": "text"
      },
      "source": [
        "- How does GaussianNB perform on the numeric features?\n"
      ]
    },
    {
      "cell_type": "code",
      "metadata": {
        "id": "gSAX9ds__wsY",
        "colab_type": "code",
        "outputId": "66f07cd3-e1dd-4a37-cb1d-4285814fbf53",
        "colab": {
          "base_uri": "https://localhost:8080/",
          "height": 328
        }
      },
      "source": [
        "\n",
        "#map class to numeric thing\n",
        "X_train,  X_test, y_train, y_test = train_test_split(\n",
        "    df[['Duration', 'Packets','Bytes']],  \n",
        "    df[['class']], \n",
        "    test_size=0.20\n",
        ")\n",
        "from sklearn.naive_bayes import GaussianNB\n",
        "# define the classifier\n",
        "clf_nb = GaussianNB()\n",
        "\n",
        "# train the classifier\n",
        "t0 = time.time()\n",
        "clf_nb.fit(X_train, y_train)\n",
        "print(\"elapsed time = %.2f\" % (time.time()-t0))\n",
        "\n",
        "# perform the prediction\n",
        "y_pred_nb = clf_nb.predict(X_test)\n",
        "\n",
        "print(\"accuracy: {}\".format(metrics.accuracy_score(y_test, y_pred_nb)))\n",
        "print(\"precision: {:g}\".format(metrics.precision_score(y_test, y_pred_nb,average='macro')))\n",
        "print(\"recall: {:g}\".format(metrics.recall_score(y_test, y_pred_nb, average='macro')))\n",
        "print(metrics.classification_report(y_test, y_pred_nb))"
      ],
      "execution_count": 33,
      "outputs": [
        {
          "output_type": "stream",
          "text": [
            "/usr/local/lib/python3.6/dist-packages/sklearn/utils/validation.py:724: DataConversionWarning: A column-vector y was passed when a 1d array was expected. Please change the shape of y to (n_samples, ), for example using ravel().\n",
            "  y = column_or_1d(y, warn=True)\n"
          ],
          "name": "stderr"
        },
        {
          "output_type": "stream",
          "text": [
            "elapsed time = 1.34\n",
            "accuracy: 0.26133076181292186\n",
            "precision: 0.500053\n",
            "recall: 0.655673\n",
            "              precision    recall  f1-score   support\n",
            "\n",
            "    attacker       0.38      0.84      0.53     14829\n",
            "      normal       1.00      0.13      0.22    140085\n",
            "      victim       0.12      1.00      0.21     14117\n",
            "\n",
            "    accuracy                           0.26    169031\n",
            "   macro avg       0.50      0.66      0.32    169031\n",
            "weighted avg       0.87      0.26      0.25    169031\n",
            "\n"
          ],
          "name": "stdout"
        }
      ]
    },
    {
      "cell_type": "markdown",
      "metadata": {
        "id": "ww5-Y6RwanyI",
        "colab_type": "text"
      },
      "source": [
        "It doesn't perform well on the numeric features because of feature imbalance. Also, Naive Bayes assumption don't hold up in our case. "
      ]
    },
    {
      "cell_type": "markdown",
      "metadata": {
        "id": "e2p2KQPsy-ho",
        "colab_type": "text"
      },
      "source": [
        "- Beware running the SVM classifier: There is a lot of data here, so you would need to use a linear SVM rather than an RBF one, (and even then it may run out of memory without adjustments).\n"
      ]
    },
    {
      "cell_type": "code",
      "metadata": {
        "id": "CLGui5rly-xQ",
        "colab_type": "code",
        "colab": {}
      },
      "source": [
        "#from sklearn.svm import LinearSVC\n",
        "#define the classifier\n",
        "#clf_svc = LinearSVC(verbose=True)\n",
        "\n",
        "# train the classifier\n",
        "#t0 = time.time()\n",
        "#clf_svc.fit(X_train, y_train)\n",
        "#print(\"elapsed time = %.2f\" % (time.time()-t0))\n",
        "\n",
        "# perform the prediction \n",
        "#y_pred_svc = clf_svc.predict(X_test)\n",
        "\n",
        "#print(\"accuracy: {}\".format(metrics.accuracy_score(y_test, y_pred_svc)))\n",
        "#print(\"precision: {:g}\".format(metrics.precision_score(y_test, y_pred_svc,average='macro')))\n",
        "#print(\"recall: {:g}\".format(metrics.recall_score(y_test, y_pred_svc, average='macro')))\n",
        "#print(metrics.classification_report(y_test, y_pred_svc))\n",
        "#takes a long time"
      ],
      "execution_count": 0,
      "outputs": []
    },
    {
      "cell_type": "markdown",
      "metadata": {
        "id": "3qIIN72Ay_Cc",
        "colab_type": "text"
      },
      "source": [
        "- Convert the class to a binary attribute (malicious vs benign) and compute precision and recall values.\n",
        "Anything of note?"
      ]
    },
    {
      "cell_type": "code",
      "metadata": {
        "id": "bNIco0m10-v4",
        "colab_type": "code",
        "colab": {}
      },
      "source": [
        "df['classBin']= df['class'].apply(lambda x: 'benign' if x == 'normal' else 'malicious')"
      ],
      "execution_count": 0,
      "outputs": []
    },
    {
      "cell_type": "code",
      "metadata": {
        "id": "Zsvm5AcqBOKM",
        "colab_type": "code",
        "outputId": "3119d460-d4b3-4f06-ae41-089d901ec5e0",
        "colab": {
          "base_uri": "https://localhost:8080/",
          "height": 346
        }
      },
      "source": [
        "from sklearn.model_selection import train_test_split\n",
        "\n",
        "X_train,  X_test, y_train, y_test = train_test_split( \n",
        "    df[['Duration', 'Packets', 'Bytes']],  \n",
        "    df[['classBin']], \n",
        "    test_size=0.20\n",
        ")\n",
        "\n",
        "from sklearn.linear_model import LogisticRegression\n",
        "\n",
        "# define the classifier\n",
        "clf_lr_bin = LogisticRegression(solver='lbfgs', max_iter=50, verbose=1, n_jobs=-1)\n",
        "\n",
        "# train the classifier\n",
        "t0 = time.time()\n",
        "clf_lr_bin.fit(X_train, y_train)\n",
        "print(\"elapsed time = %.2f\" % (time.time()-t0))\n",
        "y_pred_lr_bin = clf_lr_bin.predict(X_test)\n",
        "\n",
        "print(\"accuracy: {}\".format(metrics.accuracy_score(y_test, y_pred_lr_bin)))\n",
        "print(\"precision: {:g}\".format(metrics.precision_score(y_test, y_pred_lr_bin, average='macro')))\n",
        "print(\"recall: {:g}\".format(metrics.recall_score(y_test, y_pred_lr_bin, average='macro')))\n",
        "print(metrics.classification_report(y_test, y_pred_lr_bin))\n",
        "df=df.drop(['classBin'], axis=1)"
      ],
      "execution_count": 36,
      "outputs": [
        {
          "output_type": "stream",
          "text": [
            "/usr/local/lib/python3.6/dist-packages/sklearn/utils/validation.py:724: DataConversionWarning: A column-vector y was passed when a 1d array was expected. Please change the shape of y to (n_samples, ), for example using ravel().\n",
            "  y = column_or_1d(y, warn=True)\n",
            "[Parallel(n_jobs=-1)]: Using backend LokyBackend with 4 concurrent workers.\n",
            "[Parallel(n_jobs=-1)]: Done   1 out of   1 | elapsed:    6.2s finished\n"
          ],
          "name": "stderr"
        },
        {
          "output_type": "stream",
          "text": [
            "elapsed time = 7.08\n",
            "accuracy: 0.828960368216481\n",
            "precision: 0.414505\n",
            "recall: 0.499964\n",
            "              precision    recall  f1-score   support\n",
            "\n",
            "      benign       0.83      1.00      0.91    140130\n",
            "   malicious       0.00      0.00      0.00     28901\n",
            "\n",
            "    accuracy                           0.83    169031\n",
            "   macro avg       0.41      0.50      0.45    169031\n",
            "weighted avg       0.69      0.83      0.75    169031\n",
            "\n"
          ],
          "name": "stdout"
        }
      ]
    },
    {
      "cell_type": "markdown",
      "metadata": {
        "id": "hPRDfzkXbnsF",
        "colab_type": "text"
      },
      "source": [
        "It gets better, logistic regression works better with binary attributes"
      ]
    },
    {
      "cell_type": "markdown",
      "metadata": {
        "id": "bYBBY2Fj_wsY",
        "colab_type": "text"
      },
      "source": [
        "### Predicting another target:\n",
        "- Rather than predicting the class variable, try to predict the “attackType” variable.\n"
      ]
    },
    {
      "cell_type": "code",
      "metadata": {
        "id": "BXg9ort1_wsY",
        "colab_type": "code",
        "outputId": "94e8ddce-82eb-494b-aca0-04fe1f1259c5",
        "colab": {
          "base_uri": "https://localhost:8080/",
          "height": 400
        }
      },
      "source": [
        "from sklearn.model_selection import train_test_split\n",
        "#map class to numeric thing\n",
        "X_train,  X_test, y_train, y_test = train_test_split(\n",
        "    df[['Duration', 'Packets','Bytes']],  \n",
        "    df[['attackType']], \n",
        "    test_size=0.20\n",
        ")\n",
        "\n",
        "from sklearn.tree import DecisionTreeClassifier\n",
        "# define the classifier\n",
        "clf_dt = DecisionTreeClassifier(max_depth=5)\n",
        "\n",
        "# train the classifier\n",
        "t0 = time.time()\n",
        "clf_dt.fit(X_train, y_train)\n",
        "print(\"elapsed time = %.2f\" % (time.time()-t0))\n",
        "\n",
        "# perform the prediction\n",
        "y_pred_dt_at = clf_dt.predict(X_test)\n",
        "\n",
        "\n",
        "print(\"accuracy: {}\".format(metrics.accuracy_score(y_test, y_pred_dt_at)))\n",
        "print(\"precision: {:g}\".format(metrics.precision_score(y_test, y_pred_dt_at, average='macro')))\n",
        "print(\"recall: {:g}\".format(metrics.recall_score(y_test, y_pred_dt_at, average='macro')))\n",
        "print(metrics.classification_report(y_test, y_pred_dt_at))\n"
      ],
      "execution_count": 37,
      "outputs": [
        {
          "output_type": "stream",
          "text": [
            "elapsed time = 1.55\n",
            "accuracy: 0.984269157728464\n"
          ],
          "name": "stdout"
        },
        {
          "output_type": "stream",
          "text": [
            "/usr/local/lib/python3.6/dist-packages/sklearn/metrics/classification.py:1437: UndefinedMetricWarning: Precision is ill-defined and being set to 0.0 in labels with no predicted samples.\n",
            "  'precision', 'predicted', average, warn_for)\n"
          ],
          "name": "stderr"
        },
        {
          "output_type": "stream",
          "text": [
            "precision: 0.761168\n",
            "recall: 0.54245\n"
          ],
          "name": "stdout"
        },
        {
          "output_type": "stream",
          "text": [
            "/usr/local/lib/python3.6/dist-packages/sklearn/metrics/classification.py:1437: UndefinedMetricWarning: Precision and F-score are ill-defined and being set to 0.0 in labels with no predicted samples.\n",
            "  'precision', 'predicted', average, warn_for)\n"
          ],
          "name": "stderr"
        },
        {
          "output_type": "stream",
          "text": [
            "              precision    recall  f1-score   support\n",
            "\n",
            "         ---       0.98      1.00      0.99    140048\n",
            "  bruteForce       0.00      0.00      0.00        38\n",
            "         dos       0.98      0.97      0.98     25109\n",
            "    pingScan       0.89      0.12      0.21        67\n",
            "    portScan       0.95      0.62      0.75      3769\n",
            "\n",
            "    accuracy                           0.98    169031\n",
            "   macro avg       0.76      0.54      0.59    169031\n",
            "weighted avg       0.98      0.98      0.98    169031\n",
            "\n"
          ],
          "name": "stdout"
        }
      ]
    },
    {
      "cell_type": "markdown",
      "metadata": {
        "id": "2tIevtUZ6yKM",
        "colab_type": "text"
      },
      "source": [
        "- Is that variable easier/harder to predict?\n"
      ]
    },
    {
      "cell_type": "markdown",
      "metadata": {
        "id": "VSf2ZOdRPUb8",
        "colab_type": "text"
      },
      "source": [
        "It's harder, any model tested have worse performances. That's because we hare increasing the number of possible values of the feature the models have to predict. \n",
        "\n",
        "\n",
        "---\n",
        "\n"
      ]
    },
    {
      "cell_type": "markdown",
      "metadata": {
        "id": "jW29ZeS06y0Y",
        "colab_type": "text"
      },
      "source": [
        "- The data is quite unbalanced. You could try to rebalance it by randomly down-sampling the majority class. Does it improve accuracy on the (not-down sampled) test data?"
      ]
    },
    {
      "cell_type": "code",
      "metadata": {
        "id": "Bii77fQm6zFk",
        "colab_type": "code",
        "outputId": "d64c873f-2833-48e8-ba5c-eb00c0285bbf",
        "colab": {
          "base_uri": "https://localhost:8080/",
          "height": 271
        }
      },
      "source": [
        "from sklearn.linear_model import LogisticRegression\n",
        "from sklearn.utils import resample\n",
        "\n",
        "df_maj= df[df['class']==\"normal\"]\n",
        "df_min= df[df['class'] != \"normal\"]\n",
        "df_maj_sample= resample(df_maj, replace=False, n_samples=75124)\n",
        "dfbl = pd.concat([df_maj_sample,df_min])\n",
        "\n",
        "X_train,  X_test, y_train, y_test = train_test_split(\n",
        "    dfbl[['Duration', 'Packets', 'Bytes']],  \n",
        "    dfbl[['class']], \n",
        "    test_size=0.20\n",
        ")\n",
        "\n",
        "# define the classifier\n",
        "clf_dt = DecisionTreeClassifier(max_depth=3)\n",
        "\n",
        "# train the classifier\n",
        "t0 = time.time()\n",
        "clf_dt.fit(X_train, y_train)\n",
        "print(\"elapsed time = %.2f\" % (time.time()-t0))\n",
        "\n",
        "# perform the prediction\n",
        "y_pred_dt = clf_dt.predict(X_test)\n",
        "\n",
        "\n",
        "print(\"accuracy: {}\".format(metrics.accuracy_score(y_test, y_pred_dt)))\n",
        "print(\"precision: {:g}\".format(metrics.precision_score(y_test, y_pred_dt,average='macro')))\n",
        "print(\"recall: {:g}\".format(metrics.recall_score(y_test, y_pred_dt, average='macro')))\n",
        "print(metrics.classification_report(y_test, y_pred_dt))"
      ],
      "execution_count": 61,
      "outputs": [
        {
          "output_type": "stream",
          "text": [
            "elapsed time = 0.32\n",
            "accuracy: 0.9270129456464861\n",
            "precision: 0.935714\n",
            "recall: 0.926203\n",
            "              precision    recall  f1-score   support\n",
            "\n",
            "    attacker       0.85      0.99      0.91     15062\n",
            "      normal       0.98      0.90      0.93     15016\n",
            "      victim       0.98      0.90      0.94     13875\n",
            "\n",
            "    accuracy                           0.93     43953\n",
            "   macro avg       0.94      0.93      0.93     43953\n",
            "weighted avg       0.93      0.93      0.93     43953\n",
            "\n"
          ],
          "name": "stdout"
        }
      ]
    },
    {
      "cell_type": "markdown",
      "metadata": {
        "id": "1fUPOd3n_wsY",
        "colab_type": "text"
      },
      "source": [
        "### Introducing more features:\n",
        "- Introduce other features to the classifiers to see if you can further improve performance …\n"
      ]
    },
    {
      "cell_type": "code",
      "metadata": {
        "id": "Zm103-kb_wsY",
        "colab_type": "code",
        "outputId": "68233517-094c-4905-f3ae-e3c57567f786",
        "colab": {
          "base_uri": "https://localhost:8080/",
          "height": 271
        }
      },
      "source": [
        "from sklearn.model_selection import GridSearchCV\n",
        "from sklearn.pipeline import Pipeline\n",
        "from sklearn.preprocessing import StandardScaler\n",
        "from sklearn.linear_model import LogisticRegression\n",
        "\n",
        "df_one_hot = pd.get_dummies(df, columns=['Proto','Tos'])  \n",
        "X_train,  X_test, y_train, y_test = train_test_split(\n",
        "    df_one_hot.drop(['Date first seen','Src IP Addr','Src Pt','Dst IP Addr','Dst Pt','Flags','class','attackType','attackID','attackDescription','Day of week','Time of day'],axis=1),\n",
        "    df_one_hot[['class']], \n",
        "    test_size=0.20\n",
        ")\n",
        "    \n",
        "from sklearn.tree import DecisionTreeClassifier, export_graphviz\n",
        "# define the classifier\n",
        "clf_dt = DecisionTreeClassifier(max_depth=5)\n",
        "\n",
        "# train the classifier\n",
        "t0 = time.time()\n",
        "clf_dt.fit(X_train, y_train)\n",
        "print(\"elapsed time = %.2f\" % (time.time()-t0))\n",
        "\n",
        "# perform the prediction\n",
        "y_pred_dt_at = clf_dt.predict(X_test)\n",
        "\n",
        "\n",
        "print(\"accuracy: {}\".format(metrics.accuracy_score(y_test, y_pred_dt_at)))\n",
        "print(\"precision: {:g}\".format(metrics.precision_score(y_test, y_pred_dt_at, average='macro')))\n",
        "print(\"recall: {:g}\".format(metrics.recall_score(y_test, y_pred_dt_at, average='macro')))\n",
        "print(metrics.classification_report(y_test, y_pred_dt_at))\n",
        "\n"
      ],
      "execution_count": 39,
      "outputs": [
        {
          "output_type": "stream",
          "text": [
            "elapsed time = 1.92\n",
            "accuracy: 0.9864403570942608\n",
            "precision: 0.980456\n",
            "recall: 0.957998\n",
            "              precision    recall  f1-score   support\n",
            "\n",
            "    attacker       0.99      0.98      0.99     15104\n",
            "      normal       0.99      1.00      0.99    139925\n",
            "      victim       0.96      0.90      0.93     14002\n",
            "\n",
            "    accuracy                           0.99    169031\n",
            "   macro avg       0.98      0.96      0.97    169031\n",
            "weighted avg       0.99      0.99      0.99    169031\n",
            "\n"
          ],
          "name": "stdout"
        }
      ]
    },
    {
      "cell_type": "markdown",
      "metadata": {
        "id": "JFsvxAk2675o",
        "colab_type": "text"
      },
      "source": [
        "- Try adding day-of-week and time-of-day features into the classifier. Do they improve the performance?\n"
      ]
    },
    {
      "cell_type": "code",
      "metadata": {
        "id": "UEmt8Dqi68MY",
        "colab_type": "code",
        "outputId": "1c072876-eb8e-4dcc-c55a-2b79294240d4",
        "colab": {
          "base_uri": "https://localhost:8080/",
          "height": 271
        }
      },
      "source": [
        "from sklearn.model_selection import train_test_split\n",
        "#map class to numeric thing\n",
        "\n",
        "X_train,  X_test, y_train, y_test = train_test_split(\n",
        "    df_one_hot.drop(['Date first seen','Src IP Addr','Src Pt','Dst IP Addr','Dst Pt','Flags','class','attackType','attackID','attackDescription'],axis=1),\n",
        "    df_one_hot[['class']], \n",
        "    test_size=0.20\n",
        ")\n",
        "\n",
        "import graphviz\n",
        "from sklearn.tree import DecisionTreeClassifier, export_graphviz\n",
        "# define the classifier\n",
        "clf_dt = DecisionTreeClassifier(max_depth=7)\n",
        "\n",
        "# train the classifier\n",
        "t0 = time.time()\n",
        "clf_dt.fit(X_train, y_train)\n",
        "print(\"elapsed time = %.2f\" % (time.time()-t0))\n",
        "\n",
        "# perform the prediction\n",
        "y_pred_dt_at = clf_dt.predict(X_test)\n",
        "\n",
        "\n",
        "print(\"accuracy: {}\".format(metrics.accuracy_score(y_test, y_pred_dt_at)))\n",
        "print(\"precision: {:g}\".format(metrics.precision_score(y_test, y_pred_dt_at, average='macro')))\n",
        "print(\"recall: {:g}\".format(metrics.recall_score(y_test, y_pred_dt_at, average='macro')))\n",
        "print(metrics.classification_report(y_test, y_pred_dt_at))\n",
        "\n"
      ],
      "execution_count": 40,
      "outputs": [
        {
          "output_type": "stream",
          "text": [
            "elapsed time = 2.47\n",
            "accuracy: 0.9892800728860387\n",
            "precision: 0.987359\n",
            "recall: 0.962864\n",
            "              precision    recall  f1-score   support\n",
            "\n",
            "    attacker       0.99      0.99      0.99     15016\n",
            "      normal       0.99      1.00      0.99    140250\n",
            "      victim       0.98      0.90      0.94     13765\n",
            "\n",
            "    accuracy                           0.99    169031\n",
            "   macro avg       0.99      0.96      0.97    169031\n",
            "weighted avg       0.99      0.99      0.99    169031\n",
            "\n"
          ],
          "name": "stdout"
        }
      ]
    },
    {
      "cell_type": "markdown",
      "metadata": {
        "id": "ec3rzb_D68fI",
        "colab_type": "text"
      },
      "source": [
        "- Split the “Flags” column up into separate columns for each of the flags (see code below for how to do that) and then make use of the flags as features. Do they improve the performance?\n"
      ]
    },
    {
      "cell_type": "code",
      "metadata": {
        "id": "xGx-c0qxSG9Q",
        "colab_type": "code",
        "outputId": "9166e6fd-847d-44eb-eb4b-f33516ebaa29",
        "colab": {
          "base_uri": "https://localhost:8080/",
          "height": 348
        }
      },
      "source": [
        "df_one_hot['Flag_1'] = [x[0] for x in df_one_hot['Flags']]\n",
        "df_one_hot['Flag_2'] = [x[1] for x in df_one_hot['Flags']]\n",
        "df_one_hot['Flag_3'] = [x[2] for x in df_one_hot['Flags']]\n",
        "df_one_hot['Flag_4'] = [x[3] for x in df_one_hot['Flags']]\n",
        "df_one_hot['Flag_5'] = [x[4] for x in df_one_hot['Flags']]\n",
        "df_one_hot['Flag_6'] = [x[5] for x in df_one_hot['Flags']]\n",
        "df_one_hot = pd.get_dummies(df_one_hot, columns=['Flag_1','Flag_2','Flag_3','Flag_4','Flag_5','Flag_6'])\n",
        "df_one_hot.head(5)"
      ],
      "execution_count": 41,
      "outputs": [
        {
          "output_type": "execute_result",
          "data": {
            "text/html": [
              "<div>\n",
              "<style scoped>\n",
              "    .dataframe tbody tr th:only-of-type {\n",
              "        vertical-align: middle;\n",
              "    }\n",
              "\n",
              "    .dataframe tbody tr th {\n",
              "        vertical-align: top;\n",
              "    }\n",
              "\n",
              "    .dataframe thead th {\n",
              "        text-align: right;\n",
              "    }\n",
              "</style>\n",
              "<table border=\"1\" class=\"dataframe\">\n",
              "  <thead>\n",
              "    <tr style=\"text-align: right;\">\n",
              "      <th></th>\n",
              "      <th>Date first seen</th>\n",
              "      <th>Duration</th>\n",
              "      <th>Src IP Addr</th>\n",
              "      <th>Src Pt</th>\n",
              "      <th>Dst IP Addr</th>\n",
              "      <th>Dst Pt</th>\n",
              "      <th>Packets</th>\n",
              "      <th>Bytes</th>\n",
              "      <th>Flows</th>\n",
              "      <th>Flags</th>\n",
              "      <th>class</th>\n",
              "      <th>attackType</th>\n",
              "      <th>attackID</th>\n",
              "      <th>attackDescription</th>\n",
              "      <th>Day of week</th>\n",
              "      <th>Time of day</th>\n",
              "      <th>Proto_ICMP</th>\n",
              "      <th>Proto_IGMP</th>\n",
              "      <th>Proto_TCP</th>\n",
              "      <th>Proto_UDP</th>\n",
              "      <th>Tos_0</th>\n",
              "      <th>Tos_12</th>\n",
              "      <th>Tos_16</th>\n",
              "      <th>Tos_32</th>\n",
              "      <th>Tos_192</th>\n",
              "      <th>Flag_1_.</th>\n",
              "      <th>Flag_2_.</th>\n",
              "      <th>Flag_2_A</th>\n",
              "      <th>Flag_3_.</th>\n",
              "      <th>Flag_3_P</th>\n",
              "      <th>Flag_4_.</th>\n",
              "      <th>Flag_4_R</th>\n",
              "      <th>Flag_5_.</th>\n",
              "      <th>Flag_5_S</th>\n",
              "      <th>Flag_6_.</th>\n",
              "      <th>Flag_6_F</th>\n",
              "    </tr>\n",
              "  </thead>\n",
              "  <tbody>\n",
              "    <tr>\n",
              "      <th>23</th>\n",
              "      <td>2017-03-15 00:01:17.728</td>\n",
              "      <td>0.047</td>\n",
              "      <td>192.168.220.16</td>\n",
              "      <td>45586</td>\n",
              "      <td>10000_35</td>\n",
              "      <td>443.0</td>\n",
              "      <td>5</td>\n",
              "      <td>906.0</td>\n",
              "      <td>1</td>\n",
              "      <td>.AP.S.</td>\n",
              "      <td>normal</td>\n",
              "      <td>---</td>\n",
              "      <td>---</td>\n",
              "      <td>---</td>\n",
              "      <td>2</td>\n",
              "      <td>0</td>\n",
              "      <td>0</td>\n",
              "      <td>0</td>\n",
              "      <td>1</td>\n",
              "      <td>0</td>\n",
              "      <td>1</td>\n",
              "      <td>0</td>\n",
              "      <td>0</td>\n",
              "      <td>0</td>\n",
              "      <td>0</td>\n",
              "      <td>1</td>\n",
              "      <td>0</td>\n",
              "      <td>1</td>\n",
              "      <td>0</td>\n",
              "      <td>1</td>\n",
              "      <td>1</td>\n",
              "      <td>0</td>\n",
              "      <td>0</td>\n",
              "      <td>1</td>\n",
              "      <td>1</td>\n",
              "      <td>0</td>\n",
              "    </tr>\n",
              "    <tr>\n",
              "      <th>36</th>\n",
              "      <td>2017-03-15 00:01:18.457</td>\n",
              "      <td>0.170</td>\n",
              "      <td>10003_195</td>\n",
              "      <td>80</td>\n",
              "      <td>192.168.220.16</td>\n",
              "      <td>48286.0</td>\n",
              "      <td>3</td>\n",
              "      <td>908.0</td>\n",
              "      <td>1</td>\n",
              "      <td>.AP.S.</td>\n",
              "      <td>normal</td>\n",
              "      <td>---</td>\n",
              "      <td>---</td>\n",
              "      <td>---</td>\n",
              "      <td>2</td>\n",
              "      <td>0</td>\n",
              "      <td>0</td>\n",
              "      <td>0</td>\n",
              "      <td>1</td>\n",
              "      <td>0</td>\n",
              "      <td>0</td>\n",
              "      <td>0</td>\n",
              "      <td>0</td>\n",
              "      <td>1</td>\n",
              "      <td>0</td>\n",
              "      <td>1</td>\n",
              "      <td>0</td>\n",
              "      <td>1</td>\n",
              "      <td>0</td>\n",
              "      <td>1</td>\n",
              "      <td>1</td>\n",
              "      <td>0</td>\n",
              "      <td>0</td>\n",
              "      <td>1</td>\n",
              "      <td>1</td>\n",
              "      <td>0</td>\n",
              "    </tr>\n",
              "    <tr>\n",
              "      <th>30</th>\n",
              "      <td>2017-03-15 00:01:18.511</td>\n",
              "      <td>0.003</td>\n",
              "      <td>10002_113</td>\n",
              "      <td>443</td>\n",
              "      <td>192.168.220.16</td>\n",
              "      <td>49062.0</td>\n",
              "      <td>2</td>\n",
              "      <td>1089.0</td>\n",
              "      <td>1</td>\n",
              "      <td>.AP...</td>\n",
              "      <td>normal</td>\n",
              "      <td>---</td>\n",
              "      <td>---</td>\n",
              "      <td>---</td>\n",
              "      <td>2</td>\n",
              "      <td>0</td>\n",
              "      <td>0</td>\n",
              "      <td>0</td>\n",
              "      <td>1</td>\n",
              "      <td>0</td>\n",
              "      <td>0</td>\n",
              "      <td>0</td>\n",
              "      <td>0</td>\n",
              "      <td>1</td>\n",
              "      <td>0</td>\n",
              "      <td>1</td>\n",
              "      <td>0</td>\n",
              "      <td>1</td>\n",
              "      <td>0</td>\n",
              "      <td>1</td>\n",
              "      <td>1</td>\n",
              "      <td>0</td>\n",
              "      <td>1</td>\n",
              "      <td>0</td>\n",
              "      <td>1</td>\n",
              "      <td>0</td>\n",
              "    </tr>\n",
              "    <tr>\n",
              "      <th>46</th>\n",
              "      <td>2017-03-15 00:01:22.400</td>\n",
              "      <td>0.000</td>\n",
              "      <td>EXT_SERVER</td>\n",
              "      <td>8082</td>\n",
              "      <td>192.168.220.15</td>\n",
              "      <td>37039.0</td>\n",
              "      <td>1</td>\n",
              "      <td>212.0</td>\n",
              "      <td>1</td>\n",
              "      <td>.AP...</td>\n",
              "      <td>normal</td>\n",
              "      <td>---</td>\n",
              "      <td>---</td>\n",
              "      <td>---</td>\n",
              "      <td>2</td>\n",
              "      <td>0</td>\n",
              "      <td>0</td>\n",
              "      <td>0</td>\n",
              "      <td>1</td>\n",
              "      <td>0</td>\n",
              "      <td>0</td>\n",
              "      <td>0</td>\n",
              "      <td>0</td>\n",
              "      <td>1</td>\n",
              "      <td>0</td>\n",
              "      <td>1</td>\n",
              "      <td>0</td>\n",
              "      <td>1</td>\n",
              "      <td>0</td>\n",
              "      <td>1</td>\n",
              "      <td>1</td>\n",
              "      <td>0</td>\n",
              "      <td>1</td>\n",
              "      <td>0</td>\n",
              "      <td>1</td>\n",
              "      <td>0</td>\n",
              "    </tr>\n",
              "    <tr>\n",
              "      <th>51</th>\n",
              "      <td>2017-03-15 00:01:24.152</td>\n",
              "      <td>0.266</td>\n",
              "      <td>192.168.200.9</td>\n",
              "      <td>52290</td>\n",
              "      <td>EXT_SERVER</td>\n",
              "      <td>8082.0</td>\n",
              "      <td>2</td>\n",
              "      <td>319.0</td>\n",
              "      <td>1</td>\n",
              "      <td>.AP...</td>\n",
              "      <td>normal</td>\n",
              "      <td>---</td>\n",
              "      <td>---</td>\n",
              "      <td>---</td>\n",
              "      <td>2</td>\n",
              "      <td>0</td>\n",
              "      <td>0</td>\n",
              "      <td>0</td>\n",
              "      <td>1</td>\n",
              "      <td>0</td>\n",
              "      <td>1</td>\n",
              "      <td>0</td>\n",
              "      <td>0</td>\n",
              "      <td>0</td>\n",
              "      <td>0</td>\n",
              "      <td>1</td>\n",
              "      <td>0</td>\n",
              "      <td>1</td>\n",
              "      <td>0</td>\n",
              "      <td>1</td>\n",
              "      <td>1</td>\n",
              "      <td>0</td>\n",
              "      <td>1</td>\n",
              "      <td>0</td>\n",
              "      <td>1</td>\n",
              "      <td>0</td>\n",
              "    </tr>\n",
              "  </tbody>\n",
              "</table>\n",
              "</div>"
            ],
            "text/plain": [
              "           Date first seen  Duration  ... Flag_6_.  Flag_6_F\n",
              "23 2017-03-15 00:01:17.728     0.047  ...        1         0\n",
              "36 2017-03-15 00:01:18.457     0.170  ...        1         0\n",
              "30 2017-03-15 00:01:18.511     0.003  ...        1         0\n",
              "46 2017-03-15 00:01:22.400     0.000  ...        1         0\n",
              "51 2017-03-15 00:01:24.152     0.266  ...        1         0\n",
              "\n",
              "[5 rows x 36 columns]"
            ]
          },
          "metadata": {
            "tags": []
          },
          "execution_count": 41
        }
      ]
    },
    {
      "cell_type": "code",
      "metadata": {
        "id": "rQAYLOWq68uw",
        "colab_type": "code",
        "outputId": "bb546d07-6489-4e34-fb1d-0dab56f6b143",
        "colab": {
          "base_uri": "https://localhost:8080/",
          "height": 271
        }
      },
      "source": [
        "\n",
        "X_train,  X_test, y_train, y_test = train_test_split(\n",
        "    df_one_hot.drop(['Date first seen','Src IP Addr','Src Pt','Dst IP Addr','Dst Pt','Flags','class','attackType','attackID','attackDescription'],axis=1),\n",
        "    df_one_hot[['class']], \n",
        "    test_size=0.20\n",
        ")\n",
        "\n",
        "import graphviz\n",
        "from sklearn.tree import DecisionTreeClassifier, export_graphviz\n",
        "# define the classifier\n",
        "clf_dt = DecisionTreeClassifier(max_depth=7)\n",
        "\n",
        "# train the classifier\n",
        "t0 = time.time()\n",
        "clf_dt.fit(X_train, y_train)\n",
        "print(\"elapsed time = %.2f\" % (time.time()-t0))\n",
        "\n",
        "# perform the prediction\n",
        "y_pred_dt_at = clf_dt.predict(X_test)\n",
        "\n",
        "\n",
        "print(\"accuracy: {}\".format(metrics.accuracy_score(y_test, y_pred_dt_at)))\n",
        "print(\"precision: {:g}\".format(metrics.precision_score(y_test, y_pred_dt_at, average='macro')))\n",
        "print(\"recall: {:g}\".format(metrics.recall_score(y_test, y_pred_dt_at, average='macro')))\n",
        "print(metrics.classification_report(y_test, y_pred_dt_at))"
      ],
      "execution_count": 42,
      "outputs": [
        {
          "output_type": "stream",
          "text": [
            "elapsed time = 2.80\n",
            "accuracy: 0.997361430743473\n",
            "precision: 0.992327\n",
            "recall: 0.995525\n",
            "              precision    recall  f1-score   support\n",
            "\n",
            "    attacker       1.00      0.99      0.99     14995\n",
            "      normal       1.00      1.00      1.00    139996\n",
            "      victim       0.98      1.00      0.99     14040\n",
            "\n",
            "    accuracy                           1.00    169031\n",
            "   macro avg       0.99      1.00      0.99    169031\n",
            "weighted avg       1.00      1.00      1.00    169031\n",
            "\n"
          ],
          "name": "stdout"
        }
      ]
    },
    {
      "cell_type": "markdown",
      "metadata": {
        "id": "DwanBmXa69DE",
        "colab_type": "text"
      },
      "source": [
        "- Source IP addresses can be one of four categories (code in the appendix can be used to map IP addresses to the categories). Are the categories useful features?"
      ]
    },
    {
      "cell_type": "code",
      "metadata": {
        "id": "mxzvYKE869ag",
        "colab_type": "code",
        "outputId": "5aebd65b-34b9-4f28-b9c8-0b1b75094657",
        "colab": {
          "base_uri": "https://localhost:8080/",
          "height": 271
        }
      },
      "source": [
        "def get_IP_category(ip_addr):\n",
        "  if ip_addr == 'DNS':\n",
        "    return 'DNS'\n",
        "  elif ip_addr == 'EXT_SERVER':\n",
        "    return 'EXT_SERVER'\n",
        "  elif len(ip_addr.split('.')) == 4:\n",
        "    return 'private'\n",
        "  elif len(ip_addr.split('_')) == 2:\n",
        "    return 'public'\n",
        "  else:\n",
        "    return '-'\n",
        "\n",
        "df_one_hot['Src IP Addr Cat']= df_one_hot['Src IP Addr'].apply(lambda x: get_IP_category(x))\n",
        "df_one_hot = pd.get_dummies(df_one_hot, columns=['Src IP Addr Cat'])\n",
        "\n",
        "from sklearn.model_selection import train_test_split\n",
        "\n",
        "X_train,  X_test, y_train, y_test = train_test_split(\n",
        "    df_one_hot.drop(['Date first seen','Src Pt','Src IP Addr','Dst IP Addr','Dst Pt','Flags','class','attackType','attackID','attackDescription'],axis=1),\n",
        "    df_one_hot[['class']], \n",
        "    test_size=0.20\n",
        ")\n",
        "import graphviz\n",
        "from sklearn.tree import DecisionTreeClassifier, export_graphviz\n",
        "# define the classifier\n",
        "clf_dt = DecisionTreeClassifier(max_depth=7)\n",
        "\n",
        "# train the classifier\n",
        "t0 = time.time()\n",
        "clf_dt.fit(X_train, y_train)\n",
        "print(\"elapsed time = %.2f\" % (time.time()-t0))\n",
        "\n",
        "# perform the prediction\n",
        "y_pred_dt_at = clf_dt.predict(X_test)\n",
        "\n",
        "print(\"accuracy: {}\".format(metrics.accuracy_score(y_test, y_pred_dt_at)))\n",
        "print(\"precision: {:g}\".format(metrics.precision_score(y_test, y_pred_dt_at, average='macro')))\n",
        "print(\"recall: {:g}\".format(metrics.recall_score(y_test, y_pred_dt_at, average='macro')))\n",
        "print(metrics.classification_report(y_test, y_pred_dt_at))"
      ],
      "execution_count": 43,
      "outputs": [
        {
          "output_type": "stream",
          "text": [
            "elapsed time = 3.00\n",
            "accuracy: 0.9977104791428791\n",
            "precision: 0.993596\n",
            "recall: 0.995854\n",
            "              precision    recall  f1-score   support\n",
            "\n",
            "    attacker       1.00      0.99      1.00     14985\n",
            "      normal       1.00      1.00      1.00    140231\n",
            "      victim       0.98      1.00      0.99     13815\n",
            "\n",
            "    accuracy                           1.00    169031\n",
            "   macro avg       0.99      1.00      0.99    169031\n",
            "weighted avg       1.00      1.00      1.00    169031\n",
            "\n"
          ],
          "name": "stdout"
        }
      ]
    },
    {
      "cell_type": "markdown",
      "metadata": {
        "id": "57gFTqscTTyc",
        "colab_type": "text"
      },
      "source": [
        "Yes,not so much, but still.. \n",
        "\n",
        "---\n",
        "\n"
      ]
    },
    {
      "cell_type": "markdown",
      "metadata": {
        "id": "0VcGzFYf_wt8",
        "colab_type": "text"
      },
      "source": [
        "### Creating counts\n",
        "- When detecting a Denial of Service (DoS) or portScan attack, counts of the number of requests from the same Source IP Address within a given time window could be an important feature. (For a DDoS attack, the same may be true of Destination IP Addresses.)\n"
      ]
    },
    {
      "cell_type": "markdown",
      "metadata": {
        "id": "-2R0c7x56qLQ",
        "colab_type": "text"
      },
      "source": [
        "- Try adding one or more count fields to the dataset using the code from the Appendix.\n"
      ]
    },
    {
      "cell_type": "code",
      "metadata": {
        "id": "-kejylby6qfk",
        "colab_type": "code",
        "outputId": "7394baae-02a0-4767-8845-9859fcfa4123",
        "colab": {
          "base_uri": "https://localhost:8080/",
          "height": 271
        }
      },
      "source": [
        "df_one_hot['Cum Count Src IP Addr (10seconds)'] = df_one_hot.groupby(['Src IP Addr', pd.Grouper(freq='10S',\n",
        "key='Date first seen')]).cumcount()\n",
        "df_one_hot['Cum Count Src IP Addr (20seconds)'] = df_one_hot.groupby(['Src IP Addr', pd.Grouper(freq='20S',\n",
        "key='Date first seen')]).cumcount()\n",
        "df_one_hot['Cum Count Src IP Addr (60seconds)'] = df_one_hot.groupby(['Src IP Addr', pd.Grouper(freq='60S',\n",
        "key='Date first seen')]).cumcount()\n",
        "\n",
        "\n",
        "X_train,  X_test, y_train, y_test = train_test_split(\n",
        "    df_one_hot.drop(['Date first seen','Src Pt','Src IP Addr','Dst IP Addr','Dst Pt','Flags','class','attackType','attackID','attackDescription'],axis=1),\n",
        "    df_one_hot[['class']], \n",
        "    test_size=0.20\n",
        ")\n",
        "\n",
        "from sklearn.tree import DecisionTreeClassifier\n",
        "# define the classifier\n",
        "clf_dt = DecisionTreeClassifier(max_depth=7)\n",
        "\n",
        "# train the classifier\n",
        "t0 = time.time()\n",
        "clf_dt.fit(X_train, y_train)\n",
        "print(\"elapsed time = %.2f\" % (time.time()-t0))\n",
        "\n",
        "# perform the prediction\n",
        "y_pred_dt_at = clf_dt.predict(X_test)\n",
        "\n",
        "print(\"accuracy: {}\".format(metrics.accuracy_score(y_test, y_pred_dt_at)))\n",
        "print(\"precision: {:g}\".format(metrics.precision_score(y_test, y_pred_dt_at, average='macro')))\n",
        "print(\"recall: {:g}\".format(metrics.recall_score(y_test, y_pred_dt_at, average='macro')))\n",
        "print(metrics.classification_report(y_test, y_pred_dt_at))"
      ],
      "execution_count": 44,
      "outputs": [
        {
          "output_type": "stream",
          "text": [
            "elapsed time = 3.91\n",
            "accuracy: 0.9957818388342967\n",
            "precision: 0.994717\n",
            "recall: 0.986727\n",
            "              precision    recall  f1-score   support\n",
            "\n",
            "    attacker       1.00      0.98      0.99     14933\n",
            "      normal       1.00      1.00      1.00    140218\n",
            "      victim       0.99      0.98      0.98     13880\n",
            "\n",
            "    accuracy                           1.00    169031\n",
            "   macro avg       0.99      0.99      0.99    169031\n",
            "weighted avg       1.00      1.00      1.00    169031\n",
            "\n"
          ],
          "name": "stdout"
        }
      ]
    },
    {
      "cell_type": "markdown",
      "metadata": {
        "id": "foX7dwDj6qz4",
        "colab_type": "text"
      },
      "source": [
        "- Does the count field improve performance of the classifiers? What window or windows make sense?"
      ]
    },
    {
      "cell_type": "code",
      "metadata": {
        "id": "lPGjMaTX6rB8",
        "colab_type": "code",
        "outputId": "8ee6b177-4a88-45ef-d96b-fed22a3a8786",
        "colab": {
          "base_uri": "https://localhost:8080/",
          "height": 780
        }
      },
      "source": [
        "# Not all of them\n",
        "#let's see for each one of them\n",
        "X_train,  X_test, y_train, y_test = train_test_split(\n",
        "    df_one_hot.drop(['Cum Count Src IP Addr (20seconds)','Cum Count Src IP Addr (60seconds)','Date first seen','Src Pt','Src IP Addr','Dst IP Addr','Dst Pt','Flags','class','attackType','attackID','attackDescription'],axis=1),\n",
        "    df_one_hot[['class']], \n",
        "    test_size=0.20\n",
        ")\n",
        "from sklearn.tree import DecisionTreeClassifier\n",
        "# define the classifier\n",
        "clf_dt = DecisionTreeClassifier(max_depth=7)\n",
        "# train the classifier\n",
        "t0 = time.time()\n",
        "clf_dt.fit(X_train, y_train)\n",
        "print(\"elapsed time = %.2f\" % (time.time()-t0))\n",
        "# perform the prediction\n",
        "y_pred_dt_at = clf_dt.predict(X_test)\n",
        "print(\"accuracy: {}\".format(metrics.accuracy_score(y_test, y_pred_dt_at)))\n",
        "print(\"precision: {:g}\".format(metrics.precision_score(y_test, y_pred_dt_at, average='macro')))\n",
        "print(\"recall: {:g}\".format(metrics.recall_score(y_test, y_pred_dt_at, average='macro')))\n",
        "print(metrics.classification_report(y_test, y_pred_dt_at))\n",
        "\n",
        "X_train,  X_test, y_train, y_test = train_test_split(\n",
        "    df_one_hot.drop(['Cum Count Src IP Addr (10seconds)','Cum Count Src IP Addr (60seconds)','Date first seen','Src Pt','Src IP Addr','Dst IP Addr','Dst Pt','Flags','class','attackType','attackID','attackDescription'],axis=1),\n",
        "    df_one_hot[['class']], \n",
        "    test_size=0.20\n",
        ")\n",
        "from sklearn.tree import DecisionTreeClassifier\n",
        "# define the classifier\n",
        "clf_dt = DecisionTreeClassifier(max_depth=7)\n",
        "# train the classifier\n",
        "t0 = time.time()\n",
        "clf_dt.fit(X_train, y_train)\n",
        "print(\"elapsed time = %.2f\" % (time.time()-t0))\n",
        "# perform the prediction\n",
        "y_pred_dt_at = clf_dt.predict(X_test)\n",
        "print(\"accuracy: {}\".format(metrics.accuracy_score(y_test, y_pred_dt_at)))\n",
        "print(\"precision: {:g}\".format(metrics.precision_score(y_test, y_pred_dt_at, average='macro')))\n",
        "print(\"recall: {:g}\".format(metrics.recall_score(y_test, y_pred_dt_at, average='macro')))\n",
        "print(metrics.classification_report(y_test, y_pred_dt_at))\n",
        "\n",
        "X_train,  X_test, y_train, y_test = train_test_split(\n",
        "    df_one_hot.drop(['Cum Count Src IP Addr (10seconds)','Cum Count Src IP Addr (20seconds)','Date first seen','Src Pt','Src IP Addr','Dst IP Addr','Dst Pt','Flags','class','attackType','attackID','attackDescription'],axis=1),\n",
        "    df_one_hot[['class']], \n",
        "    test_size=0.20\n",
        ")\n",
        "from sklearn.tree import DecisionTreeClassifier\n",
        "# define the classifier\n",
        "clf_dt = DecisionTreeClassifier(max_depth=7)\n",
        "# train the classifier\n",
        "t0 = time.time()\n",
        "clf_dt.fit(X_train, y_train)\n",
        "print(\"elapsed time = %.2f\" % (time.time()-t0))\n",
        "# perform the prediction\n",
        "y_pred_dt_at = clf_dt.predict(X_test)\n",
        "print(\"accuracy: {}\".format(metrics.accuracy_score(y_test, y_pred_dt_at)))\n",
        "print(\"precision: {:g}\".format(metrics.precision_score(y_test, y_pred_dt_at, average='macro')))\n",
        "print(\"recall: {:g}\".format(metrics.recall_score(y_test, y_pred_dt_at, average='macro')))\n",
        "print(metrics.classification_report(y_test, y_pred_dt_at))"
      ],
      "execution_count": 45,
      "outputs": [
        {
          "output_type": "stream",
          "text": [
            "elapsed time = 3.48\n",
            "accuracy: 0.9946991971886814\n",
            "precision: 0.983995\n",
            "recall: 0.983306\n",
            "              precision    recall  f1-score   support\n",
            "\n",
            "    attacker       1.00      0.96      0.98     14739\n",
            "      normal       1.00      1.00      1.00    140383\n",
            "      victim       0.96      0.99      0.97     13909\n",
            "\n",
            "    accuracy                           0.99    169031\n",
            "   macro avg       0.98      0.98      0.98    169031\n",
            "weighted avg       0.99      0.99      0.99    169031\n",
            "\n",
            "elapsed time = 3.41\n",
            "accuracy: 0.9948175186800055\n",
            "precision: 0.984445\n",
            "recall: 0.984102\n",
            "              precision    recall  f1-score   support\n",
            "\n",
            "    attacker       1.00      0.96      0.98     15076\n",
            "      normal       1.00      1.00      1.00    139908\n",
            "      victim       0.96      1.00      0.98     14047\n",
            "\n",
            "    accuracy                           0.99    169031\n",
            "   macro avg       0.98      0.98      0.98    169031\n",
            "weighted avg       0.99      0.99      0.99    169031\n",
            "\n",
            "elapsed time = 3.21\n",
            "accuracy: 0.9980891079151162\n",
            "precision: 0.99517\n",
            "recall: 0.99649\n",
            "              precision    recall  f1-score   support\n",
            "\n",
            "    attacker       1.00      0.99      1.00     15099\n",
            "      normal       1.00      1.00      1.00    139961\n",
            "      victim       0.99      1.00      0.99     13971\n",
            "\n",
            "    accuracy                           1.00    169031\n",
            "   macro avg       1.00      1.00      1.00    169031\n",
            "weighted avg       1.00      1.00      1.00    169031\n",
            "\n"
          ],
          "name": "stdout"
        }
      ]
    },
    {
      "cell_type": "markdown",
      "metadata": {
        "id": "8NKkhW8i_wt8",
        "colab_type": "text"
      },
      "source": [
        "### Think about other analysis you could perform on the data:\n",
        "- What other features might be interesting? Try to compute them by modifying the code in the Appendix.\n"
      ]
    },
    {
      "cell_type": "code",
      "metadata": {
        "id": "uGETlvEf_wt8",
        "colab_type": "code",
        "outputId": "0f6e13d9-a5aa-413d-dd96-b7ac2179abae",
        "colab": {
          "base_uri": "https://localhost:8080/",
          "height": 271
        }
      },
      "source": [
        "#add features \n",
        "#possible feature is weekday or weekend\n",
        "\n",
        "X_train,  X_test, y_train, y_test = train_test_split(\n",
        "    df_one_hot.drop(['Date first seen','Src IP Addr','Dst IP Addr','Flags','class','attackType','attackID','attackDescription'],axis=1),\n",
        "    df_one_hot[['class']], \n",
        "    test_size=0.20\n",
        ")\n",
        "\n",
        "# define the classifier\n",
        "clf_dt = DecisionTreeClassifier(max_depth=7)\n",
        "\n",
        "# train the classifier\n",
        "t0 = time.time()\n",
        "clf_dt.fit(X_train, y_train)\n",
        "print(\"elapsed time = %.2f\" % (time.time()-t0))\n",
        "\n",
        "# perform the prediction\n",
        "y_pred_dt_at = clf_dt.predict(X_test)\n",
        "\n",
        "print(\"accuracy: {}\".format(metrics.accuracy_score(y_test, y_pred_dt_at)))\n",
        "print(\"precision: {:g}\".format(metrics.precision_score(y_test, y_pred_dt_at, average='macro')))\n",
        "print(\"recall: {:g}\".format(metrics.recall_score(y_test, y_pred_dt_at, average='macro')))\n",
        "print(metrics.classification_report(y_test, y_pred_dt_at))"
      ],
      "execution_count": 46,
      "outputs": [
        {
          "output_type": "stream",
          "text": [
            "elapsed time = 4.55\n",
            "accuracy: 0.9967047464666244\n",
            "precision: 0.997424\n",
            "recall: 0.988442\n",
            "              precision    recall  f1-score   support\n",
            "\n",
            "    attacker       1.00      0.98      0.99     15007\n",
            "      normal       1.00      1.00      1.00    140026\n",
            "      victim       1.00      0.98      0.99     13998\n",
            "\n",
            "    accuracy                           1.00    169031\n",
            "   macro avg       1.00      0.99      0.99    169031\n",
            "weighted avg       1.00      1.00      1.00    169031\n",
            "\n"
          ],
          "name": "stdout"
        }
      ]
    },
    {
      "cell_type": "markdown",
      "metadata": {
        "id": "mn6fA_0LpYFo",
        "colab_type": "text"
      },
      "source": [
        "Now that we have all this features we could see the feature importance to see what are the mst relevant and see if our assertions are true"
      ]
    },
    {
      "cell_type": "code",
      "metadata": {
        "id": "JQ65rx9fLYe4",
        "colab_type": "code",
        "outputId": "40524982-c535-4d2f-a56b-3b426d5add66",
        "colab": {
          "base_uri": "https://localhost:8080/",
          "height": 617
        }
      },
      "source": [
        "sorted(zip(clf_dt.feature_importances_,df_one_hot.drop(['Date first seen','Src Pt','Src IP Addr','Dst IP Addr','Dst Pt','Flags','class','attackType','attackID','attackDescription'],axis=1).columns ),reverse=True)"
      ],
      "execution_count": 47,
      "outputs": [
        {
          "output_type": "execute_result",
          "data": {
            "text/plain": [
              "[(0.24906300938599454, 'Packets'),\n",
              " (0.060035500957884284, 'Flag_3_P'),\n",
              " (0.029443761648259893, 'Day of week'),\n",
              " (0.016121949124415776, 'Flag_5_S'),\n",
              " (0.014276047613046008, 'Bytes'),\n",
              " (0.01388079159684134, 'Flag_6_.'),\n",
              " (0.0064927161662021405, 'Cum Count Src IP Addr (10seconds)'),\n",
              " (0.0045202613259276644, 'Cum Count Src IP Addr (60seconds)'),\n",
              " (0.0018092754959156852, 'Flows'),\n",
              " (0.0016522544881692378, 'Cum Count Src IP Addr (20seconds)'),\n",
              " (0.001024735059649054, 'Flag_6_F'),\n",
              " (0.0009874247525671616, 'Tos_16'),\n",
              " (0.0001864546943420255, 'Duration'),\n",
              " (0.0001224770837269523, 'Proto_IGMP '),\n",
              " (3.0386032441026343e-05, 'Tos_12'),\n",
              " (2.6899591673782852e-05, 'Proto_UDP  '),\n",
              " (2.002032801861886e-05, 'Src IP Addr Cat_EXT_SERVER'),\n",
              " (0.0, 'Tos_32'),\n",
              " (0.0, 'Tos_192'),\n",
              " (0.0, 'Tos_0'),\n",
              " (0.0, 'Time of day'),\n",
              " (0.0, 'Src IP Addr Cat_public'),\n",
              " (0.0, 'Src IP Addr Cat_private'),\n",
              " (0.0, 'Src IP Addr Cat_DNS'),\n",
              " (0.0, 'Proto_TCP  '),\n",
              " (0.0, 'Proto_ICMP '),\n",
              " (0.0, 'Flag_5_.'),\n",
              " (0.0, 'Flag_4_R'),\n",
              " (0.0, 'Flag_4_.'),\n",
              " (0.0, 'Flag_3_.'),\n",
              " (0.0, 'Flag_2_A'),\n",
              " (0.0, 'Flag_2_.'),\n",
              " (0.0, 'Flag_1_.')]"
            ]
          },
          "metadata": {
            "tags": []
          },
          "execution_count": 47
        }
      ]
    },
    {
      "cell_type": "markdown",
      "metadata": {
        "id": "E0FgoJPy6ggg",
        "colab_type": "text"
      },
      "source": [
        "- Try running some other analysis like clustering on the data."
      ]
    },
    {
      "cell_type": "code",
      "metadata": {
        "id": "Iq818laVefRE",
        "colab_type": "code",
        "outputId": "73488a8b-ffa9-4bca-aa82-c78c6b1b7170",
        "colab": {
          "base_uri": "https://localhost:8080/",
          "height": 671
        }
      },
      "source": [
        "from sklearn.cluster import (\n",
        "    KMeans\n",
        ")\n",
        "from sklearn.metrics import (\n",
        "    homogeneity_score,\n",
        "    completeness_score,\n",
        "    v_measure_score\n",
        ")\n",
        "\n",
        "kmeans = KMeans(n_clusters=3).fit(\n",
        "    df_one_hot.drop(['Date first seen','Src IP Addr','Dst IP Addr','Flags','class','attackType','attackID','attackDescription'],axis=1),\n",
        ")\n",
        "print(kmeans.cluster_centers_)\n",
        "df_one_hot['cluster'] = kmeans.labels_\n",
        "print(df_one_hot.groupby(['cluster', 'class']).size().reset_index().sort_values(['cluster', 'class']))\n",
        "\n",
        "predicted_clusters = df_one_hot['cluster'].values\n",
        "true_labels = df_one_hot['class'].values\n",
        "print(homogeneity_score(true_labels, predicted_clusters))\n",
        "print(completeness_score(true_labels, predicted_clusters))\n",
        "print(v_measure_score(true_labels, predicted_clusters))\n",
        "\n",
        "#agg = AgglomerativeClustering(n_clusters=3).fit(\n",
        "#    df_one_hot.drop(['Date first seen','Src IP Addr','Dst IP Addr','Flags','class','attackType','attackID','attackDescription'],axis=1),\n",
        "#)\n",
        "\n",
        "#df_one_hot['cluster'] = agg.labels_\n",
        "#df_one_hot['cluster'] = agg.labels_print(df_one_hot.groupby(['cluster', 'class']).size().reset_index().sort_values(['cluster', 'class']))\n",
        "\n",
        "#predicted_clusters = df_one_hot['cluster'].values\n",
        "#true_labels = df_one_hot['class'].values\n",
        "#print(homogeneity_score(true_labels, predicted_clusters))\n",
        "#print(completeness_score(true_labels, predicted_clusters))\n",
        "#print(v_measure_score(true_labels, predicted_clusters))"
      ],
      "execution_count": 48,
      "outputs": [
        {
          "output_type": "stream",
          "text": [
            "[[ 1.11683420e-01  2.46043220e+04  2.42288873e+04  1.05068767e+01\n",
            "   4.84508020e+03  1.00000000e+00  2.19666834e+00  1.23738396e+01\n",
            "   1.27203430e-03  3.43153438e-05  8.74747812e-01  1.23945839e-01\n",
            "   7.18842555e-01  1.18328772e-06  1.05312607e-04  2.80594200e-01\n",
            "   4.56749059e-04  1.00000000e+00  1.44826134e-01  8.55173866e-01\n",
            "   6.40326682e-01  3.59673318e-01  9.77820455e-01  2.21795450e-02\n",
            "   6.86269011e-01  3.13730989e-01  7.17620219e-01  2.82379781e-01\n",
            "   5.79704486e-02  9.81418833e-03  6.09058304e-01  3.23157059e-01\n",
            "   4.87038621e+01  9.17598849e+01  2.27062724e+02]\n",
            " [ 4.39598519e+01  1.92684815e+04  2.93135185e+04  1.01813593e+05\n",
            "   3.17840741e+08  1.00000000e+00  1.96296296e+00  1.23703704e+01\n",
            "   2.16840434e-19  6.77626358e-21  1.00000000e+00  4.16333634e-17\n",
            "   1.00000000e+00 -2.11758237e-22  4.06575815e-20 -1.11022302e-16\n",
            "   0.00000000e+00  1.00000000e+00 -8.32667268e-17  1.00000000e+00\n",
            "   1.11022302e-16  1.00000000e+00  1.00000000e+00  1.38777878e-17\n",
            "   1.00000000e+00  0.00000000e+00  1.00000000e+00  1.11022302e-16\n",
            "   2.08166817e-17  0.00000000e+00  1.00000000e+00  5.55111512e-17\n",
            "   2.96296296e-01  3.33333333e-01  2.00000000e+00]\n",
            " [ 2.91336364e+01  3.51067273e+04  1.28545909e+04  4.39325000e+04\n",
            "   1.31022727e+08  1.00000000e+00  1.90909091e+00  1.37272727e+01\n",
            "   6.50521303e-19  6.77626358e-21  1.00000000e+00  4.16333634e-17\n",
            "   1.00000000e+00 -2.11758237e-22  1.35525272e-20 -1.11022302e-16\n",
            "   0.00000000e+00  1.00000000e+00 -8.32667268e-17  1.00000000e+00\n",
            "   1.11022302e-16  1.00000000e+00  1.00000000e+00  1.38777878e-17\n",
            "   1.00000000e+00  5.55111512e-17  1.00000000e+00  1.11022302e-16\n",
            "   2.08166817e-17  0.00000000e+00  1.00000000e+00  5.55111512e-17\n",
            "   2.13162821e-14  4.54545455e-02  1.81818182e-01]]\n",
            "   cluster     class       0\n",
            "0        0  attacker   75124\n",
            "1        0    normal  700464\n",
            "2        0    victim   69515\n",
            "3        1    normal      27\n",
            "4        2    normal      22\n",
            "1.888799141529431e-05\n",
            "0.016403368086458134\n",
            "3.773253493670455e-05\n"
          ],
          "name": "stdout"
        }
      ]
    },
    {
      "cell_type": "code",
      "metadata": {
        "id": "v4krzg18JfNg",
        "colab_type": "code",
        "colab": {
          "base_uri": "https://localhost:8080/",
          "height": 1000
        },
        "outputId": "2539fc1e-aa0b-44b2-9a2a-5508abd7ff92"
      },
      "source": [
        "from mpl_toolkits.mplot3d import Axes3D  \n",
        "from sklearn.pipeline import Pipeline\n",
        "from sklearn.decomposition import PCA\n",
        "from sklearn.preprocessing import StandardScaler\n",
        "\n",
        "pca = PCA(n_components=2)\n",
        "pipe = Pipeline([('scaler', StandardScaler()), ('dim-red', pca)])\n",
        "Xt = pipe.fit_transform(df_one_hot.drop(['Date first seen','Src IP Addr','Dst IP Addr','Flags','class','attackType','attackID','attackDescription'],axis=1))\n",
        "kmeans = KMeans(n_clusters=3).fit(\n",
        "    Xt\n",
        ")\n",
        "clusters = kmeans.predict(Xt)\n",
        "\n",
        "fig, ax = plt.subplots(figsize=(17, 17))\n",
        "ax.scatter(*Xt.T,c=clusters)\n",
        "ax.scatter(*kmeans.cluster_centers_.T,c='red')\n",
        "ax.set_xlabel('$\\\\xi_1$')\n",
        "ax.set_ylabel('$\\\\xi_2$')\n",
        "plt.show()\n",
        "\n",
        "pca = PCA(n_components=3)\n",
        "pipe = Pipeline([('scaler', StandardScaler()), ('dim-red', pca)])\n",
        "Xt = pipe.fit_transform(df_one_hot.drop(['Date first seen','Src IP Addr','Dst IP Addr','Flags','class','attackType','attackID','attackDescription'],axis=1))\n",
        "kmeans = KMeans(n_clusters=3).fit(\n",
        "    Xt\n",
        ")\n",
        "clusters = kmeans.predict(Xt)\n",
        "\n",
        "fig = plt.figure(figsize=(17, 17))\n",
        "ax = fig.add_subplot( projection='3d')\n",
        "ax.scatter(*Xt.T,c=clusters)\n",
        "ax.scatter(*kmeans.cluster_centers_.T,c='red',s=1000)\n",
        "ax.set_xlabel('$\\\\xi_1$')\n",
        "ax.set_ylabel('$\\\\xi_2$')\n",
        "ax.view_init(30,65)\n",
        "plt.show()"
      ],
      "execution_count": 71,
      "outputs": [
        {
          "output_type": "display_data",
          "data": {
            "image/png": "[encoded data removed]",
            "text/plain": [
              "<Figure size 1224x1224 with 1 Axes>"
            ]
          },
          "metadata": {
            "tags": []
          }
        },
        {
          "output_type": "display_data",
          "data": {
            "image/png": "[encoded data removed]",
            "text/plain": [
              "<Figure size 1224x1224 with 1 Axes>"
            ]
          },
          "metadata": {
            "tags": []
          }
        }
      ]
    },
    {
      "cell_type": "markdown",
      "metadata": {
        "id": "SCPQ3esD_wt8",
        "colab_type": "text"
      },
      "source": [
        "# APPENDIX\n",
        "Some code to help with some of the tasks in part 1 of the assignment:\n",
        "- Converting column from string to datetime format:"
      ]
    },
    {
      "cell_type": "code",
      "metadata": {
        "id": "HC_Dof4U_wt8",
        "colab_type": "code",
        "colab": {}
      },
      "source": [
        "#df1['Date first seen'] = pd.to_datetime(df1['Date first seen'])"
      ],
      "execution_count": 0,
      "outputs": []
    },
    {
      "cell_type": "markdown",
      "metadata": {
        "id": "7_kNUWVb_wt8",
        "colab_type": "text"
      },
      "source": [
        "Getting time-of-day and day-of-week features from datetime object:"
      ]
    },
    {
      "cell_type": "code",
      "metadata": {
        "id": "kut1Soxr_wt8",
        "colab_type": "code",
        "colab": {}
      },
      "source": [
        "#df1['Date first seen'].dt.dayofweek\n",
        "#df1['Date first seen'].dt.hour"
      ],
      "execution_count": 0,
      "outputs": []
    },
    {
      "cell_type": "markdown",
      "metadata": {
        "id": "ak6mOrUm_wt8",
        "colab_type": "text"
      },
      "source": [
        "Splitting the Flags field into separate fields:"
      ]
    },
    {
      "cell_type": "code",
      "metadata": {
        "id": "XX9K-KDO_wt8",
        "colab_type": "code",
        "colab": {}
      },
      "source": [
        "#df1[\"Flag_1\"] = [x[0] for x in df1[\"Flags\"]]\n",
        "#df1[\"Flag_2\"] = [x[1] for x in df1[\"Flags\"]]\n",
        "#df1[\"Flag_3\"] = [x[2] for x in df1[\"Flags\"]]\n",
        "#df1[\"Flag_4\"] = [x[3] for x in df1[\"Flags\"]]\n",
        "#df1[\"Flag_5\"] = [x[4] for x in df1[\"Flags\"]]\n",
        "#df1[\"Flag_6\"] = [x[5] for x in df1[\"Flags\"]]"
      ],
      "execution_count": 0,
      "outputs": []
    },
    {
      "cell_type": "markdown",
      "metadata": {
        "id": "ssZ1BCcL_wt8",
        "colab_type": "text"
      },
      "source": [
        "Code for assigning Source IPs to 4 categories:"
      ]
    },
    {
      "cell_type": "code",
      "metadata": {
        "id": "tUZ2aFI-_wt8",
        "colab_type": "code",
        "colab": {}
      },
      "source": [
        "#def get_IP_category(ip_addr):\n",
        "#if ip_addr == 'DNS':\n",
        "#return 'DNS'\n",
        "#elif ip_addr == 'EXT_SERVER':\n",
        "#return 'EXT_SERVER'\n",
        "#elif len(ip_addr.split('.')) == 4:\n",
        "#return 'private'\n",
        "#elif len(ip_addr.split('_')) == 2:\n",
        "#return 'public'\n",
        "#else:\n",
        "#return '-'"
      ],
      "execution_count": 0,
      "outputs": []
    },
    {
      "cell_type": "markdown",
      "metadata": {
        "id": "zf-ueqZc_wt8",
        "colab_type": "text"
      },
      "source": [
        "Create new column with count of requests from same ‘Src IP Addr’ over the last 10 seconds:"
      ]
    },
    {
      "cell_type": "code",
      "metadata": {
        "id": "xkhreRiR_wvg",
        "colab_type": "code",
        "colab": {}
      },
      "source": [
        "#df1['Cum Count Src IP Addr (10seconds)'] = df1.groupby(['Src IP Addr', pd.Grouper(freq='10S',\n",
        "#key='Date first seen')]).cumcount()"
      ],
      "execution_count": 0,
      "outputs": []
    },
    {
      "cell_type": "markdown",
      "metadata": {
        "id": "5CcQPpNV_wvg",
        "colab_type": "text"
      },
      "source": [
        "#*Sara Imbeni*"
      ]
    },
    {
      "cell_type": "markdown",
      "metadata": {
        "id": "wez42W5e_wvg",
        "colab_type": "text"
      },
      "source": [
        "# *Giacomo Minello*"
      ]
    },
    {
      "cell_type": "markdown",
      "metadata": {
        "id": "o5A6jHiy_wvg",
        "colab_type": "text"
      },
      "source": [
        "#*Utkan Peker*"
      ]
    }
  ]
}